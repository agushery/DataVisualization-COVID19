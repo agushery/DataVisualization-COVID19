{
  "nbformat": 4,
  "nbformat_minor": 0,
  "metadata": {
    "colab": {
      "name": "Data_Visualization_Final.ipynb",
      "provenance": [],
      "collapsed_sections": [
        "uzJIZnsY6YTf",
        "FzVWpCGA7QeD",
        "i3KOX8gh8fni",
        "U0YsoFzF5221",
        "_hx-5vN-LHou",
        "-UTJVcZd3dS-",
        "9sL0DCSBOsgy",
        "vo5ZtBSn1W19",
        "Q-aD4gsx1W2A"
      ],
      "include_colab_link": true
    },
    "kernelspec": {
      "display_name": "Python 3",
      "language": "python",
      "name": "python3"
    },
    "language_info": {
      "codemirror_mode": {
        "name": "ipython",
        "version": 3
      },
      "file_extension": ".py",
      "mimetype": "text/x-python",
      "name": "python",
      "nbconvert_exporter": "python",
      "pygments_lexer": "ipython3",
      "version": "3.8.5"
    }
  },
  "cells": [
    {
      "cell_type": "markdown",
      "metadata": {
        "id": "view-in-github",
        "colab_type": "text"
      },
      "source": [
        "<a href=\"https://colab.research.google.com/github/agushery/DataVisualization-COVID19/blob/master/Data_Visualization_Final.ipynb\" target=\"_parent\"><img src=\"https://colab.research.google.com/assets/colab-badge.svg\" alt=\"Open In Colab\"/></a>"
      ]
    },
    {
      "cell_type": "markdown",
      "metadata": {
        "id": "j0tkEn_y05Jw"
      },
      "source": [
        "![logo-stikom.png](data:image/png;base64,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)\n",
        "\n",
        "# **Data Visualization Covid-19**\n",
        "* Nama : Agus Hery Setiawan\n",
        "\n",
        "**Data Source : https://github.com/CSSEGISandData**\n",
        "\n",
        "\n",
        "\n",
        "\n",
        "\n",
        "\n"
      ]
    },
    {
      "cell_type": "markdown",
      "metadata": {
        "id": "i3gEC7RtGBEX"
      },
      "source": [
        "## **Prepare library and processing the dataset**"
      ]
    },
    {
      "cell_type": "markdown",
      "metadata": {
        "id": "sGwVv0Bw3V15"
      },
      "source": [
        "### **Import Library**\n"
      ]
    },
    {
      "cell_type": "code",
      "metadata": {
        "colab": {
          "base_uri": "https://localhost:8080/",
          "height": 35
        },
        "id": "2rpEC2v3ZFZ_",
        "outputId": "c9e1938a-8a4c-4c34-8354-312a13300ae1"
      },
      "source": [
        "# for load dataset\n",
        "import pandas as pd\n",
        "\n",
        "# for visual\n",
        "import matplotlib.pyplot as plt\n",
        "from matplotlib import style\n",
        "plt.rcParams['figure.figsize'] = 20,8\n",
        "style.use('ggplot')\n",
        "%matplotlib inline\n",
        "\n",
        "import plotly\n",
        "import plotly.express as px\n",
        "import plotly.graph_objects as go\n",
        "import plotly.offline as pyo\n",
        "from plotly.offline import download_plotlyjs,init_notebook_mode, plot, iplot\n",
        "plt.rcParams['figure.figsize'] = 20,8\n",
        "import cufflinks as cf\n",
        "cf.go_offline()\n",
        "\n",
        "import seaborn as sns\n",
        "sns.set_style('whitegrid')\n",
        "\n",
        "print('Setu[ Complete')\n"
      ],
      "execution_count": 1,
      "outputs": [
        {
          "output_type": "display_data",
          "data": {
            "text/html": [
              "        <script type=\"text/javascript\">\n",
              "        window.PlotlyConfig = {MathJaxConfig: 'local'};\n",
              "        if (window.MathJax) {MathJax.Hub.Config({SVG: {font: \"STIX-Web\"}});}\n",
              "        if (typeof require !== 'undefined') {\n",
              "        require.undef(\"plotly\");\n",
              "        requirejs.config({\n",
              "            paths: {\n",
              "                'plotly': ['https://cdn.plot.ly/plotly-latest.min']\n",
              "            }\n",
              "        });\n",
              "        require(['plotly'], function(Plotly) {\n",
              "            window._Plotly = Plotly;\n",
              "        });\n",
              "        }\n",
              "        </script>\n",
              "        "
            ]
          },
          "metadata": {
            "tags": []
          }
        },
        {
          "output_type": "stream",
          "text": [
            "Setu[ Complete\n"
          ],
          "name": "stdout"
        }
      ]
    },
    {
      "cell_type": "markdown",
      "metadata": {
        "id": "uzJIZnsY6YTf"
      },
      "source": [
        "### **Load Dataset from source**"
      ]
    },
    {
      "cell_type": "code",
      "metadata": {
        "colab": {
          "base_uri": "https://localhost:8080/"
        },
        "id": "d6VJ8BKU6BYW",
        "outputId": "05731fa6-fb12-420c-b0e4-474145a9d485"
      },
      "source": [
        "# save url to variabel\n",
        "url_confirm = 'https://raw.githubusercontent.com/CSSEGISandData/COVID-19/master/csse_covid_19_data/csse_covid_19_time_series/time_series_covid19_confirmed_global.csv'\n",
        "url_death = 'https://raw.githubusercontent.com/CSSEGISandData/COVID-19/master/csse_covid_19_data/csse_covid_19_time_series/time_series_covid19_deaths_global.csv'\n",
        "url_recovery = 'https://raw.githubusercontent.com/CSSEGISandData/COVID-19/master/csse_covid_19_data/csse_covid_19_time_series/time_series_covid19_recovered_global.csv'\n",
        "\n",
        "# load dataset with pandas\n",
        "confirm_data = pd.read_csv(url_confirm)\n",
        "death_data = pd.read_csv(url_death)\n",
        "recovery_data = pd.read_csv(url_recovery)\n",
        "\n",
        "print('Load Dataset Complete')"
      ],
      "execution_count": 2,
      "outputs": [
        {
          "output_type": "stream",
          "text": [
            "Load Dataset Complete\n"
          ],
          "name": "stdout"
        }
      ]
    },
    {
      "cell_type": "markdown",
      "metadata": {
        "id": "FzVWpCGA7QeD"
      },
      "source": [
        "### **Check Shape and Info of Dataset**"
      ]
    },
    {
      "cell_type": "markdown",
      "metadata": {
        "id": "XWz9LFbT7xOP"
      },
      "source": [
        "SHAPE"
      ]
    },
    {
      "cell_type": "code",
      "metadata": {
        "colab": {
          "base_uri": "https://localhost:8080/"
        },
        "id": "MJYCwHDn7Nx9",
        "outputId": "4aa64c9d-8fbe-4350-902f-0c10a7acfc8a"
      },
      "source": [
        "print('confirm_data : ', confirm_data.shape)\n",
        "print('death_data : ', death_data.shape)\n",
        "print('recovery_data : ', recovery_data.shape)"
      ],
      "execution_count": 3,
      "outputs": [
        {
          "output_type": "stream",
          "text": [
            "confirm_data :  (275, 492)\n",
            "death_data :  (275, 492)\n",
            "recovery_data :  (260, 492)\n"
          ],
          "name": "stdout"
        }
      ]
    },
    {
      "cell_type": "markdown",
      "metadata": {
        "id": "XOowCtap7616"
      },
      "source": [
        "INFO"
      ]
    },
    {
      "cell_type": "code",
      "metadata": {
        "colab": {
          "base_uri": "https://localhost:8080/"
        },
        "id": "ey6awq4W7zav",
        "outputId": "f05d4e09-e611-4b48-f604-5f8328f1e01a"
      },
      "source": [
        "print('confirm_data : ', confirm_data.info())\n",
        "print('death_data : ', death_data.info())\n",
        "print('recovery_data : ', recovery_data.info())"
      ],
      "execution_count": 4,
      "outputs": [
        {
          "output_type": "stream",
          "text": [
            "<class 'pandas.core.frame.DataFrame'>\n",
            "RangeIndex: 275 entries, 0 to 274\n",
            "Columns: 492 entries, Province/State to 5/23/21\n",
            "dtypes: float64(2), int64(488), object(2)\n",
            "memory usage: 1.0+ MB\n",
            "confirm_data :  None\n",
            "<class 'pandas.core.frame.DataFrame'>\n",
            "RangeIndex: 275 entries, 0 to 274\n",
            "Columns: 492 entries, Province/State to 5/23/21\n",
            "dtypes: float64(2), int64(488), object(2)\n",
            "memory usage: 1.0+ MB\n",
            "death_data :  None\n",
            "<class 'pandas.core.frame.DataFrame'>\n",
            "RangeIndex: 260 entries, 0 to 259\n",
            "Columns: 492 entries, Province/State to 5/23/21\n",
            "dtypes: float64(2), int64(488), object(2)\n",
            "memory usage: 999.5+ KB\n",
            "recovery_data :  None\n"
          ],
          "name": "stdout"
        }
      ]
    },
    {
      "cell_type": "code",
      "metadata": {
        "colab": {
          "base_uri": "https://localhost:8080/",
          "height": 0
        },
        "id": "SefjjT5d-xJi",
        "outputId": "c0fcf560-586e-4e22-ff0d-0a77e9e2e468"
      },
      "source": [
        "confirm_data.head()"
      ],
      "execution_count": 5,
      "outputs": [
        {
          "output_type": "execute_result",
          "data": {
            "text/html": [
              "<div>\n",
              "<style scoped>\n",
              "    .dataframe tbody tr th:only-of-type {\n",
              "        vertical-align: middle;\n",
              "    }\n",
              "\n",
              "    .dataframe tbody tr th {\n",
              "        vertical-align: top;\n",
              "    }\n",
              "\n",
              "    .dataframe thead th {\n",
              "        text-align: right;\n",
              "    }\n",
              "</style>\n",
              "<table border=\"1\" class=\"dataframe\">\n",
              "  <thead>\n",
              "    <tr style=\"text-align: right;\">\n",
              "      <th></th>\n",
              "      <th>Province/State</th>\n",
              "      <th>Country/Region</th>\n",
              "      <th>Lat</th>\n",
              "      <th>Long</th>\n",
              "      <th>1/22/20</th>\n",
              "      <th>1/23/20</th>\n",
              "      <th>1/24/20</th>\n",
              "      <th>1/25/20</th>\n",
              "      <th>1/26/20</th>\n",
              "      <th>1/27/20</th>\n",
              "      <th>1/28/20</th>\n",
              "      <th>1/29/20</th>\n",
              "      <th>1/30/20</th>\n",
              "      <th>1/31/20</th>\n",
              "      <th>2/1/20</th>\n",
              "      <th>2/2/20</th>\n",
              "      <th>2/3/20</th>\n",
              "      <th>2/4/20</th>\n",
              "      <th>2/5/20</th>\n",
              "      <th>2/6/20</th>\n",
              "      <th>2/7/20</th>\n",
              "      <th>2/8/20</th>\n",
              "      <th>2/9/20</th>\n",
              "      <th>2/10/20</th>\n",
              "      <th>2/11/20</th>\n",
              "      <th>2/12/20</th>\n",
              "      <th>2/13/20</th>\n",
              "      <th>2/14/20</th>\n",
              "      <th>2/15/20</th>\n",
              "      <th>2/16/20</th>\n",
              "      <th>2/17/20</th>\n",
              "      <th>2/18/20</th>\n",
              "      <th>2/19/20</th>\n",
              "      <th>2/20/20</th>\n",
              "      <th>2/21/20</th>\n",
              "      <th>2/22/20</th>\n",
              "      <th>2/23/20</th>\n",
              "      <th>2/24/20</th>\n",
              "      <th>2/25/20</th>\n",
              "      <th>2/26/20</th>\n",
              "      <th>...</th>\n",
              "      <th>4/14/21</th>\n",
              "      <th>4/15/21</th>\n",
              "      <th>4/16/21</th>\n",
              "      <th>4/17/21</th>\n",
              "      <th>4/18/21</th>\n",
              "      <th>4/19/21</th>\n",
              "      <th>4/20/21</th>\n",
              "      <th>4/21/21</th>\n",
              "      <th>4/22/21</th>\n",
              "      <th>4/23/21</th>\n",
              "      <th>4/24/21</th>\n",
              "      <th>4/25/21</th>\n",
              "      <th>4/26/21</th>\n",
              "      <th>4/27/21</th>\n",
              "      <th>4/28/21</th>\n",
              "      <th>4/29/21</th>\n",
              "      <th>4/30/21</th>\n",
              "      <th>5/1/21</th>\n",
              "      <th>5/2/21</th>\n",
              "      <th>5/3/21</th>\n",
              "      <th>5/4/21</th>\n",
              "      <th>5/5/21</th>\n",
              "      <th>5/6/21</th>\n",
              "      <th>5/7/21</th>\n",
              "      <th>5/8/21</th>\n",
              "      <th>5/9/21</th>\n",
              "      <th>5/10/21</th>\n",
              "      <th>5/11/21</th>\n",
              "      <th>5/12/21</th>\n",
              "      <th>5/13/21</th>\n",
              "      <th>5/14/21</th>\n",
              "      <th>5/15/21</th>\n",
              "      <th>5/16/21</th>\n",
              "      <th>5/17/21</th>\n",
              "      <th>5/18/21</th>\n",
              "      <th>5/19/21</th>\n",
              "      <th>5/20/21</th>\n",
              "      <th>5/21/21</th>\n",
              "      <th>5/22/21</th>\n",
              "      <th>5/23/21</th>\n",
              "    </tr>\n",
              "  </thead>\n",
              "  <tbody>\n",
              "    <tr>\n",
              "      <th>0</th>\n",
              "      <td>NaN</td>\n",
              "      <td>Afghanistan</td>\n",
              "      <td>33.93911</td>\n",
              "      <td>67.709953</td>\n",
              "      <td>0</td>\n",
              "      <td>0</td>\n",
              "      <td>0</td>\n",
              "      <td>0</td>\n",
              "      <td>0</td>\n",
              "      <td>0</td>\n",
              "      <td>0</td>\n",
              "      <td>0</td>\n",
              "      <td>0</td>\n",
              "      <td>0</td>\n",
              "      <td>0</td>\n",
              "      <td>0</td>\n",
              "      <td>0</td>\n",
              "      <td>0</td>\n",
              "      <td>0</td>\n",
              "      <td>0</td>\n",
              "      <td>0</td>\n",
              "      <td>0</td>\n",
              "      <td>0</td>\n",
              "      <td>0</td>\n",
              "      <td>0</td>\n",
              "      <td>0</td>\n",
              "      <td>0</td>\n",
              "      <td>0</td>\n",
              "      <td>0</td>\n",
              "      <td>0</td>\n",
              "      <td>0</td>\n",
              "      <td>0</td>\n",
              "      <td>0</td>\n",
              "      <td>0</td>\n",
              "      <td>0</td>\n",
              "      <td>0</td>\n",
              "      <td>0</td>\n",
              "      <td>1</td>\n",
              "      <td>1</td>\n",
              "      <td>1</td>\n",
              "      <td>...</td>\n",
              "      <td>57492</td>\n",
              "      <td>57534</td>\n",
              "      <td>57612</td>\n",
              "      <td>57721</td>\n",
              "      <td>57793</td>\n",
              "      <td>57898</td>\n",
              "      <td>58037</td>\n",
              "      <td>58214</td>\n",
              "      <td>58312</td>\n",
              "      <td>58542</td>\n",
              "      <td>58730</td>\n",
              "      <td>58843</td>\n",
              "      <td>59015</td>\n",
              "      <td>59225</td>\n",
              "      <td>59370</td>\n",
              "      <td>59576</td>\n",
              "      <td>59745</td>\n",
              "      <td>59939</td>\n",
              "      <td>60122</td>\n",
              "      <td>60300</td>\n",
              "      <td>60563</td>\n",
              "      <td>60797</td>\n",
              "      <td>61162</td>\n",
              "      <td>61455</td>\n",
              "      <td>61755</td>\n",
              "      <td>61842</td>\n",
              "      <td>62063</td>\n",
              "      <td>62403</td>\n",
              "      <td>62718</td>\n",
              "      <td>63045</td>\n",
              "      <td>63355</td>\n",
              "      <td>63412</td>\n",
              "      <td>63484</td>\n",
              "      <td>63598</td>\n",
              "      <td>63819</td>\n",
              "      <td>64122</td>\n",
              "      <td>64575</td>\n",
              "      <td>65080</td>\n",
              "      <td>65486</td>\n",
              "      <td>65728</td>\n",
              "    </tr>\n",
              "    <tr>\n",
              "      <th>1</th>\n",
              "      <td>NaN</td>\n",
              "      <td>Albania</td>\n",
              "      <td>41.15330</td>\n",
              "      <td>20.168300</td>\n",
              "      <td>0</td>\n",
              "      <td>0</td>\n",
              "      <td>0</td>\n",
              "      <td>0</td>\n",
              "      <td>0</td>\n",
              "      <td>0</td>\n",
              "      <td>0</td>\n",
              "      <td>0</td>\n",
              "      <td>0</td>\n",
              "      <td>0</td>\n",
              "      <td>0</td>\n",
              "      <td>0</td>\n",
              "      <td>0</td>\n",
              "      <td>0</td>\n",
              "      <td>0</td>\n",
              "      <td>0</td>\n",
              "      <td>0</td>\n",
              "      <td>0</td>\n",
              "      <td>0</td>\n",
              "      <td>0</td>\n",
              "      <td>0</td>\n",
              "      <td>0</td>\n",
              "      <td>0</td>\n",
              "      <td>0</td>\n",
              "      <td>0</td>\n",
              "      <td>0</td>\n",
              "      <td>0</td>\n",
              "      <td>0</td>\n",
              "      <td>0</td>\n",
              "      <td>0</td>\n",
              "      <td>0</td>\n",
              "      <td>0</td>\n",
              "      <td>0</td>\n",
              "      <td>0</td>\n",
              "      <td>0</td>\n",
              "      <td>0</td>\n",
              "      <td>...</td>\n",
              "      <td>128959</td>\n",
              "      <td>129128</td>\n",
              "      <td>129307</td>\n",
              "      <td>129456</td>\n",
              "      <td>129594</td>\n",
              "      <td>129694</td>\n",
              "      <td>129842</td>\n",
              "      <td>129980</td>\n",
              "      <td>130114</td>\n",
              "      <td>130270</td>\n",
              "      <td>130409</td>\n",
              "      <td>130537</td>\n",
              "      <td>130606</td>\n",
              "      <td>130736</td>\n",
              "      <td>130859</td>\n",
              "      <td>130977</td>\n",
              "      <td>131085</td>\n",
              "      <td>131185</td>\n",
              "      <td>131238</td>\n",
              "      <td>131276</td>\n",
              "      <td>131327</td>\n",
              "      <td>131419</td>\n",
              "      <td>131510</td>\n",
              "      <td>131577</td>\n",
              "      <td>131666</td>\n",
              "      <td>131723</td>\n",
              "      <td>131753</td>\n",
              "      <td>131803</td>\n",
              "      <td>131845</td>\n",
              "      <td>131890</td>\n",
              "      <td>131939</td>\n",
              "      <td>131978</td>\n",
              "      <td>132015</td>\n",
              "      <td>132032</td>\n",
              "      <td>132071</td>\n",
              "      <td>132095</td>\n",
              "      <td>132118</td>\n",
              "      <td>132153</td>\n",
              "      <td>132176</td>\n",
              "      <td>132209</td>\n",
              "    </tr>\n",
              "    <tr>\n",
              "      <th>2</th>\n",
              "      <td>NaN</td>\n",
              "      <td>Algeria</td>\n",
              "      <td>28.03390</td>\n",
              "      <td>1.659600</td>\n",
              "      <td>0</td>\n",
              "      <td>0</td>\n",
              "      <td>0</td>\n",
              "      <td>0</td>\n",
              "      <td>0</td>\n",
              "      <td>0</td>\n",
              "      <td>0</td>\n",
              "      <td>0</td>\n",
              "      <td>0</td>\n",
              "      <td>0</td>\n",
              "      <td>0</td>\n",
              "      <td>0</td>\n",
              "      <td>0</td>\n",
              "      <td>0</td>\n",
              "      <td>0</td>\n",
              "      <td>0</td>\n",
              "      <td>0</td>\n",
              "      <td>0</td>\n",
              "      <td>0</td>\n",
              "      <td>0</td>\n",
              "      <td>0</td>\n",
              "      <td>0</td>\n",
              "      <td>0</td>\n",
              "      <td>0</td>\n",
              "      <td>0</td>\n",
              "      <td>0</td>\n",
              "      <td>0</td>\n",
              "      <td>0</td>\n",
              "      <td>0</td>\n",
              "      <td>0</td>\n",
              "      <td>0</td>\n",
              "      <td>0</td>\n",
              "      <td>0</td>\n",
              "      <td>0</td>\n",
              "      <td>1</td>\n",
              "      <td>1</td>\n",
              "      <td>...</td>\n",
              "      <td>118975</td>\n",
              "      <td>119142</td>\n",
              "      <td>119323</td>\n",
              "      <td>119486</td>\n",
              "      <td>119642</td>\n",
              "      <td>119805</td>\n",
              "      <td>119992</td>\n",
              "      <td>120174</td>\n",
              "      <td>120363</td>\n",
              "      <td>120562</td>\n",
              "      <td>120736</td>\n",
              "      <td>120922</td>\n",
              "      <td>121112</td>\n",
              "      <td>121344</td>\n",
              "      <td>121580</td>\n",
              "      <td>121866</td>\n",
              "      <td>122108</td>\n",
              "      <td>122311</td>\n",
              "      <td>122522</td>\n",
              "      <td>122717</td>\n",
              "      <td>122999</td>\n",
              "      <td>123272</td>\n",
              "      <td>123473</td>\n",
              "      <td>123692</td>\n",
              "      <td>123900</td>\n",
              "      <td>124104</td>\n",
              "      <td>124288</td>\n",
              "      <td>124483</td>\n",
              "      <td>124682</td>\n",
              "      <td>124889</td>\n",
              "      <td>125059</td>\n",
              "      <td>125194</td>\n",
              "      <td>125311</td>\n",
              "      <td>125485</td>\n",
              "      <td>125693</td>\n",
              "      <td>125896</td>\n",
              "      <td>126156</td>\n",
              "      <td>126434</td>\n",
              "      <td>126651</td>\n",
              "      <td>126860</td>\n",
              "    </tr>\n",
              "    <tr>\n",
              "      <th>3</th>\n",
              "      <td>NaN</td>\n",
              "      <td>Andorra</td>\n",
              "      <td>42.50630</td>\n",
              "      <td>1.521800</td>\n",
              "      <td>0</td>\n",
              "      <td>0</td>\n",
              "      <td>0</td>\n",
              "      <td>0</td>\n",
              "      <td>0</td>\n",
              "      <td>0</td>\n",
              "      <td>0</td>\n",
              "      <td>0</td>\n",
              "      <td>0</td>\n",
              "      <td>0</td>\n",
              "      <td>0</td>\n",
              "      <td>0</td>\n",
              "      <td>0</td>\n",
              "      <td>0</td>\n",
              "      <td>0</td>\n",
              "      <td>0</td>\n",
              "      <td>0</td>\n",
              "      <td>0</td>\n",
              "      <td>0</td>\n",
              "      <td>0</td>\n",
              "      <td>0</td>\n",
              "      <td>0</td>\n",
              "      <td>0</td>\n",
              "      <td>0</td>\n",
              "      <td>0</td>\n",
              "      <td>0</td>\n",
              "      <td>0</td>\n",
              "      <td>0</td>\n",
              "      <td>0</td>\n",
              "      <td>0</td>\n",
              "      <td>0</td>\n",
              "      <td>0</td>\n",
              "      <td>0</td>\n",
              "      <td>0</td>\n",
              "      <td>0</td>\n",
              "      <td>0</td>\n",
              "      <td>...</td>\n",
              "      <td>12641</td>\n",
              "      <td>12641</td>\n",
              "      <td>12712</td>\n",
              "      <td>12771</td>\n",
              "      <td>12805</td>\n",
              "      <td>12805</td>\n",
              "      <td>12874</td>\n",
              "      <td>12917</td>\n",
              "      <td>12942</td>\n",
              "      <td>13007</td>\n",
              "      <td>13024</td>\n",
              "      <td>13060</td>\n",
              "      <td>13083</td>\n",
              "      <td>13121</td>\n",
              "      <td>13148</td>\n",
              "      <td>13198</td>\n",
              "      <td>13232</td>\n",
              "      <td>13232</td>\n",
              "      <td>13282</td>\n",
              "      <td>13295</td>\n",
              "      <td>13316</td>\n",
              "      <td>13340</td>\n",
              "      <td>13363</td>\n",
              "      <td>13390</td>\n",
              "      <td>13406</td>\n",
              "      <td>13423</td>\n",
              "      <td>13429</td>\n",
              "      <td>13447</td>\n",
              "      <td>13470</td>\n",
              "      <td>13470</td>\n",
              "      <td>13510</td>\n",
              "      <td>13510</td>\n",
              "      <td>13510</td>\n",
              "      <td>13555</td>\n",
              "      <td>13569</td>\n",
              "      <td>13569</td>\n",
              "      <td>13569</td>\n",
              "      <td>13569</td>\n",
              "      <td>13569</td>\n",
              "      <td>13569</td>\n",
              "    </tr>\n",
              "    <tr>\n",
              "      <th>4</th>\n",
              "      <td>NaN</td>\n",
              "      <td>Angola</td>\n",
              "      <td>-11.20270</td>\n",
              "      <td>17.873900</td>\n",
              "      <td>0</td>\n",
              "      <td>0</td>\n",
              "      <td>0</td>\n",
              "      <td>0</td>\n",
              "      <td>0</td>\n",
              "      <td>0</td>\n",
              "      <td>0</td>\n",
              "      <td>0</td>\n",
              "      <td>0</td>\n",
              "      <td>0</td>\n",
              "      <td>0</td>\n",
              "      <td>0</td>\n",
              "      <td>0</td>\n",
              "      <td>0</td>\n",
              "      <td>0</td>\n",
              "      <td>0</td>\n",
              "      <td>0</td>\n",
              "      <td>0</td>\n",
              "      <td>0</td>\n",
              "      <td>0</td>\n",
              "      <td>0</td>\n",
              "      <td>0</td>\n",
              "      <td>0</td>\n",
              "      <td>0</td>\n",
              "      <td>0</td>\n",
              "      <td>0</td>\n",
              "      <td>0</td>\n",
              "      <td>0</td>\n",
              "      <td>0</td>\n",
              "      <td>0</td>\n",
              "      <td>0</td>\n",
              "      <td>0</td>\n",
              "      <td>0</td>\n",
              "      <td>0</td>\n",
              "      <td>0</td>\n",
              "      <td>0</td>\n",
              "      <td>...</td>\n",
              "      <td>23841</td>\n",
              "      <td>23951</td>\n",
              "      <td>24122</td>\n",
              "      <td>24300</td>\n",
              "      <td>24389</td>\n",
              "      <td>24518</td>\n",
              "      <td>24661</td>\n",
              "      <td>24883</td>\n",
              "      <td>25051</td>\n",
              "      <td>25279</td>\n",
              "      <td>25492</td>\n",
              "      <td>25609</td>\n",
              "      <td>25710</td>\n",
              "      <td>25942</td>\n",
              "      <td>26168</td>\n",
              "      <td>26431</td>\n",
              "      <td>26652</td>\n",
              "      <td>26815</td>\n",
              "      <td>26993</td>\n",
              "      <td>27133</td>\n",
              "      <td>27284</td>\n",
              "      <td>27529</td>\n",
              "      <td>27921</td>\n",
              "      <td>28201</td>\n",
              "      <td>28477</td>\n",
              "      <td>28740</td>\n",
              "      <td>28875</td>\n",
              "      <td>29146</td>\n",
              "      <td>29405</td>\n",
              "      <td>29695</td>\n",
              "      <td>30030</td>\n",
              "      <td>30354</td>\n",
              "      <td>30637</td>\n",
              "      <td>30787</td>\n",
              "      <td>31045</td>\n",
              "      <td>31438</td>\n",
              "      <td>31661</td>\n",
              "      <td>31909</td>\n",
              "      <td>32149</td>\n",
              "      <td>32441</td>\n",
              "    </tr>\n",
              "  </tbody>\n",
              "</table>\n",
              "<p>5 rows × 492 columns</p>\n",
              "</div>"
            ],
            "text/plain": [
              "  Province/State Country/Region       Lat  ...  5/21/21  5/22/21  5/23/21\n",
              "0            NaN    Afghanistan  33.93911  ...    65080    65486    65728\n",
              "1            NaN        Albania  41.15330  ...   132153   132176   132209\n",
              "2            NaN        Algeria  28.03390  ...   126434   126651   126860\n",
              "3            NaN        Andorra  42.50630  ...    13569    13569    13569\n",
              "4            NaN         Angola -11.20270  ...    31909    32149    32441\n",
              "\n",
              "[5 rows x 492 columns]"
            ]
          },
          "metadata": {
            "tags": []
          },
          "execution_count": 5
        }
      ]
    },
    {
      "cell_type": "markdown",
      "metadata": {
        "id": "i3KOX8gh8fni"
      },
      "source": [
        "### **Melt Data**"
      ]
    },
    {
      "cell_type": "code",
      "metadata": {
        "id": "i1QQgYUi8JTC"
      },
      "source": [
        "# Confirmed\n",
        "confirm_data = confirm_data.melt(\n",
        "    id_vars=['Province/State', 'Country/Region', 'Lat', 'Long'],\n",
        "    var_name='Time',\n",
        "    value_name='Confirmed'\n",
        ")\n",
        "\n",
        "# Death\n",
        "death_data = death_data.melt(\n",
        "    id_vars=['Province/State', 'Country/Region', 'Lat', 'Long'],\n",
        "    var_name='Time',\n",
        "    value_name='Deaths'\n",
        ")\n",
        "\n",
        "# Recovery\n",
        "recovery_data = recovery_data.melt(\n",
        "    id_vars=['Province/State', 'Country/Region', 'Lat', 'Long'],\n",
        "    var_name='Time',\n",
        "    value_name='Recovered'\n",
        ")"
      ],
      "execution_count": 6,
      "outputs": []
    },
    {
      "cell_type": "code",
      "metadata": {
        "colab": {
          "base_uri": "https://localhost:8080/",
          "height": 0
        },
        "id": "rTAw1gZYA_Pq",
        "outputId": "dd781a3d-a2df-41e0-cd0d-657390e510cb"
      },
      "source": [
        "death_data.head()"
      ],
      "execution_count": 7,
      "outputs": [
        {
          "output_type": "execute_result",
          "data": {
            "text/html": [
              "<div>\n",
              "<style scoped>\n",
              "    .dataframe tbody tr th:only-of-type {\n",
              "        vertical-align: middle;\n",
              "    }\n",
              "\n",
              "    .dataframe tbody tr th {\n",
              "        vertical-align: top;\n",
              "    }\n",
              "\n",
              "    .dataframe thead th {\n",
              "        text-align: right;\n",
              "    }\n",
              "</style>\n",
              "<table border=\"1\" class=\"dataframe\">\n",
              "  <thead>\n",
              "    <tr style=\"text-align: right;\">\n",
              "      <th></th>\n",
              "      <th>Province/State</th>\n",
              "      <th>Country/Region</th>\n",
              "      <th>Lat</th>\n",
              "      <th>Long</th>\n",
              "      <th>Time</th>\n",
              "      <th>Deaths</th>\n",
              "    </tr>\n",
              "  </thead>\n",
              "  <tbody>\n",
              "    <tr>\n",
              "      <th>0</th>\n",
              "      <td>NaN</td>\n",
              "      <td>Afghanistan</td>\n",
              "      <td>33.93911</td>\n",
              "      <td>67.709953</td>\n",
              "      <td>1/22/20</td>\n",
              "      <td>0</td>\n",
              "    </tr>\n",
              "    <tr>\n",
              "      <th>1</th>\n",
              "      <td>NaN</td>\n",
              "      <td>Albania</td>\n",
              "      <td>41.15330</td>\n",
              "      <td>20.168300</td>\n",
              "      <td>1/22/20</td>\n",
              "      <td>0</td>\n",
              "    </tr>\n",
              "    <tr>\n",
              "      <th>2</th>\n",
              "      <td>NaN</td>\n",
              "      <td>Algeria</td>\n",
              "      <td>28.03390</td>\n",
              "      <td>1.659600</td>\n",
              "      <td>1/22/20</td>\n",
              "      <td>0</td>\n",
              "    </tr>\n",
              "    <tr>\n",
              "      <th>3</th>\n",
              "      <td>NaN</td>\n",
              "      <td>Andorra</td>\n",
              "      <td>42.50630</td>\n",
              "      <td>1.521800</td>\n",
              "      <td>1/22/20</td>\n",
              "      <td>0</td>\n",
              "    </tr>\n",
              "    <tr>\n",
              "      <th>4</th>\n",
              "      <td>NaN</td>\n",
              "      <td>Angola</td>\n",
              "      <td>-11.20270</td>\n",
              "      <td>17.873900</td>\n",
              "      <td>1/22/20</td>\n",
              "      <td>0</td>\n",
              "    </tr>\n",
              "  </tbody>\n",
              "</table>\n",
              "</div>"
            ],
            "text/plain": [
              "  Province/State Country/Region       Lat       Long     Time  Deaths\n",
              "0            NaN    Afghanistan  33.93911  67.709953  1/22/20       0\n",
              "1            NaN        Albania  41.15330  20.168300  1/22/20       0\n",
              "2            NaN        Algeria  28.03390   1.659600  1/22/20       0\n",
              "3            NaN        Andorra  42.50630   1.521800  1/22/20       0\n",
              "4            NaN         Angola -11.20270  17.873900  1/22/20       0"
            ]
          },
          "metadata": {
            "tags": []
          },
          "execution_count": 7
        }
      ]
    },
    {
      "cell_type": "markdown",
      "metadata": {
        "id": "U0YsoFzF5221"
      },
      "source": [
        "### **Merge Data**"
      ]
    },
    {
      "cell_type": "markdown",
      "metadata": {
        "id": "WGFkPIBg7Rre"
      },
      "source": [
        "Grouped Data  with same Country/Region and Time"
      ]
    },
    {
      "cell_type": "code",
      "metadata": {
        "id": "1ZDos1A_5T1y"
      },
      "source": [
        "# Confirmed Data\n",
        "confirm_data = confirm_data.groupby(['Country/Region', 'Time'])['Confirmed'].sum()\n",
        "confirm_data = confirm_data.to_frame().reset_index()\n",
        "\n",
        "# Deaths Data\n",
        "death_data = death_data.groupby(['Country/Region', 'Time'])['Deaths'].sum()\n",
        "death_data = death_data.to_frame().reset_index()\n",
        "\n",
        "# Recovery Data\n",
        "recovery_data = recovery_data.groupby(['Country/Region', 'Time'])['Recovered'].sum()\n",
        "recovery_data = recovery_data.to_frame().reset_index()"
      ],
      "execution_count": 8,
      "outputs": []
    },
    {
      "cell_type": "markdown",
      "metadata": {
        "id": "wVZBs3oA7hDR"
      },
      "source": [
        "Merge dataset"
      ]
    },
    {
      "cell_type": "code",
      "metadata": {
        "colab": {
          "base_uri": "https://localhost:8080/",
          "height": 0
        },
        "id": "F2Nu3lAQLHot",
        "outputId": "d52e8609-4e2b-4b87-d440-d9fef7ddd0c3"
      },
      "source": [
        "data = confirm_data.merge(death_data, how='inner')\n",
        "data = data.merge(recovery_data, how='inner')\n",
        "data.head()"
      ],
      "execution_count": 9,
      "outputs": [
        {
          "output_type": "execute_result",
          "data": {
            "text/html": [
              "<div>\n",
              "<style scoped>\n",
              "    .dataframe tbody tr th:only-of-type {\n",
              "        vertical-align: middle;\n",
              "    }\n",
              "\n",
              "    .dataframe tbody tr th {\n",
              "        vertical-align: top;\n",
              "    }\n",
              "\n",
              "    .dataframe thead th {\n",
              "        text-align: right;\n",
              "    }\n",
              "</style>\n",
              "<table border=\"1\" class=\"dataframe\">\n",
              "  <thead>\n",
              "    <tr style=\"text-align: right;\">\n",
              "      <th></th>\n",
              "      <th>Country/Region</th>\n",
              "      <th>Time</th>\n",
              "      <th>Confirmed</th>\n",
              "      <th>Deaths</th>\n",
              "      <th>Recovered</th>\n",
              "    </tr>\n",
              "  </thead>\n",
              "  <tbody>\n",
              "    <tr>\n",
              "      <th>0</th>\n",
              "      <td>Afghanistan</td>\n",
              "      <td>1/1/21</td>\n",
              "      <td>51526</td>\n",
              "      <td>2191</td>\n",
              "      <td>41727</td>\n",
              "    </tr>\n",
              "    <tr>\n",
              "      <th>1</th>\n",
              "      <td>Afghanistan</td>\n",
              "      <td>1/10/21</td>\n",
              "      <td>53489</td>\n",
              "      <td>2277</td>\n",
              "      <td>43948</td>\n",
              "    </tr>\n",
              "    <tr>\n",
              "      <th>2</th>\n",
              "      <td>Afghanistan</td>\n",
              "      <td>1/11/21</td>\n",
              "      <td>53538</td>\n",
              "      <td>2288</td>\n",
              "      <td>44137</td>\n",
              "    </tr>\n",
              "    <tr>\n",
              "      <th>3</th>\n",
              "      <td>Afghanistan</td>\n",
              "      <td>1/12/21</td>\n",
              "      <td>53584</td>\n",
              "      <td>2301</td>\n",
              "      <td>44608</td>\n",
              "    </tr>\n",
              "    <tr>\n",
              "      <th>4</th>\n",
              "      <td>Afghanistan</td>\n",
              "      <td>1/13/21</td>\n",
              "      <td>53584</td>\n",
              "      <td>2301</td>\n",
              "      <td>44850</td>\n",
              "    </tr>\n",
              "  </tbody>\n",
              "</table>\n",
              "</div>"
            ],
            "text/plain": [
              "  Country/Region     Time  Confirmed  Deaths  Recovered\n",
              "0    Afghanistan   1/1/21      51526    2191      41727\n",
              "1    Afghanistan  1/10/21      53489    2277      43948\n",
              "2    Afghanistan  1/11/21      53538    2288      44137\n",
              "3    Afghanistan  1/12/21      53584    2301      44608\n",
              "4    Afghanistan  1/13/21      53584    2301      44850"
            ]
          },
          "metadata": {
            "tags": []
          },
          "execution_count": 9
        }
      ]
    },
    {
      "cell_type": "code",
      "metadata": {
        "colab": {
          "base_uri": "https://localhost:8080/"
        },
        "id": "krHd72FgLHou",
        "outputId": "52e74e47-372d-414c-e47c-af23fc6fd9d8"
      },
      "source": [
        "data.shape\n",
        "data.info()"
      ],
      "execution_count": 10,
      "outputs": [
        {
          "output_type": "stream",
          "text": [
            "<class 'pandas.core.frame.DataFrame'>\n",
            "Int64Index: 93696 entries, 0 to 93695\n",
            "Data columns (total 5 columns):\n",
            " #   Column          Non-Null Count  Dtype \n",
            "---  ------          --------------  ----- \n",
            " 0   Country/Region  93696 non-null  object\n",
            " 1   Time            93696 non-null  object\n",
            " 2   Confirmed       93696 non-null  int64 \n",
            " 3   Deaths          93696 non-null  int64 \n",
            " 4   Recovered       93696 non-null  int64 \n",
            "dtypes: int64(3), object(2)\n",
            "memory usage: 4.3+ MB\n"
          ],
          "name": "stdout"
        }
      ]
    },
    {
      "cell_type": "markdown",
      "metadata": {
        "id": "_hx-5vN-LHou"
      },
      "source": [
        "### **Add Active Cases Column, groupped data and sort Time Column (increase)**"
      ]
    },
    {
      "cell_type": "code",
      "metadata": {
        "id": "280a5qAYLHov"
      },
      "source": [
        "# Add Active Column\n",
        "data['Active'] = data['Confirmed'] - data['Deaths'] - data['Recovered']"
      ],
      "execution_count": 11,
      "outputs": []
    },
    {
      "cell_type": "code",
      "metadata": {
        "id": "Mh7PYpKdLHov"
      },
      "source": [
        "# groupped data\n",
        "data['Time'] = pd.to_datetime(data['Time'])\n",
        "dataGroup = data.groupby('Time')[[\"Confirmed\",\"Deaths\",\"Recovered\",\"Active\"]].sum()"
      ],
      "execution_count": 12,
      "outputs": []
    },
    {
      "cell_type": "code",
      "metadata": {
        "id": "eFP4TRZdZFaP"
      },
      "source": [
        "# Sort Data\n",
        "dataSort = data.sort_values(by='Time')"
      ],
      "execution_count": 13,
      "outputs": []
    },
    {
      "cell_type": "code",
      "metadata": {
        "colab": {
          "base_uri": "https://localhost:8080/",
          "height": 0
        },
        "id": "Oiaevjp5ZFaP",
        "outputId": "6421fd62-be4d-4e7c-85e2-91e2bca5282b"
      },
      "source": [
        "data"
      ],
      "execution_count": 14,
      "outputs": [
        {
          "output_type": "execute_result",
          "data": {
            "text/html": [
              "<div>\n",
              "<style scoped>\n",
              "    .dataframe tbody tr th:only-of-type {\n",
              "        vertical-align: middle;\n",
              "    }\n",
              "\n",
              "    .dataframe tbody tr th {\n",
              "        vertical-align: top;\n",
              "    }\n",
              "\n",
              "    .dataframe thead th {\n",
              "        text-align: right;\n",
              "    }\n",
              "</style>\n",
              "<table border=\"1\" class=\"dataframe\">\n",
              "  <thead>\n",
              "    <tr style=\"text-align: right;\">\n",
              "      <th></th>\n",
              "      <th>Country/Region</th>\n",
              "      <th>Time</th>\n",
              "      <th>Confirmed</th>\n",
              "      <th>Deaths</th>\n",
              "      <th>Recovered</th>\n",
              "      <th>Active</th>\n",
              "    </tr>\n",
              "  </thead>\n",
              "  <tbody>\n",
              "    <tr>\n",
              "      <th>0</th>\n",
              "      <td>Afghanistan</td>\n",
              "      <td>2021-01-01</td>\n",
              "      <td>51526</td>\n",
              "      <td>2191</td>\n",
              "      <td>41727</td>\n",
              "      <td>7608</td>\n",
              "    </tr>\n",
              "    <tr>\n",
              "      <th>1</th>\n",
              "      <td>Afghanistan</td>\n",
              "      <td>2021-01-10</td>\n",
              "      <td>53489</td>\n",
              "      <td>2277</td>\n",
              "      <td>43948</td>\n",
              "      <td>7264</td>\n",
              "    </tr>\n",
              "    <tr>\n",
              "      <th>2</th>\n",
              "      <td>Afghanistan</td>\n",
              "      <td>2021-01-11</td>\n",
              "      <td>53538</td>\n",
              "      <td>2288</td>\n",
              "      <td>44137</td>\n",
              "      <td>7113</td>\n",
              "    </tr>\n",
              "    <tr>\n",
              "      <th>3</th>\n",
              "      <td>Afghanistan</td>\n",
              "      <td>2021-01-12</td>\n",
              "      <td>53584</td>\n",
              "      <td>2301</td>\n",
              "      <td>44608</td>\n",
              "      <td>6675</td>\n",
              "    </tr>\n",
              "    <tr>\n",
              "      <th>4</th>\n",
              "      <td>Afghanistan</td>\n",
              "      <td>2021-01-13</td>\n",
              "      <td>53584</td>\n",
              "      <td>2301</td>\n",
              "      <td>44850</td>\n",
              "      <td>6433</td>\n",
              "    </tr>\n",
              "    <tr>\n",
              "      <th>...</th>\n",
              "      <td>...</td>\n",
              "      <td>...</td>\n",
              "      <td>...</td>\n",
              "      <td>...</td>\n",
              "      <td>...</td>\n",
              "      <td>...</td>\n",
              "    </tr>\n",
              "    <tr>\n",
              "      <th>93691</th>\n",
              "      <td>Zimbabwe</td>\n",
              "      <td>2020-09-05</td>\n",
              "      <td>6837</td>\n",
              "      <td>206</td>\n",
              "      <td>5345</td>\n",
              "      <td>1286</td>\n",
              "    </tr>\n",
              "    <tr>\n",
              "      <th>93692</th>\n",
              "      <td>Zimbabwe</td>\n",
              "      <td>2020-09-06</td>\n",
              "      <td>6837</td>\n",
              "      <td>206</td>\n",
              "      <td>5345</td>\n",
              "      <td>1286</td>\n",
              "    </tr>\n",
              "    <tr>\n",
              "      <th>93693</th>\n",
              "      <td>Zimbabwe</td>\n",
              "      <td>2020-09-07</td>\n",
              "      <td>7298</td>\n",
              "      <td>210</td>\n",
              "      <td>5455</td>\n",
              "      <td>1633</td>\n",
              "    </tr>\n",
              "    <tr>\n",
              "      <th>93694</th>\n",
              "      <td>Zimbabwe</td>\n",
              "      <td>2020-09-08</td>\n",
              "      <td>7388</td>\n",
              "      <td>218</td>\n",
              "      <td>5477</td>\n",
              "      <td>1693</td>\n",
              "    </tr>\n",
              "    <tr>\n",
              "      <th>93695</th>\n",
              "      <td>Zimbabwe</td>\n",
              "      <td>2020-09-09</td>\n",
              "      <td>7429</td>\n",
              "      <td>222</td>\n",
              "      <td>5542</td>\n",
              "      <td>1665</td>\n",
              "    </tr>\n",
              "  </tbody>\n",
              "</table>\n",
              "<p>93696 rows × 6 columns</p>\n",
              "</div>"
            ],
            "text/plain": [
              "      Country/Region       Time  Confirmed  Deaths  Recovered  Active\n",
              "0        Afghanistan 2021-01-01      51526    2191      41727    7608\n",
              "1        Afghanistan 2021-01-10      53489    2277      43948    7264\n",
              "2        Afghanistan 2021-01-11      53538    2288      44137    7113\n",
              "3        Afghanistan 2021-01-12      53584    2301      44608    6675\n",
              "4        Afghanistan 2021-01-13      53584    2301      44850    6433\n",
              "...              ...        ...        ...     ...        ...     ...\n",
              "93691       Zimbabwe 2020-09-05       6837     206       5345    1286\n",
              "93692       Zimbabwe 2020-09-06       6837     206       5345    1286\n",
              "93693       Zimbabwe 2020-09-07       7298     210       5455    1633\n",
              "93694       Zimbabwe 2020-09-08       7388     218       5477    1693\n",
              "93695       Zimbabwe 2020-09-09       7429     222       5542    1665\n",
              "\n",
              "[93696 rows x 6 columns]"
            ]
          },
          "metadata": {
            "tags": []
          },
          "execution_count": 14
        }
      ]
    },
    {
      "cell_type": "markdown",
      "metadata": {
        "id": "-UTJVcZd3dS-"
      },
      "source": [
        "### **Initiation first and last day of data**"
      ]
    },
    {
      "cell_type": "code",
      "metadata": {
        "id": "vhziokEq3Z3v"
      },
      "source": [
        "first_date = data['Time'].min()\n",
        "first_day = data[data['Time'] == first_date]\n",
        "recent_date = data['Time'].max()\n",
        "last_day = data[data['Time'] == recent_date]"
      ],
      "execution_count": 15,
      "outputs": []
    },
    {
      "cell_type": "markdown",
      "metadata": {
        "id": "9sL0DCSBOsgy"
      },
      "source": [
        "### **Categories Country**"
      ]
    },
    {
      "cell_type": "code",
      "metadata": {
        "colab": {
          "base_uri": "https://localhost:8080/",
          "height": 0
        },
        "id": "hVa_bxhsAjCX",
        "outputId": "bbf19571-7d77-46d2-aa7e-a7236bcf3189"
      },
      "source": [
        "# Check standar statistic data\n",
        "last_day.describe()"
      ],
      "execution_count": 16,
      "outputs": [
        {
          "output_type": "execute_result",
          "data": {
            "text/html": [
              "<div>\n",
              "<style scoped>\n",
              "    .dataframe tbody tr th:only-of-type {\n",
              "        vertical-align: middle;\n",
              "    }\n",
              "\n",
              "    .dataframe tbody tr th {\n",
              "        vertical-align: top;\n",
              "    }\n",
              "\n",
              "    .dataframe thead th {\n",
              "        text-align: right;\n",
              "    }\n",
              "</style>\n",
              "<table border=\"1\" class=\"dataframe\">\n",
              "  <thead>\n",
              "    <tr style=\"text-align: right;\">\n",
              "      <th></th>\n",
              "      <th>Confirmed</th>\n",
              "      <th>Deaths</th>\n",
              "      <th>Recovered</th>\n",
              "      <th>Active</th>\n",
              "    </tr>\n",
              "  </thead>\n",
              "  <tbody>\n",
              "    <tr>\n",
              "      <th>count</th>\n",
              "      <td>1.920000e+02</td>\n",
              "      <td>192.000000</td>\n",
              "      <td>1.920000e+02</td>\n",
              "      <td>1.920000e+02</td>\n",
              "    </tr>\n",
              "    <tr>\n",
              "      <th>mean</th>\n",
              "      <td>8.707150e+05</td>\n",
              "      <td>18040.692708</td>\n",
              "      <td>5.396890e+05</td>\n",
              "      <td>3.129854e+05</td>\n",
              "    </tr>\n",
              "    <tr>\n",
              "      <th>std</th>\n",
              "      <td>3.365025e+06</td>\n",
              "      <td>62618.579472</td>\n",
              "      <td>2.102144e+06</td>\n",
              "      <td>2.416908e+06</td>\n",
              "    </tr>\n",
              "    <tr>\n",
              "      <th>min</th>\n",
              "      <td>1.000000e+00</td>\n",
              "      <td>0.000000</td>\n",
              "      <td>0.000000e+00</td>\n",
              "      <td>-1.230200e+04</td>\n",
              "    </tr>\n",
              "    <tr>\n",
              "      <th>25%</th>\n",
              "      <td>1.145600e+04</td>\n",
              "      <td>152.250000</td>\n",
              "      <td>7.522000e+03</td>\n",
              "      <td>4.797500e+02</td>\n",
              "    </tr>\n",
              "    <tr>\n",
              "      <th>50%</th>\n",
              "      <td>9.603550e+04</td>\n",
              "      <td>1239.500000</td>\n",
              "      <td>4.759850e+04</td>\n",
              "      <td>4.456500e+03</td>\n",
              "    </tr>\n",
              "    <tr>\n",
              "      <th>75%</th>\n",
              "      <td>3.890772e+05</td>\n",
              "      <td>7733.500000</td>\n",
              "      <td>2.827870e+05</td>\n",
              "      <td>3.760925e+04</td>\n",
              "    </tr>\n",
              "    <tr>\n",
              "      <th>max</th>\n",
              "      <td>3.311774e+07</td>\n",
              "      <td>589893.000000</td>\n",
              "      <td>2.372801e+07</td>\n",
              "      <td>3.252784e+07</td>\n",
              "    </tr>\n",
              "  </tbody>\n",
              "</table>\n",
              "</div>"
            ],
            "text/plain": [
              "          Confirmed         Deaths     Recovered        Active\n",
              "count  1.920000e+02     192.000000  1.920000e+02  1.920000e+02\n",
              "mean   8.707150e+05   18040.692708  5.396890e+05  3.129854e+05\n",
              "std    3.365025e+06   62618.579472  2.102144e+06  2.416908e+06\n",
              "min    1.000000e+00       0.000000  0.000000e+00 -1.230200e+04\n",
              "25%    1.145600e+04     152.250000  7.522000e+03  4.797500e+02\n",
              "50%    9.603550e+04    1239.500000  4.759850e+04  4.456500e+03\n",
              "75%    3.890772e+05    7733.500000  2.827870e+05  3.760925e+04\n",
              "max    3.311774e+07  589893.000000  2.372801e+07  3.252784e+07"
            ]
          },
          "metadata": {
            "tags": []
          },
          "execution_count": 16
        }
      ]
    },
    {
      "cell_type": "code",
      "metadata": {
        "id": "kMpxPfPjXHgQ"
      },
      "source": [
        "# Use percentile to categorize countries\n",
        "cukupRawan = last_day[(last_day['Confirmed'] <= 1.143125e+04) | (last_day['Active'] <= 4.627500e+02)]\n",
        "rawan = last_day[(((last_day['Confirmed'] > 1.143125e+04) & (last_day['Confirmed'] <= 9.536800e+04))) | (((last_day['Active'] > 4.627500e+02) & (last_day['Active'] <= 5.066000e+03)))]\n",
        "sangatRawan = last_day[(last_day['Confirmed'] > 9.536800e+04) | (last_day['Active'] > 5.066000e+03)]"
      ],
      "execution_count": 17,
      "outputs": []
    },
    {
      "cell_type": "markdown",
      "metadata": {
        "id": "atJe5Gt73sxl"
      },
      "source": [
        "## **VISUALIZATION DATA**"
      ]
    },
    {
      "cell_type": "markdown",
      "metadata": {
        "id": "LW1XMa-CH1hd"
      },
      "source": [
        "### **Time span from confirmed COVID-19 cases**"
      ]
    },
    {
      "cell_type": "code",
      "metadata": {
        "colab": {
          "base_uri": "https://localhost:8080/",
          "height": 542
        },
        "id": "rxdB4gExZFaT",
        "outputId": "dc48850f-98ea-4466-df1d-72b75afe9e0c"
      },
      "source": [
        "dataGroup.iplot(kind = \"bar\", y = \"Confirmed\", title = \"Trend Confirmed Case Global Covid-19\",\n",
        "                      xTitle = \"Time\", yTitle = 'Number of confirmed cases')"
      ],
      "execution_count": 18,
      "outputs": [
        {
          "output_type": "display_data",
          "data": {
            "text/html": [
              "<div>\n",
              "        \n",
              "        \n",
              "            <div id=\"a1cf4f8d-e3fc-4dfa-80e1-cbd9990eb80f\" class=\"plotly-graph-div\" style=\"height:525px; width:100%;\"></div>\n",
              "            <script type=\"text/javascript\">\n",
              "                require([\"plotly\"], function(Plotly) {\n",
              "                    window.PLOTLYENV=window.PLOTLYENV || {};\n",
              "                    window.PLOTLYENV.BASE_URL='https://plot.ly';\n",
              "                    \n",
              "                if (document.getElementById(\"a1cf4f8d-e3fc-4dfa-80e1-cbd9990eb80f\")) {\n",
              "                    Plotly.newPlot(\n",
              "                        'a1cf4f8d-e3fc-4dfa-80e1-cbd9990eb80f',\n",
              "                        [{\"marker\": {\"color\": \"rgba(255, 153, 51, 0.6)\", \"line\": {\"color\": \"rgba(255, 153, 51, 1.0)\", \"width\": 1}}, \"name\": \"Confirmed\", \"orientation\": \"v\", \"text\": \"\", \"type\": \"bar\", \"x\": [\"2020-01-22\", \"2020-01-23\", \"2020-01-24\", \"2020-01-25\", \"2020-01-26\", \"2020-01-27\", \"2020-01-28\", \"2020-01-29\", \"2020-01-30\", \"2020-01-31\", \"2020-02-01\", \"2020-02-02\", \"2020-02-03\", \"2020-02-04\", \"2020-02-05\", \"2020-02-06\", \"2020-02-07\", \"2020-02-08\", \"2020-02-09\", \"2020-02-10\", \"2020-02-11\", \"2020-02-12\", \"2020-02-13\", \"2020-02-14\", \"2020-02-15\", \"2020-02-16\", \"2020-02-17\", \"2020-02-18\", \"2020-02-19\", \"2020-02-20\", \"2020-02-21\", \"2020-02-22\", \"2020-02-23\", \"2020-02-24\", \"2020-02-25\", \"2020-02-26\", \"2020-02-27\", \"2020-02-28\", \"2020-02-29\", \"2020-03-01\", \"2020-03-02\", \"2020-03-03\", \"2020-03-04\", \"2020-03-05\", \"2020-03-06\", \"2020-03-07\", \"2020-03-08\", \"2020-03-09\", \"2020-03-10\", \"2020-03-11\", \"2020-03-12\", \"2020-03-13\", \"2020-03-14\", \"2020-03-15\", \"2020-03-16\", \"2020-03-17\", \"2020-03-18\", \"2020-03-19\", \"2020-03-20\", \"2020-03-21\", \"2020-03-22\", \"2020-03-23\", \"2020-03-24\", \"2020-03-25\", \"2020-03-26\", \"2020-03-27\", \"2020-03-28\", \"2020-03-29\", \"2020-03-30\", \"2020-03-31\", \"2020-04-01\", \"2020-04-02\", \"2020-04-03\", \"2020-04-04\", \"2020-04-05\", \"2020-04-06\", \"2020-04-07\", \"2020-04-08\", \"2020-04-09\", \"2020-04-10\", \"2020-04-11\", \"2020-04-12\", \"2020-04-13\", \"2020-04-14\", \"2020-04-15\", \"2020-04-16\", \"2020-04-17\", \"2020-04-18\", \"2020-04-19\", \"2020-04-20\", \"2020-04-21\", \"2020-04-22\", \"2020-04-23\", \"2020-04-24\", \"2020-04-25\", \"2020-04-26\", \"2020-04-27\", \"2020-04-28\", \"2020-04-29\", \"2020-04-30\", \"2020-05-01\", \"2020-05-02\", \"2020-05-03\", \"2020-05-04\", \"2020-05-05\", \"2020-05-06\", \"2020-05-07\", \"2020-05-08\", \"2020-05-09\", \"2020-05-10\", \"2020-05-11\", \"2020-05-12\", \"2020-05-13\", \"2020-05-14\", \"2020-05-15\", \"2020-05-16\", \"2020-05-17\", \"2020-05-18\", \"2020-05-19\", \"2020-05-20\", \"2020-05-21\", \"2020-05-22\", \"2020-05-23\", \"2020-05-24\", \"2020-05-25\", \"2020-05-26\", \"2020-05-27\", \"2020-05-28\", \"2020-05-29\", \"2020-05-30\", \"2020-05-31\", \"2020-06-01\", \"2020-06-02\", \"2020-06-03\", \"2020-06-04\", \"2020-06-05\", \"2020-06-06\", \"2020-06-07\", \"2020-06-08\", \"2020-06-09\", \"2020-06-10\", \"2020-06-11\", \"2020-06-12\", \"2020-06-13\", \"2020-06-14\", \"2020-06-15\", \"2020-06-16\", \"2020-06-17\", \"2020-06-18\", \"2020-06-19\", \"2020-06-20\", \"2020-06-21\", \"2020-06-22\", \"2020-06-23\", \"2020-06-24\", \"2020-06-25\", \"2020-06-26\", \"2020-06-27\", \"2020-06-28\", \"2020-06-29\", \"2020-06-30\", \"2020-07-01\", \"2020-07-02\", \"2020-07-03\", \"2020-07-04\", \"2020-07-05\", \"2020-07-06\", \"2020-07-07\", \"2020-07-08\", \"2020-07-09\", \"2020-07-10\", \"2020-07-11\", \"2020-07-12\", \"2020-07-13\", \"2020-07-14\", \"2020-07-15\", \"2020-07-16\", \"2020-07-17\", \"2020-07-18\", \"2020-07-19\", \"2020-07-20\", \"2020-07-21\", \"2020-07-22\", \"2020-07-23\", \"2020-07-24\", \"2020-07-25\", \"2020-07-26\", \"2020-07-27\", \"2020-07-28\", \"2020-07-29\", \"2020-07-30\", \"2020-07-31\", \"2020-08-01\", \"2020-08-02\", \"2020-08-03\", \"2020-08-04\", \"2020-08-05\", \"2020-08-06\", \"2020-08-07\", \"2020-08-08\", \"2020-08-09\", \"2020-08-10\", \"2020-08-11\", \"2020-08-12\", \"2020-08-13\", \"2020-08-14\", \"2020-08-15\", \"2020-08-16\", \"2020-08-17\", \"2020-08-18\", \"2020-08-19\", \"2020-08-20\", \"2020-08-21\", \"2020-08-22\", \"2020-08-23\", \"2020-08-24\", \"2020-08-25\", \"2020-08-26\", \"2020-08-27\", \"2020-08-28\", \"2020-08-29\", \"2020-08-30\", \"2020-08-31\", \"2020-09-01\", \"2020-09-02\", \"2020-09-03\", \"2020-09-04\", \"2020-09-05\", \"2020-09-06\", \"2020-09-07\", \"2020-09-08\", \"2020-09-09\", \"2020-09-10\", \"2020-09-11\", \"2020-09-12\", \"2020-09-13\", \"2020-09-14\", \"2020-09-15\", \"2020-09-16\", \"2020-09-17\", \"2020-09-18\", \"2020-09-19\", \"2020-09-20\", \"2020-09-21\", \"2020-09-22\", \"2020-09-23\", \"2020-09-24\", \"2020-09-25\", \"2020-09-26\", \"2020-09-27\", \"2020-09-28\", \"2020-09-29\", \"2020-09-30\", \"2020-10-01\", \"2020-10-02\", \"2020-10-03\", \"2020-10-04\", \"2020-10-05\", \"2020-10-06\", \"2020-10-07\", \"2020-10-08\", \"2020-10-09\", \"2020-10-10\", \"2020-10-11\", \"2020-10-12\", \"2020-10-13\", \"2020-10-14\", \"2020-10-15\", \"2020-10-16\", \"2020-10-17\", \"2020-10-18\", \"2020-10-19\", \"2020-10-20\", \"2020-10-21\", \"2020-10-22\", \"2020-10-23\", \"2020-10-24\", \"2020-10-25\", \"2020-10-26\", \"2020-10-27\", \"2020-10-28\", \"2020-10-29\", \"2020-10-30\", \"2020-10-31\", \"2020-11-01\", \"2020-11-02\", \"2020-11-03\", \"2020-11-04\", \"2020-11-05\", \"2020-11-06\", \"2020-11-07\", \"2020-11-08\", \"2020-11-09\", \"2020-11-10\", \"2020-11-11\", \"2020-11-12\", \"2020-11-13\", \"2020-11-14\", \"2020-11-15\", \"2020-11-16\", \"2020-11-17\", \"2020-11-18\", \"2020-11-19\", \"2020-11-20\", \"2020-11-21\", \"2020-11-22\", \"2020-11-23\", \"2020-11-24\", \"2020-11-25\", \"2020-11-26\", \"2020-11-27\", \"2020-11-28\", \"2020-11-29\", \"2020-11-30\", \"2020-12-01\", \"2020-12-02\", \"2020-12-03\", \"2020-12-04\", \"2020-12-05\", \"2020-12-06\", \"2020-12-07\", \"2020-12-08\", \"2020-12-09\", \"2020-12-10\", \"2020-12-11\", \"2020-12-12\", \"2020-12-13\", \"2020-12-14\", \"2020-12-15\", \"2020-12-16\", \"2020-12-17\", \"2020-12-18\", \"2020-12-19\", \"2020-12-20\", \"2020-12-21\", \"2020-12-22\", \"2020-12-23\", \"2020-12-24\", \"2020-12-25\", \"2020-12-26\", \"2020-12-27\", \"2020-12-28\", \"2020-12-29\", \"2020-12-30\", \"2020-12-31\", \"2021-01-01\", \"2021-01-02\", \"2021-01-03\", \"2021-01-04\", \"2021-01-05\", \"2021-01-06\", \"2021-01-07\", \"2021-01-08\", \"2021-01-09\", \"2021-01-10\", \"2021-01-11\", \"2021-01-12\", \"2021-01-13\", \"2021-01-14\", \"2021-01-15\", \"2021-01-16\", \"2021-01-17\", \"2021-01-18\", \"2021-01-19\", \"2021-01-20\", \"2021-01-21\", \"2021-01-22\", \"2021-01-23\", \"2021-01-24\", \"2021-01-25\", \"2021-01-26\", \"2021-01-27\", \"2021-01-28\", \"2021-01-29\", \"2021-01-30\", \"2021-01-31\", \"2021-02-01\", \"2021-02-02\", \"2021-02-03\", \"2021-02-04\", \"2021-02-05\", \"2021-02-06\", \"2021-02-07\", \"2021-02-08\", \"2021-02-09\", \"2021-02-10\", \"2021-02-11\", \"2021-02-12\", \"2021-02-13\", \"2021-02-14\", \"2021-02-15\", \"2021-02-16\", \"2021-02-17\", \"2021-02-18\", \"2021-02-19\", \"2021-02-20\", \"2021-02-21\", \"2021-02-22\", \"2021-02-23\", \"2021-02-24\", \"2021-02-25\", \"2021-02-26\", \"2021-02-27\", \"2021-02-28\", \"2021-03-01\", \"2021-03-02\", \"2021-03-03\", \"2021-03-04\", \"2021-03-05\", \"2021-03-06\", \"2021-03-07\", \"2021-03-08\", \"2021-03-09\", \"2021-03-10\", \"2021-03-11\", \"2021-03-12\", \"2021-03-13\", \"2021-03-14\", \"2021-03-15\", \"2021-03-16\", \"2021-03-17\", \"2021-03-18\", \"2021-03-19\", \"2021-03-20\", \"2021-03-21\", \"2021-03-22\", \"2021-03-23\", \"2021-03-24\", \"2021-03-25\", \"2021-03-26\", \"2021-03-27\", \"2021-03-28\", \"2021-03-29\", \"2021-03-30\", \"2021-03-31\", \"2021-04-01\", \"2021-04-02\", \"2021-04-03\", \"2021-04-04\", \"2021-04-05\", \"2021-04-06\", \"2021-04-07\", \"2021-04-08\", \"2021-04-09\", \"2021-04-10\", \"2021-04-11\", \"2021-04-12\", \"2021-04-13\", \"2021-04-14\", \"2021-04-15\", \"2021-04-16\", \"2021-04-17\", \"2021-04-18\", \"2021-04-19\", \"2021-04-20\", \"2021-04-21\", \"2021-04-22\", \"2021-04-23\", \"2021-04-24\", \"2021-04-25\", \"2021-04-26\", \"2021-04-27\", \"2021-04-28\", \"2021-04-29\", \"2021-04-30\", \"2021-05-01\", \"2021-05-02\", \"2021-05-03\", \"2021-05-04\", \"2021-05-05\", \"2021-05-06\", \"2021-05-07\", \"2021-05-08\", \"2021-05-09\", \"2021-05-10\", \"2021-05-11\", \"2021-05-12\", \"2021-05-13\", \"2021-05-14\", \"2021-05-15\", \"2021-05-16\", \"2021-05-17\", \"2021-05-18\", \"2021-05-19\", \"2021-05-20\", \"2021-05-21\", \"2021-05-22\", \"2021-05-23\"], \"y\": [557, 655, 941, 1433, 2118, 2927, 5578, 6167, 8235, 9927, 12038, 16787, 19887, 23898, 27643, 30803, 34396, 37130, 40160, 42769, 44811, 45229, 60382, 66909, 69052, 71235, 73270, 75152, 75652, 76212, 76841, 78602, 78982, 79546, 80399, 81376, 82736, 84122, 86013, 88394, 90377, 92971, 95279, 98090, 102003, 106098, 110047, 114219, 119041, 126702, 132492, 146876, 157950, 169219, 184027, 199970, 219535, 246584, 277359, 309350, 344205, 387040, 428219, 479220, 542097, 607138, 674418, 733655, 798949, 875794, 958602, 1041662, 1125221, 1183584, 1256176, 1329331, 1399162, 1482540, 1569554, 1655088, 1729371, 1849067, 1919809, 2003820, 2080934, 2176465, 2264462, 2341702, 2418307, 2494325, 2570074, 2651321, 2735570, 2819666, 2901925, 2973513, 3043705, 3119245, 3196355, 3279850, 3368226, 3447426, 3523799, 3601488, 3681990, 3772018, 3860724, 3951003, 4036226, 4111202, 4187833, 4272324, 4357304, 4453535, 4549267, 4643706, 4721728, 4810895, 4907670, 5009548, 5116192, 5222614, 5327418, 5421629, 5508346, 5602313, 5705075, 5824358, 5945261, 6081776, 6188184, 6284179, 6406143, 6520392, 6651336, 6782559, 6916296, 7028659, 7131156, 7256216, 7391321, 7529341, 7658106, 7793395, 7925679, 8045337, 8187421, 8331167, 8472230, 8652145, 8809593, 8937295, 9076656, 9243465, 9416059, 9594440, 9786037, 9964169, 10128040, 10283387, 10457929, 10675536, 10885481, 11086866, 11280675, 11464678, 11628653, 11840015, 12054174, 12281001, 12513675, 12730157, 12922431, 13113875, 13336063, 13567531, 13818843, 14061585, 14297763, 14511197, 14718313, 14951994, 15231862, 15514716, 15795790, 16049844, 16262880, 16489410, 16742195, 17033923, 17314023, 17604767, 17853105, 18084097, 18290572, 18548514, 18825089, 19110291, 19392530, 19651048, 19875731, 20101760, 20359330, 20635977, 20925193, 21228941, 21476649, 21691119, 21898851, 22157107, 22436697, 22709251, 22970456, 23234707, 23440856, 23666124, 23910125, 24193918, 24477813, 24761440, 25025233, 25246198, 25509089, 25774014, 26057518, 26338937, 26652953, 26922944, 27153409, 27371291, 27613490, 27898312, 28198188, 28519558, 28806136, 29048855, 29312607, 29598069, 29902604, 30217490, 30543411, 30835530, 31087644, 31363730, 31648244, 31924336, 32277373, 32608243, 32896685, 33148076, 33402856, 33685524, 34011734, 34330037, 34627903, 34959947, 35221344, 35522367, 35848886, 36199883, 36561210, 36922107, 37279208, 37566120, 37857886, 38177145, 38559479, 38966463, 39378234, 39750891, 40067454, 40454664, 40843666, 41288556, 41761275, 42258073, 42714857, 43075510, 43561921, 44032154, 44544026, 45094441, 45665496, 46142261, 46604645, 47167772, 47721517, 48233069, 48829627, 49474481, 50071373, 50555347, 51056879, 51616256, 52264862, 52914405, 53566478, 54161448, 54635389, 55169846, 55781066, 56408169, 57061754, 57730498, 58318062, 58806043, 59331362, 59921623, 60557847, 61140322, 61827470, 62413501, 62902084, 63410725, 64022822, 64674220, 65368548, 66051824, 66693987, 67232741, 67752760, 68396288, 69066199, 70564412, 71268909, 71903759, 72434597, 72959984, 73596190, 74329916, 75069498, 75789960, 76401213, 76934686, 77483983, 78134244, 78829366, 79496006, 79961556, 80474158, 80912611, 81408934, 82073362, 82834592, 83559601, 84092619, 84718978, 85251774, 85805892, 86546014, 87329386, 88210223, 89013445, 89774439, 90363573, 90983503, 91689011, 92437399, 93192627, 93959814, 94598958, 95128170, 95643236, 96251662, 96944599, 97600922, 98259983, 98828107, 99273761, 99771101, 100327339, 100925700, 101539951, 102130394, 102645724, 103027363, 103474137, 103932094, 104454075, 104920982, 105456410, 105828535, 106226613, 106542506, 106970539, 107406280, 107847745, 108276434, 108649735, 108943585, 109226751, 109577771, 109973326, 110376842, 110789361, 111159816, 111474262, 111762700, 112151553, 112596489, 113043967, 113487006, 113876236, 114179745, 114485609, 114795897, 115237039, 115690088, 116137142, 116547675, 116915987, 117214710, 117629375, 118096454, 118573350, 119062678, 119516794, 119877179, 120226080, 120699093, 121238378, 121792101, 122353780, 122852600, 123275915, 123692736, 124206981, 124840562, 125491912, 126133263, 126717855, 127187813, 127646218, 128214491, 128897696, 129609483, 130243222, 130772665, 131325468, 131815052, 132419139, 133103485, 133943335, 134691380, 135355887, 136046628, 136663253, 137442820, 138259845, 139076606, 139931461, 140719503, 141404998, 142098420, 142952845, 143842820, 144742575, 145646322, 146467262, 147189618, 147872402, 148716872, 149622864, 150520466, 151399480, 152196159, 152870507, 153552097, 154359533, 155200757, 156070729, 156902287, 157688833, 158330372, 158952301, 159690774, 160450873, 161176148, 161894208, 162521726, 163069932, 163609626, 164231810, 164902902, 165531431, 166139027, 166699143, 167177284]}],\n",
              "                        {\"legend\": {\"bgcolor\": \"#F5F6F9\", \"font\": {\"color\": \"#4D5663\"}}, \"paper_bgcolor\": \"#F5F6F9\", \"plot_bgcolor\": \"#F5F6F9\", \"template\": {\"data\": {\"bar\": [{\"error_x\": {\"color\": \"#2a3f5f\"}, \"error_y\": {\"color\": \"#2a3f5f\"}, \"marker\": {\"line\": {\"color\": \"#E5ECF6\", \"width\": 0.5}}, \"type\": \"bar\"}], \"barpolar\": [{\"marker\": {\"line\": {\"color\": \"#E5ECF6\", \"width\": 0.5}}, \"type\": \"barpolar\"}], \"carpet\": [{\"aaxis\": {\"endlinecolor\": \"#2a3f5f\", \"gridcolor\": \"white\", \"linecolor\": \"white\", \"minorgridcolor\": \"white\", \"startlinecolor\": \"#2a3f5f\"}, \"baxis\": {\"endlinecolor\": \"#2a3f5f\", \"gridcolor\": \"white\", \"linecolor\": \"white\", \"minorgridcolor\": \"white\", \"startlinecolor\": \"#2a3f5f\"}, \"type\": \"carpet\"}], \"choropleth\": [{\"colorbar\": {\"outlinewidth\": 0, \"ticks\": \"\"}, \"type\": \"choropleth\"}], \"contour\": [{\"colorbar\": {\"outlinewidth\": 0, \"ticks\": \"\"}, \"colorscale\": [[0.0, \"#0d0887\"], [0.1111111111111111, \"#46039f\"], [0.2222222222222222, \"#7201a8\"], [0.3333333333333333, \"#9c179e\"], [0.4444444444444444, \"#bd3786\"], [0.5555555555555556, \"#d8576b\"], [0.6666666666666666, \"#ed7953\"], [0.7777777777777778, \"#fb9f3a\"], [0.8888888888888888, \"#fdca26\"], [1.0, \"#f0f921\"]], \"type\": \"contour\"}], \"contourcarpet\": [{\"colorbar\": {\"outlinewidth\": 0, \"ticks\": \"\"}, \"type\": \"contourcarpet\"}], \"heatmap\": [{\"colorbar\": {\"outlinewidth\": 0, \"ticks\": \"\"}, \"colorscale\": [[0.0, \"#0d0887\"], [0.1111111111111111, \"#46039f\"], [0.2222222222222222, \"#7201a8\"], [0.3333333333333333, \"#9c179e\"], [0.4444444444444444, \"#bd3786\"], [0.5555555555555556, \"#d8576b\"], [0.6666666666666666, \"#ed7953\"], [0.7777777777777778, \"#fb9f3a\"], [0.8888888888888888, \"#fdca26\"], [1.0, \"#f0f921\"]], \"type\": \"heatmap\"}], \"heatmapgl\": [{\"colorbar\": {\"outlinewidth\": 0, \"ticks\": \"\"}, \"colorscale\": [[0.0, \"#0d0887\"], [0.1111111111111111, \"#46039f\"], [0.2222222222222222, \"#7201a8\"], [0.3333333333333333, \"#9c179e\"], [0.4444444444444444, \"#bd3786\"], [0.5555555555555556, \"#d8576b\"], [0.6666666666666666, \"#ed7953\"], [0.7777777777777778, \"#fb9f3a\"], [0.8888888888888888, \"#fdca26\"], [1.0, \"#f0f921\"]], \"type\": \"heatmapgl\"}], \"histogram\": [{\"marker\": {\"colorbar\": {\"outlinewidth\": 0, \"ticks\": \"\"}}, \"type\": \"histogram\"}], \"histogram2d\": [{\"colorbar\": {\"outlinewidth\": 0, \"ticks\": \"\"}, \"colorscale\": [[0.0, \"#0d0887\"], [0.1111111111111111, \"#46039f\"], [0.2222222222222222, \"#7201a8\"], [0.3333333333333333, \"#9c179e\"], [0.4444444444444444, \"#bd3786\"], [0.5555555555555556, \"#d8576b\"], [0.6666666666666666, \"#ed7953\"], [0.7777777777777778, \"#fb9f3a\"], [0.8888888888888888, \"#fdca26\"], [1.0, \"#f0f921\"]], \"type\": \"histogram2d\"}], \"histogram2dcontour\": [{\"colorbar\": {\"outlinewidth\": 0, \"ticks\": \"\"}, \"colorscale\": [[0.0, \"#0d0887\"], [0.1111111111111111, \"#46039f\"], [0.2222222222222222, \"#7201a8\"], [0.3333333333333333, \"#9c179e\"], [0.4444444444444444, \"#bd3786\"], [0.5555555555555556, \"#d8576b\"], [0.6666666666666666, \"#ed7953\"], [0.7777777777777778, \"#fb9f3a\"], [0.8888888888888888, \"#fdca26\"], [1.0, \"#f0f921\"]], \"type\": \"histogram2dcontour\"}], \"mesh3d\": [{\"colorbar\": {\"outlinewidth\": 0, \"ticks\": \"\"}, \"type\": \"mesh3d\"}], \"parcoords\": [{\"line\": {\"colorbar\": {\"outlinewidth\": 0, \"ticks\": \"\"}}, \"type\": \"parcoords\"}], \"pie\": [{\"automargin\": true, \"type\": \"pie\"}], \"scatter\": [{\"marker\": {\"colorbar\": {\"outlinewidth\": 0, \"ticks\": \"\"}}, \"type\": \"scatter\"}], \"scatter3d\": [{\"line\": {\"colorbar\": {\"outlinewidth\": 0, \"ticks\": \"\"}}, \"marker\": {\"colorbar\": {\"outlinewidth\": 0, \"ticks\": \"\"}}, \"type\": \"scatter3d\"}], \"scattercarpet\": [{\"marker\": {\"colorbar\": {\"outlinewidth\": 0, \"ticks\": \"\"}}, \"type\": \"scattercarpet\"}], \"scattergeo\": [{\"marker\": {\"colorbar\": {\"outlinewidth\": 0, \"ticks\": \"\"}}, \"type\": \"scattergeo\"}], \"scattergl\": [{\"marker\": {\"colorbar\": {\"outlinewidth\": 0, \"ticks\": \"\"}}, \"type\": \"scattergl\"}], \"scattermapbox\": [{\"marker\": {\"colorbar\": {\"outlinewidth\": 0, \"ticks\": \"\"}}, \"type\": \"scattermapbox\"}], \"scatterpolar\": [{\"marker\": {\"colorbar\": {\"outlinewidth\": 0, \"ticks\": \"\"}}, \"type\": \"scatterpolar\"}], \"scatterpolargl\": [{\"marker\": {\"colorbar\": {\"outlinewidth\": 0, \"ticks\": \"\"}}, \"type\": \"scatterpolargl\"}], \"scatterternary\": [{\"marker\": {\"colorbar\": {\"outlinewidth\": 0, \"ticks\": \"\"}}, \"type\": \"scatterternary\"}], \"surface\": [{\"colorbar\": {\"outlinewidth\": 0, \"ticks\": \"\"}, \"colorscale\": [[0.0, \"#0d0887\"], [0.1111111111111111, \"#46039f\"], [0.2222222222222222, \"#7201a8\"], [0.3333333333333333, \"#9c179e\"], [0.4444444444444444, \"#bd3786\"], [0.5555555555555556, \"#d8576b\"], [0.6666666666666666, \"#ed7953\"], [0.7777777777777778, \"#fb9f3a\"], [0.8888888888888888, \"#fdca26\"], [1.0, \"#f0f921\"]], \"type\": \"surface\"}], \"table\": [{\"cells\": {\"fill\": {\"color\": \"#EBF0F8\"}, \"line\": {\"color\": \"white\"}}, \"header\": {\"fill\": {\"color\": \"#C8D4E3\"}, \"line\": {\"color\": \"white\"}}, \"type\": \"table\"}]}, \"layout\": {\"annotationdefaults\": {\"arrowcolor\": \"#2a3f5f\", \"arrowhead\": 0, \"arrowwidth\": 1}, \"coloraxis\": {\"colorbar\": {\"outlinewidth\": 0, \"ticks\": \"\"}}, \"colorscale\": {\"diverging\": [[0, \"#8e0152\"], [0.1, \"#c51b7d\"], [0.2, \"#de77ae\"], [0.3, \"#f1b6da\"], [0.4, \"#fde0ef\"], [0.5, \"#f7f7f7\"], [0.6, \"#e6f5d0\"], [0.7, \"#b8e186\"], [0.8, \"#7fbc41\"], [0.9, \"#4d9221\"], [1, \"#276419\"]], \"sequential\": [[0.0, \"#0d0887\"], [0.1111111111111111, \"#46039f\"], [0.2222222222222222, \"#7201a8\"], [0.3333333333333333, \"#9c179e\"], [0.4444444444444444, \"#bd3786\"], [0.5555555555555556, \"#d8576b\"], [0.6666666666666666, \"#ed7953\"], [0.7777777777777778, \"#fb9f3a\"], [0.8888888888888888, \"#fdca26\"], [1.0, \"#f0f921\"]], \"sequentialminus\": [[0.0, \"#0d0887\"], [0.1111111111111111, \"#46039f\"], [0.2222222222222222, \"#7201a8\"], [0.3333333333333333, \"#9c179e\"], [0.4444444444444444, \"#bd3786\"], [0.5555555555555556, \"#d8576b\"], [0.6666666666666666, \"#ed7953\"], [0.7777777777777778, \"#fb9f3a\"], [0.8888888888888888, \"#fdca26\"], [1.0, \"#f0f921\"]]}, \"colorway\": [\"#636efa\", \"#EF553B\", \"#00cc96\", \"#ab63fa\", \"#FFA15A\", \"#19d3f3\", \"#FF6692\", \"#B6E880\", \"#FF97FF\", \"#FECB52\"], \"font\": {\"color\": \"#2a3f5f\"}, \"geo\": {\"bgcolor\": \"white\", \"lakecolor\": \"white\", \"landcolor\": \"#E5ECF6\", \"showlakes\": true, \"showland\": true, \"subunitcolor\": \"white\"}, \"hoverlabel\": {\"align\": \"left\"}, \"hovermode\": \"closest\", \"mapbox\": {\"style\": \"light\"}, \"paper_bgcolor\": \"white\", \"plot_bgcolor\": \"#E5ECF6\", \"polar\": {\"angularaxis\": {\"gridcolor\": \"white\", \"linecolor\": \"white\", \"ticks\": \"\"}, \"bgcolor\": \"#E5ECF6\", \"radialaxis\": {\"gridcolor\": \"white\", \"linecolor\": \"white\", \"ticks\": \"\"}}, \"scene\": {\"xaxis\": {\"backgroundcolor\": \"#E5ECF6\", \"gridcolor\": \"white\", \"gridwidth\": 2, \"linecolor\": \"white\", \"showbackground\": true, \"ticks\": \"\", \"zerolinecolor\": \"white\"}, \"yaxis\": {\"backgroundcolor\": \"#E5ECF6\", \"gridcolor\": \"white\", \"gridwidth\": 2, \"linecolor\": \"white\", \"showbackground\": true, \"ticks\": \"\", \"zerolinecolor\": \"white\"}, \"zaxis\": {\"backgroundcolor\": \"#E5ECF6\", \"gridcolor\": \"white\", \"gridwidth\": 2, \"linecolor\": \"white\", \"showbackground\": true, \"ticks\": \"\", \"zerolinecolor\": \"white\"}}, \"shapedefaults\": {\"line\": {\"color\": \"#2a3f5f\"}}, \"ternary\": {\"aaxis\": {\"gridcolor\": \"white\", \"linecolor\": \"white\", \"ticks\": \"\"}, \"baxis\": {\"gridcolor\": \"white\", \"linecolor\": \"white\", \"ticks\": \"\"}, \"bgcolor\": \"#E5ECF6\", \"caxis\": {\"gridcolor\": \"white\", \"linecolor\": \"white\", \"ticks\": \"\"}}, \"title\": {\"x\": 0.05}, \"xaxis\": {\"automargin\": true, \"gridcolor\": \"white\", \"linecolor\": \"white\", \"ticks\": \"\", \"title\": {\"standoff\": 15}, \"zerolinecolor\": \"white\", \"zerolinewidth\": 2}, \"yaxis\": {\"automargin\": true, \"gridcolor\": \"white\", \"linecolor\": \"white\", \"ticks\": \"\", \"title\": {\"standoff\": 15}, \"zerolinecolor\": \"white\", \"zerolinewidth\": 2}}}, \"title\": {\"font\": {\"color\": \"#4D5663\"}, \"text\": \"Trend Confirmed Case Global Covid-19\"}, \"xaxis\": {\"gridcolor\": \"#E1E5ED\", \"showgrid\": true, \"tickfont\": {\"color\": \"#4D5663\"}, \"title\": {\"font\": {\"color\": \"#4D5663\"}, \"text\": \"Time\"}, \"zerolinecolor\": \"#E1E5ED\"}, \"yaxis\": {\"gridcolor\": \"#E1E5ED\", \"showgrid\": true, \"tickfont\": {\"color\": \"#4D5663\"}, \"title\": {\"font\": {\"color\": \"#4D5663\"}, \"text\": \"Number of confirmed cases\"}, \"zerolinecolor\": \"#E1E5ED\"}},\n",
              "                        {\"showLink\": true, \"linkText\": \"Export to plot.ly\", \"plotlyServerURL\": \"https://plot.ly\", \"responsive\": true}\n",
              "                    ).then(function(){\n",
              "                            \n",
              "var gd = document.getElementById('a1cf4f8d-e3fc-4dfa-80e1-cbd9990eb80f');\n",
              "var x = new MutationObserver(function (mutations, observer) {{\n",
              "        var display = window.getComputedStyle(gd).display;\n",
              "        if (!display || display === 'none') {{\n",
              "            console.log([gd, 'removed!']);\n",
              "            Plotly.purge(gd);\n",
              "            observer.disconnect();\n",
              "        }}\n",
              "}});\n",
              "\n",
              "// Listen for the removal of the full notebook cells\n",
              "var notebookContainer = gd.closest('#notebook-container');\n",
              "if (notebookContainer) {{\n",
              "    x.observe(notebookContainer, {childList: true});\n",
              "}}\n",
              "\n",
              "// Listen for the clearing of the current output cell\n",
              "var outputEl = gd.closest('.output');\n",
              "if (outputEl) {{\n",
              "    x.observe(outputEl, {childList: true});\n",
              "}}\n",
              "\n",
              "                        })\n",
              "                };\n",
              "                });\n",
              "            </script>\n",
              "        </div>"
            ],
            "application/vnd.plotly.v1+json": {
              "data": [
                {
                  "name": "Confirmed",
                  "text": "",
                  "y": [
                    557,
                    655,
                    941,
                    1433,
                    2118,
                    2927,
                    5578,
                    6167,
                    8235,
                    9927,
                    12038,
                    16787,
                    19887,
                    23898,
                    27643,
                    30803,
                    34396,
                    37130,
                    40160,
                    42769,
                    44811,
                    45229,
                    60382,
                    66909,
                    69052,
                    71235,
                    73270,
                    75152,
                    75652,
                    76212,
                    76841,
                    78602,
                    78982,
                    79546,
                    80399,
                    81376,
                    82736,
                    84122,
                    86013,
                    88394,
                    90377,
                    92971,
                    95279,
                    98090,
                    102003,
                    106098,
                    110047,
                    114219,
                    119041,
                    126702,
                    132492,
                    146876,
                    157950,
                    169219,
                    184027,
                    199970,
                    219535,
                    246584,
                    277359,
                    309350,
                    344205,
                    387040,
                    428219,
                    479220,
                    542097,
                    607138,
                    674418,
                    733655,
                    798949,
                    875794,
                    958602,
                    1041662,
                    1125221,
                    1183584,
                    1256176,
                    1329331,
                    1399162,
                    1482540,
                    1569554,
                    1655088,
                    1729371,
                    1849067,
                    1919809,
                    2003820,
                    2080934,
                    2176465,
                    2264462,
                    2341702,
                    2418307,
                    2494325,
                    2570074,
                    2651321,
                    2735570,
                    2819666,
                    2901925,
                    2973513,
                    3043705,
                    3119245,
                    3196355,
                    3279850,
                    3368226,
                    3447426,
                    3523799,
                    3601488,
                    3681990,
                    3772018,
                    3860724,
                    3951003,
                    4036226,
                    4111202,
                    4187833,
                    4272324,
                    4357304,
                    4453535,
                    4549267,
                    4643706,
                    4721728,
                    4810895,
                    4907670,
                    5009548,
                    5116192,
                    5222614,
                    5327418,
                    5421629,
                    5508346,
                    5602313,
                    5705075,
                    5824358,
                    5945261,
                    6081776,
                    6188184,
                    6284179,
                    6406143,
                    6520392,
                    6651336,
                    6782559,
                    6916296,
                    7028659,
                    7131156,
                    7256216,
                    7391321,
                    7529341,
                    7658106,
                    7793395,
                    7925679,
                    8045337,
                    8187421,
                    8331167,
                    8472230,
                    8652145,
                    8809593,
                    8937295,
                    9076656,
                    9243465,
                    9416059,
                    9594440,
                    9786037,
                    9964169,
                    10128040,
                    10283387,
                    10457929,
                    10675536,
                    10885481,
                    11086866,
                    11280675,
                    11464678,
                    11628653,
                    11840015,
                    12054174,
                    12281001,
                    12513675,
                    12730157,
                    12922431,
                    13113875,
                    13336063,
                    13567531,
                    13818843,
                    14061585,
                    14297763,
                    14511197,
                    14718313,
                    14951994,
                    15231862,
                    15514716,
                    15795790,
                    16049844,
                    16262880,
                    16489410,
                    16742195,
                    17033923,
                    17314023,
                    17604767,
                    17853105,
                    18084097,
                    18290572,
                    18548514,
                    18825089,
                    19110291,
                    19392530,
                    19651048,
                    19875731,
                    20101760,
                    20359330,
                    20635977,
                    20925193,
                    21228941,
                    21476649,
                    21691119,
                    21898851,
                    22157107,
                    22436697,
                    22709251,
                    22970456,
                    23234707,
                    23440856,
                    23666124,
                    23910125,
                    24193918,
                    24477813,
                    24761440,
                    25025233,
                    25246198,
                    25509089,
                    25774014,
                    26057518,
                    26338937,
                    26652953,
                    26922944,
                    27153409,
                    27371291,
                    27613490,
                    27898312,
                    28198188,
                    28519558,
                    28806136,
                    29048855,
                    29312607,
                    29598069,
                    29902604,
                    30217490,
                    30543411,
                    30835530,
                    31087644,
                    31363730,
                    31648244,
                    31924336,
                    32277373,
                    32608243,
                    32896685,
                    33148076,
                    33402856,
                    33685524,
                    34011734,
                    34330037,
                    34627903,
                    34959947,
                    35221344,
                    35522367,
                    35848886,
                    36199883,
                    36561210,
                    36922107,
                    37279208,
                    37566120,
                    37857886,
                    38177145,
                    38559479,
                    38966463,
                    39378234,
                    39750891,
                    40067454,
                    40454664,
                    40843666,
                    41288556,
                    41761275,
                    42258073,
                    42714857,
                    43075510,
                    43561921,
                    44032154,
                    44544026,
                    45094441,
                    45665496,
                    46142261,
                    46604645,
                    47167772,
                    47721517,
                    48233069,
                    48829627,
                    49474481,
                    50071373,
                    50555347,
                    51056879,
                    51616256,
                    52264862,
                    52914405,
                    53566478,
                    54161448,
                    54635389,
                    55169846,
                    55781066,
                    56408169,
                    57061754,
                    57730498,
                    58318062,
                    58806043,
                    59331362,
                    59921623,
                    60557847,
                    61140322,
                    61827470,
                    62413501,
                    62902084,
                    63410725,
                    64022822,
                    64674220,
                    65368548,
                    66051824,
                    66693987,
                    67232741,
                    67752760,
                    68396288,
                    69066199,
                    70564412,
                    71268909,
                    71903759,
                    72434597,
                    72959984,
                    73596190,
                    74329916,
                    75069498,
                    75789960,
                    76401213,
                    76934686,
                    77483983,
                    78134244,
                    78829366,
                    79496006,
                    79961556,
                    80474158,
                    80912611,
                    81408934,
                    82073362,
                    82834592,
                    83559601,
                    84092619,
                    84718978,
                    85251774,
                    85805892,
                    86546014,
                    87329386,
                    88210223,
                    89013445,
                    89774439,
                    90363573,
                    90983503,
                    91689011,
                    92437399,
                    93192627,
                    93959814,
                    94598958,
                    95128170,
                    95643236,
                    96251662,
                    96944599,
                    97600922,
                    98259983,
                    98828107,
                    99273761,
                    99771101,
                    100327339,
                    100925700,
                    101539951,
                    102130394,
                    102645724,
                    103027363,
                    103474137,
                    103932094,
                    104454075,
                    104920982,
                    105456410,
                    105828535,
                    106226613,
                    106542506,
                    106970539,
                    107406280,
                    107847745,
                    108276434,
                    108649735,
                    108943585,
                    109226751,
                    109577771,
                    109973326,
                    110376842,
                    110789361,
                    111159816,
                    111474262,
                    111762700,
                    112151553,
                    112596489,
                    113043967,
                    113487006,
                    113876236,
                    114179745,
                    114485609,
                    114795897,
                    115237039,
                    115690088,
                    116137142,
                    116547675,
                    116915987,
                    117214710,
                    117629375,
                    118096454,
                    118573350,
                    119062678,
                    119516794,
                    119877179,
                    120226080,
                    120699093,
                    121238378,
                    121792101,
                    122353780,
                    122852600,
                    123275915,
                    123692736,
                    124206981,
                    124840562,
                    125491912,
                    126133263,
                    126717855,
                    127187813,
                    127646218,
                    128214491,
                    128897696,
                    129609483,
                    130243222,
                    130772665,
                    131325468,
                    131815052,
                    132419139,
                    133103485,
                    133943335,
                    134691380,
                    135355887,
                    136046628,
                    136663253,
                    137442820,
                    138259845,
                    139076606,
                    139931461,
                    140719503,
                    141404998,
                    142098420,
                    142952845,
                    143842820,
                    144742575,
                    145646322,
                    146467262,
                    147189618,
                    147872402,
                    148716872,
                    149622864,
                    150520466,
                    151399480,
                    152196159,
                    152870507,
                    153552097,
                    154359533,
                    155200757,
                    156070729,
                    156902287,
                    157688833,
                    158330372,
                    158952301,
                    159690774,
                    160450873,
                    161176148,
                    161894208,
                    162521726,
                    163069932,
                    163609626,
                    164231810,
                    164902902,
                    165531431,
                    166139027,
                    166699143,
                    167177284
                  ],
                  "marker": {
                    "color": "rgba(255, 153, 51, 0.6)",
                    "line": {
                      "color": "rgba(255, 153, 51, 1.0)",
                      "width": 1
                    }
                  },
                  "x": [
                    "2020-01-22",
                    "2020-01-23",
                    "2020-01-24",
                    "2020-01-25",
                    "2020-01-26",
                    "2020-01-27",
                    "2020-01-28",
                    "2020-01-29",
                    "2020-01-30",
                    "2020-01-31",
                    "2020-02-01",
                    "2020-02-02",
                    "2020-02-03",
                    "2020-02-04",
                    "2020-02-05",
                    "2020-02-06",
                    "2020-02-07",
                    "2020-02-08",
                    "2020-02-09",
                    "2020-02-10",
                    "2020-02-11",
                    "2020-02-12",
                    "2020-02-13",
                    "2020-02-14",
                    "2020-02-15",
                    "2020-02-16",
                    "2020-02-17",
                    "2020-02-18",
                    "2020-02-19",
                    "2020-02-20",
                    "2020-02-21",
                    "2020-02-22",
                    "2020-02-23",
                    "2020-02-24",
                    "2020-02-25",
                    "2020-02-26",
                    "2020-02-27",
                    "2020-02-28",
                    "2020-02-29",
                    "2020-03-01",
                    "2020-03-02",
                    "2020-03-03",
                    "2020-03-04",
                    "2020-03-05",
                    "2020-03-06",
                    "2020-03-07",
                    "2020-03-08",
                    "2020-03-09",
                    "2020-03-10",
                    "2020-03-11",
                    "2020-03-12",
                    "2020-03-13",
                    "2020-03-14",
                    "2020-03-15",
                    "2020-03-16",
                    "2020-03-17",
                    "2020-03-18",
                    "2020-03-19",
                    "2020-03-20",
                    "2020-03-21",
                    "2020-03-22",
                    "2020-03-23",
                    "2020-03-24",
                    "2020-03-25",
                    "2020-03-26",
                    "2020-03-27",
                    "2020-03-28",
                    "2020-03-29",
                    "2020-03-30",
                    "2020-03-31",
                    "2020-04-01",
                    "2020-04-02",
                    "2020-04-03",
                    "2020-04-04",
                    "2020-04-05",
                    "2020-04-06",
                    "2020-04-07",
                    "2020-04-08",
                    "2020-04-09",
                    "2020-04-10",
                    "2020-04-11",
                    "2020-04-12",
                    "2020-04-13",
                    "2020-04-14",
                    "2020-04-15",
                    "2020-04-16",
                    "2020-04-17",
                    "2020-04-18",
                    "2020-04-19",
                    "2020-04-20",
                    "2020-04-21",
                    "2020-04-22",
                    "2020-04-23",
                    "2020-04-24",
                    "2020-04-25",
                    "2020-04-26",
                    "2020-04-27",
                    "2020-04-28",
                    "2020-04-29",
                    "2020-04-30",
                    "2020-05-01",
                    "2020-05-02",
                    "2020-05-03",
                    "2020-05-04",
                    "2020-05-05",
                    "2020-05-06",
                    "2020-05-07",
                    "2020-05-08",
                    "2020-05-09",
                    "2020-05-10",
                    "2020-05-11",
                    "2020-05-12",
                    "2020-05-13",
                    "2020-05-14",
                    "2020-05-15",
                    "2020-05-16",
                    "2020-05-17",
                    "2020-05-18",
                    "2020-05-19",
                    "2020-05-20",
                    "2020-05-21",
                    "2020-05-22",
                    "2020-05-23",
                    "2020-05-24",
                    "2020-05-25",
                    "2020-05-26",
                    "2020-05-27",
                    "2020-05-28",
                    "2020-05-29",
                    "2020-05-30",
                    "2020-05-31",
                    "2020-06-01",
                    "2020-06-02",
                    "2020-06-03",
                    "2020-06-04",
                    "2020-06-05",
                    "2020-06-06",
                    "2020-06-07",
                    "2020-06-08",
                    "2020-06-09",
                    "2020-06-10",
                    "2020-06-11",
                    "2020-06-12",
                    "2020-06-13",
                    "2020-06-14",
                    "2020-06-15",
                    "2020-06-16",
                    "2020-06-17",
                    "2020-06-18",
                    "2020-06-19",
                    "2020-06-20",
                    "2020-06-21",
                    "2020-06-22",
                    "2020-06-23",
                    "2020-06-24",
                    "2020-06-25",
                    "2020-06-26",
                    "2020-06-27",
                    "2020-06-28",
                    "2020-06-29",
                    "2020-06-30",
                    "2020-07-01",
                    "2020-07-02",
                    "2020-07-03",
                    "2020-07-04",
                    "2020-07-05",
                    "2020-07-06",
                    "2020-07-07",
                    "2020-07-08",
                    "2020-07-09",
                    "2020-07-10",
                    "2020-07-11",
                    "2020-07-12",
                    "2020-07-13",
                    "2020-07-14",
                    "2020-07-15",
                    "2020-07-16",
                    "2020-07-17",
                    "2020-07-18",
                    "2020-07-19",
                    "2020-07-20",
                    "2020-07-21",
                    "2020-07-22",
                    "2020-07-23",
                    "2020-07-24",
                    "2020-07-25",
                    "2020-07-26",
                    "2020-07-27",
                    "2020-07-28",
                    "2020-07-29",
                    "2020-07-30",
                    "2020-07-31",
                    "2020-08-01",
                    "2020-08-02",
                    "2020-08-03",
                    "2020-08-04",
                    "2020-08-05",
                    "2020-08-06",
                    "2020-08-07",
                    "2020-08-08",
                    "2020-08-09",
                    "2020-08-10",
                    "2020-08-11",
                    "2020-08-12",
                    "2020-08-13",
                    "2020-08-14",
                    "2020-08-15",
                    "2020-08-16",
                    "2020-08-17",
                    "2020-08-18",
                    "2020-08-19",
                    "2020-08-20",
                    "2020-08-21",
                    "2020-08-22",
                    "2020-08-23",
                    "2020-08-24",
                    "2020-08-25",
                    "2020-08-26",
                    "2020-08-27",
                    "2020-08-28",
                    "2020-08-29",
                    "2020-08-30",
                    "2020-08-31",
                    "2020-09-01",
                    "2020-09-02",
                    "2020-09-03",
                    "2020-09-04",
                    "2020-09-05",
                    "2020-09-06",
                    "2020-09-07",
                    "2020-09-08",
                    "2020-09-09",
                    "2020-09-10",
                    "2020-09-11",
                    "2020-09-12",
                    "2020-09-13",
                    "2020-09-14",
                    "2020-09-15",
                    "2020-09-16",
                    "2020-09-17",
                    "2020-09-18",
                    "2020-09-19",
                    "2020-09-20",
                    "2020-09-21",
                    "2020-09-22",
                    "2020-09-23",
                    "2020-09-24",
                    "2020-09-25",
                    "2020-09-26",
                    "2020-09-27",
                    "2020-09-28",
                    "2020-09-29",
                    "2020-09-30",
                    "2020-10-01",
                    "2020-10-02",
                    "2020-10-03",
                    "2020-10-04",
                    "2020-10-05",
                    "2020-10-06",
                    "2020-10-07",
                    "2020-10-08",
                    "2020-10-09",
                    "2020-10-10",
                    "2020-10-11",
                    "2020-10-12",
                    "2020-10-13",
                    "2020-10-14",
                    "2020-10-15",
                    "2020-10-16",
                    "2020-10-17",
                    "2020-10-18",
                    "2020-10-19",
                    "2020-10-20",
                    "2020-10-21",
                    "2020-10-22",
                    "2020-10-23",
                    "2020-10-24",
                    "2020-10-25",
                    "2020-10-26",
                    "2020-10-27",
                    "2020-10-28",
                    "2020-10-29",
                    "2020-10-30",
                    "2020-10-31",
                    "2020-11-01",
                    "2020-11-02",
                    "2020-11-03",
                    "2020-11-04",
                    "2020-11-05",
                    "2020-11-06",
                    "2020-11-07",
                    "2020-11-08",
                    "2020-11-09",
                    "2020-11-10",
                    "2020-11-11",
                    "2020-11-12",
                    "2020-11-13",
                    "2020-11-14",
                    "2020-11-15",
                    "2020-11-16",
                    "2020-11-17",
                    "2020-11-18",
                    "2020-11-19",
                    "2020-11-20",
                    "2020-11-21",
                    "2020-11-22",
                    "2020-11-23",
                    "2020-11-24",
                    "2020-11-25",
                    "2020-11-26",
                    "2020-11-27",
                    "2020-11-28",
                    "2020-11-29",
                    "2020-11-30",
                    "2020-12-01",
                    "2020-12-02",
                    "2020-12-03",
                    "2020-12-04",
                    "2020-12-05",
                    "2020-12-06",
                    "2020-12-07",
                    "2020-12-08",
                    "2020-12-09",
                    "2020-12-10",
                    "2020-12-11",
                    "2020-12-12",
                    "2020-12-13",
                    "2020-12-14",
                    "2020-12-15",
                    "2020-12-16",
                    "2020-12-17",
                    "2020-12-18",
                    "2020-12-19",
                    "2020-12-20",
                    "2020-12-21",
                    "2020-12-22",
                    "2020-12-23",
                    "2020-12-24",
                    "2020-12-25",
                    "2020-12-26",
                    "2020-12-27",
                    "2020-12-28",
                    "2020-12-29",
                    "2020-12-30",
                    "2020-12-31",
                    "2021-01-01",
                    "2021-01-02",
                    "2021-01-03",
                    "2021-01-04",
                    "2021-01-05",
                    "2021-01-06",
                    "2021-01-07",
                    "2021-01-08",
                    "2021-01-09",
                    "2021-01-10",
                    "2021-01-11",
                    "2021-01-12",
                    "2021-01-13",
                    "2021-01-14",
                    "2021-01-15",
                    "2021-01-16",
                    "2021-01-17",
                    "2021-01-18",
                    "2021-01-19",
                    "2021-01-20",
                    "2021-01-21",
                    "2021-01-22",
                    "2021-01-23",
                    "2021-01-24",
                    "2021-01-25",
                    "2021-01-26",
                    "2021-01-27",
                    "2021-01-28",
                    "2021-01-29",
                    "2021-01-30",
                    "2021-01-31",
                    "2021-02-01",
                    "2021-02-02",
                    "2021-02-03",
                    "2021-02-04",
                    "2021-02-05",
                    "2021-02-06",
                    "2021-02-07",
                    "2021-02-08",
                    "2021-02-09",
                    "2021-02-10",
                    "2021-02-11",
                    "2021-02-12",
                    "2021-02-13",
                    "2021-02-14",
                    "2021-02-15",
                    "2021-02-16",
                    "2021-02-17",
                    "2021-02-18",
                    "2021-02-19",
                    "2021-02-20",
                    "2021-02-21",
                    "2021-02-22",
                    "2021-02-23",
                    "2021-02-24",
                    "2021-02-25",
                    "2021-02-26",
                    "2021-02-27",
                    "2021-02-28",
                    "2021-03-01",
                    "2021-03-02",
                    "2021-03-03",
                    "2021-03-04",
                    "2021-03-05",
                    "2021-03-06",
                    "2021-03-07",
                    "2021-03-08",
                    "2021-03-09",
                    "2021-03-10",
                    "2021-03-11",
                    "2021-03-12",
                    "2021-03-13",
                    "2021-03-14",
                    "2021-03-15",
                    "2021-03-16",
                    "2021-03-17",
                    "2021-03-18",
                    "2021-03-19",
                    "2021-03-20",
                    "2021-03-21",
                    "2021-03-22",
                    "2021-03-23",
                    "2021-03-24",
                    "2021-03-25",
                    "2021-03-26",
                    "2021-03-27",
                    "2021-03-28",
                    "2021-03-29",
                    "2021-03-30",
                    "2021-03-31",
                    "2021-04-01",
                    "2021-04-02",
                    "2021-04-03",
                    "2021-04-04",
                    "2021-04-05",
                    "2021-04-06",
                    "2021-04-07",
                    "2021-04-08",
                    "2021-04-09",
                    "2021-04-10",
                    "2021-04-11",
                    "2021-04-12",
                    "2021-04-13",
                    "2021-04-14",
                    "2021-04-15",
                    "2021-04-16",
                    "2021-04-17",
                    "2021-04-18",
                    "2021-04-19",
                    "2021-04-20",
                    "2021-04-21",
                    "2021-04-22",
                    "2021-04-23",
                    "2021-04-24",
                    "2021-04-25",
                    "2021-04-26",
                    "2021-04-27",
                    "2021-04-28",
                    "2021-04-29",
                    "2021-04-30",
                    "2021-05-01",
                    "2021-05-02",
                    "2021-05-03",
                    "2021-05-04",
                    "2021-05-05",
                    "2021-05-06",
                    "2021-05-07",
                    "2021-05-08",
                    "2021-05-09",
                    "2021-05-10",
                    "2021-05-11",
                    "2021-05-12",
                    "2021-05-13",
                    "2021-05-14",
                    "2021-05-15",
                    "2021-05-16",
                    "2021-05-17",
                    "2021-05-18",
                    "2021-05-19",
                    "2021-05-20",
                    "2021-05-21",
                    "2021-05-22",
                    "2021-05-23"
                  ],
                  "type": "bar",
                  "orientation": "v"
                }
              ],
              "config": {
                "plotlyServerURL": "https://plot.ly",
                "linkText": "Export to plot.ly",
                "showLink": true
              },
              "layout": {
                "template": {
                  "layout": {
                    "shapedefaults": {
                      "line": {
                        "color": "#2a3f5f"
                      }
                    },
                    "polar": {
                      "radialaxis": {
                        "ticks": "",
                        "gridcolor": "white",
                        "linecolor": "white"
                      },
                      "bgcolor": "#E5ECF6",
                      "angularaxis": {
                        "ticks": "",
                        "gridcolor": "white",
                        "linecolor": "white"
                      }
                    },
                    "colorway": [
                      "#636efa",
                      "#EF553B",
                      "#00cc96",
                      "#ab63fa",
                      "#FFA15A",
                      "#19d3f3",
                      "#FF6692",
                      "#B6E880",
                      "#FF97FF",
                      "#FECB52"
                    ],
                    "xaxis": {
                      "automargin": true,
                      "title": {
                        "standoff": 15
                      },
                      "zerolinewidth": 2,
                      "ticks": "",
                      "zerolinecolor": "white",
                      "gridcolor": "white",
                      "linecolor": "white"
                    },
                    "colorscale": {
                      "diverging": [
                        [
                          0,
                          "#8e0152"
                        ],
                        [
                          0.1,
                          "#c51b7d"
                        ],
                        [
                          0.2,
                          "#de77ae"
                        ],
                        [
                          0.3,
                          "#f1b6da"
                        ],
                        [
                          0.4,
                          "#fde0ef"
                        ],
                        [
                          0.5,
                          "#f7f7f7"
                        ],
                        [
                          0.6,
                          "#e6f5d0"
                        ],
                        [
                          0.7,
                          "#b8e186"
                        ],
                        [
                          0.8,
                          "#7fbc41"
                        ],
                        [
                          0.9,
                          "#4d9221"
                        ],
                        [
                          1,
                          "#276419"
                        ]
                      ],
                      "sequential": [
                        [
                          0,
                          "#0d0887"
                        ],
                        [
                          0.1111111111111111,
                          "#46039f"
                        ],
                        [
                          0.2222222222222222,
                          "#7201a8"
                        ],
                        [
                          0.3333333333333333,
                          "#9c179e"
                        ],
                        [
                          0.4444444444444444,
                          "#bd3786"
                        ],
                        [
                          0.5555555555555556,
                          "#d8576b"
                        ],
                        [
                          0.6666666666666666,
                          "#ed7953"
                        ],
                        [
                          0.7777777777777778,
                          "#fb9f3a"
                        ],
                        [
                          0.8888888888888888,
                          "#fdca26"
                        ],
                        [
                          1,
                          "#f0f921"
                        ]
                      ],
                      "sequentialminus": [
                        [
                          0,
                          "#0d0887"
                        ],
                        [
                          0.1111111111111111,
                          "#46039f"
                        ],
                        [
                          0.2222222222222222,
                          "#7201a8"
                        ],
                        [
                          0.3333333333333333,
                          "#9c179e"
                        ],
                        [
                          0.4444444444444444,
                          "#bd3786"
                        ],
                        [
                          0.5555555555555556,
                          "#d8576b"
                        ],
                        [
                          0.6666666666666666,
                          "#ed7953"
                        ],
                        [
                          0.7777777777777778,
                          "#fb9f3a"
                        ],
                        [
                          0.8888888888888888,
                          "#fdca26"
                        ],
                        [
                          1,
                          "#f0f921"
                        ]
                      ]
                    },
                    "paper_bgcolor": "white",
                    "plot_bgcolor": "#E5ECF6",
                    "title": {
                      "x": 0.05
                    },
                    "scene": {
                      "zaxis": {
                        "backgroundcolor": "#E5ECF6",
                        "ticks": "",
                        "gridwidth": 2,
                        "showbackground": true,
                        "zerolinecolor": "white",
                        "gridcolor": "white",
                        "linecolor": "white"
                      },
                      "xaxis": {
                        "backgroundcolor": "#E5ECF6",
                        "ticks": "",
                        "gridwidth": 2,
                        "showbackground": true,
                        "zerolinecolor": "white",
                        "gridcolor": "white",
                        "linecolor": "white"
                      },
                      "yaxis": {
                        "backgroundcolor": "#E5ECF6",
                        "ticks": "",
                        "gridwidth": 2,
                        "showbackground": true,
                        "zerolinecolor": "white",
                        "gridcolor": "white",
                        "linecolor": "white"
                      }
                    },
                    "yaxis": {
                      "automargin": true,
                      "title": {
                        "standoff": 15
                      },
                      "zerolinewidth": 2,
                      "ticks": "",
                      "zerolinecolor": "white",
                      "gridcolor": "white",
                      "linecolor": "white"
                    },
                    "annotationdefaults": {
                      "arrowwidth": 1,
                      "arrowhead": 0,
                      "arrowcolor": "#2a3f5f"
                    },
                    "hoverlabel": {
                      "align": "left"
                    },
                    "ternary": {
                      "bgcolor": "#E5ECF6",
                      "baxis": {
                        "ticks": "",
                        "gridcolor": "white",
                        "linecolor": "white"
                      },
                      "caxis": {
                        "ticks": "",
                        "gridcolor": "white",
                        "linecolor": "white"
                      },
                      "aaxis": {
                        "ticks": "",
                        "gridcolor": "white",
                        "linecolor": "white"
                      }
                    },
                    "mapbox": {
                      "style": "light"
                    },
                    "hovermode": "closest",
                    "font": {
                      "color": "#2a3f5f"
                    },
                    "geo": {
                      "showland": true,
                      "landcolor": "#E5ECF6",
                      "showlakes": true,
                      "bgcolor": "white",
                      "subunitcolor": "white",
                      "lakecolor": "white"
                    },
                    "coloraxis": {
                      "colorbar": {
                        "outlinewidth": 0,
                        "ticks": ""
                      }
                    }
                  },
                  "data": {
                    "mesh3d": [
                      {
                        "colorbar": {
                          "outlinewidth": 0,
                          "ticks": ""
                        },
                        "type": "mesh3d"
                      }
                    ],
                    "scattercarpet": [
                      {
                        "marker": {
                          "colorbar": {
                            "outlinewidth": 0,
                            "ticks": ""
                          }
                        },
                        "type": "scattercarpet"
                      }
                    ],
                    "pie": [
                      {
                        "automargin": true,
                        "type": "pie"
                      }
                    ],
                    "surface": [
                      {
                        "colorbar": {
                          "outlinewidth": 0,
                          "ticks": ""
                        },
                        "type": "surface",
                        "colorscale": [
                          [
                            0,
                            "#0d0887"
                          ],
                          [
                            0.1111111111111111,
                            "#46039f"
                          ],
                          [
                            0.2222222222222222,
                            "#7201a8"
                          ],
                          [
                            0.3333333333333333,
                            "#9c179e"
                          ],
                          [
                            0.4444444444444444,
                            "#bd3786"
                          ],
                          [
                            0.5555555555555556,
                            "#d8576b"
                          ],
                          [
                            0.6666666666666666,
                            "#ed7953"
                          ],
                          [
                            0.7777777777777778,
                            "#fb9f3a"
                          ],
                          [
                            0.8888888888888888,
                            "#fdca26"
                          ],
                          [
                            1,
                            "#f0f921"
                          ]
                        ]
                      }
                    ],
                    "table": [
                      {
                        "header": {
                          "line": {
                            "color": "white"
                          },
                          "fill": {
                            "color": "#C8D4E3"
                          }
                        },
                        "cells": {
                          "line": {
                            "color": "white"
                          },
                          "fill": {
                            "color": "#EBF0F8"
                          }
                        },
                        "type": "table"
                      }
                    ],
                    "scatterpolargl": [
                      {
                        "marker": {
                          "colorbar": {
                            "outlinewidth": 0,
                            "ticks": ""
                          }
                        },
                        "type": "scatterpolargl"
                      }
                    ],
                    "contour": [
                      {
                        "colorbar": {
                          "outlinewidth": 0,
                          "ticks": ""
                        },
                        "type": "contour",
                        "colorscale": [
                          [
                            0,
                            "#0d0887"
                          ],
                          [
                            0.1111111111111111,
                            "#46039f"
                          ],
                          [
                            0.2222222222222222,
                            "#7201a8"
                          ],
                          [
                            0.3333333333333333,
                            "#9c179e"
                          ],
                          [
                            0.4444444444444444,
                            "#bd3786"
                          ],
                          [
                            0.5555555555555556,
                            "#d8576b"
                          ],
                          [
                            0.6666666666666666,
                            "#ed7953"
                          ],
                          [
                            0.7777777777777778,
                            "#fb9f3a"
                          ],
                          [
                            0.8888888888888888,
                            "#fdca26"
                          ],
                          [
                            1,
                            "#f0f921"
                          ]
                        ]
                      }
                    ],
                    "carpet": [
                      {
                        "type": "carpet",
                        "baxis": {
                          "minorgridcolor": "white",
                          "gridcolor": "white",
                          "linecolor": "white",
                          "endlinecolor": "#2a3f5f",
                          "startlinecolor": "#2a3f5f"
                        },
                        "aaxis": {
                          "minorgridcolor": "white",
                          "gridcolor": "white",
                          "linecolor": "white",
                          "endlinecolor": "#2a3f5f",
                          "startlinecolor": "#2a3f5f"
                        }
                      }
                    ],
                    "contourcarpet": [
                      {
                        "colorbar": {
                          "outlinewidth": 0,
                          "ticks": ""
                        },
                        "type": "contourcarpet"
                      }
                    ],
                    "heatmap": [
                      {
                        "colorbar": {
                          "outlinewidth": 0,
                          "ticks": ""
                        },
                        "type": "heatmap",
                        "colorscale": [
                          [
                            0,
                            "#0d0887"
                          ],
                          [
                            0.1111111111111111,
                            "#46039f"
                          ],
                          [
                            0.2222222222222222,
                            "#7201a8"
                          ],
                          [
                            0.3333333333333333,
                            "#9c179e"
                          ],
                          [
                            0.4444444444444444,
                            "#bd3786"
                          ],
                          [
                            0.5555555555555556,
                            "#d8576b"
                          ],
                          [
                            0.6666666666666666,
                            "#ed7953"
                          ],
                          [
                            0.7777777777777778,
                            "#fb9f3a"
                          ],
                          [
                            0.8888888888888888,
                            "#fdca26"
                          ],
                          [
                            1,
                            "#f0f921"
                          ]
                        ]
                      }
                    ],
                    "scattermapbox": [
                      {
                        "marker": {
                          "colorbar": {
                            "outlinewidth": 0,
                            "ticks": ""
                          }
                        },
                        "type": "scattermapbox"
                      }
                    ],
                    "scatter3d": [
                      {
                        "marker": {
                          "colorbar": {
                            "outlinewidth": 0,
                            "ticks": ""
                          }
                        },
                        "line": {
                          "colorbar": {
                            "outlinewidth": 0,
                            "ticks": ""
                          }
                        },
                        "type": "scatter3d"
                      }
                    ],
                    "scattergl": [
                      {
                        "marker": {
                          "colorbar": {
                            "outlinewidth": 0,
                            "ticks": ""
                          }
                        },
                        "type": "scattergl"
                      }
                    ],
                    "scatterternary": [
                      {
                        "marker": {
                          "colorbar": {
                            "outlinewidth": 0,
                            "ticks": ""
                          }
                        },
                        "type": "scatterternary"
                      }
                    ],
                    "histogram": [
                      {
                        "marker": {
                          "colorbar": {
                            "outlinewidth": 0,
                            "ticks": ""
                          }
                        },
                        "type": "histogram"
                      }
                    ],
                    "heatmapgl": [
                      {
                        "colorbar": {
                          "outlinewidth": 0,
                          "ticks": ""
                        },
                        "type": "heatmapgl",
                        "colorscale": [
                          [
                            0,
                            "#0d0887"
                          ],
                          [
                            0.1111111111111111,
                            "#46039f"
                          ],
                          [
                            0.2222222222222222,
                            "#7201a8"
                          ],
                          [
                            0.3333333333333333,
                            "#9c179e"
                          ],
                          [
                            0.4444444444444444,
                            "#bd3786"
                          ],
                          [
                            0.5555555555555556,
                            "#d8576b"
                          ],
                          [
                            0.6666666666666666,
                            "#ed7953"
                          ],
                          [
                            0.7777777777777778,
                            "#fb9f3a"
                          ],
                          [
                            0.8888888888888888,
                            "#fdca26"
                          ],
                          [
                            1,
                            "#f0f921"
                          ]
                        ]
                      }
                    ],
                    "scatterpolar": [
                      {
                        "marker": {
                          "colorbar": {
                            "outlinewidth": 0,
                            "ticks": ""
                          }
                        },
                        "type": "scatterpolar"
                      }
                    ],
                    "histogram2d": [
                      {
                        "colorbar": {
                          "outlinewidth": 0,
                          "ticks": ""
                        },
                        "type": "histogram2d",
                        "colorscale": [
                          [
                            0,
                            "#0d0887"
                          ],
                          [
                            0.1111111111111111,
                            "#46039f"
                          ],
                          [
                            0.2222222222222222,
                            "#7201a8"
                          ],
                          [
                            0.3333333333333333,
                            "#9c179e"
                          ],
                          [
                            0.4444444444444444,
                            "#bd3786"
                          ],
                          [
                            0.5555555555555556,
                            "#d8576b"
                          ],
                          [
                            0.6666666666666666,
                            "#ed7953"
                          ],
                          [
                            0.7777777777777778,
                            "#fb9f3a"
                          ],
                          [
                            0.8888888888888888,
                            "#fdca26"
                          ],
                          [
                            1,
                            "#f0f921"
                          ]
                        ]
                      }
                    ],
                    "scattergeo": [
                      {
                        "marker": {
                          "colorbar": {
                            "outlinewidth": 0,
                            "ticks": ""
                          }
                        },
                        "type": "scattergeo"
                      }
                    ],
                    "bar": [
                      {
                        "marker": {
                          "line": {
                            "color": "#E5ECF6",
                            "width": 0.5
                          }
                        },
                        "type": "bar",
                        "error_x": {
                          "color": "#2a3f5f"
                        },
                        "error_y": {
                          "color": "#2a3f5f"
                        }
                      }
                    ],
                    "choropleth": [
                      {
                        "colorbar": {
                          "outlinewidth": 0,
                          "ticks": ""
                        },
                        "type": "choropleth"
                      }
                    ],
                    "parcoords": [
                      {
                        "line": {
                          "colorbar": {
                            "outlinewidth": 0,
                            "ticks": ""
                          }
                        },
                        "type": "parcoords"
                      }
                    ],
                    "barpolar": [
                      {
                        "marker": {
                          "line": {
                            "color": "#E5ECF6",
                            "width": 0.5
                          }
                        },
                        "type": "barpolar"
                      }
                    ],
                    "histogram2dcontour": [
                      {
                        "colorbar": {
                          "outlinewidth": 0,
                          "ticks": ""
                        },
                        "type": "histogram2dcontour",
                        "colorscale": [
                          [
                            0,
                            "#0d0887"
                          ],
                          [
                            0.1111111111111111,
                            "#46039f"
                          ],
                          [
                            0.2222222222222222,
                            "#7201a8"
                          ],
                          [
                            0.3333333333333333,
                            "#9c179e"
                          ],
                          [
                            0.4444444444444444,
                            "#bd3786"
                          ],
                          [
                            0.5555555555555556,
                            "#d8576b"
                          ],
                          [
                            0.6666666666666666,
                            "#ed7953"
                          ],
                          [
                            0.7777777777777778,
                            "#fb9f3a"
                          ],
                          [
                            0.8888888888888888,
                            "#fdca26"
                          ],
                          [
                            1,
                            "#f0f921"
                          ]
                        ]
                      }
                    ],
                    "scatter": [
                      {
                        "marker": {
                          "colorbar": {
                            "outlinewidth": 0,
                            "ticks": ""
                          }
                        },
                        "type": "scatter"
                      }
                    ]
                  }
                },
                "title": {
                  "text": "Trend Confirmed Case Global Covid-19",
                  "font": {
                    "color": "#4D5663"
                  }
                },
                "paper_bgcolor": "#F5F6F9",
                "plot_bgcolor": "#F5F6F9",
                "yaxis": {
                  "tickfont": {
                    "color": "#4D5663"
                  },
                  "zerolinecolor": "#E1E5ED",
                  "title": {
                    "text": "Number of confirmed cases",
                    "font": {
                      "color": "#4D5663"
                    }
                  },
                  "gridcolor": "#E1E5ED",
                  "showgrid": true
                },
                "xaxis": {
                  "tickfont": {
                    "color": "#4D5663"
                  },
                  "zerolinecolor": "#E1E5ED",
                  "title": {
                    "text": "Time",
                    "font": {
                      "color": "#4D5663"
                    }
                  },
                  "gridcolor": "#E1E5ED",
                  "showgrid": true
                },
                "legend": {
                  "bgcolor": "#F5F6F9",
                  "font": {
                    "color": "#4D5663"
                  }
                }
              }
            }
          },
          "metadata": {
            "tags": []
          }
        }
      ]
    },
    {
      "cell_type": "markdown",
      "metadata": {
        "id": "EN8StcEVZFaU"
      },
      "source": [
        "### **Trend Deaths Case Global Covid-19**"
      ]
    },
    {
      "cell_type": "code",
      "metadata": {
        "colab": {
          "base_uri": "https://localhost:8080/",
          "height": 542
        },
        "id": "KnO55mq2ZFaU",
        "outputId": "aa429533-dce6-4772-ad72-ab29b6215bba"
      },
      "source": [
        "dataGroup.iplot(kind = \"bar\", y = \"Deaths\", title = \"Trend Deaths Case Global Covid-19\",\n",
        "                      xTitle = \"Time\", yTitle = 'Number of death cases')"
      ],
      "execution_count": 19,
      "outputs": [
        {
          "output_type": "display_data",
          "data": {
            "text/html": [
              "<div>\n",
              "        \n",
              "        \n",
              "            <div id=\"46219f84-51a7-4948-8cff-282f2a74ade4\" class=\"plotly-graph-div\" style=\"height:525px; width:100%;\"></div>\n",
              "            <script type=\"text/javascript\">\n",
              "                require([\"plotly\"], function(Plotly) {\n",
              "                    window.PLOTLYENV=window.PLOTLYENV || {};\n",
              "                    window.PLOTLYENV.BASE_URL='https://plot.ly';\n",
              "                    \n",
              "                if (document.getElementById(\"46219f84-51a7-4948-8cff-282f2a74ade4\")) {\n",
              "                    Plotly.newPlot(\n",
              "                        '46219f84-51a7-4948-8cff-282f2a74ade4',\n",
              "                        [{\"marker\": {\"color\": \"rgba(255, 153, 51, 0.6)\", \"line\": {\"color\": \"rgba(255, 153, 51, 1.0)\", \"width\": 1}}, \"name\": \"Deaths\", \"orientation\": \"v\", \"text\": \"\", \"type\": \"bar\", \"x\": [\"2020-01-22\", \"2020-01-23\", \"2020-01-24\", \"2020-01-25\", \"2020-01-26\", \"2020-01-27\", \"2020-01-28\", \"2020-01-29\", \"2020-01-30\", \"2020-01-31\", \"2020-02-01\", \"2020-02-02\", \"2020-02-03\", \"2020-02-04\", \"2020-02-05\", \"2020-02-06\", \"2020-02-07\", \"2020-02-08\", \"2020-02-09\", \"2020-02-10\", \"2020-02-11\", \"2020-02-12\", \"2020-02-13\", \"2020-02-14\", \"2020-02-15\", \"2020-02-16\", \"2020-02-17\", \"2020-02-18\", \"2020-02-19\", \"2020-02-20\", \"2020-02-21\", \"2020-02-22\", \"2020-02-23\", \"2020-02-24\", \"2020-02-25\", \"2020-02-26\", \"2020-02-27\", \"2020-02-28\", \"2020-02-29\", \"2020-03-01\", \"2020-03-02\", \"2020-03-03\", \"2020-03-04\", \"2020-03-05\", \"2020-03-06\", \"2020-03-07\", \"2020-03-08\", \"2020-03-09\", \"2020-03-10\", \"2020-03-11\", \"2020-03-12\", \"2020-03-13\", \"2020-03-14\", \"2020-03-15\", \"2020-03-16\", \"2020-03-17\", \"2020-03-18\", \"2020-03-19\", \"2020-03-20\", \"2020-03-21\", \"2020-03-22\", \"2020-03-23\", \"2020-03-24\", \"2020-03-25\", \"2020-03-26\", \"2020-03-27\", \"2020-03-28\", \"2020-03-29\", \"2020-03-30\", \"2020-03-31\", \"2020-04-01\", \"2020-04-02\", \"2020-04-03\", \"2020-04-04\", \"2020-04-05\", \"2020-04-06\", \"2020-04-07\", \"2020-04-08\", \"2020-04-09\", \"2020-04-10\", \"2020-04-11\", \"2020-04-12\", \"2020-04-13\", \"2020-04-14\", \"2020-04-15\", \"2020-04-16\", \"2020-04-17\", \"2020-04-18\", \"2020-04-19\", \"2020-04-20\", \"2020-04-21\", \"2020-04-22\", \"2020-04-23\", \"2020-04-24\", \"2020-04-25\", \"2020-04-26\", \"2020-04-27\", \"2020-04-28\", \"2020-04-29\", \"2020-04-30\", \"2020-05-01\", \"2020-05-02\", \"2020-05-03\", \"2020-05-04\", \"2020-05-05\", \"2020-05-06\", \"2020-05-07\", \"2020-05-08\", \"2020-05-09\", \"2020-05-10\", \"2020-05-11\", \"2020-05-12\", \"2020-05-13\", \"2020-05-14\", \"2020-05-15\", \"2020-05-16\", \"2020-05-17\", \"2020-05-18\", \"2020-05-19\", \"2020-05-20\", \"2020-05-21\", \"2020-05-22\", \"2020-05-23\", \"2020-05-24\", \"2020-05-25\", \"2020-05-26\", \"2020-05-27\", \"2020-05-28\", \"2020-05-29\", \"2020-05-30\", \"2020-05-31\", \"2020-06-01\", \"2020-06-02\", \"2020-06-03\", \"2020-06-04\", \"2020-06-05\", \"2020-06-06\", \"2020-06-07\", \"2020-06-08\", \"2020-06-09\", \"2020-06-10\", \"2020-06-11\", \"2020-06-12\", \"2020-06-13\", \"2020-06-14\", \"2020-06-15\", \"2020-06-16\", \"2020-06-17\", \"2020-06-18\", \"2020-06-19\", \"2020-06-20\", \"2020-06-21\", \"2020-06-22\", \"2020-06-23\", \"2020-06-24\", \"2020-06-25\", \"2020-06-26\", \"2020-06-27\", \"2020-06-28\", \"2020-06-29\", \"2020-06-30\", \"2020-07-01\", \"2020-07-02\", \"2020-07-03\", \"2020-07-04\", \"2020-07-05\", \"2020-07-06\", \"2020-07-07\", \"2020-07-08\", \"2020-07-09\", \"2020-07-10\", \"2020-07-11\", \"2020-07-12\", \"2020-07-13\", \"2020-07-14\", \"2020-07-15\", \"2020-07-16\", \"2020-07-17\", \"2020-07-18\", \"2020-07-19\", \"2020-07-20\", \"2020-07-21\", \"2020-07-22\", \"2020-07-23\", \"2020-07-24\", \"2020-07-25\", \"2020-07-26\", \"2020-07-27\", \"2020-07-28\", \"2020-07-29\", \"2020-07-30\", \"2020-07-31\", \"2020-08-01\", \"2020-08-02\", \"2020-08-03\", \"2020-08-04\", \"2020-08-05\", \"2020-08-06\", \"2020-08-07\", \"2020-08-08\", \"2020-08-09\", \"2020-08-10\", \"2020-08-11\", \"2020-08-12\", \"2020-08-13\", \"2020-08-14\", \"2020-08-15\", \"2020-08-16\", \"2020-08-17\", \"2020-08-18\", \"2020-08-19\", \"2020-08-20\", \"2020-08-21\", \"2020-08-22\", \"2020-08-23\", \"2020-08-24\", \"2020-08-25\", \"2020-08-26\", \"2020-08-27\", \"2020-08-28\", \"2020-08-29\", \"2020-08-30\", \"2020-08-31\", \"2020-09-01\", \"2020-09-02\", \"2020-09-03\", \"2020-09-04\", \"2020-09-05\", \"2020-09-06\", \"2020-09-07\", \"2020-09-08\", \"2020-09-09\", \"2020-09-10\", \"2020-09-11\", \"2020-09-12\", \"2020-09-13\", \"2020-09-14\", \"2020-09-15\", \"2020-09-16\", \"2020-09-17\", \"2020-09-18\", \"2020-09-19\", \"2020-09-20\", \"2020-09-21\", \"2020-09-22\", \"2020-09-23\", \"2020-09-24\", \"2020-09-25\", \"2020-09-26\", \"2020-09-27\", \"2020-09-28\", \"2020-09-29\", \"2020-09-30\", \"2020-10-01\", \"2020-10-02\", \"2020-10-03\", \"2020-10-04\", \"2020-10-05\", \"2020-10-06\", \"2020-10-07\", \"2020-10-08\", \"2020-10-09\", \"2020-10-10\", \"2020-10-11\", \"2020-10-12\", \"2020-10-13\", \"2020-10-14\", \"2020-10-15\", \"2020-10-16\", \"2020-10-17\", \"2020-10-18\", \"2020-10-19\", \"2020-10-20\", \"2020-10-21\", \"2020-10-22\", \"2020-10-23\", \"2020-10-24\", \"2020-10-25\", \"2020-10-26\", \"2020-10-27\", \"2020-10-28\", \"2020-10-29\", \"2020-10-30\", \"2020-10-31\", \"2020-11-01\", \"2020-11-02\", \"2020-11-03\", \"2020-11-04\", \"2020-11-05\", \"2020-11-06\", \"2020-11-07\", \"2020-11-08\", \"2020-11-09\", \"2020-11-10\", \"2020-11-11\", \"2020-11-12\", \"2020-11-13\", \"2020-11-14\", \"2020-11-15\", \"2020-11-16\", \"2020-11-17\", \"2020-11-18\", \"2020-11-19\", \"2020-11-20\", \"2020-11-21\", \"2020-11-22\", \"2020-11-23\", \"2020-11-24\", \"2020-11-25\", \"2020-11-26\", \"2020-11-27\", \"2020-11-28\", \"2020-11-29\", \"2020-11-30\", \"2020-12-01\", \"2020-12-02\", \"2020-12-03\", \"2020-12-04\", \"2020-12-05\", \"2020-12-06\", \"2020-12-07\", \"2020-12-08\", \"2020-12-09\", \"2020-12-10\", \"2020-12-11\", \"2020-12-12\", \"2020-12-13\", \"2020-12-14\", \"2020-12-15\", \"2020-12-16\", \"2020-12-17\", \"2020-12-18\", \"2020-12-19\", \"2020-12-20\", \"2020-12-21\", \"2020-12-22\", \"2020-12-23\", \"2020-12-24\", \"2020-12-25\", \"2020-12-26\", \"2020-12-27\", \"2020-12-28\", \"2020-12-29\", \"2020-12-30\", \"2020-12-31\", \"2021-01-01\", \"2021-01-02\", \"2021-01-03\", \"2021-01-04\", \"2021-01-05\", \"2021-01-06\", \"2021-01-07\", \"2021-01-08\", \"2021-01-09\", \"2021-01-10\", \"2021-01-11\", \"2021-01-12\", \"2021-01-13\", \"2021-01-14\", \"2021-01-15\", \"2021-01-16\", \"2021-01-17\", \"2021-01-18\", \"2021-01-19\", \"2021-01-20\", \"2021-01-21\", \"2021-01-22\", \"2021-01-23\", \"2021-01-24\", \"2021-01-25\", \"2021-01-26\", \"2021-01-27\", \"2021-01-28\", \"2021-01-29\", \"2021-01-30\", \"2021-01-31\", \"2021-02-01\", \"2021-02-02\", \"2021-02-03\", \"2021-02-04\", \"2021-02-05\", \"2021-02-06\", \"2021-02-07\", \"2021-02-08\", \"2021-02-09\", \"2021-02-10\", \"2021-02-11\", \"2021-02-12\", \"2021-02-13\", \"2021-02-14\", \"2021-02-15\", \"2021-02-16\", \"2021-02-17\", \"2021-02-18\", \"2021-02-19\", \"2021-02-20\", \"2021-02-21\", \"2021-02-22\", \"2021-02-23\", \"2021-02-24\", \"2021-02-25\", \"2021-02-26\", \"2021-02-27\", \"2021-02-28\", \"2021-03-01\", \"2021-03-02\", \"2021-03-03\", \"2021-03-04\", \"2021-03-05\", \"2021-03-06\", \"2021-03-07\", \"2021-03-08\", \"2021-03-09\", \"2021-03-10\", \"2021-03-11\", \"2021-03-12\", \"2021-03-13\", \"2021-03-14\", \"2021-03-15\", \"2021-03-16\", \"2021-03-17\", \"2021-03-18\", \"2021-03-19\", \"2021-03-20\", \"2021-03-21\", \"2021-03-22\", \"2021-03-23\", \"2021-03-24\", \"2021-03-25\", \"2021-03-26\", \"2021-03-27\", \"2021-03-28\", \"2021-03-29\", \"2021-03-30\", \"2021-03-31\", \"2021-04-01\", \"2021-04-02\", \"2021-04-03\", \"2021-04-04\", \"2021-04-05\", \"2021-04-06\", \"2021-04-07\", \"2021-04-08\", \"2021-04-09\", \"2021-04-10\", \"2021-04-11\", \"2021-04-12\", \"2021-04-13\", \"2021-04-14\", \"2021-04-15\", \"2021-04-16\", \"2021-04-17\", \"2021-04-18\", \"2021-04-19\", \"2021-04-20\", \"2021-04-21\", \"2021-04-22\", \"2021-04-23\", \"2021-04-24\", \"2021-04-25\", \"2021-04-26\", \"2021-04-27\", \"2021-04-28\", \"2021-04-29\", \"2021-04-30\", \"2021-05-01\", \"2021-05-02\", \"2021-05-03\", \"2021-05-04\", \"2021-05-05\", \"2021-05-06\", \"2021-05-07\", \"2021-05-08\", \"2021-05-09\", \"2021-05-10\", \"2021-05-11\", \"2021-05-12\", \"2021-05-13\", \"2021-05-14\", \"2021-05-15\", \"2021-05-16\", \"2021-05-17\", \"2021-05-18\", \"2021-05-19\", \"2021-05-20\", \"2021-05-21\", \"2021-05-22\", \"2021-05-23\"], \"y\": [17, 18, 26, 42, 56, 82, 131, 133, 171, 213, 259, 362, 426, 492, 564, 634, 719, 806, 906, 1013, 1113, 1118, 1371, 1523, 1666, 1770, 1868, 2008, 2123, 2248, 2252, 2459, 2470, 2630, 2710, 2771, 2814, 2873, 2942, 2996, 3085, 3160, 3255, 3349, 3460, 3564, 3803, 3993, 4267, 4611, 4917, 5414, 5834, 6475, 7153, 7967, 8874, 9985, 11470, 13192, 14878, 16827, 19117, 21927, 24962, 28450, 32180, 35699, 39780, 44528, 50526, 56413, 62574, 68488, 73676, 79614, 87872, 94683, 102467, 109845, 116017, 121876, 127842, 134812, 143285, 150544, 158938, 165083, 170316, 176188, 183461, 190325, 197153, 203923, 209551, 213530, 218276, 224854, 231579, 237421, 242572, 248067, 251578, 255791, 261614, 268119, 273429, 278981, 283206, 286765, 290251, 295736, 300868, 306037, 311258, 315434, 318621, 322384, 327031, 331810, 336469, 341713, 345640, 348656, 349868, 354110, 359166, 363718, 368326, 372350, 375042, 378115, 382792, 388224, 393258, 397836, 401605, 404345, 408047, 412821, 417864, 422504, 426713, 430829, 434229, 437645, 444355, 449502, 454412, 460478, 464587, 468601, 472163, 477380, 482555, 487247, 491995, 496458, 499624, 503302, 508187, 513132, 518207, 523134, 527538, 531027, 534872, 540839, 546114, 551521, 556820, 561638, 565625, 569536, 575133, 580579, 586351, 593019, 598616, 602700, 606911, 613080, 620026, 629914, 635944, 641513, 645226, 650409, 656674, 663281, 669331, 675517, 680972, 685298, 689984, 696514, 703565, 710056, 716344, 721758, 726331, 731683, 737882, 744450, 750664, 760803, 766159, 770423, 774604, 781411, 788138, 794210, 799648, 805146, 809100, 813606, 819892, 826118, 832014, 837543, 842865, 846910, 851087, 857486, 863595, 869279, 875148, 880088, 883934, 893308, 898221, 904326, 910130, 915981, 920862, 924577, 929017, 935443, 941223, 946691, 952359, 957638, 961377, 965479, 971451, 977061, 983715, 989618, 994963, 998650, 1002625, 1008528, 1014992, 1023707, 1028643, 1034007, 1037846, 1044792, 1050568, 1056404, 1062682, 1068832, 1073714, 1077747, 1081730, 1087016, 1093089, 1099204, 1105389, 1110986, 1114528, 1119364, 1125918, 1132548, 1138483, 1145454, 1151271, 1155482, 1160999, 1168371, 1175531, 1182617, 1190216, 1196794, 1201804, 1207908, 1217253, 1227504, 1235518, 1245179, 1252779, 1258654, 1265877, 1275870, 1286321, 1296087, 1305675, 1314757, 1321182, 1329136, 1340207, 1351621, 1362654, 1374541, 1383513, 1390708, 1399234, 1411894, 1424025, 1434913, 1446300, 1455583, 1462743, 1471623, 1484309, 1496898, 1509473, 1521993, 1532282, 1539710, 1548425, 1560705, 1573425, 1586121, 1599149, 1609694, 1617153, 1626325, 1640278, 1653937, 1667387, 1680177, 1690949, 1698864, 1708511, 1722824, 1736627, 1748258, 1756860, 1764259, 1771658, 1781414, 1796580, 1811842, 1825011, 1834674, 1843107, 1850448, 1860597, 1875932, 1890985, 1905924, 1921090, 1933875, 1942223, 1952547, 1969651, 1986357, 2001728, 2016839, 2030087, 2038751, 2048177, 2064760, 2082666, 2099455, 2115476, 2128770, 2137738, 2148506, 2165814, 2182494, 2199545, 2214492, 2228078, 2236068, 2246286, 2261122, 2276850, 2289384, 2305955, 2316092, 2324078, 2332410, 2347947, 2361350, 2374824, 2387297, 2397102, 2403464, 2410358, 2421276, 2432615, 2443985, 2455033, 2463545, 2469425, 2476374, 2487554, 2499557, 2509722, 2519972, 2528112, 2533546, 2540755, 2551189, 2562262, 2572040, 2582057, 2589889, 2595163, 2602023, 2612004, 2621695, 2631462, 2641090, 2649075, 2654574, 2661395, 2671285, 2681410, 2691983, 2702382, 2710428, 2716229, 2723724, 2734830, 2744552, 2755891, 2768112, 2777949, 2784429, 2792392, 2803965, 2816242, 2828117, 2838376, 2846773, 2853703, 2861177, 2873004, 2887852, 2902504, 2915926, 2928340, 2936914, 2946221, 2959562, 2973111, 2986323, 2999160, 3011182, 3019805, 3030312, 3044512, 3058629, 3072373, 3086732, 3100020, 3109692, 3120861, 3135357, 3151086, 3166087, 3180360, 3192930, 3202879, 3213959, 3227862, 3242064, 3256307, 3270043, 3283220, 3293122, 3303890, 3317511, 3331446, 3344581, 3357710, 3369359, 3379449, 3390089, 3404338, 3417682, 3430326, 3442873, 3454000, 3463813]}],\n",
              "                        {\"legend\": {\"bgcolor\": \"#F5F6F9\", \"font\": {\"color\": \"#4D5663\"}}, \"paper_bgcolor\": \"#F5F6F9\", \"plot_bgcolor\": \"#F5F6F9\", \"template\": {\"data\": {\"bar\": [{\"error_x\": {\"color\": \"#2a3f5f\"}, \"error_y\": {\"color\": \"#2a3f5f\"}, \"marker\": {\"line\": {\"color\": \"#E5ECF6\", \"width\": 0.5}}, \"type\": \"bar\"}], \"barpolar\": [{\"marker\": {\"line\": {\"color\": \"#E5ECF6\", \"width\": 0.5}}, \"type\": \"barpolar\"}], \"carpet\": [{\"aaxis\": {\"endlinecolor\": \"#2a3f5f\", \"gridcolor\": \"white\", \"linecolor\": \"white\", \"minorgridcolor\": \"white\", \"startlinecolor\": \"#2a3f5f\"}, \"baxis\": {\"endlinecolor\": \"#2a3f5f\", \"gridcolor\": \"white\", \"linecolor\": \"white\", \"minorgridcolor\": \"white\", \"startlinecolor\": \"#2a3f5f\"}, \"type\": \"carpet\"}], \"choropleth\": [{\"colorbar\": {\"outlinewidth\": 0, \"ticks\": \"\"}, \"type\": \"choropleth\"}], \"contour\": [{\"colorbar\": {\"outlinewidth\": 0, \"ticks\": \"\"}, \"colorscale\": [[0.0, \"#0d0887\"], [0.1111111111111111, \"#46039f\"], [0.2222222222222222, \"#7201a8\"], [0.3333333333333333, \"#9c179e\"], [0.4444444444444444, \"#bd3786\"], [0.5555555555555556, \"#d8576b\"], [0.6666666666666666, \"#ed7953\"], [0.7777777777777778, \"#fb9f3a\"], [0.8888888888888888, \"#fdca26\"], [1.0, \"#f0f921\"]], \"type\": \"contour\"}], \"contourcarpet\": [{\"colorbar\": {\"outlinewidth\": 0, \"ticks\": \"\"}, \"type\": \"contourcarpet\"}], \"heatmap\": [{\"colorbar\": {\"outlinewidth\": 0, \"ticks\": \"\"}, \"colorscale\": [[0.0, \"#0d0887\"], [0.1111111111111111, \"#46039f\"], [0.2222222222222222, \"#7201a8\"], [0.3333333333333333, \"#9c179e\"], [0.4444444444444444, \"#bd3786\"], [0.5555555555555556, \"#d8576b\"], [0.6666666666666666, \"#ed7953\"], [0.7777777777777778, \"#fb9f3a\"], [0.8888888888888888, \"#fdca26\"], [1.0, \"#f0f921\"]], \"type\": \"heatmap\"}], \"heatmapgl\": [{\"colorbar\": {\"outlinewidth\": 0, \"ticks\": \"\"}, \"colorscale\": [[0.0, \"#0d0887\"], [0.1111111111111111, \"#46039f\"], [0.2222222222222222, \"#7201a8\"], [0.3333333333333333, \"#9c179e\"], [0.4444444444444444, \"#bd3786\"], [0.5555555555555556, \"#d8576b\"], [0.6666666666666666, \"#ed7953\"], [0.7777777777777778, \"#fb9f3a\"], [0.8888888888888888, \"#fdca26\"], [1.0, \"#f0f921\"]], \"type\": \"heatmapgl\"}], \"histogram\": [{\"marker\": {\"colorbar\": {\"outlinewidth\": 0, \"ticks\": \"\"}}, \"type\": \"histogram\"}], \"histogram2d\": [{\"colorbar\": {\"outlinewidth\": 0, \"ticks\": \"\"}, \"colorscale\": [[0.0, \"#0d0887\"], [0.1111111111111111, \"#46039f\"], [0.2222222222222222, \"#7201a8\"], [0.3333333333333333, \"#9c179e\"], [0.4444444444444444, \"#bd3786\"], [0.5555555555555556, \"#d8576b\"], [0.6666666666666666, \"#ed7953\"], [0.7777777777777778, \"#fb9f3a\"], [0.8888888888888888, \"#fdca26\"], [1.0, \"#f0f921\"]], \"type\": \"histogram2d\"}], \"histogram2dcontour\": [{\"colorbar\": {\"outlinewidth\": 0, \"ticks\": \"\"}, \"colorscale\": [[0.0, \"#0d0887\"], [0.1111111111111111, \"#46039f\"], [0.2222222222222222, \"#7201a8\"], [0.3333333333333333, \"#9c179e\"], [0.4444444444444444, \"#bd3786\"], [0.5555555555555556, \"#d8576b\"], [0.6666666666666666, \"#ed7953\"], [0.7777777777777778, \"#fb9f3a\"], [0.8888888888888888, \"#fdca26\"], [1.0, \"#f0f921\"]], \"type\": \"histogram2dcontour\"}], \"mesh3d\": [{\"colorbar\": {\"outlinewidth\": 0, \"ticks\": \"\"}, \"type\": \"mesh3d\"}], \"parcoords\": [{\"line\": {\"colorbar\": {\"outlinewidth\": 0, \"ticks\": \"\"}}, \"type\": \"parcoords\"}], \"pie\": [{\"automargin\": true, \"type\": \"pie\"}], \"scatter\": [{\"marker\": {\"colorbar\": {\"outlinewidth\": 0, \"ticks\": \"\"}}, \"type\": \"scatter\"}], \"scatter3d\": [{\"line\": {\"colorbar\": {\"outlinewidth\": 0, \"ticks\": \"\"}}, \"marker\": {\"colorbar\": {\"outlinewidth\": 0, \"ticks\": \"\"}}, \"type\": \"scatter3d\"}], \"scattercarpet\": [{\"marker\": {\"colorbar\": {\"outlinewidth\": 0, \"ticks\": \"\"}}, \"type\": \"scattercarpet\"}], \"scattergeo\": [{\"marker\": {\"colorbar\": {\"outlinewidth\": 0, \"ticks\": \"\"}}, \"type\": \"scattergeo\"}], \"scattergl\": [{\"marker\": {\"colorbar\": {\"outlinewidth\": 0, \"ticks\": \"\"}}, \"type\": \"scattergl\"}], \"scattermapbox\": [{\"marker\": {\"colorbar\": {\"outlinewidth\": 0, \"ticks\": \"\"}}, \"type\": \"scattermapbox\"}], \"scatterpolar\": [{\"marker\": {\"colorbar\": {\"outlinewidth\": 0, \"ticks\": \"\"}}, \"type\": \"scatterpolar\"}], \"scatterpolargl\": [{\"marker\": {\"colorbar\": {\"outlinewidth\": 0, \"ticks\": \"\"}}, \"type\": \"scatterpolargl\"}], \"scatterternary\": [{\"marker\": {\"colorbar\": {\"outlinewidth\": 0, \"ticks\": \"\"}}, \"type\": \"scatterternary\"}], \"surface\": [{\"colorbar\": {\"outlinewidth\": 0, \"ticks\": \"\"}, \"colorscale\": [[0.0, \"#0d0887\"], [0.1111111111111111, \"#46039f\"], [0.2222222222222222, \"#7201a8\"], [0.3333333333333333, \"#9c179e\"], [0.4444444444444444, \"#bd3786\"], [0.5555555555555556, \"#d8576b\"], [0.6666666666666666, \"#ed7953\"], [0.7777777777777778, \"#fb9f3a\"], [0.8888888888888888, \"#fdca26\"], [1.0, \"#f0f921\"]], \"type\": \"surface\"}], \"table\": [{\"cells\": {\"fill\": {\"color\": \"#EBF0F8\"}, \"line\": {\"color\": \"white\"}}, \"header\": {\"fill\": {\"color\": \"#C8D4E3\"}, \"line\": {\"color\": \"white\"}}, \"type\": \"table\"}]}, \"layout\": {\"annotationdefaults\": {\"arrowcolor\": \"#2a3f5f\", \"arrowhead\": 0, \"arrowwidth\": 1}, \"coloraxis\": {\"colorbar\": {\"outlinewidth\": 0, \"ticks\": \"\"}}, \"colorscale\": {\"diverging\": [[0, \"#8e0152\"], [0.1, \"#c51b7d\"], [0.2, \"#de77ae\"], [0.3, \"#f1b6da\"], [0.4, \"#fde0ef\"], [0.5, \"#f7f7f7\"], [0.6, \"#e6f5d0\"], [0.7, \"#b8e186\"], [0.8, \"#7fbc41\"], [0.9, \"#4d9221\"], [1, \"#276419\"]], \"sequential\": [[0.0, \"#0d0887\"], [0.1111111111111111, \"#46039f\"], [0.2222222222222222, \"#7201a8\"], [0.3333333333333333, \"#9c179e\"], [0.4444444444444444, \"#bd3786\"], [0.5555555555555556, \"#d8576b\"], [0.6666666666666666, \"#ed7953\"], [0.7777777777777778, \"#fb9f3a\"], [0.8888888888888888, \"#fdca26\"], [1.0, \"#f0f921\"]], \"sequentialminus\": [[0.0, \"#0d0887\"], [0.1111111111111111, \"#46039f\"], [0.2222222222222222, \"#7201a8\"], [0.3333333333333333, \"#9c179e\"], [0.4444444444444444, \"#bd3786\"], [0.5555555555555556, \"#d8576b\"], [0.6666666666666666, \"#ed7953\"], [0.7777777777777778, \"#fb9f3a\"], [0.8888888888888888, \"#fdca26\"], [1.0, \"#f0f921\"]]}, \"colorway\": [\"#636efa\", \"#EF553B\", \"#00cc96\", \"#ab63fa\", \"#FFA15A\", \"#19d3f3\", \"#FF6692\", \"#B6E880\", \"#FF97FF\", \"#FECB52\"], \"font\": {\"color\": \"#2a3f5f\"}, \"geo\": {\"bgcolor\": \"white\", \"lakecolor\": \"white\", \"landcolor\": \"#E5ECF6\", \"showlakes\": true, \"showland\": true, \"subunitcolor\": \"white\"}, \"hoverlabel\": {\"align\": \"left\"}, \"hovermode\": \"closest\", \"mapbox\": {\"style\": \"light\"}, \"paper_bgcolor\": \"white\", \"plot_bgcolor\": \"#E5ECF6\", \"polar\": {\"angularaxis\": {\"gridcolor\": \"white\", \"linecolor\": \"white\", \"ticks\": \"\"}, \"bgcolor\": \"#E5ECF6\", \"radialaxis\": {\"gridcolor\": \"white\", \"linecolor\": \"white\", \"ticks\": \"\"}}, \"scene\": {\"xaxis\": {\"backgroundcolor\": \"#E5ECF6\", \"gridcolor\": \"white\", \"gridwidth\": 2, \"linecolor\": \"white\", \"showbackground\": true, \"ticks\": \"\", \"zerolinecolor\": \"white\"}, \"yaxis\": {\"backgroundcolor\": \"#E5ECF6\", \"gridcolor\": \"white\", \"gridwidth\": 2, \"linecolor\": \"white\", \"showbackground\": true, \"ticks\": \"\", \"zerolinecolor\": \"white\"}, \"zaxis\": {\"backgroundcolor\": \"#E5ECF6\", \"gridcolor\": \"white\", \"gridwidth\": 2, \"linecolor\": \"white\", \"showbackground\": true, \"ticks\": \"\", \"zerolinecolor\": \"white\"}}, \"shapedefaults\": {\"line\": {\"color\": \"#2a3f5f\"}}, \"ternary\": {\"aaxis\": {\"gridcolor\": \"white\", \"linecolor\": \"white\", \"ticks\": \"\"}, \"baxis\": {\"gridcolor\": \"white\", \"linecolor\": \"white\", \"ticks\": \"\"}, \"bgcolor\": \"#E5ECF6\", \"caxis\": {\"gridcolor\": \"white\", \"linecolor\": \"white\", \"ticks\": \"\"}}, \"title\": {\"x\": 0.05}, \"xaxis\": {\"automargin\": true, \"gridcolor\": \"white\", \"linecolor\": \"white\", \"ticks\": \"\", \"title\": {\"standoff\": 15}, \"zerolinecolor\": \"white\", \"zerolinewidth\": 2}, \"yaxis\": {\"automargin\": true, \"gridcolor\": \"white\", \"linecolor\": \"white\", \"ticks\": \"\", \"title\": {\"standoff\": 15}, \"zerolinecolor\": \"white\", \"zerolinewidth\": 2}}}, \"title\": {\"font\": {\"color\": \"#4D5663\"}, \"text\": \"Trend Deaths Case Global Covid-19\"}, \"xaxis\": {\"gridcolor\": \"#E1E5ED\", \"showgrid\": true, \"tickfont\": {\"color\": \"#4D5663\"}, \"title\": {\"font\": {\"color\": \"#4D5663\"}, \"text\": \"Time\"}, \"zerolinecolor\": \"#E1E5ED\"}, \"yaxis\": {\"gridcolor\": \"#E1E5ED\", \"showgrid\": true, \"tickfont\": {\"color\": \"#4D5663\"}, \"title\": {\"font\": {\"color\": \"#4D5663\"}, \"text\": \"Number of death cases\"}, \"zerolinecolor\": \"#E1E5ED\"}},\n",
              "                        {\"showLink\": true, \"linkText\": \"Export to plot.ly\", \"plotlyServerURL\": \"https://plot.ly\", \"responsive\": true}\n",
              "                    ).then(function(){\n",
              "                            \n",
              "var gd = document.getElementById('46219f84-51a7-4948-8cff-282f2a74ade4');\n",
              "var x = new MutationObserver(function (mutations, observer) {{\n",
              "        var display = window.getComputedStyle(gd).display;\n",
              "        if (!display || display === 'none') {{\n",
              "            console.log([gd, 'removed!']);\n",
              "            Plotly.purge(gd);\n",
              "            observer.disconnect();\n",
              "        }}\n",
              "}});\n",
              "\n",
              "// Listen for the removal of the full notebook cells\n",
              "var notebookContainer = gd.closest('#notebook-container');\n",
              "if (notebookContainer) {{\n",
              "    x.observe(notebookContainer, {childList: true});\n",
              "}}\n",
              "\n",
              "// Listen for the clearing of the current output cell\n",
              "var outputEl = gd.closest('.output');\n",
              "if (outputEl) {{\n",
              "    x.observe(outputEl, {childList: true});\n",
              "}}\n",
              "\n",
              "                        })\n",
              "                };\n",
              "                });\n",
              "            </script>\n",
              "        </div>"
            ],
            "application/vnd.plotly.v1+json": {
              "data": [
                {
                  "name": "Deaths",
                  "text": "",
                  "y": [
                    17,
                    18,
                    26,
                    42,
                    56,
                    82,
                    131,
                    133,
                    171,
                    213,
                    259,
                    362,
                    426,
                    492,
                    564,
                    634,
                    719,
                    806,
                    906,
                    1013,
                    1113,
                    1118,
                    1371,
                    1523,
                    1666,
                    1770,
                    1868,
                    2008,
                    2123,
                    2248,
                    2252,
                    2459,
                    2470,
                    2630,
                    2710,
                    2771,
                    2814,
                    2873,
                    2942,
                    2996,
                    3085,
                    3160,
                    3255,
                    3349,
                    3460,
                    3564,
                    3803,
                    3993,
                    4267,
                    4611,
                    4917,
                    5414,
                    5834,
                    6475,
                    7153,
                    7967,
                    8874,
                    9985,
                    11470,
                    13192,
                    14878,
                    16827,
                    19117,
                    21927,
                    24962,
                    28450,
                    32180,
                    35699,
                    39780,
                    44528,
                    50526,
                    56413,
                    62574,
                    68488,
                    73676,
                    79614,
                    87872,
                    94683,
                    102467,
                    109845,
                    116017,
                    121876,
                    127842,
                    134812,
                    143285,
                    150544,
                    158938,
                    165083,
                    170316,
                    176188,
                    183461,
                    190325,
                    197153,
                    203923,
                    209551,
                    213530,
                    218276,
                    224854,
                    231579,
                    237421,
                    242572,
                    248067,
                    251578,
                    255791,
                    261614,
                    268119,
                    273429,
                    278981,
                    283206,
                    286765,
                    290251,
                    295736,
                    300868,
                    306037,
                    311258,
                    315434,
                    318621,
                    322384,
                    327031,
                    331810,
                    336469,
                    341713,
                    345640,
                    348656,
                    349868,
                    354110,
                    359166,
                    363718,
                    368326,
                    372350,
                    375042,
                    378115,
                    382792,
                    388224,
                    393258,
                    397836,
                    401605,
                    404345,
                    408047,
                    412821,
                    417864,
                    422504,
                    426713,
                    430829,
                    434229,
                    437645,
                    444355,
                    449502,
                    454412,
                    460478,
                    464587,
                    468601,
                    472163,
                    477380,
                    482555,
                    487247,
                    491995,
                    496458,
                    499624,
                    503302,
                    508187,
                    513132,
                    518207,
                    523134,
                    527538,
                    531027,
                    534872,
                    540839,
                    546114,
                    551521,
                    556820,
                    561638,
                    565625,
                    569536,
                    575133,
                    580579,
                    586351,
                    593019,
                    598616,
                    602700,
                    606911,
                    613080,
                    620026,
                    629914,
                    635944,
                    641513,
                    645226,
                    650409,
                    656674,
                    663281,
                    669331,
                    675517,
                    680972,
                    685298,
                    689984,
                    696514,
                    703565,
                    710056,
                    716344,
                    721758,
                    726331,
                    731683,
                    737882,
                    744450,
                    750664,
                    760803,
                    766159,
                    770423,
                    774604,
                    781411,
                    788138,
                    794210,
                    799648,
                    805146,
                    809100,
                    813606,
                    819892,
                    826118,
                    832014,
                    837543,
                    842865,
                    846910,
                    851087,
                    857486,
                    863595,
                    869279,
                    875148,
                    880088,
                    883934,
                    893308,
                    898221,
                    904326,
                    910130,
                    915981,
                    920862,
                    924577,
                    929017,
                    935443,
                    941223,
                    946691,
                    952359,
                    957638,
                    961377,
                    965479,
                    971451,
                    977061,
                    983715,
                    989618,
                    994963,
                    998650,
                    1002625,
                    1008528,
                    1014992,
                    1023707,
                    1028643,
                    1034007,
                    1037846,
                    1044792,
                    1050568,
                    1056404,
                    1062682,
                    1068832,
                    1073714,
                    1077747,
                    1081730,
                    1087016,
                    1093089,
                    1099204,
                    1105389,
                    1110986,
                    1114528,
                    1119364,
                    1125918,
                    1132548,
                    1138483,
                    1145454,
                    1151271,
                    1155482,
                    1160999,
                    1168371,
                    1175531,
                    1182617,
                    1190216,
                    1196794,
                    1201804,
                    1207908,
                    1217253,
                    1227504,
                    1235518,
                    1245179,
                    1252779,
                    1258654,
                    1265877,
                    1275870,
                    1286321,
                    1296087,
                    1305675,
                    1314757,
                    1321182,
                    1329136,
                    1340207,
                    1351621,
                    1362654,
                    1374541,
                    1383513,
                    1390708,
                    1399234,
                    1411894,
                    1424025,
                    1434913,
                    1446300,
                    1455583,
                    1462743,
                    1471623,
                    1484309,
                    1496898,
                    1509473,
                    1521993,
                    1532282,
                    1539710,
                    1548425,
                    1560705,
                    1573425,
                    1586121,
                    1599149,
                    1609694,
                    1617153,
                    1626325,
                    1640278,
                    1653937,
                    1667387,
                    1680177,
                    1690949,
                    1698864,
                    1708511,
                    1722824,
                    1736627,
                    1748258,
                    1756860,
                    1764259,
                    1771658,
                    1781414,
                    1796580,
                    1811842,
                    1825011,
                    1834674,
                    1843107,
                    1850448,
                    1860597,
                    1875932,
                    1890985,
                    1905924,
                    1921090,
                    1933875,
                    1942223,
                    1952547,
                    1969651,
                    1986357,
                    2001728,
                    2016839,
                    2030087,
                    2038751,
                    2048177,
                    2064760,
                    2082666,
                    2099455,
                    2115476,
                    2128770,
                    2137738,
                    2148506,
                    2165814,
                    2182494,
                    2199545,
                    2214492,
                    2228078,
                    2236068,
                    2246286,
                    2261122,
                    2276850,
                    2289384,
                    2305955,
                    2316092,
                    2324078,
                    2332410,
                    2347947,
                    2361350,
                    2374824,
                    2387297,
                    2397102,
                    2403464,
                    2410358,
                    2421276,
                    2432615,
                    2443985,
                    2455033,
                    2463545,
                    2469425,
                    2476374,
                    2487554,
                    2499557,
                    2509722,
                    2519972,
                    2528112,
                    2533546,
                    2540755,
                    2551189,
                    2562262,
                    2572040,
                    2582057,
                    2589889,
                    2595163,
                    2602023,
                    2612004,
                    2621695,
                    2631462,
                    2641090,
                    2649075,
                    2654574,
                    2661395,
                    2671285,
                    2681410,
                    2691983,
                    2702382,
                    2710428,
                    2716229,
                    2723724,
                    2734830,
                    2744552,
                    2755891,
                    2768112,
                    2777949,
                    2784429,
                    2792392,
                    2803965,
                    2816242,
                    2828117,
                    2838376,
                    2846773,
                    2853703,
                    2861177,
                    2873004,
                    2887852,
                    2902504,
                    2915926,
                    2928340,
                    2936914,
                    2946221,
                    2959562,
                    2973111,
                    2986323,
                    2999160,
                    3011182,
                    3019805,
                    3030312,
                    3044512,
                    3058629,
                    3072373,
                    3086732,
                    3100020,
                    3109692,
                    3120861,
                    3135357,
                    3151086,
                    3166087,
                    3180360,
                    3192930,
                    3202879,
                    3213959,
                    3227862,
                    3242064,
                    3256307,
                    3270043,
                    3283220,
                    3293122,
                    3303890,
                    3317511,
                    3331446,
                    3344581,
                    3357710,
                    3369359,
                    3379449,
                    3390089,
                    3404338,
                    3417682,
                    3430326,
                    3442873,
                    3454000,
                    3463813
                  ],
                  "marker": {
                    "color": "rgba(255, 153, 51, 0.6)",
                    "line": {
                      "color": "rgba(255, 153, 51, 1.0)",
                      "width": 1
                    }
                  },
                  "x": [
                    "2020-01-22",
                    "2020-01-23",
                    "2020-01-24",
                    "2020-01-25",
                    "2020-01-26",
                    "2020-01-27",
                    "2020-01-28",
                    "2020-01-29",
                    "2020-01-30",
                    "2020-01-31",
                    "2020-02-01",
                    "2020-02-02",
                    "2020-02-03",
                    "2020-02-04",
                    "2020-02-05",
                    "2020-02-06",
                    "2020-02-07",
                    "2020-02-08",
                    "2020-02-09",
                    "2020-02-10",
                    "2020-02-11",
                    "2020-02-12",
                    "2020-02-13",
                    "2020-02-14",
                    "2020-02-15",
                    "2020-02-16",
                    "2020-02-17",
                    "2020-02-18",
                    "2020-02-19",
                    "2020-02-20",
                    "2020-02-21",
                    "2020-02-22",
                    "2020-02-23",
                    "2020-02-24",
                    "2020-02-25",
                    "2020-02-26",
                    "2020-02-27",
                    "2020-02-28",
                    "2020-02-29",
                    "2020-03-01",
                    "2020-03-02",
                    "2020-03-03",
                    "2020-03-04",
                    "2020-03-05",
                    "2020-03-06",
                    "2020-03-07",
                    "2020-03-08",
                    "2020-03-09",
                    "2020-03-10",
                    "2020-03-11",
                    "2020-03-12",
                    "2020-03-13",
                    "2020-03-14",
                    "2020-03-15",
                    "2020-03-16",
                    "2020-03-17",
                    "2020-03-18",
                    "2020-03-19",
                    "2020-03-20",
                    "2020-03-21",
                    "2020-03-22",
                    "2020-03-23",
                    "2020-03-24",
                    "2020-03-25",
                    "2020-03-26",
                    "2020-03-27",
                    "2020-03-28",
                    "2020-03-29",
                    "2020-03-30",
                    "2020-03-31",
                    "2020-04-01",
                    "2020-04-02",
                    "2020-04-03",
                    "2020-04-04",
                    "2020-04-05",
                    "2020-04-06",
                    "2020-04-07",
                    "2020-04-08",
                    "2020-04-09",
                    "2020-04-10",
                    "2020-04-11",
                    "2020-04-12",
                    "2020-04-13",
                    "2020-04-14",
                    "2020-04-15",
                    "2020-04-16",
                    "2020-04-17",
                    "2020-04-18",
                    "2020-04-19",
                    "2020-04-20",
                    "2020-04-21",
                    "2020-04-22",
                    "2020-04-23",
                    "2020-04-24",
                    "2020-04-25",
                    "2020-04-26",
                    "2020-04-27",
                    "2020-04-28",
                    "2020-04-29",
                    "2020-04-30",
                    "2020-05-01",
                    "2020-05-02",
                    "2020-05-03",
                    "2020-05-04",
                    "2020-05-05",
                    "2020-05-06",
                    "2020-05-07",
                    "2020-05-08",
                    "2020-05-09",
                    "2020-05-10",
                    "2020-05-11",
                    "2020-05-12",
                    "2020-05-13",
                    "2020-05-14",
                    "2020-05-15",
                    "2020-05-16",
                    "2020-05-17",
                    "2020-05-18",
                    "2020-05-19",
                    "2020-05-20",
                    "2020-05-21",
                    "2020-05-22",
                    "2020-05-23",
                    "2020-05-24",
                    "2020-05-25",
                    "2020-05-26",
                    "2020-05-27",
                    "2020-05-28",
                    "2020-05-29",
                    "2020-05-30",
                    "2020-05-31",
                    "2020-06-01",
                    "2020-06-02",
                    "2020-06-03",
                    "2020-06-04",
                    "2020-06-05",
                    "2020-06-06",
                    "2020-06-07",
                    "2020-06-08",
                    "2020-06-09",
                    "2020-06-10",
                    "2020-06-11",
                    "2020-06-12",
                    "2020-06-13",
                    "2020-06-14",
                    "2020-06-15",
                    "2020-06-16",
                    "2020-06-17",
                    "2020-06-18",
                    "2020-06-19",
                    "2020-06-20",
                    "2020-06-21",
                    "2020-06-22",
                    "2020-06-23",
                    "2020-06-24",
                    "2020-06-25",
                    "2020-06-26",
                    "2020-06-27",
                    "2020-06-28",
                    "2020-06-29",
                    "2020-06-30",
                    "2020-07-01",
                    "2020-07-02",
                    "2020-07-03",
                    "2020-07-04",
                    "2020-07-05",
                    "2020-07-06",
                    "2020-07-07",
                    "2020-07-08",
                    "2020-07-09",
                    "2020-07-10",
                    "2020-07-11",
                    "2020-07-12",
                    "2020-07-13",
                    "2020-07-14",
                    "2020-07-15",
                    "2020-07-16",
                    "2020-07-17",
                    "2020-07-18",
                    "2020-07-19",
                    "2020-07-20",
                    "2020-07-21",
                    "2020-07-22",
                    "2020-07-23",
                    "2020-07-24",
                    "2020-07-25",
                    "2020-07-26",
                    "2020-07-27",
                    "2020-07-28",
                    "2020-07-29",
                    "2020-07-30",
                    "2020-07-31",
                    "2020-08-01",
                    "2020-08-02",
                    "2020-08-03",
                    "2020-08-04",
                    "2020-08-05",
                    "2020-08-06",
                    "2020-08-07",
                    "2020-08-08",
                    "2020-08-09",
                    "2020-08-10",
                    "2020-08-11",
                    "2020-08-12",
                    "2020-08-13",
                    "2020-08-14",
                    "2020-08-15",
                    "2020-08-16",
                    "2020-08-17",
                    "2020-08-18",
                    "2020-08-19",
                    "2020-08-20",
                    "2020-08-21",
                    "2020-08-22",
                    "2020-08-23",
                    "2020-08-24",
                    "2020-08-25",
                    "2020-08-26",
                    "2020-08-27",
                    "2020-08-28",
                    "2020-08-29",
                    "2020-08-30",
                    "2020-08-31",
                    "2020-09-01",
                    "2020-09-02",
                    "2020-09-03",
                    "2020-09-04",
                    "2020-09-05",
                    "2020-09-06",
                    "2020-09-07",
                    "2020-09-08",
                    "2020-09-09",
                    "2020-09-10",
                    "2020-09-11",
                    "2020-09-12",
                    "2020-09-13",
                    "2020-09-14",
                    "2020-09-15",
                    "2020-09-16",
                    "2020-09-17",
                    "2020-09-18",
                    "2020-09-19",
                    "2020-09-20",
                    "2020-09-21",
                    "2020-09-22",
                    "2020-09-23",
                    "2020-09-24",
                    "2020-09-25",
                    "2020-09-26",
                    "2020-09-27",
                    "2020-09-28",
                    "2020-09-29",
                    "2020-09-30",
                    "2020-10-01",
                    "2020-10-02",
                    "2020-10-03",
                    "2020-10-04",
                    "2020-10-05",
                    "2020-10-06",
                    "2020-10-07",
                    "2020-10-08",
                    "2020-10-09",
                    "2020-10-10",
                    "2020-10-11",
                    "2020-10-12",
                    "2020-10-13",
                    "2020-10-14",
                    "2020-10-15",
                    "2020-10-16",
                    "2020-10-17",
                    "2020-10-18",
                    "2020-10-19",
                    "2020-10-20",
                    "2020-10-21",
                    "2020-10-22",
                    "2020-10-23",
                    "2020-10-24",
                    "2020-10-25",
                    "2020-10-26",
                    "2020-10-27",
                    "2020-10-28",
                    "2020-10-29",
                    "2020-10-30",
                    "2020-10-31",
                    "2020-11-01",
                    "2020-11-02",
                    "2020-11-03",
                    "2020-11-04",
                    "2020-11-05",
                    "2020-11-06",
                    "2020-11-07",
                    "2020-11-08",
                    "2020-11-09",
                    "2020-11-10",
                    "2020-11-11",
                    "2020-11-12",
                    "2020-11-13",
                    "2020-11-14",
                    "2020-11-15",
                    "2020-11-16",
                    "2020-11-17",
                    "2020-11-18",
                    "2020-11-19",
                    "2020-11-20",
                    "2020-11-21",
                    "2020-11-22",
                    "2020-11-23",
                    "2020-11-24",
                    "2020-11-25",
                    "2020-11-26",
                    "2020-11-27",
                    "2020-11-28",
                    "2020-11-29",
                    "2020-11-30",
                    "2020-12-01",
                    "2020-12-02",
                    "2020-12-03",
                    "2020-12-04",
                    "2020-12-05",
                    "2020-12-06",
                    "2020-12-07",
                    "2020-12-08",
                    "2020-12-09",
                    "2020-12-10",
                    "2020-12-11",
                    "2020-12-12",
                    "2020-12-13",
                    "2020-12-14",
                    "2020-12-15",
                    "2020-12-16",
                    "2020-12-17",
                    "2020-12-18",
                    "2020-12-19",
                    "2020-12-20",
                    "2020-12-21",
                    "2020-12-22",
                    "2020-12-23",
                    "2020-12-24",
                    "2020-12-25",
                    "2020-12-26",
                    "2020-12-27",
                    "2020-12-28",
                    "2020-12-29",
                    "2020-12-30",
                    "2020-12-31",
                    "2021-01-01",
                    "2021-01-02",
                    "2021-01-03",
                    "2021-01-04",
                    "2021-01-05",
                    "2021-01-06",
                    "2021-01-07",
                    "2021-01-08",
                    "2021-01-09",
                    "2021-01-10",
                    "2021-01-11",
                    "2021-01-12",
                    "2021-01-13",
                    "2021-01-14",
                    "2021-01-15",
                    "2021-01-16",
                    "2021-01-17",
                    "2021-01-18",
                    "2021-01-19",
                    "2021-01-20",
                    "2021-01-21",
                    "2021-01-22",
                    "2021-01-23",
                    "2021-01-24",
                    "2021-01-25",
                    "2021-01-26",
                    "2021-01-27",
                    "2021-01-28",
                    "2021-01-29",
                    "2021-01-30",
                    "2021-01-31",
                    "2021-02-01",
                    "2021-02-02",
                    "2021-02-03",
                    "2021-02-04",
                    "2021-02-05",
                    "2021-02-06",
                    "2021-02-07",
                    "2021-02-08",
                    "2021-02-09",
                    "2021-02-10",
                    "2021-02-11",
                    "2021-02-12",
                    "2021-02-13",
                    "2021-02-14",
                    "2021-02-15",
                    "2021-02-16",
                    "2021-02-17",
                    "2021-02-18",
                    "2021-02-19",
                    "2021-02-20",
                    "2021-02-21",
                    "2021-02-22",
                    "2021-02-23",
                    "2021-02-24",
                    "2021-02-25",
                    "2021-02-26",
                    "2021-02-27",
                    "2021-02-28",
                    "2021-03-01",
                    "2021-03-02",
                    "2021-03-03",
                    "2021-03-04",
                    "2021-03-05",
                    "2021-03-06",
                    "2021-03-07",
                    "2021-03-08",
                    "2021-03-09",
                    "2021-03-10",
                    "2021-03-11",
                    "2021-03-12",
                    "2021-03-13",
                    "2021-03-14",
                    "2021-03-15",
                    "2021-03-16",
                    "2021-03-17",
                    "2021-03-18",
                    "2021-03-19",
                    "2021-03-20",
                    "2021-03-21",
                    "2021-03-22",
                    "2021-03-23",
                    "2021-03-24",
                    "2021-03-25",
                    "2021-03-26",
                    "2021-03-27",
                    "2021-03-28",
                    "2021-03-29",
                    "2021-03-30",
                    "2021-03-31",
                    "2021-04-01",
                    "2021-04-02",
                    "2021-04-03",
                    "2021-04-04",
                    "2021-04-05",
                    "2021-04-06",
                    "2021-04-07",
                    "2021-04-08",
                    "2021-04-09",
                    "2021-04-10",
                    "2021-04-11",
                    "2021-04-12",
                    "2021-04-13",
                    "2021-04-14",
                    "2021-04-15",
                    "2021-04-16",
                    "2021-04-17",
                    "2021-04-18",
                    "2021-04-19",
                    "2021-04-20",
                    "2021-04-21",
                    "2021-04-22",
                    "2021-04-23",
                    "2021-04-24",
                    "2021-04-25",
                    "2021-04-26",
                    "2021-04-27",
                    "2021-04-28",
                    "2021-04-29",
                    "2021-04-30",
                    "2021-05-01",
                    "2021-05-02",
                    "2021-05-03",
                    "2021-05-04",
                    "2021-05-05",
                    "2021-05-06",
                    "2021-05-07",
                    "2021-05-08",
                    "2021-05-09",
                    "2021-05-10",
                    "2021-05-11",
                    "2021-05-12",
                    "2021-05-13",
                    "2021-05-14",
                    "2021-05-15",
                    "2021-05-16",
                    "2021-05-17",
                    "2021-05-18",
                    "2021-05-19",
                    "2021-05-20",
                    "2021-05-21",
                    "2021-05-22",
                    "2021-05-23"
                  ],
                  "type": "bar",
                  "orientation": "v"
                }
              ],
              "config": {
                "plotlyServerURL": "https://plot.ly",
                "linkText": "Export to plot.ly",
                "showLink": true
              },
              "layout": {
                "template": {
                  "layout": {
                    "shapedefaults": {
                      "line": {
                        "color": "#2a3f5f"
                      }
                    },
                    "polar": {
                      "radialaxis": {
                        "ticks": "",
                        "gridcolor": "white",
                        "linecolor": "white"
                      },
                      "bgcolor": "#E5ECF6",
                      "angularaxis": {
                        "ticks": "",
                        "gridcolor": "white",
                        "linecolor": "white"
                      }
                    },
                    "colorway": [
                      "#636efa",
                      "#EF553B",
                      "#00cc96",
                      "#ab63fa",
                      "#FFA15A",
                      "#19d3f3",
                      "#FF6692",
                      "#B6E880",
                      "#FF97FF",
                      "#FECB52"
                    ],
                    "xaxis": {
                      "automargin": true,
                      "title": {
                        "standoff": 15
                      },
                      "zerolinewidth": 2,
                      "ticks": "",
                      "zerolinecolor": "white",
                      "gridcolor": "white",
                      "linecolor": "white"
                    },
                    "colorscale": {
                      "diverging": [
                        [
                          0,
                          "#8e0152"
                        ],
                        [
                          0.1,
                          "#c51b7d"
                        ],
                        [
                          0.2,
                          "#de77ae"
                        ],
                        [
                          0.3,
                          "#f1b6da"
                        ],
                        [
                          0.4,
                          "#fde0ef"
                        ],
                        [
                          0.5,
                          "#f7f7f7"
                        ],
                        [
                          0.6,
                          "#e6f5d0"
                        ],
                        [
                          0.7,
                          "#b8e186"
                        ],
                        [
                          0.8,
                          "#7fbc41"
                        ],
                        [
                          0.9,
                          "#4d9221"
                        ],
                        [
                          1,
                          "#276419"
                        ]
                      ],
                      "sequential": [
                        [
                          0,
                          "#0d0887"
                        ],
                        [
                          0.1111111111111111,
                          "#46039f"
                        ],
                        [
                          0.2222222222222222,
                          "#7201a8"
                        ],
                        [
                          0.3333333333333333,
                          "#9c179e"
                        ],
                        [
                          0.4444444444444444,
                          "#bd3786"
                        ],
                        [
                          0.5555555555555556,
                          "#d8576b"
                        ],
                        [
                          0.6666666666666666,
                          "#ed7953"
                        ],
                        [
                          0.7777777777777778,
                          "#fb9f3a"
                        ],
                        [
                          0.8888888888888888,
                          "#fdca26"
                        ],
                        [
                          1,
                          "#f0f921"
                        ]
                      ],
                      "sequentialminus": [
                        [
                          0,
                          "#0d0887"
                        ],
                        [
                          0.1111111111111111,
                          "#46039f"
                        ],
                        [
                          0.2222222222222222,
                          "#7201a8"
                        ],
                        [
                          0.3333333333333333,
                          "#9c179e"
                        ],
                        [
                          0.4444444444444444,
                          "#bd3786"
                        ],
                        [
                          0.5555555555555556,
                          "#d8576b"
                        ],
                        [
                          0.6666666666666666,
                          "#ed7953"
                        ],
                        [
                          0.7777777777777778,
                          "#fb9f3a"
                        ],
                        [
                          0.8888888888888888,
                          "#fdca26"
                        ],
                        [
                          1,
                          "#f0f921"
                        ]
                      ]
                    },
                    "paper_bgcolor": "white",
                    "plot_bgcolor": "#E5ECF6",
                    "title": {
                      "x": 0.05
                    },
                    "scene": {
                      "zaxis": {
                        "backgroundcolor": "#E5ECF6",
                        "ticks": "",
                        "gridwidth": 2,
                        "showbackground": true,
                        "zerolinecolor": "white",
                        "gridcolor": "white",
                        "linecolor": "white"
                      },
                      "xaxis": {
                        "backgroundcolor": "#E5ECF6",
                        "ticks": "",
                        "gridwidth": 2,
                        "showbackground": true,
                        "zerolinecolor": "white",
                        "gridcolor": "white",
                        "linecolor": "white"
                      },
                      "yaxis": {
                        "backgroundcolor": "#E5ECF6",
                        "ticks": "",
                        "gridwidth": 2,
                        "showbackground": true,
                        "zerolinecolor": "white",
                        "gridcolor": "white",
                        "linecolor": "white"
                      }
                    },
                    "yaxis": {
                      "automargin": true,
                      "title": {
                        "standoff": 15
                      },
                      "zerolinewidth": 2,
                      "ticks": "",
                      "zerolinecolor": "white",
                      "gridcolor": "white",
                      "linecolor": "white"
                    },
                    "annotationdefaults": {
                      "arrowwidth": 1,
                      "arrowhead": 0,
                      "arrowcolor": "#2a3f5f"
                    },
                    "hoverlabel": {
                      "align": "left"
                    },
                    "ternary": {
                      "bgcolor": "#E5ECF6",
                      "baxis": {
                        "ticks": "",
                        "gridcolor": "white",
                        "linecolor": "white"
                      },
                      "caxis": {
                        "ticks": "",
                        "gridcolor": "white",
                        "linecolor": "white"
                      },
                      "aaxis": {
                        "ticks": "",
                        "gridcolor": "white",
                        "linecolor": "white"
                      }
                    },
                    "mapbox": {
                      "style": "light"
                    },
                    "hovermode": "closest",
                    "font": {
                      "color": "#2a3f5f"
                    },
                    "geo": {
                      "showland": true,
                      "landcolor": "#E5ECF6",
                      "showlakes": true,
                      "bgcolor": "white",
                      "subunitcolor": "white",
                      "lakecolor": "white"
                    },
                    "coloraxis": {
                      "colorbar": {
                        "outlinewidth": 0,
                        "ticks": ""
                      }
                    }
                  },
                  "data": {
                    "mesh3d": [
                      {
                        "colorbar": {
                          "outlinewidth": 0,
                          "ticks": ""
                        },
                        "type": "mesh3d"
                      }
                    ],
                    "scattercarpet": [
                      {
                        "marker": {
                          "colorbar": {
                            "outlinewidth": 0,
                            "ticks": ""
                          }
                        },
                        "type": "scattercarpet"
                      }
                    ],
                    "pie": [
                      {
                        "automargin": true,
                        "type": "pie"
                      }
                    ],
                    "surface": [
                      {
                        "colorbar": {
                          "outlinewidth": 0,
                          "ticks": ""
                        },
                        "type": "surface",
                        "colorscale": [
                          [
                            0,
                            "#0d0887"
                          ],
                          [
                            0.1111111111111111,
                            "#46039f"
                          ],
                          [
                            0.2222222222222222,
                            "#7201a8"
                          ],
                          [
                            0.3333333333333333,
                            "#9c179e"
                          ],
                          [
                            0.4444444444444444,
                            "#bd3786"
                          ],
                          [
                            0.5555555555555556,
                            "#d8576b"
                          ],
                          [
                            0.6666666666666666,
                            "#ed7953"
                          ],
                          [
                            0.7777777777777778,
                            "#fb9f3a"
                          ],
                          [
                            0.8888888888888888,
                            "#fdca26"
                          ],
                          [
                            1,
                            "#f0f921"
                          ]
                        ]
                      }
                    ],
                    "table": [
                      {
                        "header": {
                          "line": {
                            "color": "white"
                          },
                          "fill": {
                            "color": "#C8D4E3"
                          }
                        },
                        "cells": {
                          "line": {
                            "color": "white"
                          },
                          "fill": {
                            "color": "#EBF0F8"
                          }
                        },
                        "type": "table"
                      }
                    ],
                    "scatterpolargl": [
                      {
                        "marker": {
                          "colorbar": {
                            "outlinewidth": 0,
                            "ticks": ""
                          }
                        },
                        "type": "scatterpolargl"
                      }
                    ],
                    "contour": [
                      {
                        "colorbar": {
                          "outlinewidth": 0,
                          "ticks": ""
                        },
                        "type": "contour",
                        "colorscale": [
                          [
                            0,
                            "#0d0887"
                          ],
                          [
                            0.1111111111111111,
                            "#46039f"
                          ],
                          [
                            0.2222222222222222,
                            "#7201a8"
                          ],
                          [
                            0.3333333333333333,
                            "#9c179e"
                          ],
                          [
                            0.4444444444444444,
                            "#bd3786"
                          ],
                          [
                            0.5555555555555556,
                            "#d8576b"
                          ],
                          [
                            0.6666666666666666,
                            "#ed7953"
                          ],
                          [
                            0.7777777777777778,
                            "#fb9f3a"
                          ],
                          [
                            0.8888888888888888,
                            "#fdca26"
                          ],
                          [
                            1,
                            "#f0f921"
                          ]
                        ]
                      }
                    ],
                    "carpet": [
                      {
                        "type": "carpet",
                        "baxis": {
                          "minorgridcolor": "white",
                          "gridcolor": "white",
                          "linecolor": "white",
                          "endlinecolor": "#2a3f5f",
                          "startlinecolor": "#2a3f5f"
                        },
                        "aaxis": {
                          "minorgridcolor": "white",
                          "gridcolor": "white",
                          "linecolor": "white",
                          "endlinecolor": "#2a3f5f",
                          "startlinecolor": "#2a3f5f"
                        }
                      }
                    ],
                    "contourcarpet": [
                      {
                        "colorbar": {
                          "outlinewidth": 0,
                          "ticks": ""
                        },
                        "type": "contourcarpet"
                      }
                    ],
                    "heatmap": [
                      {
                        "colorbar": {
                          "outlinewidth": 0,
                          "ticks": ""
                        },
                        "type": "heatmap",
                        "colorscale": [
                          [
                            0,
                            "#0d0887"
                          ],
                          [
                            0.1111111111111111,
                            "#46039f"
                          ],
                          [
                            0.2222222222222222,
                            "#7201a8"
                          ],
                          [
                            0.3333333333333333,
                            "#9c179e"
                          ],
                          [
                            0.4444444444444444,
                            "#bd3786"
                          ],
                          [
                            0.5555555555555556,
                            "#d8576b"
                          ],
                          [
                            0.6666666666666666,
                            "#ed7953"
                          ],
                          [
                            0.7777777777777778,
                            "#fb9f3a"
                          ],
                          [
                            0.8888888888888888,
                            "#fdca26"
                          ],
                          [
                            1,
                            "#f0f921"
                          ]
                        ]
                      }
                    ],
                    "scattermapbox": [
                      {
                        "marker": {
                          "colorbar": {
                            "outlinewidth": 0,
                            "ticks": ""
                          }
                        },
                        "type": "scattermapbox"
                      }
                    ],
                    "scatter3d": [
                      {
                        "marker": {
                          "colorbar": {
                            "outlinewidth": 0,
                            "ticks": ""
                          }
                        },
                        "line": {
                          "colorbar": {
                            "outlinewidth": 0,
                            "ticks": ""
                          }
                        },
                        "type": "scatter3d"
                      }
                    ],
                    "scattergl": [
                      {
                        "marker": {
                          "colorbar": {
                            "outlinewidth": 0,
                            "ticks": ""
                          }
                        },
                        "type": "scattergl"
                      }
                    ],
                    "scatterternary": [
                      {
                        "marker": {
                          "colorbar": {
                            "outlinewidth": 0,
                            "ticks": ""
                          }
                        },
                        "type": "scatterternary"
                      }
                    ],
                    "histogram": [
                      {
                        "marker": {
                          "colorbar": {
                            "outlinewidth": 0,
                            "ticks": ""
                          }
                        },
                        "type": "histogram"
                      }
                    ],
                    "heatmapgl": [
                      {
                        "colorbar": {
                          "outlinewidth": 0,
                          "ticks": ""
                        },
                        "type": "heatmapgl",
                        "colorscale": [
                          [
                            0,
                            "#0d0887"
                          ],
                          [
                            0.1111111111111111,
                            "#46039f"
                          ],
                          [
                            0.2222222222222222,
                            "#7201a8"
                          ],
                          [
                            0.3333333333333333,
                            "#9c179e"
                          ],
                          [
                            0.4444444444444444,
                            "#bd3786"
                          ],
                          [
                            0.5555555555555556,
                            "#d8576b"
                          ],
                          [
                            0.6666666666666666,
                            "#ed7953"
                          ],
                          [
                            0.7777777777777778,
                            "#fb9f3a"
                          ],
                          [
                            0.8888888888888888,
                            "#fdca26"
                          ],
                          [
                            1,
                            "#f0f921"
                          ]
                        ]
                      }
                    ],
                    "scatterpolar": [
                      {
                        "marker": {
                          "colorbar": {
                            "outlinewidth": 0,
                            "ticks": ""
                          }
                        },
                        "type": "scatterpolar"
                      }
                    ],
                    "histogram2d": [
                      {
                        "colorbar": {
                          "outlinewidth": 0,
                          "ticks": ""
                        },
                        "type": "histogram2d",
                        "colorscale": [
                          [
                            0,
                            "#0d0887"
                          ],
                          [
                            0.1111111111111111,
                            "#46039f"
                          ],
                          [
                            0.2222222222222222,
                            "#7201a8"
                          ],
                          [
                            0.3333333333333333,
                            "#9c179e"
                          ],
                          [
                            0.4444444444444444,
                            "#bd3786"
                          ],
                          [
                            0.5555555555555556,
                            "#d8576b"
                          ],
                          [
                            0.6666666666666666,
                            "#ed7953"
                          ],
                          [
                            0.7777777777777778,
                            "#fb9f3a"
                          ],
                          [
                            0.8888888888888888,
                            "#fdca26"
                          ],
                          [
                            1,
                            "#f0f921"
                          ]
                        ]
                      }
                    ],
                    "scattergeo": [
                      {
                        "marker": {
                          "colorbar": {
                            "outlinewidth": 0,
                            "ticks": ""
                          }
                        },
                        "type": "scattergeo"
                      }
                    ],
                    "bar": [
                      {
                        "marker": {
                          "line": {
                            "color": "#E5ECF6",
                            "width": 0.5
                          }
                        },
                        "type": "bar",
                        "error_x": {
                          "color": "#2a3f5f"
                        },
                        "error_y": {
                          "color": "#2a3f5f"
                        }
                      }
                    ],
                    "choropleth": [
                      {
                        "colorbar": {
                          "outlinewidth": 0,
                          "ticks": ""
                        },
                        "type": "choropleth"
                      }
                    ],
                    "parcoords": [
                      {
                        "line": {
                          "colorbar": {
                            "outlinewidth": 0,
                            "ticks": ""
                          }
                        },
                        "type": "parcoords"
                      }
                    ],
                    "barpolar": [
                      {
                        "marker": {
                          "line": {
                            "color": "#E5ECF6",
                            "width": 0.5
                          }
                        },
                        "type": "barpolar"
                      }
                    ],
                    "histogram2dcontour": [
                      {
                        "colorbar": {
                          "outlinewidth": 0,
                          "ticks": ""
                        },
                        "type": "histogram2dcontour",
                        "colorscale": [
                          [
                            0,
                            "#0d0887"
                          ],
                          [
                            0.1111111111111111,
                            "#46039f"
                          ],
                          [
                            0.2222222222222222,
                            "#7201a8"
                          ],
                          [
                            0.3333333333333333,
                            "#9c179e"
                          ],
                          [
                            0.4444444444444444,
                            "#bd3786"
                          ],
                          [
                            0.5555555555555556,
                            "#d8576b"
                          ],
                          [
                            0.6666666666666666,
                            "#ed7953"
                          ],
                          [
                            0.7777777777777778,
                            "#fb9f3a"
                          ],
                          [
                            0.8888888888888888,
                            "#fdca26"
                          ],
                          [
                            1,
                            "#f0f921"
                          ]
                        ]
                      }
                    ],
                    "scatter": [
                      {
                        "marker": {
                          "colorbar": {
                            "outlinewidth": 0,
                            "ticks": ""
                          }
                        },
                        "type": "scatter"
                      }
                    ]
                  }
                },
                "title": {
                  "text": "Trend Deaths Case Global Covid-19",
                  "font": {
                    "color": "#4D5663"
                  }
                },
                "paper_bgcolor": "#F5F6F9",
                "plot_bgcolor": "#F5F6F9",
                "yaxis": {
                  "tickfont": {
                    "color": "#4D5663"
                  },
                  "zerolinecolor": "#E1E5ED",
                  "title": {
                    "text": "Number of death cases",
                    "font": {
                      "color": "#4D5663"
                    }
                  },
                  "gridcolor": "#E1E5ED",
                  "showgrid": true
                },
                "xaxis": {
                  "tickfont": {
                    "color": "#4D5663"
                  },
                  "zerolinecolor": "#E1E5ED",
                  "title": {
                    "text": "Time",
                    "font": {
                      "color": "#4D5663"
                    }
                  },
                  "gridcolor": "#E1E5ED",
                  "showgrid": true
                },
                "legend": {
                  "bgcolor": "#F5F6F9",
                  "font": {
                    "color": "#4D5663"
                  }
                }
              }
            }
          },
          "metadata": {
            "tags": []
          }
        }
      ]
    },
    {
      "cell_type": "markdown",
      "metadata": {
        "id": "tjl49tVjZFaV"
      },
      "source": [
        "### **Trend Recovered Case Global Covid-19**"
      ]
    },
    {
      "cell_type": "code",
      "metadata": {
        "colab": {
          "base_uri": "https://localhost:8080/",
          "height": 542
        },
        "id": "H8z7PRFVZFaV",
        "outputId": "7fe47c32-3f66-4887-c489-13b7de53976a"
      },
      "source": [
        "dataGroup.iplot(kind = \"bar\", y = \"Recovered\", title = \"Trend Recovered Case Global Covid-19\",\n",
        "                      xTitle = \"Time\", yTitle = 'Number of recovery cases')"
      ],
      "execution_count": 20,
      "outputs": [
        {
          "output_type": "display_data",
          "data": {
            "text/html": [
              "<div>\n",
              "        \n",
              "        \n",
              "            <div id=\"c63e75dd-614b-43d2-82da-9aeddf426786\" class=\"plotly-graph-div\" style=\"height:525px; width:100%;\"></div>\n",
              "            <script type=\"text/javascript\">\n",
              "                require([\"plotly\"], function(Plotly) {\n",
              "                    window.PLOTLYENV=window.PLOTLYENV || {};\n",
              "                    window.PLOTLYENV.BASE_URL='https://plot.ly';\n",
              "                    \n",
              "                if (document.getElementById(\"c63e75dd-614b-43d2-82da-9aeddf426786\")) {\n",
              "                    Plotly.newPlot(\n",
              "                        'c63e75dd-614b-43d2-82da-9aeddf426786',\n",
              "                        [{\"marker\": {\"color\": \"rgba(255, 153, 51, 0.6)\", \"line\": {\"color\": \"rgba(255, 153, 51, 1.0)\", \"width\": 1}}, \"name\": \"Recovered\", \"orientation\": \"v\", \"text\": \"\", \"type\": \"bar\", \"x\": [\"2020-01-22\", \"2020-01-23\", \"2020-01-24\", \"2020-01-25\", \"2020-01-26\", \"2020-01-27\", \"2020-01-28\", \"2020-01-29\", \"2020-01-30\", \"2020-01-31\", \"2020-02-01\", \"2020-02-02\", \"2020-02-03\", \"2020-02-04\", \"2020-02-05\", \"2020-02-06\", \"2020-02-07\", \"2020-02-08\", \"2020-02-09\", \"2020-02-10\", \"2020-02-11\", \"2020-02-12\", \"2020-02-13\", \"2020-02-14\", \"2020-02-15\", \"2020-02-16\", \"2020-02-17\", \"2020-02-18\", \"2020-02-19\", \"2020-02-20\", \"2020-02-21\", \"2020-02-22\", \"2020-02-23\", \"2020-02-24\", \"2020-02-25\", \"2020-02-26\", \"2020-02-27\", \"2020-02-28\", \"2020-02-29\", \"2020-03-01\", \"2020-03-02\", \"2020-03-03\", \"2020-03-04\", \"2020-03-05\", \"2020-03-06\", \"2020-03-07\", \"2020-03-08\", \"2020-03-09\", \"2020-03-10\", \"2020-03-11\", \"2020-03-12\", \"2020-03-13\", \"2020-03-14\", \"2020-03-15\", \"2020-03-16\", \"2020-03-17\", \"2020-03-18\", \"2020-03-19\", \"2020-03-20\", \"2020-03-21\", \"2020-03-22\", \"2020-03-23\", \"2020-03-24\", \"2020-03-25\", \"2020-03-26\", \"2020-03-27\", \"2020-03-28\", \"2020-03-29\", \"2020-03-30\", \"2020-03-31\", \"2020-04-01\", \"2020-04-02\", \"2020-04-03\", \"2020-04-04\", \"2020-04-05\", \"2020-04-06\", \"2020-04-07\", \"2020-04-08\", \"2020-04-09\", \"2020-04-10\", \"2020-04-11\", \"2020-04-12\", \"2020-04-13\", \"2020-04-14\", \"2020-04-15\", \"2020-04-16\", \"2020-04-17\", \"2020-04-18\", \"2020-04-19\", \"2020-04-20\", \"2020-04-21\", \"2020-04-22\", \"2020-04-23\", \"2020-04-24\", \"2020-04-25\", \"2020-04-26\", \"2020-04-27\", \"2020-04-28\", \"2020-04-29\", \"2020-04-30\", \"2020-05-01\", \"2020-05-02\", \"2020-05-03\", \"2020-05-04\", \"2020-05-05\", \"2020-05-06\", \"2020-05-07\", \"2020-05-08\", \"2020-05-09\", \"2020-05-10\", \"2020-05-11\", \"2020-05-12\", \"2020-05-13\", \"2020-05-14\", \"2020-05-15\", \"2020-05-16\", \"2020-05-17\", \"2020-05-18\", \"2020-05-19\", \"2020-05-20\", \"2020-05-21\", \"2020-05-22\", \"2020-05-23\", \"2020-05-24\", \"2020-05-25\", \"2020-05-26\", \"2020-05-27\", \"2020-05-28\", \"2020-05-29\", \"2020-05-30\", \"2020-05-31\", \"2020-06-01\", \"2020-06-02\", \"2020-06-03\", \"2020-06-04\", \"2020-06-05\", \"2020-06-06\", \"2020-06-07\", \"2020-06-08\", \"2020-06-09\", \"2020-06-10\", \"2020-06-11\", \"2020-06-12\", \"2020-06-13\", \"2020-06-14\", \"2020-06-15\", \"2020-06-16\", \"2020-06-17\", \"2020-06-18\", \"2020-06-19\", \"2020-06-20\", \"2020-06-21\", \"2020-06-22\", \"2020-06-23\", \"2020-06-24\", \"2020-06-25\", \"2020-06-26\", \"2020-06-27\", \"2020-06-28\", \"2020-06-29\", \"2020-06-30\", \"2020-07-01\", \"2020-07-02\", \"2020-07-03\", \"2020-07-04\", \"2020-07-05\", \"2020-07-06\", \"2020-07-07\", \"2020-07-08\", \"2020-07-09\", \"2020-07-10\", \"2020-07-11\", \"2020-07-12\", \"2020-07-13\", \"2020-07-14\", \"2020-07-15\", \"2020-07-16\", \"2020-07-17\", \"2020-07-18\", \"2020-07-19\", \"2020-07-20\", \"2020-07-21\", \"2020-07-22\", \"2020-07-23\", \"2020-07-24\", \"2020-07-25\", \"2020-07-26\", \"2020-07-27\", \"2020-07-28\", \"2020-07-29\", \"2020-07-30\", \"2020-07-31\", \"2020-08-01\", \"2020-08-02\", \"2020-08-03\", \"2020-08-04\", \"2020-08-05\", \"2020-08-06\", \"2020-08-07\", \"2020-08-08\", \"2020-08-09\", \"2020-08-10\", \"2020-08-11\", \"2020-08-12\", \"2020-08-13\", \"2020-08-14\", \"2020-08-15\", \"2020-08-16\", \"2020-08-17\", \"2020-08-18\", \"2020-08-19\", \"2020-08-20\", \"2020-08-21\", \"2020-08-22\", \"2020-08-23\", \"2020-08-24\", \"2020-08-25\", \"2020-08-26\", \"2020-08-27\", \"2020-08-28\", \"2020-08-29\", \"2020-08-30\", \"2020-08-31\", \"2020-09-01\", \"2020-09-02\", \"2020-09-03\", \"2020-09-04\", \"2020-09-05\", \"2020-09-06\", \"2020-09-07\", \"2020-09-08\", \"2020-09-09\", \"2020-09-10\", \"2020-09-11\", \"2020-09-12\", \"2020-09-13\", \"2020-09-14\", \"2020-09-15\", \"2020-09-16\", \"2020-09-17\", \"2020-09-18\", \"2020-09-19\", \"2020-09-20\", \"2020-09-21\", \"2020-09-22\", \"2020-09-23\", \"2020-09-24\", \"2020-09-25\", \"2020-09-26\", \"2020-09-27\", \"2020-09-28\", \"2020-09-29\", \"2020-09-30\", \"2020-10-01\", \"2020-10-02\", \"2020-10-03\", \"2020-10-04\", \"2020-10-05\", \"2020-10-06\", \"2020-10-07\", \"2020-10-08\", \"2020-10-09\", \"2020-10-10\", \"2020-10-11\", \"2020-10-12\", \"2020-10-13\", \"2020-10-14\", \"2020-10-15\", \"2020-10-16\", \"2020-10-17\", \"2020-10-18\", \"2020-10-19\", \"2020-10-20\", \"2020-10-21\", \"2020-10-22\", \"2020-10-23\", \"2020-10-24\", \"2020-10-25\", \"2020-10-26\", \"2020-10-27\", \"2020-10-28\", \"2020-10-29\", \"2020-10-30\", \"2020-10-31\", \"2020-11-01\", \"2020-11-02\", \"2020-11-03\", \"2020-11-04\", \"2020-11-05\", \"2020-11-06\", \"2020-11-07\", \"2020-11-08\", \"2020-11-09\", \"2020-11-10\", \"2020-11-11\", \"2020-11-12\", \"2020-11-13\", \"2020-11-14\", \"2020-11-15\", \"2020-11-16\", \"2020-11-17\", \"2020-11-18\", \"2020-11-19\", \"2020-11-20\", \"2020-11-21\", \"2020-11-22\", \"2020-11-23\", \"2020-11-24\", \"2020-11-25\", \"2020-11-26\", \"2020-11-27\", \"2020-11-28\", \"2020-11-29\", \"2020-11-30\", \"2020-12-01\", \"2020-12-02\", \"2020-12-03\", \"2020-12-04\", \"2020-12-05\", \"2020-12-06\", \"2020-12-07\", \"2020-12-08\", \"2020-12-09\", \"2020-12-10\", \"2020-12-11\", \"2020-12-12\", \"2020-12-13\", \"2020-12-14\", \"2020-12-15\", \"2020-12-16\", \"2020-12-17\", \"2020-12-18\", \"2020-12-19\", \"2020-12-20\", \"2020-12-21\", \"2020-12-22\", \"2020-12-23\", \"2020-12-24\", \"2020-12-25\", \"2020-12-26\", \"2020-12-27\", \"2020-12-28\", \"2020-12-29\", \"2020-12-30\", \"2020-12-31\", \"2021-01-01\", \"2021-01-02\", \"2021-01-03\", \"2021-01-04\", \"2021-01-05\", \"2021-01-06\", \"2021-01-07\", \"2021-01-08\", \"2021-01-09\", \"2021-01-10\", \"2021-01-11\", \"2021-01-12\", \"2021-01-13\", \"2021-01-14\", \"2021-01-15\", \"2021-01-16\", \"2021-01-17\", \"2021-01-18\", \"2021-01-19\", \"2021-01-20\", \"2021-01-21\", \"2021-01-22\", \"2021-01-23\", \"2021-01-24\", \"2021-01-25\", \"2021-01-26\", \"2021-01-27\", \"2021-01-28\", \"2021-01-29\", \"2021-01-30\", \"2021-01-31\", \"2021-02-01\", \"2021-02-02\", \"2021-02-03\", \"2021-02-04\", \"2021-02-05\", \"2021-02-06\", \"2021-02-07\", \"2021-02-08\", \"2021-02-09\", \"2021-02-10\", \"2021-02-11\", \"2021-02-12\", \"2021-02-13\", \"2021-02-14\", \"2021-02-15\", \"2021-02-16\", \"2021-02-17\", \"2021-02-18\", \"2021-02-19\", \"2021-02-20\", \"2021-02-21\", \"2021-02-22\", \"2021-02-23\", \"2021-02-24\", \"2021-02-25\", \"2021-02-26\", \"2021-02-27\", \"2021-02-28\", \"2021-03-01\", \"2021-03-02\", \"2021-03-03\", \"2021-03-04\", \"2021-03-05\", \"2021-03-06\", \"2021-03-07\", \"2021-03-08\", \"2021-03-09\", \"2021-03-10\", \"2021-03-11\", \"2021-03-12\", \"2021-03-13\", \"2021-03-14\", \"2021-03-15\", \"2021-03-16\", \"2021-03-17\", \"2021-03-18\", \"2021-03-19\", \"2021-03-20\", \"2021-03-21\", \"2021-03-22\", \"2021-03-23\", \"2021-03-24\", \"2021-03-25\", \"2021-03-26\", \"2021-03-27\", \"2021-03-28\", \"2021-03-29\", \"2021-03-30\", \"2021-03-31\", \"2021-04-01\", \"2021-04-02\", \"2021-04-03\", \"2021-04-04\", \"2021-04-05\", \"2021-04-06\", \"2021-04-07\", \"2021-04-08\", \"2021-04-09\", \"2021-04-10\", \"2021-04-11\", \"2021-04-12\", \"2021-04-13\", \"2021-04-14\", \"2021-04-15\", \"2021-04-16\", \"2021-04-17\", \"2021-04-18\", \"2021-04-19\", \"2021-04-20\", \"2021-04-21\", \"2021-04-22\", \"2021-04-23\", \"2021-04-24\", \"2021-04-25\", \"2021-04-26\", \"2021-04-27\", \"2021-04-28\", \"2021-04-29\", \"2021-04-30\", \"2021-05-01\", \"2021-05-02\", \"2021-05-03\", \"2021-05-04\", \"2021-05-05\", \"2021-05-06\", \"2021-05-07\", \"2021-05-08\", \"2021-05-09\", \"2021-05-10\", \"2021-05-11\", \"2021-05-12\", \"2021-05-13\", \"2021-05-14\", \"2021-05-15\", \"2021-05-16\", \"2021-05-17\", \"2021-05-18\", \"2021-05-19\", \"2021-05-20\", \"2021-05-21\", \"2021-05-22\", \"2021-05-23\"], \"y\": [30, 32, 39, 42, 56, 65, 108, 127, 145, 225, 287, 476, 627, 857, 1129, 1492, 2016, 2616, 3245, 3947, 4684, 5151, 6294, 8057, 9396, 10866, 12583, 14352, 16121, 18179, 18892, 22889, 23394, 25227, 27905, 30386, 33278, 36710, 39781, 42717, 45601, 48227, 51169, 53795, 55863, 58357, 60694, 62493, 64400, 66998, 68321, 70248, 72620, 76031, 78086, 80830, 83317, 84958, 87403, 91650, 97867, 98335, 107974, 113753, 122125, 130910, 139421, 148877, 164214, 177804, 193076, 210219, 225641, 246053, 259889, 276598, 299860, 328742, 353996, 375734, 401984, 421367, 448624, 473698, 510237, 541120, 567304, 591170, 622953, 645131, 679933, 710018, 738748, 788777, 816532, 845344, 873228, 906440, 948517, 1013633, 1051790, 1092441, 1124974, 1159060, 1195533, 1241652, 1281177, 1317590, 1371031, 1404840, 1451725, 1488767, 1544639, 1584350, 1632453, 1688864, 1729872, 1782788, 1834840, 1893810, 1945030, 2053577, 2108411, 2163938, 2227667, 2282819, 2346146, 2413009, 2490274, 2560724, 2637108, 2692033, 2796145, 2875236, 2945306, 3014471, 3086675, 3141784, 3293395, 3375665, 3454836, 3540715, 3620435, 3706327, 3777146, 3857421, 3955284, 4074115, 4155278, 4250268, 4366122, 4434808, 4526441, 4630496, 4746247, 4839131, 4945111, 5051397, 5140600, 5235171, 5352511, 5468425, 5753359, 5863247, 6059007, 6178370, 6302069, 6447102, 6605158, 6739776, 6879222, 7004914, 7116750, 7257073, 7399325, 7559131, 7711616, 7895037, 8045824, 8133882, 8293010, 8467706, 8647438, 8823668, 9051968, 9271780, 9415081, 9586464, 9756922, 9959508, 10173027, 10372633, 10553544, 10692268, 10914713, 11138370, 11360065, 11548872, 11740918, 11941162, 12119940, 12284151, 12589219, 12829864, 12993780, 13277022, 13445626, 13678580, 13889592, 14117187, 14335184, 14542974, 14711468, 14921385, 15137916, 15337337, 15568886, 15794620, 16001857, 16200975, 16412388, 16622628, 16823418, 17081380, 17300617, 17521986, 17735487, 17936475, 18148266, 18345814, 18547611, 18787878, 19004539, 19228209, 19451143, 19638991, 19867490, 20093777, 20323254, 20543465, 20794614, 21031599, 21268676, 21514154, 21733547, 21996960, 22252630, 22491838, 22753981, 22967860, 23190402, 23431686, 23679904, 23901446, 24073731, 24329332, 24551491, 24788959, 25021585, 25276776, 25496282, 25703072, 25898477, 26121117, 26321236, 26513681, 26725966, 26933293, 27136307, 27334590, 27536101, 27738632, 27950079, 28161301, 28388094, 28594828, 28806409, 29003667, 29242802, 29832507, 30098469, 30345220, 30600994, 30845323, 31103270, 31383407, 31634980, 31914299, 32217954, 32506315, 32805331, 33058571, 33315624, 33572984, 33953208, 34179447, 34481579, 34759398, 34990158, 35380888, 35814479, 36177589, 36551888, 36907312, 37246582, 37520306, 37931519, 38303698, 38741108, 39107984, 39489610, 39849316, 40167599, 40569855, 41046059, 41508985, 41935969, 42426586, 42862534, 43178578, 43591717, 44032488, 44458968, 44950194, 45428334, 46933277, 47328396, 41338399, 41696563, 42058783, 42434192, 42751920, 43103506, 43380335, 43723555, 44086740, 44410880, 44725552, 45017158, 45425322, 45717710, 46016136, 46369231, 46757476, 47032627, 47313005, 47614297, 47882779, 48173187, 48488548, 48801673, 49125604, 49422867, 49753112, 50023662, 50313950, 50657507, 51023568, 51396413, 51717035, 52034090, 52349805, 52668558, 53071502, 53399273, 53765412, 54147169, 54463662, 54774619, 55089060, 55418603, 55759372, 56075031, 56439138, 56790304, 57079203, 57351845, 57702035, 58031882, 58325871, 58607158, 58901715, 59179150, 59411984, 59783592, 60052900, 60328985, 60616584, 60862827, 61058258, 61346871, 61582276, 61876217, 62112835, 62347471, 62616687, 62833944, 63016514, 63295144, 63504603, 63732295, 63992563, 64243285, 64418462, 64633388, 64903492, 65132900, 65383180, 65609540, 65846043, 66084363, 66358921, 66621154, 66856510, 67129127, 67397683, 67650215, 67895903, 68185782, 68452267, 68716803, 68985879, 69264940, 69523151, 69803250, 70137879, 70451021, 70786663, 71098480, 71463066, 71768319, 72097107, 72401543, 72736786, 73119295, 73464081, 73784288, 74150289, 74498477, 74846290, 75216286, 75699591, 76094850, 76548563, 76933557, 77464029, 77858761, 78345223, 78792113, 79236515, 79740632, 80259168, 80839359, 81374734, 81979571, 82491871, 83128167, 83767999, 84344290, 84878104, 85565470, 86246374, 86843039, 87550355, 88236951, 88919401, 89612415, 90255904, 90912804, 91626286, 92301898, 92998027, 93709032, 94371825, 95000511, 95751515, 96399064, 97089181, 97754528, 98397065, 99064469, 99808931, 100552044, 101250071, 101886760, 102496978, 103110386, 103620280]}],\n",
              "                        {\"legend\": {\"bgcolor\": \"#F5F6F9\", \"font\": {\"color\": \"#4D5663\"}}, \"paper_bgcolor\": \"#F5F6F9\", \"plot_bgcolor\": \"#F5F6F9\", \"template\": {\"data\": {\"bar\": [{\"error_x\": {\"color\": \"#2a3f5f\"}, \"error_y\": {\"color\": \"#2a3f5f\"}, \"marker\": {\"line\": {\"color\": \"#E5ECF6\", \"width\": 0.5}}, \"type\": \"bar\"}], \"barpolar\": [{\"marker\": {\"line\": {\"color\": \"#E5ECF6\", \"width\": 0.5}}, \"type\": \"barpolar\"}], \"carpet\": [{\"aaxis\": {\"endlinecolor\": \"#2a3f5f\", \"gridcolor\": \"white\", \"linecolor\": \"white\", \"minorgridcolor\": \"white\", \"startlinecolor\": \"#2a3f5f\"}, \"baxis\": {\"endlinecolor\": \"#2a3f5f\", \"gridcolor\": \"white\", \"linecolor\": \"white\", \"minorgridcolor\": \"white\", \"startlinecolor\": \"#2a3f5f\"}, \"type\": \"carpet\"}], \"choropleth\": [{\"colorbar\": {\"outlinewidth\": 0, \"ticks\": \"\"}, \"type\": \"choropleth\"}], \"contour\": [{\"colorbar\": {\"outlinewidth\": 0, \"ticks\": \"\"}, \"colorscale\": [[0.0, \"#0d0887\"], [0.1111111111111111, \"#46039f\"], [0.2222222222222222, \"#7201a8\"], [0.3333333333333333, \"#9c179e\"], [0.4444444444444444, \"#bd3786\"], [0.5555555555555556, \"#d8576b\"], [0.6666666666666666, \"#ed7953\"], [0.7777777777777778, \"#fb9f3a\"], [0.8888888888888888, \"#fdca26\"], [1.0, \"#f0f921\"]], \"type\": \"contour\"}], \"contourcarpet\": [{\"colorbar\": {\"outlinewidth\": 0, \"ticks\": \"\"}, \"type\": \"contourcarpet\"}], \"heatmap\": [{\"colorbar\": {\"outlinewidth\": 0, \"ticks\": \"\"}, \"colorscale\": [[0.0, \"#0d0887\"], [0.1111111111111111, \"#46039f\"], [0.2222222222222222, \"#7201a8\"], [0.3333333333333333, \"#9c179e\"], [0.4444444444444444, \"#bd3786\"], [0.5555555555555556, \"#d8576b\"], [0.6666666666666666, \"#ed7953\"], [0.7777777777777778, \"#fb9f3a\"], [0.8888888888888888, \"#fdca26\"], [1.0, \"#f0f921\"]], \"type\": \"heatmap\"}], \"heatmapgl\": [{\"colorbar\": {\"outlinewidth\": 0, \"ticks\": \"\"}, \"colorscale\": [[0.0, \"#0d0887\"], [0.1111111111111111, \"#46039f\"], [0.2222222222222222, \"#7201a8\"], [0.3333333333333333, \"#9c179e\"], [0.4444444444444444, \"#bd3786\"], [0.5555555555555556, \"#d8576b\"], [0.6666666666666666, \"#ed7953\"], [0.7777777777777778, \"#fb9f3a\"], [0.8888888888888888, \"#fdca26\"], [1.0, \"#f0f921\"]], \"type\": \"heatmapgl\"}], \"histogram\": [{\"marker\": {\"colorbar\": {\"outlinewidth\": 0, \"ticks\": \"\"}}, \"type\": \"histogram\"}], \"histogram2d\": [{\"colorbar\": {\"outlinewidth\": 0, \"ticks\": \"\"}, \"colorscale\": [[0.0, \"#0d0887\"], [0.1111111111111111, \"#46039f\"], [0.2222222222222222, \"#7201a8\"], [0.3333333333333333, \"#9c179e\"], [0.4444444444444444, \"#bd3786\"], [0.5555555555555556, \"#d8576b\"], [0.6666666666666666, \"#ed7953\"], [0.7777777777777778, \"#fb9f3a\"], [0.8888888888888888, \"#fdca26\"], [1.0, \"#f0f921\"]], \"type\": \"histogram2d\"}], \"histogram2dcontour\": [{\"colorbar\": {\"outlinewidth\": 0, \"ticks\": \"\"}, \"colorscale\": [[0.0, \"#0d0887\"], [0.1111111111111111, \"#46039f\"], [0.2222222222222222, \"#7201a8\"], [0.3333333333333333, \"#9c179e\"], [0.4444444444444444, \"#bd3786\"], [0.5555555555555556, \"#d8576b\"], [0.6666666666666666, \"#ed7953\"], [0.7777777777777778, \"#fb9f3a\"], [0.8888888888888888, \"#fdca26\"], [1.0, \"#f0f921\"]], \"type\": \"histogram2dcontour\"}], \"mesh3d\": [{\"colorbar\": {\"outlinewidth\": 0, \"ticks\": \"\"}, \"type\": \"mesh3d\"}], \"parcoords\": [{\"line\": {\"colorbar\": {\"outlinewidth\": 0, \"ticks\": \"\"}}, \"type\": \"parcoords\"}], \"pie\": [{\"automargin\": true, \"type\": \"pie\"}], \"scatter\": [{\"marker\": {\"colorbar\": {\"outlinewidth\": 0, \"ticks\": \"\"}}, \"type\": \"scatter\"}], \"scatter3d\": [{\"line\": {\"colorbar\": {\"outlinewidth\": 0, \"ticks\": \"\"}}, \"marker\": {\"colorbar\": {\"outlinewidth\": 0, \"ticks\": \"\"}}, \"type\": \"scatter3d\"}], \"scattercarpet\": [{\"marker\": {\"colorbar\": {\"outlinewidth\": 0, \"ticks\": \"\"}}, \"type\": \"scattercarpet\"}], \"scattergeo\": [{\"marker\": {\"colorbar\": {\"outlinewidth\": 0, \"ticks\": \"\"}}, \"type\": \"scattergeo\"}], \"scattergl\": [{\"marker\": {\"colorbar\": {\"outlinewidth\": 0, \"ticks\": \"\"}}, \"type\": \"scattergl\"}], \"scattermapbox\": [{\"marker\": {\"colorbar\": {\"outlinewidth\": 0, \"ticks\": \"\"}}, \"type\": \"scattermapbox\"}], \"scatterpolar\": [{\"marker\": {\"colorbar\": {\"outlinewidth\": 0, \"ticks\": \"\"}}, \"type\": \"scatterpolar\"}], \"scatterpolargl\": [{\"marker\": {\"colorbar\": {\"outlinewidth\": 0, \"ticks\": \"\"}}, \"type\": \"scatterpolargl\"}], \"scatterternary\": [{\"marker\": {\"colorbar\": {\"outlinewidth\": 0, \"ticks\": \"\"}}, \"type\": \"scatterternary\"}], \"surface\": [{\"colorbar\": {\"outlinewidth\": 0, \"ticks\": \"\"}, \"colorscale\": [[0.0, \"#0d0887\"], [0.1111111111111111, \"#46039f\"], [0.2222222222222222, \"#7201a8\"], [0.3333333333333333, \"#9c179e\"], [0.4444444444444444, \"#bd3786\"], [0.5555555555555556, \"#d8576b\"], [0.6666666666666666, \"#ed7953\"], [0.7777777777777778, \"#fb9f3a\"], [0.8888888888888888, \"#fdca26\"], [1.0, \"#f0f921\"]], \"type\": \"surface\"}], \"table\": [{\"cells\": {\"fill\": {\"color\": \"#EBF0F8\"}, \"line\": {\"color\": \"white\"}}, \"header\": {\"fill\": {\"color\": \"#C8D4E3\"}, \"line\": {\"color\": \"white\"}}, \"type\": \"table\"}]}, \"layout\": {\"annotationdefaults\": {\"arrowcolor\": \"#2a3f5f\", \"arrowhead\": 0, \"arrowwidth\": 1}, \"coloraxis\": {\"colorbar\": {\"outlinewidth\": 0, \"ticks\": \"\"}}, \"colorscale\": {\"diverging\": [[0, \"#8e0152\"], [0.1, \"#c51b7d\"], [0.2, \"#de77ae\"], [0.3, \"#f1b6da\"], [0.4, \"#fde0ef\"], [0.5, \"#f7f7f7\"], [0.6, \"#e6f5d0\"], [0.7, \"#b8e186\"], [0.8, \"#7fbc41\"], [0.9, \"#4d9221\"], [1, \"#276419\"]], \"sequential\": [[0.0, \"#0d0887\"], [0.1111111111111111, \"#46039f\"], [0.2222222222222222, \"#7201a8\"], [0.3333333333333333, \"#9c179e\"], [0.4444444444444444, \"#bd3786\"], [0.5555555555555556, \"#d8576b\"], [0.6666666666666666, \"#ed7953\"], [0.7777777777777778, \"#fb9f3a\"], [0.8888888888888888, \"#fdca26\"], [1.0, \"#f0f921\"]], \"sequentialminus\": [[0.0, \"#0d0887\"], [0.1111111111111111, \"#46039f\"], [0.2222222222222222, \"#7201a8\"], [0.3333333333333333, \"#9c179e\"], [0.4444444444444444, \"#bd3786\"], [0.5555555555555556, \"#d8576b\"], [0.6666666666666666, \"#ed7953\"], [0.7777777777777778, \"#fb9f3a\"], [0.8888888888888888, \"#fdca26\"], [1.0, \"#f0f921\"]]}, \"colorway\": [\"#636efa\", \"#EF553B\", \"#00cc96\", \"#ab63fa\", \"#FFA15A\", \"#19d3f3\", \"#FF6692\", \"#B6E880\", \"#FF97FF\", \"#FECB52\"], \"font\": {\"color\": \"#2a3f5f\"}, \"geo\": {\"bgcolor\": \"white\", \"lakecolor\": \"white\", \"landcolor\": \"#E5ECF6\", \"showlakes\": true, \"showland\": true, \"subunitcolor\": \"white\"}, \"hoverlabel\": {\"align\": \"left\"}, \"hovermode\": \"closest\", \"mapbox\": {\"style\": \"light\"}, \"paper_bgcolor\": \"white\", \"plot_bgcolor\": \"#E5ECF6\", \"polar\": {\"angularaxis\": {\"gridcolor\": \"white\", \"linecolor\": \"white\", \"ticks\": \"\"}, \"bgcolor\": \"#E5ECF6\", \"radialaxis\": {\"gridcolor\": \"white\", \"linecolor\": \"white\", \"ticks\": \"\"}}, \"scene\": {\"xaxis\": {\"backgroundcolor\": \"#E5ECF6\", \"gridcolor\": \"white\", \"gridwidth\": 2, \"linecolor\": \"white\", \"showbackground\": true, \"ticks\": \"\", \"zerolinecolor\": \"white\"}, \"yaxis\": {\"backgroundcolor\": \"#E5ECF6\", \"gridcolor\": \"white\", \"gridwidth\": 2, \"linecolor\": \"white\", \"showbackground\": true, \"ticks\": \"\", \"zerolinecolor\": \"white\"}, \"zaxis\": {\"backgroundcolor\": \"#E5ECF6\", \"gridcolor\": \"white\", \"gridwidth\": 2, \"linecolor\": \"white\", \"showbackground\": true, \"ticks\": \"\", \"zerolinecolor\": \"white\"}}, \"shapedefaults\": {\"line\": {\"color\": \"#2a3f5f\"}}, \"ternary\": {\"aaxis\": {\"gridcolor\": \"white\", \"linecolor\": \"white\", \"ticks\": \"\"}, \"baxis\": {\"gridcolor\": \"white\", \"linecolor\": \"white\", \"ticks\": \"\"}, \"bgcolor\": \"#E5ECF6\", \"caxis\": {\"gridcolor\": \"white\", \"linecolor\": \"white\", \"ticks\": \"\"}}, \"title\": {\"x\": 0.05}, \"xaxis\": {\"automargin\": true, \"gridcolor\": \"white\", \"linecolor\": \"white\", \"ticks\": \"\", \"title\": {\"standoff\": 15}, \"zerolinecolor\": \"white\", \"zerolinewidth\": 2}, \"yaxis\": {\"automargin\": true, \"gridcolor\": \"white\", \"linecolor\": \"white\", \"ticks\": \"\", \"title\": {\"standoff\": 15}, \"zerolinecolor\": \"white\", \"zerolinewidth\": 2}}}, \"title\": {\"font\": {\"color\": \"#4D5663\"}, \"text\": \"Trend Recovered Case Global Covid-19\"}, \"xaxis\": {\"gridcolor\": \"#E1E5ED\", \"showgrid\": true, \"tickfont\": {\"color\": \"#4D5663\"}, \"title\": {\"font\": {\"color\": \"#4D5663\"}, \"text\": \"Time\"}, \"zerolinecolor\": \"#E1E5ED\"}, \"yaxis\": {\"gridcolor\": \"#E1E5ED\", \"showgrid\": true, \"tickfont\": {\"color\": \"#4D5663\"}, \"title\": {\"font\": {\"color\": \"#4D5663\"}, \"text\": \"Number of recovery cases\"}, \"zerolinecolor\": \"#E1E5ED\"}},\n",
              "                        {\"showLink\": true, \"linkText\": \"Export to plot.ly\", \"plotlyServerURL\": \"https://plot.ly\", \"responsive\": true}\n",
              "                    ).then(function(){\n",
              "                            \n",
              "var gd = document.getElementById('c63e75dd-614b-43d2-82da-9aeddf426786');\n",
              "var x = new MutationObserver(function (mutations, observer) {{\n",
              "        var display = window.getComputedStyle(gd).display;\n",
              "        if (!display || display === 'none') {{\n",
              "            console.log([gd, 'removed!']);\n",
              "            Plotly.purge(gd);\n",
              "            observer.disconnect();\n",
              "        }}\n",
              "}});\n",
              "\n",
              "// Listen for the removal of the full notebook cells\n",
              "var notebookContainer = gd.closest('#notebook-container');\n",
              "if (notebookContainer) {{\n",
              "    x.observe(notebookContainer, {childList: true});\n",
              "}}\n",
              "\n",
              "// Listen for the clearing of the current output cell\n",
              "var outputEl = gd.closest('.output');\n",
              "if (outputEl) {{\n",
              "    x.observe(outputEl, {childList: true});\n",
              "}}\n",
              "\n",
              "                        })\n",
              "                };\n",
              "                });\n",
              "            </script>\n",
              "        </div>"
            ],
            "application/vnd.plotly.v1+json": {
              "data": [
                {
                  "name": "Recovered",
                  "text": "",
                  "y": [
                    30,
                    32,
                    39,
                    42,
                    56,
                    65,
                    108,
                    127,
                    145,
                    225,
                    287,
                    476,
                    627,
                    857,
                    1129,
                    1492,
                    2016,
                    2616,
                    3245,
                    3947,
                    4684,
                    5151,
                    6294,
                    8057,
                    9396,
                    10866,
                    12583,
                    14352,
                    16121,
                    18179,
                    18892,
                    22889,
                    23394,
                    25227,
                    27905,
                    30386,
                    33278,
                    36710,
                    39781,
                    42717,
                    45601,
                    48227,
                    51169,
                    53795,
                    55863,
                    58357,
                    60694,
                    62493,
                    64400,
                    66998,
                    68321,
                    70248,
                    72620,
                    76031,
                    78086,
                    80830,
                    83317,
                    84958,
                    87403,
                    91650,
                    97867,
                    98335,
                    107974,
                    113753,
                    122125,
                    130910,
                    139421,
                    148877,
                    164214,
                    177804,
                    193076,
                    210219,
                    225641,
                    246053,
                    259889,
                    276598,
                    299860,
                    328742,
                    353996,
                    375734,
                    401984,
                    421367,
                    448624,
                    473698,
                    510237,
                    541120,
                    567304,
                    591170,
                    622953,
                    645131,
                    679933,
                    710018,
                    738748,
                    788777,
                    816532,
                    845344,
                    873228,
                    906440,
                    948517,
                    1013633,
                    1051790,
                    1092441,
                    1124974,
                    1159060,
                    1195533,
                    1241652,
                    1281177,
                    1317590,
                    1371031,
                    1404840,
                    1451725,
                    1488767,
                    1544639,
                    1584350,
                    1632453,
                    1688864,
                    1729872,
                    1782788,
                    1834840,
                    1893810,
                    1945030,
                    2053577,
                    2108411,
                    2163938,
                    2227667,
                    2282819,
                    2346146,
                    2413009,
                    2490274,
                    2560724,
                    2637108,
                    2692033,
                    2796145,
                    2875236,
                    2945306,
                    3014471,
                    3086675,
                    3141784,
                    3293395,
                    3375665,
                    3454836,
                    3540715,
                    3620435,
                    3706327,
                    3777146,
                    3857421,
                    3955284,
                    4074115,
                    4155278,
                    4250268,
                    4366122,
                    4434808,
                    4526441,
                    4630496,
                    4746247,
                    4839131,
                    4945111,
                    5051397,
                    5140600,
                    5235171,
                    5352511,
                    5468425,
                    5753359,
                    5863247,
                    6059007,
                    6178370,
                    6302069,
                    6447102,
                    6605158,
                    6739776,
                    6879222,
                    7004914,
                    7116750,
                    7257073,
                    7399325,
                    7559131,
                    7711616,
                    7895037,
                    8045824,
                    8133882,
                    8293010,
                    8467706,
                    8647438,
                    8823668,
                    9051968,
                    9271780,
                    9415081,
                    9586464,
                    9756922,
                    9959508,
                    10173027,
                    10372633,
                    10553544,
                    10692268,
                    10914713,
                    11138370,
                    11360065,
                    11548872,
                    11740918,
                    11941162,
                    12119940,
                    12284151,
                    12589219,
                    12829864,
                    12993780,
                    13277022,
                    13445626,
                    13678580,
                    13889592,
                    14117187,
                    14335184,
                    14542974,
                    14711468,
                    14921385,
                    15137916,
                    15337337,
                    15568886,
                    15794620,
                    16001857,
                    16200975,
                    16412388,
                    16622628,
                    16823418,
                    17081380,
                    17300617,
                    17521986,
                    17735487,
                    17936475,
                    18148266,
                    18345814,
                    18547611,
                    18787878,
                    19004539,
                    19228209,
                    19451143,
                    19638991,
                    19867490,
                    20093777,
                    20323254,
                    20543465,
                    20794614,
                    21031599,
                    21268676,
                    21514154,
                    21733547,
                    21996960,
                    22252630,
                    22491838,
                    22753981,
                    22967860,
                    23190402,
                    23431686,
                    23679904,
                    23901446,
                    24073731,
                    24329332,
                    24551491,
                    24788959,
                    25021585,
                    25276776,
                    25496282,
                    25703072,
                    25898477,
                    26121117,
                    26321236,
                    26513681,
                    26725966,
                    26933293,
                    27136307,
                    27334590,
                    27536101,
                    27738632,
                    27950079,
                    28161301,
                    28388094,
                    28594828,
                    28806409,
                    29003667,
                    29242802,
                    29832507,
                    30098469,
                    30345220,
                    30600994,
                    30845323,
                    31103270,
                    31383407,
                    31634980,
                    31914299,
                    32217954,
                    32506315,
                    32805331,
                    33058571,
                    33315624,
                    33572984,
                    33953208,
                    34179447,
                    34481579,
                    34759398,
                    34990158,
                    35380888,
                    35814479,
                    36177589,
                    36551888,
                    36907312,
                    37246582,
                    37520306,
                    37931519,
                    38303698,
                    38741108,
                    39107984,
                    39489610,
                    39849316,
                    40167599,
                    40569855,
                    41046059,
                    41508985,
                    41935969,
                    42426586,
                    42862534,
                    43178578,
                    43591717,
                    44032488,
                    44458968,
                    44950194,
                    45428334,
                    46933277,
                    47328396,
                    41338399,
                    41696563,
                    42058783,
                    42434192,
                    42751920,
                    43103506,
                    43380335,
                    43723555,
                    44086740,
                    44410880,
                    44725552,
                    45017158,
                    45425322,
                    45717710,
                    46016136,
                    46369231,
                    46757476,
                    47032627,
                    47313005,
                    47614297,
                    47882779,
                    48173187,
                    48488548,
                    48801673,
                    49125604,
                    49422867,
                    49753112,
                    50023662,
                    50313950,
                    50657507,
                    51023568,
                    51396413,
                    51717035,
                    52034090,
                    52349805,
                    52668558,
                    53071502,
                    53399273,
                    53765412,
                    54147169,
                    54463662,
                    54774619,
                    55089060,
                    55418603,
                    55759372,
                    56075031,
                    56439138,
                    56790304,
                    57079203,
                    57351845,
                    57702035,
                    58031882,
                    58325871,
                    58607158,
                    58901715,
                    59179150,
                    59411984,
                    59783592,
                    60052900,
                    60328985,
                    60616584,
                    60862827,
                    61058258,
                    61346871,
                    61582276,
                    61876217,
                    62112835,
                    62347471,
                    62616687,
                    62833944,
                    63016514,
                    63295144,
                    63504603,
                    63732295,
                    63992563,
                    64243285,
                    64418462,
                    64633388,
                    64903492,
                    65132900,
                    65383180,
                    65609540,
                    65846043,
                    66084363,
                    66358921,
                    66621154,
                    66856510,
                    67129127,
                    67397683,
                    67650215,
                    67895903,
                    68185782,
                    68452267,
                    68716803,
                    68985879,
                    69264940,
                    69523151,
                    69803250,
                    70137879,
                    70451021,
                    70786663,
                    71098480,
                    71463066,
                    71768319,
                    72097107,
                    72401543,
                    72736786,
                    73119295,
                    73464081,
                    73784288,
                    74150289,
                    74498477,
                    74846290,
                    75216286,
                    75699591,
                    76094850,
                    76548563,
                    76933557,
                    77464029,
                    77858761,
                    78345223,
                    78792113,
                    79236515,
                    79740632,
                    80259168,
                    80839359,
                    81374734,
                    81979571,
                    82491871,
                    83128167,
                    83767999,
                    84344290,
                    84878104,
                    85565470,
                    86246374,
                    86843039,
                    87550355,
                    88236951,
                    88919401,
                    89612415,
                    90255904,
                    90912804,
                    91626286,
                    92301898,
                    92998027,
                    93709032,
                    94371825,
                    95000511,
                    95751515,
                    96399064,
                    97089181,
                    97754528,
                    98397065,
                    99064469,
                    99808931,
                    100552044,
                    101250071,
                    101886760,
                    102496978,
                    103110386,
                    103620280
                  ],
                  "marker": {
                    "color": "rgba(255, 153, 51, 0.6)",
                    "line": {
                      "color": "rgba(255, 153, 51, 1.0)",
                      "width": 1
                    }
                  },
                  "x": [
                    "2020-01-22",
                    "2020-01-23",
                    "2020-01-24",
                    "2020-01-25",
                    "2020-01-26",
                    "2020-01-27",
                    "2020-01-28",
                    "2020-01-29",
                    "2020-01-30",
                    "2020-01-31",
                    "2020-02-01",
                    "2020-02-02",
                    "2020-02-03",
                    "2020-02-04",
                    "2020-02-05",
                    "2020-02-06",
                    "2020-02-07",
                    "2020-02-08",
                    "2020-02-09",
                    "2020-02-10",
                    "2020-02-11",
                    "2020-02-12",
                    "2020-02-13",
                    "2020-02-14",
                    "2020-02-15",
                    "2020-02-16",
                    "2020-02-17",
                    "2020-02-18",
                    "2020-02-19",
                    "2020-02-20",
                    "2020-02-21",
                    "2020-02-22",
                    "2020-02-23",
                    "2020-02-24",
                    "2020-02-25",
                    "2020-02-26",
                    "2020-02-27",
                    "2020-02-28",
                    "2020-02-29",
                    "2020-03-01",
                    "2020-03-02",
                    "2020-03-03",
                    "2020-03-04",
                    "2020-03-05",
                    "2020-03-06",
                    "2020-03-07",
                    "2020-03-08",
                    "2020-03-09",
                    "2020-03-10",
                    "2020-03-11",
                    "2020-03-12",
                    "2020-03-13",
                    "2020-03-14",
                    "2020-03-15",
                    "2020-03-16",
                    "2020-03-17",
                    "2020-03-18",
                    "2020-03-19",
                    "2020-03-20",
                    "2020-03-21",
                    "2020-03-22",
                    "2020-03-23",
                    "2020-03-24",
                    "2020-03-25",
                    "2020-03-26",
                    "2020-03-27",
                    "2020-03-28",
                    "2020-03-29",
                    "2020-03-30",
                    "2020-03-31",
                    "2020-04-01",
                    "2020-04-02",
                    "2020-04-03",
                    "2020-04-04",
                    "2020-04-05",
                    "2020-04-06",
                    "2020-04-07",
                    "2020-04-08",
                    "2020-04-09",
                    "2020-04-10",
                    "2020-04-11",
                    "2020-04-12",
                    "2020-04-13",
                    "2020-04-14",
                    "2020-04-15",
                    "2020-04-16",
                    "2020-04-17",
                    "2020-04-18",
                    "2020-04-19",
                    "2020-04-20",
                    "2020-04-21",
                    "2020-04-22",
                    "2020-04-23",
                    "2020-04-24",
                    "2020-04-25",
                    "2020-04-26",
                    "2020-04-27",
                    "2020-04-28",
                    "2020-04-29",
                    "2020-04-30",
                    "2020-05-01",
                    "2020-05-02",
                    "2020-05-03",
                    "2020-05-04",
                    "2020-05-05",
                    "2020-05-06",
                    "2020-05-07",
                    "2020-05-08",
                    "2020-05-09",
                    "2020-05-10",
                    "2020-05-11",
                    "2020-05-12",
                    "2020-05-13",
                    "2020-05-14",
                    "2020-05-15",
                    "2020-05-16",
                    "2020-05-17",
                    "2020-05-18",
                    "2020-05-19",
                    "2020-05-20",
                    "2020-05-21",
                    "2020-05-22",
                    "2020-05-23",
                    "2020-05-24",
                    "2020-05-25",
                    "2020-05-26",
                    "2020-05-27",
                    "2020-05-28",
                    "2020-05-29",
                    "2020-05-30",
                    "2020-05-31",
                    "2020-06-01",
                    "2020-06-02",
                    "2020-06-03",
                    "2020-06-04",
                    "2020-06-05",
                    "2020-06-06",
                    "2020-06-07",
                    "2020-06-08",
                    "2020-06-09",
                    "2020-06-10",
                    "2020-06-11",
                    "2020-06-12",
                    "2020-06-13",
                    "2020-06-14",
                    "2020-06-15",
                    "2020-06-16",
                    "2020-06-17",
                    "2020-06-18",
                    "2020-06-19",
                    "2020-06-20",
                    "2020-06-21",
                    "2020-06-22",
                    "2020-06-23",
                    "2020-06-24",
                    "2020-06-25",
                    "2020-06-26",
                    "2020-06-27",
                    "2020-06-28",
                    "2020-06-29",
                    "2020-06-30",
                    "2020-07-01",
                    "2020-07-02",
                    "2020-07-03",
                    "2020-07-04",
                    "2020-07-05",
                    "2020-07-06",
                    "2020-07-07",
                    "2020-07-08",
                    "2020-07-09",
                    "2020-07-10",
                    "2020-07-11",
                    "2020-07-12",
                    "2020-07-13",
                    "2020-07-14",
                    "2020-07-15",
                    "2020-07-16",
                    "2020-07-17",
                    "2020-07-18",
                    "2020-07-19",
                    "2020-07-20",
                    "2020-07-21",
                    "2020-07-22",
                    "2020-07-23",
                    "2020-07-24",
                    "2020-07-25",
                    "2020-07-26",
                    "2020-07-27",
                    "2020-07-28",
                    "2020-07-29",
                    "2020-07-30",
                    "2020-07-31",
                    "2020-08-01",
                    "2020-08-02",
                    "2020-08-03",
                    "2020-08-04",
                    "2020-08-05",
                    "2020-08-06",
                    "2020-08-07",
                    "2020-08-08",
                    "2020-08-09",
                    "2020-08-10",
                    "2020-08-11",
                    "2020-08-12",
                    "2020-08-13",
                    "2020-08-14",
                    "2020-08-15",
                    "2020-08-16",
                    "2020-08-17",
                    "2020-08-18",
                    "2020-08-19",
                    "2020-08-20",
                    "2020-08-21",
                    "2020-08-22",
                    "2020-08-23",
                    "2020-08-24",
                    "2020-08-25",
                    "2020-08-26",
                    "2020-08-27",
                    "2020-08-28",
                    "2020-08-29",
                    "2020-08-30",
                    "2020-08-31",
                    "2020-09-01",
                    "2020-09-02",
                    "2020-09-03",
                    "2020-09-04",
                    "2020-09-05",
                    "2020-09-06",
                    "2020-09-07",
                    "2020-09-08",
                    "2020-09-09",
                    "2020-09-10",
                    "2020-09-11",
                    "2020-09-12",
                    "2020-09-13",
                    "2020-09-14",
                    "2020-09-15",
                    "2020-09-16",
                    "2020-09-17",
                    "2020-09-18",
                    "2020-09-19",
                    "2020-09-20",
                    "2020-09-21",
                    "2020-09-22",
                    "2020-09-23",
                    "2020-09-24",
                    "2020-09-25",
                    "2020-09-26",
                    "2020-09-27",
                    "2020-09-28",
                    "2020-09-29",
                    "2020-09-30",
                    "2020-10-01",
                    "2020-10-02",
                    "2020-10-03",
                    "2020-10-04",
                    "2020-10-05",
                    "2020-10-06",
                    "2020-10-07",
                    "2020-10-08",
                    "2020-10-09",
                    "2020-10-10",
                    "2020-10-11",
                    "2020-10-12",
                    "2020-10-13",
                    "2020-10-14",
                    "2020-10-15",
                    "2020-10-16",
                    "2020-10-17",
                    "2020-10-18",
                    "2020-10-19",
                    "2020-10-20",
                    "2020-10-21",
                    "2020-10-22",
                    "2020-10-23",
                    "2020-10-24",
                    "2020-10-25",
                    "2020-10-26",
                    "2020-10-27",
                    "2020-10-28",
                    "2020-10-29",
                    "2020-10-30",
                    "2020-10-31",
                    "2020-11-01",
                    "2020-11-02",
                    "2020-11-03",
                    "2020-11-04",
                    "2020-11-05",
                    "2020-11-06",
                    "2020-11-07",
                    "2020-11-08",
                    "2020-11-09",
                    "2020-11-10",
                    "2020-11-11",
                    "2020-11-12",
                    "2020-11-13",
                    "2020-11-14",
                    "2020-11-15",
                    "2020-11-16",
                    "2020-11-17",
                    "2020-11-18",
                    "2020-11-19",
                    "2020-11-20",
                    "2020-11-21",
                    "2020-11-22",
                    "2020-11-23",
                    "2020-11-24",
                    "2020-11-25",
                    "2020-11-26",
                    "2020-11-27",
                    "2020-11-28",
                    "2020-11-29",
                    "2020-11-30",
                    "2020-12-01",
                    "2020-12-02",
                    "2020-12-03",
                    "2020-12-04",
                    "2020-12-05",
                    "2020-12-06",
                    "2020-12-07",
                    "2020-12-08",
                    "2020-12-09",
                    "2020-12-10",
                    "2020-12-11",
                    "2020-12-12",
                    "2020-12-13",
                    "2020-12-14",
                    "2020-12-15",
                    "2020-12-16",
                    "2020-12-17",
                    "2020-12-18",
                    "2020-12-19",
                    "2020-12-20",
                    "2020-12-21",
                    "2020-12-22",
                    "2020-12-23",
                    "2020-12-24",
                    "2020-12-25",
                    "2020-12-26",
                    "2020-12-27",
                    "2020-12-28",
                    "2020-12-29",
                    "2020-12-30",
                    "2020-12-31",
                    "2021-01-01",
                    "2021-01-02",
                    "2021-01-03",
                    "2021-01-04",
                    "2021-01-05",
                    "2021-01-06",
                    "2021-01-07",
                    "2021-01-08",
                    "2021-01-09",
                    "2021-01-10",
                    "2021-01-11",
                    "2021-01-12",
                    "2021-01-13",
                    "2021-01-14",
                    "2021-01-15",
                    "2021-01-16",
                    "2021-01-17",
                    "2021-01-18",
                    "2021-01-19",
                    "2021-01-20",
                    "2021-01-21",
                    "2021-01-22",
                    "2021-01-23",
                    "2021-01-24",
                    "2021-01-25",
                    "2021-01-26",
                    "2021-01-27",
                    "2021-01-28",
                    "2021-01-29",
                    "2021-01-30",
                    "2021-01-31",
                    "2021-02-01",
                    "2021-02-02",
                    "2021-02-03",
                    "2021-02-04",
                    "2021-02-05",
                    "2021-02-06",
                    "2021-02-07",
                    "2021-02-08",
                    "2021-02-09",
                    "2021-02-10",
                    "2021-02-11",
                    "2021-02-12",
                    "2021-02-13",
                    "2021-02-14",
                    "2021-02-15",
                    "2021-02-16",
                    "2021-02-17",
                    "2021-02-18",
                    "2021-02-19",
                    "2021-02-20",
                    "2021-02-21",
                    "2021-02-22",
                    "2021-02-23",
                    "2021-02-24",
                    "2021-02-25",
                    "2021-02-26",
                    "2021-02-27",
                    "2021-02-28",
                    "2021-03-01",
                    "2021-03-02",
                    "2021-03-03",
                    "2021-03-04",
                    "2021-03-05",
                    "2021-03-06",
                    "2021-03-07",
                    "2021-03-08",
                    "2021-03-09",
                    "2021-03-10",
                    "2021-03-11",
                    "2021-03-12",
                    "2021-03-13",
                    "2021-03-14",
                    "2021-03-15",
                    "2021-03-16",
                    "2021-03-17",
                    "2021-03-18",
                    "2021-03-19",
                    "2021-03-20",
                    "2021-03-21",
                    "2021-03-22",
                    "2021-03-23",
                    "2021-03-24",
                    "2021-03-25",
                    "2021-03-26",
                    "2021-03-27",
                    "2021-03-28",
                    "2021-03-29",
                    "2021-03-30",
                    "2021-03-31",
                    "2021-04-01",
                    "2021-04-02",
                    "2021-04-03",
                    "2021-04-04",
                    "2021-04-05",
                    "2021-04-06",
                    "2021-04-07",
                    "2021-04-08",
                    "2021-04-09",
                    "2021-04-10",
                    "2021-04-11",
                    "2021-04-12",
                    "2021-04-13",
                    "2021-04-14",
                    "2021-04-15",
                    "2021-04-16",
                    "2021-04-17",
                    "2021-04-18",
                    "2021-04-19",
                    "2021-04-20",
                    "2021-04-21",
                    "2021-04-22",
                    "2021-04-23",
                    "2021-04-24",
                    "2021-04-25",
                    "2021-04-26",
                    "2021-04-27",
                    "2021-04-28",
                    "2021-04-29",
                    "2021-04-30",
                    "2021-05-01",
                    "2021-05-02",
                    "2021-05-03",
                    "2021-05-04",
                    "2021-05-05",
                    "2021-05-06",
                    "2021-05-07",
                    "2021-05-08",
                    "2021-05-09",
                    "2021-05-10",
                    "2021-05-11",
                    "2021-05-12",
                    "2021-05-13",
                    "2021-05-14",
                    "2021-05-15",
                    "2021-05-16",
                    "2021-05-17",
                    "2021-05-18",
                    "2021-05-19",
                    "2021-05-20",
                    "2021-05-21",
                    "2021-05-22",
                    "2021-05-23"
                  ],
                  "type": "bar",
                  "orientation": "v"
                }
              ],
              "config": {
                "plotlyServerURL": "https://plot.ly",
                "linkText": "Export to plot.ly",
                "showLink": true
              },
              "layout": {
                "template": {
                  "layout": {
                    "shapedefaults": {
                      "line": {
                        "color": "#2a3f5f"
                      }
                    },
                    "polar": {
                      "radialaxis": {
                        "ticks": "",
                        "gridcolor": "white",
                        "linecolor": "white"
                      },
                      "bgcolor": "#E5ECF6",
                      "angularaxis": {
                        "ticks": "",
                        "gridcolor": "white",
                        "linecolor": "white"
                      }
                    },
                    "colorway": [
                      "#636efa",
                      "#EF553B",
                      "#00cc96",
                      "#ab63fa",
                      "#FFA15A",
                      "#19d3f3",
                      "#FF6692",
                      "#B6E880",
                      "#FF97FF",
                      "#FECB52"
                    ],
                    "xaxis": {
                      "automargin": true,
                      "title": {
                        "standoff": 15
                      },
                      "zerolinewidth": 2,
                      "ticks": "",
                      "zerolinecolor": "white",
                      "gridcolor": "white",
                      "linecolor": "white"
                    },
                    "colorscale": {
                      "diverging": [
                        [
                          0,
                          "#8e0152"
                        ],
                        [
                          0.1,
                          "#c51b7d"
                        ],
                        [
                          0.2,
                          "#de77ae"
                        ],
                        [
                          0.3,
                          "#f1b6da"
                        ],
                        [
                          0.4,
                          "#fde0ef"
                        ],
                        [
                          0.5,
                          "#f7f7f7"
                        ],
                        [
                          0.6,
                          "#e6f5d0"
                        ],
                        [
                          0.7,
                          "#b8e186"
                        ],
                        [
                          0.8,
                          "#7fbc41"
                        ],
                        [
                          0.9,
                          "#4d9221"
                        ],
                        [
                          1,
                          "#276419"
                        ]
                      ],
                      "sequential": [
                        [
                          0,
                          "#0d0887"
                        ],
                        [
                          0.1111111111111111,
                          "#46039f"
                        ],
                        [
                          0.2222222222222222,
                          "#7201a8"
                        ],
                        [
                          0.3333333333333333,
                          "#9c179e"
                        ],
                        [
                          0.4444444444444444,
                          "#bd3786"
                        ],
                        [
                          0.5555555555555556,
                          "#d8576b"
                        ],
                        [
                          0.6666666666666666,
                          "#ed7953"
                        ],
                        [
                          0.7777777777777778,
                          "#fb9f3a"
                        ],
                        [
                          0.8888888888888888,
                          "#fdca26"
                        ],
                        [
                          1,
                          "#f0f921"
                        ]
                      ],
                      "sequentialminus": [
                        [
                          0,
                          "#0d0887"
                        ],
                        [
                          0.1111111111111111,
                          "#46039f"
                        ],
                        [
                          0.2222222222222222,
                          "#7201a8"
                        ],
                        [
                          0.3333333333333333,
                          "#9c179e"
                        ],
                        [
                          0.4444444444444444,
                          "#bd3786"
                        ],
                        [
                          0.5555555555555556,
                          "#d8576b"
                        ],
                        [
                          0.6666666666666666,
                          "#ed7953"
                        ],
                        [
                          0.7777777777777778,
                          "#fb9f3a"
                        ],
                        [
                          0.8888888888888888,
                          "#fdca26"
                        ],
                        [
                          1,
                          "#f0f921"
                        ]
                      ]
                    },
                    "paper_bgcolor": "white",
                    "plot_bgcolor": "#E5ECF6",
                    "title": {
                      "x": 0.05
                    },
                    "scene": {
                      "zaxis": {
                        "backgroundcolor": "#E5ECF6",
                        "ticks": "",
                        "gridwidth": 2,
                        "showbackground": true,
                        "zerolinecolor": "white",
                        "gridcolor": "white",
                        "linecolor": "white"
                      },
                      "xaxis": {
                        "backgroundcolor": "#E5ECF6",
                        "ticks": "",
                        "gridwidth": 2,
                        "showbackground": true,
                        "zerolinecolor": "white",
                        "gridcolor": "white",
                        "linecolor": "white"
                      },
                      "yaxis": {
                        "backgroundcolor": "#E5ECF6",
                        "ticks": "",
                        "gridwidth": 2,
                        "showbackground": true,
                        "zerolinecolor": "white",
                        "gridcolor": "white",
                        "linecolor": "white"
                      }
                    },
                    "yaxis": {
                      "automargin": true,
                      "title": {
                        "standoff": 15
                      },
                      "zerolinewidth": 2,
                      "ticks": "",
                      "zerolinecolor": "white",
                      "gridcolor": "white",
                      "linecolor": "white"
                    },
                    "annotationdefaults": {
                      "arrowwidth": 1,
                      "arrowhead": 0,
                      "arrowcolor": "#2a3f5f"
                    },
                    "hoverlabel": {
                      "align": "left"
                    },
                    "ternary": {
                      "bgcolor": "#E5ECF6",
                      "baxis": {
                        "ticks": "",
                        "gridcolor": "white",
                        "linecolor": "white"
                      },
                      "caxis": {
                        "ticks": "",
                        "gridcolor": "white",
                        "linecolor": "white"
                      },
                      "aaxis": {
                        "ticks": "",
                        "gridcolor": "white",
                        "linecolor": "white"
                      }
                    },
                    "mapbox": {
                      "style": "light"
                    },
                    "hovermode": "closest",
                    "font": {
                      "color": "#2a3f5f"
                    },
                    "geo": {
                      "showland": true,
                      "landcolor": "#E5ECF6",
                      "showlakes": true,
                      "bgcolor": "white",
                      "subunitcolor": "white",
                      "lakecolor": "white"
                    },
                    "coloraxis": {
                      "colorbar": {
                        "outlinewidth": 0,
                        "ticks": ""
                      }
                    }
                  },
                  "data": {
                    "mesh3d": [
                      {
                        "colorbar": {
                          "outlinewidth": 0,
                          "ticks": ""
                        },
                        "type": "mesh3d"
                      }
                    ],
                    "scattercarpet": [
                      {
                        "marker": {
                          "colorbar": {
                            "outlinewidth": 0,
                            "ticks": ""
                          }
                        },
                        "type": "scattercarpet"
                      }
                    ],
                    "pie": [
                      {
                        "automargin": true,
                        "type": "pie"
                      }
                    ],
                    "surface": [
                      {
                        "colorbar": {
                          "outlinewidth": 0,
                          "ticks": ""
                        },
                        "type": "surface",
                        "colorscale": [
                          [
                            0,
                            "#0d0887"
                          ],
                          [
                            0.1111111111111111,
                            "#46039f"
                          ],
                          [
                            0.2222222222222222,
                            "#7201a8"
                          ],
                          [
                            0.3333333333333333,
                            "#9c179e"
                          ],
                          [
                            0.4444444444444444,
                            "#bd3786"
                          ],
                          [
                            0.5555555555555556,
                            "#d8576b"
                          ],
                          [
                            0.6666666666666666,
                            "#ed7953"
                          ],
                          [
                            0.7777777777777778,
                            "#fb9f3a"
                          ],
                          [
                            0.8888888888888888,
                            "#fdca26"
                          ],
                          [
                            1,
                            "#f0f921"
                          ]
                        ]
                      }
                    ],
                    "table": [
                      {
                        "header": {
                          "line": {
                            "color": "white"
                          },
                          "fill": {
                            "color": "#C8D4E3"
                          }
                        },
                        "cells": {
                          "line": {
                            "color": "white"
                          },
                          "fill": {
                            "color": "#EBF0F8"
                          }
                        },
                        "type": "table"
                      }
                    ],
                    "scatterpolargl": [
                      {
                        "marker": {
                          "colorbar": {
                            "outlinewidth": 0,
                            "ticks": ""
                          }
                        },
                        "type": "scatterpolargl"
                      }
                    ],
                    "contour": [
                      {
                        "colorbar": {
                          "outlinewidth": 0,
                          "ticks": ""
                        },
                        "type": "contour",
                        "colorscale": [
                          [
                            0,
                            "#0d0887"
                          ],
                          [
                            0.1111111111111111,
                            "#46039f"
                          ],
                          [
                            0.2222222222222222,
                            "#7201a8"
                          ],
                          [
                            0.3333333333333333,
                            "#9c179e"
                          ],
                          [
                            0.4444444444444444,
                            "#bd3786"
                          ],
                          [
                            0.5555555555555556,
                            "#d8576b"
                          ],
                          [
                            0.6666666666666666,
                            "#ed7953"
                          ],
                          [
                            0.7777777777777778,
                            "#fb9f3a"
                          ],
                          [
                            0.8888888888888888,
                            "#fdca26"
                          ],
                          [
                            1,
                            "#f0f921"
                          ]
                        ]
                      }
                    ],
                    "carpet": [
                      {
                        "type": "carpet",
                        "baxis": {
                          "minorgridcolor": "white",
                          "gridcolor": "white",
                          "linecolor": "white",
                          "endlinecolor": "#2a3f5f",
                          "startlinecolor": "#2a3f5f"
                        },
                        "aaxis": {
                          "minorgridcolor": "white",
                          "gridcolor": "white",
                          "linecolor": "white",
                          "endlinecolor": "#2a3f5f",
                          "startlinecolor": "#2a3f5f"
                        }
                      }
                    ],
                    "contourcarpet": [
                      {
                        "colorbar": {
                          "outlinewidth": 0,
                          "ticks": ""
                        },
                        "type": "contourcarpet"
                      }
                    ],
                    "heatmap": [
                      {
                        "colorbar": {
                          "outlinewidth": 0,
                          "ticks": ""
                        },
                        "type": "heatmap",
                        "colorscale": [
                          [
                            0,
                            "#0d0887"
                          ],
                          [
                            0.1111111111111111,
                            "#46039f"
                          ],
                          [
                            0.2222222222222222,
                            "#7201a8"
                          ],
                          [
                            0.3333333333333333,
                            "#9c179e"
                          ],
                          [
                            0.4444444444444444,
                            "#bd3786"
                          ],
                          [
                            0.5555555555555556,
                            "#d8576b"
                          ],
                          [
                            0.6666666666666666,
                            "#ed7953"
                          ],
                          [
                            0.7777777777777778,
                            "#fb9f3a"
                          ],
                          [
                            0.8888888888888888,
                            "#fdca26"
                          ],
                          [
                            1,
                            "#f0f921"
                          ]
                        ]
                      }
                    ],
                    "scattermapbox": [
                      {
                        "marker": {
                          "colorbar": {
                            "outlinewidth": 0,
                            "ticks": ""
                          }
                        },
                        "type": "scattermapbox"
                      }
                    ],
                    "scatter3d": [
                      {
                        "marker": {
                          "colorbar": {
                            "outlinewidth": 0,
                            "ticks": ""
                          }
                        },
                        "line": {
                          "colorbar": {
                            "outlinewidth": 0,
                            "ticks": ""
                          }
                        },
                        "type": "scatter3d"
                      }
                    ],
                    "scattergl": [
                      {
                        "marker": {
                          "colorbar": {
                            "outlinewidth": 0,
                            "ticks": ""
                          }
                        },
                        "type": "scattergl"
                      }
                    ],
                    "scatterternary": [
                      {
                        "marker": {
                          "colorbar": {
                            "outlinewidth": 0,
                            "ticks": ""
                          }
                        },
                        "type": "scatterternary"
                      }
                    ],
                    "histogram": [
                      {
                        "marker": {
                          "colorbar": {
                            "outlinewidth": 0,
                            "ticks": ""
                          }
                        },
                        "type": "histogram"
                      }
                    ],
                    "heatmapgl": [
                      {
                        "colorbar": {
                          "outlinewidth": 0,
                          "ticks": ""
                        },
                        "type": "heatmapgl",
                        "colorscale": [
                          [
                            0,
                            "#0d0887"
                          ],
                          [
                            0.1111111111111111,
                            "#46039f"
                          ],
                          [
                            0.2222222222222222,
                            "#7201a8"
                          ],
                          [
                            0.3333333333333333,
                            "#9c179e"
                          ],
                          [
                            0.4444444444444444,
                            "#bd3786"
                          ],
                          [
                            0.5555555555555556,
                            "#d8576b"
                          ],
                          [
                            0.6666666666666666,
                            "#ed7953"
                          ],
                          [
                            0.7777777777777778,
                            "#fb9f3a"
                          ],
                          [
                            0.8888888888888888,
                            "#fdca26"
                          ],
                          [
                            1,
                            "#f0f921"
                          ]
                        ]
                      }
                    ],
                    "scatterpolar": [
                      {
                        "marker": {
                          "colorbar": {
                            "outlinewidth": 0,
                            "ticks": ""
                          }
                        },
                        "type": "scatterpolar"
                      }
                    ],
                    "histogram2d": [
                      {
                        "colorbar": {
                          "outlinewidth": 0,
                          "ticks": ""
                        },
                        "type": "histogram2d",
                        "colorscale": [
                          [
                            0,
                            "#0d0887"
                          ],
                          [
                            0.1111111111111111,
                            "#46039f"
                          ],
                          [
                            0.2222222222222222,
                            "#7201a8"
                          ],
                          [
                            0.3333333333333333,
                            "#9c179e"
                          ],
                          [
                            0.4444444444444444,
                            "#bd3786"
                          ],
                          [
                            0.5555555555555556,
                            "#d8576b"
                          ],
                          [
                            0.6666666666666666,
                            "#ed7953"
                          ],
                          [
                            0.7777777777777778,
                            "#fb9f3a"
                          ],
                          [
                            0.8888888888888888,
                            "#fdca26"
                          ],
                          [
                            1,
                            "#f0f921"
                          ]
                        ]
                      }
                    ],
                    "scattergeo": [
                      {
                        "marker": {
                          "colorbar": {
                            "outlinewidth": 0,
                            "ticks": ""
                          }
                        },
                        "type": "scattergeo"
                      }
                    ],
                    "bar": [
                      {
                        "marker": {
                          "line": {
                            "color": "#E5ECF6",
                            "width": 0.5
                          }
                        },
                        "type": "bar",
                        "error_x": {
                          "color": "#2a3f5f"
                        },
                        "error_y": {
                          "color": "#2a3f5f"
                        }
                      }
                    ],
                    "choropleth": [
                      {
                        "colorbar": {
                          "outlinewidth": 0,
                          "ticks": ""
                        },
                        "type": "choropleth"
                      }
                    ],
                    "parcoords": [
                      {
                        "line": {
                          "colorbar": {
                            "outlinewidth": 0,
                            "ticks": ""
                          }
                        },
                        "type": "parcoords"
                      }
                    ],
                    "barpolar": [
                      {
                        "marker": {
                          "line": {
                            "color": "#E5ECF6",
                            "width": 0.5
                          }
                        },
                        "type": "barpolar"
                      }
                    ],
                    "histogram2dcontour": [
                      {
                        "colorbar": {
                          "outlinewidth": 0,
                          "ticks": ""
                        },
                        "type": "histogram2dcontour",
                        "colorscale": [
                          [
                            0,
                            "#0d0887"
                          ],
                          [
                            0.1111111111111111,
                            "#46039f"
                          ],
                          [
                            0.2222222222222222,
                            "#7201a8"
                          ],
                          [
                            0.3333333333333333,
                            "#9c179e"
                          ],
                          [
                            0.4444444444444444,
                            "#bd3786"
                          ],
                          [
                            0.5555555555555556,
                            "#d8576b"
                          ],
                          [
                            0.6666666666666666,
                            "#ed7953"
                          ],
                          [
                            0.7777777777777778,
                            "#fb9f3a"
                          ],
                          [
                            0.8888888888888888,
                            "#fdca26"
                          ],
                          [
                            1,
                            "#f0f921"
                          ]
                        ]
                      }
                    ],
                    "scatter": [
                      {
                        "marker": {
                          "colorbar": {
                            "outlinewidth": 0,
                            "ticks": ""
                          }
                        },
                        "type": "scatter"
                      }
                    ]
                  }
                },
                "title": {
                  "text": "Trend Recovered Case Global Covid-19",
                  "font": {
                    "color": "#4D5663"
                  }
                },
                "paper_bgcolor": "#F5F6F9",
                "plot_bgcolor": "#F5F6F9",
                "yaxis": {
                  "tickfont": {
                    "color": "#4D5663"
                  },
                  "zerolinecolor": "#E1E5ED",
                  "title": {
                    "text": "Number of recovery cases",
                    "font": {
                      "color": "#4D5663"
                    }
                  },
                  "gridcolor": "#E1E5ED",
                  "showgrid": true
                },
                "xaxis": {
                  "tickfont": {
                    "color": "#4D5663"
                  },
                  "zerolinecolor": "#E1E5ED",
                  "title": {
                    "text": "Time",
                    "font": {
                      "color": "#4D5663"
                    }
                  },
                  "gridcolor": "#E1E5ED",
                  "showgrid": true
                },
                "legend": {
                  "bgcolor": "#F5F6F9",
                  "font": {
                    "color": "#4D5663"
                  }
                }
              }
            }
          },
          "metadata": {
            "tags": []
          }
        }
      ]
    },
    {
      "cell_type": "markdown",
      "metadata": {
        "id": "ERT9qxcUZFaW"
      },
      "source": [
        "### **Confirmed, Deaths, Recovered, and Active Case**"
      ]
    },
    {
      "cell_type": "code",
      "metadata": {
        "colab": {
          "base_uri": "https://localhost:8080/",
          "height": 542
        },
        "id": "t2qz-VLvZFaW",
        "outputId": "00c16d66-314d-42e4-b6b6-271393be50c4"
      },
      "source": [
        "dataGroup.iplot(title = \"Trend Kasus COVID-19 Secara Global\", xTitle = \"Time\", yTitle = \"Amount\")"
      ],
      "execution_count": 21,
      "outputs": [
        {
          "output_type": "display_data",
          "data": {
            "text/html": [
              "<div>\n",
              "        \n",
              "        \n",
              "            <div id=\"c2d94696-09cc-4583-87da-e9cd68e649a8\" class=\"plotly-graph-div\" style=\"height:525px; width:100%;\"></div>\n",
              "            <script type=\"text/javascript\">\n",
              "                require([\"plotly\"], function(Plotly) {\n",
              "                    window.PLOTLYENV=window.PLOTLYENV || {};\n",
              "                    window.PLOTLYENV.BASE_URL='https://plot.ly';\n",
              "                    \n",
              "                if (document.getElementById(\"c2d94696-09cc-4583-87da-e9cd68e649a8\")) {\n",
              "                    Plotly.newPlot(\n",
              "                        'c2d94696-09cc-4583-87da-e9cd68e649a8',\n",
              "                        [{\"line\": {\"color\": \"rgba(255, 153, 51, 1.0)\", \"dash\": \"solid\", \"shape\": \"linear\", \"width\": 1.3}, \"mode\": \"lines\", \"name\": \"Confirmed\", \"text\": \"\", \"type\": \"scatter\", \"x\": [\"2020-01-22\", \"2020-01-23\", \"2020-01-24\", \"2020-01-25\", \"2020-01-26\", \"2020-01-27\", \"2020-01-28\", \"2020-01-29\", \"2020-01-30\", \"2020-01-31\", \"2020-02-01\", \"2020-02-02\", \"2020-02-03\", \"2020-02-04\", \"2020-02-05\", \"2020-02-06\", \"2020-02-07\", \"2020-02-08\", \"2020-02-09\", \"2020-02-10\", \"2020-02-11\", \"2020-02-12\", \"2020-02-13\", \"2020-02-14\", \"2020-02-15\", \"2020-02-16\", \"2020-02-17\", \"2020-02-18\", \"2020-02-19\", \"2020-02-20\", \"2020-02-21\", \"2020-02-22\", \"2020-02-23\", \"2020-02-24\", \"2020-02-25\", \"2020-02-26\", \"2020-02-27\", \"2020-02-28\", \"2020-02-29\", \"2020-03-01\", \"2020-03-02\", \"2020-03-03\", \"2020-03-04\", \"2020-03-05\", \"2020-03-06\", \"2020-03-07\", \"2020-03-08\", \"2020-03-09\", \"2020-03-10\", \"2020-03-11\", \"2020-03-12\", \"2020-03-13\", \"2020-03-14\", \"2020-03-15\", \"2020-03-16\", \"2020-03-17\", \"2020-03-18\", \"2020-03-19\", \"2020-03-20\", \"2020-03-21\", \"2020-03-22\", \"2020-03-23\", \"2020-03-24\", \"2020-03-25\", \"2020-03-26\", \"2020-03-27\", \"2020-03-28\", \"2020-03-29\", \"2020-03-30\", \"2020-03-31\", \"2020-04-01\", \"2020-04-02\", \"2020-04-03\", \"2020-04-04\", \"2020-04-05\", \"2020-04-06\", \"2020-04-07\", \"2020-04-08\", \"2020-04-09\", \"2020-04-10\", \"2020-04-11\", \"2020-04-12\", \"2020-04-13\", \"2020-04-14\", \"2020-04-15\", \"2020-04-16\", \"2020-04-17\", \"2020-04-18\", \"2020-04-19\", \"2020-04-20\", \"2020-04-21\", \"2020-04-22\", \"2020-04-23\", \"2020-04-24\", \"2020-04-25\", \"2020-04-26\", \"2020-04-27\", \"2020-04-28\", \"2020-04-29\", \"2020-04-30\", \"2020-05-01\", \"2020-05-02\", \"2020-05-03\", \"2020-05-04\", \"2020-05-05\", \"2020-05-06\", \"2020-05-07\", \"2020-05-08\", \"2020-05-09\", \"2020-05-10\", \"2020-05-11\", \"2020-05-12\", \"2020-05-13\", \"2020-05-14\", \"2020-05-15\", \"2020-05-16\", \"2020-05-17\", \"2020-05-18\", \"2020-05-19\", \"2020-05-20\", \"2020-05-21\", \"2020-05-22\", \"2020-05-23\", \"2020-05-24\", \"2020-05-25\", \"2020-05-26\", \"2020-05-27\", \"2020-05-28\", \"2020-05-29\", \"2020-05-30\", \"2020-05-31\", \"2020-06-01\", \"2020-06-02\", \"2020-06-03\", \"2020-06-04\", \"2020-06-05\", \"2020-06-06\", \"2020-06-07\", \"2020-06-08\", \"2020-06-09\", \"2020-06-10\", \"2020-06-11\", \"2020-06-12\", \"2020-06-13\", \"2020-06-14\", \"2020-06-15\", \"2020-06-16\", \"2020-06-17\", \"2020-06-18\", \"2020-06-19\", \"2020-06-20\", \"2020-06-21\", \"2020-06-22\", \"2020-06-23\", \"2020-06-24\", \"2020-06-25\", \"2020-06-26\", \"2020-06-27\", \"2020-06-28\", \"2020-06-29\", \"2020-06-30\", \"2020-07-01\", \"2020-07-02\", \"2020-07-03\", \"2020-07-04\", \"2020-07-05\", \"2020-07-06\", \"2020-07-07\", \"2020-07-08\", \"2020-07-09\", \"2020-07-10\", \"2020-07-11\", \"2020-07-12\", \"2020-07-13\", \"2020-07-14\", \"2020-07-15\", \"2020-07-16\", \"2020-07-17\", \"2020-07-18\", \"2020-07-19\", \"2020-07-20\", \"2020-07-21\", \"2020-07-22\", \"2020-07-23\", \"2020-07-24\", \"2020-07-25\", \"2020-07-26\", \"2020-07-27\", \"2020-07-28\", \"2020-07-29\", \"2020-07-30\", \"2020-07-31\", \"2020-08-01\", \"2020-08-02\", \"2020-08-03\", \"2020-08-04\", \"2020-08-05\", \"2020-08-06\", \"2020-08-07\", \"2020-08-08\", \"2020-08-09\", \"2020-08-10\", \"2020-08-11\", \"2020-08-12\", \"2020-08-13\", \"2020-08-14\", \"2020-08-15\", \"2020-08-16\", \"2020-08-17\", \"2020-08-18\", \"2020-08-19\", \"2020-08-20\", \"2020-08-21\", \"2020-08-22\", \"2020-08-23\", \"2020-08-24\", \"2020-08-25\", \"2020-08-26\", \"2020-08-27\", \"2020-08-28\", \"2020-08-29\", \"2020-08-30\", \"2020-08-31\", \"2020-09-01\", \"2020-09-02\", \"2020-09-03\", \"2020-09-04\", \"2020-09-05\", \"2020-09-06\", \"2020-09-07\", \"2020-09-08\", \"2020-09-09\", \"2020-09-10\", \"2020-09-11\", \"2020-09-12\", \"2020-09-13\", \"2020-09-14\", \"2020-09-15\", \"2020-09-16\", \"2020-09-17\", \"2020-09-18\", \"2020-09-19\", \"2020-09-20\", \"2020-09-21\", \"2020-09-22\", \"2020-09-23\", \"2020-09-24\", \"2020-09-25\", \"2020-09-26\", \"2020-09-27\", \"2020-09-28\", \"2020-09-29\", \"2020-09-30\", \"2020-10-01\", \"2020-10-02\", \"2020-10-03\", \"2020-10-04\", \"2020-10-05\", \"2020-10-06\", \"2020-10-07\", \"2020-10-08\", \"2020-10-09\", \"2020-10-10\", \"2020-10-11\", \"2020-10-12\", \"2020-10-13\", \"2020-10-14\", \"2020-10-15\", \"2020-10-16\", \"2020-10-17\", \"2020-10-18\", \"2020-10-19\", \"2020-10-20\", \"2020-10-21\", \"2020-10-22\", \"2020-10-23\", \"2020-10-24\", \"2020-10-25\", \"2020-10-26\", \"2020-10-27\", \"2020-10-28\", \"2020-10-29\", \"2020-10-30\", \"2020-10-31\", \"2020-11-01\", \"2020-11-02\", \"2020-11-03\", \"2020-11-04\", \"2020-11-05\", \"2020-11-06\", \"2020-11-07\", \"2020-11-08\", \"2020-11-09\", \"2020-11-10\", \"2020-11-11\", \"2020-11-12\", \"2020-11-13\", \"2020-11-14\", \"2020-11-15\", \"2020-11-16\", \"2020-11-17\", \"2020-11-18\", \"2020-11-19\", \"2020-11-20\", \"2020-11-21\", \"2020-11-22\", \"2020-11-23\", \"2020-11-24\", \"2020-11-25\", \"2020-11-26\", \"2020-11-27\", \"2020-11-28\", \"2020-11-29\", \"2020-11-30\", \"2020-12-01\", \"2020-12-02\", \"2020-12-03\", \"2020-12-04\", \"2020-12-05\", \"2020-12-06\", \"2020-12-07\", \"2020-12-08\", \"2020-12-09\", \"2020-12-10\", \"2020-12-11\", \"2020-12-12\", \"2020-12-13\", \"2020-12-14\", \"2020-12-15\", \"2020-12-16\", \"2020-12-17\", \"2020-12-18\", \"2020-12-19\", \"2020-12-20\", \"2020-12-21\", \"2020-12-22\", \"2020-12-23\", \"2020-12-24\", \"2020-12-25\", \"2020-12-26\", \"2020-12-27\", \"2020-12-28\", \"2020-12-29\", \"2020-12-30\", \"2020-12-31\", \"2021-01-01\", \"2021-01-02\", \"2021-01-03\", \"2021-01-04\", \"2021-01-05\", \"2021-01-06\", \"2021-01-07\", \"2021-01-08\", \"2021-01-09\", \"2021-01-10\", \"2021-01-11\", \"2021-01-12\", \"2021-01-13\", \"2021-01-14\", \"2021-01-15\", \"2021-01-16\", \"2021-01-17\", \"2021-01-18\", \"2021-01-19\", \"2021-01-20\", \"2021-01-21\", \"2021-01-22\", \"2021-01-23\", \"2021-01-24\", \"2021-01-25\", \"2021-01-26\", \"2021-01-27\", \"2021-01-28\", \"2021-01-29\", \"2021-01-30\", \"2021-01-31\", \"2021-02-01\", \"2021-02-02\", \"2021-02-03\", \"2021-02-04\", \"2021-02-05\", \"2021-02-06\", \"2021-02-07\", \"2021-02-08\", \"2021-02-09\", \"2021-02-10\", \"2021-02-11\", \"2021-02-12\", \"2021-02-13\", \"2021-02-14\", \"2021-02-15\", \"2021-02-16\", \"2021-02-17\", \"2021-02-18\", \"2021-02-19\", \"2021-02-20\", \"2021-02-21\", \"2021-02-22\", \"2021-02-23\", \"2021-02-24\", \"2021-02-25\", \"2021-02-26\", \"2021-02-27\", \"2021-02-28\", \"2021-03-01\", \"2021-03-02\", \"2021-03-03\", \"2021-03-04\", \"2021-03-05\", \"2021-03-06\", \"2021-03-07\", \"2021-03-08\", \"2021-03-09\", \"2021-03-10\", \"2021-03-11\", \"2021-03-12\", \"2021-03-13\", \"2021-03-14\", \"2021-03-15\", \"2021-03-16\", \"2021-03-17\", \"2021-03-18\", \"2021-03-19\", \"2021-03-20\", \"2021-03-21\", \"2021-03-22\", \"2021-03-23\", \"2021-03-24\", \"2021-03-25\", \"2021-03-26\", \"2021-03-27\", \"2021-03-28\", \"2021-03-29\", \"2021-03-30\", \"2021-03-31\", \"2021-04-01\", \"2021-04-02\", \"2021-04-03\", \"2021-04-04\", \"2021-04-05\", \"2021-04-06\", \"2021-04-07\", \"2021-04-08\", \"2021-04-09\", \"2021-04-10\", \"2021-04-11\", \"2021-04-12\", \"2021-04-13\", \"2021-04-14\", \"2021-04-15\", \"2021-04-16\", \"2021-04-17\", \"2021-04-18\", \"2021-04-19\", \"2021-04-20\", \"2021-04-21\", \"2021-04-22\", \"2021-04-23\", \"2021-04-24\", \"2021-04-25\", \"2021-04-26\", \"2021-04-27\", \"2021-04-28\", \"2021-04-29\", \"2021-04-30\", \"2021-05-01\", \"2021-05-02\", \"2021-05-03\", \"2021-05-04\", \"2021-05-05\", \"2021-05-06\", \"2021-05-07\", \"2021-05-08\", \"2021-05-09\", \"2021-05-10\", \"2021-05-11\", \"2021-05-12\", \"2021-05-13\", \"2021-05-14\", \"2021-05-15\", \"2021-05-16\", \"2021-05-17\", \"2021-05-18\", \"2021-05-19\", \"2021-05-20\", \"2021-05-21\", \"2021-05-22\", \"2021-05-23\"], \"y\": [557, 655, 941, 1433, 2118, 2927, 5578, 6167, 8235, 9927, 12038, 16787, 19887, 23898, 27643, 30803, 34396, 37130, 40160, 42769, 44811, 45229, 60382, 66909, 69052, 71235, 73270, 75152, 75652, 76212, 76841, 78602, 78982, 79546, 80399, 81376, 82736, 84122, 86013, 88394, 90377, 92971, 95279, 98090, 102003, 106098, 110047, 114219, 119041, 126702, 132492, 146876, 157950, 169219, 184027, 199970, 219535, 246584, 277359, 309350, 344205, 387040, 428219, 479220, 542097, 607138, 674418, 733655, 798949, 875794, 958602, 1041662, 1125221, 1183584, 1256176, 1329331, 1399162, 1482540, 1569554, 1655088, 1729371, 1849067, 1919809, 2003820, 2080934, 2176465, 2264462, 2341702, 2418307, 2494325, 2570074, 2651321, 2735570, 2819666, 2901925, 2973513, 3043705, 3119245, 3196355, 3279850, 3368226, 3447426, 3523799, 3601488, 3681990, 3772018, 3860724, 3951003, 4036226, 4111202, 4187833, 4272324, 4357304, 4453535, 4549267, 4643706, 4721728, 4810895, 4907670, 5009548, 5116192, 5222614, 5327418, 5421629, 5508346, 5602313, 5705075, 5824358, 5945261, 6081776, 6188184, 6284179, 6406143, 6520392, 6651336, 6782559, 6916296, 7028659, 7131156, 7256216, 7391321, 7529341, 7658106, 7793395, 7925679, 8045337, 8187421, 8331167, 8472230, 8652145, 8809593, 8937295, 9076656, 9243465, 9416059, 9594440, 9786037, 9964169, 10128040, 10283387, 10457929, 10675536, 10885481, 11086866, 11280675, 11464678, 11628653, 11840015, 12054174, 12281001, 12513675, 12730157, 12922431, 13113875, 13336063, 13567531, 13818843, 14061585, 14297763, 14511197, 14718313, 14951994, 15231862, 15514716, 15795790, 16049844, 16262880, 16489410, 16742195, 17033923, 17314023, 17604767, 17853105, 18084097, 18290572, 18548514, 18825089, 19110291, 19392530, 19651048, 19875731, 20101760, 20359330, 20635977, 20925193, 21228941, 21476649, 21691119, 21898851, 22157107, 22436697, 22709251, 22970456, 23234707, 23440856, 23666124, 23910125, 24193918, 24477813, 24761440, 25025233, 25246198, 25509089, 25774014, 26057518, 26338937, 26652953, 26922944, 27153409, 27371291, 27613490, 27898312, 28198188, 28519558, 28806136, 29048855, 29312607, 29598069, 29902604, 30217490, 30543411, 30835530, 31087644, 31363730, 31648244, 31924336, 32277373, 32608243, 32896685, 33148076, 33402856, 33685524, 34011734, 34330037, 34627903, 34959947, 35221344, 35522367, 35848886, 36199883, 36561210, 36922107, 37279208, 37566120, 37857886, 38177145, 38559479, 38966463, 39378234, 39750891, 40067454, 40454664, 40843666, 41288556, 41761275, 42258073, 42714857, 43075510, 43561921, 44032154, 44544026, 45094441, 45665496, 46142261, 46604645, 47167772, 47721517, 48233069, 48829627, 49474481, 50071373, 50555347, 51056879, 51616256, 52264862, 52914405, 53566478, 54161448, 54635389, 55169846, 55781066, 56408169, 57061754, 57730498, 58318062, 58806043, 59331362, 59921623, 60557847, 61140322, 61827470, 62413501, 62902084, 63410725, 64022822, 64674220, 65368548, 66051824, 66693987, 67232741, 67752760, 68396288, 69066199, 70564412, 71268909, 71903759, 72434597, 72959984, 73596190, 74329916, 75069498, 75789960, 76401213, 76934686, 77483983, 78134244, 78829366, 79496006, 79961556, 80474158, 80912611, 81408934, 82073362, 82834592, 83559601, 84092619, 84718978, 85251774, 85805892, 86546014, 87329386, 88210223, 89013445, 89774439, 90363573, 90983503, 91689011, 92437399, 93192627, 93959814, 94598958, 95128170, 95643236, 96251662, 96944599, 97600922, 98259983, 98828107, 99273761, 99771101, 100327339, 100925700, 101539951, 102130394, 102645724, 103027363, 103474137, 103932094, 104454075, 104920982, 105456410, 105828535, 106226613, 106542506, 106970539, 107406280, 107847745, 108276434, 108649735, 108943585, 109226751, 109577771, 109973326, 110376842, 110789361, 111159816, 111474262, 111762700, 112151553, 112596489, 113043967, 113487006, 113876236, 114179745, 114485609, 114795897, 115237039, 115690088, 116137142, 116547675, 116915987, 117214710, 117629375, 118096454, 118573350, 119062678, 119516794, 119877179, 120226080, 120699093, 121238378, 121792101, 122353780, 122852600, 123275915, 123692736, 124206981, 124840562, 125491912, 126133263, 126717855, 127187813, 127646218, 128214491, 128897696, 129609483, 130243222, 130772665, 131325468, 131815052, 132419139, 133103485, 133943335, 134691380, 135355887, 136046628, 136663253, 137442820, 138259845, 139076606, 139931461, 140719503, 141404998, 142098420, 142952845, 143842820, 144742575, 145646322, 146467262, 147189618, 147872402, 148716872, 149622864, 150520466, 151399480, 152196159, 152870507, 153552097, 154359533, 155200757, 156070729, 156902287, 157688833, 158330372, 158952301, 159690774, 160450873, 161176148, 161894208, 162521726, 163069932, 163609626, 164231810, 164902902, 165531431, 166139027, 166699143, 167177284]}, {\"line\": {\"color\": \"rgba(55, 128, 191, 1.0)\", \"dash\": \"solid\", \"shape\": \"linear\", \"width\": 1.3}, \"mode\": \"lines\", \"name\": \"Deaths\", \"text\": \"\", \"type\": \"scatter\", \"x\": [\"2020-01-22\", \"2020-01-23\", \"2020-01-24\", \"2020-01-25\", \"2020-01-26\", \"2020-01-27\", \"2020-01-28\", \"2020-01-29\", \"2020-01-30\", \"2020-01-31\", \"2020-02-01\", \"2020-02-02\", \"2020-02-03\", \"2020-02-04\", \"2020-02-05\", \"2020-02-06\", \"2020-02-07\", \"2020-02-08\", \"2020-02-09\", \"2020-02-10\", \"2020-02-11\", \"2020-02-12\", \"2020-02-13\", \"2020-02-14\", \"2020-02-15\", \"2020-02-16\", \"2020-02-17\", \"2020-02-18\", \"2020-02-19\", \"2020-02-20\", \"2020-02-21\", \"2020-02-22\", \"2020-02-23\", \"2020-02-24\", \"2020-02-25\", \"2020-02-26\", \"2020-02-27\", \"2020-02-28\", \"2020-02-29\", \"2020-03-01\", \"2020-03-02\", \"2020-03-03\", \"2020-03-04\", \"2020-03-05\", \"2020-03-06\", \"2020-03-07\", \"2020-03-08\", \"2020-03-09\", \"2020-03-10\", \"2020-03-11\", \"2020-03-12\", \"2020-03-13\", \"2020-03-14\", \"2020-03-15\", \"2020-03-16\", \"2020-03-17\", \"2020-03-18\", \"2020-03-19\", \"2020-03-20\", \"2020-03-21\", \"2020-03-22\", \"2020-03-23\", \"2020-03-24\", \"2020-03-25\", \"2020-03-26\", \"2020-03-27\", \"2020-03-28\", \"2020-03-29\", \"2020-03-30\", \"2020-03-31\", \"2020-04-01\", \"2020-04-02\", \"2020-04-03\", \"2020-04-04\", \"2020-04-05\", \"2020-04-06\", \"2020-04-07\", \"2020-04-08\", \"2020-04-09\", \"2020-04-10\", \"2020-04-11\", \"2020-04-12\", \"2020-04-13\", \"2020-04-14\", \"2020-04-15\", \"2020-04-16\", \"2020-04-17\", \"2020-04-18\", \"2020-04-19\", \"2020-04-20\", \"2020-04-21\", \"2020-04-22\", \"2020-04-23\", \"2020-04-24\", \"2020-04-25\", \"2020-04-26\", \"2020-04-27\", \"2020-04-28\", \"2020-04-29\", \"2020-04-30\", \"2020-05-01\", \"2020-05-02\", \"2020-05-03\", \"2020-05-04\", \"2020-05-05\", \"2020-05-06\", \"2020-05-07\", \"2020-05-08\", \"2020-05-09\", \"2020-05-10\", \"2020-05-11\", \"2020-05-12\", \"2020-05-13\", \"2020-05-14\", \"2020-05-15\", \"2020-05-16\", \"2020-05-17\", \"2020-05-18\", \"2020-05-19\", \"2020-05-20\", \"2020-05-21\", \"2020-05-22\", \"2020-05-23\", \"2020-05-24\", \"2020-05-25\", \"2020-05-26\", \"2020-05-27\", \"2020-05-28\", \"2020-05-29\", \"2020-05-30\", \"2020-05-31\", \"2020-06-01\", \"2020-06-02\", \"2020-06-03\", \"2020-06-04\", \"2020-06-05\", \"2020-06-06\", \"2020-06-07\", \"2020-06-08\", \"2020-06-09\", \"2020-06-10\", \"2020-06-11\", \"2020-06-12\", \"2020-06-13\", \"2020-06-14\", \"2020-06-15\", \"2020-06-16\", \"2020-06-17\", \"2020-06-18\", \"2020-06-19\", \"2020-06-20\", \"2020-06-21\", \"2020-06-22\", \"2020-06-23\", \"2020-06-24\", \"2020-06-25\", \"2020-06-26\", \"2020-06-27\", \"2020-06-28\", \"2020-06-29\", \"2020-06-30\", \"2020-07-01\", \"2020-07-02\", \"2020-07-03\", \"2020-07-04\", \"2020-07-05\", \"2020-07-06\", \"2020-07-07\", \"2020-07-08\", \"2020-07-09\", \"2020-07-10\", \"2020-07-11\", \"2020-07-12\", \"2020-07-13\", \"2020-07-14\", \"2020-07-15\", \"2020-07-16\", \"2020-07-17\", \"2020-07-18\", \"2020-07-19\", \"2020-07-20\", \"2020-07-21\", \"2020-07-22\", \"2020-07-23\", \"2020-07-24\", \"2020-07-25\", \"2020-07-26\", \"2020-07-27\", \"2020-07-28\", \"2020-07-29\", \"2020-07-30\", \"2020-07-31\", \"2020-08-01\", \"2020-08-02\", \"2020-08-03\", \"2020-08-04\", \"2020-08-05\", \"2020-08-06\", \"2020-08-07\", \"2020-08-08\", \"2020-08-09\", \"2020-08-10\", \"2020-08-11\", \"2020-08-12\", \"2020-08-13\", \"2020-08-14\", \"2020-08-15\", \"2020-08-16\", \"2020-08-17\", \"2020-08-18\", \"2020-08-19\", \"2020-08-20\", \"2020-08-21\", \"2020-08-22\", \"2020-08-23\", \"2020-08-24\", \"2020-08-25\", \"2020-08-26\", \"2020-08-27\", \"2020-08-28\", \"2020-08-29\", \"2020-08-30\", \"2020-08-31\", \"2020-09-01\", \"2020-09-02\", \"2020-09-03\", \"2020-09-04\", \"2020-09-05\", \"2020-09-06\", \"2020-09-07\", \"2020-09-08\", \"2020-09-09\", \"2020-09-10\", \"2020-09-11\", \"2020-09-12\", \"2020-09-13\", \"2020-09-14\", \"2020-09-15\", \"2020-09-16\", \"2020-09-17\", \"2020-09-18\", \"2020-09-19\", \"2020-09-20\", \"2020-09-21\", \"2020-09-22\", \"2020-09-23\", \"2020-09-24\", \"2020-09-25\", \"2020-09-26\", \"2020-09-27\", \"2020-09-28\", \"2020-09-29\", \"2020-09-30\", \"2020-10-01\", \"2020-10-02\", \"2020-10-03\", \"2020-10-04\", \"2020-10-05\", \"2020-10-06\", \"2020-10-07\", \"2020-10-08\", \"2020-10-09\", \"2020-10-10\", \"2020-10-11\", \"2020-10-12\", \"2020-10-13\", \"2020-10-14\", \"2020-10-15\", \"2020-10-16\", \"2020-10-17\", \"2020-10-18\", \"2020-10-19\", \"2020-10-20\", \"2020-10-21\", \"2020-10-22\", \"2020-10-23\", \"2020-10-24\", \"2020-10-25\", \"2020-10-26\", \"2020-10-27\", \"2020-10-28\", \"2020-10-29\", \"2020-10-30\", \"2020-10-31\", \"2020-11-01\", \"2020-11-02\", \"2020-11-03\", \"2020-11-04\", \"2020-11-05\", \"2020-11-06\", \"2020-11-07\", \"2020-11-08\", \"2020-11-09\", \"2020-11-10\", \"2020-11-11\", \"2020-11-12\", \"2020-11-13\", \"2020-11-14\", \"2020-11-15\", \"2020-11-16\", \"2020-11-17\", \"2020-11-18\", \"2020-11-19\", \"2020-11-20\", \"2020-11-21\", \"2020-11-22\", \"2020-11-23\", \"2020-11-24\", \"2020-11-25\", \"2020-11-26\", \"2020-11-27\", \"2020-11-28\", \"2020-11-29\", \"2020-11-30\", \"2020-12-01\", \"2020-12-02\", \"2020-12-03\", \"2020-12-04\", \"2020-12-05\", \"2020-12-06\", \"2020-12-07\", \"2020-12-08\", \"2020-12-09\", \"2020-12-10\", \"2020-12-11\", \"2020-12-12\", \"2020-12-13\", \"2020-12-14\", \"2020-12-15\", \"2020-12-16\", \"2020-12-17\", \"2020-12-18\", \"2020-12-19\", \"2020-12-20\", \"2020-12-21\", \"2020-12-22\", \"2020-12-23\", \"2020-12-24\", \"2020-12-25\", \"2020-12-26\", \"2020-12-27\", \"2020-12-28\", \"2020-12-29\", \"2020-12-30\", \"2020-12-31\", \"2021-01-01\", \"2021-01-02\", \"2021-01-03\", \"2021-01-04\", \"2021-01-05\", \"2021-01-06\", \"2021-01-07\", \"2021-01-08\", \"2021-01-09\", \"2021-01-10\", \"2021-01-11\", \"2021-01-12\", \"2021-01-13\", \"2021-01-14\", \"2021-01-15\", \"2021-01-16\", \"2021-01-17\", \"2021-01-18\", \"2021-01-19\", \"2021-01-20\", \"2021-01-21\", \"2021-01-22\", \"2021-01-23\", \"2021-01-24\", \"2021-01-25\", \"2021-01-26\", \"2021-01-27\", \"2021-01-28\", \"2021-01-29\", \"2021-01-30\", \"2021-01-31\", \"2021-02-01\", \"2021-02-02\", \"2021-02-03\", \"2021-02-04\", \"2021-02-05\", \"2021-02-06\", \"2021-02-07\", \"2021-02-08\", \"2021-02-09\", \"2021-02-10\", \"2021-02-11\", \"2021-02-12\", \"2021-02-13\", \"2021-02-14\", \"2021-02-15\", \"2021-02-16\", \"2021-02-17\", \"2021-02-18\", \"2021-02-19\", \"2021-02-20\", \"2021-02-21\", \"2021-02-22\", \"2021-02-23\", \"2021-02-24\", \"2021-02-25\", \"2021-02-26\", \"2021-02-27\", \"2021-02-28\", \"2021-03-01\", \"2021-03-02\", \"2021-03-03\", \"2021-03-04\", \"2021-03-05\", \"2021-03-06\", \"2021-03-07\", \"2021-03-08\", \"2021-03-09\", \"2021-03-10\", \"2021-03-11\", \"2021-03-12\", \"2021-03-13\", \"2021-03-14\", \"2021-03-15\", \"2021-03-16\", \"2021-03-17\", \"2021-03-18\", \"2021-03-19\", \"2021-03-20\", \"2021-03-21\", \"2021-03-22\", \"2021-03-23\", \"2021-03-24\", \"2021-03-25\", \"2021-03-26\", \"2021-03-27\", \"2021-03-28\", \"2021-03-29\", \"2021-03-30\", \"2021-03-31\", \"2021-04-01\", \"2021-04-02\", \"2021-04-03\", \"2021-04-04\", \"2021-04-05\", \"2021-04-06\", \"2021-04-07\", \"2021-04-08\", \"2021-04-09\", \"2021-04-10\", \"2021-04-11\", \"2021-04-12\", \"2021-04-13\", \"2021-04-14\", \"2021-04-15\", \"2021-04-16\", \"2021-04-17\", \"2021-04-18\", \"2021-04-19\", \"2021-04-20\", \"2021-04-21\", \"2021-04-22\", \"2021-04-23\", \"2021-04-24\", \"2021-04-25\", \"2021-04-26\", \"2021-04-27\", \"2021-04-28\", \"2021-04-29\", \"2021-04-30\", \"2021-05-01\", \"2021-05-02\", \"2021-05-03\", \"2021-05-04\", \"2021-05-05\", \"2021-05-06\", \"2021-05-07\", \"2021-05-08\", \"2021-05-09\", \"2021-05-10\", \"2021-05-11\", \"2021-05-12\", \"2021-05-13\", \"2021-05-14\", \"2021-05-15\", \"2021-05-16\", \"2021-05-17\", \"2021-05-18\", \"2021-05-19\", \"2021-05-20\", \"2021-05-21\", \"2021-05-22\", \"2021-05-23\"], \"y\": [17, 18, 26, 42, 56, 82, 131, 133, 171, 213, 259, 362, 426, 492, 564, 634, 719, 806, 906, 1013, 1113, 1118, 1371, 1523, 1666, 1770, 1868, 2008, 2123, 2248, 2252, 2459, 2470, 2630, 2710, 2771, 2814, 2873, 2942, 2996, 3085, 3160, 3255, 3349, 3460, 3564, 3803, 3993, 4267, 4611, 4917, 5414, 5834, 6475, 7153, 7967, 8874, 9985, 11470, 13192, 14878, 16827, 19117, 21927, 24962, 28450, 32180, 35699, 39780, 44528, 50526, 56413, 62574, 68488, 73676, 79614, 87872, 94683, 102467, 109845, 116017, 121876, 127842, 134812, 143285, 150544, 158938, 165083, 170316, 176188, 183461, 190325, 197153, 203923, 209551, 213530, 218276, 224854, 231579, 237421, 242572, 248067, 251578, 255791, 261614, 268119, 273429, 278981, 283206, 286765, 290251, 295736, 300868, 306037, 311258, 315434, 318621, 322384, 327031, 331810, 336469, 341713, 345640, 348656, 349868, 354110, 359166, 363718, 368326, 372350, 375042, 378115, 382792, 388224, 393258, 397836, 401605, 404345, 408047, 412821, 417864, 422504, 426713, 430829, 434229, 437645, 444355, 449502, 454412, 460478, 464587, 468601, 472163, 477380, 482555, 487247, 491995, 496458, 499624, 503302, 508187, 513132, 518207, 523134, 527538, 531027, 534872, 540839, 546114, 551521, 556820, 561638, 565625, 569536, 575133, 580579, 586351, 593019, 598616, 602700, 606911, 613080, 620026, 629914, 635944, 641513, 645226, 650409, 656674, 663281, 669331, 675517, 680972, 685298, 689984, 696514, 703565, 710056, 716344, 721758, 726331, 731683, 737882, 744450, 750664, 760803, 766159, 770423, 774604, 781411, 788138, 794210, 799648, 805146, 809100, 813606, 819892, 826118, 832014, 837543, 842865, 846910, 851087, 857486, 863595, 869279, 875148, 880088, 883934, 893308, 898221, 904326, 910130, 915981, 920862, 924577, 929017, 935443, 941223, 946691, 952359, 957638, 961377, 965479, 971451, 977061, 983715, 989618, 994963, 998650, 1002625, 1008528, 1014992, 1023707, 1028643, 1034007, 1037846, 1044792, 1050568, 1056404, 1062682, 1068832, 1073714, 1077747, 1081730, 1087016, 1093089, 1099204, 1105389, 1110986, 1114528, 1119364, 1125918, 1132548, 1138483, 1145454, 1151271, 1155482, 1160999, 1168371, 1175531, 1182617, 1190216, 1196794, 1201804, 1207908, 1217253, 1227504, 1235518, 1245179, 1252779, 1258654, 1265877, 1275870, 1286321, 1296087, 1305675, 1314757, 1321182, 1329136, 1340207, 1351621, 1362654, 1374541, 1383513, 1390708, 1399234, 1411894, 1424025, 1434913, 1446300, 1455583, 1462743, 1471623, 1484309, 1496898, 1509473, 1521993, 1532282, 1539710, 1548425, 1560705, 1573425, 1586121, 1599149, 1609694, 1617153, 1626325, 1640278, 1653937, 1667387, 1680177, 1690949, 1698864, 1708511, 1722824, 1736627, 1748258, 1756860, 1764259, 1771658, 1781414, 1796580, 1811842, 1825011, 1834674, 1843107, 1850448, 1860597, 1875932, 1890985, 1905924, 1921090, 1933875, 1942223, 1952547, 1969651, 1986357, 2001728, 2016839, 2030087, 2038751, 2048177, 2064760, 2082666, 2099455, 2115476, 2128770, 2137738, 2148506, 2165814, 2182494, 2199545, 2214492, 2228078, 2236068, 2246286, 2261122, 2276850, 2289384, 2305955, 2316092, 2324078, 2332410, 2347947, 2361350, 2374824, 2387297, 2397102, 2403464, 2410358, 2421276, 2432615, 2443985, 2455033, 2463545, 2469425, 2476374, 2487554, 2499557, 2509722, 2519972, 2528112, 2533546, 2540755, 2551189, 2562262, 2572040, 2582057, 2589889, 2595163, 2602023, 2612004, 2621695, 2631462, 2641090, 2649075, 2654574, 2661395, 2671285, 2681410, 2691983, 2702382, 2710428, 2716229, 2723724, 2734830, 2744552, 2755891, 2768112, 2777949, 2784429, 2792392, 2803965, 2816242, 2828117, 2838376, 2846773, 2853703, 2861177, 2873004, 2887852, 2902504, 2915926, 2928340, 2936914, 2946221, 2959562, 2973111, 2986323, 2999160, 3011182, 3019805, 3030312, 3044512, 3058629, 3072373, 3086732, 3100020, 3109692, 3120861, 3135357, 3151086, 3166087, 3180360, 3192930, 3202879, 3213959, 3227862, 3242064, 3256307, 3270043, 3283220, 3293122, 3303890, 3317511, 3331446, 3344581, 3357710, 3369359, 3379449, 3390089, 3404338, 3417682, 3430326, 3442873, 3454000, 3463813]}, {\"line\": {\"color\": \"rgba(50, 171, 96, 1.0)\", \"dash\": \"solid\", \"shape\": \"linear\", \"width\": 1.3}, \"mode\": \"lines\", \"name\": \"Recovered\", \"text\": \"\", \"type\": \"scatter\", \"x\": [\"2020-01-22\", \"2020-01-23\", \"2020-01-24\", \"2020-01-25\", \"2020-01-26\", \"2020-01-27\", \"2020-01-28\", \"2020-01-29\", \"2020-01-30\", \"2020-01-31\", \"2020-02-01\", \"2020-02-02\", \"2020-02-03\", \"2020-02-04\", \"2020-02-05\", \"2020-02-06\", \"2020-02-07\", \"2020-02-08\", \"2020-02-09\", \"2020-02-10\", \"2020-02-11\", \"2020-02-12\", \"2020-02-13\", \"2020-02-14\", \"2020-02-15\", \"2020-02-16\", \"2020-02-17\", \"2020-02-18\", \"2020-02-19\", \"2020-02-20\", \"2020-02-21\", \"2020-02-22\", \"2020-02-23\", \"2020-02-24\", \"2020-02-25\", \"2020-02-26\", \"2020-02-27\", \"2020-02-28\", \"2020-02-29\", \"2020-03-01\", \"2020-03-02\", \"2020-03-03\", \"2020-03-04\", \"2020-03-05\", \"2020-03-06\", \"2020-03-07\", \"2020-03-08\", \"2020-03-09\", \"2020-03-10\", \"2020-03-11\", \"2020-03-12\", \"2020-03-13\", \"2020-03-14\", \"2020-03-15\", \"2020-03-16\", \"2020-03-17\", \"2020-03-18\", \"2020-03-19\", \"2020-03-20\", \"2020-03-21\", \"2020-03-22\", \"2020-03-23\", \"2020-03-24\", \"2020-03-25\", \"2020-03-26\", \"2020-03-27\", \"2020-03-28\", \"2020-03-29\", \"2020-03-30\", \"2020-03-31\", \"2020-04-01\", \"2020-04-02\", \"2020-04-03\", \"2020-04-04\", \"2020-04-05\", \"2020-04-06\", \"2020-04-07\", \"2020-04-08\", \"2020-04-09\", \"2020-04-10\", \"2020-04-11\", \"2020-04-12\", \"2020-04-13\", \"2020-04-14\", \"2020-04-15\", \"2020-04-16\", \"2020-04-17\", \"2020-04-18\", \"2020-04-19\", \"2020-04-20\", \"2020-04-21\", \"2020-04-22\", \"2020-04-23\", \"2020-04-24\", \"2020-04-25\", \"2020-04-26\", \"2020-04-27\", \"2020-04-28\", \"2020-04-29\", \"2020-04-30\", \"2020-05-01\", \"2020-05-02\", \"2020-05-03\", \"2020-05-04\", \"2020-05-05\", \"2020-05-06\", \"2020-05-07\", \"2020-05-08\", \"2020-05-09\", \"2020-05-10\", \"2020-05-11\", \"2020-05-12\", \"2020-05-13\", \"2020-05-14\", \"2020-05-15\", \"2020-05-16\", \"2020-05-17\", \"2020-05-18\", \"2020-05-19\", \"2020-05-20\", \"2020-05-21\", \"2020-05-22\", \"2020-05-23\", \"2020-05-24\", \"2020-05-25\", \"2020-05-26\", \"2020-05-27\", \"2020-05-28\", \"2020-05-29\", \"2020-05-30\", \"2020-05-31\", \"2020-06-01\", \"2020-06-02\", \"2020-06-03\", \"2020-06-04\", \"2020-06-05\", \"2020-06-06\", \"2020-06-07\", \"2020-06-08\", \"2020-06-09\", \"2020-06-10\", \"2020-06-11\", \"2020-06-12\", \"2020-06-13\", \"2020-06-14\", \"2020-06-15\", \"2020-06-16\", \"2020-06-17\", \"2020-06-18\", \"2020-06-19\", \"2020-06-20\", \"2020-06-21\", \"2020-06-22\", \"2020-06-23\", \"2020-06-24\", \"2020-06-25\", \"2020-06-26\", \"2020-06-27\", \"2020-06-28\", \"2020-06-29\", \"2020-06-30\", \"2020-07-01\", \"2020-07-02\", \"2020-07-03\", \"2020-07-04\", \"2020-07-05\", \"2020-07-06\", \"2020-07-07\", \"2020-07-08\", \"2020-07-09\", \"2020-07-10\", \"2020-07-11\", \"2020-07-12\", \"2020-07-13\", \"2020-07-14\", \"2020-07-15\", \"2020-07-16\", \"2020-07-17\", \"2020-07-18\", \"2020-07-19\", \"2020-07-20\", \"2020-07-21\", \"2020-07-22\", \"2020-07-23\", \"2020-07-24\", \"2020-07-25\", \"2020-07-26\", \"2020-07-27\", \"2020-07-28\", \"2020-07-29\", \"2020-07-30\", \"2020-07-31\", \"2020-08-01\", \"2020-08-02\", \"2020-08-03\", \"2020-08-04\", \"2020-08-05\", \"2020-08-06\", \"2020-08-07\", \"2020-08-08\", \"2020-08-09\", \"2020-08-10\", \"2020-08-11\", \"2020-08-12\", \"2020-08-13\", \"2020-08-14\", \"2020-08-15\", \"2020-08-16\", \"2020-08-17\", \"2020-08-18\", \"2020-08-19\", \"2020-08-20\", \"2020-08-21\", \"2020-08-22\", \"2020-08-23\", \"2020-08-24\", \"2020-08-25\", \"2020-08-26\", \"2020-08-27\", \"2020-08-28\", \"2020-08-29\", \"2020-08-30\", \"2020-08-31\", \"2020-09-01\", \"2020-09-02\", \"2020-09-03\", \"2020-09-04\", \"2020-09-05\", \"2020-09-06\", \"2020-09-07\", \"2020-09-08\", \"2020-09-09\", \"2020-09-10\", \"2020-09-11\", \"2020-09-12\", \"2020-09-13\", \"2020-09-14\", \"2020-09-15\", \"2020-09-16\", \"2020-09-17\", \"2020-09-18\", \"2020-09-19\", \"2020-09-20\", \"2020-09-21\", \"2020-09-22\", \"2020-09-23\", \"2020-09-24\", \"2020-09-25\", \"2020-09-26\", \"2020-09-27\", \"2020-09-28\", \"2020-09-29\", \"2020-09-30\", \"2020-10-01\", \"2020-10-02\", \"2020-10-03\", \"2020-10-04\", \"2020-10-05\", \"2020-10-06\", \"2020-10-07\", \"2020-10-08\", \"2020-10-09\", \"2020-10-10\", \"2020-10-11\", \"2020-10-12\", \"2020-10-13\", \"2020-10-14\", \"2020-10-15\", \"2020-10-16\", \"2020-10-17\", \"2020-10-18\", \"2020-10-19\", \"2020-10-20\", \"2020-10-21\", \"2020-10-22\", \"2020-10-23\", \"2020-10-24\", \"2020-10-25\", \"2020-10-26\", \"2020-10-27\", \"2020-10-28\", \"2020-10-29\", \"2020-10-30\", \"2020-10-31\", \"2020-11-01\", \"2020-11-02\", \"2020-11-03\", \"2020-11-04\", \"2020-11-05\", \"2020-11-06\", \"2020-11-07\", \"2020-11-08\", \"2020-11-09\", \"2020-11-10\", \"2020-11-11\", \"2020-11-12\", \"2020-11-13\", \"2020-11-14\", \"2020-11-15\", \"2020-11-16\", \"2020-11-17\", \"2020-11-18\", \"2020-11-19\", \"2020-11-20\", \"2020-11-21\", \"2020-11-22\", \"2020-11-23\", \"2020-11-24\", \"2020-11-25\", \"2020-11-26\", \"2020-11-27\", \"2020-11-28\", \"2020-11-29\", \"2020-11-30\", \"2020-12-01\", \"2020-12-02\", \"2020-12-03\", \"2020-12-04\", \"2020-12-05\", \"2020-12-06\", \"2020-12-07\", \"2020-12-08\", \"2020-12-09\", \"2020-12-10\", \"2020-12-11\", \"2020-12-12\", \"2020-12-13\", \"2020-12-14\", \"2020-12-15\", \"2020-12-16\", \"2020-12-17\", \"2020-12-18\", \"2020-12-19\", \"2020-12-20\", \"2020-12-21\", \"2020-12-22\", \"2020-12-23\", \"2020-12-24\", \"2020-12-25\", \"2020-12-26\", \"2020-12-27\", \"2020-12-28\", \"2020-12-29\", \"2020-12-30\", \"2020-12-31\", \"2021-01-01\", \"2021-01-02\", \"2021-01-03\", \"2021-01-04\", \"2021-01-05\", \"2021-01-06\", \"2021-01-07\", \"2021-01-08\", \"2021-01-09\", \"2021-01-10\", \"2021-01-11\", \"2021-01-12\", \"2021-01-13\", \"2021-01-14\", \"2021-01-15\", \"2021-01-16\", \"2021-01-17\", \"2021-01-18\", \"2021-01-19\", \"2021-01-20\", \"2021-01-21\", \"2021-01-22\", \"2021-01-23\", \"2021-01-24\", \"2021-01-25\", \"2021-01-26\", \"2021-01-27\", \"2021-01-28\", \"2021-01-29\", \"2021-01-30\", \"2021-01-31\", \"2021-02-01\", \"2021-02-02\", \"2021-02-03\", \"2021-02-04\", \"2021-02-05\", \"2021-02-06\", \"2021-02-07\", \"2021-02-08\", \"2021-02-09\", \"2021-02-10\", \"2021-02-11\", \"2021-02-12\", \"2021-02-13\", \"2021-02-14\", \"2021-02-15\", \"2021-02-16\", \"2021-02-17\", \"2021-02-18\", \"2021-02-19\", \"2021-02-20\", \"2021-02-21\", \"2021-02-22\", \"2021-02-23\", \"2021-02-24\", \"2021-02-25\", \"2021-02-26\", \"2021-02-27\", \"2021-02-28\", \"2021-03-01\", \"2021-03-02\", \"2021-03-03\", \"2021-03-04\", \"2021-03-05\", \"2021-03-06\", \"2021-03-07\", \"2021-03-08\", \"2021-03-09\", \"2021-03-10\", \"2021-03-11\", \"2021-03-12\", \"2021-03-13\", \"2021-03-14\", \"2021-03-15\", \"2021-03-16\", \"2021-03-17\", \"2021-03-18\", \"2021-03-19\", \"2021-03-20\", \"2021-03-21\", \"2021-03-22\", \"2021-03-23\", \"2021-03-24\", \"2021-03-25\", \"2021-03-26\", \"2021-03-27\", \"2021-03-28\", \"2021-03-29\", \"2021-03-30\", \"2021-03-31\", \"2021-04-01\", \"2021-04-02\", \"2021-04-03\", \"2021-04-04\", \"2021-04-05\", \"2021-04-06\", \"2021-04-07\", \"2021-04-08\", \"2021-04-09\", \"2021-04-10\", \"2021-04-11\", \"2021-04-12\", \"2021-04-13\", \"2021-04-14\", \"2021-04-15\", \"2021-04-16\", \"2021-04-17\", \"2021-04-18\", \"2021-04-19\", \"2021-04-20\", \"2021-04-21\", \"2021-04-22\", \"2021-04-23\", \"2021-04-24\", \"2021-04-25\", \"2021-04-26\", \"2021-04-27\", \"2021-04-28\", \"2021-04-29\", \"2021-04-30\", \"2021-05-01\", \"2021-05-02\", \"2021-05-03\", \"2021-05-04\", \"2021-05-05\", \"2021-05-06\", \"2021-05-07\", \"2021-05-08\", \"2021-05-09\", \"2021-05-10\", \"2021-05-11\", \"2021-05-12\", \"2021-05-13\", \"2021-05-14\", \"2021-05-15\", \"2021-05-16\", \"2021-05-17\", \"2021-05-18\", \"2021-05-19\", \"2021-05-20\", \"2021-05-21\", \"2021-05-22\", \"2021-05-23\"], \"y\": [30, 32, 39, 42, 56, 65, 108, 127, 145, 225, 287, 476, 627, 857, 1129, 1492, 2016, 2616, 3245, 3947, 4684, 5151, 6294, 8057, 9396, 10866, 12583, 14352, 16121, 18179, 18892, 22889, 23394, 25227, 27905, 30386, 33278, 36710, 39781, 42717, 45601, 48227, 51169, 53795, 55863, 58357, 60694, 62493, 64400, 66998, 68321, 70248, 72620, 76031, 78086, 80830, 83317, 84958, 87403, 91650, 97867, 98335, 107974, 113753, 122125, 130910, 139421, 148877, 164214, 177804, 193076, 210219, 225641, 246053, 259889, 276598, 299860, 328742, 353996, 375734, 401984, 421367, 448624, 473698, 510237, 541120, 567304, 591170, 622953, 645131, 679933, 710018, 738748, 788777, 816532, 845344, 873228, 906440, 948517, 1013633, 1051790, 1092441, 1124974, 1159060, 1195533, 1241652, 1281177, 1317590, 1371031, 1404840, 1451725, 1488767, 1544639, 1584350, 1632453, 1688864, 1729872, 1782788, 1834840, 1893810, 1945030, 2053577, 2108411, 2163938, 2227667, 2282819, 2346146, 2413009, 2490274, 2560724, 2637108, 2692033, 2796145, 2875236, 2945306, 3014471, 3086675, 3141784, 3293395, 3375665, 3454836, 3540715, 3620435, 3706327, 3777146, 3857421, 3955284, 4074115, 4155278, 4250268, 4366122, 4434808, 4526441, 4630496, 4746247, 4839131, 4945111, 5051397, 5140600, 5235171, 5352511, 5468425, 5753359, 5863247, 6059007, 6178370, 6302069, 6447102, 6605158, 6739776, 6879222, 7004914, 7116750, 7257073, 7399325, 7559131, 7711616, 7895037, 8045824, 8133882, 8293010, 8467706, 8647438, 8823668, 9051968, 9271780, 9415081, 9586464, 9756922, 9959508, 10173027, 10372633, 10553544, 10692268, 10914713, 11138370, 11360065, 11548872, 11740918, 11941162, 12119940, 12284151, 12589219, 12829864, 12993780, 13277022, 13445626, 13678580, 13889592, 14117187, 14335184, 14542974, 14711468, 14921385, 15137916, 15337337, 15568886, 15794620, 16001857, 16200975, 16412388, 16622628, 16823418, 17081380, 17300617, 17521986, 17735487, 17936475, 18148266, 18345814, 18547611, 18787878, 19004539, 19228209, 19451143, 19638991, 19867490, 20093777, 20323254, 20543465, 20794614, 21031599, 21268676, 21514154, 21733547, 21996960, 22252630, 22491838, 22753981, 22967860, 23190402, 23431686, 23679904, 23901446, 24073731, 24329332, 24551491, 24788959, 25021585, 25276776, 25496282, 25703072, 25898477, 26121117, 26321236, 26513681, 26725966, 26933293, 27136307, 27334590, 27536101, 27738632, 27950079, 28161301, 28388094, 28594828, 28806409, 29003667, 29242802, 29832507, 30098469, 30345220, 30600994, 30845323, 31103270, 31383407, 31634980, 31914299, 32217954, 32506315, 32805331, 33058571, 33315624, 33572984, 33953208, 34179447, 34481579, 34759398, 34990158, 35380888, 35814479, 36177589, 36551888, 36907312, 37246582, 37520306, 37931519, 38303698, 38741108, 39107984, 39489610, 39849316, 40167599, 40569855, 41046059, 41508985, 41935969, 42426586, 42862534, 43178578, 43591717, 44032488, 44458968, 44950194, 45428334, 46933277, 47328396, 41338399, 41696563, 42058783, 42434192, 42751920, 43103506, 43380335, 43723555, 44086740, 44410880, 44725552, 45017158, 45425322, 45717710, 46016136, 46369231, 46757476, 47032627, 47313005, 47614297, 47882779, 48173187, 48488548, 48801673, 49125604, 49422867, 49753112, 50023662, 50313950, 50657507, 51023568, 51396413, 51717035, 52034090, 52349805, 52668558, 53071502, 53399273, 53765412, 54147169, 54463662, 54774619, 55089060, 55418603, 55759372, 56075031, 56439138, 56790304, 57079203, 57351845, 57702035, 58031882, 58325871, 58607158, 58901715, 59179150, 59411984, 59783592, 60052900, 60328985, 60616584, 60862827, 61058258, 61346871, 61582276, 61876217, 62112835, 62347471, 62616687, 62833944, 63016514, 63295144, 63504603, 63732295, 63992563, 64243285, 64418462, 64633388, 64903492, 65132900, 65383180, 65609540, 65846043, 66084363, 66358921, 66621154, 66856510, 67129127, 67397683, 67650215, 67895903, 68185782, 68452267, 68716803, 68985879, 69264940, 69523151, 69803250, 70137879, 70451021, 70786663, 71098480, 71463066, 71768319, 72097107, 72401543, 72736786, 73119295, 73464081, 73784288, 74150289, 74498477, 74846290, 75216286, 75699591, 76094850, 76548563, 76933557, 77464029, 77858761, 78345223, 78792113, 79236515, 79740632, 80259168, 80839359, 81374734, 81979571, 82491871, 83128167, 83767999, 84344290, 84878104, 85565470, 86246374, 86843039, 87550355, 88236951, 88919401, 89612415, 90255904, 90912804, 91626286, 92301898, 92998027, 93709032, 94371825, 95000511, 95751515, 96399064, 97089181, 97754528, 98397065, 99064469, 99808931, 100552044, 101250071, 101886760, 102496978, 103110386, 103620280]}, {\"line\": {\"color\": \"rgba(128, 0, 128, 1.0)\", \"dash\": \"solid\", \"shape\": \"linear\", \"width\": 1.3}, \"mode\": \"lines\", \"name\": \"Active\", \"text\": \"\", \"type\": \"scatter\", \"x\": [\"2020-01-22\", \"2020-01-23\", \"2020-01-24\", \"2020-01-25\", \"2020-01-26\", \"2020-01-27\", \"2020-01-28\", \"2020-01-29\", \"2020-01-30\", \"2020-01-31\", \"2020-02-01\", \"2020-02-02\", \"2020-02-03\", \"2020-02-04\", \"2020-02-05\", \"2020-02-06\", \"2020-02-07\", \"2020-02-08\", \"2020-02-09\", \"2020-02-10\", \"2020-02-11\", \"2020-02-12\", \"2020-02-13\", \"2020-02-14\", \"2020-02-15\", \"2020-02-16\", \"2020-02-17\", \"2020-02-18\", \"2020-02-19\", \"2020-02-20\", \"2020-02-21\", \"2020-02-22\", \"2020-02-23\", \"2020-02-24\", \"2020-02-25\", \"2020-02-26\", \"2020-02-27\", \"2020-02-28\", \"2020-02-29\", \"2020-03-01\", \"2020-03-02\", \"2020-03-03\", \"2020-03-04\", \"2020-03-05\", \"2020-03-06\", \"2020-03-07\", \"2020-03-08\", \"2020-03-09\", \"2020-03-10\", \"2020-03-11\", \"2020-03-12\", \"2020-03-13\", \"2020-03-14\", \"2020-03-15\", \"2020-03-16\", \"2020-03-17\", \"2020-03-18\", \"2020-03-19\", \"2020-03-20\", \"2020-03-21\", \"2020-03-22\", \"2020-03-23\", \"2020-03-24\", \"2020-03-25\", \"2020-03-26\", \"2020-03-27\", \"2020-03-28\", \"2020-03-29\", \"2020-03-30\", \"2020-03-31\", \"2020-04-01\", \"2020-04-02\", \"2020-04-03\", \"2020-04-04\", \"2020-04-05\", \"2020-04-06\", \"2020-04-07\", \"2020-04-08\", \"2020-04-09\", \"2020-04-10\", \"2020-04-11\", \"2020-04-12\", \"2020-04-13\", \"2020-04-14\", \"2020-04-15\", \"2020-04-16\", \"2020-04-17\", \"2020-04-18\", \"2020-04-19\", \"2020-04-20\", \"2020-04-21\", \"2020-04-22\", \"2020-04-23\", \"2020-04-24\", \"2020-04-25\", \"2020-04-26\", \"2020-04-27\", \"2020-04-28\", \"2020-04-29\", \"2020-04-30\", \"2020-05-01\", \"2020-05-02\", \"2020-05-03\", \"2020-05-04\", \"2020-05-05\", \"2020-05-06\", \"2020-05-07\", \"2020-05-08\", \"2020-05-09\", \"2020-05-10\", \"2020-05-11\", \"2020-05-12\", \"2020-05-13\", \"2020-05-14\", \"2020-05-15\", \"2020-05-16\", \"2020-05-17\", \"2020-05-18\", \"2020-05-19\", \"2020-05-20\", \"2020-05-21\", \"2020-05-22\", \"2020-05-23\", \"2020-05-24\", \"2020-05-25\", \"2020-05-26\", \"2020-05-27\", \"2020-05-28\", \"2020-05-29\", \"2020-05-30\", \"2020-05-31\", \"2020-06-01\", \"2020-06-02\", \"2020-06-03\", \"2020-06-04\", \"2020-06-05\", \"2020-06-06\", \"2020-06-07\", \"2020-06-08\", \"2020-06-09\", \"2020-06-10\", \"2020-06-11\", \"2020-06-12\", \"2020-06-13\", \"2020-06-14\", \"2020-06-15\", \"2020-06-16\", \"2020-06-17\", \"2020-06-18\", \"2020-06-19\", \"2020-06-20\", \"2020-06-21\", \"2020-06-22\", \"2020-06-23\", \"2020-06-24\", \"2020-06-25\", \"2020-06-26\", \"2020-06-27\", \"2020-06-28\", \"2020-06-29\", \"2020-06-30\", \"2020-07-01\", \"2020-07-02\", \"2020-07-03\", \"2020-07-04\", \"2020-07-05\", \"2020-07-06\", \"2020-07-07\", \"2020-07-08\", \"2020-07-09\", \"2020-07-10\", \"2020-07-11\", \"2020-07-12\", \"2020-07-13\", \"2020-07-14\", \"2020-07-15\", \"2020-07-16\", \"2020-07-17\", \"2020-07-18\", \"2020-07-19\", \"2020-07-20\", \"2020-07-21\", \"2020-07-22\", \"2020-07-23\", \"2020-07-24\", \"2020-07-25\", \"2020-07-26\", \"2020-07-27\", \"2020-07-28\", \"2020-07-29\", \"2020-07-30\", \"2020-07-31\", \"2020-08-01\", \"2020-08-02\", \"2020-08-03\", \"2020-08-04\", \"2020-08-05\", \"2020-08-06\", \"2020-08-07\", \"2020-08-08\", \"2020-08-09\", \"2020-08-10\", \"2020-08-11\", \"2020-08-12\", \"2020-08-13\", \"2020-08-14\", \"2020-08-15\", \"2020-08-16\", \"2020-08-17\", \"2020-08-18\", \"2020-08-19\", \"2020-08-20\", \"2020-08-21\", \"2020-08-22\", \"2020-08-23\", \"2020-08-24\", \"2020-08-25\", \"2020-08-26\", \"2020-08-27\", \"2020-08-28\", \"2020-08-29\", \"2020-08-30\", \"2020-08-31\", \"2020-09-01\", \"2020-09-02\", \"2020-09-03\", \"2020-09-04\", \"2020-09-05\", \"2020-09-06\", \"2020-09-07\", \"2020-09-08\", \"2020-09-09\", \"2020-09-10\", \"2020-09-11\", \"2020-09-12\", \"2020-09-13\", \"2020-09-14\", \"2020-09-15\", \"2020-09-16\", \"2020-09-17\", \"2020-09-18\", \"2020-09-19\", \"2020-09-20\", \"2020-09-21\", \"2020-09-22\", \"2020-09-23\", \"2020-09-24\", \"2020-09-25\", \"2020-09-26\", \"2020-09-27\", \"2020-09-28\", \"2020-09-29\", \"2020-09-30\", \"2020-10-01\", \"2020-10-02\", \"2020-10-03\", \"2020-10-04\", \"2020-10-05\", \"2020-10-06\", \"2020-10-07\", \"2020-10-08\", \"2020-10-09\", \"2020-10-10\", \"2020-10-11\", \"2020-10-12\", \"2020-10-13\", \"2020-10-14\", \"2020-10-15\", \"2020-10-16\", \"2020-10-17\", \"2020-10-18\", \"2020-10-19\", \"2020-10-20\", \"2020-10-21\", \"2020-10-22\", \"2020-10-23\", \"2020-10-24\", \"2020-10-25\", \"2020-10-26\", \"2020-10-27\", \"2020-10-28\", \"2020-10-29\", \"2020-10-30\", \"2020-10-31\", \"2020-11-01\", \"2020-11-02\", \"2020-11-03\", \"2020-11-04\", \"2020-11-05\", \"2020-11-06\", \"2020-11-07\", \"2020-11-08\", \"2020-11-09\", \"2020-11-10\", \"2020-11-11\", \"2020-11-12\", \"2020-11-13\", \"2020-11-14\", \"2020-11-15\", \"2020-11-16\", \"2020-11-17\", \"2020-11-18\", \"2020-11-19\", \"2020-11-20\", \"2020-11-21\", \"2020-11-22\", \"2020-11-23\", \"2020-11-24\", \"2020-11-25\", \"2020-11-26\", \"2020-11-27\", \"2020-11-28\", \"2020-11-29\", \"2020-11-30\", \"2020-12-01\", \"2020-12-02\", \"2020-12-03\", \"2020-12-04\", \"2020-12-05\", \"2020-12-06\", \"2020-12-07\", \"2020-12-08\", \"2020-12-09\", \"2020-12-10\", \"2020-12-11\", \"2020-12-12\", \"2020-12-13\", \"2020-12-14\", \"2020-12-15\", \"2020-12-16\", \"2020-12-17\", \"2020-12-18\", \"2020-12-19\", \"2020-12-20\", \"2020-12-21\", \"2020-12-22\", \"2020-12-23\", \"2020-12-24\", \"2020-12-25\", \"2020-12-26\", \"2020-12-27\", \"2020-12-28\", \"2020-12-29\", \"2020-12-30\", \"2020-12-31\", \"2021-01-01\", \"2021-01-02\", \"2021-01-03\", \"2021-01-04\", \"2021-01-05\", \"2021-01-06\", \"2021-01-07\", \"2021-01-08\", \"2021-01-09\", \"2021-01-10\", \"2021-01-11\", \"2021-01-12\", \"2021-01-13\", \"2021-01-14\", \"2021-01-15\", \"2021-01-16\", \"2021-01-17\", \"2021-01-18\", \"2021-01-19\", \"2021-01-20\", \"2021-01-21\", \"2021-01-22\", \"2021-01-23\", \"2021-01-24\", \"2021-01-25\", \"2021-01-26\", \"2021-01-27\", \"2021-01-28\", \"2021-01-29\", \"2021-01-30\", \"2021-01-31\", \"2021-02-01\", \"2021-02-02\", \"2021-02-03\", \"2021-02-04\", \"2021-02-05\", \"2021-02-06\", \"2021-02-07\", \"2021-02-08\", \"2021-02-09\", \"2021-02-10\", \"2021-02-11\", \"2021-02-12\", \"2021-02-13\", \"2021-02-14\", \"2021-02-15\", \"2021-02-16\", \"2021-02-17\", \"2021-02-18\", \"2021-02-19\", \"2021-02-20\", \"2021-02-21\", \"2021-02-22\", \"2021-02-23\", \"2021-02-24\", \"2021-02-25\", \"2021-02-26\", \"2021-02-27\", \"2021-02-28\", \"2021-03-01\", \"2021-03-02\", \"2021-03-03\", \"2021-03-04\", \"2021-03-05\", \"2021-03-06\", \"2021-03-07\", \"2021-03-08\", \"2021-03-09\", \"2021-03-10\", \"2021-03-11\", \"2021-03-12\", \"2021-03-13\", \"2021-03-14\", \"2021-03-15\", \"2021-03-16\", \"2021-03-17\", \"2021-03-18\", \"2021-03-19\", \"2021-03-20\", \"2021-03-21\", \"2021-03-22\", \"2021-03-23\", \"2021-03-24\", \"2021-03-25\", \"2021-03-26\", \"2021-03-27\", \"2021-03-28\", \"2021-03-29\", \"2021-03-30\", \"2021-03-31\", \"2021-04-01\", \"2021-04-02\", \"2021-04-03\", \"2021-04-04\", \"2021-04-05\", \"2021-04-06\", \"2021-04-07\", \"2021-04-08\", \"2021-04-09\", \"2021-04-10\", \"2021-04-11\", \"2021-04-12\", \"2021-04-13\", \"2021-04-14\", \"2021-04-15\", \"2021-04-16\", \"2021-04-17\", \"2021-04-18\", \"2021-04-19\", \"2021-04-20\", \"2021-04-21\", \"2021-04-22\", \"2021-04-23\", \"2021-04-24\", \"2021-04-25\", \"2021-04-26\", \"2021-04-27\", \"2021-04-28\", \"2021-04-29\", \"2021-04-30\", \"2021-05-01\", \"2021-05-02\", \"2021-05-03\", \"2021-05-04\", \"2021-05-05\", \"2021-05-06\", \"2021-05-07\", \"2021-05-08\", \"2021-05-09\", \"2021-05-10\", \"2021-05-11\", \"2021-05-12\", \"2021-05-13\", \"2021-05-14\", \"2021-05-15\", \"2021-05-16\", \"2021-05-17\", \"2021-05-18\", \"2021-05-19\", \"2021-05-20\", \"2021-05-21\", \"2021-05-22\", \"2021-05-23\"], \"y\": [510, 605, 876, 1349, 2006, 2780, 5339, 5907, 7919, 9489, 11492, 15949, 18834, 22549, 25950, 28677, 31661, 33708, 36009, 37809, 39014, 38960, 52717, 57329, 57990, 58599, 58819, 58792, 57408, 55785, 55697, 53254, 53118, 51689, 49784, 48219, 46644, 44539, 43290, 42681, 41691, 41584, 40855, 40946, 42680, 44177, 45550, 47733, 50374, 55093, 59254, 71214, 79496, 86713, 98788, 111173, 127344, 151641, 178486, 204508, 231460, 271878, 301128, 343540, 395010, 447778, 502817, 549079, 594955, 653462, 715000, 775030, 837006, 869043, 922611, 973119, 1011430, 1059115, 1113091, 1169509, 1211370, 1305824, 1343343, 1395310, 1427412, 1484801, 1538220, 1585449, 1625038, 1673006, 1706680, 1750978, 1799669, 1826966, 1875842, 1914639, 1952201, 1987951, 2016259, 2028796, 2073864, 2106918, 2147247, 2186637, 2224843, 2262247, 2306118, 2354432, 2381989, 2419597, 2445857, 2487821, 2511797, 2563148, 2605556, 2639408, 2673235, 2705723, 2745799, 2783928, 2834693, 2827324, 2873367, 2909035, 2930811, 2965384, 2999763, 3047631, 3086661, 3148702, 3176034, 3214031, 3227206, 3256932, 3312772, 3370252, 3428016, 3482530, 3429714, 3467730, 3518621, 3566122, 3610958, 3656239, 3714304, 3750271, 3787782, 3807550, 3862540, 3941399, 3978884, 4033886, 4078052, 4135589, 4187257, 4268062, 4348931, 4416314, 4487816, 4544914, 4597231, 4693979, 4613915, 4700485, 4694130, 4755281, 4791712, 4852074, 4902902, 4989704, 5077633, 5163605, 5240056, 5287266, 5361605, 5427821, 5520876, 5573529, 5653323, 5774615, 5818392, 5871208, 5964398, 6061134, 6107878, 6136551, 6202573, 6252537, 6328599, 6411134, 6471665, 6556617, 6618589, 6706531, 6685875, 6713630, 6761459, 6851363, 6935268, 6988128, 7029460, 7085926, 7032229, 7061663, 7180749, 7191116, 7264864, 7242116, 7234655, 7258509, 7313375, 7372067, 7459340, 7508176, 7493840, 7515181, 7521347, 7573180, 7643942, 7722922, 7769980, 7776660, 7834584, 7835148, 7893306, 7947672, 8042318, 8106381, 8121209, 8132169, 8167658, 8206108, 8283519, 8375368, 8434131, 8485287, 8516100, 8568849, 8638127, 8727334, 8796438, 8846293, 8857591, 8884097, 8943246, 8950315, 9041028, 9126787, 9147741, 9181566, 9209829, 9245310, 9316838, 9404884, 9525529, 9596608, 9632007, 9688616, 9776733, 9866703, 10002246, 10150203, 10307017, 10367256, 10454920, 10576448, 10740424, 10933966, 11136538, 11305315, 11416825, 11596668, 11767669, 11994707, 12234698, 12517791, 12757177, 12916361, 13158120, 13031276, 13270026, 13566604, 13874286, 14100144, 14299571, 14576457, 14869284, 15091266, 15376155, 15722987, 16013263, 16238122, 16475378, 16767402, 17025333, 17438871, 17779224, 18087293, 18324049, 18459822, 18626380, 18878959, 19147212, 19448645, 19687967, 19895029, 20000609, 20206031, 20392714, 20597425, 20891560, 21108602, 21271742, 21369247, 21492454, 21668337, 21923106, 22103245, 22299171, 22514453, 22612618, 22803095, 23033806, 24028097, 24241426, 23360788, 23489048, 29995260, 30259349, 30617196, 30967919, 31357863, 31606758, 31855487, 32051917, 32324680, 32681859, 33022196, 33187538, 33284577, 33423243, 33611384, 33907551, 34265274, 34701963, 34944940, 35261574, 35518547, 35772108, 36181534, 36636728, 37178695, 37669488, 38087452, 38397688, 38717006, 39061853, 39427474, 39794486, 40225940, 40534781, 40739614, 40926501, 41115400, 41462660, 41736055, 41997338, 42235675, 42361404, 42533535, 42742922, 42983834, 43265375, 43476764, 43627342, 43712092, 43876006, 43968937, 44145343, 44305727, 44543297, 44610728, 44723385, 44798112, 44839000, 44992030, 45143936, 45272553, 45389806, 45481863, 45469522, 45574219, 45664494, 45820022, 45986857, 46079584, 46170893, 46269812, 46368855, 46592329, 46801950, 46974471, 47104839, 47227737, 47311466, 47341216, 47541877, 47734868, 47945545, 48111743, 48236461, 48253766, 48396217, 48618249, 48812761, 49023905, 49217504, 49326702, 49378903, 49575541, 49840165, 50114239, 50386458, 50619021, 50756436, 50831133, 51021130, 51309347, 51637541, 51902085, 52171587, 52306277, 52452283, 52673740, 52962159, 53317285, 53620558, 53775603, 53973288, 54107585, 54329849, 54516042, 54945981, 55226891, 55493990, 55645685, 55858271, 56138035, 56494621, 56853768, 57191669, 57449153, 57545834, 57693374, 57928762, 58292320, 58542035, 58791591, 59022952, 59201822, 59186071, 59335141, 59628739, 59804024, 59982169, 60083828, 60055213, 60082234, 60218867, 60332407, 60512524, 60634217, 60696581, 60665425, 60647900, 60621748, 60720363, 60742386, 60781970, 60755302, 60626014, 60410606, 60275428, 60235149, 60214345, 60199176, 60134757, 60093191]}],\n",
              "                        {\"legend\": {\"bgcolor\": \"#F5F6F9\", \"font\": {\"color\": \"#4D5663\"}}, \"paper_bgcolor\": \"#F5F6F9\", \"plot_bgcolor\": \"#F5F6F9\", \"template\": {\"data\": {\"bar\": [{\"error_x\": {\"color\": \"#2a3f5f\"}, \"error_y\": {\"color\": \"#2a3f5f\"}, \"marker\": {\"line\": {\"color\": \"#E5ECF6\", \"width\": 0.5}}, \"type\": \"bar\"}], \"barpolar\": [{\"marker\": {\"line\": {\"color\": \"#E5ECF6\", \"width\": 0.5}}, \"type\": \"barpolar\"}], \"carpet\": [{\"aaxis\": {\"endlinecolor\": \"#2a3f5f\", \"gridcolor\": \"white\", \"linecolor\": \"white\", \"minorgridcolor\": \"white\", \"startlinecolor\": \"#2a3f5f\"}, \"baxis\": {\"endlinecolor\": \"#2a3f5f\", \"gridcolor\": \"white\", \"linecolor\": \"white\", \"minorgridcolor\": \"white\", \"startlinecolor\": \"#2a3f5f\"}, \"type\": \"carpet\"}], \"choropleth\": [{\"colorbar\": {\"outlinewidth\": 0, \"ticks\": \"\"}, \"type\": \"choropleth\"}], \"contour\": [{\"colorbar\": {\"outlinewidth\": 0, \"ticks\": \"\"}, \"colorscale\": [[0.0, \"#0d0887\"], [0.1111111111111111, \"#46039f\"], [0.2222222222222222, \"#7201a8\"], [0.3333333333333333, \"#9c179e\"], [0.4444444444444444, \"#bd3786\"], [0.5555555555555556, \"#d8576b\"], [0.6666666666666666, \"#ed7953\"], [0.7777777777777778, \"#fb9f3a\"], [0.8888888888888888, \"#fdca26\"], [1.0, \"#f0f921\"]], \"type\": \"contour\"}], \"contourcarpet\": [{\"colorbar\": {\"outlinewidth\": 0, \"ticks\": \"\"}, \"type\": \"contourcarpet\"}], \"heatmap\": [{\"colorbar\": {\"outlinewidth\": 0, \"ticks\": \"\"}, \"colorscale\": [[0.0, \"#0d0887\"], [0.1111111111111111, \"#46039f\"], [0.2222222222222222, \"#7201a8\"], [0.3333333333333333, \"#9c179e\"], [0.4444444444444444, \"#bd3786\"], [0.5555555555555556, \"#d8576b\"], [0.6666666666666666, \"#ed7953\"], [0.7777777777777778, \"#fb9f3a\"], [0.8888888888888888, \"#fdca26\"], [1.0, \"#f0f921\"]], \"type\": \"heatmap\"}], \"heatmapgl\": [{\"colorbar\": {\"outlinewidth\": 0, \"ticks\": \"\"}, \"colorscale\": [[0.0, \"#0d0887\"], [0.1111111111111111, \"#46039f\"], [0.2222222222222222, \"#7201a8\"], [0.3333333333333333, \"#9c179e\"], [0.4444444444444444, \"#bd3786\"], [0.5555555555555556, \"#d8576b\"], [0.6666666666666666, \"#ed7953\"], [0.7777777777777778, \"#fb9f3a\"], [0.8888888888888888, \"#fdca26\"], [1.0, \"#f0f921\"]], \"type\": \"heatmapgl\"}], \"histogram\": [{\"marker\": {\"colorbar\": {\"outlinewidth\": 0, \"ticks\": \"\"}}, \"type\": \"histogram\"}], \"histogram2d\": [{\"colorbar\": {\"outlinewidth\": 0, \"ticks\": \"\"}, \"colorscale\": [[0.0, \"#0d0887\"], [0.1111111111111111, \"#46039f\"], [0.2222222222222222, \"#7201a8\"], [0.3333333333333333, \"#9c179e\"], [0.4444444444444444, \"#bd3786\"], [0.5555555555555556, \"#d8576b\"], [0.6666666666666666, \"#ed7953\"], [0.7777777777777778, \"#fb9f3a\"], [0.8888888888888888, \"#fdca26\"], [1.0, \"#f0f921\"]], \"type\": \"histogram2d\"}], \"histogram2dcontour\": [{\"colorbar\": {\"outlinewidth\": 0, \"ticks\": \"\"}, \"colorscale\": [[0.0, \"#0d0887\"], [0.1111111111111111, \"#46039f\"], [0.2222222222222222, \"#7201a8\"], [0.3333333333333333, \"#9c179e\"], [0.4444444444444444, \"#bd3786\"], [0.5555555555555556, \"#d8576b\"], [0.6666666666666666, \"#ed7953\"], [0.7777777777777778, \"#fb9f3a\"], [0.8888888888888888, \"#fdca26\"], [1.0, \"#f0f921\"]], \"type\": \"histogram2dcontour\"}], \"mesh3d\": [{\"colorbar\": {\"outlinewidth\": 0, \"ticks\": \"\"}, \"type\": \"mesh3d\"}], \"parcoords\": [{\"line\": {\"colorbar\": {\"outlinewidth\": 0, \"ticks\": \"\"}}, \"type\": \"parcoords\"}], \"pie\": [{\"automargin\": true, \"type\": \"pie\"}], \"scatter\": [{\"marker\": {\"colorbar\": {\"outlinewidth\": 0, \"ticks\": \"\"}}, \"type\": \"scatter\"}], \"scatter3d\": [{\"line\": {\"colorbar\": {\"outlinewidth\": 0, \"ticks\": \"\"}}, \"marker\": {\"colorbar\": {\"outlinewidth\": 0, \"ticks\": \"\"}}, \"type\": \"scatter3d\"}], \"scattercarpet\": [{\"marker\": {\"colorbar\": {\"outlinewidth\": 0, \"ticks\": \"\"}}, \"type\": \"scattercarpet\"}], \"scattergeo\": [{\"marker\": {\"colorbar\": {\"outlinewidth\": 0, \"ticks\": \"\"}}, \"type\": \"scattergeo\"}], \"scattergl\": [{\"marker\": {\"colorbar\": {\"outlinewidth\": 0, \"ticks\": \"\"}}, \"type\": \"scattergl\"}], \"scattermapbox\": [{\"marker\": {\"colorbar\": {\"outlinewidth\": 0, \"ticks\": \"\"}}, \"type\": \"scattermapbox\"}], \"scatterpolar\": [{\"marker\": {\"colorbar\": {\"outlinewidth\": 0, \"ticks\": \"\"}}, \"type\": \"scatterpolar\"}], \"scatterpolargl\": [{\"marker\": {\"colorbar\": {\"outlinewidth\": 0, \"ticks\": \"\"}}, \"type\": \"scatterpolargl\"}], \"scatterternary\": [{\"marker\": {\"colorbar\": {\"outlinewidth\": 0, \"ticks\": \"\"}}, \"type\": \"scatterternary\"}], \"surface\": [{\"colorbar\": {\"outlinewidth\": 0, \"ticks\": \"\"}, \"colorscale\": [[0.0, \"#0d0887\"], [0.1111111111111111, \"#46039f\"], [0.2222222222222222, \"#7201a8\"], [0.3333333333333333, \"#9c179e\"], [0.4444444444444444, \"#bd3786\"], [0.5555555555555556, \"#d8576b\"], [0.6666666666666666, \"#ed7953\"], [0.7777777777777778, \"#fb9f3a\"], [0.8888888888888888, \"#fdca26\"], [1.0, \"#f0f921\"]], \"type\": \"surface\"}], \"table\": [{\"cells\": {\"fill\": {\"color\": \"#EBF0F8\"}, \"line\": {\"color\": \"white\"}}, \"header\": {\"fill\": {\"color\": \"#C8D4E3\"}, \"line\": {\"color\": \"white\"}}, \"type\": \"table\"}]}, \"layout\": {\"annotationdefaults\": {\"arrowcolor\": \"#2a3f5f\", \"arrowhead\": 0, \"arrowwidth\": 1}, \"coloraxis\": {\"colorbar\": {\"outlinewidth\": 0, \"ticks\": \"\"}}, \"colorscale\": {\"diverging\": [[0, \"#8e0152\"], [0.1, \"#c51b7d\"], [0.2, \"#de77ae\"], [0.3, \"#f1b6da\"], [0.4, \"#fde0ef\"], [0.5, \"#f7f7f7\"], [0.6, \"#e6f5d0\"], [0.7, \"#b8e186\"], [0.8, \"#7fbc41\"], [0.9, \"#4d9221\"], [1, \"#276419\"]], \"sequential\": [[0.0, \"#0d0887\"], [0.1111111111111111, \"#46039f\"], [0.2222222222222222, \"#7201a8\"], [0.3333333333333333, \"#9c179e\"], [0.4444444444444444, \"#bd3786\"], [0.5555555555555556, \"#d8576b\"], [0.6666666666666666, \"#ed7953\"], [0.7777777777777778, \"#fb9f3a\"], [0.8888888888888888, \"#fdca26\"], [1.0, \"#f0f921\"]], \"sequentialminus\": [[0.0, \"#0d0887\"], [0.1111111111111111, \"#46039f\"], [0.2222222222222222, \"#7201a8\"], [0.3333333333333333, \"#9c179e\"], [0.4444444444444444, \"#bd3786\"], [0.5555555555555556, \"#d8576b\"], [0.6666666666666666, \"#ed7953\"], [0.7777777777777778, \"#fb9f3a\"], [0.8888888888888888, \"#fdca26\"], [1.0, \"#f0f921\"]]}, \"colorway\": [\"#636efa\", \"#EF553B\", \"#00cc96\", \"#ab63fa\", \"#FFA15A\", \"#19d3f3\", \"#FF6692\", \"#B6E880\", \"#FF97FF\", \"#FECB52\"], \"font\": {\"color\": \"#2a3f5f\"}, \"geo\": {\"bgcolor\": \"white\", \"lakecolor\": \"white\", \"landcolor\": \"#E5ECF6\", \"showlakes\": true, \"showland\": true, \"subunitcolor\": \"white\"}, \"hoverlabel\": {\"align\": \"left\"}, \"hovermode\": \"closest\", \"mapbox\": {\"style\": \"light\"}, \"paper_bgcolor\": \"white\", \"plot_bgcolor\": \"#E5ECF6\", \"polar\": {\"angularaxis\": {\"gridcolor\": \"white\", \"linecolor\": \"white\", \"ticks\": \"\"}, \"bgcolor\": \"#E5ECF6\", \"radialaxis\": {\"gridcolor\": \"white\", \"linecolor\": \"white\", \"ticks\": \"\"}}, \"scene\": {\"xaxis\": {\"backgroundcolor\": \"#E5ECF6\", \"gridcolor\": \"white\", \"gridwidth\": 2, \"linecolor\": \"white\", \"showbackground\": true, \"ticks\": \"\", \"zerolinecolor\": \"white\"}, \"yaxis\": {\"backgroundcolor\": \"#E5ECF6\", \"gridcolor\": \"white\", \"gridwidth\": 2, \"linecolor\": \"white\", \"showbackground\": true, \"ticks\": \"\", \"zerolinecolor\": \"white\"}, \"zaxis\": {\"backgroundcolor\": \"#E5ECF6\", \"gridcolor\": \"white\", \"gridwidth\": 2, \"linecolor\": \"white\", \"showbackground\": true, \"ticks\": \"\", \"zerolinecolor\": \"white\"}}, \"shapedefaults\": {\"line\": {\"color\": \"#2a3f5f\"}}, \"ternary\": {\"aaxis\": {\"gridcolor\": \"white\", \"linecolor\": \"white\", \"ticks\": \"\"}, \"baxis\": {\"gridcolor\": \"white\", \"linecolor\": \"white\", \"ticks\": \"\"}, \"bgcolor\": \"#E5ECF6\", \"caxis\": {\"gridcolor\": \"white\", \"linecolor\": \"white\", \"ticks\": \"\"}}, \"title\": {\"x\": 0.05}, \"xaxis\": {\"automargin\": true, \"gridcolor\": \"white\", \"linecolor\": \"white\", \"ticks\": \"\", \"title\": {\"standoff\": 15}, \"zerolinecolor\": \"white\", \"zerolinewidth\": 2}, \"yaxis\": {\"automargin\": true, \"gridcolor\": \"white\", \"linecolor\": \"white\", \"ticks\": \"\", \"title\": {\"standoff\": 15}, \"zerolinecolor\": \"white\", \"zerolinewidth\": 2}}}, \"title\": {\"font\": {\"color\": \"#4D5663\"}, \"text\": \"Trend Kasus COVID-19 Secara Global\"}, \"xaxis\": {\"gridcolor\": \"#E1E5ED\", \"showgrid\": true, \"tickfont\": {\"color\": \"#4D5663\"}, \"title\": {\"font\": {\"color\": \"#4D5663\"}, \"text\": \"Time\"}, \"zerolinecolor\": \"#E1E5ED\"}, \"yaxis\": {\"gridcolor\": \"#E1E5ED\", \"showgrid\": true, \"tickfont\": {\"color\": \"#4D5663\"}, \"title\": {\"font\": {\"color\": \"#4D5663\"}, \"text\": \"Amount\"}, \"zerolinecolor\": \"#E1E5ED\"}},\n",
              "                        {\"showLink\": true, \"linkText\": \"Export to plot.ly\", \"plotlyServerURL\": \"https://plot.ly\", \"responsive\": true}\n",
              "                    ).then(function(){\n",
              "                            \n",
              "var gd = document.getElementById('c2d94696-09cc-4583-87da-e9cd68e649a8');\n",
              "var x = new MutationObserver(function (mutations, observer) {{\n",
              "        var display = window.getComputedStyle(gd).display;\n",
              "        if (!display || display === 'none') {{\n",
              "            console.log([gd, 'removed!']);\n",
              "            Plotly.purge(gd);\n",
              "            observer.disconnect();\n",
              "        }}\n",
              "}});\n",
              "\n",
              "// Listen for the removal of the full notebook cells\n",
              "var notebookContainer = gd.closest('#notebook-container');\n",
              "if (notebookContainer) {{\n",
              "    x.observe(notebookContainer, {childList: true});\n",
              "}}\n",
              "\n",
              "// Listen for the clearing of the current output cell\n",
              "var outputEl = gd.closest('.output');\n",
              "if (outputEl) {{\n",
              "    x.observe(outputEl, {childList: true});\n",
              "}}\n",
              "\n",
              "                        })\n",
              "                };\n",
              "                });\n",
              "            </script>\n",
              "        </div>"
            ],
            "application/vnd.plotly.v1+json": {
              "data": [
                {
                  "name": "Confirmed",
                  "text": "",
                  "mode": "lines",
                  "y": [
                    557,
                    655,
                    941,
                    1433,
                    2118,
                    2927,
                    5578,
                    6167,
                    8235,
                    9927,
                    12038,
                    16787,
                    19887,
                    23898,
                    27643,
                    30803,
                    34396,
                    37130,
                    40160,
                    42769,
                    44811,
                    45229,
                    60382,
                    66909,
                    69052,
                    71235,
                    73270,
                    75152,
                    75652,
                    76212,
                    76841,
                    78602,
                    78982,
                    79546,
                    80399,
                    81376,
                    82736,
                    84122,
                    86013,
                    88394,
                    90377,
                    92971,
                    95279,
                    98090,
                    102003,
                    106098,
                    110047,
                    114219,
                    119041,
                    126702,
                    132492,
                    146876,
                    157950,
                    169219,
                    184027,
                    199970,
                    219535,
                    246584,
                    277359,
                    309350,
                    344205,
                    387040,
                    428219,
                    479220,
                    542097,
                    607138,
                    674418,
                    733655,
                    798949,
                    875794,
                    958602,
                    1041662,
                    1125221,
                    1183584,
                    1256176,
                    1329331,
                    1399162,
                    1482540,
                    1569554,
                    1655088,
                    1729371,
                    1849067,
                    1919809,
                    2003820,
                    2080934,
                    2176465,
                    2264462,
                    2341702,
                    2418307,
                    2494325,
                    2570074,
                    2651321,
                    2735570,
                    2819666,
                    2901925,
                    2973513,
                    3043705,
                    3119245,
                    3196355,
                    3279850,
                    3368226,
                    3447426,
                    3523799,
                    3601488,
                    3681990,
                    3772018,
                    3860724,
                    3951003,
                    4036226,
                    4111202,
                    4187833,
                    4272324,
                    4357304,
                    4453535,
                    4549267,
                    4643706,
                    4721728,
                    4810895,
                    4907670,
                    5009548,
                    5116192,
                    5222614,
                    5327418,
                    5421629,
                    5508346,
                    5602313,
                    5705075,
                    5824358,
                    5945261,
                    6081776,
                    6188184,
                    6284179,
                    6406143,
                    6520392,
                    6651336,
                    6782559,
                    6916296,
                    7028659,
                    7131156,
                    7256216,
                    7391321,
                    7529341,
                    7658106,
                    7793395,
                    7925679,
                    8045337,
                    8187421,
                    8331167,
                    8472230,
                    8652145,
                    8809593,
                    8937295,
                    9076656,
                    9243465,
                    9416059,
                    9594440,
                    9786037,
                    9964169,
                    10128040,
                    10283387,
                    10457929,
                    10675536,
                    10885481,
                    11086866,
                    11280675,
                    11464678,
                    11628653,
                    11840015,
                    12054174,
                    12281001,
                    12513675,
                    12730157,
                    12922431,
                    13113875,
                    13336063,
                    13567531,
                    13818843,
                    14061585,
                    14297763,
                    14511197,
                    14718313,
                    14951994,
                    15231862,
                    15514716,
                    15795790,
                    16049844,
                    16262880,
                    16489410,
                    16742195,
                    17033923,
                    17314023,
                    17604767,
                    17853105,
                    18084097,
                    18290572,
                    18548514,
                    18825089,
                    19110291,
                    19392530,
                    19651048,
                    19875731,
                    20101760,
                    20359330,
                    20635977,
                    20925193,
                    21228941,
                    21476649,
                    21691119,
                    21898851,
                    22157107,
                    22436697,
                    22709251,
                    22970456,
                    23234707,
                    23440856,
                    23666124,
                    23910125,
                    24193918,
                    24477813,
                    24761440,
                    25025233,
                    25246198,
                    25509089,
                    25774014,
                    26057518,
                    26338937,
                    26652953,
                    26922944,
                    27153409,
                    27371291,
                    27613490,
                    27898312,
                    28198188,
                    28519558,
                    28806136,
                    29048855,
                    29312607,
                    29598069,
                    29902604,
                    30217490,
                    30543411,
                    30835530,
                    31087644,
                    31363730,
                    31648244,
                    31924336,
                    32277373,
                    32608243,
                    32896685,
                    33148076,
                    33402856,
                    33685524,
                    34011734,
                    34330037,
                    34627903,
                    34959947,
                    35221344,
                    35522367,
                    35848886,
                    36199883,
                    36561210,
                    36922107,
                    37279208,
                    37566120,
                    37857886,
                    38177145,
                    38559479,
                    38966463,
                    39378234,
                    39750891,
                    40067454,
                    40454664,
                    40843666,
                    41288556,
                    41761275,
                    42258073,
                    42714857,
                    43075510,
                    43561921,
                    44032154,
                    44544026,
                    45094441,
                    45665496,
                    46142261,
                    46604645,
                    47167772,
                    47721517,
                    48233069,
                    48829627,
                    49474481,
                    50071373,
                    50555347,
                    51056879,
                    51616256,
                    52264862,
                    52914405,
                    53566478,
                    54161448,
                    54635389,
                    55169846,
                    55781066,
                    56408169,
                    57061754,
                    57730498,
                    58318062,
                    58806043,
                    59331362,
                    59921623,
                    60557847,
                    61140322,
                    61827470,
                    62413501,
                    62902084,
                    63410725,
                    64022822,
                    64674220,
                    65368548,
                    66051824,
                    66693987,
                    67232741,
                    67752760,
                    68396288,
                    69066199,
                    70564412,
                    71268909,
                    71903759,
                    72434597,
                    72959984,
                    73596190,
                    74329916,
                    75069498,
                    75789960,
                    76401213,
                    76934686,
                    77483983,
                    78134244,
                    78829366,
                    79496006,
                    79961556,
                    80474158,
                    80912611,
                    81408934,
                    82073362,
                    82834592,
                    83559601,
                    84092619,
                    84718978,
                    85251774,
                    85805892,
                    86546014,
                    87329386,
                    88210223,
                    89013445,
                    89774439,
                    90363573,
                    90983503,
                    91689011,
                    92437399,
                    93192627,
                    93959814,
                    94598958,
                    95128170,
                    95643236,
                    96251662,
                    96944599,
                    97600922,
                    98259983,
                    98828107,
                    99273761,
                    99771101,
                    100327339,
                    100925700,
                    101539951,
                    102130394,
                    102645724,
                    103027363,
                    103474137,
                    103932094,
                    104454075,
                    104920982,
                    105456410,
                    105828535,
                    106226613,
                    106542506,
                    106970539,
                    107406280,
                    107847745,
                    108276434,
                    108649735,
                    108943585,
                    109226751,
                    109577771,
                    109973326,
                    110376842,
                    110789361,
                    111159816,
                    111474262,
                    111762700,
                    112151553,
                    112596489,
                    113043967,
                    113487006,
                    113876236,
                    114179745,
                    114485609,
                    114795897,
                    115237039,
                    115690088,
                    116137142,
                    116547675,
                    116915987,
                    117214710,
                    117629375,
                    118096454,
                    118573350,
                    119062678,
                    119516794,
                    119877179,
                    120226080,
                    120699093,
                    121238378,
                    121792101,
                    122353780,
                    122852600,
                    123275915,
                    123692736,
                    124206981,
                    124840562,
                    125491912,
                    126133263,
                    126717855,
                    127187813,
                    127646218,
                    128214491,
                    128897696,
                    129609483,
                    130243222,
                    130772665,
                    131325468,
                    131815052,
                    132419139,
                    133103485,
                    133943335,
                    134691380,
                    135355887,
                    136046628,
                    136663253,
                    137442820,
                    138259845,
                    139076606,
                    139931461,
                    140719503,
                    141404998,
                    142098420,
                    142952845,
                    143842820,
                    144742575,
                    145646322,
                    146467262,
                    147189618,
                    147872402,
                    148716872,
                    149622864,
                    150520466,
                    151399480,
                    152196159,
                    152870507,
                    153552097,
                    154359533,
                    155200757,
                    156070729,
                    156902287,
                    157688833,
                    158330372,
                    158952301,
                    159690774,
                    160450873,
                    161176148,
                    161894208,
                    162521726,
                    163069932,
                    163609626,
                    164231810,
                    164902902,
                    165531431,
                    166139027,
                    166699143,
                    167177284
                  ],
                  "x": [
                    "2020-01-22",
                    "2020-01-23",
                    "2020-01-24",
                    "2020-01-25",
                    "2020-01-26",
                    "2020-01-27",
                    "2020-01-28",
                    "2020-01-29",
                    "2020-01-30",
                    "2020-01-31",
                    "2020-02-01",
                    "2020-02-02",
                    "2020-02-03",
                    "2020-02-04",
                    "2020-02-05",
                    "2020-02-06",
                    "2020-02-07",
                    "2020-02-08",
                    "2020-02-09",
                    "2020-02-10",
                    "2020-02-11",
                    "2020-02-12",
                    "2020-02-13",
                    "2020-02-14",
                    "2020-02-15",
                    "2020-02-16",
                    "2020-02-17",
                    "2020-02-18",
                    "2020-02-19",
                    "2020-02-20",
                    "2020-02-21",
                    "2020-02-22",
                    "2020-02-23",
                    "2020-02-24",
                    "2020-02-25",
                    "2020-02-26",
                    "2020-02-27",
                    "2020-02-28",
                    "2020-02-29",
                    "2020-03-01",
                    "2020-03-02",
                    "2020-03-03",
                    "2020-03-04",
                    "2020-03-05",
                    "2020-03-06",
                    "2020-03-07",
                    "2020-03-08",
                    "2020-03-09",
                    "2020-03-10",
                    "2020-03-11",
                    "2020-03-12",
                    "2020-03-13",
                    "2020-03-14",
                    "2020-03-15",
                    "2020-03-16",
                    "2020-03-17",
                    "2020-03-18",
                    "2020-03-19",
                    "2020-03-20",
                    "2020-03-21",
                    "2020-03-22",
                    "2020-03-23",
                    "2020-03-24",
                    "2020-03-25",
                    "2020-03-26",
                    "2020-03-27",
                    "2020-03-28",
                    "2020-03-29",
                    "2020-03-30",
                    "2020-03-31",
                    "2020-04-01",
                    "2020-04-02",
                    "2020-04-03",
                    "2020-04-04",
                    "2020-04-05",
                    "2020-04-06",
                    "2020-04-07",
                    "2020-04-08",
                    "2020-04-09",
                    "2020-04-10",
                    "2020-04-11",
                    "2020-04-12",
                    "2020-04-13",
                    "2020-04-14",
                    "2020-04-15",
                    "2020-04-16",
                    "2020-04-17",
                    "2020-04-18",
                    "2020-04-19",
                    "2020-04-20",
                    "2020-04-21",
                    "2020-04-22",
                    "2020-04-23",
                    "2020-04-24",
                    "2020-04-25",
                    "2020-04-26",
                    "2020-04-27",
                    "2020-04-28",
                    "2020-04-29",
                    "2020-04-30",
                    "2020-05-01",
                    "2020-05-02",
                    "2020-05-03",
                    "2020-05-04",
                    "2020-05-05",
                    "2020-05-06",
                    "2020-05-07",
                    "2020-05-08",
                    "2020-05-09",
                    "2020-05-10",
                    "2020-05-11",
                    "2020-05-12",
                    "2020-05-13",
                    "2020-05-14",
                    "2020-05-15",
                    "2020-05-16",
                    "2020-05-17",
                    "2020-05-18",
                    "2020-05-19",
                    "2020-05-20",
                    "2020-05-21",
                    "2020-05-22",
                    "2020-05-23",
                    "2020-05-24",
                    "2020-05-25",
                    "2020-05-26",
                    "2020-05-27",
                    "2020-05-28",
                    "2020-05-29",
                    "2020-05-30",
                    "2020-05-31",
                    "2020-06-01",
                    "2020-06-02",
                    "2020-06-03",
                    "2020-06-04",
                    "2020-06-05",
                    "2020-06-06",
                    "2020-06-07",
                    "2020-06-08",
                    "2020-06-09",
                    "2020-06-10",
                    "2020-06-11",
                    "2020-06-12",
                    "2020-06-13",
                    "2020-06-14",
                    "2020-06-15",
                    "2020-06-16",
                    "2020-06-17",
                    "2020-06-18",
                    "2020-06-19",
                    "2020-06-20",
                    "2020-06-21",
                    "2020-06-22",
                    "2020-06-23",
                    "2020-06-24",
                    "2020-06-25",
                    "2020-06-26",
                    "2020-06-27",
                    "2020-06-28",
                    "2020-06-29",
                    "2020-06-30",
                    "2020-07-01",
                    "2020-07-02",
                    "2020-07-03",
                    "2020-07-04",
                    "2020-07-05",
                    "2020-07-06",
                    "2020-07-07",
                    "2020-07-08",
                    "2020-07-09",
                    "2020-07-10",
                    "2020-07-11",
                    "2020-07-12",
                    "2020-07-13",
                    "2020-07-14",
                    "2020-07-15",
                    "2020-07-16",
                    "2020-07-17",
                    "2020-07-18",
                    "2020-07-19",
                    "2020-07-20",
                    "2020-07-21",
                    "2020-07-22",
                    "2020-07-23",
                    "2020-07-24",
                    "2020-07-25",
                    "2020-07-26",
                    "2020-07-27",
                    "2020-07-28",
                    "2020-07-29",
                    "2020-07-30",
                    "2020-07-31",
                    "2020-08-01",
                    "2020-08-02",
                    "2020-08-03",
                    "2020-08-04",
                    "2020-08-05",
                    "2020-08-06",
                    "2020-08-07",
                    "2020-08-08",
                    "2020-08-09",
                    "2020-08-10",
                    "2020-08-11",
                    "2020-08-12",
                    "2020-08-13",
                    "2020-08-14",
                    "2020-08-15",
                    "2020-08-16",
                    "2020-08-17",
                    "2020-08-18",
                    "2020-08-19",
                    "2020-08-20",
                    "2020-08-21",
                    "2020-08-22",
                    "2020-08-23",
                    "2020-08-24",
                    "2020-08-25",
                    "2020-08-26",
                    "2020-08-27",
                    "2020-08-28",
                    "2020-08-29",
                    "2020-08-30",
                    "2020-08-31",
                    "2020-09-01",
                    "2020-09-02",
                    "2020-09-03",
                    "2020-09-04",
                    "2020-09-05",
                    "2020-09-06",
                    "2020-09-07",
                    "2020-09-08",
                    "2020-09-09",
                    "2020-09-10",
                    "2020-09-11",
                    "2020-09-12",
                    "2020-09-13",
                    "2020-09-14",
                    "2020-09-15",
                    "2020-09-16",
                    "2020-09-17",
                    "2020-09-18",
                    "2020-09-19",
                    "2020-09-20",
                    "2020-09-21",
                    "2020-09-22",
                    "2020-09-23",
                    "2020-09-24",
                    "2020-09-25",
                    "2020-09-26",
                    "2020-09-27",
                    "2020-09-28",
                    "2020-09-29",
                    "2020-09-30",
                    "2020-10-01",
                    "2020-10-02",
                    "2020-10-03",
                    "2020-10-04",
                    "2020-10-05",
                    "2020-10-06",
                    "2020-10-07",
                    "2020-10-08",
                    "2020-10-09",
                    "2020-10-10",
                    "2020-10-11",
                    "2020-10-12",
                    "2020-10-13",
                    "2020-10-14",
                    "2020-10-15",
                    "2020-10-16",
                    "2020-10-17",
                    "2020-10-18",
                    "2020-10-19",
                    "2020-10-20",
                    "2020-10-21",
                    "2020-10-22",
                    "2020-10-23",
                    "2020-10-24",
                    "2020-10-25",
                    "2020-10-26",
                    "2020-10-27",
                    "2020-10-28",
                    "2020-10-29",
                    "2020-10-30",
                    "2020-10-31",
                    "2020-11-01",
                    "2020-11-02",
                    "2020-11-03",
                    "2020-11-04",
                    "2020-11-05",
                    "2020-11-06",
                    "2020-11-07",
                    "2020-11-08",
                    "2020-11-09",
                    "2020-11-10",
                    "2020-11-11",
                    "2020-11-12",
                    "2020-11-13",
                    "2020-11-14",
                    "2020-11-15",
                    "2020-11-16",
                    "2020-11-17",
                    "2020-11-18",
                    "2020-11-19",
                    "2020-11-20",
                    "2020-11-21",
                    "2020-11-22",
                    "2020-11-23",
                    "2020-11-24",
                    "2020-11-25",
                    "2020-11-26",
                    "2020-11-27",
                    "2020-11-28",
                    "2020-11-29",
                    "2020-11-30",
                    "2020-12-01",
                    "2020-12-02",
                    "2020-12-03",
                    "2020-12-04",
                    "2020-12-05",
                    "2020-12-06",
                    "2020-12-07",
                    "2020-12-08",
                    "2020-12-09",
                    "2020-12-10",
                    "2020-12-11",
                    "2020-12-12",
                    "2020-12-13",
                    "2020-12-14",
                    "2020-12-15",
                    "2020-12-16",
                    "2020-12-17",
                    "2020-12-18",
                    "2020-12-19",
                    "2020-12-20",
                    "2020-12-21",
                    "2020-12-22",
                    "2020-12-23",
                    "2020-12-24",
                    "2020-12-25",
                    "2020-12-26",
                    "2020-12-27",
                    "2020-12-28",
                    "2020-12-29",
                    "2020-12-30",
                    "2020-12-31",
                    "2021-01-01",
                    "2021-01-02",
                    "2021-01-03",
                    "2021-01-04",
                    "2021-01-05",
                    "2021-01-06",
                    "2021-01-07",
                    "2021-01-08",
                    "2021-01-09",
                    "2021-01-10",
                    "2021-01-11",
                    "2021-01-12",
                    "2021-01-13",
                    "2021-01-14",
                    "2021-01-15",
                    "2021-01-16",
                    "2021-01-17",
                    "2021-01-18",
                    "2021-01-19",
                    "2021-01-20",
                    "2021-01-21",
                    "2021-01-22",
                    "2021-01-23",
                    "2021-01-24",
                    "2021-01-25",
                    "2021-01-26",
                    "2021-01-27",
                    "2021-01-28",
                    "2021-01-29",
                    "2021-01-30",
                    "2021-01-31",
                    "2021-02-01",
                    "2021-02-02",
                    "2021-02-03",
                    "2021-02-04",
                    "2021-02-05",
                    "2021-02-06",
                    "2021-02-07",
                    "2021-02-08",
                    "2021-02-09",
                    "2021-02-10",
                    "2021-02-11",
                    "2021-02-12",
                    "2021-02-13",
                    "2021-02-14",
                    "2021-02-15",
                    "2021-02-16",
                    "2021-02-17",
                    "2021-02-18",
                    "2021-02-19",
                    "2021-02-20",
                    "2021-02-21",
                    "2021-02-22",
                    "2021-02-23",
                    "2021-02-24",
                    "2021-02-25",
                    "2021-02-26",
                    "2021-02-27",
                    "2021-02-28",
                    "2021-03-01",
                    "2021-03-02",
                    "2021-03-03",
                    "2021-03-04",
                    "2021-03-05",
                    "2021-03-06",
                    "2021-03-07",
                    "2021-03-08",
                    "2021-03-09",
                    "2021-03-10",
                    "2021-03-11",
                    "2021-03-12",
                    "2021-03-13",
                    "2021-03-14",
                    "2021-03-15",
                    "2021-03-16",
                    "2021-03-17",
                    "2021-03-18",
                    "2021-03-19",
                    "2021-03-20",
                    "2021-03-21",
                    "2021-03-22",
                    "2021-03-23",
                    "2021-03-24",
                    "2021-03-25",
                    "2021-03-26",
                    "2021-03-27",
                    "2021-03-28",
                    "2021-03-29",
                    "2021-03-30",
                    "2021-03-31",
                    "2021-04-01",
                    "2021-04-02",
                    "2021-04-03",
                    "2021-04-04",
                    "2021-04-05",
                    "2021-04-06",
                    "2021-04-07",
                    "2021-04-08",
                    "2021-04-09",
                    "2021-04-10",
                    "2021-04-11",
                    "2021-04-12",
                    "2021-04-13",
                    "2021-04-14",
                    "2021-04-15",
                    "2021-04-16",
                    "2021-04-17",
                    "2021-04-18",
                    "2021-04-19",
                    "2021-04-20",
                    "2021-04-21",
                    "2021-04-22",
                    "2021-04-23",
                    "2021-04-24",
                    "2021-04-25",
                    "2021-04-26",
                    "2021-04-27",
                    "2021-04-28",
                    "2021-04-29",
                    "2021-04-30",
                    "2021-05-01",
                    "2021-05-02",
                    "2021-05-03",
                    "2021-05-04",
                    "2021-05-05",
                    "2021-05-06",
                    "2021-05-07",
                    "2021-05-08",
                    "2021-05-09",
                    "2021-05-10",
                    "2021-05-11",
                    "2021-05-12",
                    "2021-05-13",
                    "2021-05-14",
                    "2021-05-15",
                    "2021-05-16",
                    "2021-05-17",
                    "2021-05-18",
                    "2021-05-19",
                    "2021-05-20",
                    "2021-05-21",
                    "2021-05-22",
                    "2021-05-23"
                  ],
                  "line": {
                    "color": "rgba(255, 153, 51, 1.0)",
                    "dash": "solid",
                    "shape": "linear",
                    "width": 1.3
                  },
                  "type": "scatter"
                },
                {
                  "name": "Deaths",
                  "text": "",
                  "mode": "lines",
                  "y": [
                    17,
                    18,
                    26,
                    42,
                    56,
                    82,
                    131,
                    133,
                    171,
                    213,
                    259,
                    362,
                    426,
                    492,
                    564,
                    634,
                    719,
                    806,
                    906,
                    1013,
                    1113,
                    1118,
                    1371,
                    1523,
                    1666,
                    1770,
                    1868,
                    2008,
                    2123,
                    2248,
                    2252,
                    2459,
                    2470,
                    2630,
                    2710,
                    2771,
                    2814,
                    2873,
                    2942,
                    2996,
                    3085,
                    3160,
                    3255,
                    3349,
                    3460,
                    3564,
                    3803,
                    3993,
                    4267,
                    4611,
                    4917,
                    5414,
                    5834,
                    6475,
                    7153,
                    7967,
                    8874,
                    9985,
                    11470,
                    13192,
                    14878,
                    16827,
                    19117,
                    21927,
                    24962,
                    28450,
                    32180,
                    35699,
                    39780,
                    44528,
                    50526,
                    56413,
                    62574,
                    68488,
                    73676,
                    79614,
                    87872,
                    94683,
                    102467,
                    109845,
                    116017,
                    121876,
                    127842,
                    134812,
                    143285,
                    150544,
                    158938,
                    165083,
                    170316,
                    176188,
                    183461,
                    190325,
                    197153,
                    203923,
                    209551,
                    213530,
                    218276,
                    224854,
                    231579,
                    237421,
                    242572,
                    248067,
                    251578,
                    255791,
                    261614,
                    268119,
                    273429,
                    278981,
                    283206,
                    286765,
                    290251,
                    295736,
                    300868,
                    306037,
                    311258,
                    315434,
                    318621,
                    322384,
                    327031,
                    331810,
                    336469,
                    341713,
                    345640,
                    348656,
                    349868,
                    354110,
                    359166,
                    363718,
                    368326,
                    372350,
                    375042,
                    378115,
                    382792,
                    388224,
                    393258,
                    397836,
                    401605,
                    404345,
                    408047,
                    412821,
                    417864,
                    422504,
                    426713,
                    430829,
                    434229,
                    437645,
                    444355,
                    449502,
                    454412,
                    460478,
                    464587,
                    468601,
                    472163,
                    477380,
                    482555,
                    487247,
                    491995,
                    496458,
                    499624,
                    503302,
                    508187,
                    513132,
                    518207,
                    523134,
                    527538,
                    531027,
                    534872,
                    540839,
                    546114,
                    551521,
                    556820,
                    561638,
                    565625,
                    569536,
                    575133,
                    580579,
                    586351,
                    593019,
                    598616,
                    602700,
                    606911,
                    613080,
                    620026,
                    629914,
                    635944,
                    641513,
                    645226,
                    650409,
                    656674,
                    663281,
                    669331,
                    675517,
                    680972,
                    685298,
                    689984,
                    696514,
                    703565,
                    710056,
                    716344,
                    721758,
                    726331,
                    731683,
                    737882,
                    744450,
                    750664,
                    760803,
                    766159,
                    770423,
                    774604,
                    781411,
                    788138,
                    794210,
                    799648,
                    805146,
                    809100,
                    813606,
                    819892,
                    826118,
                    832014,
                    837543,
                    842865,
                    846910,
                    851087,
                    857486,
                    863595,
                    869279,
                    875148,
                    880088,
                    883934,
                    893308,
                    898221,
                    904326,
                    910130,
                    915981,
                    920862,
                    924577,
                    929017,
                    935443,
                    941223,
                    946691,
                    952359,
                    957638,
                    961377,
                    965479,
                    971451,
                    977061,
                    983715,
                    989618,
                    994963,
                    998650,
                    1002625,
                    1008528,
                    1014992,
                    1023707,
                    1028643,
                    1034007,
                    1037846,
                    1044792,
                    1050568,
                    1056404,
                    1062682,
                    1068832,
                    1073714,
                    1077747,
                    1081730,
                    1087016,
                    1093089,
                    1099204,
                    1105389,
                    1110986,
                    1114528,
                    1119364,
                    1125918,
                    1132548,
                    1138483,
                    1145454,
                    1151271,
                    1155482,
                    1160999,
                    1168371,
                    1175531,
                    1182617,
                    1190216,
                    1196794,
                    1201804,
                    1207908,
                    1217253,
                    1227504,
                    1235518,
                    1245179,
                    1252779,
                    1258654,
                    1265877,
                    1275870,
                    1286321,
                    1296087,
                    1305675,
                    1314757,
                    1321182,
                    1329136,
                    1340207,
                    1351621,
                    1362654,
                    1374541,
                    1383513,
                    1390708,
                    1399234,
                    1411894,
                    1424025,
                    1434913,
                    1446300,
                    1455583,
                    1462743,
                    1471623,
                    1484309,
                    1496898,
                    1509473,
                    1521993,
                    1532282,
                    1539710,
                    1548425,
                    1560705,
                    1573425,
                    1586121,
                    1599149,
                    1609694,
                    1617153,
                    1626325,
                    1640278,
                    1653937,
                    1667387,
                    1680177,
                    1690949,
                    1698864,
                    1708511,
                    1722824,
                    1736627,
                    1748258,
                    1756860,
                    1764259,
                    1771658,
                    1781414,
                    1796580,
                    1811842,
                    1825011,
                    1834674,
                    1843107,
                    1850448,
                    1860597,
                    1875932,
                    1890985,
                    1905924,
                    1921090,
                    1933875,
                    1942223,
                    1952547,
                    1969651,
                    1986357,
                    2001728,
                    2016839,
                    2030087,
                    2038751,
                    2048177,
                    2064760,
                    2082666,
                    2099455,
                    2115476,
                    2128770,
                    2137738,
                    2148506,
                    2165814,
                    2182494,
                    2199545,
                    2214492,
                    2228078,
                    2236068,
                    2246286,
                    2261122,
                    2276850,
                    2289384,
                    2305955,
                    2316092,
                    2324078,
                    2332410,
                    2347947,
                    2361350,
                    2374824,
                    2387297,
                    2397102,
                    2403464,
                    2410358,
                    2421276,
                    2432615,
                    2443985,
                    2455033,
                    2463545,
                    2469425,
                    2476374,
                    2487554,
                    2499557,
                    2509722,
                    2519972,
                    2528112,
                    2533546,
                    2540755,
                    2551189,
                    2562262,
                    2572040,
                    2582057,
                    2589889,
                    2595163,
                    2602023,
                    2612004,
                    2621695,
                    2631462,
                    2641090,
                    2649075,
                    2654574,
                    2661395,
                    2671285,
                    2681410,
                    2691983,
                    2702382,
                    2710428,
                    2716229,
                    2723724,
                    2734830,
                    2744552,
                    2755891,
                    2768112,
                    2777949,
                    2784429,
                    2792392,
                    2803965,
                    2816242,
                    2828117,
                    2838376,
                    2846773,
                    2853703,
                    2861177,
                    2873004,
                    2887852,
                    2902504,
                    2915926,
                    2928340,
                    2936914,
                    2946221,
                    2959562,
                    2973111,
                    2986323,
                    2999160,
                    3011182,
                    3019805,
                    3030312,
                    3044512,
                    3058629,
                    3072373,
                    3086732,
                    3100020,
                    3109692,
                    3120861,
                    3135357,
                    3151086,
                    3166087,
                    3180360,
                    3192930,
                    3202879,
                    3213959,
                    3227862,
                    3242064,
                    3256307,
                    3270043,
                    3283220,
                    3293122,
                    3303890,
                    3317511,
                    3331446,
                    3344581,
                    3357710,
                    3369359,
                    3379449,
                    3390089,
                    3404338,
                    3417682,
                    3430326,
                    3442873,
                    3454000,
                    3463813
                  ],
                  "x": [
                    "2020-01-22",
                    "2020-01-23",
                    "2020-01-24",
                    "2020-01-25",
                    "2020-01-26",
                    "2020-01-27",
                    "2020-01-28",
                    "2020-01-29",
                    "2020-01-30",
                    "2020-01-31",
                    "2020-02-01",
                    "2020-02-02",
                    "2020-02-03",
                    "2020-02-04",
                    "2020-02-05",
                    "2020-02-06",
                    "2020-02-07",
                    "2020-02-08",
                    "2020-02-09",
                    "2020-02-10",
                    "2020-02-11",
                    "2020-02-12",
                    "2020-02-13",
                    "2020-02-14",
                    "2020-02-15",
                    "2020-02-16",
                    "2020-02-17",
                    "2020-02-18",
                    "2020-02-19",
                    "2020-02-20",
                    "2020-02-21",
                    "2020-02-22",
                    "2020-02-23",
                    "2020-02-24",
                    "2020-02-25",
                    "2020-02-26",
                    "2020-02-27",
                    "2020-02-28",
                    "2020-02-29",
                    "2020-03-01",
                    "2020-03-02",
                    "2020-03-03",
                    "2020-03-04",
                    "2020-03-05",
                    "2020-03-06",
                    "2020-03-07",
                    "2020-03-08",
                    "2020-03-09",
                    "2020-03-10",
                    "2020-03-11",
                    "2020-03-12",
                    "2020-03-13",
                    "2020-03-14",
                    "2020-03-15",
                    "2020-03-16",
                    "2020-03-17",
                    "2020-03-18",
                    "2020-03-19",
                    "2020-03-20",
                    "2020-03-21",
                    "2020-03-22",
                    "2020-03-23",
                    "2020-03-24",
                    "2020-03-25",
                    "2020-03-26",
                    "2020-03-27",
                    "2020-03-28",
                    "2020-03-29",
                    "2020-03-30",
                    "2020-03-31",
                    "2020-04-01",
                    "2020-04-02",
                    "2020-04-03",
                    "2020-04-04",
                    "2020-04-05",
                    "2020-04-06",
                    "2020-04-07",
                    "2020-04-08",
                    "2020-04-09",
                    "2020-04-10",
                    "2020-04-11",
                    "2020-04-12",
                    "2020-04-13",
                    "2020-04-14",
                    "2020-04-15",
                    "2020-04-16",
                    "2020-04-17",
                    "2020-04-18",
                    "2020-04-19",
                    "2020-04-20",
                    "2020-04-21",
                    "2020-04-22",
                    "2020-04-23",
                    "2020-04-24",
                    "2020-04-25",
                    "2020-04-26",
                    "2020-04-27",
                    "2020-04-28",
                    "2020-04-29",
                    "2020-04-30",
                    "2020-05-01",
                    "2020-05-02",
                    "2020-05-03",
                    "2020-05-04",
                    "2020-05-05",
                    "2020-05-06",
                    "2020-05-07",
                    "2020-05-08",
                    "2020-05-09",
                    "2020-05-10",
                    "2020-05-11",
                    "2020-05-12",
                    "2020-05-13",
                    "2020-05-14",
                    "2020-05-15",
                    "2020-05-16",
                    "2020-05-17",
                    "2020-05-18",
                    "2020-05-19",
                    "2020-05-20",
                    "2020-05-21",
                    "2020-05-22",
                    "2020-05-23",
                    "2020-05-24",
                    "2020-05-25",
                    "2020-05-26",
                    "2020-05-27",
                    "2020-05-28",
                    "2020-05-29",
                    "2020-05-30",
                    "2020-05-31",
                    "2020-06-01",
                    "2020-06-02",
                    "2020-06-03",
                    "2020-06-04",
                    "2020-06-05",
                    "2020-06-06",
                    "2020-06-07",
                    "2020-06-08",
                    "2020-06-09",
                    "2020-06-10",
                    "2020-06-11",
                    "2020-06-12",
                    "2020-06-13",
                    "2020-06-14",
                    "2020-06-15",
                    "2020-06-16",
                    "2020-06-17",
                    "2020-06-18",
                    "2020-06-19",
                    "2020-06-20",
                    "2020-06-21",
                    "2020-06-22",
                    "2020-06-23",
                    "2020-06-24",
                    "2020-06-25",
                    "2020-06-26",
                    "2020-06-27",
                    "2020-06-28",
                    "2020-06-29",
                    "2020-06-30",
                    "2020-07-01",
                    "2020-07-02",
                    "2020-07-03",
                    "2020-07-04",
                    "2020-07-05",
                    "2020-07-06",
                    "2020-07-07",
                    "2020-07-08",
                    "2020-07-09",
                    "2020-07-10",
                    "2020-07-11",
                    "2020-07-12",
                    "2020-07-13",
                    "2020-07-14",
                    "2020-07-15",
                    "2020-07-16",
                    "2020-07-17",
                    "2020-07-18",
                    "2020-07-19",
                    "2020-07-20",
                    "2020-07-21",
                    "2020-07-22",
                    "2020-07-23",
                    "2020-07-24",
                    "2020-07-25",
                    "2020-07-26",
                    "2020-07-27",
                    "2020-07-28",
                    "2020-07-29",
                    "2020-07-30",
                    "2020-07-31",
                    "2020-08-01",
                    "2020-08-02",
                    "2020-08-03",
                    "2020-08-04",
                    "2020-08-05",
                    "2020-08-06",
                    "2020-08-07",
                    "2020-08-08",
                    "2020-08-09",
                    "2020-08-10",
                    "2020-08-11",
                    "2020-08-12",
                    "2020-08-13",
                    "2020-08-14",
                    "2020-08-15",
                    "2020-08-16",
                    "2020-08-17",
                    "2020-08-18",
                    "2020-08-19",
                    "2020-08-20",
                    "2020-08-21",
                    "2020-08-22",
                    "2020-08-23",
                    "2020-08-24",
                    "2020-08-25",
                    "2020-08-26",
                    "2020-08-27",
                    "2020-08-28",
                    "2020-08-29",
                    "2020-08-30",
                    "2020-08-31",
                    "2020-09-01",
                    "2020-09-02",
                    "2020-09-03",
                    "2020-09-04",
                    "2020-09-05",
                    "2020-09-06",
                    "2020-09-07",
                    "2020-09-08",
                    "2020-09-09",
                    "2020-09-10",
                    "2020-09-11",
                    "2020-09-12",
                    "2020-09-13",
                    "2020-09-14",
                    "2020-09-15",
                    "2020-09-16",
                    "2020-09-17",
                    "2020-09-18",
                    "2020-09-19",
                    "2020-09-20",
                    "2020-09-21",
                    "2020-09-22",
                    "2020-09-23",
                    "2020-09-24",
                    "2020-09-25",
                    "2020-09-26",
                    "2020-09-27",
                    "2020-09-28",
                    "2020-09-29",
                    "2020-09-30",
                    "2020-10-01",
                    "2020-10-02",
                    "2020-10-03",
                    "2020-10-04",
                    "2020-10-05",
                    "2020-10-06",
                    "2020-10-07",
                    "2020-10-08",
                    "2020-10-09",
                    "2020-10-10",
                    "2020-10-11",
                    "2020-10-12",
                    "2020-10-13",
                    "2020-10-14",
                    "2020-10-15",
                    "2020-10-16",
                    "2020-10-17",
                    "2020-10-18",
                    "2020-10-19",
                    "2020-10-20",
                    "2020-10-21",
                    "2020-10-22",
                    "2020-10-23",
                    "2020-10-24",
                    "2020-10-25",
                    "2020-10-26",
                    "2020-10-27",
                    "2020-10-28",
                    "2020-10-29",
                    "2020-10-30",
                    "2020-10-31",
                    "2020-11-01",
                    "2020-11-02",
                    "2020-11-03",
                    "2020-11-04",
                    "2020-11-05",
                    "2020-11-06",
                    "2020-11-07",
                    "2020-11-08",
                    "2020-11-09",
                    "2020-11-10",
                    "2020-11-11",
                    "2020-11-12",
                    "2020-11-13",
                    "2020-11-14",
                    "2020-11-15",
                    "2020-11-16",
                    "2020-11-17",
                    "2020-11-18",
                    "2020-11-19",
                    "2020-11-20",
                    "2020-11-21",
                    "2020-11-22",
                    "2020-11-23",
                    "2020-11-24",
                    "2020-11-25",
                    "2020-11-26",
                    "2020-11-27",
                    "2020-11-28",
                    "2020-11-29",
                    "2020-11-30",
                    "2020-12-01",
                    "2020-12-02",
                    "2020-12-03",
                    "2020-12-04",
                    "2020-12-05",
                    "2020-12-06",
                    "2020-12-07",
                    "2020-12-08",
                    "2020-12-09",
                    "2020-12-10",
                    "2020-12-11",
                    "2020-12-12",
                    "2020-12-13",
                    "2020-12-14",
                    "2020-12-15",
                    "2020-12-16",
                    "2020-12-17",
                    "2020-12-18",
                    "2020-12-19",
                    "2020-12-20",
                    "2020-12-21",
                    "2020-12-22",
                    "2020-12-23",
                    "2020-12-24",
                    "2020-12-25",
                    "2020-12-26",
                    "2020-12-27",
                    "2020-12-28",
                    "2020-12-29",
                    "2020-12-30",
                    "2020-12-31",
                    "2021-01-01",
                    "2021-01-02",
                    "2021-01-03",
                    "2021-01-04",
                    "2021-01-05",
                    "2021-01-06",
                    "2021-01-07",
                    "2021-01-08",
                    "2021-01-09",
                    "2021-01-10",
                    "2021-01-11",
                    "2021-01-12",
                    "2021-01-13",
                    "2021-01-14",
                    "2021-01-15",
                    "2021-01-16",
                    "2021-01-17",
                    "2021-01-18",
                    "2021-01-19",
                    "2021-01-20",
                    "2021-01-21",
                    "2021-01-22",
                    "2021-01-23",
                    "2021-01-24",
                    "2021-01-25",
                    "2021-01-26",
                    "2021-01-27",
                    "2021-01-28",
                    "2021-01-29",
                    "2021-01-30",
                    "2021-01-31",
                    "2021-02-01",
                    "2021-02-02",
                    "2021-02-03",
                    "2021-02-04",
                    "2021-02-05",
                    "2021-02-06",
                    "2021-02-07",
                    "2021-02-08",
                    "2021-02-09",
                    "2021-02-10",
                    "2021-02-11",
                    "2021-02-12",
                    "2021-02-13",
                    "2021-02-14",
                    "2021-02-15",
                    "2021-02-16",
                    "2021-02-17",
                    "2021-02-18",
                    "2021-02-19",
                    "2021-02-20",
                    "2021-02-21",
                    "2021-02-22",
                    "2021-02-23",
                    "2021-02-24",
                    "2021-02-25",
                    "2021-02-26",
                    "2021-02-27",
                    "2021-02-28",
                    "2021-03-01",
                    "2021-03-02",
                    "2021-03-03",
                    "2021-03-04",
                    "2021-03-05",
                    "2021-03-06",
                    "2021-03-07",
                    "2021-03-08",
                    "2021-03-09",
                    "2021-03-10",
                    "2021-03-11",
                    "2021-03-12",
                    "2021-03-13",
                    "2021-03-14",
                    "2021-03-15",
                    "2021-03-16",
                    "2021-03-17",
                    "2021-03-18",
                    "2021-03-19",
                    "2021-03-20",
                    "2021-03-21",
                    "2021-03-22",
                    "2021-03-23",
                    "2021-03-24",
                    "2021-03-25",
                    "2021-03-26",
                    "2021-03-27",
                    "2021-03-28",
                    "2021-03-29",
                    "2021-03-30",
                    "2021-03-31",
                    "2021-04-01",
                    "2021-04-02",
                    "2021-04-03",
                    "2021-04-04",
                    "2021-04-05",
                    "2021-04-06",
                    "2021-04-07",
                    "2021-04-08",
                    "2021-04-09",
                    "2021-04-10",
                    "2021-04-11",
                    "2021-04-12",
                    "2021-04-13",
                    "2021-04-14",
                    "2021-04-15",
                    "2021-04-16",
                    "2021-04-17",
                    "2021-04-18",
                    "2021-04-19",
                    "2021-04-20",
                    "2021-04-21",
                    "2021-04-22",
                    "2021-04-23",
                    "2021-04-24",
                    "2021-04-25",
                    "2021-04-26",
                    "2021-04-27",
                    "2021-04-28",
                    "2021-04-29",
                    "2021-04-30",
                    "2021-05-01",
                    "2021-05-02",
                    "2021-05-03",
                    "2021-05-04",
                    "2021-05-05",
                    "2021-05-06",
                    "2021-05-07",
                    "2021-05-08",
                    "2021-05-09",
                    "2021-05-10",
                    "2021-05-11",
                    "2021-05-12",
                    "2021-05-13",
                    "2021-05-14",
                    "2021-05-15",
                    "2021-05-16",
                    "2021-05-17",
                    "2021-05-18",
                    "2021-05-19",
                    "2021-05-20",
                    "2021-05-21",
                    "2021-05-22",
                    "2021-05-23"
                  ],
                  "line": {
                    "color": "rgba(55, 128, 191, 1.0)",
                    "dash": "solid",
                    "shape": "linear",
                    "width": 1.3
                  },
                  "type": "scatter"
                },
                {
                  "name": "Recovered",
                  "text": "",
                  "mode": "lines",
                  "y": [
                    30,
                    32,
                    39,
                    42,
                    56,
                    65,
                    108,
                    127,
                    145,
                    225,
                    287,
                    476,
                    627,
                    857,
                    1129,
                    1492,
                    2016,
                    2616,
                    3245,
                    3947,
                    4684,
                    5151,
                    6294,
                    8057,
                    9396,
                    10866,
                    12583,
                    14352,
                    16121,
                    18179,
                    18892,
                    22889,
                    23394,
                    25227,
                    27905,
                    30386,
                    33278,
                    36710,
                    39781,
                    42717,
                    45601,
                    48227,
                    51169,
                    53795,
                    55863,
                    58357,
                    60694,
                    62493,
                    64400,
                    66998,
                    68321,
                    70248,
                    72620,
                    76031,
                    78086,
                    80830,
                    83317,
                    84958,
                    87403,
                    91650,
                    97867,
                    98335,
                    107974,
                    113753,
                    122125,
                    130910,
                    139421,
                    148877,
                    164214,
                    177804,
                    193076,
                    210219,
                    225641,
                    246053,
                    259889,
                    276598,
                    299860,
                    328742,
                    353996,
                    375734,
                    401984,
                    421367,
                    448624,
                    473698,
                    510237,
                    541120,
                    567304,
                    591170,
                    622953,
                    645131,
                    679933,
                    710018,
                    738748,
                    788777,
                    816532,
                    845344,
                    873228,
                    906440,
                    948517,
                    1013633,
                    1051790,
                    1092441,
                    1124974,
                    1159060,
                    1195533,
                    1241652,
                    1281177,
                    1317590,
                    1371031,
                    1404840,
                    1451725,
                    1488767,
                    1544639,
                    1584350,
                    1632453,
                    1688864,
                    1729872,
                    1782788,
                    1834840,
                    1893810,
                    1945030,
                    2053577,
                    2108411,
                    2163938,
                    2227667,
                    2282819,
                    2346146,
                    2413009,
                    2490274,
                    2560724,
                    2637108,
                    2692033,
                    2796145,
                    2875236,
                    2945306,
                    3014471,
                    3086675,
                    3141784,
                    3293395,
                    3375665,
                    3454836,
                    3540715,
                    3620435,
                    3706327,
                    3777146,
                    3857421,
                    3955284,
                    4074115,
                    4155278,
                    4250268,
                    4366122,
                    4434808,
                    4526441,
                    4630496,
                    4746247,
                    4839131,
                    4945111,
                    5051397,
                    5140600,
                    5235171,
                    5352511,
                    5468425,
                    5753359,
                    5863247,
                    6059007,
                    6178370,
                    6302069,
                    6447102,
                    6605158,
                    6739776,
                    6879222,
                    7004914,
                    7116750,
                    7257073,
                    7399325,
                    7559131,
                    7711616,
                    7895037,
                    8045824,
                    8133882,
                    8293010,
                    8467706,
                    8647438,
                    8823668,
                    9051968,
                    9271780,
                    9415081,
                    9586464,
                    9756922,
                    9959508,
                    10173027,
                    10372633,
                    10553544,
                    10692268,
                    10914713,
                    11138370,
                    11360065,
                    11548872,
                    11740918,
                    11941162,
                    12119940,
                    12284151,
                    12589219,
                    12829864,
                    12993780,
                    13277022,
                    13445626,
                    13678580,
                    13889592,
                    14117187,
                    14335184,
                    14542974,
                    14711468,
                    14921385,
                    15137916,
                    15337337,
                    15568886,
                    15794620,
                    16001857,
                    16200975,
                    16412388,
                    16622628,
                    16823418,
                    17081380,
                    17300617,
                    17521986,
                    17735487,
                    17936475,
                    18148266,
                    18345814,
                    18547611,
                    18787878,
                    19004539,
                    19228209,
                    19451143,
                    19638991,
                    19867490,
                    20093777,
                    20323254,
                    20543465,
                    20794614,
                    21031599,
                    21268676,
                    21514154,
                    21733547,
                    21996960,
                    22252630,
                    22491838,
                    22753981,
                    22967860,
                    23190402,
                    23431686,
                    23679904,
                    23901446,
                    24073731,
                    24329332,
                    24551491,
                    24788959,
                    25021585,
                    25276776,
                    25496282,
                    25703072,
                    25898477,
                    26121117,
                    26321236,
                    26513681,
                    26725966,
                    26933293,
                    27136307,
                    27334590,
                    27536101,
                    27738632,
                    27950079,
                    28161301,
                    28388094,
                    28594828,
                    28806409,
                    29003667,
                    29242802,
                    29832507,
                    30098469,
                    30345220,
                    30600994,
                    30845323,
                    31103270,
                    31383407,
                    31634980,
                    31914299,
                    32217954,
                    32506315,
                    32805331,
                    33058571,
                    33315624,
                    33572984,
                    33953208,
                    34179447,
                    34481579,
                    34759398,
                    34990158,
                    35380888,
                    35814479,
                    36177589,
                    36551888,
                    36907312,
                    37246582,
                    37520306,
                    37931519,
                    38303698,
                    38741108,
                    39107984,
                    39489610,
                    39849316,
                    40167599,
                    40569855,
                    41046059,
                    41508985,
                    41935969,
                    42426586,
                    42862534,
                    43178578,
                    43591717,
                    44032488,
                    44458968,
                    44950194,
                    45428334,
                    46933277,
                    47328396,
                    41338399,
                    41696563,
                    42058783,
                    42434192,
                    42751920,
                    43103506,
                    43380335,
                    43723555,
                    44086740,
                    44410880,
                    44725552,
                    45017158,
                    45425322,
                    45717710,
                    46016136,
                    46369231,
                    46757476,
                    47032627,
                    47313005,
                    47614297,
                    47882779,
                    48173187,
                    48488548,
                    48801673,
                    49125604,
                    49422867,
                    49753112,
                    50023662,
                    50313950,
                    50657507,
                    51023568,
                    51396413,
                    51717035,
                    52034090,
                    52349805,
                    52668558,
                    53071502,
                    53399273,
                    53765412,
                    54147169,
                    54463662,
                    54774619,
                    55089060,
                    55418603,
                    55759372,
                    56075031,
                    56439138,
                    56790304,
                    57079203,
                    57351845,
                    57702035,
                    58031882,
                    58325871,
                    58607158,
                    58901715,
                    59179150,
                    59411984,
                    59783592,
                    60052900,
                    60328985,
                    60616584,
                    60862827,
                    61058258,
                    61346871,
                    61582276,
                    61876217,
                    62112835,
                    62347471,
                    62616687,
                    62833944,
                    63016514,
                    63295144,
                    63504603,
                    63732295,
                    63992563,
                    64243285,
                    64418462,
                    64633388,
                    64903492,
                    65132900,
                    65383180,
                    65609540,
                    65846043,
                    66084363,
                    66358921,
                    66621154,
                    66856510,
                    67129127,
                    67397683,
                    67650215,
                    67895903,
                    68185782,
                    68452267,
                    68716803,
                    68985879,
                    69264940,
                    69523151,
                    69803250,
                    70137879,
                    70451021,
                    70786663,
                    71098480,
                    71463066,
                    71768319,
                    72097107,
                    72401543,
                    72736786,
                    73119295,
                    73464081,
                    73784288,
                    74150289,
                    74498477,
                    74846290,
                    75216286,
                    75699591,
                    76094850,
                    76548563,
                    76933557,
                    77464029,
                    77858761,
                    78345223,
                    78792113,
                    79236515,
                    79740632,
                    80259168,
                    80839359,
                    81374734,
                    81979571,
                    82491871,
                    83128167,
                    83767999,
                    84344290,
                    84878104,
                    85565470,
                    86246374,
                    86843039,
                    87550355,
                    88236951,
                    88919401,
                    89612415,
                    90255904,
                    90912804,
                    91626286,
                    92301898,
                    92998027,
                    93709032,
                    94371825,
                    95000511,
                    95751515,
                    96399064,
                    97089181,
                    97754528,
                    98397065,
                    99064469,
                    99808931,
                    100552044,
                    101250071,
                    101886760,
                    102496978,
                    103110386,
                    103620280
                  ],
                  "x": [
                    "2020-01-22",
                    "2020-01-23",
                    "2020-01-24",
                    "2020-01-25",
                    "2020-01-26",
                    "2020-01-27",
                    "2020-01-28",
                    "2020-01-29",
                    "2020-01-30",
                    "2020-01-31",
                    "2020-02-01",
                    "2020-02-02",
                    "2020-02-03",
                    "2020-02-04",
                    "2020-02-05",
                    "2020-02-06",
                    "2020-02-07",
                    "2020-02-08",
                    "2020-02-09",
                    "2020-02-10",
                    "2020-02-11",
                    "2020-02-12",
                    "2020-02-13",
                    "2020-02-14",
                    "2020-02-15",
                    "2020-02-16",
                    "2020-02-17",
                    "2020-02-18",
                    "2020-02-19",
                    "2020-02-20",
                    "2020-02-21",
                    "2020-02-22",
                    "2020-02-23",
                    "2020-02-24",
                    "2020-02-25",
                    "2020-02-26",
                    "2020-02-27",
                    "2020-02-28",
                    "2020-02-29",
                    "2020-03-01",
                    "2020-03-02",
                    "2020-03-03",
                    "2020-03-04",
                    "2020-03-05",
                    "2020-03-06",
                    "2020-03-07",
                    "2020-03-08",
                    "2020-03-09",
                    "2020-03-10",
                    "2020-03-11",
                    "2020-03-12",
                    "2020-03-13",
                    "2020-03-14",
                    "2020-03-15",
                    "2020-03-16",
                    "2020-03-17",
                    "2020-03-18",
                    "2020-03-19",
                    "2020-03-20",
                    "2020-03-21",
                    "2020-03-22",
                    "2020-03-23",
                    "2020-03-24",
                    "2020-03-25",
                    "2020-03-26",
                    "2020-03-27",
                    "2020-03-28",
                    "2020-03-29",
                    "2020-03-30",
                    "2020-03-31",
                    "2020-04-01",
                    "2020-04-02",
                    "2020-04-03",
                    "2020-04-04",
                    "2020-04-05",
                    "2020-04-06",
                    "2020-04-07",
                    "2020-04-08",
                    "2020-04-09",
                    "2020-04-10",
                    "2020-04-11",
                    "2020-04-12",
                    "2020-04-13",
                    "2020-04-14",
                    "2020-04-15",
                    "2020-04-16",
                    "2020-04-17",
                    "2020-04-18",
                    "2020-04-19",
                    "2020-04-20",
                    "2020-04-21",
                    "2020-04-22",
                    "2020-04-23",
                    "2020-04-24",
                    "2020-04-25",
                    "2020-04-26",
                    "2020-04-27",
                    "2020-04-28",
                    "2020-04-29",
                    "2020-04-30",
                    "2020-05-01",
                    "2020-05-02",
                    "2020-05-03",
                    "2020-05-04",
                    "2020-05-05",
                    "2020-05-06",
                    "2020-05-07",
                    "2020-05-08",
                    "2020-05-09",
                    "2020-05-10",
                    "2020-05-11",
                    "2020-05-12",
                    "2020-05-13",
                    "2020-05-14",
                    "2020-05-15",
                    "2020-05-16",
                    "2020-05-17",
                    "2020-05-18",
                    "2020-05-19",
                    "2020-05-20",
                    "2020-05-21",
                    "2020-05-22",
                    "2020-05-23",
                    "2020-05-24",
                    "2020-05-25",
                    "2020-05-26",
                    "2020-05-27",
                    "2020-05-28",
                    "2020-05-29",
                    "2020-05-30",
                    "2020-05-31",
                    "2020-06-01",
                    "2020-06-02",
                    "2020-06-03",
                    "2020-06-04",
                    "2020-06-05",
                    "2020-06-06",
                    "2020-06-07",
                    "2020-06-08",
                    "2020-06-09",
                    "2020-06-10",
                    "2020-06-11",
                    "2020-06-12",
                    "2020-06-13",
                    "2020-06-14",
                    "2020-06-15",
                    "2020-06-16",
                    "2020-06-17",
                    "2020-06-18",
                    "2020-06-19",
                    "2020-06-20",
                    "2020-06-21",
                    "2020-06-22",
                    "2020-06-23",
                    "2020-06-24",
                    "2020-06-25",
                    "2020-06-26",
                    "2020-06-27",
                    "2020-06-28",
                    "2020-06-29",
                    "2020-06-30",
                    "2020-07-01",
                    "2020-07-02",
                    "2020-07-03",
                    "2020-07-04",
                    "2020-07-05",
                    "2020-07-06",
                    "2020-07-07",
                    "2020-07-08",
                    "2020-07-09",
                    "2020-07-10",
                    "2020-07-11",
                    "2020-07-12",
                    "2020-07-13",
                    "2020-07-14",
                    "2020-07-15",
                    "2020-07-16",
                    "2020-07-17",
                    "2020-07-18",
                    "2020-07-19",
                    "2020-07-20",
                    "2020-07-21",
                    "2020-07-22",
                    "2020-07-23",
                    "2020-07-24",
                    "2020-07-25",
                    "2020-07-26",
                    "2020-07-27",
                    "2020-07-28",
                    "2020-07-29",
                    "2020-07-30",
                    "2020-07-31",
                    "2020-08-01",
                    "2020-08-02",
                    "2020-08-03",
                    "2020-08-04",
                    "2020-08-05",
                    "2020-08-06",
                    "2020-08-07",
                    "2020-08-08",
                    "2020-08-09",
                    "2020-08-10",
                    "2020-08-11",
                    "2020-08-12",
                    "2020-08-13",
                    "2020-08-14",
                    "2020-08-15",
                    "2020-08-16",
                    "2020-08-17",
                    "2020-08-18",
                    "2020-08-19",
                    "2020-08-20",
                    "2020-08-21",
                    "2020-08-22",
                    "2020-08-23",
                    "2020-08-24",
                    "2020-08-25",
                    "2020-08-26",
                    "2020-08-27",
                    "2020-08-28",
                    "2020-08-29",
                    "2020-08-30",
                    "2020-08-31",
                    "2020-09-01",
                    "2020-09-02",
                    "2020-09-03",
                    "2020-09-04",
                    "2020-09-05",
                    "2020-09-06",
                    "2020-09-07",
                    "2020-09-08",
                    "2020-09-09",
                    "2020-09-10",
                    "2020-09-11",
                    "2020-09-12",
                    "2020-09-13",
                    "2020-09-14",
                    "2020-09-15",
                    "2020-09-16",
                    "2020-09-17",
                    "2020-09-18",
                    "2020-09-19",
                    "2020-09-20",
                    "2020-09-21",
                    "2020-09-22",
                    "2020-09-23",
                    "2020-09-24",
                    "2020-09-25",
                    "2020-09-26",
                    "2020-09-27",
                    "2020-09-28",
                    "2020-09-29",
                    "2020-09-30",
                    "2020-10-01",
                    "2020-10-02",
                    "2020-10-03",
                    "2020-10-04",
                    "2020-10-05",
                    "2020-10-06",
                    "2020-10-07",
                    "2020-10-08",
                    "2020-10-09",
                    "2020-10-10",
                    "2020-10-11",
                    "2020-10-12",
                    "2020-10-13",
                    "2020-10-14",
                    "2020-10-15",
                    "2020-10-16",
                    "2020-10-17",
                    "2020-10-18",
                    "2020-10-19",
                    "2020-10-20",
                    "2020-10-21",
                    "2020-10-22",
                    "2020-10-23",
                    "2020-10-24",
                    "2020-10-25",
                    "2020-10-26",
                    "2020-10-27",
                    "2020-10-28",
                    "2020-10-29",
                    "2020-10-30",
                    "2020-10-31",
                    "2020-11-01",
                    "2020-11-02",
                    "2020-11-03",
                    "2020-11-04",
                    "2020-11-05",
                    "2020-11-06",
                    "2020-11-07",
                    "2020-11-08",
                    "2020-11-09",
                    "2020-11-10",
                    "2020-11-11",
                    "2020-11-12",
                    "2020-11-13",
                    "2020-11-14",
                    "2020-11-15",
                    "2020-11-16",
                    "2020-11-17",
                    "2020-11-18",
                    "2020-11-19",
                    "2020-11-20",
                    "2020-11-21",
                    "2020-11-22",
                    "2020-11-23",
                    "2020-11-24",
                    "2020-11-25",
                    "2020-11-26",
                    "2020-11-27",
                    "2020-11-28",
                    "2020-11-29",
                    "2020-11-30",
                    "2020-12-01",
                    "2020-12-02",
                    "2020-12-03",
                    "2020-12-04",
                    "2020-12-05",
                    "2020-12-06",
                    "2020-12-07",
                    "2020-12-08",
                    "2020-12-09",
                    "2020-12-10",
                    "2020-12-11",
                    "2020-12-12",
                    "2020-12-13",
                    "2020-12-14",
                    "2020-12-15",
                    "2020-12-16",
                    "2020-12-17",
                    "2020-12-18",
                    "2020-12-19",
                    "2020-12-20",
                    "2020-12-21",
                    "2020-12-22",
                    "2020-12-23",
                    "2020-12-24",
                    "2020-12-25",
                    "2020-12-26",
                    "2020-12-27",
                    "2020-12-28",
                    "2020-12-29",
                    "2020-12-30",
                    "2020-12-31",
                    "2021-01-01",
                    "2021-01-02",
                    "2021-01-03",
                    "2021-01-04",
                    "2021-01-05",
                    "2021-01-06",
                    "2021-01-07",
                    "2021-01-08",
                    "2021-01-09",
                    "2021-01-10",
                    "2021-01-11",
                    "2021-01-12",
                    "2021-01-13",
                    "2021-01-14",
                    "2021-01-15",
                    "2021-01-16",
                    "2021-01-17",
                    "2021-01-18",
                    "2021-01-19",
                    "2021-01-20",
                    "2021-01-21",
                    "2021-01-22",
                    "2021-01-23",
                    "2021-01-24",
                    "2021-01-25",
                    "2021-01-26",
                    "2021-01-27",
                    "2021-01-28",
                    "2021-01-29",
                    "2021-01-30",
                    "2021-01-31",
                    "2021-02-01",
                    "2021-02-02",
                    "2021-02-03",
                    "2021-02-04",
                    "2021-02-05",
                    "2021-02-06",
                    "2021-02-07",
                    "2021-02-08",
                    "2021-02-09",
                    "2021-02-10",
                    "2021-02-11",
                    "2021-02-12",
                    "2021-02-13",
                    "2021-02-14",
                    "2021-02-15",
                    "2021-02-16",
                    "2021-02-17",
                    "2021-02-18",
                    "2021-02-19",
                    "2021-02-20",
                    "2021-02-21",
                    "2021-02-22",
                    "2021-02-23",
                    "2021-02-24",
                    "2021-02-25",
                    "2021-02-26",
                    "2021-02-27",
                    "2021-02-28",
                    "2021-03-01",
                    "2021-03-02",
                    "2021-03-03",
                    "2021-03-04",
                    "2021-03-05",
                    "2021-03-06",
                    "2021-03-07",
                    "2021-03-08",
                    "2021-03-09",
                    "2021-03-10",
                    "2021-03-11",
                    "2021-03-12",
                    "2021-03-13",
                    "2021-03-14",
                    "2021-03-15",
                    "2021-03-16",
                    "2021-03-17",
                    "2021-03-18",
                    "2021-03-19",
                    "2021-03-20",
                    "2021-03-21",
                    "2021-03-22",
                    "2021-03-23",
                    "2021-03-24",
                    "2021-03-25",
                    "2021-03-26",
                    "2021-03-27",
                    "2021-03-28",
                    "2021-03-29",
                    "2021-03-30",
                    "2021-03-31",
                    "2021-04-01",
                    "2021-04-02",
                    "2021-04-03",
                    "2021-04-04",
                    "2021-04-05",
                    "2021-04-06",
                    "2021-04-07",
                    "2021-04-08",
                    "2021-04-09",
                    "2021-04-10",
                    "2021-04-11",
                    "2021-04-12",
                    "2021-04-13",
                    "2021-04-14",
                    "2021-04-15",
                    "2021-04-16",
                    "2021-04-17",
                    "2021-04-18",
                    "2021-04-19",
                    "2021-04-20",
                    "2021-04-21",
                    "2021-04-22",
                    "2021-04-23",
                    "2021-04-24",
                    "2021-04-25",
                    "2021-04-26",
                    "2021-04-27",
                    "2021-04-28",
                    "2021-04-29",
                    "2021-04-30",
                    "2021-05-01",
                    "2021-05-02",
                    "2021-05-03",
                    "2021-05-04",
                    "2021-05-05",
                    "2021-05-06",
                    "2021-05-07",
                    "2021-05-08",
                    "2021-05-09",
                    "2021-05-10",
                    "2021-05-11",
                    "2021-05-12",
                    "2021-05-13",
                    "2021-05-14",
                    "2021-05-15",
                    "2021-05-16",
                    "2021-05-17",
                    "2021-05-18",
                    "2021-05-19",
                    "2021-05-20",
                    "2021-05-21",
                    "2021-05-22",
                    "2021-05-23"
                  ],
                  "line": {
                    "color": "rgba(50, 171, 96, 1.0)",
                    "dash": "solid",
                    "shape": "linear",
                    "width": 1.3
                  },
                  "type": "scatter"
                },
                {
                  "name": "Active",
                  "text": "",
                  "mode": "lines",
                  "y": [
                    510,
                    605,
                    876,
                    1349,
                    2006,
                    2780,
                    5339,
                    5907,
                    7919,
                    9489,
                    11492,
                    15949,
                    18834,
                    22549,
                    25950,
                    28677,
                    31661,
                    33708,
                    36009,
                    37809,
                    39014,
                    38960,
                    52717,
                    57329,
                    57990,
                    58599,
                    58819,
                    58792,
                    57408,
                    55785,
                    55697,
                    53254,
                    53118,
                    51689,
                    49784,
                    48219,
                    46644,
                    44539,
                    43290,
                    42681,
                    41691,
                    41584,
                    40855,
                    40946,
                    42680,
                    44177,
                    45550,
                    47733,
                    50374,
                    55093,
                    59254,
                    71214,
                    79496,
                    86713,
                    98788,
                    111173,
                    127344,
                    151641,
                    178486,
                    204508,
                    231460,
                    271878,
                    301128,
                    343540,
                    395010,
                    447778,
                    502817,
                    549079,
                    594955,
                    653462,
                    715000,
                    775030,
                    837006,
                    869043,
                    922611,
                    973119,
                    1011430,
                    1059115,
                    1113091,
                    1169509,
                    1211370,
                    1305824,
                    1343343,
                    1395310,
                    1427412,
                    1484801,
                    1538220,
                    1585449,
                    1625038,
                    1673006,
                    1706680,
                    1750978,
                    1799669,
                    1826966,
                    1875842,
                    1914639,
                    1952201,
                    1987951,
                    2016259,
                    2028796,
                    2073864,
                    2106918,
                    2147247,
                    2186637,
                    2224843,
                    2262247,
                    2306118,
                    2354432,
                    2381989,
                    2419597,
                    2445857,
                    2487821,
                    2511797,
                    2563148,
                    2605556,
                    2639408,
                    2673235,
                    2705723,
                    2745799,
                    2783928,
                    2834693,
                    2827324,
                    2873367,
                    2909035,
                    2930811,
                    2965384,
                    2999763,
                    3047631,
                    3086661,
                    3148702,
                    3176034,
                    3214031,
                    3227206,
                    3256932,
                    3312772,
                    3370252,
                    3428016,
                    3482530,
                    3429714,
                    3467730,
                    3518621,
                    3566122,
                    3610958,
                    3656239,
                    3714304,
                    3750271,
                    3787782,
                    3807550,
                    3862540,
                    3941399,
                    3978884,
                    4033886,
                    4078052,
                    4135589,
                    4187257,
                    4268062,
                    4348931,
                    4416314,
                    4487816,
                    4544914,
                    4597231,
                    4693979,
                    4613915,
                    4700485,
                    4694130,
                    4755281,
                    4791712,
                    4852074,
                    4902902,
                    4989704,
                    5077633,
                    5163605,
                    5240056,
                    5287266,
                    5361605,
                    5427821,
                    5520876,
                    5573529,
                    5653323,
                    5774615,
                    5818392,
                    5871208,
                    5964398,
                    6061134,
                    6107878,
                    6136551,
                    6202573,
                    6252537,
                    6328599,
                    6411134,
                    6471665,
                    6556617,
                    6618589,
                    6706531,
                    6685875,
                    6713630,
                    6761459,
                    6851363,
                    6935268,
                    6988128,
                    7029460,
                    7085926,
                    7032229,
                    7061663,
                    7180749,
                    7191116,
                    7264864,
                    7242116,
                    7234655,
                    7258509,
                    7313375,
                    7372067,
                    7459340,
                    7508176,
                    7493840,
                    7515181,
                    7521347,
                    7573180,
                    7643942,
                    7722922,
                    7769980,
                    7776660,
                    7834584,
                    7835148,
                    7893306,
                    7947672,
                    8042318,
                    8106381,
                    8121209,
                    8132169,
                    8167658,
                    8206108,
                    8283519,
                    8375368,
                    8434131,
                    8485287,
                    8516100,
                    8568849,
                    8638127,
                    8727334,
                    8796438,
                    8846293,
                    8857591,
                    8884097,
                    8943246,
                    8950315,
                    9041028,
                    9126787,
                    9147741,
                    9181566,
                    9209829,
                    9245310,
                    9316838,
                    9404884,
                    9525529,
                    9596608,
                    9632007,
                    9688616,
                    9776733,
                    9866703,
                    10002246,
                    10150203,
                    10307017,
                    10367256,
                    10454920,
                    10576448,
                    10740424,
                    10933966,
                    11136538,
                    11305315,
                    11416825,
                    11596668,
                    11767669,
                    11994707,
                    12234698,
                    12517791,
                    12757177,
                    12916361,
                    13158120,
                    13031276,
                    13270026,
                    13566604,
                    13874286,
                    14100144,
                    14299571,
                    14576457,
                    14869284,
                    15091266,
                    15376155,
                    15722987,
                    16013263,
                    16238122,
                    16475378,
                    16767402,
                    17025333,
                    17438871,
                    17779224,
                    18087293,
                    18324049,
                    18459822,
                    18626380,
                    18878959,
                    19147212,
                    19448645,
                    19687967,
                    19895029,
                    20000609,
                    20206031,
                    20392714,
                    20597425,
                    20891560,
                    21108602,
                    21271742,
                    21369247,
                    21492454,
                    21668337,
                    21923106,
                    22103245,
                    22299171,
                    22514453,
                    22612618,
                    22803095,
                    23033806,
                    24028097,
                    24241426,
                    23360788,
                    23489048,
                    29995260,
                    30259349,
                    30617196,
                    30967919,
                    31357863,
                    31606758,
                    31855487,
                    32051917,
                    32324680,
                    32681859,
                    33022196,
                    33187538,
                    33284577,
                    33423243,
                    33611384,
                    33907551,
                    34265274,
                    34701963,
                    34944940,
                    35261574,
                    35518547,
                    35772108,
                    36181534,
                    36636728,
                    37178695,
                    37669488,
                    38087452,
                    38397688,
                    38717006,
                    39061853,
                    39427474,
                    39794486,
                    40225940,
                    40534781,
                    40739614,
                    40926501,
                    41115400,
                    41462660,
                    41736055,
                    41997338,
                    42235675,
                    42361404,
                    42533535,
                    42742922,
                    42983834,
                    43265375,
                    43476764,
                    43627342,
                    43712092,
                    43876006,
                    43968937,
                    44145343,
                    44305727,
                    44543297,
                    44610728,
                    44723385,
                    44798112,
                    44839000,
                    44992030,
                    45143936,
                    45272553,
                    45389806,
                    45481863,
                    45469522,
                    45574219,
                    45664494,
                    45820022,
                    45986857,
                    46079584,
                    46170893,
                    46269812,
                    46368855,
                    46592329,
                    46801950,
                    46974471,
                    47104839,
                    47227737,
                    47311466,
                    47341216,
                    47541877,
                    47734868,
                    47945545,
                    48111743,
                    48236461,
                    48253766,
                    48396217,
                    48618249,
                    48812761,
                    49023905,
                    49217504,
                    49326702,
                    49378903,
                    49575541,
                    49840165,
                    50114239,
                    50386458,
                    50619021,
                    50756436,
                    50831133,
                    51021130,
                    51309347,
                    51637541,
                    51902085,
                    52171587,
                    52306277,
                    52452283,
                    52673740,
                    52962159,
                    53317285,
                    53620558,
                    53775603,
                    53973288,
                    54107585,
                    54329849,
                    54516042,
                    54945981,
                    55226891,
                    55493990,
                    55645685,
                    55858271,
                    56138035,
                    56494621,
                    56853768,
                    57191669,
                    57449153,
                    57545834,
                    57693374,
                    57928762,
                    58292320,
                    58542035,
                    58791591,
                    59022952,
                    59201822,
                    59186071,
                    59335141,
                    59628739,
                    59804024,
                    59982169,
                    60083828,
                    60055213,
                    60082234,
                    60218867,
                    60332407,
                    60512524,
                    60634217,
                    60696581,
                    60665425,
                    60647900,
                    60621748,
                    60720363,
                    60742386,
                    60781970,
                    60755302,
                    60626014,
                    60410606,
                    60275428,
                    60235149,
                    60214345,
                    60199176,
                    60134757,
                    60093191
                  ],
                  "x": [
                    "2020-01-22",
                    "2020-01-23",
                    "2020-01-24",
                    "2020-01-25",
                    "2020-01-26",
                    "2020-01-27",
                    "2020-01-28",
                    "2020-01-29",
                    "2020-01-30",
                    "2020-01-31",
                    "2020-02-01",
                    "2020-02-02",
                    "2020-02-03",
                    "2020-02-04",
                    "2020-02-05",
                    "2020-02-06",
                    "2020-02-07",
                    "2020-02-08",
                    "2020-02-09",
                    "2020-02-10",
                    "2020-02-11",
                    "2020-02-12",
                    "2020-02-13",
                    "2020-02-14",
                    "2020-02-15",
                    "2020-02-16",
                    "2020-02-17",
                    "2020-02-18",
                    "2020-02-19",
                    "2020-02-20",
                    "2020-02-21",
                    "2020-02-22",
                    "2020-02-23",
                    "2020-02-24",
                    "2020-02-25",
                    "2020-02-26",
                    "2020-02-27",
                    "2020-02-28",
                    "2020-02-29",
                    "2020-03-01",
                    "2020-03-02",
                    "2020-03-03",
                    "2020-03-04",
                    "2020-03-05",
                    "2020-03-06",
                    "2020-03-07",
                    "2020-03-08",
                    "2020-03-09",
                    "2020-03-10",
                    "2020-03-11",
                    "2020-03-12",
                    "2020-03-13",
                    "2020-03-14",
                    "2020-03-15",
                    "2020-03-16",
                    "2020-03-17",
                    "2020-03-18",
                    "2020-03-19",
                    "2020-03-20",
                    "2020-03-21",
                    "2020-03-22",
                    "2020-03-23",
                    "2020-03-24",
                    "2020-03-25",
                    "2020-03-26",
                    "2020-03-27",
                    "2020-03-28",
                    "2020-03-29",
                    "2020-03-30",
                    "2020-03-31",
                    "2020-04-01",
                    "2020-04-02",
                    "2020-04-03",
                    "2020-04-04",
                    "2020-04-05",
                    "2020-04-06",
                    "2020-04-07",
                    "2020-04-08",
                    "2020-04-09",
                    "2020-04-10",
                    "2020-04-11",
                    "2020-04-12",
                    "2020-04-13",
                    "2020-04-14",
                    "2020-04-15",
                    "2020-04-16",
                    "2020-04-17",
                    "2020-04-18",
                    "2020-04-19",
                    "2020-04-20",
                    "2020-04-21",
                    "2020-04-22",
                    "2020-04-23",
                    "2020-04-24",
                    "2020-04-25",
                    "2020-04-26",
                    "2020-04-27",
                    "2020-04-28",
                    "2020-04-29",
                    "2020-04-30",
                    "2020-05-01",
                    "2020-05-02",
                    "2020-05-03",
                    "2020-05-04",
                    "2020-05-05",
                    "2020-05-06",
                    "2020-05-07",
                    "2020-05-08",
                    "2020-05-09",
                    "2020-05-10",
                    "2020-05-11",
                    "2020-05-12",
                    "2020-05-13",
                    "2020-05-14",
                    "2020-05-15",
                    "2020-05-16",
                    "2020-05-17",
                    "2020-05-18",
                    "2020-05-19",
                    "2020-05-20",
                    "2020-05-21",
                    "2020-05-22",
                    "2020-05-23",
                    "2020-05-24",
                    "2020-05-25",
                    "2020-05-26",
                    "2020-05-27",
                    "2020-05-28",
                    "2020-05-29",
                    "2020-05-30",
                    "2020-05-31",
                    "2020-06-01",
                    "2020-06-02",
                    "2020-06-03",
                    "2020-06-04",
                    "2020-06-05",
                    "2020-06-06",
                    "2020-06-07",
                    "2020-06-08",
                    "2020-06-09",
                    "2020-06-10",
                    "2020-06-11",
                    "2020-06-12",
                    "2020-06-13",
                    "2020-06-14",
                    "2020-06-15",
                    "2020-06-16",
                    "2020-06-17",
                    "2020-06-18",
                    "2020-06-19",
                    "2020-06-20",
                    "2020-06-21",
                    "2020-06-22",
                    "2020-06-23",
                    "2020-06-24",
                    "2020-06-25",
                    "2020-06-26",
                    "2020-06-27",
                    "2020-06-28",
                    "2020-06-29",
                    "2020-06-30",
                    "2020-07-01",
                    "2020-07-02",
                    "2020-07-03",
                    "2020-07-04",
                    "2020-07-05",
                    "2020-07-06",
                    "2020-07-07",
                    "2020-07-08",
                    "2020-07-09",
                    "2020-07-10",
                    "2020-07-11",
                    "2020-07-12",
                    "2020-07-13",
                    "2020-07-14",
                    "2020-07-15",
                    "2020-07-16",
                    "2020-07-17",
                    "2020-07-18",
                    "2020-07-19",
                    "2020-07-20",
                    "2020-07-21",
                    "2020-07-22",
                    "2020-07-23",
                    "2020-07-24",
                    "2020-07-25",
                    "2020-07-26",
                    "2020-07-27",
                    "2020-07-28",
                    "2020-07-29",
                    "2020-07-30",
                    "2020-07-31",
                    "2020-08-01",
                    "2020-08-02",
                    "2020-08-03",
                    "2020-08-04",
                    "2020-08-05",
                    "2020-08-06",
                    "2020-08-07",
                    "2020-08-08",
                    "2020-08-09",
                    "2020-08-10",
                    "2020-08-11",
                    "2020-08-12",
                    "2020-08-13",
                    "2020-08-14",
                    "2020-08-15",
                    "2020-08-16",
                    "2020-08-17",
                    "2020-08-18",
                    "2020-08-19",
                    "2020-08-20",
                    "2020-08-21",
                    "2020-08-22",
                    "2020-08-23",
                    "2020-08-24",
                    "2020-08-25",
                    "2020-08-26",
                    "2020-08-27",
                    "2020-08-28",
                    "2020-08-29",
                    "2020-08-30",
                    "2020-08-31",
                    "2020-09-01",
                    "2020-09-02",
                    "2020-09-03",
                    "2020-09-04",
                    "2020-09-05",
                    "2020-09-06",
                    "2020-09-07",
                    "2020-09-08",
                    "2020-09-09",
                    "2020-09-10",
                    "2020-09-11",
                    "2020-09-12",
                    "2020-09-13",
                    "2020-09-14",
                    "2020-09-15",
                    "2020-09-16",
                    "2020-09-17",
                    "2020-09-18",
                    "2020-09-19",
                    "2020-09-20",
                    "2020-09-21",
                    "2020-09-22",
                    "2020-09-23",
                    "2020-09-24",
                    "2020-09-25",
                    "2020-09-26",
                    "2020-09-27",
                    "2020-09-28",
                    "2020-09-29",
                    "2020-09-30",
                    "2020-10-01",
                    "2020-10-02",
                    "2020-10-03",
                    "2020-10-04",
                    "2020-10-05",
                    "2020-10-06",
                    "2020-10-07",
                    "2020-10-08",
                    "2020-10-09",
                    "2020-10-10",
                    "2020-10-11",
                    "2020-10-12",
                    "2020-10-13",
                    "2020-10-14",
                    "2020-10-15",
                    "2020-10-16",
                    "2020-10-17",
                    "2020-10-18",
                    "2020-10-19",
                    "2020-10-20",
                    "2020-10-21",
                    "2020-10-22",
                    "2020-10-23",
                    "2020-10-24",
                    "2020-10-25",
                    "2020-10-26",
                    "2020-10-27",
                    "2020-10-28",
                    "2020-10-29",
                    "2020-10-30",
                    "2020-10-31",
                    "2020-11-01",
                    "2020-11-02",
                    "2020-11-03",
                    "2020-11-04",
                    "2020-11-05",
                    "2020-11-06",
                    "2020-11-07",
                    "2020-11-08",
                    "2020-11-09",
                    "2020-11-10",
                    "2020-11-11",
                    "2020-11-12",
                    "2020-11-13",
                    "2020-11-14",
                    "2020-11-15",
                    "2020-11-16",
                    "2020-11-17",
                    "2020-11-18",
                    "2020-11-19",
                    "2020-11-20",
                    "2020-11-21",
                    "2020-11-22",
                    "2020-11-23",
                    "2020-11-24",
                    "2020-11-25",
                    "2020-11-26",
                    "2020-11-27",
                    "2020-11-28",
                    "2020-11-29",
                    "2020-11-30",
                    "2020-12-01",
                    "2020-12-02",
                    "2020-12-03",
                    "2020-12-04",
                    "2020-12-05",
                    "2020-12-06",
                    "2020-12-07",
                    "2020-12-08",
                    "2020-12-09",
                    "2020-12-10",
                    "2020-12-11",
                    "2020-12-12",
                    "2020-12-13",
                    "2020-12-14",
                    "2020-12-15",
                    "2020-12-16",
                    "2020-12-17",
                    "2020-12-18",
                    "2020-12-19",
                    "2020-12-20",
                    "2020-12-21",
                    "2020-12-22",
                    "2020-12-23",
                    "2020-12-24",
                    "2020-12-25",
                    "2020-12-26",
                    "2020-12-27",
                    "2020-12-28",
                    "2020-12-29",
                    "2020-12-30",
                    "2020-12-31",
                    "2021-01-01",
                    "2021-01-02",
                    "2021-01-03",
                    "2021-01-04",
                    "2021-01-05",
                    "2021-01-06",
                    "2021-01-07",
                    "2021-01-08",
                    "2021-01-09",
                    "2021-01-10",
                    "2021-01-11",
                    "2021-01-12",
                    "2021-01-13",
                    "2021-01-14",
                    "2021-01-15",
                    "2021-01-16",
                    "2021-01-17",
                    "2021-01-18",
                    "2021-01-19",
                    "2021-01-20",
                    "2021-01-21",
                    "2021-01-22",
                    "2021-01-23",
                    "2021-01-24",
                    "2021-01-25",
                    "2021-01-26",
                    "2021-01-27",
                    "2021-01-28",
                    "2021-01-29",
                    "2021-01-30",
                    "2021-01-31",
                    "2021-02-01",
                    "2021-02-02",
                    "2021-02-03",
                    "2021-02-04",
                    "2021-02-05",
                    "2021-02-06",
                    "2021-02-07",
                    "2021-02-08",
                    "2021-02-09",
                    "2021-02-10",
                    "2021-02-11",
                    "2021-02-12",
                    "2021-02-13",
                    "2021-02-14",
                    "2021-02-15",
                    "2021-02-16",
                    "2021-02-17",
                    "2021-02-18",
                    "2021-02-19",
                    "2021-02-20",
                    "2021-02-21",
                    "2021-02-22",
                    "2021-02-23",
                    "2021-02-24",
                    "2021-02-25",
                    "2021-02-26",
                    "2021-02-27",
                    "2021-02-28",
                    "2021-03-01",
                    "2021-03-02",
                    "2021-03-03",
                    "2021-03-04",
                    "2021-03-05",
                    "2021-03-06",
                    "2021-03-07",
                    "2021-03-08",
                    "2021-03-09",
                    "2021-03-10",
                    "2021-03-11",
                    "2021-03-12",
                    "2021-03-13",
                    "2021-03-14",
                    "2021-03-15",
                    "2021-03-16",
                    "2021-03-17",
                    "2021-03-18",
                    "2021-03-19",
                    "2021-03-20",
                    "2021-03-21",
                    "2021-03-22",
                    "2021-03-23",
                    "2021-03-24",
                    "2021-03-25",
                    "2021-03-26",
                    "2021-03-27",
                    "2021-03-28",
                    "2021-03-29",
                    "2021-03-30",
                    "2021-03-31",
                    "2021-04-01",
                    "2021-04-02",
                    "2021-04-03",
                    "2021-04-04",
                    "2021-04-05",
                    "2021-04-06",
                    "2021-04-07",
                    "2021-04-08",
                    "2021-04-09",
                    "2021-04-10",
                    "2021-04-11",
                    "2021-04-12",
                    "2021-04-13",
                    "2021-04-14",
                    "2021-04-15",
                    "2021-04-16",
                    "2021-04-17",
                    "2021-04-18",
                    "2021-04-19",
                    "2021-04-20",
                    "2021-04-21",
                    "2021-04-22",
                    "2021-04-23",
                    "2021-04-24",
                    "2021-04-25",
                    "2021-04-26",
                    "2021-04-27",
                    "2021-04-28",
                    "2021-04-29",
                    "2021-04-30",
                    "2021-05-01",
                    "2021-05-02",
                    "2021-05-03",
                    "2021-05-04",
                    "2021-05-05",
                    "2021-05-06",
                    "2021-05-07",
                    "2021-05-08",
                    "2021-05-09",
                    "2021-05-10",
                    "2021-05-11",
                    "2021-05-12",
                    "2021-05-13",
                    "2021-05-14",
                    "2021-05-15",
                    "2021-05-16",
                    "2021-05-17",
                    "2021-05-18",
                    "2021-05-19",
                    "2021-05-20",
                    "2021-05-21",
                    "2021-05-22",
                    "2021-05-23"
                  ],
                  "line": {
                    "color": "rgba(128, 0, 128, 1.0)",
                    "dash": "solid",
                    "shape": "linear",
                    "width": 1.3
                  },
                  "type": "scatter"
                }
              ],
              "config": {
                "plotlyServerURL": "https://plot.ly",
                "linkText": "Export to plot.ly",
                "showLink": true
              },
              "layout": {
                "template": {
                  "layout": {
                    "shapedefaults": {
                      "line": {
                        "color": "#2a3f5f"
                      }
                    },
                    "polar": {
                      "radialaxis": {
                        "ticks": "",
                        "gridcolor": "white",
                        "linecolor": "white"
                      },
                      "bgcolor": "#E5ECF6",
                      "angularaxis": {
                        "ticks": "",
                        "gridcolor": "white",
                        "linecolor": "white"
                      }
                    },
                    "colorway": [
                      "#636efa",
                      "#EF553B",
                      "#00cc96",
                      "#ab63fa",
                      "#FFA15A",
                      "#19d3f3",
                      "#FF6692",
                      "#B6E880",
                      "#FF97FF",
                      "#FECB52"
                    ],
                    "xaxis": {
                      "automargin": true,
                      "title": {
                        "standoff": 15
                      },
                      "zerolinewidth": 2,
                      "ticks": "",
                      "zerolinecolor": "white",
                      "gridcolor": "white",
                      "linecolor": "white"
                    },
                    "colorscale": {
                      "diverging": [
                        [
                          0,
                          "#8e0152"
                        ],
                        [
                          0.1,
                          "#c51b7d"
                        ],
                        [
                          0.2,
                          "#de77ae"
                        ],
                        [
                          0.3,
                          "#f1b6da"
                        ],
                        [
                          0.4,
                          "#fde0ef"
                        ],
                        [
                          0.5,
                          "#f7f7f7"
                        ],
                        [
                          0.6,
                          "#e6f5d0"
                        ],
                        [
                          0.7,
                          "#b8e186"
                        ],
                        [
                          0.8,
                          "#7fbc41"
                        ],
                        [
                          0.9,
                          "#4d9221"
                        ],
                        [
                          1,
                          "#276419"
                        ]
                      ],
                      "sequential": [
                        [
                          0,
                          "#0d0887"
                        ],
                        [
                          0.1111111111111111,
                          "#46039f"
                        ],
                        [
                          0.2222222222222222,
                          "#7201a8"
                        ],
                        [
                          0.3333333333333333,
                          "#9c179e"
                        ],
                        [
                          0.4444444444444444,
                          "#bd3786"
                        ],
                        [
                          0.5555555555555556,
                          "#d8576b"
                        ],
                        [
                          0.6666666666666666,
                          "#ed7953"
                        ],
                        [
                          0.7777777777777778,
                          "#fb9f3a"
                        ],
                        [
                          0.8888888888888888,
                          "#fdca26"
                        ],
                        [
                          1,
                          "#f0f921"
                        ]
                      ],
                      "sequentialminus": [
                        [
                          0,
                          "#0d0887"
                        ],
                        [
                          0.1111111111111111,
                          "#46039f"
                        ],
                        [
                          0.2222222222222222,
                          "#7201a8"
                        ],
                        [
                          0.3333333333333333,
                          "#9c179e"
                        ],
                        [
                          0.4444444444444444,
                          "#bd3786"
                        ],
                        [
                          0.5555555555555556,
                          "#d8576b"
                        ],
                        [
                          0.6666666666666666,
                          "#ed7953"
                        ],
                        [
                          0.7777777777777778,
                          "#fb9f3a"
                        ],
                        [
                          0.8888888888888888,
                          "#fdca26"
                        ],
                        [
                          1,
                          "#f0f921"
                        ]
                      ]
                    },
                    "paper_bgcolor": "white",
                    "plot_bgcolor": "#E5ECF6",
                    "title": {
                      "x": 0.05
                    },
                    "scene": {
                      "zaxis": {
                        "backgroundcolor": "#E5ECF6",
                        "ticks": "",
                        "gridwidth": 2,
                        "showbackground": true,
                        "zerolinecolor": "white",
                        "gridcolor": "white",
                        "linecolor": "white"
                      },
                      "xaxis": {
                        "backgroundcolor": "#E5ECF6",
                        "ticks": "",
                        "gridwidth": 2,
                        "showbackground": true,
                        "zerolinecolor": "white",
                        "gridcolor": "white",
                        "linecolor": "white"
                      },
                      "yaxis": {
                        "backgroundcolor": "#E5ECF6",
                        "ticks": "",
                        "gridwidth": 2,
                        "showbackground": true,
                        "zerolinecolor": "white",
                        "gridcolor": "white",
                        "linecolor": "white"
                      }
                    },
                    "yaxis": {
                      "automargin": true,
                      "title": {
                        "standoff": 15
                      },
                      "zerolinewidth": 2,
                      "ticks": "",
                      "zerolinecolor": "white",
                      "gridcolor": "white",
                      "linecolor": "white"
                    },
                    "annotationdefaults": {
                      "arrowwidth": 1,
                      "arrowhead": 0,
                      "arrowcolor": "#2a3f5f"
                    },
                    "hoverlabel": {
                      "align": "left"
                    },
                    "ternary": {
                      "bgcolor": "#E5ECF6",
                      "baxis": {
                        "ticks": "",
                        "gridcolor": "white",
                        "linecolor": "white"
                      },
                      "caxis": {
                        "ticks": "",
                        "gridcolor": "white",
                        "linecolor": "white"
                      },
                      "aaxis": {
                        "ticks": "",
                        "gridcolor": "white",
                        "linecolor": "white"
                      }
                    },
                    "mapbox": {
                      "style": "light"
                    },
                    "hovermode": "closest",
                    "font": {
                      "color": "#2a3f5f"
                    },
                    "geo": {
                      "showland": true,
                      "landcolor": "#E5ECF6",
                      "showlakes": true,
                      "bgcolor": "white",
                      "subunitcolor": "white",
                      "lakecolor": "white"
                    },
                    "coloraxis": {
                      "colorbar": {
                        "outlinewidth": 0,
                        "ticks": ""
                      }
                    }
                  },
                  "data": {
                    "mesh3d": [
                      {
                        "colorbar": {
                          "outlinewidth": 0,
                          "ticks": ""
                        },
                        "type": "mesh3d"
                      }
                    ],
                    "scattercarpet": [
                      {
                        "marker": {
                          "colorbar": {
                            "outlinewidth": 0,
                            "ticks": ""
                          }
                        },
                        "type": "scattercarpet"
                      }
                    ],
                    "pie": [
                      {
                        "automargin": true,
                        "type": "pie"
                      }
                    ],
                    "surface": [
                      {
                        "colorbar": {
                          "outlinewidth": 0,
                          "ticks": ""
                        },
                        "type": "surface",
                        "colorscale": [
                          [
                            0,
                            "#0d0887"
                          ],
                          [
                            0.1111111111111111,
                            "#46039f"
                          ],
                          [
                            0.2222222222222222,
                            "#7201a8"
                          ],
                          [
                            0.3333333333333333,
                            "#9c179e"
                          ],
                          [
                            0.4444444444444444,
                            "#bd3786"
                          ],
                          [
                            0.5555555555555556,
                            "#d8576b"
                          ],
                          [
                            0.6666666666666666,
                            "#ed7953"
                          ],
                          [
                            0.7777777777777778,
                            "#fb9f3a"
                          ],
                          [
                            0.8888888888888888,
                            "#fdca26"
                          ],
                          [
                            1,
                            "#f0f921"
                          ]
                        ]
                      }
                    ],
                    "table": [
                      {
                        "header": {
                          "line": {
                            "color": "white"
                          },
                          "fill": {
                            "color": "#C8D4E3"
                          }
                        },
                        "cells": {
                          "line": {
                            "color": "white"
                          },
                          "fill": {
                            "color": "#EBF0F8"
                          }
                        },
                        "type": "table"
                      }
                    ],
                    "scatterpolargl": [
                      {
                        "marker": {
                          "colorbar": {
                            "outlinewidth": 0,
                            "ticks": ""
                          }
                        },
                        "type": "scatterpolargl"
                      }
                    ],
                    "contour": [
                      {
                        "colorbar": {
                          "outlinewidth": 0,
                          "ticks": ""
                        },
                        "type": "contour",
                        "colorscale": [
                          [
                            0,
                            "#0d0887"
                          ],
                          [
                            0.1111111111111111,
                            "#46039f"
                          ],
                          [
                            0.2222222222222222,
                            "#7201a8"
                          ],
                          [
                            0.3333333333333333,
                            "#9c179e"
                          ],
                          [
                            0.4444444444444444,
                            "#bd3786"
                          ],
                          [
                            0.5555555555555556,
                            "#d8576b"
                          ],
                          [
                            0.6666666666666666,
                            "#ed7953"
                          ],
                          [
                            0.7777777777777778,
                            "#fb9f3a"
                          ],
                          [
                            0.8888888888888888,
                            "#fdca26"
                          ],
                          [
                            1,
                            "#f0f921"
                          ]
                        ]
                      }
                    ],
                    "carpet": [
                      {
                        "type": "carpet",
                        "baxis": {
                          "minorgridcolor": "white",
                          "gridcolor": "white",
                          "linecolor": "white",
                          "endlinecolor": "#2a3f5f",
                          "startlinecolor": "#2a3f5f"
                        },
                        "aaxis": {
                          "minorgridcolor": "white",
                          "gridcolor": "white",
                          "linecolor": "white",
                          "endlinecolor": "#2a3f5f",
                          "startlinecolor": "#2a3f5f"
                        }
                      }
                    ],
                    "contourcarpet": [
                      {
                        "colorbar": {
                          "outlinewidth": 0,
                          "ticks": ""
                        },
                        "type": "contourcarpet"
                      }
                    ],
                    "heatmap": [
                      {
                        "colorbar": {
                          "outlinewidth": 0,
                          "ticks": ""
                        },
                        "type": "heatmap",
                        "colorscale": [
                          [
                            0,
                            "#0d0887"
                          ],
                          [
                            0.1111111111111111,
                            "#46039f"
                          ],
                          [
                            0.2222222222222222,
                            "#7201a8"
                          ],
                          [
                            0.3333333333333333,
                            "#9c179e"
                          ],
                          [
                            0.4444444444444444,
                            "#bd3786"
                          ],
                          [
                            0.5555555555555556,
                            "#d8576b"
                          ],
                          [
                            0.6666666666666666,
                            "#ed7953"
                          ],
                          [
                            0.7777777777777778,
                            "#fb9f3a"
                          ],
                          [
                            0.8888888888888888,
                            "#fdca26"
                          ],
                          [
                            1,
                            "#f0f921"
                          ]
                        ]
                      }
                    ],
                    "scattermapbox": [
                      {
                        "marker": {
                          "colorbar": {
                            "outlinewidth": 0,
                            "ticks": ""
                          }
                        },
                        "type": "scattermapbox"
                      }
                    ],
                    "scatter3d": [
                      {
                        "marker": {
                          "colorbar": {
                            "outlinewidth": 0,
                            "ticks": ""
                          }
                        },
                        "line": {
                          "colorbar": {
                            "outlinewidth": 0,
                            "ticks": ""
                          }
                        },
                        "type": "scatter3d"
                      }
                    ],
                    "scattergl": [
                      {
                        "marker": {
                          "colorbar": {
                            "outlinewidth": 0,
                            "ticks": ""
                          }
                        },
                        "type": "scattergl"
                      }
                    ],
                    "scatterternary": [
                      {
                        "marker": {
                          "colorbar": {
                            "outlinewidth": 0,
                            "ticks": ""
                          }
                        },
                        "type": "scatterternary"
                      }
                    ],
                    "histogram": [
                      {
                        "marker": {
                          "colorbar": {
                            "outlinewidth": 0,
                            "ticks": ""
                          }
                        },
                        "type": "histogram"
                      }
                    ],
                    "heatmapgl": [
                      {
                        "colorbar": {
                          "outlinewidth": 0,
                          "ticks": ""
                        },
                        "type": "heatmapgl",
                        "colorscale": [
                          [
                            0,
                            "#0d0887"
                          ],
                          [
                            0.1111111111111111,
                            "#46039f"
                          ],
                          [
                            0.2222222222222222,
                            "#7201a8"
                          ],
                          [
                            0.3333333333333333,
                            "#9c179e"
                          ],
                          [
                            0.4444444444444444,
                            "#bd3786"
                          ],
                          [
                            0.5555555555555556,
                            "#d8576b"
                          ],
                          [
                            0.6666666666666666,
                            "#ed7953"
                          ],
                          [
                            0.7777777777777778,
                            "#fb9f3a"
                          ],
                          [
                            0.8888888888888888,
                            "#fdca26"
                          ],
                          [
                            1,
                            "#f0f921"
                          ]
                        ]
                      }
                    ],
                    "scatterpolar": [
                      {
                        "marker": {
                          "colorbar": {
                            "outlinewidth": 0,
                            "ticks": ""
                          }
                        },
                        "type": "scatterpolar"
                      }
                    ],
                    "histogram2d": [
                      {
                        "colorbar": {
                          "outlinewidth": 0,
                          "ticks": ""
                        },
                        "type": "histogram2d",
                        "colorscale": [
                          [
                            0,
                            "#0d0887"
                          ],
                          [
                            0.1111111111111111,
                            "#46039f"
                          ],
                          [
                            0.2222222222222222,
                            "#7201a8"
                          ],
                          [
                            0.3333333333333333,
                            "#9c179e"
                          ],
                          [
                            0.4444444444444444,
                            "#bd3786"
                          ],
                          [
                            0.5555555555555556,
                            "#d8576b"
                          ],
                          [
                            0.6666666666666666,
                            "#ed7953"
                          ],
                          [
                            0.7777777777777778,
                            "#fb9f3a"
                          ],
                          [
                            0.8888888888888888,
                            "#fdca26"
                          ],
                          [
                            1,
                            "#f0f921"
                          ]
                        ]
                      }
                    ],
                    "scattergeo": [
                      {
                        "marker": {
                          "colorbar": {
                            "outlinewidth": 0,
                            "ticks": ""
                          }
                        },
                        "type": "scattergeo"
                      }
                    ],
                    "bar": [
                      {
                        "marker": {
                          "line": {
                            "color": "#E5ECF6",
                            "width": 0.5
                          }
                        },
                        "type": "bar",
                        "error_x": {
                          "color": "#2a3f5f"
                        },
                        "error_y": {
                          "color": "#2a3f5f"
                        }
                      }
                    ],
                    "choropleth": [
                      {
                        "colorbar": {
                          "outlinewidth": 0,
                          "ticks": ""
                        },
                        "type": "choropleth"
                      }
                    ],
                    "parcoords": [
                      {
                        "line": {
                          "colorbar": {
                            "outlinewidth": 0,
                            "ticks": ""
                          }
                        },
                        "type": "parcoords"
                      }
                    ],
                    "barpolar": [
                      {
                        "marker": {
                          "line": {
                            "color": "#E5ECF6",
                            "width": 0.5
                          }
                        },
                        "type": "barpolar"
                      }
                    ],
                    "histogram2dcontour": [
                      {
                        "colorbar": {
                          "outlinewidth": 0,
                          "ticks": ""
                        },
                        "type": "histogram2dcontour",
                        "colorscale": [
                          [
                            0,
                            "#0d0887"
                          ],
                          [
                            0.1111111111111111,
                            "#46039f"
                          ],
                          [
                            0.2222222222222222,
                            "#7201a8"
                          ],
                          [
                            0.3333333333333333,
                            "#9c179e"
                          ],
                          [
                            0.4444444444444444,
                            "#bd3786"
                          ],
                          [
                            0.5555555555555556,
                            "#d8576b"
                          ],
                          [
                            0.6666666666666666,
                            "#ed7953"
                          ],
                          [
                            0.7777777777777778,
                            "#fb9f3a"
                          ],
                          [
                            0.8888888888888888,
                            "#fdca26"
                          ],
                          [
                            1,
                            "#f0f921"
                          ]
                        ]
                      }
                    ],
                    "scatter": [
                      {
                        "marker": {
                          "colorbar": {
                            "outlinewidth": 0,
                            "ticks": ""
                          }
                        },
                        "type": "scatter"
                      }
                    ]
                  }
                },
                "title": {
                  "text": "Trend Kasus COVID-19 Secara Global",
                  "font": {
                    "color": "#4D5663"
                  }
                },
                "paper_bgcolor": "#F5F6F9",
                "plot_bgcolor": "#F5F6F9",
                "yaxis": {
                  "tickfont": {
                    "color": "#4D5663"
                  },
                  "zerolinecolor": "#E1E5ED",
                  "title": {
                    "text": "Amount",
                    "font": {
                      "color": "#4D5663"
                    }
                  },
                  "gridcolor": "#E1E5ED",
                  "showgrid": true
                },
                "xaxis": {
                  "tickfont": {
                    "color": "#4D5663"
                  },
                  "zerolinecolor": "#E1E5ED",
                  "title": {
                    "text": "Time",
                    "font": {
                      "color": "#4D5663"
                    }
                  },
                  "gridcolor": "#E1E5ED",
                  "showgrid": true
                },
                "legend": {
                  "bgcolor": "#F5F6F9",
                  "font": {
                    "color": "#4D5663"
                  }
                }
              }
            }
          },
          "metadata": {
            "tags": []
          }
        }
      ]
    },
    {
      "cell_type": "markdown",
      "metadata": {
        "id": "vo5ZtBSn1W19"
      },
      "source": [
        "## **Categories Country**"
      ]
    },
    {
      "cell_type": "code",
      "metadata": {
        "colab": {
          "base_uri": "https://localhost:8080/",
          "height": 0
        },
        "id": "fl3Fh0u5dUPI",
        "outputId": "5976c7f0-a448-4f35-c3ce-175577c455d8"
      },
      "source": [
        "# Cukup Rawan\n",
        "fig = px.choropleth(last_day, locations=cukupRawan['Country/Region'],\n",
        "                    color=cukupRawan['Confirmed'],locationmode='country names', \n",
        "                    hover_name=cukupRawan['Country/Region'], \n",
        "                    color_continuous_scale=px.colors.sequential.Plasma,\n",
        "                    template ='plotly_white')\n",
        "fig.update_layout(title_text=\"The country is quite vulnerable\")\n",
        "fig.update_coloraxes(colorbar_title=\"Number of confirmed cases\")\n",
        "\n",
        "fig.show()"
      ],
      "execution_count": 22,
      "outputs": [
        {
          "output_type": "display_data",
          "data": {
            "text/html": [
              "<div>\n",
              "        \n",
              "        \n",
              "            <div id=\"0e7a65de-abc6-4cf6-a3d7-10d116a96189\" class=\"plotly-graph-div\" style=\"height:525px; width:100%;\"></div>\n",
              "            <script type=\"text/javascript\">\n",
              "                require([\"plotly\"], function(Plotly) {\n",
              "                    window.PLOTLYENV=window.PLOTLYENV || {};\n",
              "                    \n",
              "                if (document.getElementById(\"0e7a65de-abc6-4cf6-a3d7-10d116a96189\")) {\n",
              "                    Plotly.newPlot(\n",
              "                        '0e7a65de-abc6-4cf6-a3d7-10d116a96189',\n",
              "                        [{\"coloraxis\": \"coloraxis\", \"geo\": \"geo\", \"hoverlabel\": {\"namelength\": 0}, \"hovertemplate\": \"<b>%{hovertext}</b><br><br>locations=%{location}<br>color=%{z}\", \"hovertext\": [\"Andorra\", \"Antigua and Barbuda\", \"Bahamas\", \"Barbados\", \"Belize\", \"Benin\", \"Bhutan\", \"Brunei\", \"Burkina Faso\", \"Burundi\", \"Central African Republic\", \"Chad\", \"China\", \"Comoros\", \"Cote d'Ivoire\", \"Diamond Princess\", \"Djibouti\", \"Dominica\", \"Equatorial Guinea\", \"Eritrea\", \"Eswatini\", \"Fiji\", \"Gambia\", \"Grenada\", \"Guinea-Bissau\", \"Holy See\", \"Iceland\", \"Laos\", \"Lesotho\", \"Liberia\", \"Liechtenstein\", \"MS Zaandam\", \"Malta\", \"Marshall Islands\", \"Mauritania\", \"Mauritius\", \"Micronesia\", \"Monaco\", \"New Zealand\", \"Nicaragua\", \"Niger\", \"Peru\", \"Saint Kitts and Nevis\", \"Saint Lucia\", \"Saint Vincent and the Grenadines\", \"Samoa\", \"San Marino\", \"Sao Tome and Principe\", \"Senegal\", \"Seychelles\", \"Sierra Leone\", \"Solomon Islands\", \"South Sudan\", \"Taiwan*\", \"Tajikistan\", \"Tanzania\", \"Timor-Leste\", \"Vanuatu\", \"Vietnam\", \"Yemen\"], \"locationmode\": \"country names\", \"locations\": [\"Andorra\", \"Antigua and Barbuda\", \"Bahamas\", \"Barbados\", \"Belize\", \"Benin\", \"Bhutan\", \"Brunei\", \"Burkina Faso\", \"Burundi\", \"Central African Republic\", \"Chad\", \"China\", \"Comoros\", \"Cote d'Ivoire\", \"Diamond Princess\", \"Djibouti\", \"Dominica\", \"Equatorial Guinea\", \"Eritrea\", \"Eswatini\", \"Fiji\", \"Gambia\", \"Grenada\", \"Guinea-Bissau\", \"Holy See\", \"Iceland\", \"Laos\", \"Lesotho\", \"Liberia\", \"Liechtenstein\", \"MS Zaandam\", \"Malta\", \"Marshall Islands\", \"Mauritania\", \"Mauritius\", \"Micronesia\", \"Monaco\", \"New Zealand\", \"Nicaragua\", \"Niger\", \"Peru\", \"Saint Kitts and Nevis\", \"Saint Lucia\", \"Saint Vincent and the Grenadines\", \"Samoa\", \"San Marino\", \"Sao Tome and Principe\", \"Senegal\", \"Seychelles\", \"Sierra Leone\", \"Solomon Islands\", \"South Sudan\", \"Taiwan*\", \"Tajikistan\", \"Tanzania\", \"Timor-Leste\", \"Vanuatu\", \"Vietnam\", \"Yemen\"], \"name\": \"\", \"type\": \"choropleth\", \"z\": [13569, 1257, 11396, 3995, 12764, 8025, 1394, 235, 13415, 4494, 7079, 4924, 102873, 3872, 46942, 712, 11493, 184, 8436, 3932, 18551, 230, 5968, 161, 3751, 27, 6555, 1801, 10822, 2142, 3000, 9, 30504, 4, 19149, 1293, 1, 2501, 2668, 7193, 5383, 1925289, 50, 4945, 1973, 3, 5087, 2338, 41090, 9764, 4121, 20, 10652, 4322, 13308, 509, 5637, 4, 5275, 6658]}],\n",
              "                        {\"coloraxis\": {\"colorbar\": {\"title\": {\"text\": \"Number of confirmed cases\"}}, \"colorscale\": [[0.0, \"#0d0887\"], [0.1111111111111111, \"#46039f\"], [0.2222222222222222, \"#7201a8\"], [0.3333333333333333, \"#9c179e\"], [0.4444444444444444, \"#bd3786\"], [0.5555555555555556, \"#d8576b\"], [0.6666666666666666, \"#ed7953\"], [0.7777777777777778, \"#fb9f3a\"], [0.8888888888888888, \"#fdca26\"], [1.0, \"#f0f921\"]]}, \"geo\": {\"center\": {}, \"domain\": {\"x\": [0.0, 1.0], \"y\": [0.0, 1.0]}}, \"legend\": {\"tracegroupgap\": 0}, \"margin\": {\"t\": 60}, \"template\": {\"data\": {\"bar\": [{\"error_x\": {\"color\": \"#2a3f5f\"}, \"error_y\": {\"color\": \"#2a3f5f\"}, \"marker\": {\"line\": {\"color\": \"white\", \"width\": 0.5}}, \"type\": \"bar\"}], \"barpolar\": [{\"marker\": {\"line\": {\"color\": \"white\", \"width\": 0.5}}, \"type\": \"barpolar\"}], \"carpet\": [{\"aaxis\": {\"endlinecolor\": \"#2a3f5f\", \"gridcolor\": \"#C8D4E3\", \"linecolor\": \"#C8D4E3\", \"minorgridcolor\": \"#C8D4E3\", \"startlinecolor\": \"#2a3f5f\"}, \"baxis\": {\"endlinecolor\": \"#2a3f5f\", \"gridcolor\": \"#C8D4E3\", \"linecolor\": \"#C8D4E3\", \"minorgridcolor\": \"#C8D4E3\", \"startlinecolor\": \"#2a3f5f\"}, \"type\": \"carpet\"}], \"choropleth\": [{\"colorbar\": {\"outlinewidth\": 0, \"ticks\": \"\"}, \"type\": \"choropleth\"}], \"contour\": [{\"colorbar\": {\"outlinewidth\": 0, \"ticks\": \"\"}, \"colorscale\": [[0.0, \"#0d0887\"], [0.1111111111111111, \"#46039f\"], [0.2222222222222222, \"#7201a8\"], [0.3333333333333333, \"#9c179e\"], [0.4444444444444444, \"#bd3786\"], [0.5555555555555556, \"#d8576b\"], [0.6666666666666666, \"#ed7953\"], [0.7777777777777778, \"#fb9f3a\"], [0.8888888888888888, \"#fdca26\"], [1.0, \"#f0f921\"]], \"type\": \"contour\"}], \"contourcarpet\": [{\"colorbar\": {\"outlinewidth\": 0, \"ticks\": \"\"}, \"type\": \"contourcarpet\"}], \"heatmap\": [{\"colorbar\": {\"outlinewidth\": 0, \"ticks\": \"\"}, \"colorscale\": [[0.0, \"#0d0887\"], [0.1111111111111111, \"#46039f\"], [0.2222222222222222, \"#7201a8\"], [0.3333333333333333, \"#9c179e\"], [0.4444444444444444, \"#bd3786\"], [0.5555555555555556, \"#d8576b\"], [0.6666666666666666, \"#ed7953\"], [0.7777777777777778, \"#fb9f3a\"], [0.8888888888888888, \"#fdca26\"], [1.0, \"#f0f921\"]], \"type\": \"heatmap\"}], \"heatmapgl\": [{\"colorbar\": {\"outlinewidth\": 0, \"ticks\": \"\"}, \"colorscale\": [[0.0, \"#0d0887\"], [0.1111111111111111, \"#46039f\"], [0.2222222222222222, \"#7201a8\"], [0.3333333333333333, \"#9c179e\"], [0.4444444444444444, \"#bd3786\"], [0.5555555555555556, \"#d8576b\"], [0.6666666666666666, \"#ed7953\"], [0.7777777777777778, \"#fb9f3a\"], [0.8888888888888888, \"#fdca26\"], [1.0, \"#f0f921\"]], \"type\": \"heatmapgl\"}], \"histogram\": [{\"marker\": {\"colorbar\": {\"outlinewidth\": 0, \"ticks\": \"\"}}, \"type\": \"histogram\"}], \"histogram2d\": [{\"colorbar\": {\"outlinewidth\": 0, \"ticks\": \"\"}, \"colorscale\": [[0.0, \"#0d0887\"], [0.1111111111111111, \"#46039f\"], [0.2222222222222222, \"#7201a8\"], [0.3333333333333333, \"#9c179e\"], [0.4444444444444444, \"#bd3786\"], [0.5555555555555556, \"#d8576b\"], [0.6666666666666666, \"#ed7953\"], [0.7777777777777778, \"#fb9f3a\"], [0.8888888888888888, \"#fdca26\"], [1.0, \"#f0f921\"]], \"type\": \"histogram2d\"}], \"histogram2dcontour\": [{\"colorbar\": {\"outlinewidth\": 0, \"ticks\": \"\"}, \"colorscale\": [[0.0, \"#0d0887\"], [0.1111111111111111, \"#46039f\"], [0.2222222222222222, \"#7201a8\"], [0.3333333333333333, \"#9c179e\"], [0.4444444444444444, \"#bd3786\"], [0.5555555555555556, \"#d8576b\"], [0.6666666666666666, \"#ed7953\"], [0.7777777777777778, \"#fb9f3a\"], [0.8888888888888888, \"#fdca26\"], [1.0, \"#f0f921\"]], \"type\": \"histogram2dcontour\"}], \"mesh3d\": [{\"colorbar\": {\"outlinewidth\": 0, \"ticks\": \"\"}, \"type\": \"mesh3d\"}], \"parcoords\": [{\"line\": {\"colorbar\": {\"outlinewidth\": 0, \"ticks\": \"\"}}, \"type\": \"parcoords\"}], \"pie\": [{\"automargin\": true, \"type\": \"pie\"}], \"scatter\": [{\"marker\": {\"colorbar\": {\"outlinewidth\": 0, \"ticks\": \"\"}}, \"type\": \"scatter\"}], \"scatter3d\": [{\"line\": {\"colorbar\": {\"outlinewidth\": 0, \"ticks\": \"\"}}, \"marker\": {\"colorbar\": {\"outlinewidth\": 0, \"ticks\": \"\"}}, \"type\": \"scatter3d\"}], \"scattercarpet\": [{\"marker\": {\"colorbar\": {\"outlinewidth\": 0, \"ticks\": \"\"}}, \"type\": \"scattercarpet\"}], \"scattergeo\": [{\"marker\": {\"colorbar\": {\"outlinewidth\": 0, \"ticks\": \"\"}}, \"type\": \"scattergeo\"}], \"scattergl\": [{\"marker\": {\"colorbar\": {\"outlinewidth\": 0, \"ticks\": \"\"}}, \"type\": \"scattergl\"}], \"scattermapbox\": [{\"marker\": {\"colorbar\": {\"outlinewidth\": 0, \"ticks\": \"\"}}, \"type\": \"scattermapbox\"}], \"scatterpolar\": [{\"marker\": {\"colorbar\": {\"outlinewidth\": 0, \"ticks\": \"\"}}, \"type\": \"scatterpolar\"}], \"scatterpolargl\": [{\"marker\": {\"colorbar\": {\"outlinewidth\": 0, \"ticks\": \"\"}}, \"type\": \"scatterpolargl\"}], \"scatterternary\": [{\"marker\": {\"colorbar\": {\"outlinewidth\": 0, \"ticks\": \"\"}}, \"type\": \"scatterternary\"}], \"surface\": [{\"colorbar\": {\"outlinewidth\": 0, \"ticks\": \"\"}, \"colorscale\": [[0.0, \"#0d0887\"], [0.1111111111111111, \"#46039f\"], [0.2222222222222222, \"#7201a8\"], [0.3333333333333333, \"#9c179e\"], [0.4444444444444444, \"#bd3786\"], [0.5555555555555556, \"#d8576b\"], [0.6666666666666666, \"#ed7953\"], [0.7777777777777778, \"#fb9f3a\"], [0.8888888888888888, \"#fdca26\"], [1.0, \"#f0f921\"]], \"type\": \"surface\"}], \"table\": [{\"cells\": {\"fill\": {\"color\": \"#EBF0F8\"}, \"line\": {\"color\": \"white\"}}, \"header\": {\"fill\": {\"color\": \"#C8D4E3\"}, \"line\": {\"color\": \"white\"}}, \"type\": \"table\"}]}, \"layout\": {\"annotationdefaults\": {\"arrowcolor\": \"#2a3f5f\", \"arrowhead\": 0, \"arrowwidth\": 1}, \"coloraxis\": {\"colorbar\": {\"outlinewidth\": 0, \"ticks\": \"\"}}, \"colorscale\": {\"diverging\": [[0, \"#8e0152\"], [0.1, \"#c51b7d\"], [0.2, \"#de77ae\"], [0.3, \"#f1b6da\"], [0.4, \"#fde0ef\"], [0.5, \"#f7f7f7\"], [0.6, \"#e6f5d0\"], [0.7, \"#b8e186\"], [0.8, \"#7fbc41\"], [0.9, \"#4d9221\"], [1, \"#276419\"]], \"sequential\": [[0.0, \"#0d0887\"], [0.1111111111111111, \"#46039f\"], [0.2222222222222222, \"#7201a8\"], [0.3333333333333333, \"#9c179e\"], [0.4444444444444444, \"#bd3786\"], [0.5555555555555556, \"#d8576b\"], [0.6666666666666666, \"#ed7953\"], [0.7777777777777778, \"#fb9f3a\"], [0.8888888888888888, \"#fdca26\"], [1.0, \"#f0f921\"]], \"sequentialminus\": [[0.0, \"#0d0887\"], [0.1111111111111111, \"#46039f\"], [0.2222222222222222, \"#7201a8\"], [0.3333333333333333, \"#9c179e\"], [0.4444444444444444, \"#bd3786\"], [0.5555555555555556, \"#d8576b\"], [0.6666666666666666, \"#ed7953\"], [0.7777777777777778, \"#fb9f3a\"], [0.8888888888888888, \"#fdca26\"], [1.0, \"#f0f921\"]]}, \"colorway\": [\"#636efa\", \"#EF553B\", \"#00cc96\", \"#ab63fa\", \"#FFA15A\", \"#19d3f3\", \"#FF6692\", \"#B6E880\", \"#FF97FF\", \"#FECB52\"], \"font\": {\"color\": \"#2a3f5f\"}, \"geo\": {\"bgcolor\": \"white\", \"lakecolor\": \"white\", \"landcolor\": \"white\", \"showlakes\": true, \"showland\": true, \"subunitcolor\": \"#C8D4E3\"}, \"hoverlabel\": {\"align\": \"left\"}, \"hovermode\": \"closest\", \"mapbox\": {\"style\": \"light\"}, \"paper_bgcolor\": \"white\", \"plot_bgcolor\": \"white\", \"polar\": {\"angularaxis\": {\"gridcolor\": \"#EBF0F8\", \"linecolor\": \"#EBF0F8\", \"ticks\": \"\"}, \"bgcolor\": \"white\", \"radialaxis\": {\"gridcolor\": \"#EBF0F8\", \"linecolor\": \"#EBF0F8\", \"ticks\": \"\"}}, \"scene\": {\"xaxis\": {\"backgroundcolor\": \"white\", \"gridcolor\": \"#DFE8F3\", \"gridwidth\": 2, \"linecolor\": \"#EBF0F8\", \"showbackground\": true, \"ticks\": \"\", \"zerolinecolor\": \"#EBF0F8\"}, \"yaxis\": {\"backgroundcolor\": \"white\", \"gridcolor\": \"#DFE8F3\", \"gridwidth\": 2, \"linecolor\": \"#EBF0F8\", \"showbackground\": true, \"ticks\": \"\", \"zerolinecolor\": \"#EBF0F8\"}, \"zaxis\": {\"backgroundcolor\": \"white\", \"gridcolor\": \"#DFE8F3\", \"gridwidth\": 2, \"linecolor\": \"#EBF0F8\", \"showbackground\": true, \"ticks\": \"\", \"zerolinecolor\": \"#EBF0F8\"}}, \"shapedefaults\": {\"line\": {\"color\": \"#2a3f5f\"}}, \"ternary\": {\"aaxis\": {\"gridcolor\": \"#DFE8F3\", \"linecolor\": \"#A2B1C6\", \"ticks\": \"\"}, \"baxis\": {\"gridcolor\": \"#DFE8F3\", \"linecolor\": \"#A2B1C6\", \"ticks\": \"\"}, \"bgcolor\": \"white\", \"caxis\": {\"gridcolor\": \"#DFE8F3\", \"linecolor\": \"#A2B1C6\", \"ticks\": \"\"}}, \"title\": {\"x\": 0.05}, \"xaxis\": {\"automargin\": true, \"gridcolor\": \"#EBF0F8\", \"linecolor\": \"#EBF0F8\", \"ticks\": \"\", \"title\": {\"standoff\": 15}, \"zerolinecolor\": \"#EBF0F8\", \"zerolinewidth\": 2}, \"yaxis\": {\"automargin\": true, \"gridcolor\": \"#EBF0F8\", \"linecolor\": \"#EBF0F8\", \"ticks\": \"\", \"title\": {\"standoff\": 15}, \"zerolinecolor\": \"#EBF0F8\", \"zerolinewidth\": 2}}}, \"title\": {\"text\": \"The country is quite vulnerable\"}},\n",
              "                        {\"responsive\": true}\n",
              "                    ).then(function(){\n",
              "                            \n",
              "var gd = document.getElementById('0e7a65de-abc6-4cf6-a3d7-10d116a96189');\n",
              "var x = new MutationObserver(function (mutations, observer) {{\n",
              "        var display = window.getComputedStyle(gd).display;\n",
              "        if (!display || display === 'none') {{\n",
              "            console.log([gd, 'removed!']);\n",
              "            Plotly.purge(gd);\n",
              "            observer.disconnect();\n",
              "        }}\n",
              "}});\n",
              "\n",
              "// Listen for the removal of the full notebook cells\n",
              "var notebookContainer = gd.closest('#notebook-container');\n",
              "if (notebookContainer) {{\n",
              "    x.observe(notebookContainer, {childList: true});\n",
              "}}\n",
              "\n",
              "// Listen for the clearing of the current output cell\n",
              "var outputEl = gd.closest('.output');\n",
              "if (outputEl) {{\n",
              "    x.observe(outputEl, {childList: true});\n",
              "}}\n",
              "\n",
              "                        })\n",
              "                };\n",
              "                });\n",
              "            </script>\n",
              "        </div>"
            ],
            "application/vnd.plotly.v1+json": {
              "data": [
                {
                  "hovertemplate": "<b>%{hovertext}</b><br><br>locations=%{location}<br>color=%{z}",
                  "name": "",
                  "geo": "geo",
                  "hovertext": [
                    "Andorra",
                    "Antigua and Barbuda",
                    "Bahamas",
                    "Barbados",
                    "Belize",
                    "Benin",
                    "Bhutan",
                    "Brunei",
                    "Burkina Faso",
                    "Burundi",
                    "Central African Republic",
                    "Chad",
                    "China",
                    "Comoros",
                    "Cote d'Ivoire",
                    "Diamond Princess",
                    "Djibouti",
                    "Dominica",
                    "Equatorial Guinea",
                    "Eritrea",
                    "Eswatini",
                    "Fiji",
                    "Gambia",
                    "Grenada",
                    "Guinea-Bissau",
                    "Holy See",
                    "Iceland",
                    "Laos",
                    "Lesotho",
                    "Liberia",
                    "Liechtenstein",
                    "MS Zaandam",
                    "Malta",
                    "Marshall Islands",
                    "Mauritania",
                    "Mauritius",
                    "Micronesia",
                    "Monaco",
                    "New Zealand",
                    "Nicaragua",
                    "Niger",
                    "Peru",
                    "Saint Kitts and Nevis",
                    "Saint Lucia",
                    "Saint Vincent and the Grenadines",
                    "Samoa",
                    "San Marino",
                    "Sao Tome and Principe",
                    "Senegal",
                    "Seychelles",
                    "Sierra Leone",
                    "Solomon Islands",
                    "South Sudan",
                    "Taiwan*",
                    "Tajikistan",
                    "Tanzania",
                    "Timor-Leste",
                    "Vanuatu",
                    "Vietnam",
                    "Yemen"
                  ],
                  "locations": [
                    "Andorra",
                    "Antigua and Barbuda",
                    "Bahamas",
                    "Barbados",
                    "Belize",
                    "Benin",
                    "Bhutan",
                    "Brunei",
                    "Burkina Faso",
                    "Burundi",
                    "Central African Republic",
                    "Chad",
                    "China",
                    "Comoros",
                    "Cote d'Ivoire",
                    "Diamond Princess",
                    "Djibouti",
                    "Dominica",
                    "Equatorial Guinea",
                    "Eritrea",
                    "Eswatini",
                    "Fiji",
                    "Gambia",
                    "Grenada",
                    "Guinea-Bissau",
                    "Holy See",
                    "Iceland",
                    "Laos",
                    "Lesotho",
                    "Liberia",
                    "Liechtenstein",
                    "MS Zaandam",
                    "Malta",
                    "Marshall Islands",
                    "Mauritania",
                    "Mauritius",
                    "Micronesia",
                    "Monaco",
                    "New Zealand",
                    "Nicaragua",
                    "Niger",
                    "Peru",
                    "Saint Kitts and Nevis",
                    "Saint Lucia",
                    "Saint Vincent and the Grenadines",
                    "Samoa",
                    "San Marino",
                    "Sao Tome and Principe",
                    "Senegal",
                    "Seychelles",
                    "Sierra Leone",
                    "Solomon Islands",
                    "South Sudan",
                    "Taiwan*",
                    "Tajikistan",
                    "Tanzania",
                    "Timor-Leste",
                    "Vanuatu",
                    "Vietnam",
                    "Yemen"
                  ],
                  "hoverlabel": {
                    "namelength": 0
                  },
                  "type": "choropleth",
                  "z": [
                    13569,
                    1257,
                    11396,
                    3995,
                    12764,
                    8025,
                    1394,
                    235,
                    13415,
                    4494,
                    7079,
                    4924,
                    102873,
                    3872,
                    46942,
                    712,
                    11493,
                    184,
                    8436,
                    3932,
                    18551,
                    230,
                    5968,
                    161,
                    3751,
                    27,
                    6555,
                    1801,
                    10822,
                    2142,
                    3000,
                    9,
                    30504,
                    4,
                    19149,
                    1293,
                    1,
                    2501,
                    2668,
                    7193,
                    5383,
                    1925289,
                    50,
                    4945,
                    1973,
                    3,
                    5087,
                    2338,
                    41090,
                    9764,
                    4121,
                    20,
                    10652,
                    4322,
                    13308,
                    509,
                    5637,
                    4,
                    5275,
                    6658
                  ],
                  "locationmode": "country names",
                  "coloraxis": "coloraxis"
                }
              ],
              "config": {
                "plotlyServerURL": "https://plot.ly"
              },
              "layout": {
                "title": {
                  "text": "The country is quite vulnerable"
                },
                "geo": {
                  "domain": {
                    "y": [
                      0,
                      1
                    ],
                    "x": [
                      0,
                      1
                    ]
                  },
                  "center": {}
                },
                "template": {
                  "layout": {
                    "shapedefaults": {
                      "line": {
                        "color": "#2a3f5f"
                      }
                    },
                    "polar": {
                      "radialaxis": {
                        "ticks": "",
                        "gridcolor": "#EBF0F8",
                        "linecolor": "#EBF0F8"
                      },
                      "bgcolor": "white",
                      "angularaxis": {
                        "ticks": "",
                        "gridcolor": "#EBF0F8",
                        "linecolor": "#EBF0F8"
                      }
                    },
                    "colorway": [
                      "#636efa",
                      "#EF553B",
                      "#00cc96",
                      "#ab63fa",
                      "#FFA15A",
                      "#19d3f3",
                      "#FF6692",
                      "#B6E880",
                      "#FF97FF",
                      "#FECB52"
                    ],
                    "xaxis": {
                      "automargin": true,
                      "title": {
                        "standoff": 15
                      },
                      "zerolinewidth": 2,
                      "ticks": "",
                      "zerolinecolor": "#EBF0F8",
                      "gridcolor": "#EBF0F8",
                      "linecolor": "#EBF0F8"
                    },
                    "colorscale": {
                      "diverging": [
                        [
                          0,
                          "#8e0152"
                        ],
                        [
                          0.1,
                          "#c51b7d"
                        ],
                        [
                          0.2,
                          "#de77ae"
                        ],
                        [
                          0.3,
                          "#f1b6da"
                        ],
                        [
                          0.4,
                          "#fde0ef"
                        ],
                        [
                          0.5,
                          "#f7f7f7"
                        ],
                        [
                          0.6,
                          "#e6f5d0"
                        ],
                        [
                          0.7,
                          "#b8e186"
                        ],
                        [
                          0.8,
                          "#7fbc41"
                        ],
                        [
                          0.9,
                          "#4d9221"
                        ],
                        [
                          1,
                          "#276419"
                        ]
                      ],
                      "sequential": [
                        [
                          0,
                          "#0d0887"
                        ],
                        [
                          0.1111111111111111,
                          "#46039f"
                        ],
                        [
                          0.2222222222222222,
                          "#7201a8"
                        ],
                        [
                          0.3333333333333333,
                          "#9c179e"
                        ],
                        [
                          0.4444444444444444,
                          "#bd3786"
                        ],
                        [
                          0.5555555555555556,
                          "#d8576b"
                        ],
                        [
                          0.6666666666666666,
                          "#ed7953"
                        ],
                        [
                          0.7777777777777778,
                          "#fb9f3a"
                        ],
                        [
                          0.8888888888888888,
                          "#fdca26"
                        ],
                        [
                          1,
                          "#f0f921"
                        ]
                      ],
                      "sequentialminus": [
                        [
                          0,
                          "#0d0887"
                        ],
                        [
                          0.1111111111111111,
                          "#46039f"
                        ],
                        [
                          0.2222222222222222,
                          "#7201a8"
                        ],
                        [
                          0.3333333333333333,
                          "#9c179e"
                        ],
                        [
                          0.4444444444444444,
                          "#bd3786"
                        ],
                        [
                          0.5555555555555556,
                          "#d8576b"
                        ],
                        [
                          0.6666666666666666,
                          "#ed7953"
                        ],
                        [
                          0.7777777777777778,
                          "#fb9f3a"
                        ],
                        [
                          0.8888888888888888,
                          "#fdca26"
                        ],
                        [
                          1,
                          "#f0f921"
                        ]
                      ]
                    },
                    "paper_bgcolor": "white",
                    "plot_bgcolor": "white",
                    "title": {
                      "x": 0.05
                    },
                    "scene": {
                      "zaxis": {
                        "backgroundcolor": "white",
                        "ticks": "",
                        "gridwidth": 2,
                        "showbackground": true,
                        "zerolinecolor": "#EBF0F8",
                        "gridcolor": "#DFE8F3",
                        "linecolor": "#EBF0F8"
                      },
                      "xaxis": {
                        "backgroundcolor": "white",
                        "ticks": "",
                        "gridwidth": 2,
                        "showbackground": true,
                        "zerolinecolor": "#EBF0F8",
                        "gridcolor": "#DFE8F3",
                        "linecolor": "#EBF0F8"
                      },
                      "yaxis": {
                        "backgroundcolor": "white",
                        "ticks": "",
                        "gridwidth": 2,
                        "showbackground": true,
                        "zerolinecolor": "#EBF0F8",
                        "gridcolor": "#DFE8F3",
                        "linecolor": "#EBF0F8"
                      }
                    },
                    "yaxis": {
                      "automargin": true,
                      "title": {
                        "standoff": 15
                      },
                      "zerolinewidth": 2,
                      "ticks": "",
                      "zerolinecolor": "#EBF0F8",
                      "gridcolor": "#EBF0F8",
                      "linecolor": "#EBF0F8"
                    },
                    "annotationdefaults": {
                      "arrowwidth": 1,
                      "arrowhead": 0,
                      "arrowcolor": "#2a3f5f"
                    },
                    "hoverlabel": {
                      "align": "left"
                    },
                    "ternary": {
                      "bgcolor": "white",
                      "baxis": {
                        "ticks": "",
                        "gridcolor": "#DFE8F3",
                        "linecolor": "#A2B1C6"
                      },
                      "caxis": {
                        "ticks": "",
                        "gridcolor": "#DFE8F3",
                        "linecolor": "#A2B1C6"
                      },
                      "aaxis": {
                        "ticks": "",
                        "gridcolor": "#DFE8F3",
                        "linecolor": "#A2B1C6"
                      }
                    },
                    "mapbox": {
                      "style": "light"
                    },
                    "hovermode": "closest",
                    "font": {
                      "color": "#2a3f5f"
                    },
                    "geo": {
                      "showland": true,
                      "landcolor": "white",
                      "showlakes": true,
                      "bgcolor": "white",
                      "subunitcolor": "#C8D4E3",
                      "lakecolor": "white"
                    },
                    "coloraxis": {
                      "colorbar": {
                        "outlinewidth": 0,
                        "ticks": ""
                      }
                    }
                  },
                  "data": {
                    "mesh3d": [
                      {
                        "colorbar": {
                          "outlinewidth": 0,
                          "ticks": ""
                        },
                        "type": "mesh3d"
                      }
                    ],
                    "scattercarpet": [
                      {
                        "marker": {
                          "colorbar": {
                            "outlinewidth": 0,
                            "ticks": ""
                          }
                        },
                        "type": "scattercarpet"
                      }
                    ],
                    "pie": [
                      {
                        "automargin": true,
                        "type": "pie"
                      }
                    ],
                    "surface": [
                      {
                        "colorbar": {
                          "outlinewidth": 0,
                          "ticks": ""
                        },
                        "type": "surface",
                        "colorscale": [
                          [
                            0,
                            "#0d0887"
                          ],
                          [
                            0.1111111111111111,
                            "#46039f"
                          ],
                          [
                            0.2222222222222222,
                            "#7201a8"
                          ],
                          [
                            0.3333333333333333,
                            "#9c179e"
                          ],
                          [
                            0.4444444444444444,
                            "#bd3786"
                          ],
                          [
                            0.5555555555555556,
                            "#d8576b"
                          ],
                          [
                            0.6666666666666666,
                            "#ed7953"
                          ],
                          [
                            0.7777777777777778,
                            "#fb9f3a"
                          ],
                          [
                            0.8888888888888888,
                            "#fdca26"
                          ],
                          [
                            1,
                            "#f0f921"
                          ]
                        ]
                      }
                    ],
                    "table": [
                      {
                        "header": {
                          "line": {
                            "color": "white"
                          },
                          "fill": {
                            "color": "#C8D4E3"
                          }
                        },
                        "cells": {
                          "line": {
                            "color": "white"
                          },
                          "fill": {
                            "color": "#EBF0F8"
                          }
                        },
                        "type": "table"
                      }
                    ],
                    "scatterpolargl": [
                      {
                        "marker": {
                          "colorbar": {
                            "outlinewidth": 0,
                            "ticks": ""
                          }
                        },
                        "type": "scatterpolargl"
                      }
                    ],
                    "contour": [
                      {
                        "colorbar": {
                          "outlinewidth": 0,
                          "ticks": ""
                        },
                        "type": "contour",
                        "colorscale": [
                          [
                            0,
                            "#0d0887"
                          ],
                          [
                            0.1111111111111111,
                            "#46039f"
                          ],
                          [
                            0.2222222222222222,
                            "#7201a8"
                          ],
                          [
                            0.3333333333333333,
                            "#9c179e"
                          ],
                          [
                            0.4444444444444444,
                            "#bd3786"
                          ],
                          [
                            0.5555555555555556,
                            "#d8576b"
                          ],
                          [
                            0.6666666666666666,
                            "#ed7953"
                          ],
                          [
                            0.7777777777777778,
                            "#fb9f3a"
                          ],
                          [
                            0.8888888888888888,
                            "#fdca26"
                          ],
                          [
                            1,
                            "#f0f921"
                          ]
                        ]
                      }
                    ],
                    "carpet": [
                      {
                        "type": "carpet",
                        "baxis": {
                          "minorgridcolor": "#C8D4E3",
                          "gridcolor": "#C8D4E3",
                          "linecolor": "#C8D4E3",
                          "endlinecolor": "#2a3f5f",
                          "startlinecolor": "#2a3f5f"
                        },
                        "aaxis": {
                          "minorgridcolor": "#C8D4E3",
                          "gridcolor": "#C8D4E3",
                          "linecolor": "#C8D4E3",
                          "endlinecolor": "#2a3f5f",
                          "startlinecolor": "#2a3f5f"
                        }
                      }
                    ],
                    "contourcarpet": [
                      {
                        "colorbar": {
                          "outlinewidth": 0,
                          "ticks": ""
                        },
                        "type": "contourcarpet"
                      }
                    ],
                    "heatmap": [
                      {
                        "colorbar": {
                          "outlinewidth": 0,
                          "ticks": ""
                        },
                        "type": "heatmap",
                        "colorscale": [
                          [
                            0,
                            "#0d0887"
                          ],
                          [
                            0.1111111111111111,
                            "#46039f"
                          ],
                          [
                            0.2222222222222222,
                            "#7201a8"
                          ],
                          [
                            0.3333333333333333,
                            "#9c179e"
                          ],
                          [
                            0.4444444444444444,
                            "#bd3786"
                          ],
                          [
                            0.5555555555555556,
                            "#d8576b"
                          ],
                          [
                            0.6666666666666666,
                            "#ed7953"
                          ],
                          [
                            0.7777777777777778,
                            "#fb9f3a"
                          ],
                          [
                            0.8888888888888888,
                            "#fdca26"
                          ],
                          [
                            1,
                            "#f0f921"
                          ]
                        ]
                      }
                    ],
                    "scattermapbox": [
                      {
                        "marker": {
                          "colorbar": {
                            "outlinewidth": 0,
                            "ticks": ""
                          }
                        },
                        "type": "scattermapbox"
                      }
                    ],
                    "scatter3d": [
                      {
                        "marker": {
                          "colorbar": {
                            "outlinewidth": 0,
                            "ticks": ""
                          }
                        },
                        "line": {
                          "colorbar": {
                            "outlinewidth": 0,
                            "ticks": ""
                          }
                        },
                        "type": "scatter3d"
                      }
                    ],
                    "scattergl": [
                      {
                        "marker": {
                          "colorbar": {
                            "outlinewidth": 0,
                            "ticks": ""
                          }
                        },
                        "type": "scattergl"
                      }
                    ],
                    "scatterternary": [
                      {
                        "marker": {
                          "colorbar": {
                            "outlinewidth": 0,
                            "ticks": ""
                          }
                        },
                        "type": "scatterternary"
                      }
                    ],
                    "histogram": [
                      {
                        "marker": {
                          "colorbar": {
                            "outlinewidth": 0,
                            "ticks": ""
                          }
                        },
                        "type": "histogram"
                      }
                    ],
                    "heatmapgl": [
                      {
                        "colorbar": {
                          "outlinewidth": 0,
                          "ticks": ""
                        },
                        "type": "heatmapgl",
                        "colorscale": [
                          [
                            0,
                            "#0d0887"
                          ],
                          [
                            0.1111111111111111,
                            "#46039f"
                          ],
                          [
                            0.2222222222222222,
                            "#7201a8"
                          ],
                          [
                            0.3333333333333333,
                            "#9c179e"
                          ],
                          [
                            0.4444444444444444,
                            "#bd3786"
                          ],
                          [
                            0.5555555555555556,
                            "#d8576b"
                          ],
                          [
                            0.6666666666666666,
                            "#ed7953"
                          ],
                          [
                            0.7777777777777778,
                            "#fb9f3a"
                          ],
                          [
                            0.8888888888888888,
                            "#fdca26"
                          ],
                          [
                            1,
                            "#f0f921"
                          ]
                        ]
                      }
                    ],
                    "scatterpolar": [
                      {
                        "marker": {
                          "colorbar": {
                            "outlinewidth": 0,
                            "ticks": ""
                          }
                        },
                        "type": "scatterpolar"
                      }
                    ],
                    "histogram2d": [
                      {
                        "colorbar": {
                          "outlinewidth": 0,
                          "ticks": ""
                        },
                        "type": "histogram2d",
                        "colorscale": [
                          [
                            0,
                            "#0d0887"
                          ],
                          [
                            0.1111111111111111,
                            "#46039f"
                          ],
                          [
                            0.2222222222222222,
                            "#7201a8"
                          ],
                          [
                            0.3333333333333333,
                            "#9c179e"
                          ],
                          [
                            0.4444444444444444,
                            "#bd3786"
                          ],
                          [
                            0.5555555555555556,
                            "#d8576b"
                          ],
                          [
                            0.6666666666666666,
                            "#ed7953"
                          ],
                          [
                            0.7777777777777778,
                            "#fb9f3a"
                          ],
                          [
                            0.8888888888888888,
                            "#fdca26"
                          ],
                          [
                            1,
                            "#f0f921"
                          ]
                        ]
                      }
                    ],
                    "scattergeo": [
                      {
                        "marker": {
                          "colorbar": {
                            "outlinewidth": 0,
                            "ticks": ""
                          }
                        },
                        "type": "scattergeo"
                      }
                    ],
                    "bar": [
                      {
                        "marker": {
                          "line": {
                            "color": "white",
                            "width": 0.5
                          }
                        },
                        "type": "bar",
                        "error_x": {
                          "color": "#2a3f5f"
                        },
                        "error_y": {
                          "color": "#2a3f5f"
                        }
                      }
                    ],
                    "choropleth": [
                      {
                        "colorbar": {
                          "outlinewidth": 0,
                          "ticks": ""
                        },
                        "type": "choropleth"
                      }
                    ],
                    "parcoords": [
                      {
                        "line": {
                          "colorbar": {
                            "outlinewidth": 0,
                            "ticks": ""
                          }
                        },
                        "type": "parcoords"
                      }
                    ],
                    "barpolar": [
                      {
                        "marker": {
                          "line": {
                            "color": "white",
                            "width": 0.5
                          }
                        },
                        "type": "barpolar"
                      }
                    ],
                    "histogram2dcontour": [
                      {
                        "colorbar": {
                          "outlinewidth": 0,
                          "ticks": ""
                        },
                        "type": "histogram2dcontour",
                        "colorscale": [
                          [
                            0,
                            "#0d0887"
                          ],
                          [
                            0.1111111111111111,
                            "#46039f"
                          ],
                          [
                            0.2222222222222222,
                            "#7201a8"
                          ],
                          [
                            0.3333333333333333,
                            "#9c179e"
                          ],
                          [
                            0.4444444444444444,
                            "#bd3786"
                          ],
                          [
                            0.5555555555555556,
                            "#d8576b"
                          ],
                          [
                            0.6666666666666666,
                            "#ed7953"
                          ],
                          [
                            0.7777777777777778,
                            "#fb9f3a"
                          ],
                          [
                            0.8888888888888888,
                            "#fdca26"
                          ],
                          [
                            1,
                            "#f0f921"
                          ]
                        ]
                      }
                    ],
                    "scatter": [
                      {
                        "marker": {
                          "colorbar": {
                            "outlinewidth": 0,
                            "ticks": ""
                          }
                        },
                        "type": "scatter"
                      }
                    ]
                  }
                },
                "margin": {
                  "t": 60
                },
                "legend": {
                  "tracegroupgap": 0
                },
                "coloraxis": {
                  "colorbar": {
                    "title": {
                      "text": "Number of confirmed cases"
                    }
                  },
                  "colorscale": [
                    [
                      0,
                      "#0d0887"
                    ],
                    [
                      0.1111111111111111,
                      "#46039f"
                    ],
                    [
                      0.2222222222222222,
                      "#7201a8"
                    ],
                    [
                      0.3333333333333333,
                      "#9c179e"
                    ],
                    [
                      0.4444444444444444,
                      "#bd3786"
                    ],
                    [
                      0.5555555555555556,
                      "#d8576b"
                    ],
                    [
                      0.6666666666666666,
                      "#ed7953"
                    ],
                    [
                      0.7777777777777778,
                      "#fb9f3a"
                    ],
                    [
                      0.8888888888888888,
                      "#fdca26"
                    ],
                    [
                      1,
                      "#f0f921"
                    ]
                  ]
                }
              }
            }
          },
          "metadata": {
            "tags": []
          }
        }
      ]
    },
    {
      "cell_type": "code",
      "metadata": {
        "colab": {
          "base_uri": "https://localhost:8080/",
          "height": 0
        },
        "id": "00jfaHDaexQ3",
        "outputId": "24b40e77-b785-4750-a5eb-0079fab6695c"
      },
      "source": [
        "# Rawan\n",
        "fig = px.choropleth(last_day, locations=rawan['Country/Region'],\n",
        "                    color=rawan['Confirmed'],locationmode='country names', \n",
        "                    hover_name=rawan['Country/Region'], \n",
        "                    color_continuous_scale=px.colors.sequential.Plasma,\n",
        "                    template ='plotly_white')\n",
        "fig.update_layout(title_text=\"Negara Rawan\")\n",
        "fig.update_coloraxes(colorbar_title=\"Number of confirmed cases\")\n",
        "\n",
        "fig.show()"
      ],
      "execution_count": 23,
      "outputs": [
        {
          "output_type": "display_data",
          "data": {
            "text/html": [
              "<div>\n",
              "        \n",
              "        \n",
              "            <div id=\"3ef0bda0-dcd2-46f4-89e2-cc53774181f6\" class=\"plotly-graph-div\" style=\"height:525px; width:100%;\"></div>\n",
              "            <script type=\"text/javascript\">\n",
              "                require([\"plotly\"], function(Plotly) {\n",
              "                    window.PLOTLYENV=window.PLOTLYENV || {};\n",
              "                    \n",
              "                if (document.getElementById(\"3ef0bda0-dcd2-46f4-89e2-cc53774181f6\")) {\n",
              "                    Plotly.newPlot(\n",
              "                        '3ef0bda0-dcd2-46f4-89e2-cc53774181f6',\n",
              "                        [{\"coloraxis\": \"coloraxis\", \"geo\": \"geo\", \"hoverlabel\": {\"namelength\": 0}, \"hovertemplate\": \"<b>%{hovertext}</b><br><br>locations=%{location}<br>color=%{z}\", \"hovertext\": [\"Afghanistan\", \"Albania\", \"Andorra\", \"Angola\", \"Australia\", \"Bahamas\", \"Belize\", \"Botswana\", \"Burkina Faso\", \"Burundi\", \"Cabo Verde\", \"Cambodia\", \"Cameroon\", \"Congo (Brazzaville)\", \"Congo (Kinshasa)\", \"Cote d'Ivoire\", \"Croatia\", \"Cyprus\", \"Djibouti\", \"El Salvador\", \"Equatorial Guinea\", \"Eswatini\", \"Finland\", \"Gabon\", \"Ghana\", \"Guinea\", \"Guyana\", \"Haiti\", \"Israel\", \"Jamaica\", \"Kosovo\", \"Kyrgyzstan\", \"Laos\", \"Lesotho\", \"Luxembourg\", \"Madagascar\", \"Malawi\", \"Maldives\", \"Mali\", \"Malta\", \"Mauritania\", \"Moldova\", \"Mongolia\", \"Montenegro\", \"Morocco\", \"Mozambique\", \"Namibia\", \"Nicaragua\", \"North Macedonia\", \"Papua New Guinea\", \"Qatar\", \"Rwanda\", \"Senegal\", \"Seychelles\", \"Sierra Leone\", \"Singapore\", \"Somalia\", \"Sudan\", \"Suriname\", \"Syria\", \"Taiwan*\", \"Tajikistan\", \"Timor-Leste\", \"Togo\", \"Trinidad and Tobago\", \"Uganda\", \"Uzbekistan\", \"Vietnam\", \"West Bank and Gaza\", \"Yemen\", \"Zambia\", \"Zimbabwe\"], \"locationmode\": \"country names\", \"locations\": [\"Afghanistan\", \"Albania\", \"Andorra\", \"Angola\", \"Australia\", \"Bahamas\", \"Belize\", \"Botswana\", \"Burkina Faso\", \"Burundi\", \"Cabo Verde\", \"Cambodia\", \"Cameroon\", \"Congo (Brazzaville)\", \"Congo (Kinshasa)\", \"Cote d'Ivoire\", \"Croatia\", \"Cyprus\", \"Djibouti\", \"El Salvador\", \"Equatorial Guinea\", \"Eswatini\", \"Finland\", \"Gabon\", \"Ghana\", \"Guinea\", \"Guyana\", \"Haiti\", \"Israel\", \"Jamaica\", \"Kosovo\", \"Kyrgyzstan\", \"Laos\", \"Lesotho\", \"Luxembourg\", \"Madagascar\", \"Malawi\", \"Maldives\", \"Mali\", \"Malta\", \"Mauritania\", \"Moldova\", \"Mongolia\", \"Montenegro\", \"Morocco\", \"Mozambique\", \"Namibia\", \"Nicaragua\", \"North Macedonia\", \"Papua New Guinea\", \"Qatar\", \"Rwanda\", \"Senegal\", \"Seychelles\", \"Sierra Leone\", \"Singapore\", \"Somalia\", \"Sudan\", \"Suriname\", \"Syria\", \"Taiwan*\", \"Tajikistan\", \"Timor-Leste\", \"Togo\", \"Trinidad and Tobago\", \"Uganda\", \"Uzbekistan\", \"Vietnam\", \"West Bank and Gaza\", \"Yemen\", \"Zambia\", \"Zimbabwe\"], \"name\": \"\", \"type\": \"choropleth\", \"z\": [65728, 132209, 13569, 32441, 30019, 11396, 12764, 51620, 13415, 4494, 29334, 25205, 77733, 11476, 30863, 46942, 353986, 71911, 11493, 72220, 8436, 18551, 91526, 24107, 93620, 22988, 16130, 13735, 839319, 47959, 106770, 102511, 1801, 10822, 69545, 40876, 34284, 55924, 14241, 30504, 19149, 254676, 53100, 99248, 517023, 70590, 52946, 7193, 155063, 14910, 215443, 26688, 41090, 9764, 4121, 61824, 14632, 34889, 13111, 24117, 4322, 13308, 5637, 13374, 20017, 43734, 98451, 5275, 305201, 6658, 93201, 38682]}],\n",
              "                        {\"coloraxis\": {\"colorbar\": {\"title\": {\"text\": \"Number of confirmed cases\"}}, \"colorscale\": [[0.0, \"#0d0887\"], [0.1111111111111111, \"#46039f\"], [0.2222222222222222, \"#7201a8\"], [0.3333333333333333, \"#9c179e\"], [0.4444444444444444, \"#bd3786\"], [0.5555555555555556, \"#d8576b\"], [0.6666666666666666, \"#ed7953\"], [0.7777777777777778, \"#fb9f3a\"], [0.8888888888888888, \"#fdca26\"], [1.0, \"#f0f921\"]]}, \"geo\": {\"center\": {}, \"domain\": {\"x\": [0.0, 1.0], \"y\": [0.0, 1.0]}}, \"legend\": {\"tracegroupgap\": 0}, \"margin\": {\"t\": 60}, \"template\": {\"data\": {\"bar\": [{\"error_x\": {\"color\": \"#2a3f5f\"}, \"error_y\": {\"color\": \"#2a3f5f\"}, \"marker\": {\"line\": {\"color\": \"white\", \"width\": 0.5}}, \"type\": \"bar\"}], \"barpolar\": [{\"marker\": {\"line\": {\"color\": \"white\", \"width\": 0.5}}, \"type\": \"barpolar\"}], \"carpet\": [{\"aaxis\": {\"endlinecolor\": \"#2a3f5f\", \"gridcolor\": \"#C8D4E3\", \"linecolor\": \"#C8D4E3\", \"minorgridcolor\": \"#C8D4E3\", \"startlinecolor\": \"#2a3f5f\"}, \"baxis\": {\"endlinecolor\": \"#2a3f5f\", \"gridcolor\": \"#C8D4E3\", \"linecolor\": \"#C8D4E3\", \"minorgridcolor\": \"#C8D4E3\", \"startlinecolor\": \"#2a3f5f\"}, \"type\": \"carpet\"}], \"choropleth\": [{\"colorbar\": {\"outlinewidth\": 0, \"ticks\": \"\"}, \"type\": \"choropleth\"}], \"contour\": [{\"colorbar\": {\"outlinewidth\": 0, \"ticks\": \"\"}, \"colorscale\": [[0.0, \"#0d0887\"], [0.1111111111111111, \"#46039f\"], [0.2222222222222222, \"#7201a8\"], [0.3333333333333333, \"#9c179e\"], [0.4444444444444444, \"#bd3786\"], [0.5555555555555556, \"#d8576b\"], [0.6666666666666666, \"#ed7953\"], [0.7777777777777778, \"#fb9f3a\"], [0.8888888888888888, \"#fdca26\"], [1.0, \"#f0f921\"]], \"type\": \"contour\"}], \"contourcarpet\": [{\"colorbar\": {\"outlinewidth\": 0, \"ticks\": \"\"}, \"type\": \"contourcarpet\"}], \"heatmap\": [{\"colorbar\": {\"outlinewidth\": 0, \"ticks\": \"\"}, \"colorscale\": [[0.0, \"#0d0887\"], [0.1111111111111111, \"#46039f\"], [0.2222222222222222, \"#7201a8\"], [0.3333333333333333, \"#9c179e\"], [0.4444444444444444, \"#bd3786\"], [0.5555555555555556, \"#d8576b\"], [0.6666666666666666, \"#ed7953\"], [0.7777777777777778, \"#fb9f3a\"], [0.8888888888888888, \"#fdca26\"], [1.0, \"#f0f921\"]], \"type\": \"heatmap\"}], \"heatmapgl\": [{\"colorbar\": {\"outlinewidth\": 0, \"ticks\": \"\"}, \"colorscale\": [[0.0, \"#0d0887\"], [0.1111111111111111, \"#46039f\"], [0.2222222222222222, \"#7201a8\"], [0.3333333333333333, \"#9c179e\"], [0.4444444444444444, \"#bd3786\"], [0.5555555555555556, \"#d8576b\"], [0.6666666666666666, \"#ed7953\"], [0.7777777777777778, \"#fb9f3a\"], [0.8888888888888888, \"#fdca26\"], [1.0, \"#f0f921\"]], \"type\": \"heatmapgl\"}], \"histogram\": [{\"marker\": {\"colorbar\": {\"outlinewidth\": 0, \"ticks\": \"\"}}, \"type\": \"histogram\"}], \"histogram2d\": [{\"colorbar\": {\"outlinewidth\": 0, \"ticks\": \"\"}, \"colorscale\": [[0.0, \"#0d0887\"], [0.1111111111111111, \"#46039f\"], [0.2222222222222222, \"#7201a8\"], [0.3333333333333333, \"#9c179e\"], [0.4444444444444444, \"#bd3786\"], [0.5555555555555556, \"#d8576b\"], [0.6666666666666666, \"#ed7953\"], [0.7777777777777778, \"#fb9f3a\"], [0.8888888888888888, \"#fdca26\"], [1.0, \"#f0f921\"]], \"type\": \"histogram2d\"}], \"histogram2dcontour\": [{\"colorbar\": {\"outlinewidth\": 0, \"ticks\": \"\"}, \"colorscale\": [[0.0, \"#0d0887\"], [0.1111111111111111, \"#46039f\"], [0.2222222222222222, \"#7201a8\"], [0.3333333333333333, \"#9c179e\"], [0.4444444444444444, \"#bd3786\"], [0.5555555555555556, \"#d8576b\"], [0.6666666666666666, \"#ed7953\"], [0.7777777777777778, \"#fb9f3a\"], [0.8888888888888888, \"#fdca26\"], [1.0, \"#f0f921\"]], \"type\": \"histogram2dcontour\"}], \"mesh3d\": [{\"colorbar\": {\"outlinewidth\": 0, \"ticks\": \"\"}, \"type\": \"mesh3d\"}], \"parcoords\": [{\"line\": {\"colorbar\": {\"outlinewidth\": 0, \"ticks\": \"\"}}, \"type\": \"parcoords\"}], \"pie\": [{\"automargin\": true, \"type\": \"pie\"}], \"scatter\": [{\"marker\": {\"colorbar\": {\"outlinewidth\": 0, \"ticks\": \"\"}}, \"type\": \"scatter\"}], \"scatter3d\": [{\"line\": {\"colorbar\": {\"outlinewidth\": 0, \"ticks\": \"\"}}, \"marker\": {\"colorbar\": {\"outlinewidth\": 0, \"ticks\": \"\"}}, \"type\": \"scatter3d\"}], \"scattercarpet\": [{\"marker\": {\"colorbar\": {\"outlinewidth\": 0, \"ticks\": \"\"}}, \"type\": \"scattercarpet\"}], \"scattergeo\": [{\"marker\": {\"colorbar\": {\"outlinewidth\": 0, \"ticks\": \"\"}}, \"type\": \"scattergeo\"}], \"scattergl\": [{\"marker\": {\"colorbar\": {\"outlinewidth\": 0, \"ticks\": \"\"}}, \"type\": \"scattergl\"}], \"scattermapbox\": [{\"marker\": {\"colorbar\": {\"outlinewidth\": 0, \"ticks\": \"\"}}, \"type\": \"scattermapbox\"}], \"scatterpolar\": [{\"marker\": {\"colorbar\": {\"outlinewidth\": 0, \"ticks\": \"\"}}, \"type\": \"scatterpolar\"}], \"scatterpolargl\": [{\"marker\": {\"colorbar\": {\"outlinewidth\": 0, \"ticks\": \"\"}}, \"type\": \"scatterpolargl\"}], \"scatterternary\": [{\"marker\": {\"colorbar\": {\"outlinewidth\": 0, \"ticks\": \"\"}}, \"type\": \"scatterternary\"}], \"surface\": [{\"colorbar\": {\"outlinewidth\": 0, \"ticks\": \"\"}, \"colorscale\": [[0.0, \"#0d0887\"], [0.1111111111111111, \"#46039f\"], [0.2222222222222222, \"#7201a8\"], [0.3333333333333333, \"#9c179e\"], [0.4444444444444444, \"#bd3786\"], [0.5555555555555556, \"#d8576b\"], [0.6666666666666666, \"#ed7953\"], [0.7777777777777778, \"#fb9f3a\"], [0.8888888888888888, \"#fdca26\"], [1.0, \"#f0f921\"]], \"type\": \"surface\"}], \"table\": [{\"cells\": {\"fill\": {\"color\": \"#EBF0F8\"}, \"line\": {\"color\": \"white\"}}, \"header\": {\"fill\": {\"color\": \"#C8D4E3\"}, \"line\": {\"color\": \"white\"}}, \"type\": \"table\"}]}, \"layout\": {\"annotationdefaults\": {\"arrowcolor\": \"#2a3f5f\", \"arrowhead\": 0, \"arrowwidth\": 1}, \"coloraxis\": {\"colorbar\": {\"outlinewidth\": 0, \"ticks\": \"\"}}, \"colorscale\": {\"diverging\": [[0, \"#8e0152\"], [0.1, \"#c51b7d\"], [0.2, \"#de77ae\"], [0.3, \"#f1b6da\"], [0.4, \"#fde0ef\"], [0.5, \"#f7f7f7\"], [0.6, \"#e6f5d0\"], [0.7, \"#b8e186\"], [0.8, \"#7fbc41\"], [0.9, \"#4d9221\"], [1, \"#276419\"]], \"sequential\": [[0.0, \"#0d0887\"], [0.1111111111111111, \"#46039f\"], [0.2222222222222222, \"#7201a8\"], [0.3333333333333333, \"#9c179e\"], [0.4444444444444444, \"#bd3786\"], [0.5555555555555556, \"#d8576b\"], [0.6666666666666666, \"#ed7953\"], [0.7777777777777778, \"#fb9f3a\"], [0.8888888888888888, \"#fdca26\"], [1.0, \"#f0f921\"]], \"sequentialminus\": [[0.0, \"#0d0887\"], [0.1111111111111111, \"#46039f\"], [0.2222222222222222, \"#7201a8\"], [0.3333333333333333, \"#9c179e\"], [0.4444444444444444, \"#bd3786\"], [0.5555555555555556, \"#d8576b\"], [0.6666666666666666, \"#ed7953\"], [0.7777777777777778, \"#fb9f3a\"], [0.8888888888888888, \"#fdca26\"], [1.0, \"#f0f921\"]]}, \"colorway\": [\"#636efa\", \"#EF553B\", \"#00cc96\", \"#ab63fa\", \"#FFA15A\", \"#19d3f3\", \"#FF6692\", \"#B6E880\", \"#FF97FF\", \"#FECB52\"], \"font\": {\"color\": \"#2a3f5f\"}, \"geo\": {\"bgcolor\": \"white\", \"lakecolor\": \"white\", \"landcolor\": \"white\", \"showlakes\": true, \"showland\": true, \"subunitcolor\": \"#C8D4E3\"}, \"hoverlabel\": {\"align\": \"left\"}, \"hovermode\": \"closest\", \"mapbox\": {\"style\": \"light\"}, \"paper_bgcolor\": \"white\", \"plot_bgcolor\": \"white\", \"polar\": {\"angularaxis\": {\"gridcolor\": \"#EBF0F8\", \"linecolor\": \"#EBF0F8\", \"ticks\": \"\"}, \"bgcolor\": \"white\", \"radialaxis\": {\"gridcolor\": \"#EBF0F8\", \"linecolor\": \"#EBF0F8\", \"ticks\": \"\"}}, \"scene\": {\"xaxis\": {\"backgroundcolor\": \"white\", \"gridcolor\": \"#DFE8F3\", \"gridwidth\": 2, \"linecolor\": \"#EBF0F8\", \"showbackground\": true, \"ticks\": \"\", \"zerolinecolor\": \"#EBF0F8\"}, \"yaxis\": {\"backgroundcolor\": \"white\", \"gridcolor\": \"#DFE8F3\", \"gridwidth\": 2, \"linecolor\": \"#EBF0F8\", \"showbackground\": true, \"ticks\": \"\", \"zerolinecolor\": \"#EBF0F8\"}, \"zaxis\": {\"backgroundcolor\": \"white\", \"gridcolor\": \"#DFE8F3\", \"gridwidth\": 2, \"linecolor\": \"#EBF0F8\", \"showbackground\": true, \"ticks\": \"\", \"zerolinecolor\": \"#EBF0F8\"}}, \"shapedefaults\": {\"line\": {\"color\": \"#2a3f5f\"}}, \"ternary\": {\"aaxis\": {\"gridcolor\": \"#DFE8F3\", \"linecolor\": \"#A2B1C6\", \"ticks\": \"\"}, \"baxis\": {\"gridcolor\": \"#DFE8F3\", \"linecolor\": \"#A2B1C6\", \"ticks\": \"\"}, \"bgcolor\": \"white\", \"caxis\": {\"gridcolor\": \"#DFE8F3\", \"linecolor\": \"#A2B1C6\", \"ticks\": \"\"}}, \"title\": {\"x\": 0.05}, \"xaxis\": {\"automargin\": true, \"gridcolor\": \"#EBF0F8\", \"linecolor\": \"#EBF0F8\", \"ticks\": \"\", \"title\": {\"standoff\": 15}, \"zerolinecolor\": \"#EBF0F8\", \"zerolinewidth\": 2}, \"yaxis\": {\"automargin\": true, \"gridcolor\": \"#EBF0F8\", \"linecolor\": \"#EBF0F8\", \"ticks\": \"\", \"title\": {\"standoff\": 15}, \"zerolinecolor\": \"#EBF0F8\", \"zerolinewidth\": 2}}}, \"title\": {\"text\": \"Negara Rawan\"}},\n",
              "                        {\"responsive\": true}\n",
              "                    ).then(function(){\n",
              "                            \n",
              "var gd = document.getElementById('3ef0bda0-dcd2-46f4-89e2-cc53774181f6');\n",
              "var x = new MutationObserver(function (mutations, observer) {{\n",
              "        var display = window.getComputedStyle(gd).display;\n",
              "        if (!display || display === 'none') {{\n",
              "            console.log([gd, 'removed!']);\n",
              "            Plotly.purge(gd);\n",
              "            observer.disconnect();\n",
              "        }}\n",
              "}});\n",
              "\n",
              "// Listen for the removal of the full notebook cells\n",
              "var notebookContainer = gd.closest('#notebook-container');\n",
              "if (notebookContainer) {{\n",
              "    x.observe(notebookContainer, {childList: true});\n",
              "}}\n",
              "\n",
              "// Listen for the clearing of the current output cell\n",
              "var outputEl = gd.closest('.output');\n",
              "if (outputEl) {{\n",
              "    x.observe(outputEl, {childList: true});\n",
              "}}\n",
              "\n",
              "                        })\n",
              "                };\n",
              "                });\n",
              "            </script>\n",
              "        </div>"
            ],
            "application/vnd.plotly.v1+json": {
              "data": [
                {
                  "hovertemplate": "<b>%{hovertext}</b><br><br>locations=%{location}<br>color=%{z}",
                  "name": "",
                  "geo": "geo",
                  "hovertext": [
                    "Afghanistan",
                    "Albania",
                    "Andorra",
                    "Angola",
                    "Australia",
                    "Bahamas",
                    "Belize",
                    "Botswana",
                    "Burkina Faso",
                    "Burundi",
                    "Cabo Verde",
                    "Cambodia",
                    "Cameroon",
                    "Congo (Brazzaville)",
                    "Congo (Kinshasa)",
                    "Cote d'Ivoire",
                    "Croatia",
                    "Cyprus",
                    "Djibouti",
                    "El Salvador",
                    "Equatorial Guinea",
                    "Eswatini",
                    "Finland",
                    "Gabon",
                    "Ghana",
                    "Guinea",
                    "Guyana",
                    "Haiti",
                    "Israel",
                    "Jamaica",
                    "Kosovo",
                    "Kyrgyzstan",
                    "Laos",
                    "Lesotho",
                    "Luxembourg",
                    "Madagascar",
                    "Malawi",
                    "Maldives",
                    "Mali",
                    "Malta",
                    "Mauritania",
                    "Moldova",
                    "Mongolia",
                    "Montenegro",
                    "Morocco",
                    "Mozambique",
                    "Namibia",
                    "Nicaragua",
                    "North Macedonia",
                    "Papua New Guinea",
                    "Qatar",
                    "Rwanda",
                    "Senegal",
                    "Seychelles",
                    "Sierra Leone",
                    "Singapore",
                    "Somalia",
                    "Sudan",
                    "Suriname",
                    "Syria",
                    "Taiwan*",
                    "Tajikistan",
                    "Timor-Leste",
                    "Togo",
                    "Trinidad and Tobago",
                    "Uganda",
                    "Uzbekistan",
                    "Vietnam",
                    "West Bank and Gaza",
                    "Yemen",
                    "Zambia",
                    "Zimbabwe"
                  ],
                  "locations": [
                    "Afghanistan",
                    "Albania",
                    "Andorra",
                    "Angola",
                    "Australia",
                    "Bahamas",
                    "Belize",
                    "Botswana",
                    "Burkina Faso",
                    "Burundi",
                    "Cabo Verde",
                    "Cambodia",
                    "Cameroon",
                    "Congo (Brazzaville)",
                    "Congo (Kinshasa)",
                    "Cote d'Ivoire",
                    "Croatia",
                    "Cyprus",
                    "Djibouti",
                    "El Salvador",
                    "Equatorial Guinea",
                    "Eswatini",
                    "Finland",
                    "Gabon",
                    "Ghana",
                    "Guinea",
                    "Guyana",
                    "Haiti",
                    "Israel",
                    "Jamaica",
                    "Kosovo",
                    "Kyrgyzstan",
                    "Laos",
                    "Lesotho",
                    "Luxembourg",
                    "Madagascar",
                    "Malawi",
                    "Maldives",
                    "Mali",
                    "Malta",
                    "Mauritania",
                    "Moldova",
                    "Mongolia",
                    "Montenegro",
                    "Morocco",
                    "Mozambique",
                    "Namibia",
                    "Nicaragua",
                    "North Macedonia",
                    "Papua New Guinea",
                    "Qatar",
                    "Rwanda",
                    "Senegal",
                    "Seychelles",
                    "Sierra Leone",
                    "Singapore",
                    "Somalia",
                    "Sudan",
                    "Suriname",
                    "Syria",
                    "Taiwan*",
                    "Tajikistan",
                    "Timor-Leste",
                    "Togo",
                    "Trinidad and Tobago",
                    "Uganda",
                    "Uzbekistan",
                    "Vietnam",
                    "West Bank and Gaza",
                    "Yemen",
                    "Zambia",
                    "Zimbabwe"
                  ],
                  "hoverlabel": {
                    "namelength": 0
                  },
                  "type": "choropleth",
                  "z": [
                    65728,
                    132209,
                    13569,
                    32441,
                    30019,
                    11396,
                    12764,
                    51620,
                    13415,
                    4494,
                    29334,
                    25205,
                    77733,
                    11476,
                    30863,
                    46942,
                    353986,
                    71911,
                    11493,
                    72220,
                    8436,
                    18551,
                    91526,
                    24107,
                    93620,
                    22988,
                    16130,
                    13735,
                    839319,
                    47959,
                    106770,
                    102511,
                    1801,
                    10822,
                    69545,
                    40876,
                    34284,
                    55924,
                    14241,
                    30504,
                    19149,
                    254676,
                    53100,
                    99248,
                    517023,
                    70590,
                    52946,
                    7193,
                    155063,
                    14910,
                    215443,
                    26688,
                    41090,
                    9764,
                    4121,
                    61824,
                    14632,
                    34889,
                    13111,
                    24117,
                    4322,
                    13308,
                    5637,
                    13374,
                    20017,
                    43734,
                    98451,
                    5275,
                    305201,
                    6658,
                    93201,
                    38682
                  ],
                  "locationmode": "country names",
                  "coloraxis": "coloraxis"
                }
              ],
              "config": {
                "plotlyServerURL": "https://plot.ly"
              },
              "layout": {
                "title": {
                  "text": "Negara Rawan"
                },
                "geo": {
                  "domain": {
                    "y": [
                      0,
                      1
                    ],
                    "x": [
                      0,
                      1
                    ]
                  },
                  "center": {}
                },
                "template": {
                  "layout": {
                    "shapedefaults": {
                      "line": {
                        "color": "#2a3f5f"
                      }
                    },
                    "polar": {
                      "radialaxis": {
                        "ticks": "",
                        "gridcolor": "#EBF0F8",
                        "linecolor": "#EBF0F8"
                      },
                      "bgcolor": "white",
                      "angularaxis": {
                        "ticks": "",
                        "gridcolor": "#EBF0F8",
                        "linecolor": "#EBF0F8"
                      }
                    },
                    "colorway": [
                      "#636efa",
                      "#EF553B",
                      "#00cc96",
                      "#ab63fa",
                      "#FFA15A",
                      "#19d3f3",
                      "#FF6692",
                      "#B6E880",
                      "#FF97FF",
                      "#FECB52"
                    ],
                    "xaxis": {
                      "automargin": true,
                      "title": {
                        "standoff": 15
                      },
                      "zerolinewidth": 2,
                      "ticks": "",
                      "zerolinecolor": "#EBF0F8",
                      "gridcolor": "#EBF0F8",
                      "linecolor": "#EBF0F8"
                    },
                    "colorscale": {
                      "diverging": [
                        [
                          0,
                          "#8e0152"
                        ],
                        [
                          0.1,
                          "#c51b7d"
                        ],
                        [
                          0.2,
                          "#de77ae"
                        ],
                        [
                          0.3,
                          "#f1b6da"
                        ],
                        [
                          0.4,
                          "#fde0ef"
                        ],
                        [
                          0.5,
                          "#f7f7f7"
                        ],
                        [
                          0.6,
                          "#e6f5d0"
                        ],
                        [
                          0.7,
                          "#b8e186"
                        ],
                        [
                          0.8,
                          "#7fbc41"
                        ],
                        [
                          0.9,
                          "#4d9221"
                        ],
                        [
                          1,
                          "#276419"
                        ]
                      ],
                      "sequential": [
                        [
                          0,
                          "#0d0887"
                        ],
                        [
                          0.1111111111111111,
                          "#46039f"
                        ],
                        [
                          0.2222222222222222,
                          "#7201a8"
                        ],
                        [
                          0.3333333333333333,
                          "#9c179e"
                        ],
                        [
                          0.4444444444444444,
                          "#bd3786"
                        ],
                        [
                          0.5555555555555556,
                          "#d8576b"
                        ],
                        [
                          0.6666666666666666,
                          "#ed7953"
                        ],
                        [
                          0.7777777777777778,
                          "#fb9f3a"
                        ],
                        [
                          0.8888888888888888,
                          "#fdca26"
                        ],
                        [
                          1,
                          "#f0f921"
                        ]
                      ],
                      "sequentialminus": [
                        [
                          0,
                          "#0d0887"
                        ],
                        [
                          0.1111111111111111,
                          "#46039f"
                        ],
                        [
                          0.2222222222222222,
                          "#7201a8"
                        ],
                        [
                          0.3333333333333333,
                          "#9c179e"
                        ],
                        [
                          0.4444444444444444,
                          "#bd3786"
                        ],
                        [
                          0.5555555555555556,
                          "#d8576b"
                        ],
                        [
                          0.6666666666666666,
                          "#ed7953"
                        ],
                        [
                          0.7777777777777778,
                          "#fb9f3a"
                        ],
                        [
                          0.8888888888888888,
                          "#fdca26"
                        ],
                        [
                          1,
                          "#f0f921"
                        ]
                      ]
                    },
                    "paper_bgcolor": "white",
                    "plot_bgcolor": "white",
                    "title": {
                      "x": 0.05
                    },
                    "scene": {
                      "zaxis": {
                        "backgroundcolor": "white",
                        "ticks": "",
                        "gridwidth": 2,
                        "showbackground": true,
                        "zerolinecolor": "#EBF0F8",
                        "gridcolor": "#DFE8F3",
                        "linecolor": "#EBF0F8"
                      },
                      "xaxis": {
                        "backgroundcolor": "white",
                        "ticks": "",
                        "gridwidth": 2,
                        "showbackground": true,
                        "zerolinecolor": "#EBF0F8",
                        "gridcolor": "#DFE8F3",
                        "linecolor": "#EBF0F8"
                      },
                      "yaxis": {
                        "backgroundcolor": "white",
                        "ticks": "",
                        "gridwidth": 2,
                        "showbackground": true,
                        "zerolinecolor": "#EBF0F8",
                        "gridcolor": "#DFE8F3",
                        "linecolor": "#EBF0F8"
                      }
                    },
                    "yaxis": {
                      "automargin": true,
                      "title": {
                        "standoff": 15
                      },
                      "zerolinewidth": 2,
                      "ticks": "",
                      "zerolinecolor": "#EBF0F8",
                      "gridcolor": "#EBF0F8",
                      "linecolor": "#EBF0F8"
                    },
                    "annotationdefaults": {
                      "arrowwidth": 1,
                      "arrowhead": 0,
                      "arrowcolor": "#2a3f5f"
                    },
                    "hoverlabel": {
                      "align": "left"
                    },
                    "ternary": {
                      "bgcolor": "white",
                      "baxis": {
                        "ticks": "",
                        "gridcolor": "#DFE8F3",
                        "linecolor": "#A2B1C6"
                      },
                      "caxis": {
                        "ticks": "",
                        "gridcolor": "#DFE8F3",
                        "linecolor": "#A2B1C6"
                      },
                      "aaxis": {
                        "ticks": "",
                        "gridcolor": "#DFE8F3",
                        "linecolor": "#A2B1C6"
                      }
                    },
                    "mapbox": {
                      "style": "light"
                    },
                    "hovermode": "closest",
                    "font": {
                      "color": "#2a3f5f"
                    },
                    "geo": {
                      "showland": true,
                      "landcolor": "white",
                      "showlakes": true,
                      "bgcolor": "white",
                      "subunitcolor": "#C8D4E3",
                      "lakecolor": "white"
                    },
                    "coloraxis": {
                      "colorbar": {
                        "outlinewidth": 0,
                        "ticks": ""
                      }
                    }
                  },
                  "data": {
                    "mesh3d": [
                      {
                        "colorbar": {
                          "outlinewidth": 0,
                          "ticks": ""
                        },
                        "type": "mesh3d"
                      }
                    ],
                    "scattercarpet": [
                      {
                        "marker": {
                          "colorbar": {
                            "outlinewidth": 0,
                            "ticks": ""
                          }
                        },
                        "type": "scattercarpet"
                      }
                    ],
                    "pie": [
                      {
                        "automargin": true,
                        "type": "pie"
                      }
                    ],
                    "surface": [
                      {
                        "colorbar": {
                          "outlinewidth": 0,
                          "ticks": ""
                        },
                        "type": "surface",
                        "colorscale": [
                          [
                            0,
                            "#0d0887"
                          ],
                          [
                            0.1111111111111111,
                            "#46039f"
                          ],
                          [
                            0.2222222222222222,
                            "#7201a8"
                          ],
                          [
                            0.3333333333333333,
                            "#9c179e"
                          ],
                          [
                            0.4444444444444444,
                            "#bd3786"
                          ],
                          [
                            0.5555555555555556,
                            "#d8576b"
                          ],
                          [
                            0.6666666666666666,
                            "#ed7953"
                          ],
                          [
                            0.7777777777777778,
                            "#fb9f3a"
                          ],
                          [
                            0.8888888888888888,
                            "#fdca26"
                          ],
                          [
                            1,
                            "#f0f921"
                          ]
                        ]
                      }
                    ],
                    "table": [
                      {
                        "header": {
                          "line": {
                            "color": "white"
                          },
                          "fill": {
                            "color": "#C8D4E3"
                          }
                        },
                        "cells": {
                          "line": {
                            "color": "white"
                          },
                          "fill": {
                            "color": "#EBF0F8"
                          }
                        },
                        "type": "table"
                      }
                    ],
                    "scatterpolargl": [
                      {
                        "marker": {
                          "colorbar": {
                            "outlinewidth": 0,
                            "ticks": ""
                          }
                        },
                        "type": "scatterpolargl"
                      }
                    ],
                    "contour": [
                      {
                        "colorbar": {
                          "outlinewidth": 0,
                          "ticks": ""
                        },
                        "type": "contour",
                        "colorscale": [
                          [
                            0,
                            "#0d0887"
                          ],
                          [
                            0.1111111111111111,
                            "#46039f"
                          ],
                          [
                            0.2222222222222222,
                            "#7201a8"
                          ],
                          [
                            0.3333333333333333,
                            "#9c179e"
                          ],
                          [
                            0.4444444444444444,
                            "#bd3786"
                          ],
                          [
                            0.5555555555555556,
                            "#d8576b"
                          ],
                          [
                            0.6666666666666666,
                            "#ed7953"
                          ],
                          [
                            0.7777777777777778,
                            "#fb9f3a"
                          ],
                          [
                            0.8888888888888888,
                            "#fdca26"
                          ],
                          [
                            1,
                            "#f0f921"
                          ]
                        ]
                      }
                    ],
                    "carpet": [
                      {
                        "type": "carpet",
                        "baxis": {
                          "minorgridcolor": "#C8D4E3",
                          "gridcolor": "#C8D4E3",
                          "linecolor": "#C8D4E3",
                          "endlinecolor": "#2a3f5f",
                          "startlinecolor": "#2a3f5f"
                        },
                        "aaxis": {
                          "minorgridcolor": "#C8D4E3",
                          "gridcolor": "#C8D4E3",
                          "linecolor": "#C8D4E3",
                          "endlinecolor": "#2a3f5f",
                          "startlinecolor": "#2a3f5f"
                        }
                      }
                    ],
                    "contourcarpet": [
                      {
                        "colorbar": {
                          "outlinewidth": 0,
                          "ticks": ""
                        },
                        "type": "contourcarpet"
                      }
                    ],
                    "heatmap": [
                      {
                        "colorbar": {
                          "outlinewidth": 0,
                          "ticks": ""
                        },
                        "type": "heatmap",
                        "colorscale": [
                          [
                            0,
                            "#0d0887"
                          ],
                          [
                            0.1111111111111111,
                            "#46039f"
                          ],
                          [
                            0.2222222222222222,
                            "#7201a8"
                          ],
                          [
                            0.3333333333333333,
                            "#9c179e"
                          ],
                          [
                            0.4444444444444444,
                            "#bd3786"
                          ],
                          [
                            0.5555555555555556,
                            "#d8576b"
                          ],
                          [
                            0.6666666666666666,
                            "#ed7953"
                          ],
                          [
                            0.7777777777777778,
                            "#fb9f3a"
                          ],
                          [
                            0.8888888888888888,
                            "#fdca26"
                          ],
                          [
                            1,
                            "#f0f921"
                          ]
                        ]
                      }
                    ],
                    "scattermapbox": [
                      {
                        "marker": {
                          "colorbar": {
                            "outlinewidth": 0,
                            "ticks": ""
                          }
                        },
                        "type": "scattermapbox"
                      }
                    ],
                    "scatter3d": [
                      {
                        "marker": {
                          "colorbar": {
                            "outlinewidth": 0,
                            "ticks": ""
                          }
                        },
                        "line": {
                          "colorbar": {
                            "outlinewidth": 0,
                            "ticks": ""
                          }
                        },
                        "type": "scatter3d"
                      }
                    ],
                    "scattergl": [
                      {
                        "marker": {
                          "colorbar": {
                            "outlinewidth": 0,
                            "ticks": ""
                          }
                        },
                        "type": "scattergl"
                      }
                    ],
                    "scatterternary": [
                      {
                        "marker": {
                          "colorbar": {
                            "outlinewidth": 0,
                            "ticks": ""
                          }
                        },
                        "type": "scatterternary"
                      }
                    ],
                    "histogram": [
                      {
                        "marker": {
                          "colorbar": {
                            "outlinewidth": 0,
                            "ticks": ""
                          }
                        },
                        "type": "histogram"
                      }
                    ],
                    "heatmapgl": [
                      {
                        "colorbar": {
                          "outlinewidth": 0,
                          "ticks": ""
                        },
                        "type": "heatmapgl",
                        "colorscale": [
                          [
                            0,
                            "#0d0887"
                          ],
                          [
                            0.1111111111111111,
                            "#46039f"
                          ],
                          [
                            0.2222222222222222,
                            "#7201a8"
                          ],
                          [
                            0.3333333333333333,
                            "#9c179e"
                          ],
                          [
                            0.4444444444444444,
                            "#bd3786"
                          ],
                          [
                            0.5555555555555556,
                            "#d8576b"
                          ],
                          [
                            0.6666666666666666,
                            "#ed7953"
                          ],
                          [
                            0.7777777777777778,
                            "#fb9f3a"
                          ],
                          [
                            0.8888888888888888,
                            "#fdca26"
                          ],
                          [
                            1,
                            "#f0f921"
                          ]
                        ]
                      }
                    ],
                    "scatterpolar": [
                      {
                        "marker": {
                          "colorbar": {
                            "outlinewidth": 0,
                            "ticks": ""
                          }
                        },
                        "type": "scatterpolar"
                      }
                    ],
                    "histogram2d": [
                      {
                        "colorbar": {
                          "outlinewidth": 0,
                          "ticks": ""
                        },
                        "type": "histogram2d",
                        "colorscale": [
                          [
                            0,
                            "#0d0887"
                          ],
                          [
                            0.1111111111111111,
                            "#46039f"
                          ],
                          [
                            0.2222222222222222,
                            "#7201a8"
                          ],
                          [
                            0.3333333333333333,
                            "#9c179e"
                          ],
                          [
                            0.4444444444444444,
                            "#bd3786"
                          ],
                          [
                            0.5555555555555556,
                            "#d8576b"
                          ],
                          [
                            0.6666666666666666,
                            "#ed7953"
                          ],
                          [
                            0.7777777777777778,
                            "#fb9f3a"
                          ],
                          [
                            0.8888888888888888,
                            "#fdca26"
                          ],
                          [
                            1,
                            "#f0f921"
                          ]
                        ]
                      }
                    ],
                    "scattergeo": [
                      {
                        "marker": {
                          "colorbar": {
                            "outlinewidth": 0,
                            "ticks": ""
                          }
                        },
                        "type": "scattergeo"
                      }
                    ],
                    "bar": [
                      {
                        "marker": {
                          "line": {
                            "color": "white",
                            "width": 0.5
                          }
                        },
                        "type": "bar",
                        "error_x": {
                          "color": "#2a3f5f"
                        },
                        "error_y": {
                          "color": "#2a3f5f"
                        }
                      }
                    ],
                    "choropleth": [
                      {
                        "colorbar": {
                          "outlinewidth": 0,
                          "ticks": ""
                        },
                        "type": "choropleth"
                      }
                    ],
                    "parcoords": [
                      {
                        "line": {
                          "colorbar": {
                            "outlinewidth": 0,
                            "ticks": ""
                          }
                        },
                        "type": "parcoords"
                      }
                    ],
                    "barpolar": [
                      {
                        "marker": {
                          "line": {
                            "color": "white",
                            "width": 0.5
                          }
                        },
                        "type": "barpolar"
                      }
                    ],
                    "histogram2dcontour": [
                      {
                        "colorbar": {
                          "outlinewidth": 0,
                          "ticks": ""
                        },
                        "type": "histogram2dcontour",
                        "colorscale": [
                          [
                            0,
                            "#0d0887"
                          ],
                          [
                            0.1111111111111111,
                            "#46039f"
                          ],
                          [
                            0.2222222222222222,
                            "#7201a8"
                          ],
                          [
                            0.3333333333333333,
                            "#9c179e"
                          ],
                          [
                            0.4444444444444444,
                            "#bd3786"
                          ],
                          [
                            0.5555555555555556,
                            "#d8576b"
                          ],
                          [
                            0.6666666666666666,
                            "#ed7953"
                          ],
                          [
                            0.7777777777777778,
                            "#fb9f3a"
                          ],
                          [
                            0.8888888888888888,
                            "#fdca26"
                          ],
                          [
                            1,
                            "#f0f921"
                          ]
                        ]
                      }
                    ],
                    "scatter": [
                      {
                        "marker": {
                          "colorbar": {
                            "outlinewidth": 0,
                            "ticks": ""
                          }
                        },
                        "type": "scatter"
                      }
                    ]
                  }
                },
                "margin": {
                  "t": 60
                },
                "legend": {
                  "tracegroupgap": 0
                },
                "coloraxis": {
                  "colorbar": {
                    "title": {
                      "text": "Number of confirmed cases"
                    }
                  },
                  "colorscale": [
                    [
                      0,
                      "#0d0887"
                    ],
                    [
                      0.1111111111111111,
                      "#46039f"
                    ],
                    [
                      0.2222222222222222,
                      "#7201a8"
                    ],
                    [
                      0.3333333333333333,
                      "#9c179e"
                    ],
                    [
                      0.4444444444444444,
                      "#bd3786"
                    ],
                    [
                      0.5555555555555556,
                      "#d8576b"
                    ],
                    [
                      0.6666666666666666,
                      "#ed7953"
                    ],
                    [
                      0.7777777777777778,
                      "#fb9f3a"
                    ],
                    [
                      0.8888888888888888,
                      "#fdca26"
                    ],
                    [
                      1,
                      "#f0f921"
                    ]
                  ]
                }
              }
            }
          },
          "metadata": {
            "tags": []
          }
        }
      ]
    },
    {
      "cell_type": "code",
      "metadata": {
        "colab": {
          "base_uri": "https://localhost:8080/",
          "height": 0
        },
        "id": "Es8NA3eU1W1_",
        "outputId": "899933ff-1859-41e9-8d23-724c19d5a9d3"
      },
      "source": [
        "# Sangat Rawan\n",
        "fig = px.choropleth(last_day, locations=sangatRawan['Country/Region'],\n",
        "                    color=sangatRawan['Confirmed'],locationmode='country names', \n",
        "                    hover_name=sangatRawan['Country/Region'], \n",
        "                    color_continuous_scale=px.colors.sequential.Plasma,\n",
        "                    template ='plotly_white')\n",
        "fig.update_layout(title_text=\"Negara Sangat Rawan\")\n",
        "fig.update_coloraxes(colorbar_title=\"Number of confirmed cases\")\n",
        "\n",
        "fig.show()"
      ],
      "execution_count": 24,
      "outputs": [
        {
          "output_type": "display_data",
          "data": {
            "text/html": [
              "<div>\n",
              "        \n",
              "        \n",
              "            <div id=\"b179f2b2-2b50-4503-8eec-c2a0ad863768\" class=\"plotly-graph-div\" style=\"height:525px; width:100%;\"></div>\n",
              "            <script type=\"text/javascript\">\n",
              "                require([\"plotly\"], function(Plotly) {\n",
              "                    window.PLOTLYENV=window.PLOTLYENV || {};\n",
              "                    \n",
              "                if (document.getElementById(\"b179f2b2-2b50-4503-8eec-c2a0ad863768\")) {\n",
              "                    Plotly.newPlot(\n",
              "                        'b179f2b2-2b50-4503-8eec-c2a0ad863768',\n",
              "                        [{\"coloraxis\": \"coloraxis\", \"geo\": \"geo\", \"hoverlabel\": {\"namelength\": 0}, \"hovertemplate\": \"<b>%{hovertext}</b><br><br>locations=%{location}<br>color=%{z}\", \"hovertext\": [\"Afghanistan\", \"Albania\", \"Algeria\", \"Argentina\", \"Armenia\", \"Australia\", \"Austria\", \"Azerbaijan\", \"Bahrain\", \"Bangladesh\", \"Belarus\", \"Belgium\", \"Bolivia\", \"Bosnia and Herzegovina\", \"Brazil\", \"Bulgaria\", \"Burma\", \"Cambodia\", \"Cameroon\", \"Canada\", \"Chile\", \"China\", \"Colombia\", \"Costa Rica\", \"Croatia\", \"Cuba\", \"Cyprus\", \"Czechia\", \"Denmark\", \"Dominican Republic\", \"Ecuador\", \"Egypt\", \"Estonia\", \"Ethiopia\", \"Finland\", \"France\", \"Georgia\", \"Germany\", \"Greece\", \"Guatemala\", \"Honduras\", \"Hungary\", \"India\", \"Indonesia\", \"Iran\", \"Iraq\", \"Ireland\", \"Israel\", \"Italy\", \"Jamaica\", \"Japan\", \"Jordan\", \"Kazakhstan\", \"Kenya\", \"Korea, South\", \"Kosovo\", \"Kuwait\", \"Kyrgyzstan\", \"Latvia\", \"Lebanon\", \"Libya\", \"Lithuania\", \"Malaysia\", \"Maldives\", \"Mexico\", \"Moldova\", \"Mongolia\", \"Montenegro\", \"Morocco\", \"Nepal\", \"Netherlands\", \"Nigeria\", \"North Macedonia\", \"Norway\", \"Oman\", \"Pakistan\", \"Panama\", \"Paraguay\", \"Peru\", \"Philippines\", \"Poland\", \"Portugal\", \"Qatar\", \"Romania\", \"Russia\", \"Saudi Arabia\", \"Serbia\", \"Slovakia\", \"Slovenia\", \"Somalia\", \"South Africa\", \"Spain\", \"Sri Lanka\", \"Sweden\", \"Switzerland\", \"Thailand\", \"Trinidad and Tobago\", \"Tunisia\", \"Turkey\", \"US\", \"Ukraine\", \"United Arab Emirates\", \"United Kingdom\", \"Uruguay\", \"Uzbekistan\", \"Venezuela\", \"West Bank and Gaza\"], \"locationmode\": \"country names\", \"locations\": [\"Afghanistan\", \"Albania\", \"Algeria\", \"Argentina\", \"Armenia\", \"Australia\", \"Austria\", \"Azerbaijan\", \"Bahrain\", \"Bangladesh\", \"Belarus\", \"Belgium\", \"Bolivia\", \"Bosnia and Herzegovina\", \"Brazil\", \"Bulgaria\", \"Burma\", \"Cambodia\", \"Cameroon\", \"Canada\", \"Chile\", \"China\", \"Colombia\", \"Costa Rica\", \"Croatia\", \"Cuba\", \"Cyprus\", \"Czechia\", \"Denmark\", \"Dominican Republic\", \"Ecuador\", \"Egypt\", \"Estonia\", \"Ethiopia\", \"Finland\", \"France\", \"Georgia\", \"Germany\", \"Greece\", \"Guatemala\", \"Honduras\", \"Hungary\", \"India\", \"Indonesia\", \"Iran\", \"Iraq\", \"Ireland\", \"Israel\", \"Italy\", \"Jamaica\", \"Japan\", \"Jordan\", \"Kazakhstan\", \"Kenya\", \"Korea, South\", \"Kosovo\", \"Kuwait\", \"Kyrgyzstan\", \"Latvia\", \"Lebanon\", \"Libya\", \"Lithuania\", \"Malaysia\", \"Maldives\", \"Mexico\", \"Moldova\", \"Mongolia\", \"Montenegro\", \"Morocco\", \"Nepal\", \"Netherlands\", \"Nigeria\", \"North Macedonia\", \"Norway\", \"Oman\", \"Pakistan\", \"Panama\", \"Paraguay\", \"Peru\", \"Philippines\", \"Poland\", \"Portugal\", \"Qatar\", \"Romania\", \"Russia\", \"Saudi Arabia\", \"Serbia\", \"Slovakia\", \"Slovenia\", \"Somalia\", \"South Africa\", \"Spain\", \"Sri Lanka\", \"Sweden\", \"Switzerland\", \"Thailand\", \"Trinidad and Tobago\", \"Tunisia\", \"Turkey\", \"US\", \"Ukraine\", \"United Arab Emirates\", \"United Kingdom\", \"Uruguay\", \"Uzbekistan\", \"Venezuela\", \"West Bank and Gaza\"], \"name\": \"\", \"type\": \"choropleth\", \"z\": [65728, 132209, 126860, 3539484, 221948, 30019, 641380, 332454, 218047, 789080, 386025, 1048881, 349653, 203150, 16083258, 416646, 143234, 25205, 77733, 1366475, 1329918, 102873, 3232456, 299219, 353986, 133053, 71911, 1657893, 274204, 283729, 418851, 253835, 128592, 269194, 91526, 5980325, 337573, 3657662, 389804, 247454, 232672, 802088, 26752447, 1775220, 2832518, 1167940, 254870, 839319, 4192183, 47959, 719925, 726432, 429720, 168432, 136467, 106770, 299215, 102511, 130945, 538518, 183311, 270849, 512091, 55924, 2396604, 254676, 53100, 99248, 517023, 513241, 1653395, 166019, 155063, 122414, 210364, 903599, 374121, 332971, 1925289, 1179812, 2865622, 845224, 215443, 1075543, 4944129, 440914, 709939, 388835, 251690, 14632, 1635465, 3636453, 164201, 1058341, 687353, 129500, 20017, 335345, 5186487, 33117737, 2239897, 556107, 4478390, 265098, 98451, 223345, 305201]}],\n",
              "                        {\"coloraxis\": {\"colorbar\": {\"title\": {\"text\": \"Number of confirmed cases\"}}, \"colorscale\": [[0.0, \"#0d0887\"], [0.1111111111111111, \"#46039f\"], [0.2222222222222222, \"#7201a8\"], [0.3333333333333333, \"#9c179e\"], [0.4444444444444444, \"#bd3786\"], [0.5555555555555556, \"#d8576b\"], [0.6666666666666666, \"#ed7953\"], [0.7777777777777778, \"#fb9f3a\"], [0.8888888888888888, \"#fdca26\"], [1.0, \"#f0f921\"]]}, \"geo\": {\"center\": {}, \"domain\": {\"x\": [0.0, 1.0], \"y\": [0.0, 1.0]}}, \"legend\": {\"tracegroupgap\": 0}, \"margin\": {\"t\": 60}, \"template\": {\"data\": {\"bar\": [{\"error_x\": {\"color\": \"#2a3f5f\"}, \"error_y\": {\"color\": \"#2a3f5f\"}, \"marker\": {\"line\": {\"color\": \"white\", \"width\": 0.5}}, \"type\": \"bar\"}], \"barpolar\": [{\"marker\": {\"line\": {\"color\": \"white\", \"width\": 0.5}}, \"type\": \"barpolar\"}], \"carpet\": [{\"aaxis\": {\"endlinecolor\": \"#2a3f5f\", \"gridcolor\": \"#C8D4E3\", \"linecolor\": \"#C8D4E3\", \"minorgridcolor\": \"#C8D4E3\", \"startlinecolor\": \"#2a3f5f\"}, \"baxis\": {\"endlinecolor\": \"#2a3f5f\", \"gridcolor\": \"#C8D4E3\", \"linecolor\": \"#C8D4E3\", \"minorgridcolor\": \"#C8D4E3\", \"startlinecolor\": \"#2a3f5f\"}, \"type\": \"carpet\"}], \"choropleth\": [{\"colorbar\": {\"outlinewidth\": 0, \"ticks\": \"\"}, \"type\": \"choropleth\"}], \"contour\": [{\"colorbar\": {\"outlinewidth\": 0, \"ticks\": \"\"}, \"colorscale\": [[0.0, \"#0d0887\"], [0.1111111111111111, \"#46039f\"], [0.2222222222222222, \"#7201a8\"], [0.3333333333333333, \"#9c179e\"], [0.4444444444444444, \"#bd3786\"], [0.5555555555555556, \"#d8576b\"], [0.6666666666666666, \"#ed7953\"], [0.7777777777777778, \"#fb9f3a\"], [0.8888888888888888, \"#fdca26\"], [1.0, \"#f0f921\"]], \"type\": \"contour\"}], \"contourcarpet\": [{\"colorbar\": {\"outlinewidth\": 0, \"ticks\": \"\"}, \"type\": \"contourcarpet\"}], \"heatmap\": [{\"colorbar\": {\"outlinewidth\": 0, \"ticks\": \"\"}, \"colorscale\": [[0.0, \"#0d0887\"], [0.1111111111111111, \"#46039f\"], [0.2222222222222222, \"#7201a8\"], [0.3333333333333333, \"#9c179e\"], [0.4444444444444444, \"#bd3786\"], [0.5555555555555556, \"#d8576b\"], [0.6666666666666666, \"#ed7953\"], [0.7777777777777778, \"#fb9f3a\"], [0.8888888888888888, \"#fdca26\"], [1.0, \"#f0f921\"]], \"type\": \"heatmap\"}], \"heatmapgl\": [{\"colorbar\": {\"outlinewidth\": 0, \"ticks\": \"\"}, \"colorscale\": [[0.0, \"#0d0887\"], [0.1111111111111111, \"#46039f\"], [0.2222222222222222, \"#7201a8\"], [0.3333333333333333, \"#9c179e\"], [0.4444444444444444, \"#bd3786\"], [0.5555555555555556, \"#d8576b\"], [0.6666666666666666, \"#ed7953\"], [0.7777777777777778, \"#fb9f3a\"], [0.8888888888888888, \"#fdca26\"], [1.0, \"#f0f921\"]], \"type\": \"heatmapgl\"}], \"histogram\": [{\"marker\": {\"colorbar\": {\"outlinewidth\": 0, \"ticks\": \"\"}}, \"type\": \"histogram\"}], \"histogram2d\": [{\"colorbar\": {\"outlinewidth\": 0, \"ticks\": \"\"}, \"colorscale\": [[0.0, \"#0d0887\"], [0.1111111111111111, \"#46039f\"], [0.2222222222222222, \"#7201a8\"], [0.3333333333333333, \"#9c179e\"], [0.4444444444444444, \"#bd3786\"], [0.5555555555555556, \"#d8576b\"], [0.6666666666666666, \"#ed7953\"], [0.7777777777777778, \"#fb9f3a\"], [0.8888888888888888, \"#fdca26\"], [1.0, \"#f0f921\"]], \"type\": \"histogram2d\"}], \"histogram2dcontour\": [{\"colorbar\": {\"outlinewidth\": 0, \"ticks\": \"\"}, \"colorscale\": [[0.0, \"#0d0887\"], [0.1111111111111111, \"#46039f\"], [0.2222222222222222, \"#7201a8\"], [0.3333333333333333, \"#9c179e\"], [0.4444444444444444, \"#bd3786\"], [0.5555555555555556, \"#d8576b\"], [0.6666666666666666, \"#ed7953\"], [0.7777777777777778, \"#fb9f3a\"], [0.8888888888888888, \"#fdca26\"], [1.0, \"#f0f921\"]], \"type\": \"histogram2dcontour\"}], \"mesh3d\": [{\"colorbar\": {\"outlinewidth\": 0, \"ticks\": \"\"}, \"type\": \"mesh3d\"}], \"parcoords\": [{\"line\": {\"colorbar\": {\"outlinewidth\": 0, \"ticks\": \"\"}}, \"type\": \"parcoords\"}], \"pie\": [{\"automargin\": true, \"type\": \"pie\"}], \"scatter\": [{\"marker\": {\"colorbar\": {\"outlinewidth\": 0, \"ticks\": \"\"}}, \"type\": \"scatter\"}], \"scatter3d\": [{\"line\": {\"colorbar\": {\"outlinewidth\": 0, \"ticks\": \"\"}}, \"marker\": {\"colorbar\": {\"outlinewidth\": 0, \"ticks\": \"\"}}, \"type\": \"scatter3d\"}], \"scattercarpet\": [{\"marker\": {\"colorbar\": {\"outlinewidth\": 0, \"ticks\": \"\"}}, \"type\": \"scattercarpet\"}], \"scattergeo\": [{\"marker\": {\"colorbar\": {\"outlinewidth\": 0, \"ticks\": \"\"}}, \"type\": \"scattergeo\"}], \"scattergl\": [{\"marker\": {\"colorbar\": {\"outlinewidth\": 0, \"ticks\": \"\"}}, \"type\": \"scattergl\"}], \"scattermapbox\": [{\"marker\": {\"colorbar\": {\"outlinewidth\": 0, \"ticks\": \"\"}}, \"type\": \"scattermapbox\"}], \"scatterpolar\": [{\"marker\": {\"colorbar\": {\"outlinewidth\": 0, \"ticks\": \"\"}}, \"type\": \"scatterpolar\"}], \"scatterpolargl\": [{\"marker\": {\"colorbar\": {\"outlinewidth\": 0, \"ticks\": \"\"}}, \"type\": \"scatterpolargl\"}], \"scatterternary\": [{\"marker\": {\"colorbar\": {\"outlinewidth\": 0, \"ticks\": \"\"}}, \"type\": \"scatterternary\"}], \"surface\": [{\"colorbar\": {\"outlinewidth\": 0, \"ticks\": \"\"}, \"colorscale\": [[0.0, \"#0d0887\"], [0.1111111111111111, \"#46039f\"], [0.2222222222222222, \"#7201a8\"], [0.3333333333333333, \"#9c179e\"], [0.4444444444444444, \"#bd3786\"], [0.5555555555555556, \"#d8576b\"], [0.6666666666666666, \"#ed7953\"], [0.7777777777777778, \"#fb9f3a\"], [0.8888888888888888, \"#fdca26\"], [1.0, \"#f0f921\"]], \"type\": \"surface\"}], \"table\": [{\"cells\": {\"fill\": {\"color\": \"#EBF0F8\"}, \"line\": {\"color\": \"white\"}}, \"header\": {\"fill\": {\"color\": \"#C8D4E3\"}, \"line\": {\"color\": \"white\"}}, \"type\": \"table\"}]}, \"layout\": {\"annotationdefaults\": {\"arrowcolor\": \"#2a3f5f\", \"arrowhead\": 0, \"arrowwidth\": 1}, \"coloraxis\": {\"colorbar\": {\"outlinewidth\": 0, \"ticks\": \"\"}}, \"colorscale\": {\"diverging\": [[0, \"#8e0152\"], [0.1, \"#c51b7d\"], [0.2, \"#de77ae\"], [0.3, \"#f1b6da\"], [0.4, \"#fde0ef\"], [0.5, \"#f7f7f7\"], [0.6, \"#e6f5d0\"], [0.7, \"#b8e186\"], [0.8, \"#7fbc41\"], [0.9, \"#4d9221\"], [1, \"#276419\"]], \"sequential\": [[0.0, \"#0d0887\"], [0.1111111111111111, \"#46039f\"], [0.2222222222222222, \"#7201a8\"], [0.3333333333333333, \"#9c179e\"], [0.4444444444444444, \"#bd3786\"], [0.5555555555555556, \"#d8576b\"], [0.6666666666666666, \"#ed7953\"], [0.7777777777777778, \"#fb9f3a\"], [0.8888888888888888, \"#fdca26\"], [1.0, \"#f0f921\"]], \"sequentialminus\": [[0.0, \"#0d0887\"], [0.1111111111111111, \"#46039f\"], [0.2222222222222222, \"#7201a8\"], [0.3333333333333333, \"#9c179e\"], [0.4444444444444444, \"#bd3786\"], [0.5555555555555556, \"#d8576b\"], [0.6666666666666666, \"#ed7953\"], [0.7777777777777778, \"#fb9f3a\"], [0.8888888888888888, \"#fdca26\"], [1.0, \"#f0f921\"]]}, \"colorway\": [\"#636efa\", \"#EF553B\", \"#00cc96\", \"#ab63fa\", \"#FFA15A\", \"#19d3f3\", \"#FF6692\", \"#B6E880\", \"#FF97FF\", \"#FECB52\"], \"font\": {\"color\": \"#2a3f5f\"}, \"geo\": {\"bgcolor\": \"white\", \"lakecolor\": \"white\", \"landcolor\": \"white\", \"showlakes\": true, \"showland\": true, \"subunitcolor\": \"#C8D4E3\"}, \"hoverlabel\": {\"align\": \"left\"}, \"hovermode\": \"closest\", \"mapbox\": {\"style\": \"light\"}, \"paper_bgcolor\": \"white\", \"plot_bgcolor\": \"white\", \"polar\": {\"angularaxis\": {\"gridcolor\": \"#EBF0F8\", \"linecolor\": \"#EBF0F8\", \"ticks\": \"\"}, \"bgcolor\": \"white\", \"radialaxis\": {\"gridcolor\": \"#EBF0F8\", \"linecolor\": \"#EBF0F8\", \"ticks\": \"\"}}, \"scene\": {\"xaxis\": {\"backgroundcolor\": \"white\", \"gridcolor\": \"#DFE8F3\", \"gridwidth\": 2, \"linecolor\": \"#EBF0F8\", \"showbackground\": true, \"ticks\": \"\", \"zerolinecolor\": \"#EBF0F8\"}, \"yaxis\": {\"backgroundcolor\": \"white\", \"gridcolor\": \"#DFE8F3\", \"gridwidth\": 2, \"linecolor\": \"#EBF0F8\", \"showbackground\": true, \"ticks\": \"\", \"zerolinecolor\": \"#EBF0F8\"}, \"zaxis\": {\"backgroundcolor\": \"white\", \"gridcolor\": \"#DFE8F3\", \"gridwidth\": 2, \"linecolor\": \"#EBF0F8\", \"showbackground\": true, \"ticks\": \"\", \"zerolinecolor\": \"#EBF0F8\"}}, \"shapedefaults\": {\"line\": {\"color\": \"#2a3f5f\"}}, \"ternary\": {\"aaxis\": {\"gridcolor\": \"#DFE8F3\", \"linecolor\": \"#A2B1C6\", \"ticks\": \"\"}, \"baxis\": {\"gridcolor\": \"#DFE8F3\", \"linecolor\": \"#A2B1C6\", \"ticks\": \"\"}, \"bgcolor\": \"white\", \"caxis\": {\"gridcolor\": \"#DFE8F3\", \"linecolor\": \"#A2B1C6\", \"ticks\": \"\"}}, \"title\": {\"x\": 0.05}, \"xaxis\": {\"automargin\": true, \"gridcolor\": \"#EBF0F8\", \"linecolor\": \"#EBF0F8\", \"ticks\": \"\", \"title\": {\"standoff\": 15}, \"zerolinecolor\": \"#EBF0F8\", \"zerolinewidth\": 2}, \"yaxis\": {\"automargin\": true, \"gridcolor\": \"#EBF0F8\", \"linecolor\": \"#EBF0F8\", \"ticks\": \"\", \"title\": {\"standoff\": 15}, \"zerolinecolor\": \"#EBF0F8\", \"zerolinewidth\": 2}}}, \"title\": {\"text\": \"Negara Sangat Rawan\"}},\n",
              "                        {\"responsive\": true}\n",
              "                    ).then(function(){\n",
              "                            \n",
              "var gd = document.getElementById('b179f2b2-2b50-4503-8eec-c2a0ad863768');\n",
              "var x = new MutationObserver(function (mutations, observer) {{\n",
              "        var display = window.getComputedStyle(gd).display;\n",
              "        if (!display || display === 'none') {{\n",
              "            console.log([gd, 'removed!']);\n",
              "            Plotly.purge(gd);\n",
              "            observer.disconnect();\n",
              "        }}\n",
              "}});\n",
              "\n",
              "// Listen for the removal of the full notebook cells\n",
              "var notebookContainer = gd.closest('#notebook-container');\n",
              "if (notebookContainer) {{\n",
              "    x.observe(notebookContainer, {childList: true});\n",
              "}}\n",
              "\n",
              "// Listen for the clearing of the current output cell\n",
              "var outputEl = gd.closest('.output');\n",
              "if (outputEl) {{\n",
              "    x.observe(outputEl, {childList: true});\n",
              "}}\n",
              "\n",
              "                        })\n",
              "                };\n",
              "                });\n",
              "            </script>\n",
              "        </div>"
            ],
            "application/vnd.plotly.v1+json": {
              "data": [
                {
                  "hovertemplate": "<b>%{hovertext}</b><br><br>locations=%{location}<br>color=%{z}",
                  "name": "",
                  "geo": "geo",
                  "hovertext": [
                    "Afghanistan",
                    "Albania",
                    "Algeria",
                    "Argentina",
                    "Armenia",
                    "Australia",
                    "Austria",
                    "Azerbaijan",
                    "Bahrain",
                    "Bangladesh",
                    "Belarus",
                    "Belgium",
                    "Bolivia",
                    "Bosnia and Herzegovina",
                    "Brazil",
                    "Bulgaria",
                    "Burma",
                    "Cambodia",
                    "Cameroon",
                    "Canada",
                    "Chile",
                    "China",
                    "Colombia",
                    "Costa Rica",
                    "Croatia",
                    "Cuba",
                    "Cyprus",
                    "Czechia",
                    "Denmark",
                    "Dominican Republic",
                    "Ecuador",
                    "Egypt",
                    "Estonia",
                    "Ethiopia",
                    "Finland",
                    "France",
                    "Georgia",
                    "Germany",
                    "Greece",
                    "Guatemala",
                    "Honduras",
                    "Hungary",
                    "India",
                    "Indonesia",
                    "Iran",
                    "Iraq",
                    "Ireland",
                    "Israel",
                    "Italy",
                    "Jamaica",
                    "Japan",
                    "Jordan",
                    "Kazakhstan",
                    "Kenya",
                    "Korea, South",
                    "Kosovo",
                    "Kuwait",
                    "Kyrgyzstan",
                    "Latvia",
                    "Lebanon",
                    "Libya",
                    "Lithuania",
                    "Malaysia",
                    "Maldives",
                    "Mexico",
                    "Moldova",
                    "Mongolia",
                    "Montenegro",
                    "Morocco",
                    "Nepal",
                    "Netherlands",
                    "Nigeria",
                    "North Macedonia",
                    "Norway",
                    "Oman",
                    "Pakistan",
                    "Panama",
                    "Paraguay",
                    "Peru",
                    "Philippines",
                    "Poland",
                    "Portugal",
                    "Qatar",
                    "Romania",
                    "Russia",
                    "Saudi Arabia",
                    "Serbia",
                    "Slovakia",
                    "Slovenia",
                    "Somalia",
                    "South Africa",
                    "Spain",
                    "Sri Lanka",
                    "Sweden",
                    "Switzerland",
                    "Thailand",
                    "Trinidad and Tobago",
                    "Tunisia",
                    "Turkey",
                    "US",
                    "Ukraine",
                    "United Arab Emirates",
                    "United Kingdom",
                    "Uruguay",
                    "Uzbekistan",
                    "Venezuela",
                    "West Bank and Gaza"
                  ],
                  "locations": [
                    "Afghanistan",
                    "Albania",
                    "Algeria",
                    "Argentina",
                    "Armenia",
                    "Australia",
                    "Austria",
                    "Azerbaijan",
                    "Bahrain",
                    "Bangladesh",
                    "Belarus",
                    "Belgium",
                    "Bolivia",
                    "Bosnia and Herzegovina",
                    "Brazil",
                    "Bulgaria",
                    "Burma",
                    "Cambodia",
                    "Cameroon",
                    "Canada",
                    "Chile",
                    "China",
                    "Colombia",
                    "Costa Rica",
                    "Croatia",
                    "Cuba",
                    "Cyprus",
                    "Czechia",
                    "Denmark",
                    "Dominican Republic",
                    "Ecuador",
                    "Egypt",
                    "Estonia",
                    "Ethiopia",
                    "Finland",
                    "France",
                    "Georgia",
                    "Germany",
                    "Greece",
                    "Guatemala",
                    "Honduras",
                    "Hungary",
                    "India",
                    "Indonesia",
                    "Iran",
                    "Iraq",
                    "Ireland",
                    "Israel",
                    "Italy",
                    "Jamaica",
                    "Japan",
                    "Jordan",
                    "Kazakhstan",
                    "Kenya",
                    "Korea, South",
                    "Kosovo",
                    "Kuwait",
                    "Kyrgyzstan",
                    "Latvia",
                    "Lebanon",
                    "Libya",
                    "Lithuania",
                    "Malaysia",
                    "Maldives",
                    "Mexico",
                    "Moldova",
                    "Mongolia",
                    "Montenegro",
                    "Morocco",
                    "Nepal",
                    "Netherlands",
                    "Nigeria",
                    "North Macedonia",
                    "Norway",
                    "Oman",
                    "Pakistan",
                    "Panama",
                    "Paraguay",
                    "Peru",
                    "Philippines",
                    "Poland",
                    "Portugal",
                    "Qatar",
                    "Romania",
                    "Russia",
                    "Saudi Arabia",
                    "Serbia",
                    "Slovakia",
                    "Slovenia",
                    "Somalia",
                    "South Africa",
                    "Spain",
                    "Sri Lanka",
                    "Sweden",
                    "Switzerland",
                    "Thailand",
                    "Trinidad and Tobago",
                    "Tunisia",
                    "Turkey",
                    "US",
                    "Ukraine",
                    "United Arab Emirates",
                    "United Kingdom",
                    "Uruguay",
                    "Uzbekistan",
                    "Venezuela",
                    "West Bank and Gaza"
                  ],
                  "hoverlabel": {
                    "namelength": 0
                  },
                  "type": "choropleth",
                  "z": [
                    65728,
                    132209,
                    126860,
                    3539484,
                    221948,
                    30019,
                    641380,
                    332454,
                    218047,
                    789080,
                    386025,
                    1048881,
                    349653,
                    203150,
                    16083258,
                    416646,
                    143234,
                    25205,
                    77733,
                    1366475,
                    1329918,
                    102873,
                    3232456,
                    299219,
                    353986,
                    133053,
                    71911,
                    1657893,
                    274204,
                    283729,
                    418851,
                    253835,
                    128592,
                    269194,
                    91526,
                    5980325,
                    337573,
                    3657662,
                    389804,
                    247454,
                    232672,
                    802088,
                    26752447,
                    1775220,
                    2832518,
                    1167940,
                    254870,
                    839319,
                    4192183,
                    47959,
                    719925,
                    726432,
                    429720,
                    168432,
                    136467,
                    106770,
                    299215,
                    102511,
                    130945,
                    538518,
                    183311,
                    270849,
                    512091,
                    55924,
                    2396604,
                    254676,
                    53100,
                    99248,
                    517023,
                    513241,
                    1653395,
                    166019,
                    155063,
                    122414,
                    210364,
                    903599,
                    374121,
                    332971,
                    1925289,
                    1179812,
                    2865622,
                    845224,
                    215443,
                    1075543,
                    4944129,
                    440914,
                    709939,
                    388835,
                    251690,
                    14632,
                    1635465,
                    3636453,
                    164201,
                    1058341,
                    687353,
                    129500,
                    20017,
                    335345,
                    5186487,
                    33117737,
                    2239897,
                    556107,
                    4478390,
                    265098,
                    98451,
                    223345,
                    305201
                  ],
                  "locationmode": "country names",
                  "coloraxis": "coloraxis"
                }
              ],
              "config": {
                "plotlyServerURL": "https://plot.ly"
              },
              "layout": {
                "title": {
                  "text": "Negara Sangat Rawan"
                },
                "geo": {
                  "domain": {
                    "y": [
                      0,
                      1
                    ],
                    "x": [
                      0,
                      1
                    ]
                  },
                  "center": {}
                },
                "template": {
                  "layout": {
                    "shapedefaults": {
                      "line": {
                        "color": "#2a3f5f"
                      }
                    },
                    "polar": {
                      "radialaxis": {
                        "ticks": "",
                        "gridcolor": "#EBF0F8",
                        "linecolor": "#EBF0F8"
                      },
                      "bgcolor": "white",
                      "angularaxis": {
                        "ticks": "",
                        "gridcolor": "#EBF0F8",
                        "linecolor": "#EBF0F8"
                      }
                    },
                    "colorway": [
                      "#636efa",
                      "#EF553B",
                      "#00cc96",
                      "#ab63fa",
                      "#FFA15A",
                      "#19d3f3",
                      "#FF6692",
                      "#B6E880",
                      "#FF97FF",
                      "#FECB52"
                    ],
                    "xaxis": {
                      "automargin": true,
                      "title": {
                        "standoff": 15
                      },
                      "zerolinewidth": 2,
                      "ticks": "",
                      "zerolinecolor": "#EBF0F8",
                      "gridcolor": "#EBF0F8",
                      "linecolor": "#EBF0F8"
                    },
                    "colorscale": {
                      "diverging": [
                        [
                          0,
                          "#8e0152"
                        ],
                        [
                          0.1,
                          "#c51b7d"
                        ],
                        [
                          0.2,
                          "#de77ae"
                        ],
                        [
                          0.3,
                          "#f1b6da"
                        ],
                        [
                          0.4,
                          "#fde0ef"
                        ],
                        [
                          0.5,
                          "#f7f7f7"
                        ],
                        [
                          0.6,
                          "#e6f5d0"
                        ],
                        [
                          0.7,
                          "#b8e186"
                        ],
                        [
                          0.8,
                          "#7fbc41"
                        ],
                        [
                          0.9,
                          "#4d9221"
                        ],
                        [
                          1,
                          "#276419"
                        ]
                      ],
                      "sequential": [
                        [
                          0,
                          "#0d0887"
                        ],
                        [
                          0.1111111111111111,
                          "#46039f"
                        ],
                        [
                          0.2222222222222222,
                          "#7201a8"
                        ],
                        [
                          0.3333333333333333,
                          "#9c179e"
                        ],
                        [
                          0.4444444444444444,
                          "#bd3786"
                        ],
                        [
                          0.5555555555555556,
                          "#d8576b"
                        ],
                        [
                          0.6666666666666666,
                          "#ed7953"
                        ],
                        [
                          0.7777777777777778,
                          "#fb9f3a"
                        ],
                        [
                          0.8888888888888888,
                          "#fdca26"
                        ],
                        [
                          1,
                          "#f0f921"
                        ]
                      ],
                      "sequentialminus": [
                        [
                          0,
                          "#0d0887"
                        ],
                        [
                          0.1111111111111111,
                          "#46039f"
                        ],
                        [
                          0.2222222222222222,
                          "#7201a8"
                        ],
                        [
                          0.3333333333333333,
                          "#9c179e"
                        ],
                        [
                          0.4444444444444444,
                          "#bd3786"
                        ],
                        [
                          0.5555555555555556,
                          "#d8576b"
                        ],
                        [
                          0.6666666666666666,
                          "#ed7953"
                        ],
                        [
                          0.7777777777777778,
                          "#fb9f3a"
                        ],
                        [
                          0.8888888888888888,
                          "#fdca26"
                        ],
                        [
                          1,
                          "#f0f921"
                        ]
                      ]
                    },
                    "paper_bgcolor": "white",
                    "plot_bgcolor": "white",
                    "title": {
                      "x": 0.05
                    },
                    "scene": {
                      "zaxis": {
                        "backgroundcolor": "white",
                        "ticks": "",
                        "gridwidth": 2,
                        "showbackground": true,
                        "zerolinecolor": "#EBF0F8",
                        "gridcolor": "#DFE8F3",
                        "linecolor": "#EBF0F8"
                      },
                      "xaxis": {
                        "backgroundcolor": "white",
                        "ticks": "",
                        "gridwidth": 2,
                        "showbackground": true,
                        "zerolinecolor": "#EBF0F8",
                        "gridcolor": "#DFE8F3",
                        "linecolor": "#EBF0F8"
                      },
                      "yaxis": {
                        "backgroundcolor": "white",
                        "ticks": "",
                        "gridwidth": 2,
                        "showbackground": true,
                        "zerolinecolor": "#EBF0F8",
                        "gridcolor": "#DFE8F3",
                        "linecolor": "#EBF0F8"
                      }
                    },
                    "yaxis": {
                      "automargin": true,
                      "title": {
                        "standoff": 15
                      },
                      "zerolinewidth": 2,
                      "ticks": "",
                      "zerolinecolor": "#EBF0F8",
                      "gridcolor": "#EBF0F8",
                      "linecolor": "#EBF0F8"
                    },
                    "annotationdefaults": {
                      "arrowwidth": 1,
                      "arrowhead": 0,
                      "arrowcolor": "#2a3f5f"
                    },
                    "hoverlabel": {
                      "align": "left"
                    },
                    "ternary": {
                      "bgcolor": "white",
                      "baxis": {
                        "ticks": "",
                        "gridcolor": "#DFE8F3",
                        "linecolor": "#A2B1C6"
                      },
                      "caxis": {
                        "ticks": "",
                        "gridcolor": "#DFE8F3",
                        "linecolor": "#A2B1C6"
                      },
                      "aaxis": {
                        "ticks": "",
                        "gridcolor": "#DFE8F3",
                        "linecolor": "#A2B1C6"
                      }
                    },
                    "mapbox": {
                      "style": "light"
                    },
                    "hovermode": "closest",
                    "font": {
                      "color": "#2a3f5f"
                    },
                    "geo": {
                      "showland": true,
                      "landcolor": "white",
                      "showlakes": true,
                      "bgcolor": "white",
                      "subunitcolor": "#C8D4E3",
                      "lakecolor": "white"
                    },
                    "coloraxis": {
                      "colorbar": {
                        "outlinewidth": 0,
                        "ticks": ""
                      }
                    }
                  },
                  "data": {
                    "mesh3d": [
                      {
                        "colorbar": {
                          "outlinewidth": 0,
                          "ticks": ""
                        },
                        "type": "mesh3d"
                      }
                    ],
                    "scattercarpet": [
                      {
                        "marker": {
                          "colorbar": {
                            "outlinewidth": 0,
                            "ticks": ""
                          }
                        },
                        "type": "scattercarpet"
                      }
                    ],
                    "pie": [
                      {
                        "automargin": true,
                        "type": "pie"
                      }
                    ],
                    "surface": [
                      {
                        "colorbar": {
                          "outlinewidth": 0,
                          "ticks": ""
                        },
                        "type": "surface",
                        "colorscale": [
                          [
                            0,
                            "#0d0887"
                          ],
                          [
                            0.1111111111111111,
                            "#46039f"
                          ],
                          [
                            0.2222222222222222,
                            "#7201a8"
                          ],
                          [
                            0.3333333333333333,
                            "#9c179e"
                          ],
                          [
                            0.4444444444444444,
                            "#bd3786"
                          ],
                          [
                            0.5555555555555556,
                            "#d8576b"
                          ],
                          [
                            0.6666666666666666,
                            "#ed7953"
                          ],
                          [
                            0.7777777777777778,
                            "#fb9f3a"
                          ],
                          [
                            0.8888888888888888,
                            "#fdca26"
                          ],
                          [
                            1,
                            "#f0f921"
                          ]
                        ]
                      }
                    ],
                    "table": [
                      {
                        "header": {
                          "line": {
                            "color": "white"
                          },
                          "fill": {
                            "color": "#C8D4E3"
                          }
                        },
                        "cells": {
                          "line": {
                            "color": "white"
                          },
                          "fill": {
                            "color": "#EBF0F8"
                          }
                        },
                        "type": "table"
                      }
                    ],
                    "scatterpolargl": [
                      {
                        "marker": {
                          "colorbar": {
                            "outlinewidth": 0,
                            "ticks": ""
                          }
                        },
                        "type": "scatterpolargl"
                      }
                    ],
                    "contour": [
                      {
                        "colorbar": {
                          "outlinewidth": 0,
                          "ticks": ""
                        },
                        "type": "contour",
                        "colorscale": [
                          [
                            0,
                            "#0d0887"
                          ],
                          [
                            0.1111111111111111,
                            "#46039f"
                          ],
                          [
                            0.2222222222222222,
                            "#7201a8"
                          ],
                          [
                            0.3333333333333333,
                            "#9c179e"
                          ],
                          [
                            0.4444444444444444,
                            "#bd3786"
                          ],
                          [
                            0.5555555555555556,
                            "#d8576b"
                          ],
                          [
                            0.6666666666666666,
                            "#ed7953"
                          ],
                          [
                            0.7777777777777778,
                            "#fb9f3a"
                          ],
                          [
                            0.8888888888888888,
                            "#fdca26"
                          ],
                          [
                            1,
                            "#f0f921"
                          ]
                        ]
                      }
                    ],
                    "carpet": [
                      {
                        "type": "carpet",
                        "baxis": {
                          "minorgridcolor": "#C8D4E3",
                          "gridcolor": "#C8D4E3",
                          "linecolor": "#C8D4E3",
                          "endlinecolor": "#2a3f5f",
                          "startlinecolor": "#2a3f5f"
                        },
                        "aaxis": {
                          "minorgridcolor": "#C8D4E3",
                          "gridcolor": "#C8D4E3",
                          "linecolor": "#C8D4E3",
                          "endlinecolor": "#2a3f5f",
                          "startlinecolor": "#2a3f5f"
                        }
                      }
                    ],
                    "contourcarpet": [
                      {
                        "colorbar": {
                          "outlinewidth": 0,
                          "ticks": ""
                        },
                        "type": "contourcarpet"
                      }
                    ],
                    "heatmap": [
                      {
                        "colorbar": {
                          "outlinewidth": 0,
                          "ticks": ""
                        },
                        "type": "heatmap",
                        "colorscale": [
                          [
                            0,
                            "#0d0887"
                          ],
                          [
                            0.1111111111111111,
                            "#46039f"
                          ],
                          [
                            0.2222222222222222,
                            "#7201a8"
                          ],
                          [
                            0.3333333333333333,
                            "#9c179e"
                          ],
                          [
                            0.4444444444444444,
                            "#bd3786"
                          ],
                          [
                            0.5555555555555556,
                            "#d8576b"
                          ],
                          [
                            0.6666666666666666,
                            "#ed7953"
                          ],
                          [
                            0.7777777777777778,
                            "#fb9f3a"
                          ],
                          [
                            0.8888888888888888,
                            "#fdca26"
                          ],
                          [
                            1,
                            "#f0f921"
                          ]
                        ]
                      }
                    ],
                    "scattermapbox": [
                      {
                        "marker": {
                          "colorbar": {
                            "outlinewidth": 0,
                            "ticks": ""
                          }
                        },
                        "type": "scattermapbox"
                      }
                    ],
                    "scatter3d": [
                      {
                        "marker": {
                          "colorbar": {
                            "outlinewidth": 0,
                            "ticks": ""
                          }
                        },
                        "line": {
                          "colorbar": {
                            "outlinewidth": 0,
                            "ticks": ""
                          }
                        },
                        "type": "scatter3d"
                      }
                    ],
                    "scattergl": [
                      {
                        "marker": {
                          "colorbar": {
                            "outlinewidth": 0,
                            "ticks": ""
                          }
                        },
                        "type": "scattergl"
                      }
                    ],
                    "scatterternary": [
                      {
                        "marker": {
                          "colorbar": {
                            "outlinewidth": 0,
                            "ticks": ""
                          }
                        },
                        "type": "scatterternary"
                      }
                    ],
                    "histogram": [
                      {
                        "marker": {
                          "colorbar": {
                            "outlinewidth": 0,
                            "ticks": ""
                          }
                        },
                        "type": "histogram"
                      }
                    ],
                    "heatmapgl": [
                      {
                        "colorbar": {
                          "outlinewidth": 0,
                          "ticks": ""
                        },
                        "type": "heatmapgl",
                        "colorscale": [
                          [
                            0,
                            "#0d0887"
                          ],
                          [
                            0.1111111111111111,
                            "#46039f"
                          ],
                          [
                            0.2222222222222222,
                            "#7201a8"
                          ],
                          [
                            0.3333333333333333,
                            "#9c179e"
                          ],
                          [
                            0.4444444444444444,
                            "#bd3786"
                          ],
                          [
                            0.5555555555555556,
                            "#d8576b"
                          ],
                          [
                            0.6666666666666666,
                            "#ed7953"
                          ],
                          [
                            0.7777777777777778,
                            "#fb9f3a"
                          ],
                          [
                            0.8888888888888888,
                            "#fdca26"
                          ],
                          [
                            1,
                            "#f0f921"
                          ]
                        ]
                      }
                    ],
                    "scatterpolar": [
                      {
                        "marker": {
                          "colorbar": {
                            "outlinewidth": 0,
                            "ticks": ""
                          }
                        },
                        "type": "scatterpolar"
                      }
                    ],
                    "histogram2d": [
                      {
                        "colorbar": {
                          "outlinewidth": 0,
                          "ticks": ""
                        },
                        "type": "histogram2d",
                        "colorscale": [
                          [
                            0,
                            "#0d0887"
                          ],
                          [
                            0.1111111111111111,
                            "#46039f"
                          ],
                          [
                            0.2222222222222222,
                            "#7201a8"
                          ],
                          [
                            0.3333333333333333,
                            "#9c179e"
                          ],
                          [
                            0.4444444444444444,
                            "#bd3786"
                          ],
                          [
                            0.5555555555555556,
                            "#d8576b"
                          ],
                          [
                            0.6666666666666666,
                            "#ed7953"
                          ],
                          [
                            0.7777777777777778,
                            "#fb9f3a"
                          ],
                          [
                            0.8888888888888888,
                            "#fdca26"
                          ],
                          [
                            1,
                            "#f0f921"
                          ]
                        ]
                      }
                    ],
                    "scattergeo": [
                      {
                        "marker": {
                          "colorbar": {
                            "outlinewidth": 0,
                            "ticks": ""
                          }
                        },
                        "type": "scattergeo"
                      }
                    ],
                    "bar": [
                      {
                        "marker": {
                          "line": {
                            "color": "white",
                            "width": 0.5
                          }
                        },
                        "type": "bar",
                        "error_x": {
                          "color": "#2a3f5f"
                        },
                        "error_y": {
                          "color": "#2a3f5f"
                        }
                      }
                    ],
                    "choropleth": [
                      {
                        "colorbar": {
                          "outlinewidth": 0,
                          "ticks": ""
                        },
                        "type": "choropleth"
                      }
                    ],
                    "parcoords": [
                      {
                        "line": {
                          "colorbar": {
                            "outlinewidth": 0,
                            "ticks": ""
                          }
                        },
                        "type": "parcoords"
                      }
                    ],
                    "barpolar": [
                      {
                        "marker": {
                          "line": {
                            "color": "white",
                            "width": 0.5
                          }
                        },
                        "type": "barpolar"
                      }
                    ],
                    "histogram2dcontour": [
                      {
                        "colorbar": {
                          "outlinewidth": 0,
                          "ticks": ""
                        },
                        "type": "histogram2dcontour",
                        "colorscale": [
                          [
                            0,
                            "#0d0887"
                          ],
                          [
                            0.1111111111111111,
                            "#46039f"
                          ],
                          [
                            0.2222222222222222,
                            "#7201a8"
                          ],
                          [
                            0.3333333333333333,
                            "#9c179e"
                          ],
                          [
                            0.4444444444444444,
                            "#bd3786"
                          ],
                          [
                            0.5555555555555556,
                            "#d8576b"
                          ],
                          [
                            0.6666666666666666,
                            "#ed7953"
                          ],
                          [
                            0.7777777777777778,
                            "#fb9f3a"
                          ],
                          [
                            0.8888888888888888,
                            "#fdca26"
                          ],
                          [
                            1,
                            "#f0f921"
                          ]
                        ]
                      }
                    ],
                    "scatter": [
                      {
                        "marker": {
                          "colorbar": {
                            "outlinewidth": 0,
                            "ticks": ""
                          }
                        },
                        "type": "scatter"
                      }
                    ]
                  }
                },
                "margin": {
                  "t": 60
                },
                "legend": {
                  "tracegroupgap": 0
                },
                "coloraxis": {
                  "colorbar": {
                    "title": {
                      "text": "Number of confirmed cases"
                    }
                  },
                  "colorscale": [
                    [
                      0,
                      "#0d0887"
                    ],
                    [
                      0.1111111111111111,
                      "#46039f"
                    ],
                    [
                      0.2222222222222222,
                      "#7201a8"
                    ],
                    [
                      0.3333333333333333,
                      "#9c179e"
                    ],
                    [
                      0.4444444444444444,
                      "#bd3786"
                    ],
                    [
                      0.5555555555555556,
                      "#d8576b"
                    ],
                    [
                      0.6666666666666666,
                      "#ed7953"
                    ],
                    [
                      0.7777777777777778,
                      "#fb9f3a"
                    ],
                    [
                      0.8888888888888888,
                      "#fdca26"
                    ],
                    [
                      1,
                      "#f0f921"
                    ]
                  ]
                }
              }
            }
          },
          "metadata": {
            "tags": []
          }
        }
      ]
    },
    {
      "cell_type": "markdown",
      "metadata": {
        "id": "Q-aD4gsx1W2A"
      },
      "source": [
        "### **Persebaran Hari terakhir data covid 19 yang di dapat**"
      ]
    },
    {
      "cell_type": "code",
      "metadata": {
        "colab": {
          "base_uri": "https://localhost:8080/",
          "height": 0
        },
        "id": "XQdrCX-l1W2B",
        "outputId": "fdfb50c6-54ff-4fd0-d3ae-08d0a1e5c71c"
      },
      "source": [
        "fig = px.choropleth(last_day, locations=last_day['Country/Region'],\n",
        "                    color=last_day['Confirmed'],locationmode='country names', \n",
        "                    hover_name=last_day['Country/Region'], \n",
        "                    color_continuous_scale=px.colors.sequential.Plasma,\n",
        "                    template ='plotly_white')\n",
        "fig.update_layout(title_text=\"Last Update Data Visual covid 19 Global\")\n",
        "fig.update_coloraxes(colorbar_title=\"Number of confirmed cases\")\n",
        "\n",
        "fig.show()"
      ],
      "execution_count": 25,
      "outputs": [
        {
          "output_type": "display_data",
          "data": {
            "text/html": [
              "<div>\n",
              "        \n",
              "        \n",
              "            <div id=\"4bdb3728-dcac-407d-901c-1c8e4b8ceb07\" class=\"plotly-graph-div\" style=\"height:525px; width:100%;\"></div>\n",
              "            <script type=\"text/javascript\">\n",
              "                require([\"plotly\"], function(Plotly) {\n",
              "                    window.PLOTLYENV=window.PLOTLYENV || {};\n",
              "                    \n",
              "                if (document.getElementById(\"4bdb3728-dcac-407d-901c-1c8e4b8ceb07\")) {\n",
              "                    Plotly.newPlot(\n",
              "                        '4bdb3728-dcac-407d-901c-1c8e4b8ceb07',\n",
              "                        [{\"coloraxis\": \"coloraxis\", \"geo\": \"geo\", \"hoverlabel\": {\"namelength\": 0}, \"hovertemplate\": \"<b>%{hovertext}</b><br><br>Country/Region=%{location}<br>Confirmed=%{z}\", \"hovertext\": [\"Afghanistan\", \"Albania\", \"Algeria\", \"Andorra\", \"Angola\", \"Antigua and Barbuda\", \"Argentina\", \"Armenia\", \"Australia\", \"Austria\", \"Azerbaijan\", \"Bahamas\", \"Bahrain\", \"Bangladesh\", \"Barbados\", \"Belarus\", \"Belgium\", \"Belize\", \"Benin\", \"Bhutan\", \"Bolivia\", \"Bosnia and Herzegovina\", \"Botswana\", \"Brazil\", \"Brunei\", \"Bulgaria\", \"Burkina Faso\", \"Burma\", \"Burundi\", \"Cabo Verde\", \"Cambodia\", \"Cameroon\", \"Canada\", \"Central African Republic\", \"Chad\", \"Chile\", \"China\", \"Colombia\", \"Comoros\", \"Congo (Brazzaville)\", \"Congo (Kinshasa)\", \"Costa Rica\", \"Cote d'Ivoire\", \"Croatia\", \"Cuba\", \"Cyprus\", \"Czechia\", \"Denmark\", \"Diamond Princess\", \"Djibouti\", \"Dominica\", \"Dominican Republic\", \"Ecuador\", \"Egypt\", \"El Salvador\", \"Equatorial Guinea\", \"Eritrea\", \"Estonia\", \"Eswatini\", \"Ethiopia\", \"Fiji\", \"Finland\", \"France\", \"Gabon\", \"Gambia\", \"Georgia\", \"Germany\", \"Ghana\", \"Greece\", \"Grenada\", \"Guatemala\", \"Guinea\", \"Guinea-Bissau\", \"Guyana\", \"Haiti\", \"Holy See\", \"Honduras\", \"Hungary\", \"Iceland\", \"India\", \"Indonesia\", \"Iran\", \"Iraq\", \"Ireland\", \"Israel\", \"Italy\", \"Jamaica\", \"Japan\", \"Jordan\", \"Kazakhstan\", \"Kenya\", \"Korea, South\", \"Kosovo\", \"Kuwait\", \"Kyrgyzstan\", \"Laos\", \"Latvia\", \"Lebanon\", \"Lesotho\", \"Liberia\", \"Libya\", \"Liechtenstein\", \"Lithuania\", \"Luxembourg\", \"MS Zaandam\", \"Madagascar\", \"Malawi\", \"Malaysia\", \"Maldives\", \"Mali\", \"Malta\", \"Marshall Islands\", \"Mauritania\", \"Mauritius\", \"Mexico\", \"Micronesia\", \"Moldova\", \"Monaco\", \"Mongolia\", \"Montenegro\", \"Morocco\", \"Mozambique\", \"Namibia\", \"Nepal\", \"Netherlands\", \"New Zealand\", \"Nicaragua\", \"Niger\", \"Nigeria\", \"North Macedonia\", \"Norway\", \"Oman\", \"Pakistan\", \"Panama\", \"Papua New Guinea\", \"Paraguay\", \"Peru\", \"Philippines\", \"Poland\", \"Portugal\", \"Qatar\", \"Romania\", \"Russia\", \"Rwanda\", \"Saint Kitts and Nevis\", \"Saint Lucia\", \"Saint Vincent and the Grenadines\", \"Samoa\", \"San Marino\", \"Sao Tome and Principe\", \"Saudi Arabia\", \"Senegal\", \"Serbia\", \"Seychelles\", \"Sierra Leone\", \"Singapore\", \"Slovakia\", \"Slovenia\", \"Solomon Islands\", \"Somalia\", \"South Africa\", \"South Sudan\", \"Spain\", \"Sri Lanka\", \"Sudan\", \"Suriname\", \"Sweden\", \"Switzerland\", \"Syria\", \"Taiwan*\", \"Tajikistan\", \"Tanzania\", \"Thailand\", \"Timor-Leste\", \"Togo\", \"Trinidad and Tobago\", \"Tunisia\", \"Turkey\", \"US\", \"Uganda\", \"Ukraine\", \"United Arab Emirates\", \"United Kingdom\", \"Uruguay\", \"Uzbekistan\", \"Vanuatu\", \"Venezuela\", \"Vietnam\", \"West Bank and Gaza\", \"Yemen\", \"Zambia\", \"Zimbabwe\"], \"locationmode\": \"country names\", \"locations\": [\"Afghanistan\", \"Albania\", \"Algeria\", \"Andorra\", \"Angola\", \"Antigua and Barbuda\", \"Argentina\", \"Armenia\", \"Australia\", \"Austria\", \"Azerbaijan\", \"Bahamas\", \"Bahrain\", \"Bangladesh\", \"Barbados\", \"Belarus\", \"Belgium\", \"Belize\", \"Benin\", \"Bhutan\", \"Bolivia\", \"Bosnia and Herzegovina\", \"Botswana\", \"Brazil\", \"Brunei\", \"Bulgaria\", \"Burkina Faso\", \"Burma\", \"Burundi\", \"Cabo Verde\", \"Cambodia\", \"Cameroon\", \"Canada\", \"Central African Republic\", \"Chad\", \"Chile\", \"China\", \"Colombia\", \"Comoros\", \"Congo (Brazzaville)\", \"Congo (Kinshasa)\", \"Costa Rica\", \"Cote d'Ivoire\", \"Croatia\", \"Cuba\", \"Cyprus\", \"Czechia\", \"Denmark\", \"Diamond Princess\", \"Djibouti\", \"Dominica\", \"Dominican Republic\", \"Ecuador\", \"Egypt\", \"El Salvador\", \"Equatorial Guinea\", \"Eritrea\", \"Estonia\", \"Eswatini\", \"Ethiopia\", \"Fiji\", \"Finland\", \"France\", \"Gabon\", \"Gambia\", \"Georgia\", \"Germany\", \"Ghana\", \"Greece\", \"Grenada\", \"Guatemala\", \"Guinea\", \"Guinea-Bissau\", \"Guyana\", \"Haiti\", \"Holy See\", \"Honduras\", \"Hungary\", \"Iceland\", \"India\", \"Indonesia\", \"Iran\", \"Iraq\", \"Ireland\", \"Israel\", \"Italy\", \"Jamaica\", \"Japan\", \"Jordan\", \"Kazakhstan\", \"Kenya\", \"Korea, South\", \"Kosovo\", \"Kuwait\", \"Kyrgyzstan\", \"Laos\", \"Latvia\", \"Lebanon\", \"Lesotho\", \"Liberia\", \"Libya\", \"Liechtenstein\", \"Lithuania\", \"Luxembourg\", \"MS Zaandam\", \"Madagascar\", \"Malawi\", \"Malaysia\", \"Maldives\", \"Mali\", \"Malta\", \"Marshall Islands\", \"Mauritania\", \"Mauritius\", \"Mexico\", \"Micronesia\", \"Moldova\", \"Monaco\", \"Mongolia\", \"Montenegro\", \"Morocco\", \"Mozambique\", \"Namibia\", \"Nepal\", \"Netherlands\", \"New Zealand\", \"Nicaragua\", \"Niger\", \"Nigeria\", \"North Macedonia\", \"Norway\", \"Oman\", \"Pakistan\", \"Panama\", \"Papua New Guinea\", \"Paraguay\", \"Peru\", \"Philippines\", \"Poland\", \"Portugal\", \"Qatar\", \"Romania\", \"Russia\", \"Rwanda\", \"Saint Kitts and Nevis\", \"Saint Lucia\", \"Saint Vincent and the Grenadines\", \"Samoa\", \"San Marino\", \"Sao Tome and Principe\", \"Saudi Arabia\", \"Senegal\", \"Serbia\", \"Seychelles\", \"Sierra Leone\", \"Singapore\", \"Slovakia\", \"Slovenia\", \"Solomon Islands\", \"Somalia\", \"South Africa\", \"South Sudan\", \"Spain\", \"Sri Lanka\", \"Sudan\", \"Suriname\", \"Sweden\", \"Switzerland\", \"Syria\", \"Taiwan*\", \"Tajikistan\", \"Tanzania\", \"Thailand\", \"Timor-Leste\", \"Togo\", \"Trinidad and Tobago\", \"Tunisia\", \"Turkey\", \"US\", \"Uganda\", \"Ukraine\", \"United Arab Emirates\", \"United Kingdom\", \"Uruguay\", \"Uzbekistan\", \"Vanuatu\", \"Venezuela\", \"Vietnam\", \"West Bank and Gaza\", \"Yemen\", \"Zambia\", \"Zimbabwe\"], \"name\": \"\", \"type\": \"choropleth\", \"z\": [65728, 132209, 126860, 13569, 32441, 1257, 3539484, 221948, 30019, 641380, 332454, 11396, 218047, 789080, 3995, 386025, 1048881, 12764, 8025, 1394, 349653, 203150, 51620, 16083258, 235, 416646, 13415, 143234, 4494, 29334, 25205, 77733, 1366475, 7079, 4924, 1329918, 102873, 3232456, 3872, 11476, 30863, 299219, 46942, 353986, 133053, 71911, 1657893, 274204, 712, 11493, 184, 283729, 418851, 253835, 72220, 8436, 3932, 128592, 18551, 269194, 230, 91526, 5980325, 24107, 5968, 337573, 3657662, 93620, 389804, 161, 247454, 22988, 3751, 16130, 13735, 27, 232672, 802088, 6555, 26752447, 1775220, 2832518, 1167940, 254870, 839319, 4192183, 47959, 719925, 726432, 429720, 168432, 136467, 106770, 299215, 102511, 1801, 130945, 538518, 10822, 2142, 183311, 3000, 270849, 69545, 9, 40876, 34284, 512091, 55924, 14241, 30504, 4, 19149, 1293, 2396604, 1, 254676, 2501, 53100, 99248, 517023, 70590, 52946, 513241, 1653395, 2668, 7193, 5383, 166019, 155063, 122414, 210364, 903599, 374121, 14910, 332971, 1925289, 1179812, 2865622, 845224, 215443, 1075543, 4944129, 26688, 50, 4945, 1973, 3, 5087, 2338, 440914, 41090, 709939, 9764, 4121, 61824, 388835, 251690, 20, 14632, 1635465, 10652, 3636453, 164201, 34889, 13111, 1058341, 687353, 24117, 4322, 13308, 509, 129500, 5637, 13374, 20017, 335345, 5186487, 33117737, 43734, 2239897, 556107, 4478390, 265098, 98451, 4, 223345, 5275, 305201, 6658, 93201, 38682]}],\n",
              "                        {\"coloraxis\": {\"colorbar\": {\"title\": {\"text\": \"Number of confirmed cases\"}}, \"colorscale\": [[0.0, \"#0d0887\"], [0.1111111111111111, \"#46039f\"], [0.2222222222222222, \"#7201a8\"], [0.3333333333333333, \"#9c179e\"], [0.4444444444444444, \"#bd3786\"], [0.5555555555555556, \"#d8576b\"], [0.6666666666666666, \"#ed7953\"], [0.7777777777777778, \"#fb9f3a\"], [0.8888888888888888, \"#fdca26\"], [1.0, \"#f0f921\"]]}, \"geo\": {\"center\": {}, \"domain\": {\"x\": [0.0, 1.0], \"y\": [0.0, 1.0]}}, \"legend\": {\"tracegroupgap\": 0}, \"margin\": {\"t\": 60}, \"template\": {\"data\": {\"bar\": [{\"error_x\": {\"color\": \"#2a3f5f\"}, \"error_y\": {\"color\": \"#2a3f5f\"}, \"marker\": {\"line\": {\"color\": \"white\", \"width\": 0.5}}, \"type\": \"bar\"}], \"barpolar\": [{\"marker\": {\"line\": {\"color\": \"white\", \"width\": 0.5}}, \"type\": \"barpolar\"}], \"carpet\": [{\"aaxis\": {\"endlinecolor\": \"#2a3f5f\", \"gridcolor\": \"#C8D4E3\", \"linecolor\": \"#C8D4E3\", \"minorgridcolor\": \"#C8D4E3\", \"startlinecolor\": \"#2a3f5f\"}, \"baxis\": {\"endlinecolor\": \"#2a3f5f\", \"gridcolor\": \"#C8D4E3\", \"linecolor\": \"#C8D4E3\", \"minorgridcolor\": \"#C8D4E3\", \"startlinecolor\": \"#2a3f5f\"}, \"type\": \"carpet\"}], \"choropleth\": [{\"colorbar\": {\"outlinewidth\": 0, \"ticks\": \"\"}, \"type\": \"choropleth\"}], \"contour\": [{\"colorbar\": {\"outlinewidth\": 0, \"ticks\": \"\"}, \"colorscale\": [[0.0, \"#0d0887\"], [0.1111111111111111, \"#46039f\"], [0.2222222222222222, \"#7201a8\"], [0.3333333333333333, \"#9c179e\"], [0.4444444444444444, \"#bd3786\"], [0.5555555555555556, \"#d8576b\"], [0.6666666666666666, \"#ed7953\"], [0.7777777777777778, \"#fb9f3a\"], [0.8888888888888888, \"#fdca26\"], [1.0, \"#f0f921\"]], \"type\": \"contour\"}], \"contourcarpet\": [{\"colorbar\": {\"outlinewidth\": 0, \"ticks\": \"\"}, \"type\": \"contourcarpet\"}], \"heatmap\": [{\"colorbar\": {\"outlinewidth\": 0, \"ticks\": \"\"}, \"colorscale\": [[0.0, \"#0d0887\"], [0.1111111111111111, \"#46039f\"], [0.2222222222222222, \"#7201a8\"], [0.3333333333333333, \"#9c179e\"], [0.4444444444444444, \"#bd3786\"], [0.5555555555555556, \"#d8576b\"], [0.6666666666666666, \"#ed7953\"], [0.7777777777777778, \"#fb9f3a\"], [0.8888888888888888, \"#fdca26\"], [1.0, \"#f0f921\"]], \"type\": \"heatmap\"}], \"heatmapgl\": [{\"colorbar\": {\"outlinewidth\": 0, \"ticks\": \"\"}, \"colorscale\": [[0.0, \"#0d0887\"], [0.1111111111111111, \"#46039f\"], [0.2222222222222222, \"#7201a8\"], [0.3333333333333333, \"#9c179e\"], [0.4444444444444444, \"#bd3786\"], [0.5555555555555556, \"#d8576b\"], [0.6666666666666666, \"#ed7953\"], [0.7777777777777778, \"#fb9f3a\"], [0.8888888888888888, \"#fdca26\"], [1.0, \"#f0f921\"]], \"type\": \"heatmapgl\"}], \"histogram\": [{\"marker\": {\"colorbar\": {\"outlinewidth\": 0, \"ticks\": \"\"}}, \"type\": \"histogram\"}], \"histogram2d\": [{\"colorbar\": {\"outlinewidth\": 0, \"ticks\": \"\"}, \"colorscale\": [[0.0, \"#0d0887\"], [0.1111111111111111, \"#46039f\"], [0.2222222222222222, \"#7201a8\"], [0.3333333333333333, \"#9c179e\"], [0.4444444444444444, \"#bd3786\"], [0.5555555555555556, \"#d8576b\"], [0.6666666666666666, \"#ed7953\"], [0.7777777777777778, \"#fb9f3a\"], [0.8888888888888888, \"#fdca26\"], [1.0, \"#f0f921\"]], \"type\": \"histogram2d\"}], \"histogram2dcontour\": [{\"colorbar\": {\"outlinewidth\": 0, \"ticks\": \"\"}, \"colorscale\": [[0.0, \"#0d0887\"], [0.1111111111111111, \"#46039f\"], [0.2222222222222222, \"#7201a8\"], [0.3333333333333333, \"#9c179e\"], [0.4444444444444444, \"#bd3786\"], [0.5555555555555556, \"#d8576b\"], [0.6666666666666666, \"#ed7953\"], [0.7777777777777778, \"#fb9f3a\"], [0.8888888888888888, \"#fdca26\"], [1.0, \"#f0f921\"]], \"type\": \"histogram2dcontour\"}], \"mesh3d\": [{\"colorbar\": {\"outlinewidth\": 0, \"ticks\": \"\"}, \"type\": \"mesh3d\"}], \"parcoords\": [{\"line\": {\"colorbar\": {\"outlinewidth\": 0, \"ticks\": \"\"}}, \"type\": \"parcoords\"}], \"pie\": [{\"automargin\": true, \"type\": \"pie\"}], \"scatter\": [{\"marker\": {\"colorbar\": {\"outlinewidth\": 0, \"ticks\": \"\"}}, \"type\": \"scatter\"}], \"scatter3d\": [{\"line\": {\"colorbar\": {\"outlinewidth\": 0, \"ticks\": \"\"}}, \"marker\": {\"colorbar\": {\"outlinewidth\": 0, \"ticks\": \"\"}}, \"type\": \"scatter3d\"}], \"scattercarpet\": [{\"marker\": {\"colorbar\": {\"outlinewidth\": 0, \"ticks\": \"\"}}, \"type\": \"scattercarpet\"}], \"scattergeo\": [{\"marker\": {\"colorbar\": {\"outlinewidth\": 0, \"ticks\": \"\"}}, \"type\": \"scattergeo\"}], \"scattergl\": [{\"marker\": {\"colorbar\": {\"outlinewidth\": 0, \"ticks\": \"\"}}, \"type\": \"scattergl\"}], \"scattermapbox\": [{\"marker\": {\"colorbar\": {\"outlinewidth\": 0, \"ticks\": \"\"}}, \"type\": \"scattermapbox\"}], \"scatterpolar\": [{\"marker\": {\"colorbar\": {\"outlinewidth\": 0, \"ticks\": \"\"}}, \"type\": \"scatterpolar\"}], \"scatterpolargl\": [{\"marker\": {\"colorbar\": {\"outlinewidth\": 0, \"ticks\": \"\"}}, \"type\": \"scatterpolargl\"}], \"scatterternary\": [{\"marker\": {\"colorbar\": {\"outlinewidth\": 0, \"ticks\": \"\"}}, \"type\": \"scatterternary\"}], \"surface\": [{\"colorbar\": {\"outlinewidth\": 0, \"ticks\": \"\"}, \"colorscale\": [[0.0, \"#0d0887\"], [0.1111111111111111, \"#46039f\"], [0.2222222222222222, \"#7201a8\"], [0.3333333333333333, \"#9c179e\"], [0.4444444444444444, \"#bd3786\"], [0.5555555555555556, \"#d8576b\"], [0.6666666666666666, \"#ed7953\"], [0.7777777777777778, \"#fb9f3a\"], [0.8888888888888888, \"#fdca26\"], [1.0, \"#f0f921\"]], \"type\": \"surface\"}], \"table\": [{\"cells\": {\"fill\": {\"color\": \"#EBF0F8\"}, \"line\": {\"color\": \"white\"}}, \"header\": {\"fill\": {\"color\": \"#C8D4E3\"}, \"line\": {\"color\": \"white\"}}, \"type\": \"table\"}]}, \"layout\": {\"annotationdefaults\": {\"arrowcolor\": \"#2a3f5f\", \"arrowhead\": 0, \"arrowwidth\": 1}, \"coloraxis\": {\"colorbar\": {\"outlinewidth\": 0, \"ticks\": \"\"}}, \"colorscale\": {\"diverging\": [[0, \"#8e0152\"], [0.1, \"#c51b7d\"], [0.2, \"#de77ae\"], [0.3, \"#f1b6da\"], [0.4, \"#fde0ef\"], [0.5, \"#f7f7f7\"], [0.6, \"#e6f5d0\"], [0.7, \"#b8e186\"], [0.8, \"#7fbc41\"], [0.9, \"#4d9221\"], [1, \"#276419\"]], \"sequential\": [[0.0, \"#0d0887\"], [0.1111111111111111, \"#46039f\"], [0.2222222222222222, \"#7201a8\"], [0.3333333333333333, \"#9c179e\"], [0.4444444444444444, \"#bd3786\"], [0.5555555555555556, \"#d8576b\"], [0.6666666666666666, \"#ed7953\"], [0.7777777777777778, \"#fb9f3a\"], [0.8888888888888888, \"#fdca26\"], [1.0, \"#f0f921\"]], \"sequentialminus\": [[0.0, \"#0d0887\"], [0.1111111111111111, \"#46039f\"], [0.2222222222222222, \"#7201a8\"], [0.3333333333333333, \"#9c179e\"], [0.4444444444444444, \"#bd3786\"], [0.5555555555555556, \"#d8576b\"], [0.6666666666666666, \"#ed7953\"], [0.7777777777777778, \"#fb9f3a\"], [0.8888888888888888, \"#fdca26\"], [1.0, \"#f0f921\"]]}, \"colorway\": [\"#636efa\", \"#EF553B\", \"#00cc96\", \"#ab63fa\", \"#FFA15A\", \"#19d3f3\", \"#FF6692\", \"#B6E880\", \"#FF97FF\", \"#FECB52\"], \"font\": {\"color\": \"#2a3f5f\"}, \"geo\": {\"bgcolor\": \"white\", \"lakecolor\": \"white\", \"landcolor\": \"white\", \"showlakes\": true, \"showland\": true, \"subunitcolor\": \"#C8D4E3\"}, \"hoverlabel\": {\"align\": \"left\"}, \"hovermode\": \"closest\", \"mapbox\": {\"style\": \"light\"}, \"paper_bgcolor\": \"white\", \"plot_bgcolor\": \"white\", \"polar\": {\"angularaxis\": {\"gridcolor\": \"#EBF0F8\", \"linecolor\": \"#EBF0F8\", \"ticks\": \"\"}, \"bgcolor\": \"white\", \"radialaxis\": {\"gridcolor\": \"#EBF0F8\", \"linecolor\": \"#EBF0F8\", \"ticks\": \"\"}}, \"scene\": {\"xaxis\": {\"backgroundcolor\": \"white\", \"gridcolor\": \"#DFE8F3\", \"gridwidth\": 2, \"linecolor\": \"#EBF0F8\", \"showbackground\": true, \"ticks\": \"\", \"zerolinecolor\": \"#EBF0F8\"}, \"yaxis\": {\"backgroundcolor\": \"white\", \"gridcolor\": \"#DFE8F3\", \"gridwidth\": 2, \"linecolor\": \"#EBF0F8\", \"showbackground\": true, \"ticks\": \"\", \"zerolinecolor\": \"#EBF0F8\"}, \"zaxis\": {\"backgroundcolor\": \"white\", \"gridcolor\": \"#DFE8F3\", \"gridwidth\": 2, \"linecolor\": \"#EBF0F8\", \"showbackground\": true, \"ticks\": \"\", \"zerolinecolor\": \"#EBF0F8\"}}, \"shapedefaults\": {\"line\": {\"color\": \"#2a3f5f\"}}, \"ternary\": {\"aaxis\": {\"gridcolor\": \"#DFE8F3\", \"linecolor\": \"#A2B1C6\", \"ticks\": \"\"}, \"baxis\": {\"gridcolor\": \"#DFE8F3\", \"linecolor\": \"#A2B1C6\", \"ticks\": \"\"}, \"bgcolor\": \"white\", \"caxis\": {\"gridcolor\": \"#DFE8F3\", \"linecolor\": \"#A2B1C6\", \"ticks\": \"\"}}, \"title\": {\"x\": 0.05}, \"xaxis\": {\"automargin\": true, \"gridcolor\": \"#EBF0F8\", \"linecolor\": \"#EBF0F8\", \"ticks\": \"\", \"title\": {\"standoff\": 15}, \"zerolinecolor\": \"#EBF0F8\", \"zerolinewidth\": 2}, \"yaxis\": {\"automargin\": true, \"gridcolor\": \"#EBF0F8\", \"linecolor\": \"#EBF0F8\", \"ticks\": \"\", \"title\": {\"standoff\": 15}, \"zerolinecolor\": \"#EBF0F8\", \"zerolinewidth\": 2}}}, \"title\": {\"text\": \"Last Update Data Visual covid 19 Global\"}},\n",
              "                        {\"responsive\": true}\n",
              "                    ).then(function(){\n",
              "                            \n",
              "var gd = document.getElementById('4bdb3728-dcac-407d-901c-1c8e4b8ceb07');\n",
              "var x = new MutationObserver(function (mutations, observer) {{\n",
              "        var display = window.getComputedStyle(gd).display;\n",
              "        if (!display || display === 'none') {{\n",
              "            console.log([gd, 'removed!']);\n",
              "            Plotly.purge(gd);\n",
              "            observer.disconnect();\n",
              "        }}\n",
              "}});\n",
              "\n",
              "// Listen for the removal of the full notebook cells\n",
              "var notebookContainer = gd.closest('#notebook-container');\n",
              "if (notebookContainer) {{\n",
              "    x.observe(notebookContainer, {childList: true});\n",
              "}}\n",
              "\n",
              "// Listen for the clearing of the current output cell\n",
              "var outputEl = gd.closest('.output');\n",
              "if (outputEl) {{\n",
              "    x.observe(outputEl, {childList: true});\n",
              "}}\n",
              "\n",
              "                        })\n",
              "                };\n",
              "                });\n",
              "            </script>\n",
              "        </div>"
            ],
            "application/vnd.plotly.v1+json": {
              "data": [
                {
                  "hovertemplate": "<b>%{hovertext}</b><br><br>Country/Region=%{location}<br>Confirmed=%{z}",
                  "name": "",
                  "geo": "geo",
                  "hovertext": [
                    "Afghanistan",
                    "Albania",
                    "Algeria",
                    "Andorra",
                    "Angola",
                    "Antigua and Barbuda",
                    "Argentina",
                    "Armenia",
                    "Australia",
                    "Austria",
                    "Azerbaijan",
                    "Bahamas",
                    "Bahrain",
                    "Bangladesh",
                    "Barbados",
                    "Belarus",
                    "Belgium",
                    "Belize",
                    "Benin",
                    "Bhutan",
                    "Bolivia",
                    "Bosnia and Herzegovina",
                    "Botswana",
                    "Brazil",
                    "Brunei",
                    "Bulgaria",
                    "Burkina Faso",
                    "Burma",
                    "Burundi",
                    "Cabo Verde",
                    "Cambodia",
                    "Cameroon",
                    "Canada",
                    "Central African Republic",
                    "Chad",
                    "Chile",
                    "China",
                    "Colombia",
                    "Comoros",
                    "Congo (Brazzaville)",
                    "Congo (Kinshasa)",
                    "Costa Rica",
                    "Cote d'Ivoire",
                    "Croatia",
                    "Cuba",
                    "Cyprus",
                    "Czechia",
                    "Denmark",
                    "Diamond Princess",
                    "Djibouti",
                    "Dominica",
                    "Dominican Republic",
                    "Ecuador",
                    "Egypt",
                    "El Salvador",
                    "Equatorial Guinea",
                    "Eritrea",
                    "Estonia",
                    "Eswatini",
                    "Ethiopia",
                    "Fiji",
                    "Finland",
                    "France",
                    "Gabon",
                    "Gambia",
                    "Georgia",
                    "Germany",
                    "Ghana",
                    "Greece",
                    "Grenada",
                    "Guatemala",
                    "Guinea",
                    "Guinea-Bissau",
                    "Guyana",
                    "Haiti",
                    "Holy See",
                    "Honduras",
                    "Hungary",
                    "Iceland",
                    "India",
                    "Indonesia",
                    "Iran",
                    "Iraq",
                    "Ireland",
                    "Israel",
                    "Italy",
                    "Jamaica",
                    "Japan",
                    "Jordan",
                    "Kazakhstan",
                    "Kenya",
                    "Korea, South",
                    "Kosovo",
                    "Kuwait",
                    "Kyrgyzstan",
                    "Laos",
                    "Latvia",
                    "Lebanon",
                    "Lesotho",
                    "Liberia",
                    "Libya",
                    "Liechtenstein",
                    "Lithuania",
                    "Luxembourg",
                    "MS Zaandam",
                    "Madagascar",
                    "Malawi",
                    "Malaysia",
                    "Maldives",
                    "Mali",
                    "Malta",
                    "Marshall Islands",
                    "Mauritania",
                    "Mauritius",
                    "Mexico",
                    "Micronesia",
                    "Moldova",
                    "Monaco",
                    "Mongolia",
                    "Montenegro",
                    "Morocco",
                    "Mozambique",
                    "Namibia",
                    "Nepal",
                    "Netherlands",
                    "New Zealand",
                    "Nicaragua",
                    "Niger",
                    "Nigeria",
                    "North Macedonia",
                    "Norway",
                    "Oman",
                    "Pakistan",
                    "Panama",
                    "Papua New Guinea",
                    "Paraguay",
                    "Peru",
                    "Philippines",
                    "Poland",
                    "Portugal",
                    "Qatar",
                    "Romania",
                    "Russia",
                    "Rwanda",
                    "Saint Kitts and Nevis",
                    "Saint Lucia",
                    "Saint Vincent and the Grenadines",
                    "Samoa",
                    "San Marino",
                    "Sao Tome and Principe",
                    "Saudi Arabia",
                    "Senegal",
                    "Serbia",
                    "Seychelles",
                    "Sierra Leone",
                    "Singapore",
                    "Slovakia",
                    "Slovenia",
                    "Solomon Islands",
                    "Somalia",
                    "South Africa",
                    "South Sudan",
                    "Spain",
                    "Sri Lanka",
                    "Sudan",
                    "Suriname",
                    "Sweden",
                    "Switzerland",
                    "Syria",
                    "Taiwan*",
                    "Tajikistan",
                    "Tanzania",
                    "Thailand",
                    "Timor-Leste",
                    "Togo",
                    "Trinidad and Tobago",
                    "Tunisia",
                    "Turkey",
                    "US",
                    "Uganda",
                    "Ukraine",
                    "United Arab Emirates",
                    "United Kingdom",
                    "Uruguay",
                    "Uzbekistan",
                    "Vanuatu",
                    "Venezuela",
                    "Vietnam",
                    "West Bank and Gaza",
                    "Yemen",
                    "Zambia",
                    "Zimbabwe"
                  ],
                  "locations": [
                    "Afghanistan",
                    "Albania",
                    "Algeria",
                    "Andorra",
                    "Angola",
                    "Antigua and Barbuda",
                    "Argentina",
                    "Armenia",
                    "Australia",
                    "Austria",
                    "Azerbaijan",
                    "Bahamas",
                    "Bahrain",
                    "Bangladesh",
                    "Barbados",
                    "Belarus",
                    "Belgium",
                    "Belize",
                    "Benin",
                    "Bhutan",
                    "Bolivia",
                    "Bosnia and Herzegovina",
                    "Botswana",
                    "Brazil",
                    "Brunei",
                    "Bulgaria",
                    "Burkina Faso",
                    "Burma",
                    "Burundi",
                    "Cabo Verde",
                    "Cambodia",
                    "Cameroon",
                    "Canada",
                    "Central African Republic",
                    "Chad",
                    "Chile",
                    "China",
                    "Colombia",
                    "Comoros",
                    "Congo (Brazzaville)",
                    "Congo (Kinshasa)",
                    "Costa Rica",
                    "Cote d'Ivoire",
                    "Croatia",
                    "Cuba",
                    "Cyprus",
                    "Czechia",
                    "Denmark",
                    "Diamond Princess",
                    "Djibouti",
                    "Dominica",
                    "Dominican Republic",
                    "Ecuador",
                    "Egypt",
                    "El Salvador",
                    "Equatorial Guinea",
                    "Eritrea",
                    "Estonia",
                    "Eswatini",
                    "Ethiopia",
                    "Fiji",
                    "Finland",
                    "France",
                    "Gabon",
                    "Gambia",
                    "Georgia",
                    "Germany",
                    "Ghana",
                    "Greece",
                    "Grenada",
                    "Guatemala",
                    "Guinea",
                    "Guinea-Bissau",
                    "Guyana",
                    "Haiti",
                    "Holy See",
                    "Honduras",
                    "Hungary",
                    "Iceland",
                    "India",
                    "Indonesia",
                    "Iran",
                    "Iraq",
                    "Ireland",
                    "Israel",
                    "Italy",
                    "Jamaica",
                    "Japan",
                    "Jordan",
                    "Kazakhstan",
                    "Kenya",
                    "Korea, South",
                    "Kosovo",
                    "Kuwait",
                    "Kyrgyzstan",
                    "Laos",
                    "Latvia",
                    "Lebanon",
                    "Lesotho",
                    "Liberia",
                    "Libya",
                    "Liechtenstein",
                    "Lithuania",
                    "Luxembourg",
                    "MS Zaandam",
                    "Madagascar",
                    "Malawi",
                    "Malaysia",
                    "Maldives",
                    "Mali",
                    "Malta",
                    "Marshall Islands",
                    "Mauritania",
                    "Mauritius",
                    "Mexico",
                    "Micronesia",
                    "Moldova",
                    "Monaco",
                    "Mongolia",
                    "Montenegro",
                    "Morocco",
                    "Mozambique",
                    "Namibia",
                    "Nepal",
                    "Netherlands",
                    "New Zealand",
                    "Nicaragua",
                    "Niger",
                    "Nigeria",
                    "North Macedonia",
                    "Norway",
                    "Oman",
                    "Pakistan",
                    "Panama",
                    "Papua New Guinea",
                    "Paraguay",
                    "Peru",
                    "Philippines",
                    "Poland",
                    "Portugal",
                    "Qatar",
                    "Romania",
                    "Russia",
                    "Rwanda",
                    "Saint Kitts and Nevis",
                    "Saint Lucia",
                    "Saint Vincent and the Grenadines",
                    "Samoa",
                    "San Marino",
                    "Sao Tome and Principe",
                    "Saudi Arabia",
                    "Senegal",
                    "Serbia",
                    "Seychelles",
                    "Sierra Leone",
                    "Singapore",
                    "Slovakia",
                    "Slovenia",
                    "Solomon Islands",
                    "Somalia",
                    "South Africa",
                    "South Sudan",
                    "Spain",
                    "Sri Lanka",
                    "Sudan",
                    "Suriname",
                    "Sweden",
                    "Switzerland",
                    "Syria",
                    "Taiwan*",
                    "Tajikistan",
                    "Tanzania",
                    "Thailand",
                    "Timor-Leste",
                    "Togo",
                    "Trinidad and Tobago",
                    "Tunisia",
                    "Turkey",
                    "US",
                    "Uganda",
                    "Ukraine",
                    "United Arab Emirates",
                    "United Kingdom",
                    "Uruguay",
                    "Uzbekistan",
                    "Vanuatu",
                    "Venezuela",
                    "Vietnam",
                    "West Bank and Gaza",
                    "Yemen",
                    "Zambia",
                    "Zimbabwe"
                  ],
                  "hoverlabel": {
                    "namelength": 0
                  },
                  "type": "choropleth",
                  "z": [
                    65728,
                    132209,
                    126860,
                    13569,
                    32441,
                    1257,
                    3539484,
                    221948,
                    30019,
                    641380,
                    332454,
                    11396,
                    218047,
                    789080,
                    3995,
                    386025,
                    1048881,
                    12764,
                    8025,
                    1394,
                    349653,
                    203150,
                    51620,
                    16083258,
                    235,
                    416646,
                    13415,
                    143234,
                    4494,
                    29334,
                    25205,
                    77733,
                    1366475,
                    7079,
                    4924,
                    1329918,
                    102873,
                    3232456,
                    3872,
                    11476,
                    30863,
                    299219,
                    46942,
                    353986,
                    133053,
                    71911,
                    1657893,
                    274204,
                    712,
                    11493,
                    184,
                    283729,
                    418851,
                    253835,
                    72220,
                    8436,
                    3932,
                    128592,
                    18551,
                    269194,
                    230,
                    91526,
                    5980325,
                    24107,
                    5968,
                    337573,
                    3657662,
                    93620,
                    389804,
                    161,
                    247454,
                    22988,
                    3751,
                    16130,
                    13735,
                    27,
                    232672,
                    802088,
                    6555,
                    26752447,
                    1775220,
                    2832518,
                    1167940,
                    254870,
                    839319,
                    4192183,
                    47959,
                    719925,
                    726432,
                    429720,
                    168432,
                    136467,
                    106770,
                    299215,
                    102511,
                    1801,
                    130945,
                    538518,
                    10822,
                    2142,
                    183311,
                    3000,
                    270849,
                    69545,
                    9,
                    40876,
                    34284,
                    512091,
                    55924,
                    14241,
                    30504,
                    4,
                    19149,
                    1293,
                    2396604,
                    1,
                    254676,
                    2501,
                    53100,
                    99248,
                    517023,
                    70590,
                    52946,
                    513241,
                    1653395,
                    2668,
                    7193,
                    5383,
                    166019,
                    155063,
                    122414,
                    210364,
                    903599,
                    374121,
                    14910,
                    332971,
                    1925289,
                    1179812,
                    2865622,
                    845224,
                    215443,
                    1075543,
                    4944129,
                    26688,
                    50,
                    4945,
                    1973,
                    3,
                    5087,
                    2338,
                    440914,
                    41090,
                    709939,
                    9764,
                    4121,
                    61824,
                    388835,
                    251690,
                    20,
                    14632,
                    1635465,
                    10652,
                    3636453,
                    164201,
                    34889,
                    13111,
                    1058341,
                    687353,
                    24117,
                    4322,
                    13308,
                    509,
                    129500,
                    5637,
                    13374,
                    20017,
                    335345,
                    5186487,
                    33117737,
                    43734,
                    2239897,
                    556107,
                    4478390,
                    265098,
                    98451,
                    4,
                    223345,
                    5275,
                    305201,
                    6658,
                    93201,
                    38682
                  ],
                  "locationmode": "country names",
                  "coloraxis": "coloraxis"
                }
              ],
              "config": {
                "plotlyServerURL": "https://plot.ly"
              },
              "layout": {
                "title": {
                  "text": "Last Update Data Visual covid 19 Global"
                },
                "geo": {
                  "domain": {
                    "y": [
                      0,
                      1
                    ],
                    "x": [
                      0,
                      1
                    ]
                  },
                  "center": {}
                },
                "template": {
                  "layout": {
                    "shapedefaults": {
                      "line": {
                        "color": "#2a3f5f"
                      }
                    },
                    "polar": {
                      "radialaxis": {
                        "ticks": "",
                        "gridcolor": "#EBF0F8",
                        "linecolor": "#EBF0F8"
                      },
                      "bgcolor": "white",
                      "angularaxis": {
                        "ticks": "",
                        "gridcolor": "#EBF0F8",
                        "linecolor": "#EBF0F8"
                      }
                    },
                    "colorway": [
                      "#636efa",
                      "#EF553B",
                      "#00cc96",
                      "#ab63fa",
                      "#FFA15A",
                      "#19d3f3",
                      "#FF6692",
                      "#B6E880",
                      "#FF97FF",
                      "#FECB52"
                    ],
                    "xaxis": {
                      "automargin": true,
                      "title": {
                        "standoff": 15
                      },
                      "zerolinewidth": 2,
                      "ticks": "",
                      "zerolinecolor": "#EBF0F8",
                      "gridcolor": "#EBF0F8",
                      "linecolor": "#EBF0F8"
                    },
                    "colorscale": {
                      "diverging": [
                        [
                          0,
                          "#8e0152"
                        ],
                        [
                          0.1,
                          "#c51b7d"
                        ],
                        [
                          0.2,
                          "#de77ae"
                        ],
                        [
                          0.3,
                          "#f1b6da"
                        ],
                        [
                          0.4,
                          "#fde0ef"
                        ],
                        [
                          0.5,
                          "#f7f7f7"
                        ],
                        [
                          0.6,
                          "#e6f5d0"
                        ],
                        [
                          0.7,
                          "#b8e186"
                        ],
                        [
                          0.8,
                          "#7fbc41"
                        ],
                        [
                          0.9,
                          "#4d9221"
                        ],
                        [
                          1,
                          "#276419"
                        ]
                      ],
                      "sequential": [
                        [
                          0,
                          "#0d0887"
                        ],
                        [
                          0.1111111111111111,
                          "#46039f"
                        ],
                        [
                          0.2222222222222222,
                          "#7201a8"
                        ],
                        [
                          0.3333333333333333,
                          "#9c179e"
                        ],
                        [
                          0.4444444444444444,
                          "#bd3786"
                        ],
                        [
                          0.5555555555555556,
                          "#d8576b"
                        ],
                        [
                          0.6666666666666666,
                          "#ed7953"
                        ],
                        [
                          0.7777777777777778,
                          "#fb9f3a"
                        ],
                        [
                          0.8888888888888888,
                          "#fdca26"
                        ],
                        [
                          1,
                          "#f0f921"
                        ]
                      ],
                      "sequentialminus": [
                        [
                          0,
                          "#0d0887"
                        ],
                        [
                          0.1111111111111111,
                          "#46039f"
                        ],
                        [
                          0.2222222222222222,
                          "#7201a8"
                        ],
                        [
                          0.3333333333333333,
                          "#9c179e"
                        ],
                        [
                          0.4444444444444444,
                          "#bd3786"
                        ],
                        [
                          0.5555555555555556,
                          "#d8576b"
                        ],
                        [
                          0.6666666666666666,
                          "#ed7953"
                        ],
                        [
                          0.7777777777777778,
                          "#fb9f3a"
                        ],
                        [
                          0.8888888888888888,
                          "#fdca26"
                        ],
                        [
                          1,
                          "#f0f921"
                        ]
                      ]
                    },
                    "paper_bgcolor": "white",
                    "plot_bgcolor": "white",
                    "title": {
                      "x": 0.05
                    },
                    "scene": {
                      "zaxis": {
                        "backgroundcolor": "white",
                        "ticks": "",
                        "gridwidth": 2,
                        "showbackground": true,
                        "zerolinecolor": "#EBF0F8",
                        "gridcolor": "#DFE8F3",
                        "linecolor": "#EBF0F8"
                      },
                      "xaxis": {
                        "backgroundcolor": "white",
                        "ticks": "",
                        "gridwidth": 2,
                        "showbackground": true,
                        "zerolinecolor": "#EBF0F8",
                        "gridcolor": "#DFE8F3",
                        "linecolor": "#EBF0F8"
                      },
                      "yaxis": {
                        "backgroundcolor": "white",
                        "ticks": "",
                        "gridwidth": 2,
                        "showbackground": true,
                        "zerolinecolor": "#EBF0F8",
                        "gridcolor": "#DFE8F3",
                        "linecolor": "#EBF0F8"
                      }
                    },
                    "yaxis": {
                      "automargin": true,
                      "title": {
                        "standoff": 15
                      },
                      "zerolinewidth": 2,
                      "ticks": "",
                      "zerolinecolor": "#EBF0F8",
                      "gridcolor": "#EBF0F8",
                      "linecolor": "#EBF0F8"
                    },
                    "annotationdefaults": {
                      "arrowwidth": 1,
                      "arrowhead": 0,
                      "arrowcolor": "#2a3f5f"
                    },
                    "hoverlabel": {
                      "align": "left"
                    },
                    "ternary": {
                      "bgcolor": "white",
                      "baxis": {
                        "ticks": "",
                        "gridcolor": "#DFE8F3",
                        "linecolor": "#A2B1C6"
                      },
                      "caxis": {
                        "ticks": "",
                        "gridcolor": "#DFE8F3",
                        "linecolor": "#A2B1C6"
                      },
                      "aaxis": {
                        "ticks": "",
                        "gridcolor": "#DFE8F3",
                        "linecolor": "#A2B1C6"
                      }
                    },
                    "mapbox": {
                      "style": "light"
                    },
                    "hovermode": "closest",
                    "font": {
                      "color": "#2a3f5f"
                    },
                    "geo": {
                      "showland": true,
                      "landcolor": "white",
                      "showlakes": true,
                      "bgcolor": "white",
                      "subunitcolor": "#C8D4E3",
                      "lakecolor": "white"
                    },
                    "coloraxis": {
                      "colorbar": {
                        "outlinewidth": 0,
                        "ticks": ""
                      }
                    }
                  },
                  "data": {
                    "mesh3d": [
                      {
                        "colorbar": {
                          "outlinewidth": 0,
                          "ticks": ""
                        },
                        "type": "mesh3d"
                      }
                    ],
                    "scattercarpet": [
                      {
                        "marker": {
                          "colorbar": {
                            "outlinewidth": 0,
                            "ticks": ""
                          }
                        },
                        "type": "scattercarpet"
                      }
                    ],
                    "pie": [
                      {
                        "automargin": true,
                        "type": "pie"
                      }
                    ],
                    "surface": [
                      {
                        "colorbar": {
                          "outlinewidth": 0,
                          "ticks": ""
                        },
                        "type": "surface",
                        "colorscale": [
                          [
                            0,
                            "#0d0887"
                          ],
                          [
                            0.1111111111111111,
                            "#46039f"
                          ],
                          [
                            0.2222222222222222,
                            "#7201a8"
                          ],
                          [
                            0.3333333333333333,
                            "#9c179e"
                          ],
                          [
                            0.4444444444444444,
                            "#bd3786"
                          ],
                          [
                            0.5555555555555556,
                            "#d8576b"
                          ],
                          [
                            0.6666666666666666,
                            "#ed7953"
                          ],
                          [
                            0.7777777777777778,
                            "#fb9f3a"
                          ],
                          [
                            0.8888888888888888,
                            "#fdca26"
                          ],
                          [
                            1,
                            "#f0f921"
                          ]
                        ]
                      }
                    ],
                    "table": [
                      {
                        "header": {
                          "line": {
                            "color": "white"
                          },
                          "fill": {
                            "color": "#C8D4E3"
                          }
                        },
                        "cells": {
                          "line": {
                            "color": "white"
                          },
                          "fill": {
                            "color": "#EBF0F8"
                          }
                        },
                        "type": "table"
                      }
                    ],
                    "scatterpolargl": [
                      {
                        "marker": {
                          "colorbar": {
                            "outlinewidth": 0,
                            "ticks": ""
                          }
                        },
                        "type": "scatterpolargl"
                      }
                    ],
                    "contour": [
                      {
                        "colorbar": {
                          "outlinewidth": 0,
                          "ticks": ""
                        },
                        "type": "contour",
                        "colorscale": [
                          [
                            0,
                            "#0d0887"
                          ],
                          [
                            0.1111111111111111,
                            "#46039f"
                          ],
                          [
                            0.2222222222222222,
                            "#7201a8"
                          ],
                          [
                            0.3333333333333333,
                            "#9c179e"
                          ],
                          [
                            0.4444444444444444,
                            "#bd3786"
                          ],
                          [
                            0.5555555555555556,
                            "#d8576b"
                          ],
                          [
                            0.6666666666666666,
                            "#ed7953"
                          ],
                          [
                            0.7777777777777778,
                            "#fb9f3a"
                          ],
                          [
                            0.8888888888888888,
                            "#fdca26"
                          ],
                          [
                            1,
                            "#f0f921"
                          ]
                        ]
                      }
                    ],
                    "carpet": [
                      {
                        "type": "carpet",
                        "baxis": {
                          "minorgridcolor": "#C8D4E3",
                          "gridcolor": "#C8D4E3",
                          "linecolor": "#C8D4E3",
                          "endlinecolor": "#2a3f5f",
                          "startlinecolor": "#2a3f5f"
                        },
                        "aaxis": {
                          "minorgridcolor": "#C8D4E3",
                          "gridcolor": "#C8D4E3",
                          "linecolor": "#C8D4E3",
                          "endlinecolor": "#2a3f5f",
                          "startlinecolor": "#2a3f5f"
                        }
                      }
                    ],
                    "contourcarpet": [
                      {
                        "colorbar": {
                          "outlinewidth": 0,
                          "ticks": ""
                        },
                        "type": "contourcarpet"
                      }
                    ],
                    "heatmap": [
                      {
                        "colorbar": {
                          "outlinewidth": 0,
                          "ticks": ""
                        },
                        "type": "heatmap",
                        "colorscale": [
                          [
                            0,
                            "#0d0887"
                          ],
                          [
                            0.1111111111111111,
                            "#46039f"
                          ],
                          [
                            0.2222222222222222,
                            "#7201a8"
                          ],
                          [
                            0.3333333333333333,
                            "#9c179e"
                          ],
                          [
                            0.4444444444444444,
                            "#bd3786"
                          ],
                          [
                            0.5555555555555556,
                            "#d8576b"
                          ],
                          [
                            0.6666666666666666,
                            "#ed7953"
                          ],
                          [
                            0.7777777777777778,
                            "#fb9f3a"
                          ],
                          [
                            0.8888888888888888,
                            "#fdca26"
                          ],
                          [
                            1,
                            "#f0f921"
                          ]
                        ]
                      }
                    ],
                    "scattermapbox": [
                      {
                        "marker": {
                          "colorbar": {
                            "outlinewidth": 0,
                            "ticks": ""
                          }
                        },
                        "type": "scattermapbox"
                      }
                    ],
                    "scatter3d": [
                      {
                        "marker": {
                          "colorbar": {
                            "outlinewidth": 0,
                            "ticks": ""
                          }
                        },
                        "line": {
                          "colorbar": {
                            "outlinewidth": 0,
                            "ticks": ""
                          }
                        },
                        "type": "scatter3d"
                      }
                    ],
                    "scattergl": [
                      {
                        "marker": {
                          "colorbar": {
                            "outlinewidth": 0,
                            "ticks": ""
                          }
                        },
                        "type": "scattergl"
                      }
                    ],
                    "scatterternary": [
                      {
                        "marker": {
                          "colorbar": {
                            "outlinewidth": 0,
                            "ticks": ""
                          }
                        },
                        "type": "scatterternary"
                      }
                    ],
                    "histogram": [
                      {
                        "marker": {
                          "colorbar": {
                            "outlinewidth": 0,
                            "ticks": ""
                          }
                        },
                        "type": "histogram"
                      }
                    ],
                    "heatmapgl": [
                      {
                        "colorbar": {
                          "outlinewidth": 0,
                          "ticks": ""
                        },
                        "type": "heatmapgl",
                        "colorscale": [
                          [
                            0,
                            "#0d0887"
                          ],
                          [
                            0.1111111111111111,
                            "#46039f"
                          ],
                          [
                            0.2222222222222222,
                            "#7201a8"
                          ],
                          [
                            0.3333333333333333,
                            "#9c179e"
                          ],
                          [
                            0.4444444444444444,
                            "#bd3786"
                          ],
                          [
                            0.5555555555555556,
                            "#d8576b"
                          ],
                          [
                            0.6666666666666666,
                            "#ed7953"
                          ],
                          [
                            0.7777777777777778,
                            "#fb9f3a"
                          ],
                          [
                            0.8888888888888888,
                            "#fdca26"
                          ],
                          [
                            1,
                            "#f0f921"
                          ]
                        ]
                      }
                    ],
                    "scatterpolar": [
                      {
                        "marker": {
                          "colorbar": {
                            "outlinewidth": 0,
                            "ticks": ""
                          }
                        },
                        "type": "scatterpolar"
                      }
                    ],
                    "histogram2d": [
                      {
                        "colorbar": {
                          "outlinewidth": 0,
                          "ticks": ""
                        },
                        "type": "histogram2d",
                        "colorscale": [
                          [
                            0,
                            "#0d0887"
                          ],
                          [
                            0.1111111111111111,
                            "#46039f"
                          ],
                          [
                            0.2222222222222222,
                            "#7201a8"
                          ],
                          [
                            0.3333333333333333,
                            "#9c179e"
                          ],
                          [
                            0.4444444444444444,
                            "#bd3786"
                          ],
                          [
                            0.5555555555555556,
                            "#d8576b"
                          ],
                          [
                            0.6666666666666666,
                            "#ed7953"
                          ],
                          [
                            0.7777777777777778,
                            "#fb9f3a"
                          ],
                          [
                            0.8888888888888888,
                            "#fdca26"
                          ],
                          [
                            1,
                            "#f0f921"
                          ]
                        ]
                      }
                    ],
                    "scattergeo": [
                      {
                        "marker": {
                          "colorbar": {
                            "outlinewidth": 0,
                            "ticks": ""
                          }
                        },
                        "type": "scattergeo"
                      }
                    ],
                    "bar": [
                      {
                        "marker": {
                          "line": {
                            "color": "white",
                            "width": 0.5
                          }
                        },
                        "type": "bar",
                        "error_x": {
                          "color": "#2a3f5f"
                        },
                        "error_y": {
                          "color": "#2a3f5f"
                        }
                      }
                    ],
                    "choropleth": [
                      {
                        "colorbar": {
                          "outlinewidth": 0,
                          "ticks": ""
                        },
                        "type": "choropleth"
                      }
                    ],
                    "parcoords": [
                      {
                        "line": {
                          "colorbar": {
                            "outlinewidth": 0,
                            "ticks": ""
                          }
                        },
                        "type": "parcoords"
                      }
                    ],
                    "barpolar": [
                      {
                        "marker": {
                          "line": {
                            "color": "white",
                            "width": 0.5
                          }
                        },
                        "type": "barpolar"
                      }
                    ],
                    "histogram2dcontour": [
                      {
                        "colorbar": {
                          "outlinewidth": 0,
                          "ticks": ""
                        },
                        "type": "histogram2dcontour",
                        "colorscale": [
                          [
                            0,
                            "#0d0887"
                          ],
                          [
                            0.1111111111111111,
                            "#46039f"
                          ],
                          [
                            0.2222222222222222,
                            "#7201a8"
                          ],
                          [
                            0.3333333333333333,
                            "#9c179e"
                          ],
                          [
                            0.4444444444444444,
                            "#bd3786"
                          ],
                          [
                            0.5555555555555556,
                            "#d8576b"
                          ],
                          [
                            0.6666666666666666,
                            "#ed7953"
                          ],
                          [
                            0.7777777777777778,
                            "#fb9f3a"
                          ],
                          [
                            0.8888888888888888,
                            "#fdca26"
                          ],
                          [
                            1,
                            "#f0f921"
                          ]
                        ]
                      }
                    ],
                    "scatter": [
                      {
                        "marker": {
                          "colorbar": {
                            "outlinewidth": 0,
                            "ticks": ""
                          }
                        },
                        "type": "scatter"
                      }
                    ]
                  }
                },
                "margin": {
                  "t": 60
                },
                "legend": {
                  "tracegroupgap": 0
                },
                "coloraxis": {
                  "colorbar": {
                    "title": {
                      "text": "Number of confirmed cases"
                    }
                  },
                  "colorscale": [
                    [
                      0,
                      "#0d0887"
                    ],
                    [
                      0.1111111111111111,
                      "#46039f"
                    ],
                    [
                      0.2222222222222222,
                      "#7201a8"
                    ],
                    [
                      0.3333333333333333,
                      "#9c179e"
                    ],
                    [
                      0.4444444444444444,
                      "#bd3786"
                    ],
                    [
                      0.5555555555555556,
                      "#d8576b"
                    ],
                    [
                      0.6666666666666666,
                      "#ed7953"
                    ],
                    [
                      0.7777777777777778,
                      "#fb9f3a"
                    ],
                    [
                      0.8888888888888888,
                      "#fdca26"
                    ],
                    [
                      1,
                      "#f0f921"
                    ]
                  ]
                }
              }
            }
          },
          "metadata": {
            "tags": []
          }
        }
      ]
    }
  ]
}