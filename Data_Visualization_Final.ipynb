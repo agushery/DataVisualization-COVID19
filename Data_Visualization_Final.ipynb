{
  "nbformat": 4,
  "nbformat_minor": 0,
  "metadata": {
    "colab": {
      "name": "Data_Visualization_Final.ipynb",
      "provenance": [],
      "collapsed_sections": [
        "uzJIZnsY6YTf",
        "FzVWpCGA7QeD",
        "i3KOX8gh8fni",
        "U0YsoFzF5221",
        "_hx-5vN-LHou",
        "-UTJVcZd3dS-",
        "9sL0DCSBOsgy",
        "vo5ZtBSn1W19",
        "Q-aD4gsx1W2A"
      ],
      "include_colab_link": true
    },
    "kernelspec": {
      "display_name": "Python 3",
      "language": "python",
      "name": "python3"
    },
    "language_info": {
      "codemirror_mode": {
        "name": "ipython",
        "version": 3
      },
      "file_extension": ".py",
      "mimetype": "text/x-python",
      "name": "python",
      "nbconvert_exporter": "python",
      "pygments_lexer": "ipython3",
      "version": "3.8.5"
    }
  },
  "cells": [
    {
      "cell_type": "markdown",
      "metadata": {
        "id": "view-in-github",
        "colab_type": "text"
      },
      "source": [
        "<a href=\"https://colab.research.google.com/github/agushery/DataVisualization-COVID19/blob/master/Data_Visualization_Final.ipynb\" target=\"_parent\"><img src=\"https://colab.research.google.com/assets/colab-badge.svg\" alt=\"Open In Colab\"/></a>"
      ]
    },
    {
      "cell_type": "markdown",
      "metadata": {
        "id": "j0tkEn_y05Jw"
      },
      "source": [
        "![logo-stikom.png](data:image/png;base64,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)\n",
        "\n",
        "# **Data Visualization Covid-19**\n",
        "* **Nama : Agus Hery Setiawan**\n",
        "* **Data Source-COVID-19 : https://github.com/CSSEGISandData**\n",
        "* **Data Source Population : https://www.worldpopulationreview.com**"
      ]
    },
    {
      "cell_type": "markdown",
      "metadata": {
        "id": "i3gEC7RtGBEX"
      },
      "source": [
        "## **Prepare library and Load Dataset**"
      ]
    },
    {
      "source": [
        "### **Import Library**"
      ],
      "cell_type": "markdown",
      "metadata": {}
    },
    {
      "cell_type": "code",
      "metadata": {
        "colab": {
          "base_uri": "https://localhost:8080/",
          "height": 35
        },
        "id": "2rpEC2v3ZFZ_",
        "outputId": "c9e1938a-8a4c-4c34-8354-312a13300ae1"
      },
      "source": [
        "# for load dataset\n",
        "import pandas as pd\n",
        "\n",
        "# for processing quartil\n",
        "import numpy as np\n",
        "\n",
        "# for prepocessing data (StandardScaler)\n",
        "from sklearn import preprocessing\n",
        "\n",
        "# for K-Means\n",
        "from sklearn.cluster import KMeans\n",
        "\n",
        "# for visual\n",
        "import matplotlib.pyplot as plt\n",
        "from matplotlib import style\n",
        "plt.rcParams['figure.figsize'] = 20,8\n",
        "style.use('ggplot')\n",
        "%matplotlib inline\n",
        "\n",
        "import plotly\n",
        "import plotly.express as px\n",
        "import plotly.graph_objects as go\n",
        "import plotly.offline as pyo\n",
        "from plotly.offline import download_plotlyjs,init_notebook_mode, plot, iplot\n",
        "plt.rcParams['figure.figsize'] = 20,8\n",
        "import cufflinks as cf\n",
        "cf.go_offline()\n",
        "\n",
        "import seaborn as sns\n",
        "sns.set_style('whitegrid')\n",
        "\n",
        "print('Setup Complete')\n"
      ],
      "execution_count": 1,
      "outputs": [
        {
          "output_type": "display_data",
          "data": {
            "text/html": "        <script type=\"text/javascript\">\n        window.PlotlyConfig = {MathJaxConfig: 'local'};\n        if (window.MathJax) {MathJax.Hub.Config({SVG: {font: \"STIX-Web\"}});}\n        if (typeof require !== 'undefined') {\n        require.undef(\"plotly\");\n        requirejs.config({\n            paths: {\n                'plotly': ['https://cdn.plot.ly/plotly-latest.min']\n            }\n        });\n        require(['plotly'], function(Plotly) {\n            window._Plotly = Plotly;\n        });\n        }\n        </script>\n        "
          },
          "metadata": {}
        },
        {
          "output_type": "stream",
          "name": "stdout",
          "text": [
            "Setup Complete\n"
          ]
        }
      ]
    },
    {
      "cell_type": "markdown",
      "metadata": {
        "id": "uzJIZnsY6YTf"
      },
      "source": [
        "### **Load Dataset Covid from source**"
      ]
    },
    {
      "cell_type": "code",
      "metadata": {
        "colab": {
          "base_uri": "https://localhost:8080/"
        },
        "id": "d6VJ8BKU6BYW",
        "outputId": "05731fa6-fb12-420c-b0e4-474145a9d485"
      },
      "source": [
        "# save url to variabel\n",
        "url_confirm = 'https://raw.githubusercontent.com/CSSEGISandData/COVID-19/master/csse_covid_19_data/csse_covid_19_time_series/time_series_covid19_confirmed_global.csv'\n",
        "url_death = 'https://raw.githubusercontent.com/CSSEGISandData/COVID-19/master/csse_covid_19_data/csse_covid_19_time_series/time_series_covid19_deaths_global.csv'\n",
        "url_recovery = 'https://raw.githubusercontent.com/CSSEGISandData/COVID-19/master/csse_covid_19_data/csse_covid_19_time_series/time_series_covid19_recovered_global.csv'\n",
        "\n",
        "# load dataset with pandas\n",
        "confirm_data = pd.read_csv(url_confirm)\n",
        "death_data = pd.read_csv(url_death)\n",
        "recovery_data = pd.read_csv(url_recovery)\n",
        "\n",
        "print('Load Dataset Complete')"
      ],
      "execution_count": 2,
      "outputs": [
        {
          "output_type": "stream",
          "name": "stdout",
          "text": [
            "Load Dataset Complete\n"
          ]
        }
      ]
    },
    {
      "source": [
        "### **Load Dataset Population**"
      ],
      "cell_type": "markdown",
      "metadata": {}
    },
    {
      "cell_type": "code",
      "execution_count": 3,
      "metadata": {},
      "outputs": [
        {
          "output_type": "stream",
          "name": "stdout",
          "text": [
            "Load Dataset Complete\n"
          ]
        }
      ],
      "source": [
        "population_data = pd.read_csv('Data/population.csv')\n",
        "print('Load Dataset Complete')"
      ]
    },
    {
      "cell_type": "markdown",
      "metadata": {
        "id": "FzVWpCGA7QeD"
      },
      "source": [
        "### **Check Shape and Info of Dataset**"
      ]
    },
    {
      "cell_type": "markdown",
      "metadata": {
        "id": "XWz9LFbT7xOP"
      },
      "source": [
        "SHAPE"
      ]
    },
    {
      "cell_type": "code",
      "metadata": {
        "colab": {
          "base_uri": "https://localhost:8080/"
        },
        "id": "MJYCwHDn7Nx9",
        "outputId": "4aa64c9d-8fbe-4350-902f-0c10a7acfc8a"
      },
      "source": [
        "print('confirm_data : ', confirm_data.shape)\n",
        "print('death_data : ', death_data.shape)\n",
        "print('recovery_data : ', recovery_data.shape)\n",
        "print('Population_data : ', population_data.shape)"
      ],
      "execution_count": 4,
      "outputs": [
        {
          "output_type": "stream",
          "name": "stdout",
          "text": [
            "confirm_data :  (276, 498)\ndeath_data :  (276, 498)\nrecovery_data :  (261, 498)\nPopulation_data :  (232, 18)\n"
          ]
        }
      ]
    },
    {
      "cell_type": "markdown",
      "metadata": {
        "id": "XOowCtap7616"
      },
      "source": [
        "INFO"
      ]
    },
    {
      "cell_type": "code",
      "metadata": {
        "colab": {
          "base_uri": "https://localhost:8080/"
        },
        "id": "ey6awq4W7zav",
        "outputId": "f05d4e09-e611-4b48-f604-5f8328f1e01a"
      },
      "source": [
        "print('confirm_data : ', confirm_data.info())\n",
        "print('death_data : ', death_data.info())\n",
        "print('recovery_data : ', recovery_data.info())\n",
        "print('population_data : ', population_data.info())"
      ],
      "execution_count": 5,
      "outputs": [
        {
          "output_type": "stream",
          "name": "stdout",
          "text": [
            "<class 'pandas.core.frame.DataFrame'>\nRangeIndex: 276 entries, 0 to 275\nColumns: 498 entries, Province/State to 5/29/21\ndtypes: float64(2), int64(494), object(2)\nmemory usage: 1.0+ MB\nconfirm_data :  None\n<class 'pandas.core.frame.DataFrame'>\nRangeIndex: 276 entries, 0 to 275\nColumns: 498 entries, Province/State to 5/29/21\ndtypes: float64(2), int64(494), object(2)\nmemory usage: 1.0+ MB\ndeath_data :  None\n<class 'pandas.core.frame.DataFrame'>\nRangeIndex: 261 entries, 0 to 260\nColumns: 498 entries, Province/State to 5/29/21\ndtypes: float64(2), int64(494), object(2)\nmemory usage: 1015.6+ KB\nrecovery_data :  None\n<class 'pandas.core.frame.DataFrame'>\nRangeIndex: 232 entries, 0 to 231\nData columns (total 18 columns):\n #   Column           Non-Null Count  Dtype  \n---  ------           --------------  -----  \n 0   cca2             231 non-null    object \n 1   name             232 non-null    object \n 2   pop2021          232 non-null    int64  \n 3   pop2020          232 non-null    int64  \n 4   pop2050          232 non-null    int64  \n 5   pop2030          232 non-null    int64  \n 6   pop2019          232 non-null    int64  \n 7   pop2015          232 non-null    int64  \n 8   pop2010          232 non-null    int64  \n 9   pop2000          232 non-null    int64  \n 10  pop1990          232 non-null    int64  \n 11  pop1980          232 non-null    int64  \n 12  pop1970          232 non-null    int64  \n 13  area             232 non-null    int64  \n 14  Density          232 non-null    float64\n 15  GrowthRate       232 non-null    float64\n 16  WorldPercentage  232 non-null    float64\n 17  rank             232 non-null    int64  \ndtypes: float64(3), int64(13), object(2)\nmemory usage: 32.8+ KB\npopulation_data :  None\n"
          ]
        }
      ]
    },
    {
      "source": [
        "## **Preprocessing Data**"
      ],
      "cell_type": "markdown",
      "metadata": {}
    },
    {
      "cell_type": "markdown",
      "metadata": {
        "id": "i3KOX8gh8fni"
      },
      "source": [
        "### **Melt Data**"
      ]
    },
    {
      "cell_type": "code",
      "metadata": {
        "id": "i1QQgYUi8JTC"
      },
      "source": [
        "# Confirmed\n",
        "confirm_data = confirm_data.melt(\n",
        "    id_vars=['Province/State', 'Country/Region', 'Lat', 'Long'],\n",
        "    var_name='Time',\n",
        "    value_name='Confirmed'\n",
        ")\n",
        "\n",
        "# Death\n",
        "death_data = death_data.melt(\n",
        "    id_vars=['Province/State', 'Country/Region', 'Lat', 'Long'],\n",
        "    var_name='Time',\n",
        "    value_name='Deaths'\n",
        ")\n",
        "\n",
        "# Recovery\n",
        "recovery_data = recovery_data.melt(\n",
        "    id_vars=['Province/State', 'Country/Region', 'Lat', 'Long'],\n",
        "    var_name='Time',\n",
        "    value_name='Recovered'\n",
        ")"
      ],
      "execution_count": 6,
      "outputs": []
    },
    {
      "cell_type": "markdown",
      "metadata": {
        "id": "U0YsoFzF5221"
      },
      "source": [
        "### **Merge Dataset COVID-19**"
      ]
    },
    {
      "cell_type": "markdown",
      "metadata": {
        "id": "WGFkPIBg7Rre"
      },
      "source": [
        "**Grouped Data  with same Country/Region and Time**"
      ]
    },
    {
      "cell_type": "code",
      "metadata": {
        "id": "1ZDos1A_5T1y"
      },
      "source": [
        "# Confirmed Data\n",
        "confirm_data = confirm_data.groupby(['Country/Region', 'Time'])['Confirmed'].sum()\n",
        "confirm_data = confirm_data.to_frame().reset_index()\n",
        "\n",
        "# Deaths Data\n",
        "death_data = death_data.groupby(['Country/Region', 'Time'])['Deaths'].sum()\n",
        "death_data = death_data.to_frame().reset_index()\n",
        "\n",
        "# Recovery Data\n",
        "recovery_data = recovery_data.groupby(['Country/Region', 'Time'])['Recovered'].sum()\n",
        "recovery_data = recovery_data.to_frame().reset_index()"
      ],
      "execution_count": 7,
      "outputs": []
    },
    {
      "source": [
        "**Rename Columns and Pick Columns Coutry/Region, Population of Population dataset**"
      ],
      "cell_type": "markdown",
      "metadata": {}
    },
    {
      "cell_type": "code",
      "execution_count": 8,
      "metadata": {},
      "outputs": [],
      "source": [
        "population_data.rename(columns={'name' : 'Country/Region', 'pop2020' : 'Population'}, inplace = True)\n",
        "population_data = population_data[['Country/Region','Population']]"
      ]
    },
    {
      "cell_type": "markdown",
      "metadata": {
        "id": "wVZBs3oA7hDR"
      },
      "source": [
        "**MERGE DATASET COVID-19**"
      ]
    },
    {
      "cell_type": "code",
      "metadata": {
        "colab": {
          "base_uri": "https://localhost:8080/",
          "height": 0
        },
        "id": "F2Nu3lAQLHot",
        "outputId": "d52e8609-4e2b-4b87-d440-d9fef7ddd0c3"
      },
      "source": [
        "data = confirm_data.merge(death_data, how='inner')\n",
        "data = data.merge(recovery_data, how='inner')"
      ],
      "execution_count": 9,
      "outputs": []
    },
    {
      "source": [
        "**Add Active Column**"
      ],
      "cell_type": "markdown",
      "metadata": {}
    },
    {
      "source": [
        "data['Active'] = data['Confirmed'] - data['Deaths'] - data['Recovered']\n",
        "data.head()"
      ],
      "cell_type": "code",
      "metadata": {
        "id": "280a5qAYLHov"
      },
      "execution_count": 10,
      "outputs": [
        {
          "output_type": "execute_result",
          "data": {
            "text/plain": [
              "  Country/Region     Time  Confirmed  Deaths  Recovered  Active\n",
              "0    Afghanistan   1/1/21      51526    2191      41727    7608\n",
              "1    Afghanistan  1/10/21      53489    2277      43948    7264\n",
              "2    Afghanistan  1/11/21      53538    2288      44137    7113\n",
              "3    Afghanistan  1/12/21      53584    2301      44608    6675\n",
              "4    Afghanistan  1/13/21      53584    2301      44850    6433"
            ],
            "text/html": "<div>\n<style scoped>\n    .dataframe tbody tr th:only-of-type {\n        vertical-align: middle;\n    }\n\n    .dataframe tbody tr th {\n        vertical-align: top;\n    }\n\n    .dataframe thead th {\n        text-align: right;\n    }\n</style>\n<table border=\"1\" class=\"dataframe\">\n  <thead>\n    <tr style=\"text-align: right;\">\n      <th></th>\n      <th>Country/Region</th>\n      <th>Time</th>\n      <th>Confirmed</th>\n      <th>Deaths</th>\n      <th>Recovered</th>\n      <th>Active</th>\n    </tr>\n  </thead>\n  <tbody>\n    <tr>\n      <th>0</th>\n      <td>Afghanistan</td>\n      <td>1/1/21</td>\n      <td>51526</td>\n      <td>2191</td>\n      <td>41727</td>\n      <td>7608</td>\n    </tr>\n    <tr>\n      <th>1</th>\n      <td>Afghanistan</td>\n      <td>1/10/21</td>\n      <td>53489</td>\n      <td>2277</td>\n      <td>43948</td>\n      <td>7264</td>\n    </tr>\n    <tr>\n      <th>2</th>\n      <td>Afghanistan</td>\n      <td>1/11/21</td>\n      <td>53538</td>\n      <td>2288</td>\n      <td>44137</td>\n      <td>7113</td>\n    </tr>\n    <tr>\n      <th>3</th>\n      <td>Afghanistan</td>\n      <td>1/12/21</td>\n      <td>53584</td>\n      <td>2301</td>\n      <td>44608</td>\n      <td>6675</td>\n    </tr>\n    <tr>\n      <th>4</th>\n      <td>Afghanistan</td>\n      <td>1/13/21</td>\n      <td>53584</td>\n      <td>2301</td>\n      <td>44850</td>\n      <td>6433</td>\n    </tr>\n  </tbody>\n</table>\n</div>"
          },
          "metadata": {},
          "execution_count": 10
        }
      ]
    },
    {
      "cell_type": "markdown",
      "metadata": {
        "id": "_hx-5vN-LHou"
      },
      "source": [
        "**Grouped Time Column**"
      ]
    },
    {
      "cell_type": "code",
      "metadata": {
        "id": "Mh7PYpKdLHov"
      },
      "source": [
        "# sort data with groupped time\n",
        "data['Time'] = pd.to_datetime(data['Time'])\n",
        "dataGroup = data.groupby('Time')[[\"Confirmed\",\"Deaths\",\"Recovered\",\"Active\"]].sum()"
      ],
      "execution_count": 11,
      "outputs": []
    },
    {
      "cell_type": "markdown",
      "metadata": {
        "id": "-UTJVcZd3dS-"
      },
      "source": [
        "**Initiation last day of data**"
      ]
    },
    {
      "cell_type": "code",
      "metadata": {
        "id": "vhziokEq3Z3v"
      },
      "source": [
        "\n",
        "recent_date = data['Time'].max()\n",
        "last_day = data[data['Time'] == recent_date]"
      ],
      "execution_count": 12,
      "outputs": []
    },
    {
      "source": [
        "**MERGE DATA Last Day With Population**"
      ],
      "cell_type": "markdown",
      "metadata": {}
    },
    {
      "cell_type": "code",
      "execution_count": 13,
      "metadata": {},
      "outputs": [
        {
          "output_type": "execute_result",
          "data": {
            "text/plain": [
              "  Country/Region       Time  Confirmed  Deaths  Recovered  Active  Population\n",
              "0    Afghanistan 2021-05-29      70111    2899      57281    9931    38928346\n",
              "1        Albania 2021-05-29     132297    2449     129215     633     2877797\n",
              "2        Algeria 2021-05-29     128456    3460      89419   35577    43851044\n",
              "3        Andorra 2021-05-29      13693     127      13416     150       77265\n",
              "4         Angola 2021-05-29      34180     757      27646    5777    32866272"
            ],
            "text/html": "<div>\n<style scoped>\n    .dataframe tbody tr th:only-of-type {\n        vertical-align: middle;\n    }\n\n    .dataframe tbody tr th {\n        vertical-align: top;\n    }\n\n    .dataframe thead th {\n        text-align: right;\n    }\n</style>\n<table border=\"1\" class=\"dataframe\">\n  <thead>\n    <tr style=\"text-align: right;\">\n      <th></th>\n      <th>Country/Region</th>\n      <th>Time</th>\n      <th>Confirmed</th>\n      <th>Deaths</th>\n      <th>Recovered</th>\n      <th>Active</th>\n      <th>Population</th>\n    </tr>\n  </thead>\n  <tbody>\n    <tr>\n      <th>0</th>\n      <td>Afghanistan</td>\n      <td>2021-05-29</td>\n      <td>70111</td>\n      <td>2899</td>\n      <td>57281</td>\n      <td>9931</td>\n      <td>38928346</td>\n    </tr>\n    <tr>\n      <th>1</th>\n      <td>Albania</td>\n      <td>2021-05-29</td>\n      <td>132297</td>\n      <td>2449</td>\n      <td>129215</td>\n      <td>633</td>\n      <td>2877797</td>\n    </tr>\n    <tr>\n      <th>2</th>\n      <td>Algeria</td>\n      <td>2021-05-29</td>\n      <td>128456</td>\n      <td>3460</td>\n      <td>89419</td>\n      <td>35577</td>\n      <td>43851044</td>\n    </tr>\n    <tr>\n      <th>3</th>\n      <td>Andorra</td>\n      <td>2021-05-29</td>\n      <td>13693</td>\n      <td>127</td>\n      <td>13416</td>\n      <td>150</td>\n      <td>77265</td>\n    </tr>\n    <tr>\n      <th>4</th>\n      <td>Angola</td>\n      <td>2021-05-29</td>\n      <td>34180</td>\n      <td>757</td>\n      <td>27646</td>\n      <td>5777</td>\n      <td>32866272</td>\n    </tr>\n  </tbody>\n</table>\n</div>"
          },
          "metadata": {},
          "execution_count": 13
        }
      ],
      "source": [
        "final_data = pd.merge(last_day, population_data)\n",
        "final_data.head()"
      ]
    },
    {
      "source": [
        "**Comparison of the number of deaths and active cases to the population of each country**"
      ],
      "cell_type": "markdown",
      "metadata": {}
    },
    {
      "cell_type": "code",
      "execution_count": 14,
      "metadata": {},
      "outputs": [
        {
          "output_type": "execute_result",
          "data": {
            "text/plain": [
              "  Country/Region       Time  Confirmed  Deaths  Recovered  Active  Population  \\\n",
              "0    Afghanistan 2021-05-29      70111    2899      57281    9931    38928346   \n",
              "1        Albania 2021-05-29     132297    2449     129215     633     2877797   \n",
              "2        Algeria 2021-05-29     128456    3460      89419   35577    43851044   \n",
              "3        Andorra 2021-05-29      13693     127      13416     150       77265   \n",
              "4         Angola 2021-05-29      34180     757      27646    5777    32866272   \n",
              "\n",
              "   %Confirmed   %Deaths   %Active  \n",
              "0    0.001801  0.000074  0.000255  \n",
              "1    0.045972  0.000851  0.000220  \n",
              "2    0.002929  0.000079  0.000811  \n",
              "3    0.177221  0.001644  0.001941  \n",
              "4    0.001040  0.000023  0.000176  "
            ],
            "text/html": "<div>\n<style scoped>\n    .dataframe tbody tr th:only-of-type {\n        vertical-align: middle;\n    }\n\n    .dataframe tbody tr th {\n        vertical-align: top;\n    }\n\n    .dataframe thead th {\n        text-align: right;\n    }\n</style>\n<table border=\"1\" class=\"dataframe\">\n  <thead>\n    <tr style=\"text-align: right;\">\n      <th></th>\n      <th>Country/Region</th>\n      <th>Time</th>\n      <th>Confirmed</th>\n      <th>Deaths</th>\n      <th>Recovered</th>\n      <th>Active</th>\n      <th>Population</th>\n      <th>%Confirmed</th>\n      <th>%Deaths</th>\n      <th>%Active</th>\n    </tr>\n  </thead>\n  <tbody>\n    <tr>\n      <th>0</th>\n      <td>Afghanistan</td>\n      <td>2021-05-29</td>\n      <td>70111</td>\n      <td>2899</td>\n      <td>57281</td>\n      <td>9931</td>\n      <td>38928346</td>\n      <td>0.001801</td>\n      <td>0.000074</td>\n      <td>0.000255</td>\n    </tr>\n    <tr>\n      <th>1</th>\n      <td>Albania</td>\n      <td>2021-05-29</td>\n      <td>132297</td>\n      <td>2449</td>\n      <td>129215</td>\n      <td>633</td>\n      <td>2877797</td>\n      <td>0.045972</td>\n      <td>0.000851</td>\n      <td>0.000220</td>\n    </tr>\n    <tr>\n      <th>2</th>\n      <td>Algeria</td>\n      <td>2021-05-29</td>\n      <td>128456</td>\n      <td>3460</td>\n      <td>89419</td>\n      <td>35577</td>\n      <td>43851044</td>\n      <td>0.002929</td>\n      <td>0.000079</td>\n      <td>0.000811</td>\n    </tr>\n    <tr>\n      <th>3</th>\n      <td>Andorra</td>\n      <td>2021-05-29</td>\n      <td>13693</td>\n      <td>127</td>\n      <td>13416</td>\n      <td>150</td>\n      <td>77265</td>\n      <td>0.177221</td>\n      <td>0.001644</td>\n      <td>0.001941</td>\n    </tr>\n    <tr>\n      <th>4</th>\n      <td>Angola</td>\n      <td>2021-05-29</td>\n      <td>34180</td>\n      <td>757</td>\n      <td>27646</td>\n      <td>5777</td>\n      <td>32866272</td>\n      <td>0.001040</td>\n      <td>0.000023</td>\n      <td>0.000176</td>\n    </tr>\n  </tbody>\n</table>\n</div>"
          },
          "metadata": {},
          "execution_count": 14
        }
      ],
      "source": [
        "final_data['%Confirmed'] = final_data['Confirmed'].div(final_data['Population'])\n",
        "final_data['%Deaths'] = final_data['Deaths'].div(final_data['Population'])\n",
        "final_data['%Active'] = final_data['Active'].div(final_data['Population'])\n",
        "final_data.head()"
      ]
    },
    {
      "source": [
        "**Create Quartil**"
      ],
      "cell_type": "markdown",
      "metadata": {}
    },
    {
      "cell_type": "code",
      "execution_count": 15,
      "metadata": {},
      "outputs": [],
      "source": [
        "q1_confirmed = np.percentile(final_data['%Confirmed'],25)\n",
        "q2_confirmed = np.percentile(final_data['%Confirmed'],50)\n",
        "q1_deaths = np.percentile(final_data['%Deaths'],25)\n",
        "q2_deaths = np.percentile(final_data['%Deaths'],50)\n",
        "q1_active = np.percentile(final_data['%Active'],25)\n",
        "q2_active = np.percentile(final_data['%Active'],50)"
      ]
    },
    {
      "source": [
        "### **Category Country by Quartil**"
      ],
      "cell_type": "markdown",
      "metadata": {}
    },
    {
      "cell_type": "code",
      "execution_count": 16,
      "metadata": {},
      "outputs": [],
      "source": [
        "cukupRawan = final_data[(final_data['%Deaths'] <= q1_deaths) | (final_data['%Active'] <= q1_active)]\n",
        "rawan = final_data[(((final_data['%Deaths'] > q1_deaths) & (final_data['%Deaths'] <= q2_deaths)) | ((final_data['Active'] > q1_active) & (final_data['%Active'] <= q2_active)))]\n",
        "sangatRawan = final_data[(final_data['%Deaths'] > q2_deaths) | (final_data['%Active'] > q2_active)]"
      ]
    },
    {
      "cell_type": "markdown",
      "metadata": {
        "id": "atJe5Gt73sxl"
      },
      "source": [
        "## **VISUALIZATION DATA**"
      ]
    },
    {
      "cell_type": "markdown",
      "metadata": {
        "id": "ERT9qxcUZFaW"
      },
      "source": [
        "### **Trend Confirmed, Deaths, Recovered, and Active Case**"
      ]
    },
    {
      "cell_type": "code",
      "metadata": {
        "colab": {
          "base_uri": "https://localhost:8080/",
          "height": 542
        },
        "id": "t2qz-VLvZFaW",
        "outputId": "00c16d66-314d-42e4-b6b6-271393be50c4"
      },
      "source": [
        "dataGroup.iplot(title = \"Trend Kasus COVID-19 Secara Global\", xTitle = \"Time\", yTitle = \"Amount\")"
      ],
      "execution_count": 17,
      "outputs": [
        {
          "output_type": "display_data",
          "data": {
            "application/vnd.plotly.v1+json": {
              "config": {
                "linkText": "Export to plot.ly",
                "plotlyServerURL": "https://plot.ly",
                "showLink": true
              },
              "data": [
                {
                  "line": {
                    "color": "rgba(255, 153, 51, 1.0)",
                    "dash": "solid",
                    "shape": "linear",
                    "width": 1.3
                  },
                  "mode": "lines",
                  "name": "Confirmed",
                  "text": "",
                  "type": "scatter",
                  "x": [
                    "2020-01-22",
                    "2020-01-23",
                    "2020-01-24",
                    "2020-01-25",
                    "2020-01-26",
                    "2020-01-27",
                    "2020-01-28",
                    "2020-01-29",
                    "2020-01-30",
                    "2020-01-31",
                    "2020-02-01",
                    "2020-02-02",
                    "2020-02-03",
                    "2020-02-04",
                    "2020-02-05",
                    "2020-02-06",
                    "2020-02-07",
                    "2020-02-08",
                    "2020-02-09",
                    "2020-02-10",
                    "2020-02-11",
                    "2020-02-12",
                    "2020-02-13",
                    "2020-02-14",
                    "2020-02-15",
                    "2020-02-16",
                    "2020-02-17",
                    "2020-02-18",
                    "2020-02-19",
                    "2020-02-20",
                    "2020-02-21",
                    "2020-02-22",
                    "2020-02-23",
                    "2020-02-24",
                    "2020-02-25",
                    "2020-02-26",
                    "2020-02-27",
                    "2020-02-28",
                    "2020-02-29",
                    "2020-03-01",
                    "2020-03-02",
                    "2020-03-03",
                    "2020-03-04",
                    "2020-03-05",
                    "2020-03-06",
                    "2020-03-07",
                    "2020-03-08",
                    "2020-03-09",
                    "2020-03-10",
                    "2020-03-11",
                    "2020-03-12",
                    "2020-03-13",
                    "2020-03-14",
                    "2020-03-15",
                    "2020-03-16",
                    "2020-03-17",
                    "2020-03-18",
                    "2020-03-19",
                    "2020-03-20",
                    "2020-03-21",
                    "2020-03-22",
                    "2020-03-23",
                    "2020-03-24",
                    "2020-03-25",
                    "2020-03-26",
                    "2020-03-27",
                    "2020-03-28",
                    "2020-03-29",
                    "2020-03-30",
                    "2020-03-31",
                    "2020-04-01",
                    "2020-04-02",
                    "2020-04-03",
                    "2020-04-04",
                    "2020-04-05",
                    "2020-04-06",
                    "2020-04-07",
                    "2020-04-08",
                    "2020-04-09",
                    "2020-04-10",
                    "2020-04-11",
                    "2020-04-12",
                    "2020-04-13",
                    "2020-04-14",
                    "2020-04-15",
                    "2020-04-16",
                    "2020-04-17",
                    "2020-04-18",
                    "2020-04-19",
                    "2020-04-20",
                    "2020-04-21",
                    "2020-04-22",
                    "2020-04-23",
                    "2020-04-24",
                    "2020-04-25",
                    "2020-04-26",
                    "2020-04-27",
                    "2020-04-28",
                    "2020-04-29",
                    "2020-04-30",
                    "2020-05-01",
                    "2020-05-02",
                    "2020-05-03",
                    "2020-05-04",
                    "2020-05-05",
                    "2020-05-06",
                    "2020-05-07",
                    "2020-05-08",
                    "2020-05-09",
                    "2020-05-10",
                    "2020-05-11",
                    "2020-05-12",
                    "2020-05-13",
                    "2020-05-14",
                    "2020-05-15",
                    "2020-05-16",
                    "2020-05-17",
                    "2020-05-18",
                    "2020-05-19",
                    "2020-05-20",
                    "2020-05-21",
                    "2020-05-22",
                    "2020-05-23",
                    "2020-05-24",
                    "2020-05-25",
                    "2020-05-26",
                    "2020-05-27",
                    "2020-05-28",
                    "2020-05-29",
                    "2020-05-30",
                    "2020-05-31",
                    "2020-06-01",
                    "2020-06-02",
                    "2020-06-03",
                    "2020-06-04",
                    "2020-06-05",
                    "2020-06-06",
                    "2020-06-07",
                    "2020-06-08",
                    "2020-06-09",
                    "2020-06-10",
                    "2020-06-11",
                    "2020-06-12",
                    "2020-06-13",
                    "2020-06-14",
                    "2020-06-15",
                    "2020-06-16",
                    "2020-06-17",
                    "2020-06-18",
                    "2020-06-19",
                    "2020-06-20",
                    "2020-06-21",
                    "2020-06-22",
                    "2020-06-23",
                    "2020-06-24",
                    "2020-06-25",
                    "2020-06-26",
                    "2020-06-27",
                    "2020-06-28",
                    "2020-06-29",
                    "2020-06-30",
                    "2020-07-01",
                    "2020-07-02",
                    "2020-07-03",
                    "2020-07-04",
                    "2020-07-05",
                    "2020-07-06",
                    "2020-07-07",
                    "2020-07-08",
                    "2020-07-09",
                    "2020-07-10",
                    "2020-07-11",
                    "2020-07-12",
                    "2020-07-13",
                    "2020-07-14",
                    "2020-07-15",
                    "2020-07-16",
                    "2020-07-17",
                    "2020-07-18",
                    "2020-07-19",
                    "2020-07-20",
                    "2020-07-21",
                    "2020-07-22",
                    "2020-07-23",
                    "2020-07-24",
                    "2020-07-25",
                    "2020-07-26",
                    "2020-07-27",
                    "2020-07-28",
                    "2020-07-29",
                    "2020-07-30",
                    "2020-07-31",
                    "2020-08-01",
                    "2020-08-02",
                    "2020-08-03",
                    "2020-08-04",
                    "2020-08-05",
                    "2020-08-06",
                    "2020-08-07",
                    "2020-08-08",
                    "2020-08-09",
                    "2020-08-10",
                    "2020-08-11",
                    "2020-08-12",
                    "2020-08-13",
                    "2020-08-14",
                    "2020-08-15",
                    "2020-08-16",
                    "2020-08-17",
                    "2020-08-18",
                    "2020-08-19",
                    "2020-08-20",
                    "2020-08-21",
                    "2020-08-22",
                    "2020-08-23",
                    "2020-08-24",
                    "2020-08-25",
                    "2020-08-26",
                    "2020-08-27",
                    "2020-08-28",
                    "2020-08-29",
                    "2020-08-30",
                    "2020-08-31",
                    "2020-09-01",
                    "2020-09-02",
                    "2020-09-03",
                    "2020-09-04",
                    "2020-09-05",
                    "2020-09-06",
                    "2020-09-07",
                    "2020-09-08",
                    "2020-09-09",
                    "2020-09-10",
                    "2020-09-11",
                    "2020-09-12",
                    "2020-09-13",
                    "2020-09-14",
                    "2020-09-15",
                    "2020-09-16",
                    "2020-09-17",
                    "2020-09-18",
                    "2020-09-19",
                    "2020-09-20",
                    "2020-09-21",
                    "2020-09-22",
                    "2020-09-23",
                    "2020-09-24",
                    "2020-09-25",
                    "2020-09-26",
                    "2020-09-27",
                    "2020-09-28",
                    "2020-09-29",
                    "2020-09-30",
                    "2020-10-01",
                    "2020-10-02",
                    "2020-10-03",
                    "2020-10-04",
                    "2020-10-05",
                    "2020-10-06",
                    "2020-10-07",
                    "2020-10-08",
                    "2020-10-09",
                    "2020-10-10",
                    "2020-10-11",
                    "2020-10-12",
                    "2020-10-13",
                    "2020-10-14",
                    "2020-10-15",
                    "2020-10-16",
                    "2020-10-17",
                    "2020-10-18",
                    "2020-10-19",
                    "2020-10-20",
                    "2020-10-21",
                    "2020-10-22",
                    "2020-10-23",
                    "2020-10-24",
                    "2020-10-25",
                    "2020-10-26",
                    "2020-10-27",
                    "2020-10-28",
                    "2020-10-29",
                    "2020-10-30",
                    "2020-10-31",
                    "2020-11-01",
                    "2020-11-02",
                    "2020-11-03",
                    "2020-11-04",
                    "2020-11-05",
                    "2020-11-06",
                    "2020-11-07",
                    "2020-11-08",
                    "2020-11-09",
                    "2020-11-10",
                    "2020-11-11",
                    "2020-11-12",
                    "2020-11-13",
                    "2020-11-14",
                    "2020-11-15",
                    "2020-11-16",
                    "2020-11-17",
                    "2020-11-18",
                    "2020-11-19",
                    "2020-11-20",
                    "2020-11-21",
                    "2020-11-22",
                    "2020-11-23",
                    "2020-11-24",
                    "2020-11-25",
                    "2020-11-26",
                    "2020-11-27",
                    "2020-11-28",
                    "2020-11-29",
                    "2020-11-30",
                    "2020-12-01",
                    "2020-12-02",
                    "2020-12-03",
                    "2020-12-04",
                    "2020-12-05",
                    "2020-12-06",
                    "2020-12-07",
                    "2020-12-08",
                    "2020-12-09",
                    "2020-12-10",
                    "2020-12-11",
                    "2020-12-12",
                    "2020-12-13",
                    "2020-12-14",
                    "2020-12-15",
                    "2020-12-16",
                    "2020-12-17",
                    "2020-12-18",
                    "2020-12-19",
                    "2020-12-20",
                    "2020-12-21",
                    "2020-12-22",
                    "2020-12-23",
                    "2020-12-24",
                    "2020-12-25",
                    "2020-12-26",
                    "2020-12-27",
                    "2020-12-28",
                    "2020-12-29",
                    "2020-12-30",
                    "2020-12-31",
                    "2021-01-01",
                    "2021-01-02",
                    "2021-01-03",
                    "2021-01-04",
                    "2021-01-05",
                    "2021-01-06",
                    "2021-01-07",
                    "2021-01-08",
                    "2021-01-09",
                    "2021-01-10",
                    "2021-01-11",
                    "2021-01-12",
                    "2021-01-13",
                    "2021-01-14",
                    "2021-01-15",
                    "2021-01-16",
                    "2021-01-17",
                    "2021-01-18",
                    "2021-01-19",
                    "2021-01-20",
                    "2021-01-21",
                    "2021-01-22",
                    "2021-01-23",
                    "2021-01-24",
                    "2021-01-25",
                    "2021-01-26",
                    "2021-01-27",
                    "2021-01-28",
                    "2021-01-29",
                    "2021-01-30",
                    "2021-01-31",
                    "2021-02-01",
                    "2021-02-02",
                    "2021-02-03",
                    "2021-02-04",
                    "2021-02-05",
                    "2021-02-06",
                    "2021-02-07",
                    "2021-02-08",
                    "2021-02-09",
                    "2021-02-10",
                    "2021-02-11",
                    "2021-02-12",
                    "2021-02-13",
                    "2021-02-14",
                    "2021-02-15",
                    "2021-02-16",
                    "2021-02-17",
                    "2021-02-18",
                    "2021-02-19",
                    "2021-02-20",
                    "2021-02-21",
                    "2021-02-22",
                    "2021-02-23",
                    "2021-02-24",
                    "2021-02-25",
                    "2021-02-26",
                    "2021-02-27",
                    "2021-02-28",
                    "2021-03-01",
                    "2021-03-02",
                    "2021-03-03",
                    "2021-03-04",
                    "2021-03-05",
                    "2021-03-06",
                    "2021-03-07",
                    "2021-03-08",
                    "2021-03-09",
                    "2021-03-10",
                    "2021-03-11",
                    "2021-03-12",
                    "2021-03-13",
                    "2021-03-14",
                    "2021-03-15",
                    "2021-03-16",
                    "2021-03-17",
                    "2021-03-18",
                    "2021-03-19",
                    "2021-03-20",
                    "2021-03-21",
                    "2021-03-22",
                    "2021-03-23",
                    "2021-03-24",
                    "2021-03-25",
                    "2021-03-26",
                    "2021-03-27",
                    "2021-03-28",
                    "2021-03-29",
                    "2021-03-30",
                    "2021-03-31",
                    "2021-04-01",
                    "2021-04-02",
                    "2021-04-03",
                    "2021-04-04",
                    "2021-04-05",
                    "2021-04-06",
                    "2021-04-07",
                    "2021-04-08",
                    "2021-04-09",
                    "2021-04-10",
                    "2021-04-11",
                    "2021-04-12",
                    "2021-04-13",
                    "2021-04-14",
                    "2021-04-15",
                    "2021-04-16",
                    "2021-04-17",
                    "2021-04-18",
                    "2021-04-19",
                    "2021-04-20",
                    "2021-04-21",
                    "2021-04-22",
                    "2021-04-23",
                    "2021-04-24",
                    "2021-04-25",
                    "2021-04-26",
                    "2021-04-27",
                    "2021-04-28",
                    "2021-04-29",
                    "2021-04-30",
                    "2021-05-01",
                    "2021-05-02",
                    "2021-05-03",
                    "2021-05-04",
                    "2021-05-05",
                    "2021-05-06",
                    "2021-05-07",
                    "2021-05-08",
                    "2021-05-09",
                    "2021-05-10",
                    "2021-05-11",
                    "2021-05-12",
                    "2021-05-13",
                    "2021-05-14",
                    "2021-05-15",
                    "2021-05-16",
                    "2021-05-17",
                    "2021-05-18",
                    "2021-05-19",
                    "2021-05-20",
                    "2021-05-21",
                    "2021-05-22",
                    "2021-05-23",
                    "2021-05-24",
                    "2021-05-25",
                    "2021-05-26",
                    "2021-05-27",
                    "2021-05-28",
                    "2021-05-29"
                  ],
                  "y": [
                    557,
                    655,
                    941,
                    1433,
                    2118,
                    2927,
                    5578,
                    6167,
                    8235,
                    9927,
                    12038,
                    16787,
                    19887,
                    23898,
                    27643,
                    30803,
                    34396,
                    37130,
                    40160,
                    42769,
                    44811,
                    45229,
                    60382,
                    66909,
                    69052,
                    71235,
                    73270,
                    75152,
                    75652,
                    76212,
                    76841,
                    78602,
                    78982,
                    79546,
                    80399,
                    81376,
                    82736,
                    84122,
                    86013,
                    88394,
                    90377,
                    92971,
                    95279,
                    98090,
                    102003,
                    106098,
                    110047,
                    114219,
                    119041,
                    126702,
                    132492,
                    146876,
                    157950,
                    169219,
                    184027,
                    199970,
                    219535,
                    246584,
                    277359,
                    309350,
                    344205,
                    387040,
                    428219,
                    479220,
                    542097,
                    607138,
                    674418,
                    733655,
                    798949,
                    875794,
                    958602,
                    1041662,
                    1125221,
                    1183584,
                    1256176,
                    1329331,
                    1399162,
                    1482540,
                    1569554,
                    1655088,
                    1729371,
                    1849067,
                    1919809,
                    2003820,
                    2080934,
                    2176465,
                    2264462,
                    2341702,
                    2418307,
                    2494325,
                    2570074,
                    2651321,
                    2735570,
                    2819666,
                    2901925,
                    2973513,
                    3043705,
                    3119245,
                    3196355,
                    3279850,
                    3368226,
                    3447426,
                    3523799,
                    3601488,
                    3681990,
                    3772018,
                    3860724,
                    3951003,
                    4036226,
                    4111202,
                    4187833,
                    4272324,
                    4357304,
                    4453535,
                    4549267,
                    4643706,
                    4721728,
                    4810895,
                    4907670,
                    5009548,
                    5116192,
                    5222614,
                    5327418,
                    5421629,
                    5508346,
                    5602313,
                    5705075,
                    5824358,
                    5945261,
                    6081776,
                    6188184,
                    6284179,
                    6406143,
                    6520392,
                    6651336,
                    6782559,
                    6916296,
                    7028659,
                    7131156,
                    7256216,
                    7391321,
                    7529341,
                    7658106,
                    7793395,
                    7925679,
                    8045337,
                    8187421,
                    8331167,
                    8472230,
                    8652145,
                    8809593,
                    8937295,
                    9076656,
                    9243465,
                    9416059,
                    9594440,
                    9786037,
                    9964169,
                    10128040,
                    10283387,
                    10457929,
                    10675536,
                    10885481,
                    11086866,
                    11280675,
                    11464678,
                    11628653,
                    11840015,
                    12054174,
                    12281001,
                    12513675,
                    12730157,
                    12922431,
                    13113875,
                    13336063,
                    13567531,
                    13818843,
                    14061585,
                    14297763,
                    14511197,
                    14718313,
                    14951994,
                    15231862,
                    15514716,
                    15795790,
                    16049844,
                    16262880,
                    16489410,
                    16742195,
                    17033923,
                    17314023,
                    17604767,
                    17853105,
                    18084097,
                    18290572,
                    18548514,
                    18825089,
                    19110291,
                    19392530,
                    19651048,
                    19875731,
                    20101760,
                    20359330,
                    20635977,
                    20925193,
                    21228941,
                    21476649,
                    21691119,
                    21898851,
                    22157107,
                    22436697,
                    22709251,
                    22970456,
                    23234707,
                    23440856,
                    23666124,
                    23910125,
                    24193918,
                    24477813,
                    24761440,
                    25025233,
                    25246198,
                    25509089,
                    25774014,
                    26057518,
                    26338937,
                    26652953,
                    26922944,
                    27153409,
                    27371291,
                    27613490,
                    27898312,
                    28198188,
                    28519558,
                    28806136,
                    29048855,
                    29312607,
                    29598069,
                    29902604,
                    30217490,
                    30543411,
                    30835530,
                    31087644,
                    31363730,
                    31648244,
                    31924336,
                    32277373,
                    32608243,
                    32896685,
                    33148076,
                    33402856,
                    33685524,
                    34011734,
                    34330037,
                    34627903,
                    34959947,
                    35221344,
                    35522367,
                    35848886,
                    36199883,
                    36561210,
                    36922107,
                    37279208,
                    37566120,
                    37857886,
                    38177145,
                    38559479,
                    38966463,
                    39378234,
                    39750891,
                    40067454,
                    40454664,
                    40843666,
                    41288556,
                    41761275,
                    42258073,
                    42714857,
                    43075510,
                    43561921,
                    44032154,
                    44544026,
                    45094441,
                    45665496,
                    46142261,
                    46604645,
                    47167772,
                    47721517,
                    48233069,
                    48829627,
                    49474481,
                    50071373,
                    50555347,
                    51056879,
                    51616256,
                    52264862,
                    52914405,
                    53566478,
                    54161448,
                    54635389,
                    55169846,
                    55781066,
                    56408169,
                    57061754,
                    57730498,
                    58318062,
                    58806043,
                    59331362,
                    59921623,
                    60557847,
                    61140322,
                    61827470,
                    62413501,
                    62902084,
                    63410725,
                    64022822,
                    64674220,
                    65368548,
                    66051824,
                    66693987,
                    67232741,
                    67752760,
                    68396288,
                    69066199,
                    70564412,
                    71268909,
                    71903759,
                    72434597,
                    72959984,
                    73596190,
                    74329916,
                    75069498,
                    75789960,
                    76401213,
                    76934686,
                    77483983,
                    78134244,
                    78829366,
                    79496006,
                    79961556,
                    80474158,
                    80912611,
                    81408934,
                    82073362,
                    82834592,
                    83559601,
                    84092619,
                    84718978,
                    85251774,
                    85805892,
                    86546014,
                    87329386,
                    88210223,
                    89013445,
                    89774439,
                    90363573,
                    90983503,
                    91689011,
                    92437399,
                    93192627,
                    93959814,
                    94598958,
                    95128170,
                    95643236,
                    96251662,
                    96944599,
                    97600922,
                    98259983,
                    98828107,
                    99273761,
                    99771101,
                    100327339,
                    100925700,
                    101539951,
                    102130394,
                    102645724,
                    103027363,
                    103474137,
                    103932094,
                    104454075,
                    104920982,
                    105456410,
                    105828535,
                    106226613,
                    106542506,
                    106970539,
                    107406280,
                    107847745,
                    108276434,
                    108649735,
                    108943585,
                    109226751,
                    109577771,
                    109973326,
                    110376842,
                    110789361,
                    111159816,
                    111474262,
                    111762700,
                    112151553,
                    112596489,
                    113043967,
                    113487006,
                    113876236,
                    114179745,
                    114485609,
                    114795897,
                    115237039,
                    115690088,
                    116137142,
                    116547675,
                    116915987,
                    117214710,
                    117629375,
                    118096454,
                    118573350,
                    119062678,
                    119516794,
                    119877179,
                    120226080,
                    120699093,
                    121238378,
                    121792101,
                    122353780,
                    122852600,
                    123275915,
                    123692736,
                    124206981,
                    124840562,
                    125491912,
                    126133263,
                    126717855,
                    127187813,
                    127646218,
                    128214491,
                    128897696,
                    129609483,
                    130243222,
                    130772665,
                    131325468,
                    131815052,
                    132419139,
                    133103485,
                    133943335,
                    134691380,
                    135355887,
                    136046628,
                    136663253,
                    137442820,
                    138259845,
                    139076606,
                    139931461,
                    140719503,
                    141404998,
                    142098420,
                    142952845,
                    143842820,
                    144742575,
                    145646322,
                    146467262,
                    147189618,
                    147872402,
                    148716872,
                    149622864,
                    150520466,
                    151399480,
                    152196159,
                    152870507,
                    153552097,
                    154359533,
                    155200757,
                    156070729,
                    156902287,
                    157688833,
                    158330372,
                    158952301,
                    159690774,
                    160450873,
                    161176148,
                    161894208,
                    162521726,
                    163069932,
                    163609626,
                    164231811,
                    164902903,
                    165182316,
                    165808192,
                    166385987,
                    166862062,
                    167316362,
                    167848207,
                    168416423,
                    168970791,
                    169470725,
                    169951560
                  ]
                },
                {
                  "line": {
                    "color": "rgba(55, 128, 191, 1.0)",
                    "dash": "solid",
                    "shape": "linear",
                    "width": 1.3
                  },
                  "mode": "lines",
                  "name": "Deaths",
                  "text": "",
                  "type": "scatter",
                  "x": [
                    "2020-01-22",
                    "2020-01-23",
                    "2020-01-24",
                    "2020-01-25",
                    "2020-01-26",
                    "2020-01-27",
                    "2020-01-28",
                    "2020-01-29",
                    "2020-01-30",
                    "2020-01-31",
                    "2020-02-01",
                    "2020-02-02",
                    "2020-02-03",
                    "2020-02-04",
                    "2020-02-05",
                    "2020-02-06",
                    "2020-02-07",
                    "2020-02-08",
                    "2020-02-09",
                    "2020-02-10",
                    "2020-02-11",
                    "2020-02-12",
                    "2020-02-13",
                    "2020-02-14",
                    "2020-02-15",
                    "2020-02-16",
                    "2020-02-17",
                    "2020-02-18",
                    "2020-02-19",
                    "2020-02-20",
                    "2020-02-21",
                    "2020-02-22",
                    "2020-02-23",
                    "2020-02-24",
                    "2020-02-25",
                    "2020-02-26",
                    "2020-02-27",
                    "2020-02-28",
                    "2020-02-29",
                    "2020-03-01",
                    "2020-03-02",
                    "2020-03-03",
                    "2020-03-04",
                    "2020-03-05",
                    "2020-03-06",
                    "2020-03-07",
                    "2020-03-08",
                    "2020-03-09",
                    "2020-03-10",
                    "2020-03-11",
                    "2020-03-12",
                    "2020-03-13",
                    "2020-03-14",
                    "2020-03-15",
                    "2020-03-16",
                    "2020-03-17",
                    "2020-03-18",
                    "2020-03-19",
                    "2020-03-20",
                    "2020-03-21",
                    "2020-03-22",
                    "2020-03-23",
                    "2020-03-24",
                    "2020-03-25",
                    "2020-03-26",
                    "2020-03-27",
                    "2020-03-28",
                    "2020-03-29",
                    "2020-03-30",
                    "2020-03-31",
                    "2020-04-01",
                    "2020-04-02",
                    "2020-04-03",
                    "2020-04-04",
                    "2020-04-05",
                    "2020-04-06",
                    "2020-04-07",
                    "2020-04-08",
                    "2020-04-09",
                    "2020-04-10",
                    "2020-04-11",
                    "2020-04-12",
                    "2020-04-13",
                    "2020-04-14",
                    "2020-04-15",
                    "2020-04-16",
                    "2020-04-17",
                    "2020-04-18",
                    "2020-04-19",
                    "2020-04-20",
                    "2020-04-21",
                    "2020-04-22",
                    "2020-04-23",
                    "2020-04-24",
                    "2020-04-25",
                    "2020-04-26",
                    "2020-04-27",
                    "2020-04-28",
                    "2020-04-29",
                    "2020-04-30",
                    "2020-05-01",
                    "2020-05-02",
                    "2020-05-03",
                    "2020-05-04",
                    "2020-05-05",
                    "2020-05-06",
                    "2020-05-07",
                    "2020-05-08",
                    "2020-05-09",
                    "2020-05-10",
                    "2020-05-11",
                    "2020-05-12",
                    "2020-05-13",
                    "2020-05-14",
                    "2020-05-15",
                    "2020-05-16",
                    "2020-05-17",
                    "2020-05-18",
                    "2020-05-19",
                    "2020-05-20",
                    "2020-05-21",
                    "2020-05-22",
                    "2020-05-23",
                    "2020-05-24",
                    "2020-05-25",
                    "2020-05-26",
                    "2020-05-27",
                    "2020-05-28",
                    "2020-05-29",
                    "2020-05-30",
                    "2020-05-31",
                    "2020-06-01",
                    "2020-06-02",
                    "2020-06-03",
                    "2020-06-04",
                    "2020-06-05",
                    "2020-06-06",
                    "2020-06-07",
                    "2020-06-08",
                    "2020-06-09",
                    "2020-06-10",
                    "2020-06-11",
                    "2020-06-12",
                    "2020-06-13",
                    "2020-06-14",
                    "2020-06-15",
                    "2020-06-16",
                    "2020-06-17",
                    "2020-06-18",
                    "2020-06-19",
                    "2020-06-20",
                    "2020-06-21",
                    "2020-06-22",
                    "2020-06-23",
                    "2020-06-24",
                    "2020-06-25",
                    "2020-06-26",
                    "2020-06-27",
                    "2020-06-28",
                    "2020-06-29",
                    "2020-06-30",
                    "2020-07-01",
                    "2020-07-02",
                    "2020-07-03",
                    "2020-07-04",
                    "2020-07-05",
                    "2020-07-06",
                    "2020-07-07",
                    "2020-07-08",
                    "2020-07-09",
                    "2020-07-10",
                    "2020-07-11",
                    "2020-07-12",
                    "2020-07-13",
                    "2020-07-14",
                    "2020-07-15",
                    "2020-07-16",
                    "2020-07-17",
                    "2020-07-18",
                    "2020-07-19",
                    "2020-07-20",
                    "2020-07-21",
                    "2020-07-22",
                    "2020-07-23",
                    "2020-07-24",
                    "2020-07-25",
                    "2020-07-26",
                    "2020-07-27",
                    "2020-07-28",
                    "2020-07-29",
                    "2020-07-30",
                    "2020-07-31",
                    "2020-08-01",
                    "2020-08-02",
                    "2020-08-03",
                    "2020-08-04",
                    "2020-08-05",
                    "2020-08-06",
                    "2020-08-07",
                    "2020-08-08",
                    "2020-08-09",
                    "2020-08-10",
                    "2020-08-11",
                    "2020-08-12",
                    "2020-08-13",
                    "2020-08-14",
                    "2020-08-15",
                    "2020-08-16",
                    "2020-08-17",
                    "2020-08-18",
                    "2020-08-19",
                    "2020-08-20",
                    "2020-08-21",
                    "2020-08-22",
                    "2020-08-23",
                    "2020-08-24",
                    "2020-08-25",
                    "2020-08-26",
                    "2020-08-27",
                    "2020-08-28",
                    "2020-08-29",
                    "2020-08-30",
                    "2020-08-31",
                    "2020-09-01",
                    "2020-09-02",
                    "2020-09-03",
                    "2020-09-04",
                    "2020-09-05",
                    "2020-09-06",
                    "2020-09-07",
                    "2020-09-08",
                    "2020-09-09",
                    "2020-09-10",
                    "2020-09-11",
                    "2020-09-12",
                    "2020-09-13",
                    "2020-09-14",
                    "2020-09-15",
                    "2020-09-16",
                    "2020-09-17",
                    "2020-09-18",
                    "2020-09-19",
                    "2020-09-20",
                    "2020-09-21",
                    "2020-09-22",
                    "2020-09-23",
                    "2020-09-24",
                    "2020-09-25",
                    "2020-09-26",
                    "2020-09-27",
                    "2020-09-28",
                    "2020-09-29",
                    "2020-09-30",
                    "2020-10-01",
                    "2020-10-02",
                    "2020-10-03",
                    "2020-10-04",
                    "2020-10-05",
                    "2020-10-06",
                    "2020-10-07",
                    "2020-10-08",
                    "2020-10-09",
                    "2020-10-10",
                    "2020-10-11",
                    "2020-10-12",
                    "2020-10-13",
                    "2020-10-14",
                    "2020-10-15",
                    "2020-10-16",
                    "2020-10-17",
                    "2020-10-18",
                    "2020-10-19",
                    "2020-10-20",
                    "2020-10-21",
                    "2020-10-22",
                    "2020-10-23",
                    "2020-10-24",
                    "2020-10-25",
                    "2020-10-26",
                    "2020-10-27",
                    "2020-10-28",
                    "2020-10-29",
                    "2020-10-30",
                    "2020-10-31",
                    "2020-11-01",
                    "2020-11-02",
                    "2020-11-03",
                    "2020-11-04",
                    "2020-11-05",
                    "2020-11-06",
                    "2020-11-07",
                    "2020-11-08",
                    "2020-11-09",
                    "2020-11-10",
                    "2020-11-11",
                    "2020-11-12",
                    "2020-11-13",
                    "2020-11-14",
                    "2020-11-15",
                    "2020-11-16",
                    "2020-11-17",
                    "2020-11-18",
                    "2020-11-19",
                    "2020-11-20",
                    "2020-11-21",
                    "2020-11-22",
                    "2020-11-23",
                    "2020-11-24",
                    "2020-11-25",
                    "2020-11-26",
                    "2020-11-27",
                    "2020-11-28",
                    "2020-11-29",
                    "2020-11-30",
                    "2020-12-01",
                    "2020-12-02",
                    "2020-12-03",
                    "2020-12-04",
                    "2020-12-05",
                    "2020-12-06",
                    "2020-12-07",
                    "2020-12-08",
                    "2020-12-09",
                    "2020-12-10",
                    "2020-12-11",
                    "2020-12-12",
                    "2020-12-13",
                    "2020-12-14",
                    "2020-12-15",
                    "2020-12-16",
                    "2020-12-17",
                    "2020-12-18",
                    "2020-12-19",
                    "2020-12-20",
                    "2020-12-21",
                    "2020-12-22",
                    "2020-12-23",
                    "2020-12-24",
                    "2020-12-25",
                    "2020-12-26",
                    "2020-12-27",
                    "2020-12-28",
                    "2020-12-29",
                    "2020-12-30",
                    "2020-12-31",
                    "2021-01-01",
                    "2021-01-02",
                    "2021-01-03",
                    "2021-01-04",
                    "2021-01-05",
                    "2021-01-06",
                    "2021-01-07",
                    "2021-01-08",
                    "2021-01-09",
                    "2021-01-10",
                    "2021-01-11",
                    "2021-01-12",
                    "2021-01-13",
                    "2021-01-14",
                    "2021-01-15",
                    "2021-01-16",
                    "2021-01-17",
                    "2021-01-18",
                    "2021-01-19",
                    "2021-01-20",
                    "2021-01-21",
                    "2021-01-22",
                    "2021-01-23",
                    "2021-01-24",
                    "2021-01-25",
                    "2021-01-26",
                    "2021-01-27",
                    "2021-01-28",
                    "2021-01-29",
                    "2021-01-30",
                    "2021-01-31",
                    "2021-02-01",
                    "2021-02-02",
                    "2021-02-03",
                    "2021-02-04",
                    "2021-02-05",
                    "2021-02-06",
                    "2021-02-07",
                    "2021-02-08",
                    "2021-02-09",
                    "2021-02-10",
                    "2021-02-11",
                    "2021-02-12",
                    "2021-02-13",
                    "2021-02-14",
                    "2021-02-15",
                    "2021-02-16",
                    "2021-02-17",
                    "2021-02-18",
                    "2021-02-19",
                    "2021-02-20",
                    "2021-02-21",
                    "2021-02-22",
                    "2021-02-23",
                    "2021-02-24",
                    "2021-02-25",
                    "2021-02-26",
                    "2021-02-27",
                    "2021-02-28",
                    "2021-03-01",
                    "2021-03-02",
                    "2021-03-03",
                    "2021-03-04",
                    "2021-03-05",
                    "2021-03-06",
                    "2021-03-07",
                    "2021-03-08",
                    "2021-03-09",
                    "2021-03-10",
                    "2021-03-11",
                    "2021-03-12",
                    "2021-03-13",
                    "2021-03-14",
                    "2021-03-15",
                    "2021-03-16",
                    "2021-03-17",
                    "2021-03-18",
                    "2021-03-19",
                    "2021-03-20",
                    "2021-03-21",
                    "2021-03-22",
                    "2021-03-23",
                    "2021-03-24",
                    "2021-03-25",
                    "2021-03-26",
                    "2021-03-27",
                    "2021-03-28",
                    "2021-03-29",
                    "2021-03-30",
                    "2021-03-31",
                    "2021-04-01",
                    "2021-04-02",
                    "2021-04-03",
                    "2021-04-04",
                    "2021-04-05",
                    "2021-04-06",
                    "2021-04-07",
                    "2021-04-08",
                    "2021-04-09",
                    "2021-04-10",
                    "2021-04-11",
                    "2021-04-12",
                    "2021-04-13",
                    "2021-04-14",
                    "2021-04-15",
                    "2021-04-16",
                    "2021-04-17",
                    "2021-04-18",
                    "2021-04-19",
                    "2021-04-20",
                    "2021-04-21",
                    "2021-04-22",
                    "2021-04-23",
                    "2021-04-24",
                    "2021-04-25",
                    "2021-04-26",
                    "2021-04-27",
                    "2021-04-28",
                    "2021-04-29",
                    "2021-04-30",
                    "2021-05-01",
                    "2021-05-02",
                    "2021-05-03",
                    "2021-05-04",
                    "2021-05-05",
                    "2021-05-06",
                    "2021-05-07",
                    "2021-05-08",
                    "2021-05-09",
                    "2021-05-10",
                    "2021-05-11",
                    "2021-05-12",
                    "2021-05-13",
                    "2021-05-14",
                    "2021-05-15",
                    "2021-05-16",
                    "2021-05-17",
                    "2021-05-18",
                    "2021-05-19",
                    "2021-05-20",
                    "2021-05-21",
                    "2021-05-22",
                    "2021-05-23",
                    "2021-05-24",
                    "2021-05-25",
                    "2021-05-26",
                    "2021-05-27",
                    "2021-05-28",
                    "2021-05-29"
                  ],
                  "y": [
                    17,
                    18,
                    26,
                    42,
                    56,
                    82,
                    131,
                    133,
                    171,
                    213,
                    259,
                    362,
                    426,
                    492,
                    564,
                    634,
                    719,
                    806,
                    906,
                    1013,
                    1113,
                    1118,
                    1371,
                    1523,
                    1666,
                    1770,
                    1868,
                    2008,
                    2123,
                    2248,
                    2252,
                    2459,
                    2470,
                    2630,
                    2710,
                    2771,
                    2814,
                    2873,
                    2942,
                    2996,
                    3085,
                    3160,
                    3255,
                    3349,
                    3460,
                    3564,
                    3803,
                    3993,
                    4267,
                    4611,
                    4917,
                    5414,
                    5834,
                    6475,
                    7153,
                    7967,
                    8874,
                    9985,
                    11470,
                    13192,
                    14878,
                    16827,
                    19117,
                    21927,
                    24962,
                    28450,
                    32180,
                    35699,
                    39780,
                    44528,
                    50526,
                    56413,
                    62574,
                    68488,
                    73676,
                    79614,
                    87872,
                    94683,
                    102467,
                    109845,
                    116017,
                    121876,
                    127842,
                    134812,
                    143285,
                    150544,
                    158938,
                    165083,
                    170316,
                    176188,
                    183461,
                    190325,
                    197153,
                    203923,
                    209551,
                    213530,
                    218276,
                    224854,
                    231579,
                    237421,
                    242572,
                    248067,
                    251578,
                    255791,
                    261614,
                    268119,
                    273429,
                    278981,
                    283206,
                    286765,
                    290251,
                    295736,
                    300868,
                    306037,
                    311258,
                    315434,
                    318621,
                    322384,
                    327031,
                    331810,
                    336469,
                    341713,
                    345640,
                    348656,
                    349868,
                    354110,
                    359166,
                    363718,
                    368326,
                    372350,
                    375042,
                    378115,
                    382792,
                    388224,
                    393258,
                    397836,
                    401605,
                    404345,
                    408047,
                    412821,
                    417864,
                    422504,
                    426713,
                    430829,
                    434229,
                    437645,
                    444355,
                    449502,
                    454412,
                    460478,
                    464587,
                    468601,
                    472163,
                    477380,
                    482555,
                    487247,
                    491995,
                    496458,
                    499624,
                    503302,
                    508187,
                    513132,
                    518207,
                    523134,
                    527538,
                    531027,
                    534872,
                    540839,
                    546114,
                    551521,
                    556820,
                    561638,
                    565625,
                    569536,
                    575133,
                    580579,
                    586351,
                    593019,
                    598616,
                    602700,
                    606911,
                    613080,
                    620026,
                    629914,
                    635944,
                    641513,
                    645226,
                    650409,
                    656674,
                    663281,
                    669331,
                    675517,
                    680972,
                    685298,
                    689984,
                    696514,
                    703565,
                    710056,
                    716344,
                    721758,
                    726331,
                    731683,
                    737882,
                    744450,
                    750664,
                    760803,
                    766159,
                    770423,
                    774604,
                    781411,
                    788138,
                    794210,
                    799648,
                    805146,
                    809100,
                    813606,
                    819892,
                    826118,
                    832014,
                    837543,
                    842865,
                    846910,
                    851087,
                    857486,
                    863595,
                    869279,
                    875148,
                    880088,
                    883934,
                    893308,
                    898221,
                    904326,
                    910130,
                    915981,
                    920862,
                    924577,
                    929017,
                    935443,
                    941223,
                    946691,
                    952359,
                    957638,
                    961377,
                    965479,
                    971451,
                    977061,
                    983715,
                    989618,
                    994963,
                    998650,
                    1002625,
                    1008528,
                    1014992,
                    1023707,
                    1028643,
                    1034007,
                    1037846,
                    1044792,
                    1050568,
                    1056404,
                    1062682,
                    1068832,
                    1073714,
                    1077747,
                    1081730,
                    1087016,
                    1093089,
                    1099204,
                    1105389,
                    1110986,
                    1114528,
                    1119364,
                    1125918,
                    1132548,
                    1138483,
                    1145454,
                    1151271,
                    1155482,
                    1160999,
                    1168371,
                    1175531,
                    1182617,
                    1190216,
                    1196794,
                    1201804,
                    1207908,
                    1217253,
                    1227504,
                    1235518,
                    1245179,
                    1252779,
                    1258654,
                    1265877,
                    1275870,
                    1286321,
                    1296087,
                    1305675,
                    1314757,
                    1321182,
                    1329136,
                    1340207,
                    1351621,
                    1362654,
                    1374541,
                    1383513,
                    1390708,
                    1399234,
                    1411894,
                    1424025,
                    1434913,
                    1446300,
                    1455583,
                    1462743,
                    1471623,
                    1484309,
                    1496898,
                    1509473,
                    1521993,
                    1532282,
                    1539710,
                    1548425,
                    1560705,
                    1573425,
                    1586121,
                    1599149,
                    1609694,
                    1617153,
                    1626325,
                    1640278,
                    1653937,
                    1667388,
                    1680178,
                    1690950,
                    1698865,
                    1708512,
                    1722825,
                    1736628,
                    1748259,
                    1756861,
                    1764260,
                    1771659,
                    1781415,
                    1796581,
                    1811843,
                    1825012,
                    1834675,
                    1843108,
                    1850449,
                    1860598,
                    1875933,
                    1890986,
                    1905926,
                    1921092,
                    1933877,
                    1942225,
                    1952549,
                    1969653,
                    1986359,
                    2001730,
                    2016841,
                    2030089,
                    2038753,
                    2048179,
                    2064762,
                    2082668,
                    2099457,
                    2115478,
                    2128772,
                    2137740,
                    2148508,
                    2165816,
                    2182496,
                    2199547,
                    2214494,
                    2228080,
                    2236070,
                    2246288,
                    2261124,
                    2276852,
                    2289386,
                    2305957,
                    2316094,
                    2324080,
                    2332412,
                    2347949,
                    2361352,
                    2374826,
                    2387299,
                    2397104,
                    2403466,
                    2410360,
                    2421278,
                    2432617,
                    2443987,
                    2455035,
                    2463547,
                    2469427,
                    2476376,
                    2487556,
                    2499559,
                    2509724,
                    2519974,
                    2528114,
                    2533548,
                    2540757,
                    2551191,
                    2562264,
                    2572042,
                    2582059,
                    2589891,
                    2595165,
                    2602025,
                    2612006,
                    2621697,
                    2631464,
                    2641092,
                    2649078,
                    2654577,
                    2661398,
                    2671288,
                    2681413,
                    2691987,
                    2702386,
                    2710432,
                    2716233,
                    2723729,
                    2734835,
                    2744557,
                    2755896,
                    2768118,
                    2777955,
                    2784435,
                    2792398,
                    2803971,
                    2816248,
                    2828123,
                    2838382,
                    2846779,
                    2853709,
                    2861183,
                    2873010,
                    2887858,
                    2902512,
                    2915934,
                    2928349,
                    2936924,
                    2946232,
                    2959574,
                    2973125,
                    2986338,
                    2999175,
                    3011198,
                    3019823,
                    3030332,
                    3044533,
                    3058651,
                    3072396,
                    3086756,
                    3100051,
                    3109724,
                    3120896,
                    3135393,
                    3151122,
                    3166125,
                    3180403,
                    3192977,
                    3202930,
                    3214016,
                    3227921,
                    3242126,
                    3256371,
                    3270109,
                    3283286,
                    3293188,
                    3303957,
                    3317579,
                    3331516,
                    3344655,
                    3357785,
                    3369435,
                    3379526,
                    3390170,
                    3404419,
                    3417763,
                    3430539,
                    3443314,
                    3454660,
                    3464212,
                    3473036,
                    3485788,
                    3498544,
                    3511297,
                    3523117,
                    3533619
                  ]
                },
                {
                  "line": {
                    "color": "rgba(50, 171, 96, 1.0)",
                    "dash": "solid",
                    "shape": "linear",
                    "width": 1.3
                  },
                  "mode": "lines",
                  "name": "Recovered",
                  "text": "",
                  "type": "scatter",
                  "x": [
                    "2020-01-22",
                    "2020-01-23",
                    "2020-01-24",
                    "2020-01-25",
                    "2020-01-26",
                    "2020-01-27",
                    "2020-01-28",
                    "2020-01-29",
                    "2020-01-30",
                    "2020-01-31",
                    "2020-02-01",
                    "2020-02-02",
                    "2020-02-03",
                    "2020-02-04",
                    "2020-02-05",
                    "2020-02-06",
                    "2020-02-07",
                    "2020-02-08",
                    "2020-02-09",
                    "2020-02-10",
                    "2020-02-11",
                    "2020-02-12",
                    "2020-02-13",
                    "2020-02-14",
                    "2020-02-15",
                    "2020-02-16",
                    "2020-02-17",
                    "2020-02-18",
                    "2020-02-19",
                    "2020-02-20",
                    "2020-02-21",
                    "2020-02-22",
                    "2020-02-23",
                    "2020-02-24",
                    "2020-02-25",
                    "2020-02-26",
                    "2020-02-27",
                    "2020-02-28",
                    "2020-02-29",
                    "2020-03-01",
                    "2020-03-02",
                    "2020-03-03",
                    "2020-03-04",
                    "2020-03-05",
                    "2020-03-06",
                    "2020-03-07",
                    "2020-03-08",
                    "2020-03-09",
                    "2020-03-10",
                    "2020-03-11",
                    "2020-03-12",
                    "2020-03-13",
                    "2020-03-14",
                    "2020-03-15",
                    "2020-03-16",
                    "2020-03-17",
                    "2020-03-18",
                    "2020-03-19",
                    "2020-03-20",
                    "2020-03-21",
                    "2020-03-22",
                    "2020-03-23",
                    "2020-03-24",
                    "2020-03-25",
                    "2020-03-26",
                    "2020-03-27",
                    "2020-03-28",
                    "2020-03-29",
                    "2020-03-30",
                    "2020-03-31",
                    "2020-04-01",
                    "2020-04-02",
                    "2020-04-03",
                    "2020-04-04",
                    "2020-04-05",
                    "2020-04-06",
                    "2020-04-07",
                    "2020-04-08",
                    "2020-04-09",
                    "2020-04-10",
                    "2020-04-11",
                    "2020-04-12",
                    "2020-04-13",
                    "2020-04-14",
                    "2020-04-15",
                    "2020-04-16",
                    "2020-04-17",
                    "2020-04-18",
                    "2020-04-19",
                    "2020-04-20",
                    "2020-04-21",
                    "2020-04-22",
                    "2020-04-23",
                    "2020-04-24",
                    "2020-04-25",
                    "2020-04-26",
                    "2020-04-27",
                    "2020-04-28",
                    "2020-04-29",
                    "2020-04-30",
                    "2020-05-01",
                    "2020-05-02",
                    "2020-05-03",
                    "2020-05-04",
                    "2020-05-05",
                    "2020-05-06",
                    "2020-05-07",
                    "2020-05-08",
                    "2020-05-09",
                    "2020-05-10",
                    "2020-05-11",
                    "2020-05-12",
                    "2020-05-13",
                    "2020-05-14",
                    "2020-05-15",
                    "2020-05-16",
                    "2020-05-17",
                    "2020-05-18",
                    "2020-05-19",
                    "2020-05-20",
                    "2020-05-21",
                    "2020-05-22",
                    "2020-05-23",
                    "2020-05-24",
                    "2020-05-25",
                    "2020-05-26",
                    "2020-05-27",
                    "2020-05-28",
                    "2020-05-29",
                    "2020-05-30",
                    "2020-05-31",
                    "2020-06-01",
                    "2020-06-02",
                    "2020-06-03",
                    "2020-06-04",
                    "2020-06-05",
                    "2020-06-06",
                    "2020-06-07",
                    "2020-06-08",
                    "2020-06-09",
                    "2020-06-10",
                    "2020-06-11",
                    "2020-06-12",
                    "2020-06-13",
                    "2020-06-14",
                    "2020-06-15",
                    "2020-06-16",
                    "2020-06-17",
                    "2020-06-18",
                    "2020-06-19",
                    "2020-06-20",
                    "2020-06-21",
                    "2020-06-22",
                    "2020-06-23",
                    "2020-06-24",
                    "2020-06-25",
                    "2020-06-26",
                    "2020-06-27",
                    "2020-06-28",
                    "2020-06-29",
                    "2020-06-30",
                    "2020-07-01",
                    "2020-07-02",
                    "2020-07-03",
                    "2020-07-04",
                    "2020-07-05",
                    "2020-07-06",
                    "2020-07-07",
                    "2020-07-08",
                    "2020-07-09",
                    "2020-07-10",
                    "2020-07-11",
                    "2020-07-12",
                    "2020-07-13",
                    "2020-07-14",
                    "2020-07-15",
                    "2020-07-16",
                    "2020-07-17",
                    "2020-07-18",
                    "2020-07-19",
                    "2020-07-20",
                    "2020-07-21",
                    "2020-07-22",
                    "2020-07-23",
                    "2020-07-24",
                    "2020-07-25",
                    "2020-07-26",
                    "2020-07-27",
                    "2020-07-28",
                    "2020-07-29",
                    "2020-07-30",
                    "2020-07-31",
                    "2020-08-01",
                    "2020-08-02",
                    "2020-08-03",
                    "2020-08-04",
                    "2020-08-05",
                    "2020-08-06",
                    "2020-08-07",
                    "2020-08-08",
                    "2020-08-09",
                    "2020-08-10",
                    "2020-08-11",
                    "2020-08-12",
                    "2020-08-13",
                    "2020-08-14",
                    "2020-08-15",
                    "2020-08-16",
                    "2020-08-17",
                    "2020-08-18",
                    "2020-08-19",
                    "2020-08-20",
                    "2020-08-21",
                    "2020-08-22",
                    "2020-08-23",
                    "2020-08-24",
                    "2020-08-25",
                    "2020-08-26",
                    "2020-08-27",
                    "2020-08-28",
                    "2020-08-29",
                    "2020-08-30",
                    "2020-08-31",
                    "2020-09-01",
                    "2020-09-02",
                    "2020-09-03",
                    "2020-09-04",
                    "2020-09-05",
                    "2020-09-06",
                    "2020-09-07",
                    "2020-09-08",
                    "2020-09-09",
                    "2020-09-10",
                    "2020-09-11",
                    "2020-09-12",
                    "2020-09-13",
                    "2020-09-14",
                    "2020-09-15",
                    "2020-09-16",
                    "2020-09-17",
                    "2020-09-18",
                    "2020-09-19",
                    "2020-09-20",
                    "2020-09-21",
                    "2020-09-22",
                    "2020-09-23",
                    "2020-09-24",
                    "2020-09-25",
                    "2020-09-26",
                    "2020-09-27",
                    "2020-09-28",
                    "2020-09-29",
                    "2020-09-30",
                    "2020-10-01",
                    "2020-10-02",
                    "2020-10-03",
                    "2020-10-04",
                    "2020-10-05",
                    "2020-10-06",
                    "2020-10-07",
                    "2020-10-08",
                    "2020-10-09",
                    "2020-10-10",
                    "2020-10-11",
                    "2020-10-12",
                    "2020-10-13",
                    "2020-10-14",
                    "2020-10-15",
                    "2020-10-16",
                    "2020-10-17",
                    "2020-10-18",
                    "2020-10-19",
                    "2020-10-20",
                    "2020-10-21",
                    "2020-10-22",
                    "2020-10-23",
                    "2020-10-24",
                    "2020-10-25",
                    "2020-10-26",
                    "2020-10-27",
                    "2020-10-28",
                    "2020-10-29",
                    "2020-10-30",
                    "2020-10-31",
                    "2020-11-01",
                    "2020-11-02",
                    "2020-11-03",
                    "2020-11-04",
                    "2020-11-05",
                    "2020-11-06",
                    "2020-11-07",
                    "2020-11-08",
                    "2020-11-09",
                    "2020-11-10",
                    "2020-11-11",
                    "2020-11-12",
                    "2020-11-13",
                    "2020-11-14",
                    "2020-11-15",
                    "2020-11-16",
                    "2020-11-17",
                    "2020-11-18",
                    "2020-11-19",
                    "2020-11-20",
                    "2020-11-21",
                    "2020-11-22",
                    "2020-11-23",
                    "2020-11-24",
                    "2020-11-25",
                    "2020-11-26",
                    "2020-11-27",
                    "2020-11-28",
                    "2020-11-29",
                    "2020-11-30",
                    "2020-12-01",
                    "2020-12-02",
                    "2020-12-03",
                    "2020-12-04",
                    "2020-12-05",
                    "2020-12-06",
                    "2020-12-07",
                    "2020-12-08",
                    "2020-12-09",
                    "2020-12-10",
                    "2020-12-11",
                    "2020-12-12",
                    "2020-12-13",
                    "2020-12-14",
                    "2020-12-15",
                    "2020-12-16",
                    "2020-12-17",
                    "2020-12-18",
                    "2020-12-19",
                    "2020-12-20",
                    "2020-12-21",
                    "2020-12-22",
                    "2020-12-23",
                    "2020-12-24",
                    "2020-12-25",
                    "2020-12-26",
                    "2020-12-27",
                    "2020-12-28",
                    "2020-12-29",
                    "2020-12-30",
                    "2020-12-31",
                    "2021-01-01",
                    "2021-01-02",
                    "2021-01-03",
                    "2021-01-04",
                    "2021-01-05",
                    "2021-01-06",
                    "2021-01-07",
                    "2021-01-08",
                    "2021-01-09",
                    "2021-01-10",
                    "2021-01-11",
                    "2021-01-12",
                    "2021-01-13",
                    "2021-01-14",
                    "2021-01-15",
                    "2021-01-16",
                    "2021-01-17",
                    "2021-01-18",
                    "2021-01-19",
                    "2021-01-20",
                    "2021-01-21",
                    "2021-01-22",
                    "2021-01-23",
                    "2021-01-24",
                    "2021-01-25",
                    "2021-01-26",
                    "2021-01-27",
                    "2021-01-28",
                    "2021-01-29",
                    "2021-01-30",
                    "2021-01-31",
                    "2021-02-01",
                    "2021-02-02",
                    "2021-02-03",
                    "2021-02-04",
                    "2021-02-05",
                    "2021-02-06",
                    "2021-02-07",
                    "2021-02-08",
                    "2021-02-09",
                    "2021-02-10",
                    "2021-02-11",
                    "2021-02-12",
                    "2021-02-13",
                    "2021-02-14",
                    "2021-02-15",
                    "2021-02-16",
                    "2021-02-17",
                    "2021-02-18",
                    "2021-02-19",
                    "2021-02-20",
                    "2021-02-21",
                    "2021-02-22",
                    "2021-02-23",
                    "2021-02-24",
                    "2021-02-25",
                    "2021-02-26",
                    "2021-02-27",
                    "2021-02-28",
                    "2021-03-01",
                    "2021-03-02",
                    "2021-03-03",
                    "2021-03-04",
                    "2021-03-05",
                    "2021-03-06",
                    "2021-03-07",
                    "2021-03-08",
                    "2021-03-09",
                    "2021-03-10",
                    "2021-03-11",
                    "2021-03-12",
                    "2021-03-13",
                    "2021-03-14",
                    "2021-03-15",
                    "2021-03-16",
                    "2021-03-17",
                    "2021-03-18",
                    "2021-03-19",
                    "2021-03-20",
                    "2021-03-21",
                    "2021-03-22",
                    "2021-03-23",
                    "2021-03-24",
                    "2021-03-25",
                    "2021-03-26",
                    "2021-03-27",
                    "2021-03-28",
                    "2021-03-29",
                    "2021-03-30",
                    "2021-03-31",
                    "2021-04-01",
                    "2021-04-02",
                    "2021-04-03",
                    "2021-04-04",
                    "2021-04-05",
                    "2021-04-06",
                    "2021-04-07",
                    "2021-04-08",
                    "2021-04-09",
                    "2021-04-10",
                    "2021-04-11",
                    "2021-04-12",
                    "2021-04-13",
                    "2021-04-14",
                    "2021-04-15",
                    "2021-04-16",
                    "2021-04-17",
                    "2021-04-18",
                    "2021-04-19",
                    "2021-04-20",
                    "2021-04-21",
                    "2021-04-22",
                    "2021-04-23",
                    "2021-04-24",
                    "2021-04-25",
                    "2021-04-26",
                    "2021-04-27",
                    "2021-04-28",
                    "2021-04-29",
                    "2021-04-30",
                    "2021-05-01",
                    "2021-05-02",
                    "2021-05-03",
                    "2021-05-04",
                    "2021-05-05",
                    "2021-05-06",
                    "2021-05-07",
                    "2021-05-08",
                    "2021-05-09",
                    "2021-05-10",
                    "2021-05-11",
                    "2021-05-12",
                    "2021-05-13",
                    "2021-05-14",
                    "2021-05-15",
                    "2021-05-16",
                    "2021-05-17",
                    "2021-05-18",
                    "2021-05-19",
                    "2021-05-20",
                    "2021-05-21",
                    "2021-05-22",
                    "2021-05-23",
                    "2021-05-24",
                    "2021-05-25",
                    "2021-05-26",
                    "2021-05-27",
                    "2021-05-28",
                    "2021-05-29"
                  ],
                  "y": [
                    30,
                    32,
                    39,
                    42,
                    56,
                    65,
                    108,
                    127,
                    145,
                    225,
                    287,
                    476,
                    627,
                    857,
                    1129,
                    1492,
                    2016,
                    2616,
                    3245,
                    3947,
                    4684,
                    5151,
                    6294,
                    8057,
                    9396,
                    10866,
                    12583,
                    14352,
                    16121,
                    18179,
                    18892,
                    22889,
                    23394,
                    25227,
                    27905,
                    30386,
                    33278,
                    36710,
                    39781,
                    42717,
                    45601,
                    48227,
                    51169,
                    53795,
                    55863,
                    58357,
                    60694,
                    62493,
                    64400,
                    66998,
                    68321,
                    70248,
                    72620,
                    76031,
                    78086,
                    80830,
                    83317,
                    84958,
                    87403,
                    91650,
                    97867,
                    98335,
                    107974,
                    113753,
                    122125,
                    130910,
                    139421,
                    148877,
                    164214,
                    177804,
                    193076,
                    210219,
                    225641,
                    246053,
                    259889,
                    276598,
                    299860,
                    328742,
                    353996,
                    375734,
                    401984,
                    421367,
                    448624,
                    473698,
                    510237,
                    541120,
                    567304,
                    591170,
                    622953,
                    645131,
                    679933,
                    710018,
                    738748,
                    788777,
                    816532,
                    845344,
                    873228,
                    906440,
                    948517,
                    1013633,
                    1051790,
                    1092441,
                    1124974,
                    1159060,
                    1195533,
                    1241652,
                    1281177,
                    1317590,
                    1371031,
                    1404840,
                    1451725,
                    1488767,
                    1544639,
                    1584350,
                    1632453,
                    1688864,
                    1729872,
                    1782788,
                    1834840,
                    1893810,
                    1945030,
                    2053577,
                    2108411,
                    2163938,
                    2227667,
                    2282819,
                    2346146,
                    2413009,
                    2490274,
                    2560724,
                    2637108,
                    2692033,
                    2796145,
                    2875236,
                    2945306,
                    3014471,
                    3086675,
                    3141784,
                    3293395,
                    3375665,
                    3454836,
                    3540715,
                    3620435,
                    3706327,
                    3777146,
                    3857421,
                    3955284,
                    4074115,
                    4155278,
                    4250268,
                    4366122,
                    4434808,
                    4526441,
                    4630496,
                    4746247,
                    4839131,
                    4945111,
                    5051397,
                    5140600,
                    5235171,
                    5352511,
                    5468425,
                    5753359,
                    5863247,
                    6059007,
                    6178370,
                    6302069,
                    6447102,
                    6605158,
                    6739776,
                    6879222,
                    7004914,
                    7116750,
                    7257073,
                    7399325,
                    7559131,
                    7711616,
                    7895037,
                    8045824,
                    8133882,
                    8293010,
                    8467706,
                    8647438,
                    8823668,
                    9051968,
                    9271780,
                    9415081,
                    9586464,
                    9756922,
                    9959508,
                    10173027,
                    10372633,
                    10553544,
                    10692268,
                    10914713,
                    11138370,
                    11360065,
                    11548872,
                    11740918,
                    11941162,
                    12119940,
                    12284151,
                    12589219,
                    12829864,
                    12993780,
                    13277022,
                    13445626,
                    13678580,
                    13889592,
                    14117187,
                    14335184,
                    14542974,
                    14711468,
                    14921385,
                    15137916,
                    15337337,
                    15568886,
                    15794620,
                    16001857,
                    16200975,
                    16412388,
                    16622628,
                    16823418,
                    17081380,
                    17300617,
                    17521986,
                    17735487,
                    17936475,
                    18148266,
                    18345814,
                    18547611,
                    18787878,
                    19004539,
                    19228209,
                    19451143,
                    19638991,
                    19867490,
                    20093777,
                    20323254,
                    20543465,
                    20794614,
                    21031599,
                    21268676,
                    21514154,
                    21733547,
                    21996960,
                    22252630,
                    22491838,
                    22753981,
                    22967860,
                    23190402,
                    23431686,
                    23679904,
                    23901446,
                    24073731,
                    24329332,
                    24551491,
                    24788959,
                    25021585,
                    25276776,
                    25496282,
                    25703072,
                    25898477,
                    26121117,
                    26321236,
                    26513681,
                    26725966,
                    26933293,
                    27136307,
                    27334590,
                    27536101,
                    27738632,
                    27950079,
                    28161301,
                    28388094,
                    28594828,
                    28806409,
                    29003667,
                    29242802,
                    29832507,
                    30098469,
                    30345220,
                    30600994,
                    30845323,
                    31103270,
                    31383407,
                    31634980,
                    31914299,
                    32217954,
                    32506315,
                    32805331,
                    33058571,
                    33315624,
                    33572984,
                    33953208,
                    34179447,
                    34481579,
                    34759398,
                    34990158,
                    35380888,
                    35814479,
                    36177589,
                    36551888,
                    36907312,
                    37246582,
                    37520306,
                    37931519,
                    38303698,
                    38741108,
                    39107984,
                    39489610,
                    39849316,
                    40167599,
                    40569855,
                    41046059,
                    41508985,
                    41935969,
                    42426586,
                    42862534,
                    43178578,
                    43591717,
                    44032488,
                    44458968,
                    44950194,
                    45428334,
                    46933277,
                    47328396,
                    41338399,
                    41696563,
                    42058783,
                    42434192,
                    42751920,
                    43103506,
                    43380335,
                    43723555,
                    44086740,
                    44410880,
                    44725552,
                    45017158,
                    45425322,
                    45717710,
                    46016136,
                    46369231,
                    46757476,
                    47032627,
                    47313005,
                    47614297,
                    47882779,
                    48173187,
                    48488548,
                    48801673,
                    49125604,
                    49422867,
                    49753112,
                    50023662,
                    50313950,
                    50657507,
                    51023568,
                    51396413,
                    51717035,
                    52034090,
                    52349805,
                    52668558,
                    53071502,
                    53399273,
                    53765412,
                    54147169,
                    54463662,
                    54774619,
                    55089060,
                    55418603,
                    55759372,
                    56075031,
                    56439138,
                    56790304,
                    57079203,
                    57351845,
                    57702035,
                    58031882,
                    58325871,
                    58607158,
                    58901715,
                    59179150,
                    59411984,
                    59783592,
                    60052900,
                    60328985,
                    60616584,
                    60862827,
                    61058258,
                    61346871,
                    61582276,
                    61876217,
                    62112835,
                    62347471,
                    62616687,
                    62833944,
                    63016514,
                    63295144,
                    63504603,
                    63732295,
                    63992563,
                    64243285,
                    64418462,
                    64633388,
                    64903492,
                    65132900,
                    65383180,
                    65609540,
                    65846043,
                    66084363,
                    66358921,
                    66621154,
                    66856510,
                    67129127,
                    67397683,
                    67650215,
                    67895903,
                    68185782,
                    68452267,
                    68716803,
                    68985879,
                    69264940,
                    69523151,
                    69803250,
                    70137879,
                    70451021,
                    70786663,
                    71098480,
                    71463066,
                    71768319,
                    72097107,
                    72401543,
                    72736786,
                    73119295,
                    73464081,
                    73784288,
                    74150289,
                    74498477,
                    74846290,
                    75216286,
                    75699591,
                    76094850,
                    76548563,
                    76933557,
                    77464029,
                    77858761,
                    78345223,
                    78792113,
                    79236515,
                    79740632,
                    80259168,
                    80839359,
                    81374734,
                    81979571,
                    82491871,
                    83128167,
                    83767999,
                    84344290,
                    84878104,
                    85565470,
                    86246374,
                    86843039,
                    87550355,
                    88236951,
                    88919401,
                    89612415,
                    90255904,
                    90912804,
                    91626286,
                    92301898,
                    92998027,
                    93709032,
                    94371825,
                    95000511,
                    95751515,
                    96399064,
                    97089181,
                    97754528,
                    98397065,
                    99064469,
                    99808931,
                    100552044,
                    101250071,
                    101886760,
                    102501548,
                    103118309,
                    103620280,
                    104247872,
                    104824935,
                    105380748,
                    106078106,
                    106633069,
                    107140669
                  ]
                },
                {
                  "line": {
                    "color": "rgba(128, 0, 128, 1.0)",
                    "dash": "solid",
                    "shape": "linear",
                    "width": 1.3
                  },
                  "mode": "lines",
                  "name": "Active",
                  "text": "",
                  "type": "scatter",
                  "x": [
                    "2020-01-22",
                    "2020-01-23",
                    "2020-01-24",
                    "2020-01-25",
                    "2020-01-26",
                    "2020-01-27",
                    "2020-01-28",
                    "2020-01-29",
                    "2020-01-30",
                    "2020-01-31",
                    "2020-02-01",
                    "2020-02-02",
                    "2020-02-03",
                    "2020-02-04",
                    "2020-02-05",
                    "2020-02-06",
                    "2020-02-07",
                    "2020-02-08",
                    "2020-02-09",
                    "2020-02-10",
                    "2020-02-11",
                    "2020-02-12",
                    "2020-02-13",
                    "2020-02-14",
                    "2020-02-15",
                    "2020-02-16",
                    "2020-02-17",
                    "2020-02-18",
                    "2020-02-19",
                    "2020-02-20",
                    "2020-02-21",
                    "2020-02-22",
                    "2020-02-23",
                    "2020-02-24",
                    "2020-02-25",
                    "2020-02-26",
                    "2020-02-27",
                    "2020-02-28",
                    "2020-02-29",
                    "2020-03-01",
                    "2020-03-02",
                    "2020-03-03",
                    "2020-03-04",
                    "2020-03-05",
                    "2020-03-06",
                    "2020-03-07",
                    "2020-03-08",
                    "2020-03-09",
                    "2020-03-10",
                    "2020-03-11",
                    "2020-03-12",
                    "2020-03-13",
                    "2020-03-14",
                    "2020-03-15",
                    "2020-03-16",
                    "2020-03-17",
                    "2020-03-18",
                    "2020-03-19",
                    "2020-03-20",
                    "2020-03-21",
                    "2020-03-22",
                    "2020-03-23",
                    "2020-03-24",
                    "2020-03-25",
                    "2020-03-26",
                    "2020-03-27",
                    "2020-03-28",
                    "2020-03-29",
                    "2020-03-30",
                    "2020-03-31",
                    "2020-04-01",
                    "2020-04-02",
                    "2020-04-03",
                    "2020-04-04",
                    "2020-04-05",
                    "2020-04-06",
                    "2020-04-07",
                    "2020-04-08",
                    "2020-04-09",
                    "2020-04-10",
                    "2020-04-11",
                    "2020-04-12",
                    "2020-04-13",
                    "2020-04-14",
                    "2020-04-15",
                    "2020-04-16",
                    "2020-04-17",
                    "2020-04-18",
                    "2020-04-19",
                    "2020-04-20",
                    "2020-04-21",
                    "2020-04-22",
                    "2020-04-23",
                    "2020-04-24",
                    "2020-04-25",
                    "2020-04-26",
                    "2020-04-27",
                    "2020-04-28",
                    "2020-04-29",
                    "2020-04-30",
                    "2020-05-01",
                    "2020-05-02",
                    "2020-05-03",
                    "2020-05-04",
                    "2020-05-05",
                    "2020-05-06",
                    "2020-05-07",
                    "2020-05-08",
                    "2020-05-09",
                    "2020-05-10",
                    "2020-05-11",
                    "2020-05-12",
                    "2020-05-13",
                    "2020-05-14",
                    "2020-05-15",
                    "2020-05-16",
                    "2020-05-17",
                    "2020-05-18",
                    "2020-05-19",
                    "2020-05-20",
                    "2020-05-21",
                    "2020-05-22",
                    "2020-05-23",
                    "2020-05-24",
                    "2020-05-25",
                    "2020-05-26",
                    "2020-05-27",
                    "2020-05-28",
                    "2020-05-29",
                    "2020-05-30",
                    "2020-05-31",
                    "2020-06-01",
                    "2020-06-02",
                    "2020-06-03",
                    "2020-06-04",
                    "2020-06-05",
                    "2020-06-06",
                    "2020-06-07",
                    "2020-06-08",
                    "2020-06-09",
                    "2020-06-10",
                    "2020-06-11",
                    "2020-06-12",
                    "2020-06-13",
                    "2020-06-14",
                    "2020-06-15",
                    "2020-06-16",
                    "2020-06-17",
                    "2020-06-18",
                    "2020-06-19",
                    "2020-06-20",
                    "2020-06-21",
                    "2020-06-22",
                    "2020-06-23",
                    "2020-06-24",
                    "2020-06-25",
                    "2020-06-26",
                    "2020-06-27",
                    "2020-06-28",
                    "2020-06-29",
                    "2020-06-30",
                    "2020-07-01",
                    "2020-07-02",
                    "2020-07-03",
                    "2020-07-04",
                    "2020-07-05",
                    "2020-07-06",
                    "2020-07-07",
                    "2020-07-08",
                    "2020-07-09",
                    "2020-07-10",
                    "2020-07-11",
                    "2020-07-12",
                    "2020-07-13",
                    "2020-07-14",
                    "2020-07-15",
                    "2020-07-16",
                    "2020-07-17",
                    "2020-07-18",
                    "2020-07-19",
                    "2020-07-20",
                    "2020-07-21",
                    "2020-07-22",
                    "2020-07-23",
                    "2020-07-24",
                    "2020-07-25",
                    "2020-07-26",
                    "2020-07-27",
                    "2020-07-28",
                    "2020-07-29",
                    "2020-07-30",
                    "2020-07-31",
                    "2020-08-01",
                    "2020-08-02",
                    "2020-08-03",
                    "2020-08-04",
                    "2020-08-05",
                    "2020-08-06",
                    "2020-08-07",
                    "2020-08-08",
                    "2020-08-09",
                    "2020-08-10",
                    "2020-08-11",
                    "2020-08-12",
                    "2020-08-13",
                    "2020-08-14",
                    "2020-08-15",
                    "2020-08-16",
                    "2020-08-17",
                    "2020-08-18",
                    "2020-08-19",
                    "2020-08-20",
                    "2020-08-21",
                    "2020-08-22",
                    "2020-08-23",
                    "2020-08-24",
                    "2020-08-25",
                    "2020-08-26",
                    "2020-08-27",
                    "2020-08-28",
                    "2020-08-29",
                    "2020-08-30",
                    "2020-08-31",
                    "2020-09-01",
                    "2020-09-02",
                    "2020-09-03",
                    "2020-09-04",
                    "2020-09-05",
                    "2020-09-06",
                    "2020-09-07",
                    "2020-09-08",
                    "2020-09-09",
                    "2020-09-10",
                    "2020-09-11",
                    "2020-09-12",
                    "2020-09-13",
                    "2020-09-14",
                    "2020-09-15",
                    "2020-09-16",
                    "2020-09-17",
                    "2020-09-18",
                    "2020-09-19",
                    "2020-09-20",
                    "2020-09-21",
                    "2020-09-22",
                    "2020-09-23",
                    "2020-09-24",
                    "2020-09-25",
                    "2020-09-26",
                    "2020-09-27",
                    "2020-09-28",
                    "2020-09-29",
                    "2020-09-30",
                    "2020-10-01",
                    "2020-10-02",
                    "2020-10-03",
                    "2020-10-04",
                    "2020-10-05",
                    "2020-10-06",
                    "2020-10-07",
                    "2020-10-08",
                    "2020-10-09",
                    "2020-10-10",
                    "2020-10-11",
                    "2020-10-12",
                    "2020-10-13",
                    "2020-10-14",
                    "2020-10-15",
                    "2020-10-16",
                    "2020-10-17",
                    "2020-10-18",
                    "2020-10-19",
                    "2020-10-20",
                    "2020-10-21",
                    "2020-10-22",
                    "2020-10-23",
                    "2020-10-24",
                    "2020-10-25",
                    "2020-10-26",
                    "2020-10-27",
                    "2020-10-28",
                    "2020-10-29",
                    "2020-10-30",
                    "2020-10-31",
                    "2020-11-01",
                    "2020-11-02",
                    "2020-11-03",
                    "2020-11-04",
                    "2020-11-05",
                    "2020-11-06",
                    "2020-11-07",
                    "2020-11-08",
                    "2020-11-09",
                    "2020-11-10",
                    "2020-11-11",
                    "2020-11-12",
                    "2020-11-13",
                    "2020-11-14",
                    "2020-11-15",
                    "2020-11-16",
                    "2020-11-17",
                    "2020-11-18",
                    "2020-11-19",
                    "2020-11-20",
                    "2020-11-21",
                    "2020-11-22",
                    "2020-11-23",
                    "2020-11-24",
                    "2020-11-25",
                    "2020-11-26",
                    "2020-11-27",
                    "2020-11-28",
                    "2020-11-29",
                    "2020-11-30",
                    "2020-12-01",
                    "2020-12-02",
                    "2020-12-03",
                    "2020-12-04",
                    "2020-12-05",
                    "2020-12-06",
                    "2020-12-07",
                    "2020-12-08",
                    "2020-12-09",
                    "2020-12-10",
                    "2020-12-11",
                    "2020-12-12",
                    "2020-12-13",
                    "2020-12-14",
                    "2020-12-15",
                    "2020-12-16",
                    "2020-12-17",
                    "2020-12-18",
                    "2020-12-19",
                    "2020-12-20",
                    "2020-12-21",
                    "2020-12-22",
                    "2020-12-23",
                    "2020-12-24",
                    "2020-12-25",
                    "2020-12-26",
                    "2020-12-27",
                    "2020-12-28",
                    "2020-12-29",
                    "2020-12-30",
                    "2020-12-31",
                    "2021-01-01",
                    "2021-01-02",
                    "2021-01-03",
                    "2021-01-04",
                    "2021-01-05",
                    "2021-01-06",
                    "2021-01-07",
                    "2021-01-08",
                    "2021-01-09",
                    "2021-01-10",
                    "2021-01-11",
                    "2021-01-12",
                    "2021-01-13",
                    "2021-01-14",
                    "2021-01-15",
                    "2021-01-16",
                    "2021-01-17",
                    "2021-01-18",
                    "2021-01-19",
                    "2021-01-20",
                    "2021-01-21",
                    "2021-01-22",
                    "2021-01-23",
                    "2021-01-24",
                    "2021-01-25",
                    "2021-01-26",
                    "2021-01-27",
                    "2021-01-28",
                    "2021-01-29",
                    "2021-01-30",
                    "2021-01-31",
                    "2021-02-01",
                    "2021-02-02",
                    "2021-02-03",
                    "2021-02-04",
                    "2021-02-05",
                    "2021-02-06",
                    "2021-02-07",
                    "2021-02-08",
                    "2021-02-09",
                    "2021-02-10",
                    "2021-02-11",
                    "2021-02-12",
                    "2021-02-13",
                    "2021-02-14",
                    "2021-02-15",
                    "2021-02-16",
                    "2021-02-17",
                    "2021-02-18",
                    "2021-02-19",
                    "2021-02-20",
                    "2021-02-21",
                    "2021-02-22",
                    "2021-02-23",
                    "2021-02-24",
                    "2021-02-25",
                    "2021-02-26",
                    "2021-02-27",
                    "2021-02-28",
                    "2021-03-01",
                    "2021-03-02",
                    "2021-03-03",
                    "2021-03-04",
                    "2021-03-05",
                    "2021-03-06",
                    "2021-03-07",
                    "2021-03-08",
                    "2021-03-09",
                    "2021-03-10",
                    "2021-03-11",
                    "2021-03-12",
                    "2021-03-13",
                    "2021-03-14",
                    "2021-03-15",
                    "2021-03-16",
                    "2021-03-17",
                    "2021-03-18",
                    "2021-03-19",
                    "2021-03-20",
                    "2021-03-21",
                    "2021-03-22",
                    "2021-03-23",
                    "2021-03-24",
                    "2021-03-25",
                    "2021-03-26",
                    "2021-03-27",
                    "2021-03-28",
                    "2021-03-29",
                    "2021-03-30",
                    "2021-03-31",
                    "2021-04-01",
                    "2021-04-02",
                    "2021-04-03",
                    "2021-04-04",
                    "2021-04-05",
                    "2021-04-06",
                    "2021-04-07",
                    "2021-04-08",
                    "2021-04-09",
                    "2021-04-10",
                    "2021-04-11",
                    "2021-04-12",
                    "2021-04-13",
                    "2021-04-14",
                    "2021-04-15",
                    "2021-04-16",
                    "2021-04-17",
                    "2021-04-18",
                    "2021-04-19",
                    "2021-04-20",
                    "2021-04-21",
                    "2021-04-22",
                    "2021-04-23",
                    "2021-04-24",
                    "2021-04-25",
                    "2021-04-26",
                    "2021-04-27",
                    "2021-04-28",
                    "2021-04-29",
                    "2021-04-30",
                    "2021-05-01",
                    "2021-05-02",
                    "2021-05-03",
                    "2021-05-04",
                    "2021-05-05",
                    "2021-05-06",
                    "2021-05-07",
                    "2021-05-08",
                    "2021-05-09",
                    "2021-05-10",
                    "2021-05-11",
                    "2021-05-12",
                    "2021-05-13",
                    "2021-05-14",
                    "2021-05-15",
                    "2021-05-16",
                    "2021-05-17",
                    "2021-05-18",
                    "2021-05-19",
                    "2021-05-20",
                    "2021-05-21",
                    "2021-05-22",
                    "2021-05-23",
                    "2021-05-24",
                    "2021-05-25",
                    "2021-05-26",
                    "2021-05-27",
                    "2021-05-28",
                    "2021-05-29"
                  ],
                  "y": [
                    510,
                    605,
                    876,
                    1349,
                    2006,
                    2780,
                    5339,
                    5907,
                    7919,
                    9489,
                    11492,
                    15949,
                    18834,
                    22549,
                    25950,
                    28677,
                    31661,
                    33708,
                    36009,
                    37809,
                    39014,
                    38960,
                    52717,
                    57329,
                    57990,
                    58599,
                    58819,
                    58792,
                    57408,
                    55785,
                    55697,
                    53254,
                    53118,
                    51689,
                    49784,
                    48219,
                    46644,
                    44539,
                    43290,
                    42681,
                    41691,
                    41584,
                    40855,
                    40946,
                    42680,
                    44177,
                    45550,
                    47733,
                    50374,
                    55093,
                    59254,
                    71214,
                    79496,
                    86713,
                    98788,
                    111173,
                    127344,
                    151641,
                    178486,
                    204508,
                    231460,
                    271878,
                    301128,
                    343540,
                    395010,
                    447778,
                    502817,
                    549079,
                    594955,
                    653462,
                    715000,
                    775030,
                    837006,
                    869043,
                    922611,
                    973119,
                    1011430,
                    1059115,
                    1113091,
                    1169509,
                    1211370,
                    1305824,
                    1343343,
                    1395310,
                    1427412,
                    1484801,
                    1538220,
                    1585449,
                    1625038,
                    1673006,
                    1706680,
                    1750978,
                    1799669,
                    1826966,
                    1875842,
                    1914639,
                    1952201,
                    1987951,
                    2016259,
                    2028796,
                    2073864,
                    2106918,
                    2147247,
                    2186637,
                    2224843,
                    2262247,
                    2306118,
                    2354432,
                    2381989,
                    2419597,
                    2445857,
                    2487821,
                    2511797,
                    2563148,
                    2605556,
                    2639408,
                    2673235,
                    2705723,
                    2745799,
                    2783928,
                    2834693,
                    2827324,
                    2873367,
                    2909035,
                    2930811,
                    2965384,
                    2999763,
                    3047631,
                    3086661,
                    3148702,
                    3176034,
                    3214031,
                    3227206,
                    3256932,
                    3312772,
                    3370252,
                    3428016,
                    3482530,
                    3429714,
                    3467730,
                    3518621,
                    3566122,
                    3610958,
                    3656239,
                    3714304,
                    3750271,
                    3787782,
                    3807550,
                    3862540,
                    3941399,
                    3978884,
                    4033886,
                    4078052,
                    4135589,
                    4187257,
                    4268062,
                    4348931,
                    4416314,
                    4487816,
                    4544914,
                    4597231,
                    4693979,
                    4613915,
                    4700485,
                    4694130,
                    4755281,
                    4791712,
                    4852074,
                    4902902,
                    4989704,
                    5077633,
                    5163605,
                    5240056,
                    5287266,
                    5361605,
                    5427821,
                    5520876,
                    5573529,
                    5653323,
                    5774615,
                    5818392,
                    5871208,
                    5964398,
                    6061134,
                    6107878,
                    6136551,
                    6202573,
                    6252537,
                    6328599,
                    6411134,
                    6471665,
                    6556617,
                    6618589,
                    6706531,
                    6685875,
                    6713630,
                    6761459,
                    6851363,
                    6935268,
                    6988128,
                    7029460,
                    7085926,
                    7032229,
                    7061663,
                    7180749,
                    7191116,
                    7264864,
                    7242116,
                    7234655,
                    7258509,
                    7313375,
                    7372067,
                    7459340,
                    7508176,
                    7493840,
                    7515181,
                    7521347,
                    7573180,
                    7643942,
                    7722922,
                    7769980,
                    7776660,
                    7834584,
                    7835148,
                    7893306,
                    7947672,
                    8042318,
                    8106381,
                    8121209,
                    8132169,
                    8167658,
                    8206108,
                    8283519,
                    8375368,
                    8434131,
                    8485287,
                    8516100,
                    8568849,
                    8638127,
                    8727334,
                    8796438,
                    8846293,
                    8857591,
                    8884097,
                    8943246,
                    8950315,
                    9041028,
                    9126787,
                    9147741,
                    9181566,
                    9209829,
                    9245310,
                    9316838,
                    9404884,
                    9525529,
                    9596608,
                    9632007,
                    9688616,
                    9776733,
                    9866703,
                    10002246,
                    10150203,
                    10307017,
                    10367256,
                    10454920,
                    10576448,
                    10740424,
                    10933966,
                    11136538,
                    11305315,
                    11416825,
                    11596668,
                    11767669,
                    11994707,
                    12234698,
                    12517791,
                    12757177,
                    12916361,
                    13158120,
                    13031276,
                    13270026,
                    13566604,
                    13874286,
                    14100144,
                    14299571,
                    14576457,
                    14869284,
                    15091266,
                    15376155,
                    15722987,
                    16013263,
                    16238122,
                    16475378,
                    16767402,
                    17025333,
                    17438871,
                    17779224,
                    18087293,
                    18324049,
                    18459822,
                    18626380,
                    18878959,
                    19147212,
                    19448645,
                    19687967,
                    19895029,
                    20000609,
                    20206031,
                    20392714,
                    20597425,
                    20891560,
                    21108602,
                    21271742,
                    21369247,
                    21492454,
                    21668337,
                    21923106,
                    22103245,
                    22299171,
                    22514453,
                    22612618,
                    22803095,
                    23033806,
                    24028097,
                    24241426,
                    23360788,
                    23489048,
                    29995260,
                    30259349,
                    30617196,
                    30967918,
                    31357862,
                    31606757,
                    31855486,
                    32051916,
                    32324679,
                    32681858,
                    33022195,
                    33187537,
                    33284576,
                    33423242,
                    33611383,
                    33907550,
                    34265273,
                    34701962,
                    34944939,
                    35261573,
                    35518546,
                    35772107,
                    36181533,
                    36636727,
                    37178693,
                    37669486,
                    38087450,
                    38397686,
                    38717004,
                    39061851,
                    39427472,
                    39794484,
                    40225938,
                    40534779,
                    40739612,
                    40926499,
                    41115398,
                    41462658,
                    41736053,
                    41997336,
                    42235673,
                    42361402,
                    42533533,
                    42742920,
                    42983832,
                    43265373,
                    43476762,
                    43627340,
                    43712090,
                    43876004,
                    43968935,
                    44145341,
                    44305725,
                    44543295,
                    44610726,
                    44723383,
                    44798110,
                    44838998,
                    44992028,
                    45143934,
                    45272551,
                    45389804,
                    45481861,
                    45469520,
                    45574217,
                    45664492,
                    45820020,
                    45986855,
                    46079582,
                    46170891,
                    46269810,
                    46368853,
                    46592327,
                    46801948,
                    46974469,
                    47104837,
                    47227735,
                    47311464,
                    47341214,
                    47541875,
                    47734866,
                    47945543,
                    48111741,
                    48236459,
                    48253764,
                    48396215,
                    48618247,
                    48812759,
                    49023903,
                    49217501,
                    49326699,
                    49378900,
                    49575538,
                    49840162,
                    50114235,
                    50386454,
                    50619017,
                    50756432,
                    50831128,
                    51021125,
                    51309342,
                    51637536,
                    51902079,
                    52171581,
                    52306271,
                    52452277,
                    52673734,
                    52962153,
                    53317279,
                    53620552,
                    53775597,
                    53973282,
                    54107579,
                    54329843,
                    54516036,
                    54945973,
                    55226883,
                    55493981,
                    55645675,
                    55858260,
                    56138023,
                    56494607,
                    56853753,
                    57191654,
                    57449137,
                    57545816,
                    57693354,
                    57928741,
                    58292298,
                    58542012,
                    58791567,
                    59022921,
                    59201790,
                    59186036,
                    59335105,
                    59628703,
                    59803986,
                    59982126,
                    60083781,
                    60055162,
                    60082177,
                    60218808,
                    60332345,
                    60512460,
                    60634151,
                    60696515,
                    60665359,
                    60647833,
                    60621680,
                    60720293,
                    60742312,
                    60781895,
                    60755226,
                    60625937,
                    60410525,
                    60275348,
                    60235069,
                    59865017,
                    59863330,
                    59813018,
                    59777570,
                    59595454,
                    59537484,
                    59537131,
                    59381388,
                    59314539,
                    59277272
                  ]
                }
              ],
              "layout": {
                "legend": {
                  "bgcolor": "#F5F6F9",
                  "font": {
                    "color": "#4D5663"
                  }
                },
                "paper_bgcolor": "#F5F6F9",
                "plot_bgcolor": "#F5F6F9",
                "template": {
                  "data": {
                    "bar": [
                      {
                        "error_x": {
                          "color": "#2a3f5f"
                        },
                        "error_y": {
                          "color": "#2a3f5f"
                        },
                        "marker": {
                          "line": {
                            "color": "#E5ECF6",
                            "width": 0.5
                          }
                        },
                        "type": "bar"
                      }
                    ],
                    "barpolar": [
                      {
                        "marker": {
                          "line": {
                            "color": "#E5ECF6",
                            "width": 0.5
                          }
                        },
                        "type": "barpolar"
                      }
                    ],
                    "carpet": [
                      {
                        "aaxis": {
                          "endlinecolor": "#2a3f5f",
                          "gridcolor": "white",
                          "linecolor": "white",
                          "minorgridcolor": "white",
                          "startlinecolor": "#2a3f5f"
                        },
                        "baxis": {
                          "endlinecolor": "#2a3f5f",
                          "gridcolor": "white",
                          "linecolor": "white",
                          "minorgridcolor": "white",
                          "startlinecolor": "#2a3f5f"
                        },
                        "type": "carpet"
                      }
                    ],
                    "choropleth": [
                      {
                        "colorbar": {
                          "outlinewidth": 0,
                          "ticks": ""
                        },
                        "type": "choropleth"
                      }
                    ],
                    "contour": [
                      {
                        "colorbar": {
                          "outlinewidth": 0,
                          "ticks": ""
                        },
                        "colorscale": [
                          [
                            0,
                            "#0d0887"
                          ],
                          [
                            0.1111111111111111,
                            "#46039f"
                          ],
                          [
                            0.2222222222222222,
                            "#7201a8"
                          ],
                          [
                            0.3333333333333333,
                            "#9c179e"
                          ],
                          [
                            0.4444444444444444,
                            "#bd3786"
                          ],
                          [
                            0.5555555555555556,
                            "#d8576b"
                          ],
                          [
                            0.6666666666666666,
                            "#ed7953"
                          ],
                          [
                            0.7777777777777778,
                            "#fb9f3a"
                          ],
                          [
                            0.8888888888888888,
                            "#fdca26"
                          ],
                          [
                            1,
                            "#f0f921"
                          ]
                        ],
                        "type": "contour"
                      }
                    ],
                    "contourcarpet": [
                      {
                        "colorbar": {
                          "outlinewidth": 0,
                          "ticks": ""
                        },
                        "type": "contourcarpet"
                      }
                    ],
                    "heatmap": [
                      {
                        "colorbar": {
                          "outlinewidth": 0,
                          "ticks": ""
                        },
                        "colorscale": [
                          [
                            0,
                            "#0d0887"
                          ],
                          [
                            0.1111111111111111,
                            "#46039f"
                          ],
                          [
                            0.2222222222222222,
                            "#7201a8"
                          ],
                          [
                            0.3333333333333333,
                            "#9c179e"
                          ],
                          [
                            0.4444444444444444,
                            "#bd3786"
                          ],
                          [
                            0.5555555555555556,
                            "#d8576b"
                          ],
                          [
                            0.6666666666666666,
                            "#ed7953"
                          ],
                          [
                            0.7777777777777778,
                            "#fb9f3a"
                          ],
                          [
                            0.8888888888888888,
                            "#fdca26"
                          ],
                          [
                            1,
                            "#f0f921"
                          ]
                        ],
                        "type": "heatmap"
                      }
                    ],
                    "heatmapgl": [
                      {
                        "colorbar": {
                          "outlinewidth": 0,
                          "ticks": ""
                        },
                        "colorscale": [
                          [
                            0,
                            "#0d0887"
                          ],
                          [
                            0.1111111111111111,
                            "#46039f"
                          ],
                          [
                            0.2222222222222222,
                            "#7201a8"
                          ],
                          [
                            0.3333333333333333,
                            "#9c179e"
                          ],
                          [
                            0.4444444444444444,
                            "#bd3786"
                          ],
                          [
                            0.5555555555555556,
                            "#d8576b"
                          ],
                          [
                            0.6666666666666666,
                            "#ed7953"
                          ],
                          [
                            0.7777777777777778,
                            "#fb9f3a"
                          ],
                          [
                            0.8888888888888888,
                            "#fdca26"
                          ],
                          [
                            1,
                            "#f0f921"
                          ]
                        ],
                        "type": "heatmapgl"
                      }
                    ],
                    "histogram": [
                      {
                        "marker": {
                          "colorbar": {
                            "outlinewidth": 0,
                            "ticks": ""
                          }
                        },
                        "type": "histogram"
                      }
                    ],
                    "histogram2d": [
                      {
                        "colorbar": {
                          "outlinewidth": 0,
                          "ticks": ""
                        },
                        "colorscale": [
                          [
                            0,
                            "#0d0887"
                          ],
                          [
                            0.1111111111111111,
                            "#46039f"
                          ],
                          [
                            0.2222222222222222,
                            "#7201a8"
                          ],
                          [
                            0.3333333333333333,
                            "#9c179e"
                          ],
                          [
                            0.4444444444444444,
                            "#bd3786"
                          ],
                          [
                            0.5555555555555556,
                            "#d8576b"
                          ],
                          [
                            0.6666666666666666,
                            "#ed7953"
                          ],
                          [
                            0.7777777777777778,
                            "#fb9f3a"
                          ],
                          [
                            0.8888888888888888,
                            "#fdca26"
                          ],
                          [
                            1,
                            "#f0f921"
                          ]
                        ],
                        "type": "histogram2d"
                      }
                    ],
                    "histogram2dcontour": [
                      {
                        "colorbar": {
                          "outlinewidth": 0,
                          "ticks": ""
                        },
                        "colorscale": [
                          [
                            0,
                            "#0d0887"
                          ],
                          [
                            0.1111111111111111,
                            "#46039f"
                          ],
                          [
                            0.2222222222222222,
                            "#7201a8"
                          ],
                          [
                            0.3333333333333333,
                            "#9c179e"
                          ],
                          [
                            0.4444444444444444,
                            "#bd3786"
                          ],
                          [
                            0.5555555555555556,
                            "#d8576b"
                          ],
                          [
                            0.6666666666666666,
                            "#ed7953"
                          ],
                          [
                            0.7777777777777778,
                            "#fb9f3a"
                          ],
                          [
                            0.8888888888888888,
                            "#fdca26"
                          ],
                          [
                            1,
                            "#f0f921"
                          ]
                        ],
                        "type": "histogram2dcontour"
                      }
                    ],
                    "mesh3d": [
                      {
                        "colorbar": {
                          "outlinewidth": 0,
                          "ticks": ""
                        },
                        "type": "mesh3d"
                      }
                    ],
                    "parcoords": [
                      {
                        "line": {
                          "colorbar": {
                            "outlinewidth": 0,
                            "ticks": ""
                          }
                        },
                        "type": "parcoords"
                      }
                    ],
                    "pie": [
                      {
                        "automargin": true,
                        "type": "pie"
                      }
                    ],
                    "scatter": [
                      {
                        "marker": {
                          "colorbar": {
                            "outlinewidth": 0,
                            "ticks": ""
                          }
                        },
                        "type": "scatter"
                      }
                    ],
                    "scatter3d": [
                      {
                        "line": {
                          "colorbar": {
                            "outlinewidth": 0,
                            "ticks": ""
                          }
                        },
                        "marker": {
                          "colorbar": {
                            "outlinewidth": 0,
                            "ticks": ""
                          }
                        },
                        "type": "scatter3d"
                      }
                    ],
                    "scattercarpet": [
                      {
                        "marker": {
                          "colorbar": {
                            "outlinewidth": 0,
                            "ticks": ""
                          }
                        },
                        "type": "scattercarpet"
                      }
                    ],
                    "scattergeo": [
                      {
                        "marker": {
                          "colorbar": {
                            "outlinewidth": 0,
                            "ticks": ""
                          }
                        },
                        "type": "scattergeo"
                      }
                    ],
                    "scattergl": [
                      {
                        "marker": {
                          "colorbar": {
                            "outlinewidth": 0,
                            "ticks": ""
                          }
                        },
                        "type": "scattergl"
                      }
                    ],
                    "scattermapbox": [
                      {
                        "marker": {
                          "colorbar": {
                            "outlinewidth": 0,
                            "ticks": ""
                          }
                        },
                        "type": "scattermapbox"
                      }
                    ],
                    "scatterpolar": [
                      {
                        "marker": {
                          "colorbar": {
                            "outlinewidth": 0,
                            "ticks": ""
                          }
                        },
                        "type": "scatterpolar"
                      }
                    ],
                    "scatterpolargl": [
                      {
                        "marker": {
                          "colorbar": {
                            "outlinewidth": 0,
                            "ticks": ""
                          }
                        },
                        "type": "scatterpolargl"
                      }
                    ],
                    "scatterternary": [
                      {
                        "marker": {
                          "colorbar": {
                            "outlinewidth": 0,
                            "ticks": ""
                          }
                        },
                        "type": "scatterternary"
                      }
                    ],
                    "surface": [
                      {
                        "colorbar": {
                          "outlinewidth": 0,
                          "ticks": ""
                        },
                        "colorscale": [
                          [
                            0,
                            "#0d0887"
                          ],
                          [
                            0.1111111111111111,
                            "#46039f"
                          ],
                          [
                            0.2222222222222222,
                            "#7201a8"
                          ],
                          [
                            0.3333333333333333,
                            "#9c179e"
                          ],
                          [
                            0.4444444444444444,
                            "#bd3786"
                          ],
                          [
                            0.5555555555555556,
                            "#d8576b"
                          ],
                          [
                            0.6666666666666666,
                            "#ed7953"
                          ],
                          [
                            0.7777777777777778,
                            "#fb9f3a"
                          ],
                          [
                            0.8888888888888888,
                            "#fdca26"
                          ],
                          [
                            1,
                            "#f0f921"
                          ]
                        ],
                        "type": "surface"
                      }
                    ],
                    "table": [
                      {
                        "cells": {
                          "fill": {
                            "color": "#EBF0F8"
                          },
                          "line": {
                            "color": "white"
                          }
                        },
                        "header": {
                          "fill": {
                            "color": "#C8D4E3"
                          },
                          "line": {
                            "color": "white"
                          }
                        },
                        "type": "table"
                      }
                    ]
                  },
                  "layout": {
                    "annotationdefaults": {
                      "arrowcolor": "#2a3f5f",
                      "arrowhead": 0,
                      "arrowwidth": 1
                    },
                    "autotypenumbers": "strict",
                    "coloraxis": {
                      "colorbar": {
                        "outlinewidth": 0,
                        "ticks": ""
                      }
                    },
                    "colorscale": {
                      "diverging": [
                        [
                          0,
                          "#8e0152"
                        ],
                        [
                          0.1,
                          "#c51b7d"
                        ],
                        [
                          0.2,
                          "#de77ae"
                        ],
                        [
                          0.3,
                          "#f1b6da"
                        ],
                        [
                          0.4,
                          "#fde0ef"
                        ],
                        [
                          0.5,
                          "#f7f7f7"
                        ],
                        [
                          0.6,
                          "#e6f5d0"
                        ],
                        [
                          0.7,
                          "#b8e186"
                        ],
                        [
                          0.8,
                          "#7fbc41"
                        ],
                        [
                          0.9,
                          "#4d9221"
                        ],
                        [
                          1,
                          "#276419"
                        ]
                      ],
                      "sequential": [
                        [
                          0,
                          "#0d0887"
                        ],
                        [
                          0.1111111111111111,
                          "#46039f"
                        ],
                        [
                          0.2222222222222222,
                          "#7201a8"
                        ],
                        [
                          0.3333333333333333,
                          "#9c179e"
                        ],
                        [
                          0.4444444444444444,
                          "#bd3786"
                        ],
                        [
                          0.5555555555555556,
                          "#d8576b"
                        ],
                        [
                          0.6666666666666666,
                          "#ed7953"
                        ],
                        [
                          0.7777777777777778,
                          "#fb9f3a"
                        ],
                        [
                          0.8888888888888888,
                          "#fdca26"
                        ],
                        [
                          1,
                          "#f0f921"
                        ]
                      ],
                      "sequentialminus": [
                        [
                          0,
                          "#0d0887"
                        ],
                        [
                          0.1111111111111111,
                          "#46039f"
                        ],
                        [
                          0.2222222222222222,
                          "#7201a8"
                        ],
                        [
                          0.3333333333333333,
                          "#9c179e"
                        ],
                        [
                          0.4444444444444444,
                          "#bd3786"
                        ],
                        [
                          0.5555555555555556,
                          "#d8576b"
                        ],
                        [
                          0.6666666666666666,
                          "#ed7953"
                        ],
                        [
                          0.7777777777777778,
                          "#fb9f3a"
                        ],
                        [
                          0.8888888888888888,
                          "#fdca26"
                        ],
                        [
                          1,
                          "#f0f921"
                        ]
                      ]
                    },
                    "colorway": [
                      "#636efa",
                      "#EF553B",
                      "#00cc96",
                      "#ab63fa",
                      "#FFA15A",
                      "#19d3f3",
                      "#FF6692",
                      "#B6E880",
                      "#FF97FF",
                      "#FECB52"
                    ],
                    "font": {
                      "color": "#2a3f5f"
                    },
                    "geo": {
                      "bgcolor": "white",
                      "lakecolor": "white",
                      "landcolor": "#E5ECF6",
                      "showlakes": true,
                      "showland": true,
                      "subunitcolor": "white"
                    },
                    "hoverlabel": {
                      "align": "left"
                    },
                    "hovermode": "closest",
                    "mapbox": {
                      "style": "light"
                    },
                    "paper_bgcolor": "white",
                    "plot_bgcolor": "#E5ECF6",
                    "polar": {
                      "angularaxis": {
                        "gridcolor": "white",
                        "linecolor": "white",
                        "ticks": ""
                      },
                      "bgcolor": "#E5ECF6",
                      "radialaxis": {
                        "gridcolor": "white",
                        "linecolor": "white",
                        "ticks": ""
                      }
                    },
                    "scene": {
                      "xaxis": {
                        "backgroundcolor": "#E5ECF6",
                        "gridcolor": "white",
                        "gridwidth": 2,
                        "linecolor": "white",
                        "showbackground": true,
                        "ticks": "",
                        "zerolinecolor": "white"
                      },
                      "yaxis": {
                        "backgroundcolor": "#E5ECF6",
                        "gridcolor": "white",
                        "gridwidth": 2,
                        "linecolor": "white",
                        "showbackground": true,
                        "ticks": "",
                        "zerolinecolor": "white"
                      },
                      "zaxis": {
                        "backgroundcolor": "#E5ECF6",
                        "gridcolor": "white",
                        "gridwidth": 2,
                        "linecolor": "white",
                        "showbackground": true,
                        "ticks": "",
                        "zerolinecolor": "white"
                      }
                    },
                    "shapedefaults": {
                      "line": {
                        "color": "#2a3f5f"
                      }
                    },
                    "ternary": {
                      "aaxis": {
                        "gridcolor": "white",
                        "linecolor": "white",
                        "ticks": ""
                      },
                      "baxis": {
                        "gridcolor": "white",
                        "linecolor": "white",
                        "ticks": ""
                      },
                      "bgcolor": "#E5ECF6",
                      "caxis": {
                        "gridcolor": "white",
                        "linecolor": "white",
                        "ticks": ""
                      }
                    },
                    "title": {
                      "x": 0.05
                    },
                    "xaxis": {
                      "automargin": true,
                      "gridcolor": "white",
                      "linecolor": "white",
                      "ticks": "",
                      "title": {
                        "standoff": 15
                      },
                      "zerolinecolor": "white",
                      "zerolinewidth": 2
                    },
                    "yaxis": {
                      "automargin": true,
                      "gridcolor": "white",
                      "linecolor": "white",
                      "ticks": "",
                      "title": {
                        "standoff": 15
                      },
                      "zerolinecolor": "white",
                      "zerolinewidth": 2
                    }
                  }
                },
                "title": {
                  "font": {
                    "color": "#4D5663"
                  },
                  "text": "Trend Kasus COVID-19 Secara Global"
                },
                "xaxis": {
                  "gridcolor": "#E1E5ED",
                  "showgrid": true,
                  "tickfont": {
                    "color": "#4D5663"
                  },
                  "title": {
                    "font": {
                      "color": "#4D5663"
                    },
                    "text": "Time"
                  },
                  "zerolinecolor": "#E1E5ED"
                },
                "yaxis": {
                  "gridcolor": "#E1E5ED",
                  "showgrid": true,
                  "tickfont": {
                    "color": "#4D5663"
                  },
                  "title": {
                    "font": {
                      "color": "#4D5663"
                    },
                    "text": "Amount"
                  },
                  "zerolinecolor": "#E1E5ED"
                }
              }
            },
            "text/html": "<div>                            <div id=\"78b0bd8e-3b00-4b7b-ba63-75133886b0ff\" class=\"plotly-graph-div\" style=\"height:525px; width:100%;\"></div>            <script type=\"text/javascript\">                require([\"plotly\"], function(Plotly) {                    window.PLOTLYENV=window.PLOTLYENV || {};\n                    window.PLOTLYENV.BASE_URL='https://plot.ly';                                    if (document.getElementById(\"78b0bd8e-3b00-4b7b-ba63-75133886b0ff\")) {                    Plotly.newPlot(                        \"78b0bd8e-3b00-4b7b-ba63-75133886b0ff\",                        [{\"line\": {\"color\": \"rgba(255, 153, 51, 1.0)\", \"dash\": \"solid\", \"shape\": \"linear\", \"width\": 1.3}, \"mode\": \"lines\", \"name\": \"Confirmed\", \"text\": \"\", \"type\": \"scatter\", \"x\": [\"2020-01-22\", \"2020-01-23\", \"2020-01-24\", \"2020-01-25\", \"2020-01-26\", \"2020-01-27\", \"2020-01-28\", \"2020-01-29\", \"2020-01-30\", \"2020-01-31\", \"2020-02-01\", \"2020-02-02\", \"2020-02-03\", \"2020-02-04\", \"2020-02-05\", \"2020-02-06\", \"2020-02-07\", \"2020-02-08\", \"2020-02-09\", \"2020-02-10\", \"2020-02-11\", \"2020-02-12\", \"2020-02-13\", \"2020-02-14\", \"2020-02-15\", \"2020-02-16\", \"2020-02-17\", \"2020-02-18\", \"2020-02-19\", \"2020-02-20\", \"2020-02-21\", \"2020-02-22\", \"2020-02-23\", \"2020-02-24\", \"2020-02-25\", \"2020-02-26\", \"2020-02-27\", \"2020-02-28\", \"2020-02-29\", \"2020-03-01\", \"2020-03-02\", \"2020-03-03\", \"2020-03-04\", \"2020-03-05\", \"2020-03-06\", \"2020-03-07\", \"2020-03-08\", \"2020-03-09\", \"2020-03-10\", \"2020-03-11\", \"2020-03-12\", \"2020-03-13\", \"2020-03-14\", \"2020-03-15\", \"2020-03-16\", \"2020-03-17\", \"2020-03-18\", \"2020-03-19\", \"2020-03-20\", \"2020-03-21\", \"2020-03-22\", \"2020-03-23\", \"2020-03-24\", \"2020-03-25\", \"2020-03-26\", \"2020-03-27\", \"2020-03-28\", \"2020-03-29\", \"2020-03-30\", \"2020-03-31\", \"2020-04-01\", \"2020-04-02\", \"2020-04-03\", \"2020-04-04\", \"2020-04-05\", \"2020-04-06\", \"2020-04-07\", \"2020-04-08\", \"2020-04-09\", \"2020-04-10\", \"2020-04-11\", \"2020-04-12\", \"2020-04-13\", \"2020-04-14\", \"2020-04-15\", \"2020-04-16\", \"2020-04-17\", \"2020-04-18\", \"2020-04-19\", \"2020-04-20\", \"2020-04-21\", \"2020-04-22\", \"2020-04-23\", \"2020-04-24\", \"2020-04-25\", \"2020-04-26\", \"2020-04-27\", \"2020-04-28\", \"2020-04-29\", \"2020-04-30\", \"2020-05-01\", \"2020-05-02\", \"2020-05-03\", \"2020-05-04\", \"2020-05-05\", \"2020-05-06\", \"2020-05-07\", \"2020-05-08\", \"2020-05-09\", \"2020-05-10\", \"2020-05-11\", \"2020-05-12\", \"2020-05-13\", \"2020-05-14\", \"2020-05-15\", \"2020-05-16\", \"2020-05-17\", \"2020-05-18\", \"2020-05-19\", \"2020-05-20\", \"2020-05-21\", \"2020-05-22\", \"2020-05-23\", \"2020-05-24\", \"2020-05-25\", \"2020-05-26\", \"2020-05-27\", \"2020-05-28\", \"2020-05-29\", \"2020-05-30\", \"2020-05-31\", \"2020-06-01\", \"2020-06-02\", \"2020-06-03\", \"2020-06-04\", \"2020-06-05\", \"2020-06-06\", \"2020-06-07\", \"2020-06-08\", \"2020-06-09\", \"2020-06-10\", \"2020-06-11\", \"2020-06-12\", \"2020-06-13\", \"2020-06-14\", \"2020-06-15\", \"2020-06-16\", \"2020-06-17\", \"2020-06-18\", \"2020-06-19\", \"2020-06-20\", \"2020-06-21\", \"2020-06-22\", \"2020-06-23\", \"2020-06-24\", \"2020-06-25\", \"2020-06-26\", \"2020-06-27\", \"2020-06-28\", \"2020-06-29\", \"2020-06-30\", \"2020-07-01\", \"2020-07-02\", \"2020-07-03\", \"2020-07-04\", \"2020-07-05\", \"2020-07-06\", \"2020-07-07\", \"2020-07-08\", \"2020-07-09\", \"2020-07-10\", \"2020-07-11\", \"2020-07-12\", \"2020-07-13\", \"2020-07-14\", \"2020-07-15\", \"2020-07-16\", \"2020-07-17\", \"2020-07-18\", \"2020-07-19\", \"2020-07-20\", \"2020-07-21\", \"2020-07-22\", \"2020-07-23\", \"2020-07-24\", \"2020-07-25\", \"2020-07-26\", \"2020-07-27\", \"2020-07-28\", \"2020-07-29\", \"2020-07-30\", \"2020-07-31\", \"2020-08-01\", \"2020-08-02\", \"2020-08-03\", \"2020-08-04\", \"2020-08-05\", \"2020-08-06\", \"2020-08-07\", \"2020-08-08\", \"2020-08-09\", \"2020-08-10\", \"2020-08-11\", \"2020-08-12\", \"2020-08-13\", \"2020-08-14\", \"2020-08-15\", \"2020-08-16\", \"2020-08-17\", \"2020-08-18\", \"2020-08-19\", \"2020-08-20\", \"2020-08-21\", \"2020-08-22\", \"2020-08-23\", \"2020-08-24\", \"2020-08-25\", \"2020-08-26\", \"2020-08-27\", \"2020-08-28\", \"2020-08-29\", \"2020-08-30\", \"2020-08-31\", \"2020-09-01\", \"2020-09-02\", \"2020-09-03\", \"2020-09-04\", \"2020-09-05\", \"2020-09-06\", \"2020-09-07\", \"2020-09-08\", \"2020-09-09\", \"2020-09-10\", \"2020-09-11\", \"2020-09-12\", \"2020-09-13\", \"2020-09-14\", \"2020-09-15\", \"2020-09-16\", \"2020-09-17\", \"2020-09-18\", \"2020-09-19\", \"2020-09-20\", \"2020-09-21\", \"2020-09-22\", \"2020-09-23\", \"2020-09-24\", \"2020-09-25\", \"2020-09-26\", \"2020-09-27\", \"2020-09-28\", \"2020-09-29\", \"2020-09-30\", \"2020-10-01\", \"2020-10-02\", \"2020-10-03\", \"2020-10-04\", \"2020-10-05\", \"2020-10-06\", \"2020-10-07\", \"2020-10-08\", \"2020-10-09\", \"2020-10-10\", \"2020-10-11\", \"2020-10-12\", \"2020-10-13\", \"2020-10-14\", \"2020-10-15\", \"2020-10-16\", \"2020-10-17\", \"2020-10-18\", \"2020-10-19\", \"2020-10-20\", \"2020-10-21\", \"2020-10-22\", \"2020-10-23\", \"2020-10-24\", \"2020-10-25\", \"2020-10-26\", \"2020-10-27\", \"2020-10-28\", \"2020-10-29\", \"2020-10-30\", \"2020-10-31\", \"2020-11-01\", \"2020-11-02\", \"2020-11-03\", \"2020-11-04\", \"2020-11-05\", \"2020-11-06\", \"2020-11-07\", \"2020-11-08\", \"2020-11-09\", \"2020-11-10\", \"2020-11-11\", \"2020-11-12\", \"2020-11-13\", \"2020-11-14\", \"2020-11-15\", \"2020-11-16\", \"2020-11-17\", \"2020-11-18\", \"2020-11-19\", \"2020-11-20\", \"2020-11-21\", \"2020-11-22\", \"2020-11-23\", \"2020-11-24\", \"2020-11-25\", \"2020-11-26\", \"2020-11-27\", \"2020-11-28\", \"2020-11-29\", \"2020-11-30\", \"2020-12-01\", \"2020-12-02\", \"2020-12-03\", \"2020-12-04\", \"2020-12-05\", \"2020-12-06\", \"2020-12-07\", \"2020-12-08\", \"2020-12-09\", \"2020-12-10\", \"2020-12-11\", \"2020-12-12\", \"2020-12-13\", \"2020-12-14\", \"2020-12-15\", \"2020-12-16\", \"2020-12-17\", \"2020-12-18\", \"2020-12-19\", \"2020-12-20\", \"2020-12-21\", \"2020-12-22\", \"2020-12-23\", \"2020-12-24\", \"2020-12-25\", \"2020-12-26\", \"2020-12-27\", \"2020-12-28\", \"2020-12-29\", \"2020-12-30\", \"2020-12-31\", \"2021-01-01\", \"2021-01-02\", \"2021-01-03\", \"2021-01-04\", \"2021-01-05\", \"2021-01-06\", \"2021-01-07\", \"2021-01-08\", \"2021-01-09\", \"2021-01-10\", \"2021-01-11\", \"2021-01-12\", \"2021-01-13\", \"2021-01-14\", \"2021-01-15\", \"2021-01-16\", \"2021-01-17\", \"2021-01-18\", \"2021-01-19\", \"2021-01-20\", \"2021-01-21\", \"2021-01-22\", \"2021-01-23\", \"2021-01-24\", \"2021-01-25\", \"2021-01-26\", \"2021-01-27\", \"2021-01-28\", \"2021-01-29\", \"2021-01-30\", \"2021-01-31\", \"2021-02-01\", \"2021-02-02\", \"2021-02-03\", \"2021-02-04\", \"2021-02-05\", \"2021-02-06\", \"2021-02-07\", \"2021-02-08\", \"2021-02-09\", \"2021-02-10\", \"2021-02-11\", \"2021-02-12\", \"2021-02-13\", \"2021-02-14\", \"2021-02-15\", \"2021-02-16\", \"2021-02-17\", \"2021-02-18\", \"2021-02-19\", \"2021-02-20\", \"2021-02-21\", \"2021-02-22\", \"2021-02-23\", \"2021-02-24\", \"2021-02-25\", \"2021-02-26\", \"2021-02-27\", \"2021-02-28\", \"2021-03-01\", \"2021-03-02\", \"2021-03-03\", \"2021-03-04\", \"2021-03-05\", \"2021-03-06\", \"2021-03-07\", \"2021-03-08\", \"2021-03-09\", \"2021-03-10\", \"2021-03-11\", \"2021-03-12\", \"2021-03-13\", \"2021-03-14\", \"2021-03-15\", \"2021-03-16\", \"2021-03-17\", \"2021-03-18\", \"2021-03-19\", \"2021-03-20\", \"2021-03-21\", \"2021-03-22\", \"2021-03-23\", \"2021-03-24\", \"2021-03-25\", \"2021-03-26\", \"2021-03-27\", \"2021-03-28\", \"2021-03-29\", \"2021-03-30\", \"2021-03-31\", \"2021-04-01\", \"2021-04-02\", \"2021-04-03\", \"2021-04-04\", \"2021-04-05\", \"2021-04-06\", \"2021-04-07\", \"2021-04-08\", \"2021-04-09\", \"2021-04-10\", \"2021-04-11\", \"2021-04-12\", \"2021-04-13\", \"2021-04-14\", \"2021-04-15\", \"2021-04-16\", \"2021-04-17\", \"2021-04-18\", \"2021-04-19\", \"2021-04-20\", \"2021-04-21\", \"2021-04-22\", \"2021-04-23\", \"2021-04-24\", \"2021-04-25\", \"2021-04-26\", \"2021-04-27\", \"2021-04-28\", \"2021-04-29\", \"2021-04-30\", \"2021-05-01\", \"2021-05-02\", \"2021-05-03\", \"2021-05-04\", \"2021-05-05\", \"2021-05-06\", \"2021-05-07\", \"2021-05-08\", \"2021-05-09\", \"2021-05-10\", \"2021-05-11\", \"2021-05-12\", \"2021-05-13\", \"2021-05-14\", \"2021-05-15\", \"2021-05-16\", \"2021-05-17\", \"2021-05-18\", \"2021-05-19\", \"2021-05-20\", \"2021-05-21\", \"2021-05-22\", \"2021-05-23\", \"2021-05-24\", \"2021-05-25\", \"2021-05-26\", \"2021-05-27\", \"2021-05-28\", \"2021-05-29\"], \"y\": [557, 655, 941, 1433, 2118, 2927, 5578, 6167, 8235, 9927, 12038, 16787, 19887, 23898, 27643, 30803, 34396, 37130, 40160, 42769, 44811, 45229, 60382, 66909, 69052, 71235, 73270, 75152, 75652, 76212, 76841, 78602, 78982, 79546, 80399, 81376, 82736, 84122, 86013, 88394, 90377, 92971, 95279, 98090, 102003, 106098, 110047, 114219, 119041, 126702, 132492, 146876, 157950, 169219, 184027, 199970, 219535, 246584, 277359, 309350, 344205, 387040, 428219, 479220, 542097, 607138, 674418, 733655, 798949, 875794, 958602, 1041662, 1125221, 1183584, 1256176, 1329331, 1399162, 1482540, 1569554, 1655088, 1729371, 1849067, 1919809, 2003820, 2080934, 2176465, 2264462, 2341702, 2418307, 2494325, 2570074, 2651321, 2735570, 2819666, 2901925, 2973513, 3043705, 3119245, 3196355, 3279850, 3368226, 3447426, 3523799, 3601488, 3681990, 3772018, 3860724, 3951003, 4036226, 4111202, 4187833, 4272324, 4357304, 4453535, 4549267, 4643706, 4721728, 4810895, 4907670, 5009548, 5116192, 5222614, 5327418, 5421629, 5508346, 5602313, 5705075, 5824358, 5945261, 6081776, 6188184, 6284179, 6406143, 6520392, 6651336, 6782559, 6916296, 7028659, 7131156, 7256216, 7391321, 7529341, 7658106, 7793395, 7925679, 8045337, 8187421, 8331167, 8472230, 8652145, 8809593, 8937295, 9076656, 9243465, 9416059, 9594440, 9786037, 9964169, 10128040, 10283387, 10457929, 10675536, 10885481, 11086866, 11280675, 11464678, 11628653, 11840015, 12054174, 12281001, 12513675, 12730157, 12922431, 13113875, 13336063, 13567531, 13818843, 14061585, 14297763, 14511197, 14718313, 14951994, 15231862, 15514716, 15795790, 16049844, 16262880, 16489410, 16742195, 17033923, 17314023, 17604767, 17853105, 18084097, 18290572, 18548514, 18825089, 19110291, 19392530, 19651048, 19875731, 20101760, 20359330, 20635977, 20925193, 21228941, 21476649, 21691119, 21898851, 22157107, 22436697, 22709251, 22970456, 23234707, 23440856, 23666124, 23910125, 24193918, 24477813, 24761440, 25025233, 25246198, 25509089, 25774014, 26057518, 26338937, 26652953, 26922944, 27153409, 27371291, 27613490, 27898312, 28198188, 28519558, 28806136, 29048855, 29312607, 29598069, 29902604, 30217490, 30543411, 30835530, 31087644, 31363730, 31648244, 31924336, 32277373, 32608243, 32896685, 33148076, 33402856, 33685524, 34011734, 34330037, 34627903, 34959947, 35221344, 35522367, 35848886, 36199883, 36561210, 36922107, 37279208, 37566120, 37857886, 38177145, 38559479, 38966463, 39378234, 39750891, 40067454, 40454664, 40843666, 41288556, 41761275, 42258073, 42714857, 43075510, 43561921, 44032154, 44544026, 45094441, 45665496, 46142261, 46604645, 47167772, 47721517, 48233069, 48829627, 49474481, 50071373, 50555347, 51056879, 51616256, 52264862, 52914405, 53566478, 54161448, 54635389, 55169846, 55781066, 56408169, 57061754, 57730498, 58318062, 58806043, 59331362, 59921623, 60557847, 61140322, 61827470, 62413501, 62902084, 63410725, 64022822, 64674220, 65368548, 66051824, 66693987, 67232741, 67752760, 68396288, 69066199, 70564412, 71268909, 71903759, 72434597, 72959984, 73596190, 74329916, 75069498, 75789960, 76401213, 76934686, 77483983, 78134244, 78829366, 79496006, 79961556, 80474158, 80912611, 81408934, 82073362, 82834592, 83559601, 84092619, 84718978, 85251774, 85805892, 86546014, 87329386, 88210223, 89013445, 89774439, 90363573, 90983503, 91689011, 92437399, 93192627, 93959814, 94598958, 95128170, 95643236, 96251662, 96944599, 97600922, 98259983, 98828107, 99273761, 99771101, 100327339, 100925700, 101539951, 102130394, 102645724, 103027363, 103474137, 103932094, 104454075, 104920982, 105456410, 105828535, 106226613, 106542506, 106970539, 107406280, 107847745, 108276434, 108649735, 108943585, 109226751, 109577771, 109973326, 110376842, 110789361, 111159816, 111474262, 111762700, 112151553, 112596489, 113043967, 113487006, 113876236, 114179745, 114485609, 114795897, 115237039, 115690088, 116137142, 116547675, 116915987, 117214710, 117629375, 118096454, 118573350, 119062678, 119516794, 119877179, 120226080, 120699093, 121238378, 121792101, 122353780, 122852600, 123275915, 123692736, 124206981, 124840562, 125491912, 126133263, 126717855, 127187813, 127646218, 128214491, 128897696, 129609483, 130243222, 130772665, 131325468, 131815052, 132419139, 133103485, 133943335, 134691380, 135355887, 136046628, 136663253, 137442820, 138259845, 139076606, 139931461, 140719503, 141404998, 142098420, 142952845, 143842820, 144742575, 145646322, 146467262, 147189618, 147872402, 148716872, 149622864, 150520466, 151399480, 152196159, 152870507, 153552097, 154359533, 155200757, 156070729, 156902287, 157688833, 158330372, 158952301, 159690774, 160450873, 161176148, 161894208, 162521726, 163069932, 163609626, 164231811, 164902903, 165182316, 165808192, 166385987, 166862062, 167316362, 167848207, 168416423, 168970791, 169470725, 169951560]}, {\"line\": {\"color\": \"rgba(55, 128, 191, 1.0)\", \"dash\": \"solid\", \"shape\": \"linear\", \"width\": 1.3}, \"mode\": \"lines\", \"name\": \"Deaths\", \"text\": \"\", \"type\": \"scatter\", \"x\": [\"2020-01-22\", \"2020-01-23\", \"2020-01-24\", \"2020-01-25\", \"2020-01-26\", \"2020-01-27\", \"2020-01-28\", \"2020-01-29\", \"2020-01-30\", \"2020-01-31\", \"2020-02-01\", \"2020-02-02\", \"2020-02-03\", \"2020-02-04\", \"2020-02-05\", \"2020-02-06\", \"2020-02-07\", \"2020-02-08\", \"2020-02-09\", \"2020-02-10\", \"2020-02-11\", \"2020-02-12\", \"2020-02-13\", \"2020-02-14\", \"2020-02-15\", \"2020-02-16\", \"2020-02-17\", \"2020-02-18\", \"2020-02-19\", \"2020-02-20\", \"2020-02-21\", \"2020-02-22\", \"2020-02-23\", \"2020-02-24\", \"2020-02-25\", \"2020-02-26\", \"2020-02-27\", \"2020-02-28\", \"2020-02-29\", \"2020-03-01\", \"2020-03-02\", \"2020-03-03\", \"2020-03-04\", \"2020-03-05\", \"2020-03-06\", \"2020-03-07\", \"2020-03-08\", \"2020-03-09\", \"2020-03-10\", \"2020-03-11\", \"2020-03-12\", \"2020-03-13\", \"2020-03-14\", \"2020-03-15\", \"2020-03-16\", \"2020-03-17\", \"2020-03-18\", \"2020-03-19\", \"2020-03-20\", \"2020-03-21\", \"2020-03-22\", \"2020-03-23\", \"2020-03-24\", \"2020-03-25\", \"2020-03-26\", \"2020-03-27\", \"2020-03-28\", \"2020-03-29\", \"2020-03-30\", \"2020-03-31\", \"2020-04-01\", \"2020-04-02\", \"2020-04-03\", \"2020-04-04\", \"2020-04-05\", \"2020-04-06\", \"2020-04-07\", \"2020-04-08\", \"2020-04-09\", \"2020-04-10\", \"2020-04-11\", \"2020-04-12\", \"2020-04-13\", \"2020-04-14\", \"2020-04-15\", \"2020-04-16\", \"2020-04-17\", \"2020-04-18\", \"2020-04-19\", \"2020-04-20\", \"2020-04-21\", \"2020-04-22\", \"2020-04-23\", \"2020-04-24\", \"2020-04-25\", \"2020-04-26\", \"2020-04-27\", \"2020-04-28\", \"2020-04-29\", \"2020-04-30\", \"2020-05-01\", \"2020-05-02\", \"2020-05-03\", \"2020-05-04\", \"2020-05-05\", \"2020-05-06\", \"2020-05-07\", \"2020-05-08\", \"2020-05-09\", \"2020-05-10\", \"2020-05-11\", \"2020-05-12\", \"2020-05-13\", \"2020-05-14\", \"2020-05-15\", \"2020-05-16\", \"2020-05-17\", \"2020-05-18\", \"2020-05-19\", \"2020-05-20\", \"2020-05-21\", \"2020-05-22\", \"2020-05-23\", \"2020-05-24\", \"2020-05-25\", \"2020-05-26\", \"2020-05-27\", \"2020-05-28\", \"2020-05-29\", \"2020-05-30\", \"2020-05-31\", \"2020-06-01\", \"2020-06-02\", \"2020-06-03\", \"2020-06-04\", \"2020-06-05\", \"2020-06-06\", \"2020-06-07\", \"2020-06-08\", \"2020-06-09\", \"2020-06-10\", \"2020-06-11\", \"2020-06-12\", \"2020-06-13\", \"2020-06-14\", \"2020-06-15\", \"2020-06-16\", \"2020-06-17\", \"2020-06-18\", \"2020-06-19\", \"2020-06-20\", \"2020-06-21\", \"2020-06-22\", \"2020-06-23\", \"2020-06-24\", \"2020-06-25\", \"2020-06-26\", \"2020-06-27\", \"2020-06-28\", \"2020-06-29\", \"2020-06-30\", \"2020-07-01\", \"2020-07-02\", \"2020-07-03\", \"2020-07-04\", \"2020-07-05\", \"2020-07-06\", \"2020-07-07\", \"2020-07-08\", \"2020-07-09\", \"2020-07-10\", \"2020-07-11\", \"2020-07-12\", \"2020-07-13\", \"2020-07-14\", \"2020-07-15\", \"2020-07-16\", \"2020-07-17\", \"2020-07-18\", \"2020-07-19\", \"2020-07-20\", \"2020-07-21\", \"2020-07-22\", \"2020-07-23\", \"2020-07-24\", \"2020-07-25\", \"2020-07-26\", \"2020-07-27\", \"2020-07-28\", \"2020-07-29\", \"2020-07-30\", \"2020-07-31\", \"2020-08-01\", \"2020-08-02\", \"2020-08-03\", \"2020-08-04\", \"2020-08-05\", \"2020-08-06\", \"2020-08-07\", \"2020-08-08\", \"2020-08-09\", \"2020-08-10\", \"2020-08-11\", \"2020-08-12\", \"2020-08-13\", \"2020-08-14\", \"2020-08-15\", \"2020-08-16\", \"2020-08-17\", \"2020-08-18\", \"2020-08-19\", \"2020-08-20\", \"2020-08-21\", \"2020-08-22\", \"2020-08-23\", \"2020-08-24\", \"2020-08-25\", \"2020-08-26\", \"2020-08-27\", \"2020-08-28\", \"2020-08-29\", \"2020-08-30\", \"2020-08-31\", \"2020-09-01\", \"2020-09-02\", \"2020-09-03\", \"2020-09-04\", \"2020-09-05\", \"2020-09-06\", \"2020-09-07\", \"2020-09-08\", \"2020-09-09\", \"2020-09-10\", \"2020-09-11\", \"2020-09-12\", \"2020-09-13\", \"2020-09-14\", \"2020-09-15\", \"2020-09-16\", \"2020-09-17\", \"2020-09-18\", \"2020-09-19\", \"2020-09-20\", \"2020-09-21\", \"2020-09-22\", \"2020-09-23\", \"2020-09-24\", \"2020-09-25\", \"2020-09-26\", \"2020-09-27\", \"2020-09-28\", \"2020-09-29\", \"2020-09-30\", \"2020-10-01\", \"2020-10-02\", \"2020-10-03\", \"2020-10-04\", \"2020-10-05\", \"2020-10-06\", \"2020-10-07\", \"2020-10-08\", \"2020-10-09\", \"2020-10-10\", \"2020-10-11\", \"2020-10-12\", \"2020-10-13\", \"2020-10-14\", \"2020-10-15\", \"2020-10-16\", \"2020-10-17\", \"2020-10-18\", \"2020-10-19\", \"2020-10-20\", \"2020-10-21\", \"2020-10-22\", \"2020-10-23\", \"2020-10-24\", \"2020-10-25\", \"2020-10-26\", \"2020-10-27\", \"2020-10-28\", \"2020-10-29\", \"2020-10-30\", \"2020-10-31\", \"2020-11-01\", \"2020-11-02\", \"2020-11-03\", \"2020-11-04\", \"2020-11-05\", \"2020-11-06\", \"2020-11-07\", \"2020-11-08\", \"2020-11-09\", \"2020-11-10\", \"2020-11-11\", \"2020-11-12\", \"2020-11-13\", \"2020-11-14\", \"2020-11-15\", \"2020-11-16\", \"2020-11-17\", \"2020-11-18\", \"2020-11-19\", \"2020-11-20\", \"2020-11-21\", \"2020-11-22\", \"2020-11-23\", \"2020-11-24\", \"2020-11-25\", \"2020-11-26\", \"2020-11-27\", \"2020-11-28\", \"2020-11-29\", \"2020-11-30\", \"2020-12-01\", \"2020-12-02\", \"2020-12-03\", \"2020-12-04\", \"2020-12-05\", \"2020-12-06\", \"2020-12-07\", \"2020-12-08\", \"2020-12-09\", \"2020-12-10\", \"2020-12-11\", \"2020-12-12\", \"2020-12-13\", \"2020-12-14\", \"2020-12-15\", \"2020-12-16\", \"2020-12-17\", \"2020-12-18\", \"2020-12-19\", \"2020-12-20\", \"2020-12-21\", \"2020-12-22\", \"2020-12-23\", \"2020-12-24\", \"2020-12-25\", \"2020-12-26\", \"2020-12-27\", \"2020-12-28\", \"2020-12-29\", \"2020-12-30\", \"2020-12-31\", \"2021-01-01\", \"2021-01-02\", \"2021-01-03\", \"2021-01-04\", \"2021-01-05\", \"2021-01-06\", \"2021-01-07\", \"2021-01-08\", \"2021-01-09\", \"2021-01-10\", \"2021-01-11\", \"2021-01-12\", \"2021-01-13\", \"2021-01-14\", \"2021-01-15\", \"2021-01-16\", \"2021-01-17\", \"2021-01-18\", \"2021-01-19\", \"2021-01-20\", \"2021-01-21\", \"2021-01-22\", \"2021-01-23\", \"2021-01-24\", \"2021-01-25\", \"2021-01-26\", \"2021-01-27\", \"2021-01-28\", \"2021-01-29\", \"2021-01-30\", \"2021-01-31\", \"2021-02-01\", \"2021-02-02\", \"2021-02-03\", \"2021-02-04\", \"2021-02-05\", \"2021-02-06\", \"2021-02-07\", \"2021-02-08\", \"2021-02-09\", \"2021-02-10\", \"2021-02-11\", \"2021-02-12\", \"2021-02-13\", \"2021-02-14\", \"2021-02-15\", \"2021-02-16\", \"2021-02-17\", \"2021-02-18\", \"2021-02-19\", \"2021-02-20\", \"2021-02-21\", \"2021-02-22\", \"2021-02-23\", \"2021-02-24\", \"2021-02-25\", \"2021-02-26\", \"2021-02-27\", \"2021-02-28\", \"2021-03-01\", \"2021-03-02\", \"2021-03-03\", \"2021-03-04\", \"2021-03-05\", \"2021-03-06\", \"2021-03-07\", \"2021-03-08\", \"2021-03-09\", \"2021-03-10\", \"2021-03-11\", \"2021-03-12\", \"2021-03-13\", \"2021-03-14\", \"2021-03-15\", \"2021-03-16\", \"2021-03-17\", \"2021-03-18\", \"2021-03-19\", \"2021-03-20\", \"2021-03-21\", \"2021-03-22\", \"2021-03-23\", \"2021-03-24\", \"2021-03-25\", \"2021-03-26\", \"2021-03-27\", \"2021-03-28\", \"2021-03-29\", \"2021-03-30\", \"2021-03-31\", \"2021-04-01\", \"2021-04-02\", \"2021-04-03\", \"2021-04-04\", \"2021-04-05\", \"2021-04-06\", \"2021-04-07\", \"2021-04-08\", \"2021-04-09\", \"2021-04-10\", \"2021-04-11\", \"2021-04-12\", \"2021-04-13\", \"2021-04-14\", \"2021-04-15\", \"2021-04-16\", \"2021-04-17\", \"2021-04-18\", \"2021-04-19\", \"2021-04-20\", \"2021-04-21\", \"2021-04-22\", \"2021-04-23\", \"2021-04-24\", \"2021-04-25\", \"2021-04-26\", \"2021-04-27\", \"2021-04-28\", \"2021-04-29\", \"2021-04-30\", \"2021-05-01\", \"2021-05-02\", \"2021-05-03\", \"2021-05-04\", \"2021-05-05\", \"2021-05-06\", \"2021-05-07\", \"2021-05-08\", \"2021-05-09\", \"2021-05-10\", \"2021-05-11\", \"2021-05-12\", \"2021-05-13\", \"2021-05-14\", \"2021-05-15\", \"2021-05-16\", \"2021-05-17\", \"2021-05-18\", \"2021-05-19\", \"2021-05-20\", \"2021-05-21\", \"2021-05-22\", \"2021-05-23\", \"2021-05-24\", \"2021-05-25\", \"2021-05-26\", \"2021-05-27\", \"2021-05-28\", \"2021-05-29\"], \"y\": [17, 18, 26, 42, 56, 82, 131, 133, 171, 213, 259, 362, 426, 492, 564, 634, 719, 806, 906, 1013, 1113, 1118, 1371, 1523, 1666, 1770, 1868, 2008, 2123, 2248, 2252, 2459, 2470, 2630, 2710, 2771, 2814, 2873, 2942, 2996, 3085, 3160, 3255, 3349, 3460, 3564, 3803, 3993, 4267, 4611, 4917, 5414, 5834, 6475, 7153, 7967, 8874, 9985, 11470, 13192, 14878, 16827, 19117, 21927, 24962, 28450, 32180, 35699, 39780, 44528, 50526, 56413, 62574, 68488, 73676, 79614, 87872, 94683, 102467, 109845, 116017, 121876, 127842, 134812, 143285, 150544, 158938, 165083, 170316, 176188, 183461, 190325, 197153, 203923, 209551, 213530, 218276, 224854, 231579, 237421, 242572, 248067, 251578, 255791, 261614, 268119, 273429, 278981, 283206, 286765, 290251, 295736, 300868, 306037, 311258, 315434, 318621, 322384, 327031, 331810, 336469, 341713, 345640, 348656, 349868, 354110, 359166, 363718, 368326, 372350, 375042, 378115, 382792, 388224, 393258, 397836, 401605, 404345, 408047, 412821, 417864, 422504, 426713, 430829, 434229, 437645, 444355, 449502, 454412, 460478, 464587, 468601, 472163, 477380, 482555, 487247, 491995, 496458, 499624, 503302, 508187, 513132, 518207, 523134, 527538, 531027, 534872, 540839, 546114, 551521, 556820, 561638, 565625, 569536, 575133, 580579, 586351, 593019, 598616, 602700, 606911, 613080, 620026, 629914, 635944, 641513, 645226, 650409, 656674, 663281, 669331, 675517, 680972, 685298, 689984, 696514, 703565, 710056, 716344, 721758, 726331, 731683, 737882, 744450, 750664, 760803, 766159, 770423, 774604, 781411, 788138, 794210, 799648, 805146, 809100, 813606, 819892, 826118, 832014, 837543, 842865, 846910, 851087, 857486, 863595, 869279, 875148, 880088, 883934, 893308, 898221, 904326, 910130, 915981, 920862, 924577, 929017, 935443, 941223, 946691, 952359, 957638, 961377, 965479, 971451, 977061, 983715, 989618, 994963, 998650, 1002625, 1008528, 1014992, 1023707, 1028643, 1034007, 1037846, 1044792, 1050568, 1056404, 1062682, 1068832, 1073714, 1077747, 1081730, 1087016, 1093089, 1099204, 1105389, 1110986, 1114528, 1119364, 1125918, 1132548, 1138483, 1145454, 1151271, 1155482, 1160999, 1168371, 1175531, 1182617, 1190216, 1196794, 1201804, 1207908, 1217253, 1227504, 1235518, 1245179, 1252779, 1258654, 1265877, 1275870, 1286321, 1296087, 1305675, 1314757, 1321182, 1329136, 1340207, 1351621, 1362654, 1374541, 1383513, 1390708, 1399234, 1411894, 1424025, 1434913, 1446300, 1455583, 1462743, 1471623, 1484309, 1496898, 1509473, 1521993, 1532282, 1539710, 1548425, 1560705, 1573425, 1586121, 1599149, 1609694, 1617153, 1626325, 1640278, 1653937, 1667388, 1680178, 1690950, 1698865, 1708512, 1722825, 1736628, 1748259, 1756861, 1764260, 1771659, 1781415, 1796581, 1811843, 1825012, 1834675, 1843108, 1850449, 1860598, 1875933, 1890986, 1905926, 1921092, 1933877, 1942225, 1952549, 1969653, 1986359, 2001730, 2016841, 2030089, 2038753, 2048179, 2064762, 2082668, 2099457, 2115478, 2128772, 2137740, 2148508, 2165816, 2182496, 2199547, 2214494, 2228080, 2236070, 2246288, 2261124, 2276852, 2289386, 2305957, 2316094, 2324080, 2332412, 2347949, 2361352, 2374826, 2387299, 2397104, 2403466, 2410360, 2421278, 2432617, 2443987, 2455035, 2463547, 2469427, 2476376, 2487556, 2499559, 2509724, 2519974, 2528114, 2533548, 2540757, 2551191, 2562264, 2572042, 2582059, 2589891, 2595165, 2602025, 2612006, 2621697, 2631464, 2641092, 2649078, 2654577, 2661398, 2671288, 2681413, 2691987, 2702386, 2710432, 2716233, 2723729, 2734835, 2744557, 2755896, 2768118, 2777955, 2784435, 2792398, 2803971, 2816248, 2828123, 2838382, 2846779, 2853709, 2861183, 2873010, 2887858, 2902512, 2915934, 2928349, 2936924, 2946232, 2959574, 2973125, 2986338, 2999175, 3011198, 3019823, 3030332, 3044533, 3058651, 3072396, 3086756, 3100051, 3109724, 3120896, 3135393, 3151122, 3166125, 3180403, 3192977, 3202930, 3214016, 3227921, 3242126, 3256371, 3270109, 3283286, 3293188, 3303957, 3317579, 3331516, 3344655, 3357785, 3369435, 3379526, 3390170, 3404419, 3417763, 3430539, 3443314, 3454660, 3464212, 3473036, 3485788, 3498544, 3511297, 3523117, 3533619]}, {\"line\": {\"color\": \"rgba(50, 171, 96, 1.0)\", \"dash\": \"solid\", \"shape\": \"linear\", \"width\": 1.3}, \"mode\": \"lines\", \"name\": \"Recovered\", \"text\": \"\", \"type\": \"scatter\", \"x\": [\"2020-01-22\", \"2020-01-23\", \"2020-01-24\", \"2020-01-25\", \"2020-01-26\", \"2020-01-27\", \"2020-01-28\", \"2020-01-29\", \"2020-01-30\", \"2020-01-31\", \"2020-02-01\", \"2020-02-02\", \"2020-02-03\", \"2020-02-04\", \"2020-02-05\", \"2020-02-06\", \"2020-02-07\", \"2020-02-08\", \"2020-02-09\", \"2020-02-10\", \"2020-02-11\", \"2020-02-12\", \"2020-02-13\", \"2020-02-14\", \"2020-02-15\", \"2020-02-16\", \"2020-02-17\", \"2020-02-18\", \"2020-02-19\", \"2020-02-20\", \"2020-02-21\", \"2020-02-22\", \"2020-02-23\", \"2020-02-24\", \"2020-02-25\", \"2020-02-26\", \"2020-02-27\", \"2020-02-28\", \"2020-02-29\", \"2020-03-01\", \"2020-03-02\", \"2020-03-03\", \"2020-03-04\", \"2020-03-05\", \"2020-03-06\", \"2020-03-07\", \"2020-03-08\", \"2020-03-09\", \"2020-03-10\", \"2020-03-11\", \"2020-03-12\", \"2020-03-13\", \"2020-03-14\", \"2020-03-15\", \"2020-03-16\", \"2020-03-17\", \"2020-03-18\", \"2020-03-19\", \"2020-03-20\", \"2020-03-21\", \"2020-03-22\", \"2020-03-23\", \"2020-03-24\", \"2020-03-25\", \"2020-03-26\", \"2020-03-27\", \"2020-03-28\", \"2020-03-29\", \"2020-03-30\", \"2020-03-31\", \"2020-04-01\", \"2020-04-02\", \"2020-04-03\", \"2020-04-04\", \"2020-04-05\", \"2020-04-06\", \"2020-04-07\", \"2020-04-08\", \"2020-04-09\", \"2020-04-10\", \"2020-04-11\", \"2020-04-12\", \"2020-04-13\", \"2020-04-14\", \"2020-04-15\", \"2020-04-16\", \"2020-04-17\", \"2020-04-18\", \"2020-04-19\", \"2020-04-20\", \"2020-04-21\", \"2020-04-22\", \"2020-04-23\", \"2020-04-24\", \"2020-04-25\", \"2020-04-26\", \"2020-04-27\", \"2020-04-28\", \"2020-04-29\", \"2020-04-30\", \"2020-05-01\", \"2020-05-02\", \"2020-05-03\", \"2020-05-04\", \"2020-05-05\", \"2020-05-06\", \"2020-05-07\", \"2020-05-08\", \"2020-05-09\", \"2020-05-10\", \"2020-05-11\", \"2020-05-12\", \"2020-05-13\", \"2020-05-14\", \"2020-05-15\", \"2020-05-16\", \"2020-05-17\", \"2020-05-18\", \"2020-05-19\", \"2020-05-20\", \"2020-05-21\", \"2020-05-22\", \"2020-05-23\", \"2020-05-24\", \"2020-05-25\", \"2020-05-26\", \"2020-05-27\", \"2020-05-28\", \"2020-05-29\", \"2020-05-30\", \"2020-05-31\", \"2020-06-01\", \"2020-06-02\", \"2020-06-03\", \"2020-06-04\", \"2020-06-05\", \"2020-06-06\", \"2020-06-07\", \"2020-06-08\", \"2020-06-09\", \"2020-06-10\", \"2020-06-11\", \"2020-06-12\", \"2020-06-13\", \"2020-06-14\", \"2020-06-15\", \"2020-06-16\", \"2020-06-17\", \"2020-06-18\", \"2020-06-19\", \"2020-06-20\", \"2020-06-21\", \"2020-06-22\", \"2020-06-23\", \"2020-06-24\", \"2020-06-25\", \"2020-06-26\", \"2020-06-27\", \"2020-06-28\", \"2020-06-29\", \"2020-06-30\", \"2020-07-01\", \"2020-07-02\", \"2020-07-03\", \"2020-07-04\", \"2020-07-05\", \"2020-07-06\", \"2020-07-07\", \"2020-07-08\", \"2020-07-09\", \"2020-07-10\", \"2020-07-11\", \"2020-07-12\", \"2020-07-13\", \"2020-07-14\", \"2020-07-15\", \"2020-07-16\", \"2020-07-17\", \"2020-07-18\", \"2020-07-19\", \"2020-07-20\", \"2020-07-21\", \"2020-07-22\", \"2020-07-23\", \"2020-07-24\", \"2020-07-25\", \"2020-07-26\", \"2020-07-27\", \"2020-07-28\", \"2020-07-29\", \"2020-07-30\", \"2020-07-31\", \"2020-08-01\", \"2020-08-02\", \"2020-08-03\", \"2020-08-04\", \"2020-08-05\", \"2020-08-06\", \"2020-08-07\", \"2020-08-08\", \"2020-08-09\", \"2020-08-10\", \"2020-08-11\", \"2020-08-12\", \"2020-08-13\", \"2020-08-14\", \"2020-08-15\", \"2020-08-16\", \"2020-08-17\", \"2020-08-18\", \"2020-08-19\", \"2020-08-20\", \"2020-08-21\", \"2020-08-22\", \"2020-08-23\", \"2020-08-24\", \"2020-08-25\", \"2020-08-26\", \"2020-08-27\", \"2020-08-28\", \"2020-08-29\", \"2020-08-30\", \"2020-08-31\", \"2020-09-01\", \"2020-09-02\", \"2020-09-03\", \"2020-09-04\", \"2020-09-05\", \"2020-09-06\", \"2020-09-07\", \"2020-09-08\", \"2020-09-09\", \"2020-09-10\", \"2020-09-11\", \"2020-09-12\", \"2020-09-13\", \"2020-09-14\", \"2020-09-15\", \"2020-09-16\", \"2020-09-17\", \"2020-09-18\", \"2020-09-19\", \"2020-09-20\", \"2020-09-21\", \"2020-09-22\", \"2020-09-23\", \"2020-09-24\", \"2020-09-25\", \"2020-09-26\", \"2020-09-27\", \"2020-09-28\", \"2020-09-29\", \"2020-09-30\", \"2020-10-01\", \"2020-10-02\", \"2020-10-03\", \"2020-10-04\", \"2020-10-05\", \"2020-10-06\", \"2020-10-07\", \"2020-10-08\", \"2020-10-09\", \"2020-10-10\", \"2020-10-11\", \"2020-10-12\", \"2020-10-13\", \"2020-10-14\", \"2020-10-15\", \"2020-10-16\", \"2020-10-17\", \"2020-10-18\", \"2020-10-19\", \"2020-10-20\", \"2020-10-21\", \"2020-10-22\", \"2020-10-23\", \"2020-10-24\", \"2020-10-25\", \"2020-10-26\", \"2020-10-27\", \"2020-10-28\", \"2020-10-29\", \"2020-10-30\", \"2020-10-31\", \"2020-11-01\", \"2020-11-02\", \"2020-11-03\", \"2020-11-04\", \"2020-11-05\", \"2020-11-06\", \"2020-11-07\", \"2020-11-08\", \"2020-11-09\", \"2020-11-10\", \"2020-11-11\", \"2020-11-12\", \"2020-11-13\", \"2020-11-14\", \"2020-11-15\", \"2020-11-16\", \"2020-11-17\", \"2020-11-18\", \"2020-11-19\", \"2020-11-20\", \"2020-11-21\", \"2020-11-22\", \"2020-11-23\", \"2020-11-24\", \"2020-11-25\", \"2020-11-26\", \"2020-11-27\", \"2020-11-28\", \"2020-11-29\", \"2020-11-30\", \"2020-12-01\", \"2020-12-02\", \"2020-12-03\", \"2020-12-04\", \"2020-12-05\", \"2020-12-06\", \"2020-12-07\", \"2020-12-08\", \"2020-12-09\", \"2020-12-10\", \"2020-12-11\", \"2020-12-12\", \"2020-12-13\", \"2020-12-14\", \"2020-12-15\", \"2020-12-16\", \"2020-12-17\", \"2020-12-18\", \"2020-12-19\", \"2020-12-20\", \"2020-12-21\", \"2020-12-22\", \"2020-12-23\", \"2020-12-24\", \"2020-12-25\", \"2020-12-26\", \"2020-12-27\", \"2020-12-28\", \"2020-12-29\", \"2020-12-30\", \"2020-12-31\", \"2021-01-01\", \"2021-01-02\", \"2021-01-03\", \"2021-01-04\", \"2021-01-05\", \"2021-01-06\", \"2021-01-07\", \"2021-01-08\", \"2021-01-09\", \"2021-01-10\", \"2021-01-11\", \"2021-01-12\", \"2021-01-13\", \"2021-01-14\", \"2021-01-15\", \"2021-01-16\", \"2021-01-17\", \"2021-01-18\", \"2021-01-19\", \"2021-01-20\", \"2021-01-21\", \"2021-01-22\", \"2021-01-23\", \"2021-01-24\", \"2021-01-25\", \"2021-01-26\", \"2021-01-27\", \"2021-01-28\", \"2021-01-29\", \"2021-01-30\", \"2021-01-31\", \"2021-02-01\", \"2021-02-02\", \"2021-02-03\", \"2021-02-04\", \"2021-02-05\", \"2021-02-06\", \"2021-02-07\", \"2021-02-08\", \"2021-02-09\", \"2021-02-10\", \"2021-02-11\", \"2021-02-12\", \"2021-02-13\", \"2021-02-14\", \"2021-02-15\", \"2021-02-16\", \"2021-02-17\", \"2021-02-18\", \"2021-02-19\", \"2021-02-20\", \"2021-02-21\", \"2021-02-22\", \"2021-02-23\", \"2021-02-24\", \"2021-02-25\", \"2021-02-26\", \"2021-02-27\", \"2021-02-28\", \"2021-03-01\", \"2021-03-02\", \"2021-03-03\", \"2021-03-04\", \"2021-03-05\", \"2021-03-06\", \"2021-03-07\", \"2021-03-08\", \"2021-03-09\", \"2021-03-10\", \"2021-03-11\", \"2021-03-12\", \"2021-03-13\", \"2021-03-14\", \"2021-03-15\", \"2021-03-16\", \"2021-03-17\", \"2021-03-18\", \"2021-03-19\", \"2021-03-20\", \"2021-03-21\", \"2021-03-22\", \"2021-03-23\", \"2021-03-24\", \"2021-03-25\", \"2021-03-26\", \"2021-03-27\", \"2021-03-28\", \"2021-03-29\", \"2021-03-30\", \"2021-03-31\", \"2021-04-01\", \"2021-04-02\", \"2021-04-03\", \"2021-04-04\", \"2021-04-05\", \"2021-04-06\", \"2021-04-07\", \"2021-04-08\", \"2021-04-09\", \"2021-04-10\", \"2021-04-11\", \"2021-04-12\", \"2021-04-13\", \"2021-04-14\", \"2021-04-15\", \"2021-04-16\", \"2021-04-17\", \"2021-04-18\", \"2021-04-19\", \"2021-04-20\", \"2021-04-21\", \"2021-04-22\", \"2021-04-23\", \"2021-04-24\", \"2021-04-25\", \"2021-04-26\", \"2021-04-27\", \"2021-04-28\", \"2021-04-29\", \"2021-04-30\", \"2021-05-01\", \"2021-05-02\", \"2021-05-03\", \"2021-05-04\", \"2021-05-05\", \"2021-05-06\", \"2021-05-07\", \"2021-05-08\", \"2021-05-09\", \"2021-05-10\", \"2021-05-11\", \"2021-05-12\", \"2021-05-13\", \"2021-05-14\", \"2021-05-15\", \"2021-05-16\", \"2021-05-17\", \"2021-05-18\", \"2021-05-19\", \"2021-05-20\", \"2021-05-21\", \"2021-05-22\", \"2021-05-23\", \"2021-05-24\", \"2021-05-25\", \"2021-05-26\", \"2021-05-27\", \"2021-05-28\", \"2021-05-29\"], \"y\": [30, 32, 39, 42, 56, 65, 108, 127, 145, 225, 287, 476, 627, 857, 1129, 1492, 2016, 2616, 3245, 3947, 4684, 5151, 6294, 8057, 9396, 10866, 12583, 14352, 16121, 18179, 18892, 22889, 23394, 25227, 27905, 30386, 33278, 36710, 39781, 42717, 45601, 48227, 51169, 53795, 55863, 58357, 60694, 62493, 64400, 66998, 68321, 70248, 72620, 76031, 78086, 80830, 83317, 84958, 87403, 91650, 97867, 98335, 107974, 113753, 122125, 130910, 139421, 148877, 164214, 177804, 193076, 210219, 225641, 246053, 259889, 276598, 299860, 328742, 353996, 375734, 401984, 421367, 448624, 473698, 510237, 541120, 567304, 591170, 622953, 645131, 679933, 710018, 738748, 788777, 816532, 845344, 873228, 906440, 948517, 1013633, 1051790, 1092441, 1124974, 1159060, 1195533, 1241652, 1281177, 1317590, 1371031, 1404840, 1451725, 1488767, 1544639, 1584350, 1632453, 1688864, 1729872, 1782788, 1834840, 1893810, 1945030, 2053577, 2108411, 2163938, 2227667, 2282819, 2346146, 2413009, 2490274, 2560724, 2637108, 2692033, 2796145, 2875236, 2945306, 3014471, 3086675, 3141784, 3293395, 3375665, 3454836, 3540715, 3620435, 3706327, 3777146, 3857421, 3955284, 4074115, 4155278, 4250268, 4366122, 4434808, 4526441, 4630496, 4746247, 4839131, 4945111, 5051397, 5140600, 5235171, 5352511, 5468425, 5753359, 5863247, 6059007, 6178370, 6302069, 6447102, 6605158, 6739776, 6879222, 7004914, 7116750, 7257073, 7399325, 7559131, 7711616, 7895037, 8045824, 8133882, 8293010, 8467706, 8647438, 8823668, 9051968, 9271780, 9415081, 9586464, 9756922, 9959508, 10173027, 10372633, 10553544, 10692268, 10914713, 11138370, 11360065, 11548872, 11740918, 11941162, 12119940, 12284151, 12589219, 12829864, 12993780, 13277022, 13445626, 13678580, 13889592, 14117187, 14335184, 14542974, 14711468, 14921385, 15137916, 15337337, 15568886, 15794620, 16001857, 16200975, 16412388, 16622628, 16823418, 17081380, 17300617, 17521986, 17735487, 17936475, 18148266, 18345814, 18547611, 18787878, 19004539, 19228209, 19451143, 19638991, 19867490, 20093777, 20323254, 20543465, 20794614, 21031599, 21268676, 21514154, 21733547, 21996960, 22252630, 22491838, 22753981, 22967860, 23190402, 23431686, 23679904, 23901446, 24073731, 24329332, 24551491, 24788959, 25021585, 25276776, 25496282, 25703072, 25898477, 26121117, 26321236, 26513681, 26725966, 26933293, 27136307, 27334590, 27536101, 27738632, 27950079, 28161301, 28388094, 28594828, 28806409, 29003667, 29242802, 29832507, 30098469, 30345220, 30600994, 30845323, 31103270, 31383407, 31634980, 31914299, 32217954, 32506315, 32805331, 33058571, 33315624, 33572984, 33953208, 34179447, 34481579, 34759398, 34990158, 35380888, 35814479, 36177589, 36551888, 36907312, 37246582, 37520306, 37931519, 38303698, 38741108, 39107984, 39489610, 39849316, 40167599, 40569855, 41046059, 41508985, 41935969, 42426586, 42862534, 43178578, 43591717, 44032488, 44458968, 44950194, 45428334, 46933277, 47328396, 41338399, 41696563, 42058783, 42434192, 42751920, 43103506, 43380335, 43723555, 44086740, 44410880, 44725552, 45017158, 45425322, 45717710, 46016136, 46369231, 46757476, 47032627, 47313005, 47614297, 47882779, 48173187, 48488548, 48801673, 49125604, 49422867, 49753112, 50023662, 50313950, 50657507, 51023568, 51396413, 51717035, 52034090, 52349805, 52668558, 53071502, 53399273, 53765412, 54147169, 54463662, 54774619, 55089060, 55418603, 55759372, 56075031, 56439138, 56790304, 57079203, 57351845, 57702035, 58031882, 58325871, 58607158, 58901715, 59179150, 59411984, 59783592, 60052900, 60328985, 60616584, 60862827, 61058258, 61346871, 61582276, 61876217, 62112835, 62347471, 62616687, 62833944, 63016514, 63295144, 63504603, 63732295, 63992563, 64243285, 64418462, 64633388, 64903492, 65132900, 65383180, 65609540, 65846043, 66084363, 66358921, 66621154, 66856510, 67129127, 67397683, 67650215, 67895903, 68185782, 68452267, 68716803, 68985879, 69264940, 69523151, 69803250, 70137879, 70451021, 70786663, 71098480, 71463066, 71768319, 72097107, 72401543, 72736786, 73119295, 73464081, 73784288, 74150289, 74498477, 74846290, 75216286, 75699591, 76094850, 76548563, 76933557, 77464029, 77858761, 78345223, 78792113, 79236515, 79740632, 80259168, 80839359, 81374734, 81979571, 82491871, 83128167, 83767999, 84344290, 84878104, 85565470, 86246374, 86843039, 87550355, 88236951, 88919401, 89612415, 90255904, 90912804, 91626286, 92301898, 92998027, 93709032, 94371825, 95000511, 95751515, 96399064, 97089181, 97754528, 98397065, 99064469, 99808931, 100552044, 101250071, 101886760, 102501548, 103118309, 103620280, 104247872, 104824935, 105380748, 106078106, 106633069, 107140669]}, {\"line\": {\"color\": \"rgba(128, 0, 128, 1.0)\", \"dash\": \"solid\", \"shape\": \"linear\", \"width\": 1.3}, \"mode\": \"lines\", \"name\": \"Active\", \"text\": \"\", \"type\": \"scatter\", \"x\": [\"2020-01-22\", \"2020-01-23\", \"2020-01-24\", \"2020-01-25\", \"2020-01-26\", \"2020-01-27\", \"2020-01-28\", \"2020-01-29\", \"2020-01-30\", \"2020-01-31\", \"2020-02-01\", \"2020-02-02\", \"2020-02-03\", \"2020-02-04\", \"2020-02-05\", \"2020-02-06\", \"2020-02-07\", \"2020-02-08\", \"2020-02-09\", \"2020-02-10\", \"2020-02-11\", \"2020-02-12\", \"2020-02-13\", \"2020-02-14\", \"2020-02-15\", \"2020-02-16\", \"2020-02-17\", \"2020-02-18\", \"2020-02-19\", \"2020-02-20\", \"2020-02-21\", \"2020-02-22\", \"2020-02-23\", \"2020-02-24\", \"2020-02-25\", \"2020-02-26\", \"2020-02-27\", \"2020-02-28\", \"2020-02-29\", \"2020-03-01\", \"2020-03-02\", \"2020-03-03\", \"2020-03-04\", \"2020-03-05\", \"2020-03-06\", \"2020-03-07\", \"2020-03-08\", \"2020-03-09\", \"2020-03-10\", \"2020-03-11\", \"2020-03-12\", \"2020-03-13\", \"2020-03-14\", \"2020-03-15\", \"2020-03-16\", \"2020-03-17\", \"2020-03-18\", \"2020-03-19\", \"2020-03-20\", \"2020-03-21\", \"2020-03-22\", \"2020-03-23\", \"2020-03-24\", \"2020-03-25\", \"2020-03-26\", \"2020-03-27\", \"2020-03-28\", \"2020-03-29\", \"2020-03-30\", \"2020-03-31\", \"2020-04-01\", \"2020-04-02\", \"2020-04-03\", \"2020-04-04\", \"2020-04-05\", \"2020-04-06\", \"2020-04-07\", \"2020-04-08\", \"2020-04-09\", \"2020-04-10\", \"2020-04-11\", \"2020-04-12\", \"2020-04-13\", \"2020-04-14\", \"2020-04-15\", \"2020-04-16\", \"2020-04-17\", \"2020-04-18\", \"2020-04-19\", \"2020-04-20\", \"2020-04-21\", \"2020-04-22\", \"2020-04-23\", \"2020-04-24\", \"2020-04-25\", \"2020-04-26\", \"2020-04-27\", \"2020-04-28\", \"2020-04-29\", \"2020-04-30\", \"2020-05-01\", \"2020-05-02\", \"2020-05-03\", \"2020-05-04\", \"2020-05-05\", \"2020-05-06\", \"2020-05-07\", \"2020-05-08\", \"2020-05-09\", \"2020-05-10\", \"2020-05-11\", \"2020-05-12\", \"2020-05-13\", \"2020-05-14\", \"2020-05-15\", \"2020-05-16\", \"2020-05-17\", \"2020-05-18\", \"2020-05-19\", \"2020-05-20\", \"2020-05-21\", \"2020-05-22\", \"2020-05-23\", \"2020-05-24\", \"2020-05-25\", \"2020-05-26\", \"2020-05-27\", \"2020-05-28\", \"2020-05-29\", \"2020-05-30\", \"2020-05-31\", \"2020-06-01\", \"2020-06-02\", \"2020-06-03\", \"2020-06-04\", \"2020-06-05\", \"2020-06-06\", \"2020-06-07\", \"2020-06-08\", \"2020-06-09\", \"2020-06-10\", \"2020-06-11\", \"2020-06-12\", \"2020-06-13\", \"2020-06-14\", \"2020-06-15\", \"2020-06-16\", \"2020-06-17\", \"2020-06-18\", \"2020-06-19\", \"2020-06-20\", \"2020-06-21\", \"2020-06-22\", \"2020-06-23\", \"2020-06-24\", \"2020-06-25\", \"2020-06-26\", \"2020-06-27\", \"2020-06-28\", \"2020-06-29\", \"2020-06-30\", \"2020-07-01\", \"2020-07-02\", \"2020-07-03\", \"2020-07-04\", \"2020-07-05\", \"2020-07-06\", \"2020-07-07\", \"2020-07-08\", \"2020-07-09\", \"2020-07-10\", \"2020-07-11\", \"2020-07-12\", \"2020-07-13\", \"2020-07-14\", \"2020-07-15\", \"2020-07-16\", \"2020-07-17\", \"2020-07-18\", \"2020-07-19\", \"2020-07-20\", \"2020-07-21\", \"2020-07-22\", \"2020-07-23\", \"2020-07-24\", \"2020-07-25\", \"2020-07-26\", \"2020-07-27\", \"2020-07-28\", \"2020-07-29\", \"2020-07-30\", \"2020-07-31\", \"2020-08-01\", \"2020-08-02\", \"2020-08-03\", \"2020-08-04\", \"2020-08-05\", \"2020-08-06\", \"2020-08-07\", \"2020-08-08\", \"2020-08-09\", \"2020-08-10\", \"2020-08-11\", \"2020-08-12\", \"2020-08-13\", \"2020-08-14\", \"2020-08-15\", \"2020-08-16\", \"2020-08-17\", \"2020-08-18\", \"2020-08-19\", \"2020-08-20\", \"2020-08-21\", \"2020-08-22\", \"2020-08-23\", \"2020-08-24\", \"2020-08-25\", \"2020-08-26\", \"2020-08-27\", \"2020-08-28\", \"2020-08-29\", \"2020-08-30\", \"2020-08-31\", \"2020-09-01\", \"2020-09-02\", \"2020-09-03\", \"2020-09-04\", \"2020-09-05\", \"2020-09-06\", \"2020-09-07\", \"2020-09-08\", \"2020-09-09\", \"2020-09-10\", \"2020-09-11\", \"2020-09-12\", \"2020-09-13\", \"2020-09-14\", \"2020-09-15\", \"2020-09-16\", \"2020-09-17\", \"2020-09-18\", \"2020-09-19\", \"2020-09-20\", \"2020-09-21\", \"2020-09-22\", \"2020-09-23\", \"2020-09-24\", \"2020-09-25\", \"2020-09-26\", \"2020-09-27\", \"2020-09-28\", \"2020-09-29\", \"2020-09-30\", \"2020-10-01\", \"2020-10-02\", \"2020-10-03\", \"2020-10-04\", \"2020-10-05\", \"2020-10-06\", \"2020-10-07\", \"2020-10-08\", \"2020-10-09\", \"2020-10-10\", \"2020-10-11\", \"2020-10-12\", \"2020-10-13\", \"2020-10-14\", \"2020-10-15\", \"2020-10-16\", \"2020-10-17\", \"2020-10-18\", \"2020-10-19\", \"2020-10-20\", \"2020-10-21\", \"2020-10-22\", \"2020-10-23\", \"2020-10-24\", \"2020-10-25\", \"2020-10-26\", \"2020-10-27\", \"2020-10-28\", \"2020-10-29\", \"2020-10-30\", \"2020-10-31\", \"2020-11-01\", \"2020-11-02\", \"2020-11-03\", \"2020-11-04\", \"2020-11-05\", \"2020-11-06\", \"2020-11-07\", \"2020-11-08\", \"2020-11-09\", \"2020-11-10\", \"2020-11-11\", \"2020-11-12\", \"2020-11-13\", \"2020-11-14\", \"2020-11-15\", \"2020-11-16\", \"2020-11-17\", \"2020-11-18\", \"2020-11-19\", \"2020-11-20\", \"2020-11-21\", \"2020-11-22\", \"2020-11-23\", \"2020-11-24\", \"2020-11-25\", \"2020-11-26\", \"2020-11-27\", \"2020-11-28\", \"2020-11-29\", \"2020-11-30\", \"2020-12-01\", \"2020-12-02\", \"2020-12-03\", \"2020-12-04\", \"2020-12-05\", \"2020-12-06\", \"2020-12-07\", \"2020-12-08\", \"2020-12-09\", \"2020-12-10\", \"2020-12-11\", \"2020-12-12\", \"2020-12-13\", \"2020-12-14\", \"2020-12-15\", \"2020-12-16\", \"2020-12-17\", \"2020-12-18\", \"2020-12-19\", \"2020-12-20\", \"2020-12-21\", \"2020-12-22\", \"2020-12-23\", \"2020-12-24\", \"2020-12-25\", \"2020-12-26\", \"2020-12-27\", \"2020-12-28\", \"2020-12-29\", \"2020-12-30\", \"2020-12-31\", \"2021-01-01\", \"2021-01-02\", \"2021-01-03\", \"2021-01-04\", \"2021-01-05\", \"2021-01-06\", \"2021-01-07\", \"2021-01-08\", \"2021-01-09\", \"2021-01-10\", \"2021-01-11\", \"2021-01-12\", \"2021-01-13\", \"2021-01-14\", \"2021-01-15\", \"2021-01-16\", \"2021-01-17\", \"2021-01-18\", \"2021-01-19\", \"2021-01-20\", \"2021-01-21\", \"2021-01-22\", \"2021-01-23\", \"2021-01-24\", \"2021-01-25\", \"2021-01-26\", \"2021-01-27\", \"2021-01-28\", \"2021-01-29\", \"2021-01-30\", \"2021-01-31\", \"2021-02-01\", \"2021-02-02\", \"2021-02-03\", \"2021-02-04\", \"2021-02-05\", \"2021-02-06\", \"2021-02-07\", \"2021-02-08\", \"2021-02-09\", \"2021-02-10\", \"2021-02-11\", \"2021-02-12\", \"2021-02-13\", \"2021-02-14\", \"2021-02-15\", \"2021-02-16\", \"2021-02-17\", \"2021-02-18\", \"2021-02-19\", \"2021-02-20\", \"2021-02-21\", \"2021-02-22\", \"2021-02-23\", \"2021-02-24\", \"2021-02-25\", \"2021-02-26\", \"2021-02-27\", \"2021-02-28\", \"2021-03-01\", \"2021-03-02\", \"2021-03-03\", \"2021-03-04\", \"2021-03-05\", \"2021-03-06\", \"2021-03-07\", \"2021-03-08\", \"2021-03-09\", \"2021-03-10\", \"2021-03-11\", \"2021-03-12\", \"2021-03-13\", \"2021-03-14\", \"2021-03-15\", \"2021-03-16\", \"2021-03-17\", \"2021-03-18\", \"2021-03-19\", \"2021-03-20\", \"2021-03-21\", \"2021-03-22\", \"2021-03-23\", \"2021-03-24\", \"2021-03-25\", \"2021-03-26\", \"2021-03-27\", \"2021-03-28\", \"2021-03-29\", \"2021-03-30\", \"2021-03-31\", \"2021-04-01\", \"2021-04-02\", \"2021-04-03\", \"2021-04-04\", \"2021-04-05\", \"2021-04-06\", \"2021-04-07\", \"2021-04-08\", \"2021-04-09\", \"2021-04-10\", \"2021-04-11\", \"2021-04-12\", \"2021-04-13\", \"2021-04-14\", \"2021-04-15\", \"2021-04-16\", \"2021-04-17\", \"2021-04-18\", \"2021-04-19\", \"2021-04-20\", \"2021-04-21\", \"2021-04-22\", \"2021-04-23\", \"2021-04-24\", \"2021-04-25\", \"2021-04-26\", \"2021-04-27\", \"2021-04-28\", \"2021-04-29\", \"2021-04-30\", \"2021-05-01\", \"2021-05-02\", \"2021-05-03\", \"2021-05-04\", \"2021-05-05\", \"2021-05-06\", \"2021-05-07\", \"2021-05-08\", \"2021-05-09\", \"2021-05-10\", \"2021-05-11\", \"2021-05-12\", \"2021-05-13\", \"2021-05-14\", \"2021-05-15\", \"2021-05-16\", \"2021-05-17\", \"2021-05-18\", \"2021-05-19\", \"2021-05-20\", \"2021-05-21\", \"2021-05-22\", \"2021-05-23\", \"2021-05-24\", \"2021-05-25\", \"2021-05-26\", \"2021-05-27\", \"2021-05-28\", \"2021-05-29\"], \"y\": [510, 605, 876, 1349, 2006, 2780, 5339, 5907, 7919, 9489, 11492, 15949, 18834, 22549, 25950, 28677, 31661, 33708, 36009, 37809, 39014, 38960, 52717, 57329, 57990, 58599, 58819, 58792, 57408, 55785, 55697, 53254, 53118, 51689, 49784, 48219, 46644, 44539, 43290, 42681, 41691, 41584, 40855, 40946, 42680, 44177, 45550, 47733, 50374, 55093, 59254, 71214, 79496, 86713, 98788, 111173, 127344, 151641, 178486, 204508, 231460, 271878, 301128, 343540, 395010, 447778, 502817, 549079, 594955, 653462, 715000, 775030, 837006, 869043, 922611, 973119, 1011430, 1059115, 1113091, 1169509, 1211370, 1305824, 1343343, 1395310, 1427412, 1484801, 1538220, 1585449, 1625038, 1673006, 1706680, 1750978, 1799669, 1826966, 1875842, 1914639, 1952201, 1987951, 2016259, 2028796, 2073864, 2106918, 2147247, 2186637, 2224843, 2262247, 2306118, 2354432, 2381989, 2419597, 2445857, 2487821, 2511797, 2563148, 2605556, 2639408, 2673235, 2705723, 2745799, 2783928, 2834693, 2827324, 2873367, 2909035, 2930811, 2965384, 2999763, 3047631, 3086661, 3148702, 3176034, 3214031, 3227206, 3256932, 3312772, 3370252, 3428016, 3482530, 3429714, 3467730, 3518621, 3566122, 3610958, 3656239, 3714304, 3750271, 3787782, 3807550, 3862540, 3941399, 3978884, 4033886, 4078052, 4135589, 4187257, 4268062, 4348931, 4416314, 4487816, 4544914, 4597231, 4693979, 4613915, 4700485, 4694130, 4755281, 4791712, 4852074, 4902902, 4989704, 5077633, 5163605, 5240056, 5287266, 5361605, 5427821, 5520876, 5573529, 5653323, 5774615, 5818392, 5871208, 5964398, 6061134, 6107878, 6136551, 6202573, 6252537, 6328599, 6411134, 6471665, 6556617, 6618589, 6706531, 6685875, 6713630, 6761459, 6851363, 6935268, 6988128, 7029460, 7085926, 7032229, 7061663, 7180749, 7191116, 7264864, 7242116, 7234655, 7258509, 7313375, 7372067, 7459340, 7508176, 7493840, 7515181, 7521347, 7573180, 7643942, 7722922, 7769980, 7776660, 7834584, 7835148, 7893306, 7947672, 8042318, 8106381, 8121209, 8132169, 8167658, 8206108, 8283519, 8375368, 8434131, 8485287, 8516100, 8568849, 8638127, 8727334, 8796438, 8846293, 8857591, 8884097, 8943246, 8950315, 9041028, 9126787, 9147741, 9181566, 9209829, 9245310, 9316838, 9404884, 9525529, 9596608, 9632007, 9688616, 9776733, 9866703, 10002246, 10150203, 10307017, 10367256, 10454920, 10576448, 10740424, 10933966, 11136538, 11305315, 11416825, 11596668, 11767669, 11994707, 12234698, 12517791, 12757177, 12916361, 13158120, 13031276, 13270026, 13566604, 13874286, 14100144, 14299571, 14576457, 14869284, 15091266, 15376155, 15722987, 16013263, 16238122, 16475378, 16767402, 17025333, 17438871, 17779224, 18087293, 18324049, 18459822, 18626380, 18878959, 19147212, 19448645, 19687967, 19895029, 20000609, 20206031, 20392714, 20597425, 20891560, 21108602, 21271742, 21369247, 21492454, 21668337, 21923106, 22103245, 22299171, 22514453, 22612618, 22803095, 23033806, 24028097, 24241426, 23360788, 23489048, 29995260, 30259349, 30617196, 30967918, 31357862, 31606757, 31855486, 32051916, 32324679, 32681858, 33022195, 33187537, 33284576, 33423242, 33611383, 33907550, 34265273, 34701962, 34944939, 35261573, 35518546, 35772107, 36181533, 36636727, 37178693, 37669486, 38087450, 38397686, 38717004, 39061851, 39427472, 39794484, 40225938, 40534779, 40739612, 40926499, 41115398, 41462658, 41736053, 41997336, 42235673, 42361402, 42533533, 42742920, 42983832, 43265373, 43476762, 43627340, 43712090, 43876004, 43968935, 44145341, 44305725, 44543295, 44610726, 44723383, 44798110, 44838998, 44992028, 45143934, 45272551, 45389804, 45481861, 45469520, 45574217, 45664492, 45820020, 45986855, 46079582, 46170891, 46269810, 46368853, 46592327, 46801948, 46974469, 47104837, 47227735, 47311464, 47341214, 47541875, 47734866, 47945543, 48111741, 48236459, 48253764, 48396215, 48618247, 48812759, 49023903, 49217501, 49326699, 49378900, 49575538, 49840162, 50114235, 50386454, 50619017, 50756432, 50831128, 51021125, 51309342, 51637536, 51902079, 52171581, 52306271, 52452277, 52673734, 52962153, 53317279, 53620552, 53775597, 53973282, 54107579, 54329843, 54516036, 54945973, 55226883, 55493981, 55645675, 55858260, 56138023, 56494607, 56853753, 57191654, 57449137, 57545816, 57693354, 57928741, 58292298, 58542012, 58791567, 59022921, 59201790, 59186036, 59335105, 59628703, 59803986, 59982126, 60083781, 60055162, 60082177, 60218808, 60332345, 60512460, 60634151, 60696515, 60665359, 60647833, 60621680, 60720293, 60742312, 60781895, 60755226, 60625937, 60410525, 60275348, 60235069, 59865017, 59863330, 59813018, 59777570, 59595454, 59537484, 59537131, 59381388, 59314539, 59277272]}],                        {\"legend\": {\"bgcolor\": \"#F5F6F9\", \"font\": {\"color\": \"#4D5663\"}}, \"paper_bgcolor\": \"#F5F6F9\", \"plot_bgcolor\": \"#F5F6F9\", \"template\": {\"data\": {\"bar\": [{\"error_x\": {\"color\": \"#2a3f5f\"}, \"error_y\": {\"color\": \"#2a3f5f\"}, \"marker\": {\"line\": {\"color\": \"#E5ECF6\", \"width\": 0.5}}, \"type\": \"bar\"}], \"barpolar\": [{\"marker\": {\"line\": {\"color\": \"#E5ECF6\", \"width\": 0.5}}, \"type\": \"barpolar\"}], \"carpet\": [{\"aaxis\": {\"endlinecolor\": \"#2a3f5f\", \"gridcolor\": \"white\", \"linecolor\": \"white\", \"minorgridcolor\": \"white\", \"startlinecolor\": \"#2a3f5f\"}, \"baxis\": {\"endlinecolor\": \"#2a3f5f\", \"gridcolor\": \"white\", \"linecolor\": \"white\", \"minorgridcolor\": \"white\", \"startlinecolor\": \"#2a3f5f\"}, \"type\": \"carpet\"}], \"choropleth\": [{\"colorbar\": {\"outlinewidth\": 0, \"ticks\": \"\"}, \"type\": \"choropleth\"}], \"contour\": [{\"colorbar\": {\"outlinewidth\": 0, \"ticks\": \"\"}, \"colorscale\": [[0.0, \"#0d0887\"], [0.1111111111111111, \"#46039f\"], [0.2222222222222222, \"#7201a8\"], [0.3333333333333333, \"#9c179e\"], [0.4444444444444444, \"#bd3786\"], [0.5555555555555556, \"#d8576b\"], [0.6666666666666666, \"#ed7953\"], [0.7777777777777778, \"#fb9f3a\"], [0.8888888888888888, \"#fdca26\"], [1.0, \"#f0f921\"]], \"type\": \"contour\"}], \"contourcarpet\": [{\"colorbar\": {\"outlinewidth\": 0, \"ticks\": \"\"}, \"type\": \"contourcarpet\"}], \"heatmap\": [{\"colorbar\": {\"outlinewidth\": 0, \"ticks\": \"\"}, \"colorscale\": [[0.0, \"#0d0887\"], [0.1111111111111111, \"#46039f\"], [0.2222222222222222, \"#7201a8\"], [0.3333333333333333, \"#9c179e\"], [0.4444444444444444, \"#bd3786\"], [0.5555555555555556, \"#d8576b\"], [0.6666666666666666, \"#ed7953\"], [0.7777777777777778, \"#fb9f3a\"], [0.8888888888888888, \"#fdca26\"], [1.0, \"#f0f921\"]], \"type\": \"heatmap\"}], \"heatmapgl\": [{\"colorbar\": {\"outlinewidth\": 0, \"ticks\": \"\"}, \"colorscale\": [[0.0, \"#0d0887\"], [0.1111111111111111, \"#46039f\"], [0.2222222222222222, \"#7201a8\"], [0.3333333333333333, \"#9c179e\"], [0.4444444444444444, \"#bd3786\"], [0.5555555555555556, \"#d8576b\"], [0.6666666666666666, \"#ed7953\"], [0.7777777777777778, \"#fb9f3a\"], [0.8888888888888888, \"#fdca26\"], [1.0, \"#f0f921\"]], \"type\": \"heatmapgl\"}], \"histogram\": [{\"marker\": {\"colorbar\": {\"outlinewidth\": 0, \"ticks\": \"\"}}, \"type\": \"histogram\"}], \"histogram2d\": [{\"colorbar\": {\"outlinewidth\": 0, \"ticks\": \"\"}, \"colorscale\": [[0.0, \"#0d0887\"], [0.1111111111111111, \"#46039f\"], [0.2222222222222222, \"#7201a8\"], [0.3333333333333333, \"#9c179e\"], [0.4444444444444444, \"#bd3786\"], [0.5555555555555556, \"#d8576b\"], [0.6666666666666666, \"#ed7953\"], [0.7777777777777778, \"#fb9f3a\"], [0.8888888888888888, \"#fdca26\"], [1.0, \"#f0f921\"]], \"type\": \"histogram2d\"}], \"histogram2dcontour\": [{\"colorbar\": {\"outlinewidth\": 0, \"ticks\": \"\"}, \"colorscale\": [[0.0, \"#0d0887\"], [0.1111111111111111, \"#46039f\"], [0.2222222222222222, \"#7201a8\"], [0.3333333333333333, \"#9c179e\"], [0.4444444444444444, \"#bd3786\"], [0.5555555555555556, \"#d8576b\"], [0.6666666666666666, \"#ed7953\"], [0.7777777777777778, \"#fb9f3a\"], [0.8888888888888888, \"#fdca26\"], [1.0, \"#f0f921\"]], \"type\": \"histogram2dcontour\"}], \"mesh3d\": [{\"colorbar\": {\"outlinewidth\": 0, \"ticks\": \"\"}, \"type\": \"mesh3d\"}], \"parcoords\": [{\"line\": {\"colorbar\": {\"outlinewidth\": 0, \"ticks\": \"\"}}, \"type\": \"parcoords\"}], \"pie\": [{\"automargin\": true, \"type\": \"pie\"}], \"scatter\": [{\"marker\": {\"colorbar\": {\"outlinewidth\": 0, \"ticks\": \"\"}}, \"type\": \"scatter\"}], \"scatter3d\": [{\"line\": {\"colorbar\": {\"outlinewidth\": 0, \"ticks\": \"\"}}, \"marker\": {\"colorbar\": {\"outlinewidth\": 0, \"ticks\": \"\"}}, \"type\": \"scatter3d\"}], \"scattercarpet\": [{\"marker\": {\"colorbar\": {\"outlinewidth\": 0, \"ticks\": \"\"}}, \"type\": \"scattercarpet\"}], \"scattergeo\": [{\"marker\": {\"colorbar\": {\"outlinewidth\": 0, \"ticks\": \"\"}}, \"type\": \"scattergeo\"}], \"scattergl\": [{\"marker\": {\"colorbar\": {\"outlinewidth\": 0, \"ticks\": \"\"}}, \"type\": \"scattergl\"}], \"scattermapbox\": [{\"marker\": {\"colorbar\": {\"outlinewidth\": 0, \"ticks\": \"\"}}, \"type\": \"scattermapbox\"}], \"scatterpolar\": [{\"marker\": {\"colorbar\": {\"outlinewidth\": 0, \"ticks\": \"\"}}, \"type\": \"scatterpolar\"}], \"scatterpolargl\": [{\"marker\": {\"colorbar\": {\"outlinewidth\": 0, \"ticks\": \"\"}}, \"type\": \"scatterpolargl\"}], \"scatterternary\": [{\"marker\": {\"colorbar\": {\"outlinewidth\": 0, \"ticks\": \"\"}}, \"type\": \"scatterternary\"}], \"surface\": [{\"colorbar\": {\"outlinewidth\": 0, \"ticks\": \"\"}, \"colorscale\": [[0.0, \"#0d0887\"], [0.1111111111111111, \"#46039f\"], [0.2222222222222222, \"#7201a8\"], [0.3333333333333333, \"#9c179e\"], [0.4444444444444444, \"#bd3786\"], [0.5555555555555556, \"#d8576b\"], [0.6666666666666666, \"#ed7953\"], [0.7777777777777778, \"#fb9f3a\"], [0.8888888888888888, \"#fdca26\"], [1.0, \"#f0f921\"]], \"type\": \"surface\"}], \"table\": [{\"cells\": {\"fill\": {\"color\": \"#EBF0F8\"}, \"line\": {\"color\": \"white\"}}, \"header\": {\"fill\": {\"color\": \"#C8D4E3\"}, \"line\": {\"color\": \"white\"}}, \"type\": \"table\"}]}, \"layout\": {\"annotationdefaults\": {\"arrowcolor\": \"#2a3f5f\", \"arrowhead\": 0, \"arrowwidth\": 1}, \"autotypenumbers\": \"strict\", \"coloraxis\": {\"colorbar\": {\"outlinewidth\": 0, \"ticks\": \"\"}}, \"colorscale\": {\"diverging\": [[0, \"#8e0152\"], [0.1, \"#c51b7d\"], [0.2, \"#de77ae\"], [0.3, \"#f1b6da\"], [0.4, \"#fde0ef\"], [0.5, \"#f7f7f7\"], [0.6, \"#e6f5d0\"], [0.7, \"#b8e186\"], [0.8, \"#7fbc41\"], [0.9, \"#4d9221\"], [1, \"#276419\"]], \"sequential\": [[0.0, \"#0d0887\"], [0.1111111111111111, \"#46039f\"], [0.2222222222222222, \"#7201a8\"], [0.3333333333333333, \"#9c179e\"], [0.4444444444444444, \"#bd3786\"], [0.5555555555555556, \"#d8576b\"], [0.6666666666666666, \"#ed7953\"], [0.7777777777777778, \"#fb9f3a\"], [0.8888888888888888, \"#fdca26\"], [1.0, \"#f0f921\"]], \"sequentialminus\": [[0.0, \"#0d0887\"], [0.1111111111111111, \"#46039f\"], [0.2222222222222222, \"#7201a8\"], [0.3333333333333333, \"#9c179e\"], [0.4444444444444444, \"#bd3786\"], [0.5555555555555556, \"#d8576b\"], [0.6666666666666666, \"#ed7953\"], [0.7777777777777778, \"#fb9f3a\"], [0.8888888888888888, \"#fdca26\"], [1.0, \"#f0f921\"]]}, \"colorway\": [\"#636efa\", \"#EF553B\", \"#00cc96\", \"#ab63fa\", \"#FFA15A\", \"#19d3f3\", \"#FF6692\", \"#B6E880\", \"#FF97FF\", \"#FECB52\"], \"font\": {\"color\": \"#2a3f5f\"}, \"geo\": {\"bgcolor\": \"white\", \"lakecolor\": \"white\", \"landcolor\": \"#E5ECF6\", \"showlakes\": true, \"showland\": true, \"subunitcolor\": \"white\"}, \"hoverlabel\": {\"align\": \"left\"}, \"hovermode\": \"closest\", \"mapbox\": {\"style\": \"light\"}, \"paper_bgcolor\": \"white\", \"plot_bgcolor\": \"#E5ECF6\", \"polar\": {\"angularaxis\": {\"gridcolor\": \"white\", \"linecolor\": \"white\", \"ticks\": \"\"}, \"bgcolor\": \"#E5ECF6\", \"radialaxis\": {\"gridcolor\": \"white\", \"linecolor\": \"white\", \"ticks\": \"\"}}, \"scene\": {\"xaxis\": {\"backgroundcolor\": \"#E5ECF6\", \"gridcolor\": \"white\", \"gridwidth\": 2, \"linecolor\": \"white\", \"showbackground\": true, \"ticks\": \"\", \"zerolinecolor\": \"white\"}, \"yaxis\": {\"backgroundcolor\": \"#E5ECF6\", \"gridcolor\": \"white\", \"gridwidth\": 2, \"linecolor\": \"white\", \"showbackground\": true, \"ticks\": \"\", \"zerolinecolor\": \"white\"}, \"zaxis\": {\"backgroundcolor\": \"#E5ECF6\", \"gridcolor\": \"white\", \"gridwidth\": 2, \"linecolor\": \"white\", \"showbackground\": true, \"ticks\": \"\", \"zerolinecolor\": \"white\"}}, \"shapedefaults\": {\"line\": {\"color\": \"#2a3f5f\"}}, \"ternary\": {\"aaxis\": {\"gridcolor\": \"white\", \"linecolor\": \"white\", \"ticks\": \"\"}, \"baxis\": {\"gridcolor\": \"white\", \"linecolor\": \"white\", \"ticks\": \"\"}, \"bgcolor\": \"#E5ECF6\", \"caxis\": {\"gridcolor\": \"white\", \"linecolor\": \"white\", \"ticks\": \"\"}}, \"title\": {\"x\": 0.05}, \"xaxis\": {\"automargin\": true, \"gridcolor\": \"white\", \"linecolor\": \"white\", \"ticks\": \"\", \"title\": {\"standoff\": 15}, \"zerolinecolor\": \"white\", \"zerolinewidth\": 2}, \"yaxis\": {\"automargin\": true, \"gridcolor\": \"white\", \"linecolor\": \"white\", \"ticks\": \"\", \"title\": {\"standoff\": 15}, \"zerolinecolor\": \"white\", \"zerolinewidth\": 2}}}, \"title\": {\"font\": {\"color\": \"#4D5663\"}, \"text\": \"Trend Kasus COVID-19 Secara Global\"}, \"xaxis\": {\"gridcolor\": \"#E1E5ED\", \"showgrid\": true, \"tickfont\": {\"color\": \"#4D5663\"}, \"title\": {\"font\": {\"color\": \"#4D5663\"}, \"text\": \"Time\"}, \"zerolinecolor\": \"#E1E5ED\"}, \"yaxis\": {\"gridcolor\": \"#E1E5ED\", \"showgrid\": true, \"tickfont\": {\"color\": \"#4D5663\"}, \"title\": {\"font\": {\"color\": \"#4D5663\"}, \"text\": \"Amount\"}, \"zerolinecolor\": \"#E1E5ED\"}},                        {\"showLink\": true, \"linkText\": \"Export to plot.ly\", \"plotlyServerURL\": \"https://plot.ly\", \"responsive\": true}                    ).then(function(){\n                            \nvar gd = document.getElementById('78b0bd8e-3b00-4b7b-ba63-75133886b0ff');\nvar x = new MutationObserver(function (mutations, observer) {{\n        var display = window.getComputedStyle(gd).display;\n        if (!display || display === 'none') {{\n            console.log([gd, 'removed!']);\n            Plotly.purge(gd);\n            observer.disconnect();\n        }}\n}});\n\n// Listen for the removal of the full notebook cells\nvar notebookContainer = gd.closest('#notebook-container');\nif (notebookContainer) {{\n    x.observe(notebookContainer, {childList: true});\n}}\n\n// Listen for the clearing of the current output cell\nvar outputEl = gd.closest('.output');\nif (outputEl) {{\n    x.observe(outputEl, {childList: true});\n}}\n\n                        })                };                });            </script>        </div>"
          },
          "metadata": {}
        }
      ]
    },
    {
      "cell_type": "markdown",
      "metadata": {
        "id": "vo5ZtBSn1W19"
      },
      "source": [
        "### **Categories Country**"
      ]
    },
    {
      "source": [
        "**Quite Vulnerable**"
      ],
      "cell_type": "markdown",
      "metadata": {}
    },
    {
      "cell_type": "code",
      "metadata": {
        "colab": {
          "base_uri": "https://localhost:8080/",
          "height": 0
        },
        "id": "fl3Fh0u5dUPI",
        "outputId": "5976c7f0-a448-4f35-c3ce-175577c455d8"
      },
      "source": [
        "# Cukup Rawan\n",
        "fig = px.choropleth(cukupRawan, locations=cukupRawan['Country/Region'],\n",
        "                    color=cukupRawan['Confirmed'],locationmode='country names', \n",
        "                    hover_name=cukupRawan['Country/Region'], \n",
        "                    color_continuous_scale=px.colors.sequential.Plasma,\n",
        "                    template ='plotly_white')\n",
        "fig.update_layout(title_text=\"The country is quite vulnerable\")\n",
        "fig.update_coloraxes(colorbar_title=\"Number of confirmed cases\")\n",
        "\n",
        "fig.show()"
      ],
      "execution_count": 18,
      "outputs": [
        {
          "output_type": "display_data",
          "data": {
            "application/vnd.plotly.v1+json": {
              "config": {
                "plotlyServerURL": "https://plot.ly"
              },
              "data": [
                {
                  "coloraxis": "coloraxis",
                  "geo": "geo",
                  "hovertemplate": "<b>%{hovertext}</b><br><br>Country/Region=%{location}<br>Confirmed=%{z}<extra></extra>",
                  "hovertext": [
                    "Angola",
                    "Antigua and Barbuda",
                    "Bhutan",
                    "Brunei",
                    "Burkina Faso",
                    "Burundi",
                    "Cambodia",
                    "Central African Republic",
                    "Chad",
                    "China",
                    "Comoros",
                    "Congo (Brazzaville)",
                    "Congo (Kinshasa)",
                    "Dominica",
                    "Eritrea",
                    "Fiji",
                    "Gambia",
                    "Grenada",
                    "Guinea",
                    "Guinea-Bissau",
                    "Haiti",
                    "Holy See",
                    "Israel",
                    "Kiribati",
                    "Laos",
                    "Liberia",
                    "Madagascar",
                    "Malawi",
                    "Mali",
                    "Marshall Islands",
                    "Mauritius",
                    "Micronesia",
                    "Mozambique",
                    "New Zealand",
                    "Nicaragua",
                    "Niger",
                    "Nigeria",
                    "Papua New Guinea",
                    "Peru",
                    "Rwanda",
                    "Saint Kitts and Nevis",
                    "Samoa",
                    "Sao Tome and Principe",
                    "Senegal",
                    "Sierra Leone",
                    "Singapore",
                    "Solomon Islands",
                    "South Sudan",
                    "Syria",
                    "Tajikistan",
                    "Tanzania",
                    "Thailand",
                    "Timor-Leste",
                    "Togo",
                    "Uganda",
                    "Uzbekistan",
                    "Vanuatu",
                    "Vietnam",
                    "Yemen",
                    "Zambia",
                    "Zimbabwe"
                  ],
                  "locationmode": "country names",
                  "locations": [
                    "Angola",
                    "Antigua and Barbuda",
                    "Bhutan",
                    "Brunei",
                    "Burkina Faso",
                    "Burundi",
                    "Cambodia",
                    "Central African Republic",
                    "Chad",
                    "China",
                    "Comoros",
                    "Congo (Brazzaville)",
                    "Congo (Kinshasa)",
                    "Dominica",
                    "Eritrea",
                    "Fiji",
                    "Gambia",
                    "Grenada",
                    "Guinea",
                    "Guinea-Bissau",
                    "Haiti",
                    "Holy See",
                    "Israel",
                    "Kiribati",
                    "Laos",
                    "Liberia",
                    "Madagascar",
                    "Malawi",
                    "Mali",
                    "Marshall Islands",
                    "Mauritius",
                    "Micronesia",
                    "Mozambique",
                    "New Zealand",
                    "Nicaragua",
                    "Niger",
                    "Nigeria",
                    "Papua New Guinea",
                    "Peru",
                    "Rwanda",
                    "Saint Kitts and Nevis",
                    "Samoa",
                    "Sao Tome and Principe",
                    "Senegal",
                    "Sierra Leone",
                    "Singapore",
                    "Solomon Islands",
                    "South Sudan",
                    "Syria",
                    "Tajikistan",
                    "Tanzania",
                    "Thailand",
                    "Timor-Leste",
                    "Togo",
                    "Uganda",
                    "Uzbekistan",
                    "Vanuatu",
                    "Vietnam",
                    "Yemen",
                    "Zambia",
                    "Zimbabwe"
                  ],
                  "name": "",
                  "type": "choropleth",
                  "z": [
                    34180,
                    1259,
                    1603,
                    241,
                    13430,
                    4715,
                    28825,
                    7085,
                    4928,
                    102960,
                    3881,
                    11658,
                    31416,
                    188,
                    4061,
                    360,
                    5990,
                    161,
                    23172,
                    3761,
                    14128,
                    27,
                    839453,
                    2,
                    1908,
                    2179,
                    41234,
                    34329,
                    14265,
                    4,
                    1363,
                    1,
                    70724,
                    2672,
                    7324,
                    5410,
                    166285,
                    15772,
                    1947555,
                    26892,
                    68,
                    3,
                    2345,
                    41331,
                    4141,
                    62003,
                    20,
                    10688,
                    24440,
                    13308,
                    509,
                    151842,
                    6752,
                    13432,
                    45931,
                    99844,
                    4,
                    6908,
                    6731,
                    94751,
                    38933
                  ]
                }
              ],
              "layout": {
                "coloraxis": {
                  "colorbar": {
                    "title": {
                      "text": "Number of confirmed cases"
                    }
                  },
                  "colorscale": [
                    [
                      0,
                      "#0d0887"
                    ],
                    [
                      0.1111111111111111,
                      "#46039f"
                    ],
                    [
                      0.2222222222222222,
                      "#7201a8"
                    ],
                    [
                      0.3333333333333333,
                      "#9c179e"
                    ],
                    [
                      0.4444444444444444,
                      "#bd3786"
                    ],
                    [
                      0.5555555555555556,
                      "#d8576b"
                    ],
                    [
                      0.6666666666666666,
                      "#ed7953"
                    ],
                    [
                      0.7777777777777778,
                      "#fb9f3a"
                    ],
                    [
                      0.8888888888888888,
                      "#fdca26"
                    ],
                    [
                      1,
                      "#f0f921"
                    ]
                  ]
                },
                "geo": {
                  "center": {},
                  "domain": {
                    "x": [
                      0,
                      1
                    ],
                    "y": [
                      0,
                      1
                    ]
                  }
                },
                "legend": {
                  "tracegroupgap": 0
                },
                "margin": {
                  "t": 60
                },
                "template": {
                  "data": {
                    "bar": [
                      {
                        "error_x": {
                          "color": "#2a3f5f"
                        },
                        "error_y": {
                          "color": "#2a3f5f"
                        },
                        "marker": {
                          "line": {
                            "color": "white",
                            "width": 0.5
                          }
                        },
                        "type": "bar"
                      }
                    ],
                    "barpolar": [
                      {
                        "marker": {
                          "line": {
                            "color": "white",
                            "width": 0.5
                          }
                        },
                        "type": "barpolar"
                      }
                    ],
                    "carpet": [
                      {
                        "aaxis": {
                          "endlinecolor": "#2a3f5f",
                          "gridcolor": "#C8D4E3",
                          "linecolor": "#C8D4E3",
                          "minorgridcolor": "#C8D4E3",
                          "startlinecolor": "#2a3f5f"
                        },
                        "baxis": {
                          "endlinecolor": "#2a3f5f",
                          "gridcolor": "#C8D4E3",
                          "linecolor": "#C8D4E3",
                          "minorgridcolor": "#C8D4E3",
                          "startlinecolor": "#2a3f5f"
                        },
                        "type": "carpet"
                      }
                    ],
                    "choropleth": [
                      {
                        "colorbar": {
                          "outlinewidth": 0,
                          "ticks": ""
                        },
                        "type": "choropleth"
                      }
                    ],
                    "contour": [
                      {
                        "colorbar": {
                          "outlinewidth": 0,
                          "ticks": ""
                        },
                        "colorscale": [
                          [
                            0,
                            "#0d0887"
                          ],
                          [
                            0.1111111111111111,
                            "#46039f"
                          ],
                          [
                            0.2222222222222222,
                            "#7201a8"
                          ],
                          [
                            0.3333333333333333,
                            "#9c179e"
                          ],
                          [
                            0.4444444444444444,
                            "#bd3786"
                          ],
                          [
                            0.5555555555555556,
                            "#d8576b"
                          ],
                          [
                            0.6666666666666666,
                            "#ed7953"
                          ],
                          [
                            0.7777777777777778,
                            "#fb9f3a"
                          ],
                          [
                            0.8888888888888888,
                            "#fdca26"
                          ],
                          [
                            1,
                            "#f0f921"
                          ]
                        ],
                        "type": "contour"
                      }
                    ],
                    "contourcarpet": [
                      {
                        "colorbar": {
                          "outlinewidth": 0,
                          "ticks": ""
                        },
                        "type": "contourcarpet"
                      }
                    ],
                    "heatmap": [
                      {
                        "colorbar": {
                          "outlinewidth": 0,
                          "ticks": ""
                        },
                        "colorscale": [
                          [
                            0,
                            "#0d0887"
                          ],
                          [
                            0.1111111111111111,
                            "#46039f"
                          ],
                          [
                            0.2222222222222222,
                            "#7201a8"
                          ],
                          [
                            0.3333333333333333,
                            "#9c179e"
                          ],
                          [
                            0.4444444444444444,
                            "#bd3786"
                          ],
                          [
                            0.5555555555555556,
                            "#d8576b"
                          ],
                          [
                            0.6666666666666666,
                            "#ed7953"
                          ],
                          [
                            0.7777777777777778,
                            "#fb9f3a"
                          ],
                          [
                            0.8888888888888888,
                            "#fdca26"
                          ],
                          [
                            1,
                            "#f0f921"
                          ]
                        ],
                        "type": "heatmap"
                      }
                    ],
                    "heatmapgl": [
                      {
                        "colorbar": {
                          "outlinewidth": 0,
                          "ticks": ""
                        },
                        "colorscale": [
                          [
                            0,
                            "#0d0887"
                          ],
                          [
                            0.1111111111111111,
                            "#46039f"
                          ],
                          [
                            0.2222222222222222,
                            "#7201a8"
                          ],
                          [
                            0.3333333333333333,
                            "#9c179e"
                          ],
                          [
                            0.4444444444444444,
                            "#bd3786"
                          ],
                          [
                            0.5555555555555556,
                            "#d8576b"
                          ],
                          [
                            0.6666666666666666,
                            "#ed7953"
                          ],
                          [
                            0.7777777777777778,
                            "#fb9f3a"
                          ],
                          [
                            0.8888888888888888,
                            "#fdca26"
                          ],
                          [
                            1,
                            "#f0f921"
                          ]
                        ],
                        "type": "heatmapgl"
                      }
                    ],
                    "histogram": [
                      {
                        "marker": {
                          "colorbar": {
                            "outlinewidth": 0,
                            "ticks": ""
                          }
                        },
                        "type": "histogram"
                      }
                    ],
                    "histogram2d": [
                      {
                        "colorbar": {
                          "outlinewidth": 0,
                          "ticks": ""
                        },
                        "colorscale": [
                          [
                            0,
                            "#0d0887"
                          ],
                          [
                            0.1111111111111111,
                            "#46039f"
                          ],
                          [
                            0.2222222222222222,
                            "#7201a8"
                          ],
                          [
                            0.3333333333333333,
                            "#9c179e"
                          ],
                          [
                            0.4444444444444444,
                            "#bd3786"
                          ],
                          [
                            0.5555555555555556,
                            "#d8576b"
                          ],
                          [
                            0.6666666666666666,
                            "#ed7953"
                          ],
                          [
                            0.7777777777777778,
                            "#fb9f3a"
                          ],
                          [
                            0.8888888888888888,
                            "#fdca26"
                          ],
                          [
                            1,
                            "#f0f921"
                          ]
                        ],
                        "type": "histogram2d"
                      }
                    ],
                    "histogram2dcontour": [
                      {
                        "colorbar": {
                          "outlinewidth": 0,
                          "ticks": ""
                        },
                        "colorscale": [
                          [
                            0,
                            "#0d0887"
                          ],
                          [
                            0.1111111111111111,
                            "#46039f"
                          ],
                          [
                            0.2222222222222222,
                            "#7201a8"
                          ],
                          [
                            0.3333333333333333,
                            "#9c179e"
                          ],
                          [
                            0.4444444444444444,
                            "#bd3786"
                          ],
                          [
                            0.5555555555555556,
                            "#d8576b"
                          ],
                          [
                            0.6666666666666666,
                            "#ed7953"
                          ],
                          [
                            0.7777777777777778,
                            "#fb9f3a"
                          ],
                          [
                            0.8888888888888888,
                            "#fdca26"
                          ],
                          [
                            1,
                            "#f0f921"
                          ]
                        ],
                        "type": "histogram2dcontour"
                      }
                    ],
                    "mesh3d": [
                      {
                        "colorbar": {
                          "outlinewidth": 0,
                          "ticks": ""
                        },
                        "type": "mesh3d"
                      }
                    ],
                    "parcoords": [
                      {
                        "line": {
                          "colorbar": {
                            "outlinewidth": 0,
                            "ticks": ""
                          }
                        },
                        "type": "parcoords"
                      }
                    ],
                    "pie": [
                      {
                        "automargin": true,
                        "type": "pie"
                      }
                    ],
                    "scatter": [
                      {
                        "marker": {
                          "colorbar": {
                            "outlinewidth": 0,
                            "ticks": ""
                          }
                        },
                        "type": "scatter"
                      }
                    ],
                    "scatter3d": [
                      {
                        "line": {
                          "colorbar": {
                            "outlinewidth": 0,
                            "ticks": ""
                          }
                        },
                        "marker": {
                          "colorbar": {
                            "outlinewidth": 0,
                            "ticks": ""
                          }
                        },
                        "type": "scatter3d"
                      }
                    ],
                    "scattercarpet": [
                      {
                        "marker": {
                          "colorbar": {
                            "outlinewidth": 0,
                            "ticks": ""
                          }
                        },
                        "type": "scattercarpet"
                      }
                    ],
                    "scattergeo": [
                      {
                        "marker": {
                          "colorbar": {
                            "outlinewidth": 0,
                            "ticks": ""
                          }
                        },
                        "type": "scattergeo"
                      }
                    ],
                    "scattergl": [
                      {
                        "marker": {
                          "colorbar": {
                            "outlinewidth": 0,
                            "ticks": ""
                          }
                        },
                        "type": "scattergl"
                      }
                    ],
                    "scattermapbox": [
                      {
                        "marker": {
                          "colorbar": {
                            "outlinewidth": 0,
                            "ticks": ""
                          }
                        },
                        "type": "scattermapbox"
                      }
                    ],
                    "scatterpolar": [
                      {
                        "marker": {
                          "colorbar": {
                            "outlinewidth": 0,
                            "ticks": ""
                          }
                        },
                        "type": "scatterpolar"
                      }
                    ],
                    "scatterpolargl": [
                      {
                        "marker": {
                          "colorbar": {
                            "outlinewidth": 0,
                            "ticks": ""
                          }
                        },
                        "type": "scatterpolargl"
                      }
                    ],
                    "scatterternary": [
                      {
                        "marker": {
                          "colorbar": {
                            "outlinewidth": 0,
                            "ticks": ""
                          }
                        },
                        "type": "scatterternary"
                      }
                    ],
                    "surface": [
                      {
                        "colorbar": {
                          "outlinewidth": 0,
                          "ticks": ""
                        },
                        "colorscale": [
                          [
                            0,
                            "#0d0887"
                          ],
                          [
                            0.1111111111111111,
                            "#46039f"
                          ],
                          [
                            0.2222222222222222,
                            "#7201a8"
                          ],
                          [
                            0.3333333333333333,
                            "#9c179e"
                          ],
                          [
                            0.4444444444444444,
                            "#bd3786"
                          ],
                          [
                            0.5555555555555556,
                            "#d8576b"
                          ],
                          [
                            0.6666666666666666,
                            "#ed7953"
                          ],
                          [
                            0.7777777777777778,
                            "#fb9f3a"
                          ],
                          [
                            0.8888888888888888,
                            "#fdca26"
                          ],
                          [
                            1,
                            "#f0f921"
                          ]
                        ],
                        "type": "surface"
                      }
                    ],
                    "table": [
                      {
                        "cells": {
                          "fill": {
                            "color": "#EBF0F8"
                          },
                          "line": {
                            "color": "white"
                          }
                        },
                        "header": {
                          "fill": {
                            "color": "#C8D4E3"
                          },
                          "line": {
                            "color": "white"
                          }
                        },
                        "type": "table"
                      }
                    ]
                  },
                  "layout": {
                    "annotationdefaults": {
                      "arrowcolor": "#2a3f5f",
                      "arrowhead": 0,
                      "arrowwidth": 1
                    },
                    "autotypenumbers": "strict",
                    "coloraxis": {
                      "colorbar": {
                        "outlinewidth": 0,
                        "ticks": ""
                      }
                    },
                    "colorscale": {
                      "diverging": [
                        [
                          0,
                          "#8e0152"
                        ],
                        [
                          0.1,
                          "#c51b7d"
                        ],
                        [
                          0.2,
                          "#de77ae"
                        ],
                        [
                          0.3,
                          "#f1b6da"
                        ],
                        [
                          0.4,
                          "#fde0ef"
                        ],
                        [
                          0.5,
                          "#f7f7f7"
                        ],
                        [
                          0.6,
                          "#e6f5d0"
                        ],
                        [
                          0.7,
                          "#b8e186"
                        ],
                        [
                          0.8,
                          "#7fbc41"
                        ],
                        [
                          0.9,
                          "#4d9221"
                        ],
                        [
                          1,
                          "#276419"
                        ]
                      ],
                      "sequential": [
                        [
                          0,
                          "#0d0887"
                        ],
                        [
                          0.1111111111111111,
                          "#46039f"
                        ],
                        [
                          0.2222222222222222,
                          "#7201a8"
                        ],
                        [
                          0.3333333333333333,
                          "#9c179e"
                        ],
                        [
                          0.4444444444444444,
                          "#bd3786"
                        ],
                        [
                          0.5555555555555556,
                          "#d8576b"
                        ],
                        [
                          0.6666666666666666,
                          "#ed7953"
                        ],
                        [
                          0.7777777777777778,
                          "#fb9f3a"
                        ],
                        [
                          0.8888888888888888,
                          "#fdca26"
                        ],
                        [
                          1,
                          "#f0f921"
                        ]
                      ],
                      "sequentialminus": [
                        [
                          0,
                          "#0d0887"
                        ],
                        [
                          0.1111111111111111,
                          "#46039f"
                        ],
                        [
                          0.2222222222222222,
                          "#7201a8"
                        ],
                        [
                          0.3333333333333333,
                          "#9c179e"
                        ],
                        [
                          0.4444444444444444,
                          "#bd3786"
                        ],
                        [
                          0.5555555555555556,
                          "#d8576b"
                        ],
                        [
                          0.6666666666666666,
                          "#ed7953"
                        ],
                        [
                          0.7777777777777778,
                          "#fb9f3a"
                        ],
                        [
                          0.8888888888888888,
                          "#fdca26"
                        ],
                        [
                          1,
                          "#f0f921"
                        ]
                      ]
                    },
                    "colorway": [
                      "#636efa",
                      "#EF553B",
                      "#00cc96",
                      "#ab63fa",
                      "#FFA15A",
                      "#19d3f3",
                      "#FF6692",
                      "#B6E880",
                      "#FF97FF",
                      "#FECB52"
                    ],
                    "font": {
                      "color": "#2a3f5f"
                    },
                    "geo": {
                      "bgcolor": "white",
                      "lakecolor": "white",
                      "landcolor": "white",
                      "showlakes": true,
                      "showland": true,
                      "subunitcolor": "#C8D4E3"
                    },
                    "hoverlabel": {
                      "align": "left"
                    },
                    "hovermode": "closest",
                    "mapbox": {
                      "style": "light"
                    },
                    "paper_bgcolor": "white",
                    "plot_bgcolor": "white",
                    "polar": {
                      "angularaxis": {
                        "gridcolor": "#EBF0F8",
                        "linecolor": "#EBF0F8",
                        "ticks": ""
                      },
                      "bgcolor": "white",
                      "radialaxis": {
                        "gridcolor": "#EBF0F8",
                        "linecolor": "#EBF0F8",
                        "ticks": ""
                      }
                    },
                    "scene": {
                      "xaxis": {
                        "backgroundcolor": "white",
                        "gridcolor": "#DFE8F3",
                        "gridwidth": 2,
                        "linecolor": "#EBF0F8",
                        "showbackground": true,
                        "ticks": "",
                        "zerolinecolor": "#EBF0F8"
                      },
                      "yaxis": {
                        "backgroundcolor": "white",
                        "gridcolor": "#DFE8F3",
                        "gridwidth": 2,
                        "linecolor": "#EBF0F8",
                        "showbackground": true,
                        "ticks": "",
                        "zerolinecolor": "#EBF0F8"
                      },
                      "zaxis": {
                        "backgroundcolor": "white",
                        "gridcolor": "#DFE8F3",
                        "gridwidth": 2,
                        "linecolor": "#EBF0F8",
                        "showbackground": true,
                        "ticks": "",
                        "zerolinecolor": "#EBF0F8"
                      }
                    },
                    "shapedefaults": {
                      "line": {
                        "color": "#2a3f5f"
                      }
                    },
                    "ternary": {
                      "aaxis": {
                        "gridcolor": "#DFE8F3",
                        "linecolor": "#A2B1C6",
                        "ticks": ""
                      },
                      "baxis": {
                        "gridcolor": "#DFE8F3",
                        "linecolor": "#A2B1C6",
                        "ticks": ""
                      },
                      "bgcolor": "white",
                      "caxis": {
                        "gridcolor": "#DFE8F3",
                        "linecolor": "#A2B1C6",
                        "ticks": ""
                      }
                    },
                    "title": {
                      "x": 0.05
                    },
                    "xaxis": {
                      "automargin": true,
                      "gridcolor": "#EBF0F8",
                      "linecolor": "#EBF0F8",
                      "ticks": "",
                      "title": {
                        "standoff": 15
                      },
                      "zerolinecolor": "#EBF0F8",
                      "zerolinewidth": 2
                    },
                    "yaxis": {
                      "automargin": true,
                      "gridcolor": "#EBF0F8",
                      "linecolor": "#EBF0F8",
                      "ticks": "",
                      "title": {
                        "standoff": 15
                      },
                      "zerolinecolor": "#EBF0F8",
                      "zerolinewidth": 2
                    }
                  }
                },
                "title": {
                  "text": "The country is quite vulnerable"
                }
              }
            },
            "text/html": "<div>                            <div id=\"c127ba6f-3e52-4b3a-860d-5033477a4ffb\" class=\"plotly-graph-div\" style=\"height:525px; width:100%;\"></div>            <script type=\"text/javascript\">                require([\"plotly\"], function(Plotly) {                    window.PLOTLYENV=window.PLOTLYENV || {};                                    if (document.getElementById(\"c127ba6f-3e52-4b3a-860d-5033477a4ffb\")) {                    Plotly.newPlot(                        \"c127ba6f-3e52-4b3a-860d-5033477a4ffb\",                        [{\"coloraxis\": \"coloraxis\", \"geo\": \"geo\", \"hovertemplate\": \"<b>%{hovertext}</b><br><br>Country/Region=%{location}<br>Confirmed=%{z}<extra></extra>\", \"hovertext\": [\"Angola\", \"Antigua and Barbuda\", \"Bhutan\", \"Brunei\", \"Burkina Faso\", \"Burundi\", \"Cambodia\", \"Central African Republic\", \"Chad\", \"China\", \"Comoros\", \"Congo (Brazzaville)\", \"Congo (Kinshasa)\", \"Dominica\", \"Eritrea\", \"Fiji\", \"Gambia\", \"Grenada\", \"Guinea\", \"Guinea-Bissau\", \"Haiti\", \"Holy See\", \"Israel\", \"Kiribati\", \"Laos\", \"Liberia\", \"Madagascar\", \"Malawi\", \"Mali\", \"Marshall Islands\", \"Mauritius\", \"Micronesia\", \"Mozambique\", \"New Zealand\", \"Nicaragua\", \"Niger\", \"Nigeria\", \"Papua New Guinea\", \"Peru\", \"Rwanda\", \"Saint Kitts and Nevis\", \"Samoa\", \"Sao Tome and Principe\", \"Senegal\", \"Sierra Leone\", \"Singapore\", \"Solomon Islands\", \"South Sudan\", \"Syria\", \"Tajikistan\", \"Tanzania\", \"Thailand\", \"Timor-Leste\", \"Togo\", \"Uganda\", \"Uzbekistan\", \"Vanuatu\", \"Vietnam\", \"Yemen\", \"Zambia\", \"Zimbabwe\"], \"locationmode\": \"country names\", \"locations\": [\"Angola\", \"Antigua and Barbuda\", \"Bhutan\", \"Brunei\", \"Burkina Faso\", \"Burundi\", \"Cambodia\", \"Central African Republic\", \"Chad\", \"China\", \"Comoros\", \"Congo (Brazzaville)\", \"Congo (Kinshasa)\", \"Dominica\", \"Eritrea\", \"Fiji\", \"Gambia\", \"Grenada\", \"Guinea\", \"Guinea-Bissau\", \"Haiti\", \"Holy See\", \"Israel\", \"Kiribati\", \"Laos\", \"Liberia\", \"Madagascar\", \"Malawi\", \"Mali\", \"Marshall Islands\", \"Mauritius\", \"Micronesia\", \"Mozambique\", \"New Zealand\", \"Nicaragua\", \"Niger\", \"Nigeria\", \"Papua New Guinea\", \"Peru\", \"Rwanda\", \"Saint Kitts and Nevis\", \"Samoa\", \"Sao Tome and Principe\", \"Senegal\", \"Sierra Leone\", \"Singapore\", \"Solomon Islands\", \"South Sudan\", \"Syria\", \"Tajikistan\", \"Tanzania\", \"Thailand\", \"Timor-Leste\", \"Togo\", \"Uganda\", \"Uzbekistan\", \"Vanuatu\", \"Vietnam\", \"Yemen\", \"Zambia\", \"Zimbabwe\"], \"name\": \"\", \"type\": \"choropleth\", \"z\": [34180, 1259, 1603, 241, 13430, 4715, 28825, 7085, 4928, 102960, 3881, 11658, 31416, 188, 4061, 360, 5990, 161, 23172, 3761, 14128, 27, 839453, 2, 1908, 2179, 41234, 34329, 14265, 4, 1363, 1, 70724, 2672, 7324, 5410, 166285, 15772, 1947555, 26892, 68, 3, 2345, 41331, 4141, 62003, 20, 10688, 24440, 13308, 509, 151842, 6752, 13432, 45931, 99844, 4, 6908, 6731, 94751, 38933]}],                        {\"coloraxis\": {\"colorbar\": {\"title\": {\"text\": \"Number of confirmed cases\"}}, \"colorscale\": [[0.0, \"#0d0887\"], [0.1111111111111111, \"#46039f\"], [0.2222222222222222, \"#7201a8\"], [0.3333333333333333, \"#9c179e\"], [0.4444444444444444, \"#bd3786\"], [0.5555555555555556, \"#d8576b\"], [0.6666666666666666, \"#ed7953\"], [0.7777777777777778, \"#fb9f3a\"], [0.8888888888888888, \"#fdca26\"], [1.0, \"#f0f921\"]]}, \"geo\": {\"center\": {}, \"domain\": {\"x\": [0.0, 1.0], \"y\": [0.0, 1.0]}}, \"legend\": {\"tracegroupgap\": 0}, \"margin\": {\"t\": 60}, \"template\": {\"data\": {\"bar\": [{\"error_x\": {\"color\": \"#2a3f5f\"}, \"error_y\": {\"color\": \"#2a3f5f\"}, \"marker\": {\"line\": {\"color\": \"white\", \"width\": 0.5}}, \"type\": \"bar\"}], \"barpolar\": [{\"marker\": {\"line\": {\"color\": \"white\", \"width\": 0.5}}, \"type\": \"barpolar\"}], \"carpet\": [{\"aaxis\": {\"endlinecolor\": \"#2a3f5f\", \"gridcolor\": \"#C8D4E3\", \"linecolor\": \"#C8D4E3\", \"minorgridcolor\": \"#C8D4E3\", \"startlinecolor\": \"#2a3f5f\"}, \"baxis\": {\"endlinecolor\": \"#2a3f5f\", \"gridcolor\": \"#C8D4E3\", \"linecolor\": \"#C8D4E3\", \"minorgridcolor\": \"#C8D4E3\", \"startlinecolor\": \"#2a3f5f\"}, \"type\": \"carpet\"}], \"choropleth\": [{\"colorbar\": {\"outlinewidth\": 0, \"ticks\": \"\"}, \"type\": \"choropleth\"}], \"contour\": [{\"colorbar\": {\"outlinewidth\": 0, \"ticks\": \"\"}, \"colorscale\": [[0.0, \"#0d0887\"], [0.1111111111111111, \"#46039f\"], [0.2222222222222222, \"#7201a8\"], [0.3333333333333333, \"#9c179e\"], [0.4444444444444444, \"#bd3786\"], [0.5555555555555556, \"#d8576b\"], [0.6666666666666666, \"#ed7953\"], [0.7777777777777778, \"#fb9f3a\"], [0.8888888888888888, \"#fdca26\"], [1.0, \"#f0f921\"]], \"type\": \"contour\"}], \"contourcarpet\": [{\"colorbar\": {\"outlinewidth\": 0, \"ticks\": \"\"}, \"type\": \"contourcarpet\"}], \"heatmap\": [{\"colorbar\": {\"outlinewidth\": 0, \"ticks\": \"\"}, \"colorscale\": [[0.0, \"#0d0887\"], [0.1111111111111111, \"#46039f\"], [0.2222222222222222, \"#7201a8\"], [0.3333333333333333, \"#9c179e\"], [0.4444444444444444, \"#bd3786\"], [0.5555555555555556, \"#d8576b\"], [0.6666666666666666, \"#ed7953\"], [0.7777777777777778, \"#fb9f3a\"], [0.8888888888888888, \"#fdca26\"], [1.0, \"#f0f921\"]], \"type\": \"heatmap\"}], \"heatmapgl\": [{\"colorbar\": {\"outlinewidth\": 0, \"ticks\": \"\"}, \"colorscale\": [[0.0, \"#0d0887\"], [0.1111111111111111, \"#46039f\"], [0.2222222222222222, \"#7201a8\"], [0.3333333333333333, \"#9c179e\"], [0.4444444444444444, \"#bd3786\"], [0.5555555555555556, \"#d8576b\"], [0.6666666666666666, \"#ed7953\"], [0.7777777777777778, \"#fb9f3a\"], [0.8888888888888888, \"#fdca26\"], [1.0, \"#f0f921\"]], \"type\": \"heatmapgl\"}], \"histogram\": [{\"marker\": {\"colorbar\": {\"outlinewidth\": 0, \"ticks\": \"\"}}, \"type\": \"histogram\"}], \"histogram2d\": [{\"colorbar\": {\"outlinewidth\": 0, \"ticks\": \"\"}, \"colorscale\": [[0.0, \"#0d0887\"], [0.1111111111111111, \"#46039f\"], [0.2222222222222222, \"#7201a8\"], [0.3333333333333333, \"#9c179e\"], [0.4444444444444444, \"#bd3786\"], [0.5555555555555556, \"#d8576b\"], [0.6666666666666666, \"#ed7953\"], [0.7777777777777778, \"#fb9f3a\"], [0.8888888888888888, \"#fdca26\"], [1.0, \"#f0f921\"]], \"type\": \"histogram2d\"}], \"histogram2dcontour\": [{\"colorbar\": {\"outlinewidth\": 0, \"ticks\": \"\"}, \"colorscale\": [[0.0, \"#0d0887\"], [0.1111111111111111, \"#46039f\"], [0.2222222222222222, \"#7201a8\"], [0.3333333333333333, \"#9c179e\"], [0.4444444444444444, \"#bd3786\"], [0.5555555555555556, \"#d8576b\"], [0.6666666666666666, \"#ed7953\"], [0.7777777777777778, \"#fb9f3a\"], [0.8888888888888888, \"#fdca26\"], [1.0, \"#f0f921\"]], \"type\": \"histogram2dcontour\"}], \"mesh3d\": [{\"colorbar\": {\"outlinewidth\": 0, \"ticks\": \"\"}, \"type\": \"mesh3d\"}], \"parcoords\": [{\"line\": {\"colorbar\": {\"outlinewidth\": 0, \"ticks\": \"\"}}, \"type\": \"parcoords\"}], \"pie\": [{\"automargin\": true, \"type\": \"pie\"}], \"scatter\": [{\"marker\": {\"colorbar\": {\"outlinewidth\": 0, \"ticks\": \"\"}}, \"type\": \"scatter\"}], \"scatter3d\": [{\"line\": {\"colorbar\": {\"outlinewidth\": 0, \"ticks\": \"\"}}, \"marker\": {\"colorbar\": {\"outlinewidth\": 0, \"ticks\": \"\"}}, \"type\": \"scatter3d\"}], \"scattercarpet\": [{\"marker\": {\"colorbar\": {\"outlinewidth\": 0, \"ticks\": \"\"}}, \"type\": \"scattercarpet\"}], \"scattergeo\": [{\"marker\": {\"colorbar\": {\"outlinewidth\": 0, \"ticks\": \"\"}}, \"type\": \"scattergeo\"}], \"scattergl\": [{\"marker\": {\"colorbar\": {\"outlinewidth\": 0, \"ticks\": \"\"}}, \"type\": \"scattergl\"}], \"scattermapbox\": [{\"marker\": {\"colorbar\": {\"outlinewidth\": 0, \"ticks\": \"\"}}, \"type\": \"scattermapbox\"}], \"scatterpolar\": [{\"marker\": {\"colorbar\": {\"outlinewidth\": 0, \"ticks\": \"\"}}, \"type\": \"scatterpolar\"}], \"scatterpolargl\": [{\"marker\": {\"colorbar\": {\"outlinewidth\": 0, \"ticks\": \"\"}}, \"type\": \"scatterpolargl\"}], \"scatterternary\": [{\"marker\": {\"colorbar\": {\"outlinewidth\": 0, \"ticks\": \"\"}}, \"type\": \"scatterternary\"}], \"surface\": [{\"colorbar\": {\"outlinewidth\": 0, \"ticks\": \"\"}, \"colorscale\": [[0.0, \"#0d0887\"], [0.1111111111111111, \"#46039f\"], [0.2222222222222222, \"#7201a8\"], [0.3333333333333333, \"#9c179e\"], [0.4444444444444444, \"#bd3786\"], [0.5555555555555556, \"#d8576b\"], [0.6666666666666666, \"#ed7953\"], [0.7777777777777778, \"#fb9f3a\"], [0.8888888888888888, \"#fdca26\"], [1.0, \"#f0f921\"]], \"type\": \"surface\"}], \"table\": [{\"cells\": {\"fill\": {\"color\": \"#EBF0F8\"}, \"line\": {\"color\": \"white\"}}, \"header\": {\"fill\": {\"color\": \"#C8D4E3\"}, \"line\": {\"color\": \"white\"}}, \"type\": \"table\"}]}, \"layout\": {\"annotationdefaults\": {\"arrowcolor\": \"#2a3f5f\", \"arrowhead\": 0, \"arrowwidth\": 1}, \"autotypenumbers\": \"strict\", \"coloraxis\": {\"colorbar\": {\"outlinewidth\": 0, \"ticks\": \"\"}}, \"colorscale\": {\"diverging\": [[0, \"#8e0152\"], [0.1, \"#c51b7d\"], [0.2, \"#de77ae\"], [0.3, \"#f1b6da\"], [0.4, \"#fde0ef\"], [0.5, \"#f7f7f7\"], [0.6, \"#e6f5d0\"], [0.7, \"#b8e186\"], [0.8, \"#7fbc41\"], [0.9, \"#4d9221\"], [1, \"#276419\"]], \"sequential\": [[0.0, \"#0d0887\"], [0.1111111111111111, \"#46039f\"], [0.2222222222222222, \"#7201a8\"], [0.3333333333333333, \"#9c179e\"], [0.4444444444444444, \"#bd3786\"], [0.5555555555555556, \"#d8576b\"], [0.6666666666666666, \"#ed7953\"], [0.7777777777777778, \"#fb9f3a\"], [0.8888888888888888, \"#fdca26\"], [1.0, \"#f0f921\"]], \"sequentialminus\": [[0.0, \"#0d0887\"], [0.1111111111111111, \"#46039f\"], [0.2222222222222222, \"#7201a8\"], [0.3333333333333333, \"#9c179e\"], [0.4444444444444444, \"#bd3786\"], [0.5555555555555556, \"#d8576b\"], [0.6666666666666666, \"#ed7953\"], [0.7777777777777778, \"#fb9f3a\"], [0.8888888888888888, \"#fdca26\"], [1.0, \"#f0f921\"]]}, \"colorway\": [\"#636efa\", \"#EF553B\", \"#00cc96\", \"#ab63fa\", \"#FFA15A\", \"#19d3f3\", \"#FF6692\", \"#B6E880\", \"#FF97FF\", \"#FECB52\"], \"font\": {\"color\": \"#2a3f5f\"}, \"geo\": {\"bgcolor\": \"white\", \"lakecolor\": \"white\", \"landcolor\": \"white\", \"showlakes\": true, \"showland\": true, \"subunitcolor\": \"#C8D4E3\"}, \"hoverlabel\": {\"align\": \"left\"}, \"hovermode\": \"closest\", \"mapbox\": {\"style\": \"light\"}, \"paper_bgcolor\": \"white\", \"plot_bgcolor\": \"white\", \"polar\": {\"angularaxis\": {\"gridcolor\": \"#EBF0F8\", \"linecolor\": \"#EBF0F8\", \"ticks\": \"\"}, \"bgcolor\": \"white\", \"radialaxis\": {\"gridcolor\": \"#EBF0F8\", \"linecolor\": \"#EBF0F8\", \"ticks\": \"\"}}, \"scene\": {\"xaxis\": {\"backgroundcolor\": \"white\", \"gridcolor\": \"#DFE8F3\", \"gridwidth\": 2, \"linecolor\": \"#EBF0F8\", \"showbackground\": true, \"ticks\": \"\", \"zerolinecolor\": \"#EBF0F8\"}, \"yaxis\": {\"backgroundcolor\": \"white\", \"gridcolor\": \"#DFE8F3\", \"gridwidth\": 2, \"linecolor\": \"#EBF0F8\", \"showbackground\": true, \"ticks\": \"\", \"zerolinecolor\": \"#EBF0F8\"}, \"zaxis\": {\"backgroundcolor\": \"white\", \"gridcolor\": \"#DFE8F3\", \"gridwidth\": 2, \"linecolor\": \"#EBF0F8\", \"showbackground\": true, \"ticks\": \"\", \"zerolinecolor\": \"#EBF0F8\"}}, \"shapedefaults\": {\"line\": {\"color\": \"#2a3f5f\"}}, \"ternary\": {\"aaxis\": {\"gridcolor\": \"#DFE8F3\", \"linecolor\": \"#A2B1C6\", \"ticks\": \"\"}, \"baxis\": {\"gridcolor\": \"#DFE8F3\", \"linecolor\": \"#A2B1C6\", \"ticks\": \"\"}, \"bgcolor\": \"white\", \"caxis\": {\"gridcolor\": \"#DFE8F3\", \"linecolor\": \"#A2B1C6\", \"ticks\": \"\"}}, \"title\": {\"x\": 0.05}, \"xaxis\": {\"automargin\": true, \"gridcolor\": \"#EBF0F8\", \"linecolor\": \"#EBF0F8\", \"ticks\": \"\", \"title\": {\"standoff\": 15}, \"zerolinecolor\": \"#EBF0F8\", \"zerolinewidth\": 2}, \"yaxis\": {\"automargin\": true, \"gridcolor\": \"#EBF0F8\", \"linecolor\": \"#EBF0F8\", \"ticks\": \"\", \"title\": {\"standoff\": 15}, \"zerolinecolor\": \"#EBF0F8\", \"zerolinewidth\": 2}}}, \"title\": {\"text\": \"The country is quite vulnerable\"}},                        {\"responsive\": true}                    ).then(function(){\n                            \nvar gd = document.getElementById('c127ba6f-3e52-4b3a-860d-5033477a4ffb');\nvar x = new MutationObserver(function (mutations, observer) {{\n        var display = window.getComputedStyle(gd).display;\n        if (!display || display === 'none') {{\n            console.log([gd, 'removed!']);\n            Plotly.purge(gd);\n            observer.disconnect();\n        }}\n}});\n\n// Listen for the removal of the full notebook cells\nvar notebookContainer = gd.closest('#notebook-container');\nif (notebookContainer) {{\n    x.observe(notebookContainer, {childList: true});\n}}\n\n// Listen for the clearing of the current output cell\nvar outputEl = gd.closest('.output');\nif (outputEl) {{\n    x.observe(outputEl, {childList: true});\n}}\n\n                        })                };                });            </script>        </div>"
          },
          "metadata": {}
        }
      ]
    },
    {
      "cell_type": "code",
      "execution_count": 19,
      "metadata": {},
      "outputs": [
        {
          "output_type": "execute_result",
          "data": {
            "text/plain": [
              "<pandas.io.formats.style.Styler at 0x7f1ac70dadc0>"
            ],
            "text/html": "<style  type=\"text/css\" >\n#T_253e8_row0_col2,#T_253e8_row6_col7,#T_253e8_row12_col2,#T_253e8_row18_col7,#T_253e8_row19_col8,#T_253e8_row26_col6,#T_253e8_row27_col2,#T_253e8_row27_col3,#T_253e8_row27_col4,#T_253e8_row27_col7,#T_253e8_row35_col6,#T_253e8_row37_col7,#T_253e8_row43_col3,#T_253e8_row53_col7,#T_253e8_row58_col3,#T_253e8_row59_col3,#T_253e8_row60_col4{\n            background-color:  #fff2ec;\n            color:  #000000;\n        }#T_253e8_row0_col3,#T_253e8_row0_col7,#T_253e8_row0_col8,#T_253e8_row5_col6,#T_253e8_row6_col4,#T_253e8_row6_col6,#T_253e8_row7_col8,#T_253e8_row8_col6,#T_253e8_row12_col3,#T_253e8_row18_col4,#T_253e8_row18_col6,#T_253e8_row20_col6,#T_253e8_row25_col8,#T_253e8_row30_col7,#T_253e8_row34_col7,#T_253e8_row36_col7,#T_253e8_row37_col2,#T_253e8_row37_col4,#T_253e8_row37_col8,#T_253e8_row39_col6,#T_253e8_row43_col6,#T_253e8_row47_col7,#T_253e8_row48_col4,#T_253e8_row54_col7,#T_253e8_row55_col3,#T_253e8_row55_col8,#T_253e8_row60_col6{\n            background-color:  #fff4ee;\n            color:  #000000;\n        }#T_253e8_row0_col4,#T_253e8_row4_col6,#T_253e8_row6_col2,#T_253e8_row7_col7,#T_253e8_row11_col8,#T_253e8_row12_col4,#T_253e8_row14_col7,#T_253e8_row17_col7,#T_253e8_row18_col2,#T_253e8_row20_col7,#T_253e8_row20_col8,#T_253e8_row26_col3,#T_253e8_row26_col7,#T_253e8_row26_col8,#T_253e8_row27_col6,#T_253e8_row28_col6,#T_253e8_row28_col8,#T_253e8_row32_col3,#T_253e8_row32_col8,#T_253e8_row34_col8,#T_253e8_row39_col2,#T_253e8_row39_col4,#T_253e8_row39_col8,#T_253e8_row40_col7,#T_253e8_row48_col2,#T_253e8_row48_col6,#T_253e8_row48_col7,#T_253e8_row49_col7,#T_253e8_row51_col3,#T_253e8_row51_col4,#T_253e8_row59_col6{\n            background-color:  #fff3ed;\n            color:  #000000;\n        }#T_253e8_row0_col5{\n            background-color:  #fdd2bf;\n            color:  #000000;\n        }#T_253e8_row0_col6,#T_253e8_row2_col7,#T_253e8_row11_col7,#T_253e8_row19_col7,#T_253e8_row26_col2,#T_253e8_row26_col4,#T_253e8_row32_col6,#T_253e8_row32_col7,#T_253e8_row38_col6,#T_253e8_row39_col7,#T_253e8_row43_col2,#T_253e8_row43_col4,#T_253e8_row51_col7,#T_253e8_row54_col4,#T_253e8_row55_col6,#T_253e8_row58_col6,#T_253e8_row58_col8,#T_253e8_row60_col2,#T_253e8_row60_col3{\n            background-color:  #fff2eb;\n            color:  #000000;\n        }#T_253e8_row0_col9{\n            background-color:  #fcb398;\n            color:  #000000;\n        }#T_253e8_row1_col2,#T_253e8_row1_col3,#T_253e8_row1_col4,#T_253e8_row1_col6,#T_253e8_row2_col2,#T_253e8_row2_col3,#T_253e8_row2_col4,#T_253e8_row2_col6,#T_253e8_row2_col8,#T_253e8_row3_col2,#T_253e8_row3_col3,#T_253e8_row3_col4,#T_253e8_row3_col6,#T_253e8_row3_col8,#T_253e8_row4_col3,#T_253e8_row4_col8,#T_253e8_row5_col2,#T_253e8_row5_col3,#T_253e8_row5_col4,#T_253e8_row5_col8,#T_253e8_row6_col3,#T_253e8_row7_col2,#T_253e8_row7_col3,#T_253e8_row7_col4,#T_253e8_row7_col6,#T_253e8_row8_col2,#T_253e8_row8_col3,#T_253e8_row8_col4,#T_253e8_row8_col7,#T_253e8_row9_col7,#T_253e8_row9_col8,#T_253e8_row10_col2,#T_253e8_row10_col3,#T_253e8_row10_col4,#T_253e8_row10_col6,#T_253e8_row11_col3,#T_253e8_row11_col6,#T_253e8_row12_col7,#T_253e8_row13_col2,#T_253e8_row13_col3,#T_253e8_row13_col4,#T_253e8_row13_col6,#T_253e8_row13_col8,#T_253e8_row14_col2,#T_253e8_row14_col3,#T_253e8_row14_col4,#T_253e8_row14_col6,#T_253e8_row14_col8,#T_253e8_row15_col2,#T_253e8_row15_col3,#T_253e8_row15_col4,#T_253e8_row15_col6,#T_253e8_row15_col8,#T_253e8_row16_col2,#T_253e8_row16_col3,#T_253e8_row16_col4,#T_253e8_row16_col6,#T_253e8_row17_col2,#T_253e8_row17_col3,#T_253e8_row17_col4,#T_253e8_row17_col6,#T_253e8_row18_col3,#T_253e8_row19_col2,#T_253e8_row19_col3,#T_253e8_row19_col4,#T_253e8_row19_col6,#T_253e8_row21_col2,#T_253e8_row21_col3,#T_253e8_row21_col4,#T_253e8_row21_col6,#T_253e8_row21_col8,#T_253e8_row23_col2,#T_253e8_row23_col3,#T_253e8_row23_col4,#T_253e8_row23_col6,#T_253e8_row23_col7,#T_253e8_row23_col8,#T_253e8_row24_col2,#T_253e8_row24_col3,#T_253e8_row24_col4,#T_253e8_row24_col6,#T_253e8_row24_col8,#T_253e8_row25_col2,#T_253e8_row25_col3,#T_253e8_row25_col4,#T_253e8_row25_col6,#T_253e8_row29_col2,#T_253e8_row29_col3,#T_253e8_row29_col4,#T_253e8_row29_col6,#T_253e8_row29_col8,#T_253e8_row30_col2,#T_253e8_row30_col3,#T_253e8_row30_col4,#T_253e8_row30_col6,#T_253e8_row31_col2,#T_253e8_row31_col3,#T_253e8_row31_col4,#T_253e8_row31_col6,#T_253e8_row31_col7,#T_253e8_row31_col8,#T_253e8_row33_col2,#T_253e8_row33_col3,#T_253e8_row33_col4,#T_253e8_row33_col6,#T_253e8_row33_col8,#T_253e8_row34_col2,#T_253e8_row34_col3,#T_253e8_row34_col4,#T_253e8_row35_col2,#T_253e8_row35_col3,#T_253e8_row35_col4,#T_253e8_row35_col7,#T_253e8_row35_col8,#T_253e8_row37_col3,#T_253e8_row38_col5,#T_253e8_row38_col9,#T_253e8_row40_col2,#T_253e8_row40_col3,#T_253e8_row40_col4,#T_253e8_row40_col6,#T_253e8_row40_col8,#T_253e8_row41_col2,#T_253e8_row41_col3,#T_253e8_row41_col4,#T_253e8_row41_col6,#T_253e8_row41_col7,#T_253e8_row41_col8,#T_253e8_row42_col2,#T_253e8_row42_col3,#T_253e8_row42_col4,#T_253e8_row42_col6,#T_253e8_row44_col2,#T_253e8_row44_col3,#T_253e8_row44_col4,#T_253e8_row45_col3,#T_253e8_row45_col8,#T_253e8_row46_col2,#T_253e8_row46_col3,#T_253e8_row46_col4,#T_253e8_row46_col6,#T_253e8_row46_col7,#T_253e8_row46_col8,#T_253e8_row47_col3,#T_253e8_row49_col3,#T_253e8_row50_col2,#T_253e8_row50_col3,#T_253e8_row50_col4,#T_253e8_row50_col7,#T_253e8_row50_col8,#T_253e8_row52_col2,#T_253e8_row52_col3,#T_253e8_row52_col4,#T_253e8_row52_col6,#T_253e8_row53_col3,#T_253e8_row54_col8,#T_253e8_row56_col2,#T_253e8_row56_col3,#T_253e8_row56_col4,#T_253e8_row56_col6,#T_253e8_row56_col7,#T_253e8_row56_col8,#T_253e8_row57_col2,#T_253e8_row57_col3,#T_253e8_row57_col4,#T_253e8_row57_col7,#T_253e8_row57_col8,#T_253e8_row58_col2,#T_253e8_row58_col4,#T_253e8_row58_col7{\n            background-color:  #fff5f0;\n            color:  #000000;\n        }#T_253e8_row1_col5,#T_253e8_row1_col7,#T_253e8_row3_col5,#T_253e8_row4_col5,#T_253e8_row8_col5,#T_253e8_row10_col5,#T_253e8_row13_col5,#T_253e8_row17_col5,#T_253e8_row21_col5,#T_253e8_row23_col5,#T_253e8_row29_col5,#T_253e8_row31_col5,#T_253e8_row33_col5,#T_253e8_row40_col5,#T_253e8_row41_col5,#T_253e8_row42_col5,#T_253e8_row46_col5,#T_253e8_row49_col5,#T_253e8_row56_col5{\n            background-color:  #fedfd0;\n            color:  #000000;\n        }#T_253e8_row1_col8{\n            background-color:  #fdc9b3;\n            color:  #000000;\n        }#T_253e8_row1_col9,#T_253e8_row20_col9,#T_253e8_row55_col9{\n            background-color:  #fcbba1;\n            color:  #000000;\n        }#T_253e8_row2_col5,#T_253e8_row7_col5,#T_253e8_row9_col5,#T_253e8_row14_col5,#T_253e8_row15_col5,#T_253e8_row16_col5,#T_253e8_row19_col5,#T_253e8_row22_col5,#T_253e8_row24_col5,#T_253e8_row25_col5,#T_253e8_row26_col5,#T_253e8_row27_col5,#T_253e8_row30_col5,#T_253e8_row32_col5,#T_253e8_row35_col5,#T_253e8_row43_col5,#T_253e8_row45_col5,#T_253e8_row47_col5,#T_253e8_row50_col5{\n            background-color:  #fedecf;\n            color:  #000000;\n        }#T_253e8_row2_col9{\n            background-color:  #fc8f6f;\n            color:  #000000;\n        }#T_253e8_row3_col7,#T_253e8_row4_col2,#T_253e8_row4_col4,#T_253e8_row4_col7,#T_253e8_row5_col7,#T_253e8_row6_col8,#T_253e8_row8_col8,#T_253e8_row11_col2,#T_253e8_row11_col4,#T_253e8_row12_col8,#T_253e8_row15_col7,#T_253e8_row17_col8,#T_253e8_row18_col8,#T_253e8_row20_col2,#T_253e8_row20_col3,#T_253e8_row20_col4,#T_253e8_row22_col6,#T_253e8_row25_col7,#T_253e8_row28_col2,#T_253e8_row28_col3,#T_253e8_row28_col4,#T_253e8_row28_col7,#T_253e8_row29_col7,#T_253e8_row30_col8,#T_253e8_row33_col7,#T_253e8_row34_col6,#T_253e8_row36_col8,#T_253e8_row37_col6,#T_253e8_row39_col3,#T_253e8_row44_col6,#T_253e8_row44_col7,#T_253e8_row44_col8,#T_253e8_row45_col6,#T_253e8_row47_col2,#T_253e8_row47_col4,#T_253e8_row47_col6,#T_253e8_row47_col8,#T_253e8_row49_col2,#T_253e8_row49_col4,#T_253e8_row49_col6,#T_253e8_row49_col8,#T_253e8_row51_col8,#T_253e8_row52_col8,#T_253e8_row53_col2,#T_253e8_row53_col4,#T_253e8_row53_col6,#T_253e8_row53_col8,#T_253e8_row54_col3{\n            background-color:  #fff4ef;\n            color:  #000000;\n        }#T_253e8_row3_col9{\n            background-color:  #fcc4ad;\n            color:  #000000;\n        }#T_253e8_row4_col9,#T_253e8_row8_col9,#T_253e8_row9_col9,#T_253e8_row17_col9,#T_253e8_row21_col9,#T_253e8_row26_col9,#T_253e8_row29_col9,#T_253e8_row31_col9,#T_253e8_row33_col9,#T_253e8_row35_col9,#T_253e8_row41_col9,#T_253e8_row46_col9,#T_253e8_row47_col9,#T_253e8_row49_col9,#T_253e8_row50_col9,#T_253e8_row56_col9{\n            background-color:  #fdc6b0;\n            color:  #000000;\n        }#T_253e8_row5_col5,#T_253e8_row55_col5{\n            background-color:  #fdd7c6;\n            color:  #000000;\n        }#T_253e8_row5_col9{\n            background-color:  #fca082;\n            color:  #000000;\n        }#T_253e8_row6_col5,#T_253e8_row36_col5{\n            background-color:  #fdcebb;\n            color:  #000000;\n        }#T_253e8_row6_col9,#T_253e8_row34_col9{\n            background-color:  #fc9373;\n            color:  #000000;\n        }#T_253e8_row7_col9,#T_253e8_row14_col9,#T_253e8_row48_col9,#T_253e8_row58_col9{\n            background-color:  #fcbfa7;\n            color:  #000000;\n        }#T_253e8_row9_col2,#T_253e8_row9_col4,#T_253e8_row52_col7,#T_253e8_row55_col2,#T_253e8_row59_col7,#T_253e8_row60_col8{\n            background-color:  #ffece4;\n            color:  #000000;\n        }#T_253e8_row9_col3,#T_253e8_row57_col6{\n            background-color:  #feeae0;\n            color:  #000000;\n        }#T_253e8_row9_col6,#T_253e8_row22_col7,#T_253e8_row38_col2,#T_253e8_row38_col3,#T_253e8_row38_col4,#T_253e8_row38_col8,#T_253e8_row51_col5,#T_253e8_row52_col9{\n            background-color:  #67000d;\n            color:  #f1f1f1;\n        }#T_253e8_row10_col7{\n            background-color:  #ffeee6;\n            color:  #000000;\n        }#T_253e8_row10_col8,#T_253e8_row42_col8{\n            background-color:  #fee8dd;\n            color:  #000000;\n        }#T_253e8_row10_col9,#T_253e8_row16_col9,#T_253e8_row23_col9,#T_253e8_row25_col9,#T_253e8_row32_col9,#T_253e8_row43_col9{\n            background-color:  #fdc5ae;\n            color:  #000000;\n        }#T_253e8_row11_col5,#T_253e8_row12_col5,#T_253e8_row34_col5{\n            background-color:  #fed8c7;\n            color:  #000000;\n        }#T_253e8_row11_col9,#T_253e8_row22_col2{\n            background-color:  #fc8060;\n            color:  #000000;\n        }#T_253e8_row12_col6{\n            background-color:  #ffebe2;\n            color:  #000000;\n        }#T_253e8_row12_col9,#T_253e8_row27_col9,#T_253e8_row36_col9{\n            background-color:  #fcc3ab;\n            color:  #000000;\n        }#T_253e8_row13_col7,#T_253e8_row16_col7,#T_253e8_row24_col7,#T_253e8_row43_col7,#T_253e8_row48_col3,#T_253e8_row54_col2,#T_253e8_row60_col7{\n            background-color:  #fff1ea;\n            color:  #000000;\n        }#T_253e8_row13_col9,#T_253e8_row19_col9,#T_253e8_row37_col9{\n            background-color:  #fcbda4;\n            color:  #000000;\n        }#T_253e8_row15_col9{\n            background-color:  #fcae92;\n            color:  #000000;\n        }#T_253e8_row16_col8,#T_253e8_row32_col2,#T_253e8_row32_col4{\n            background-color:  #ffefe8;\n            color:  #000000;\n        }#T_253e8_row18_col5,#T_253e8_row54_col5,#T_253e8_row58_col5,#T_253e8_row59_col5{\n            background-color:  #fedaca;\n            color:  #000000;\n        }#T_253e8_row18_col9{\n            background-color:  #fcb69b;\n            color:  #000000;\n        }#T_253e8_row20_col5,#T_253e8_row36_col6{\n            background-color:  #fedbcc;\n            color:  #000000;\n        }#T_253e8_row21_col7{\n            background-color:  #fc9c7d;\n            color:  #000000;\n        }#T_253e8_row22_col3{\n            background-color:  #fee6da;\n            color:  #000000;\n        }#T_253e8_row22_col4{\n            background-color:  #fb7d5d;\n            color:  #000000;\n        }#T_253e8_row22_col8{\n            background-color:  #fc997a;\n            color:  #000000;\n        }#T_253e8_row22_col9,#T_253e8_row60_col9{\n            background-color:  #fcc1a8;\n            color:  #000000;\n        }#T_253e8_row24_col9{\n            background-color:  #fb7555;\n            color:  #000000;\n        }#T_253e8_row27_col8,#T_253e8_row36_col3,#T_253e8_row55_col7{\n            background-color:  #fff0e9;\n            color:  #000000;\n        }#T_253e8_row28_col5,#T_253e8_row57_col5{\n            background-color:  #fdd5c4;\n            color:  #000000;\n        }#T_253e8_row28_col9{\n            background-color:  #fcaf93;\n            color:  #000000;\n        }#T_253e8_row30_col9{\n            background-color:  #fcb89e;\n            color:  #000000;\n        }#T_253e8_row36_col2,#T_253e8_row36_col4{\n            background-color:  #fee7dc;\n            color:  #000000;\n        }#T_253e8_row37_col5,#T_253e8_row39_col5,#T_253e8_row44_col5,#T_253e8_row48_col5,#T_253e8_row53_col5,#T_253e8_row60_col5{\n            background-color:  #fedccd;\n            color:  #000000;\n        }#T_253e8_row38_col7{\n            background-color:  #f14130;\n            color:  #f1f1f1;\n        }#T_253e8_row39_col9,#T_253e8_row42_col9,#T_253e8_row53_col9{\n            background-color:  #fcbea5;\n            color:  #000000;\n        }#T_253e8_row40_col9{\n            background-color:  #fc9474;\n            color:  #000000;\n        }#T_253e8_row42_col7{\n            background-color:  #fee3d6;\n            color:  #000000;\n        }#T_253e8_row43_col8,#T_253e8_row45_col2,#T_253e8_row45_col4,#T_253e8_row54_col6,#T_253e8_row59_col8{\n            background-color:  #fff0e8;\n            color:  #000000;\n        }#T_253e8_row44_col9{\n            background-color:  #fcb99f;\n            color:  #000000;\n        }#T_253e8_row45_col7{\n            background-color:  #fee3d7;\n            color:  #000000;\n        }#T_253e8_row45_col9,#T_253e8_row59_col9{\n            background-color:  #fcbca2;\n            color:  #000000;\n        }#T_253e8_row48_col8,#T_253e8_row51_col6,#T_253e8_row55_col4,#T_253e8_row59_col2,#T_253e8_row59_col4{\n            background-color:  #ffede5;\n            color:  #000000;\n        }#T_253e8_row50_col6{\n            background-color:  #ffeee7;\n            color:  #000000;\n        }#T_253e8_row51_col2{\n            background-color:  #fee8de;\n            color:  #000000;\n        }#T_253e8_row51_col9{\n            background-color:  #a81016;\n            color:  #f1f1f1;\n        }#T_253e8_row52_col5{\n            background-color:  #fed9c9;\n            color:  #000000;\n        }#T_253e8_row54_col9,#T_253e8_row57_col9{\n            background-color:  #fcc2aa;\n            color:  #000000;\n        }</style><table id=\"T_253e8_\" ><thead>    <tr>        <th class=\"blank level0\" ></th>        <th class=\"col_heading level0 col0\" >Country/Region</th>        <th class=\"col_heading level0 col1\" >Time</th>        <th class=\"col_heading level0 col2\" >Confirmed</th>        <th class=\"col_heading level0 col3\" >Deaths</th>        <th class=\"col_heading level0 col4\" >Recovered</th>        <th class=\"col_heading level0 col5\" >Active</th>        <th class=\"col_heading level0 col6\" >Population</th>        <th class=\"col_heading level0 col7\" >%Confirmed</th>        <th class=\"col_heading level0 col8\" >%Deaths</th>        <th class=\"col_heading level0 col9\" >%Active</th>    </tr></thead><tbody>\n                <tr>\n                        <th id=\"T_253e8_level0_row0\" class=\"row_heading level0 row0\" >4</th>\n                        <td id=\"T_253e8_row0_col0\" class=\"data row0 col0\" >Angola</td>\n                        <td id=\"T_253e8_row0_col1\" class=\"data row0 col1\" >2021-05-29 00:00:00</td>\n                        <td id=\"T_253e8_row0_col2\" class=\"data row0 col2\" >34180</td>\n                        <td id=\"T_253e8_row0_col3\" class=\"data row0 col3\" >757</td>\n                        <td id=\"T_253e8_row0_col4\" class=\"data row0 col4\" >27646</td>\n                        <td id=\"T_253e8_row0_col5\" class=\"data row0 col5\" >5777</td>\n                        <td id=\"T_253e8_row0_col6\" class=\"data row0 col6\" >32866272</td>\n                        <td id=\"T_253e8_row0_col7\" class=\"data row0 col7\" >0.001040</td>\n                        <td id=\"T_253e8_row0_col8\" class=\"data row0 col8\" >0.000023</td>\n                        <td id=\"T_253e8_row0_col9\" class=\"data row0 col9\" >0.000176</td>\n            </tr>\n            <tr>\n                        <th id=\"T_253e8_level0_row1\" class=\"row_heading level0 row1\" >5</th>\n                        <td id=\"T_253e8_row1_col0\" class=\"data row1 col0\" >Antigua and Barbuda</td>\n                        <td id=\"T_253e8_row1_col1\" class=\"data row1 col1\" >2021-05-29 00:00:00</td>\n                        <td id=\"T_253e8_row1_col2\" class=\"data row1 col2\" >1259</td>\n                        <td id=\"T_253e8_row1_col3\" class=\"data row1 col3\" >42</td>\n                        <td id=\"T_253e8_row1_col4\" class=\"data row1 col4\" >1206</td>\n                        <td id=\"T_253e8_row1_col5\" class=\"data row1 col5\" >11</td>\n                        <td id=\"T_253e8_row1_col6\" class=\"data row1 col6\" >97929</td>\n                        <td id=\"T_253e8_row1_col7\" class=\"data row1 col7\" >0.012856</td>\n                        <td id=\"T_253e8_row1_col8\" class=\"data row1 col8\" >0.000429</td>\n                        <td id=\"T_253e8_row1_col9\" class=\"data row1 col9\" >0.000112</td>\n            </tr>\n            <tr>\n                        <th id=\"T_253e8_level0_row2\" class=\"row_heading level0 row2\" >19</th>\n                        <td id=\"T_253e8_row2_col0\" class=\"data row2 col0\" >Bhutan</td>\n                        <td id=\"T_253e8_row2_col1\" class=\"data row2 col1\" >2021-05-29 00:00:00</td>\n                        <td id=\"T_253e8_row2_col2\" class=\"data row2 col2\" >1603</td>\n                        <td id=\"T_253e8_row2_col3\" class=\"data row2 col3\" >1</td>\n                        <td id=\"T_253e8_row2_col4\" class=\"data row2 col4\" >1241</td>\n                        <td id=\"T_253e8_row2_col5\" class=\"data row2 col5\" >361</td>\n                        <td id=\"T_253e8_row2_col6\" class=\"data row2 col6\" >771608</td>\n                        <td id=\"T_253e8_row2_col7\" class=\"data row2 col7\" >0.002077</td>\n                        <td id=\"T_253e8_row2_col8\" class=\"data row2 col8\" >0.000001</td>\n                        <td id=\"T_253e8_row2_col9\" class=\"data row2 col9\" >0.000468</td>\n            </tr>\n            <tr>\n                        <th id=\"T_253e8_level0_row3\" class=\"row_heading level0 row3\" >24</th>\n                        <td id=\"T_253e8_row3_col0\" class=\"data row3 col0\" >Brunei</td>\n                        <td id=\"T_253e8_row3_col1\" class=\"data row3 col1\" >2021-05-29 00:00:00</td>\n                        <td id=\"T_253e8_row3_col2\" class=\"data row3 col2\" >241</td>\n                        <td id=\"T_253e8_row3_col3\" class=\"data row3 col3\" >3</td>\n                        <td id=\"T_253e8_row3_col4\" class=\"data row3 col4\" >228</td>\n                        <td id=\"T_253e8_row3_col5\" class=\"data row3 col5\" >10</td>\n                        <td id=\"T_253e8_row3_col6\" class=\"data row3 col6\" >437479</td>\n                        <td id=\"T_253e8_row3_col7\" class=\"data row3 col7\" >0.000551</td>\n                        <td id=\"T_253e8_row3_col8\" class=\"data row3 col8\" >0.000007</td>\n                        <td id=\"T_253e8_row3_col9\" class=\"data row3 col9\" >0.000023</td>\n            </tr>\n            <tr>\n                        <th id=\"T_253e8_level0_row4\" class=\"row_heading level0 row4\" >26</th>\n                        <td id=\"T_253e8_row4_col0\" class=\"data row4 col0\" >Burkina Faso</td>\n                        <td id=\"T_253e8_row4_col1\" class=\"data row4 col1\" >2021-05-29 00:00:00</td>\n                        <td id=\"T_253e8_row4_col2\" class=\"data row4 col2\" >13430</td>\n                        <td id=\"T_253e8_row4_col3\" class=\"data row4 col3\" >166</td>\n                        <td id=\"T_253e8_row4_col4\" class=\"data row4 col4\" >13248</td>\n                        <td id=\"T_253e8_row4_col5\" class=\"data row4 col5\" >16</td>\n                        <td id=\"T_253e8_row4_col6\" class=\"data row4 col6\" >20903273</td>\n                        <td id=\"T_253e8_row4_col7\" class=\"data row4 col7\" >0.000642</td>\n                        <td id=\"T_253e8_row4_col8\" class=\"data row4 col8\" >0.000008</td>\n                        <td id=\"T_253e8_row4_col9\" class=\"data row4 col9\" >0.000001</td>\n            </tr>\n            <tr>\n                        <th id=\"T_253e8_level0_row5\" class=\"row_heading level0 row5\" >28</th>\n                        <td id=\"T_253e8_row5_col0\" class=\"data row5 col0\" >Burundi</td>\n                        <td id=\"T_253e8_row5_col1\" class=\"data row5 col1\" >2021-05-29 00:00:00</td>\n                        <td id=\"T_253e8_row5_col2\" class=\"data row5 col2\" >4715</td>\n                        <td id=\"T_253e8_row5_col3\" class=\"data row5 col3\" >6</td>\n                        <td id=\"T_253e8_row5_col4\" class=\"data row5 col4\" >773</td>\n                        <td id=\"T_253e8_row5_col5\" class=\"data row5 col5\" >3936</td>\n                        <td id=\"T_253e8_row5_col6\" class=\"data row5 col6\" >11890784</td>\n                        <td id=\"T_253e8_row5_col7\" class=\"data row5 col7\" >0.000397</td>\n                        <td id=\"T_253e8_row5_col8\" class=\"data row5 col8\" >0.000001</td>\n                        <td id=\"T_253e8_row5_col9\" class=\"data row5 col9\" >0.000331</td>\n            </tr>\n            <tr>\n                        <th id=\"T_253e8_level0_row6\" class=\"row_heading level0 row6\" >29</th>\n                        <td id=\"T_253e8_row6_col0\" class=\"data row6 col0\" >Cambodia</td>\n                        <td id=\"T_253e8_row6_col1\" class=\"data row6 col1\" >2021-05-29 00:00:00</td>\n                        <td id=\"T_253e8_row6_col2\" class=\"data row6 col2\" >28825</td>\n                        <td id=\"T_253e8_row6_col3\" class=\"data row6 col3\" >203</td>\n                        <td id=\"T_253e8_row6_col4\" class=\"data row6 col4\" >21315</td>\n                        <td id=\"T_253e8_row6_col5\" class=\"data row6 col5\" >7307</td>\n                        <td id=\"T_253e8_row6_col6\" class=\"data row6 col6\" >16718965</td>\n                        <td id=\"T_253e8_row6_col7\" class=\"data row6 col7\" >0.001724</td>\n                        <td id=\"T_253e8_row6_col8\" class=\"data row6 col8\" >0.000012</td>\n                        <td id=\"T_253e8_row6_col9\" class=\"data row6 col9\" >0.000437</td>\n            </tr>\n            <tr>\n                        <th id=\"T_253e8_level0_row7\" class=\"row_heading level0 row7\" >32</th>\n                        <td id=\"T_253e8_row7_col0\" class=\"data row7 col0\" >Central African Republic</td>\n                        <td id=\"T_253e8_row7_col1\" class=\"data row7 col1\" >2021-05-29 00:00:00</td>\n                        <td id=\"T_253e8_row7_col2\" class=\"data row7 col2\" >7085</td>\n                        <td id=\"T_253e8_row7_col3\" class=\"data row7 col3\" >98</td>\n                        <td id=\"T_253e8_row7_col4\" class=\"data row7 col4\" >6665</td>\n                        <td id=\"T_253e8_row7_col5\" class=\"data row7 col5\" >322</td>\n                        <td id=\"T_253e8_row7_col6\" class=\"data row7 col6\" >4829767</td>\n                        <td id=\"T_253e8_row7_col7\" class=\"data row7 col7\" >0.001467</td>\n                        <td id=\"T_253e8_row7_col8\" class=\"data row7 col8\" >0.000020</td>\n                        <td id=\"T_253e8_row7_col9\" class=\"data row7 col9\" >0.000067</td>\n            </tr>\n            <tr>\n                        <th id=\"T_253e8_level0_row8\" class=\"row_heading level0 row8\" >33</th>\n                        <td id=\"T_253e8_row8_col0\" class=\"data row8 col0\" >Chad</td>\n                        <td id=\"T_253e8_row8_col1\" class=\"data row8 col1\" >2021-05-29 00:00:00</td>\n                        <td id=\"T_253e8_row8_col2\" class=\"data row8 col2\" >4928</td>\n                        <td id=\"T_253e8_row8_col3\" class=\"data row8 col3\" >173</td>\n                        <td id=\"T_253e8_row8_col4\" class=\"data row8 col4\" >4742</td>\n                        <td id=\"T_253e8_row8_col5\" class=\"data row8 col5\" >13</td>\n                        <td id=\"T_253e8_row8_col6\" class=\"data row8 col6\" >16425864</td>\n                        <td id=\"T_253e8_row8_col7\" class=\"data row8 col7\" >0.000300</td>\n                        <td id=\"T_253e8_row8_col8\" class=\"data row8 col8\" >0.000011</td>\n                        <td id=\"T_253e8_row8_col9\" class=\"data row8 col9\" >0.000001</td>\n            </tr>\n            <tr>\n                        <th id=\"T_253e8_level0_row9\" class=\"row_heading level0 row9\" >35</th>\n                        <td id=\"T_253e8_row9_col0\" class=\"data row9 col0\" >China</td>\n                        <td id=\"T_253e8_row9_col1\" class=\"data row9 col1\" >2021-05-29 00:00:00</td>\n                        <td id=\"T_253e8_row9_col2\" class=\"data row9 col2\" >102960</td>\n                        <td id=\"T_253e8_row9_col3\" class=\"data row9 col3\" >4846</td>\n                        <td id=\"T_253e8_row9_col4\" class=\"data row9 col4\" >97737</td>\n                        <td id=\"T_253e8_row9_col5\" class=\"data row9 col5\" >377</td>\n                        <td id=\"T_253e8_row9_col6\" class=\"data row9 col6\" >1439323776</td>\n                        <td id=\"T_253e8_row9_col7\" class=\"data row9 col7\" >0.000072</td>\n                        <td id=\"T_253e8_row9_col8\" class=\"data row9 col8\" >0.000003</td>\n                        <td id=\"T_253e8_row9_col9\" class=\"data row9 col9\" >0.000000</td>\n            </tr>\n            <tr>\n                        <th id=\"T_253e8_level0_row10\" class=\"row_heading level0 row10\" >37</th>\n                        <td id=\"T_253e8_row10_col0\" class=\"data row10 col0\" >Comoros</td>\n                        <td id=\"T_253e8_row10_col1\" class=\"data row10 col1\" >2021-05-29 00:00:00</td>\n                        <td id=\"T_253e8_row10_col2\" class=\"data row10 col2\" >3881</td>\n                        <td id=\"T_253e8_row10_col3\" class=\"data row10 col3\" >146</td>\n                        <td id=\"T_253e8_row10_col4\" class=\"data row10 col4\" >3719</td>\n                        <td id=\"T_253e8_row10_col5\" class=\"data row10 col5\" >16</td>\n                        <td id=\"T_253e8_row10_col6\" class=\"data row10 col6\" >869601</td>\n                        <td id=\"T_253e8_row10_col7\" class=\"data row10 col7\" >0.004463</td>\n                        <td id=\"T_253e8_row10_col8\" class=\"data row10 col8\" >0.000168</td>\n                        <td id=\"T_253e8_row10_col9\" class=\"data row10 col9\" >0.000018</td>\n            </tr>\n            <tr>\n                        <th id=\"T_253e8_level0_row11\" class=\"row_heading level0 row11\" >38</th>\n                        <td id=\"T_253e8_row11_col0\" class=\"data row11 col0\" >Congo (Brazzaville)</td>\n                        <td id=\"T_253e8_row11_col1\" class=\"data row11 col1\" >2021-05-29 00:00:00</td>\n                        <td id=\"T_253e8_row11_col2\" class=\"data row11 col2\" >11658</td>\n                        <td id=\"T_253e8_row11_col3\" class=\"data row11 col3\" >153</td>\n                        <td id=\"T_253e8_row11_col4\" class=\"data row11 col4\" >8208</td>\n                        <td id=\"T_253e8_row11_col5\" class=\"data row11 col5\" >3297</td>\n                        <td id=\"T_253e8_row11_col6\" class=\"data row11 col6\" >5518087</td>\n                        <td id=\"T_253e8_row11_col7\" class=\"data row11 col7\" >0.002113</td>\n                        <td id=\"T_253e8_row11_col8\" class=\"data row11 col8\" >0.000028</td>\n                        <td id=\"T_253e8_row11_col9\" class=\"data row11 col9\" >0.000597</td>\n            </tr>\n            <tr>\n                        <th id=\"T_253e8_level0_row12\" class=\"row_heading level0 row12\" >39</th>\n                        <td id=\"T_253e8_row12_col0\" class=\"data row12 col0\" >Congo (Kinshasa)</td>\n                        <td id=\"T_253e8_row12_col1\" class=\"data row12 col1\" >2021-05-29 00:00:00</td>\n                        <td id=\"T_253e8_row12_col2\" class=\"data row12 col2\" >31416</td>\n                        <td id=\"T_253e8_row12_col3\" class=\"data row12 col3\" >782</td>\n                        <td id=\"T_253e8_row12_col4\" class=\"data row12 col4\" >27665</td>\n                        <td id=\"T_253e8_row12_col5\" class=\"data row12 col5\" >2969</td>\n                        <td id=\"T_253e8_row12_col6\" class=\"data row12 col6\" >89561403</td>\n                        <td id=\"T_253e8_row12_col7\" class=\"data row12 col7\" >0.000351</td>\n                        <td id=\"T_253e8_row12_col8\" class=\"data row12 col8\" >0.000009</td>\n                        <td id=\"T_253e8_row12_col9\" class=\"data row12 col9\" >0.000033</td>\n            </tr>\n            <tr>\n                        <th id=\"T_253e8_level0_row13\" class=\"row_heading level0 row13\" >47</th>\n                        <td id=\"T_253e8_row13_col0\" class=\"data row13 col0\" >Dominica</td>\n                        <td id=\"T_253e8_row13_col1\" class=\"data row13 col1\" >2021-05-29 00:00:00</td>\n                        <td id=\"T_253e8_row13_col2\" class=\"data row13 col2\" >188</td>\n                        <td id=\"T_253e8_row13_col3\" class=\"data row13 col3\" >0</td>\n                        <td id=\"T_253e8_row13_col4\" class=\"data row13 col4\" >182</td>\n                        <td id=\"T_253e8_row13_col5\" class=\"data row13 col5\" >6</td>\n                        <td id=\"T_253e8_row13_col6\" class=\"data row13 col6\" >71986</td>\n                        <td id=\"T_253e8_row13_col7\" class=\"data row13 col7\" >0.002612</td>\n                        <td id=\"T_253e8_row13_col8\" class=\"data row13 col8\" >0.000000</td>\n                        <td id=\"T_253e8_row13_col9\" class=\"data row13 col9\" >0.000083</td>\n            </tr>\n            <tr>\n                        <th id=\"T_253e8_level0_row14\" class=\"row_heading level0 row14\" >53</th>\n                        <td id=\"T_253e8_row14_col0\" class=\"data row14 col0\" >Eritrea</td>\n                        <td id=\"T_253e8_row14_col1\" class=\"data row14 col1\" >2021-05-29 00:00:00</td>\n                        <td id=\"T_253e8_row14_col2\" class=\"data row14 col2\" >4061</td>\n                        <td id=\"T_253e8_row14_col3\" class=\"data row14 col3\" >14</td>\n                        <td id=\"T_253e8_row14_col4\" class=\"data row14 col4\" >3812</td>\n                        <td id=\"T_253e8_row14_col5\" class=\"data row14 col5\" >235</td>\n                        <td id=\"T_253e8_row14_col6\" class=\"data row14 col6\" >3546421</td>\n                        <td id=\"T_253e8_row14_col7\" class=\"data row14 col7\" >0.001145</td>\n                        <td id=\"T_253e8_row14_col8\" class=\"data row14 col8\" >0.000004</td>\n                        <td id=\"T_253e8_row14_col9\" class=\"data row14 col9\" >0.000066</td>\n            </tr>\n            <tr>\n                        <th id=\"T_253e8_level0_row15\" class=\"row_heading level0 row15\" >56</th>\n                        <td id=\"T_253e8_row15_col0\" class=\"data row15 col0\" >Fiji</td>\n                        <td id=\"T_253e8_row15_col1\" class=\"data row15 col1\" >2021-05-29 00:00:00</td>\n                        <td id=\"T_253e8_row15_col2\" class=\"data row15 col2\" >360</td>\n                        <td id=\"T_253e8_row15_col3\" class=\"data row15 col3\" >4</td>\n                        <td id=\"T_253e8_row15_col4\" class=\"data row15 col4\" >161</td>\n                        <td id=\"T_253e8_row15_col5\" class=\"data row15 col5\" >195</td>\n                        <td id=\"T_253e8_row15_col6\" class=\"data row15 col6\" >896445</td>\n                        <td id=\"T_253e8_row15_col7\" class=\"data row15 col7\" >0.000402</td>\n                        <td id=\"T_253e8_row15_col8\" class=\"data row15 col8\" >0.000004</td>\n                        <td id=\"T_253e8_row15_col9\" class=\"data row15 col9\" >0.000218</td>\n            </tr>\n            <tr>\n                        <th id=\"T_253e8_level0_row16\" class=\"row_heading level0 row16\" >60</th>\n                        <td id=\"T_253e8_row16_col0\" class=\"data row16 col0\" >Gambia</td>\n                        <td id=\"T_253e8_row16_col1\" class=\"data row16 col1\" >2021-05-29 00:00:00</td>\n                        <td id=\"T_253e8_row16_col2\" class=\"data row16 col2\" >5990</td>\n                        <td id=\"T_253e8_row16_col3\" class=\"data row16 col3\" >178</td>\n                        <td id=\"T_253e8_row16_col4\" class=\"data row16 col4\" >5767</td>\n                        <td id=\"T_253e8_row16_col5\" class=\"data row16 col5\" >45</td>\n                        <td id=\"T_253e8_row16_col6\" class=\"data row16 col6\" >2416668</td>\n                        <td id=\"T_253e8_row16_col7\" class=\"data row16 col7\" >0.002479</td>\n                        <td id=\"T_253e8_row16_col8\" class=\"data row16 col8\" >0.000074</td>\n                        <td id=\"T_253e8_row16_col9\" class=\"data row16 col9\" >0.000019</td>\n            </tr>\n            <tr>\n                        <th id=\"T_253e8_level0_row17\" class=\"row_heading level0 row17\" >65</th>\n                        <td id=\"T_253e8_row17_col0\" class=\"data row17 col0\" >Grenada</td>\n                        <td id=\"T_253e8_row17_col1\" class=\"data row17 col1\" >2021-05-29 00:00:00</td>\n                        <td id=\"T_253e8_row17_col2\" class=\"data row17 col2\" >161</td>\n                        <td id=\"T_253e8_row17_col3\" class=\"data row17 col3\" >1</td>\n                        <td id=\"T_253e8_row17_col4\" class=\"data row17 col4\" >160</td>\n                        <td id=\"T_253e8_row17_col5\" class=\"data row17 col5\" >0</td>\n                        <td id=\"T_253e8_row17_col6\" class=\"data row17 col6\" >112523</td>\n                        <td id=\"T_253e8_row17_col7\" class=\"data row17 col7\" >0.001431</td>\n                        <td id=\"T_253e8_row17_col8\" class=\"data row17 col8\" >0.000009</td>\n                        <td id=\"T_253e8_row17_col9\" class=\"data row17 col9\" >0.000000</td>\n            </tr>\n            <tr>\n                        <th id=\"T_253e8_level0_row18\" class=\"row_heading level0 row18\" >67</th>\n                        <td id=\"T_253e8_row18_col0\" class=\"data row18 col0\" >Guinea</td>\n                        <td id=\"T_253e8_row18_col1\" class=\"data row18 col1\" >2021-05-29 00:00:00</td>\n                        <td id=\"T_253e8_row18_col2\" class=\"data row18 col2\" >23172</td>\n                        <td id=\"T_253e8_row18_col3\" class=\"data row18 col3\" >161</td>\n                        <td id=\"T_253e8_row18_col4\" class=\"data row18 col4\" >20971</td>\n                        <td id=\"T_253e8_row18_col5\" class=\"data row18 col5\" >2040</td>\n                        <td id=\"T_253e8_row18_col6\" class=\"data row18 col6\" >13132795</td>\n                        <td id=\"T_253e8_row18_col7\" class=\"data row18 col7\" >0.001764</td>\n                        <td id=\"T_253e8_row18_col8\" class=\"data row18 col8\" >0.000012</td>\n                        <td id=\"T_253e8_row18_col9\" class=\"data row18 col9\" >0.000155</td>\n            </tr>\n            <tr>\n                        <th id=\"T_253e8_level0_row19\" class=\"row_heading level0 row19\" >68</th>\n                        <td id=\"T_253e8_row19_col0\" class=\"data row19 col0\" >Guinea-Bissau</td>\n                        <td id=\"T_253e8_row19_col1\" class=\"data row19 col1\" >2021-05-29 00:00:00</td>\n                        <td id=\"T_253e8_row19_col2\" class=\"data row19 col2\" >3761</td>\n                        <td id=\"T_253e8_row19_col3\" class=\"data row19 col3\" >68</td>\n                        <td id=\"T_253e8_row19_col4\" class=\"data row19 col4\" >3516</td>\n                        <td id=\"T_253e8_row19_col5\" class=\"data row19 col5\" >177</td>\n                        <td id=\"T_253e8_row19_col6\" class=\"data row19 col6\" >1968001</td>\n                        <td id=\"T_253e8_row19_col7\" class=\"data row19 col7\" >0.001911</td>\n                        <td id=\"T_253e8_row19_col8\" class=\"data row19 col8\" >0.000035</td>\n                        <td id=\"T_253e8_row19_col9\" class=\"data row19 col9\" >0.000090</td>\n            </tr>\n            <tr>\n                        <th id=\"T_253e8_level0_row20\" class=\"row_heading level0 row20\" >70</th>\n                        <td id=\"T_253e8_row20_col0\" class=\"data row20 col0\" >Haiti</td>\n                        <td id=\"T_253e8_row20_col1\" class=\"data row20 col1\" >2021-05-29 00:00:00</td>\n                        <td id=\"T_253e8_row20_col2\" class=\"data row20 col2\" >14128</td>\n                        <td id=\"T_253e8_row20_col3\" class=\"data row20 col3\" >302</td>\n                        <td id=\"T_253e8_row20_col4\" class=\"data row20 col4\" >12528</td>\n                        <td id=\"T_253e8_row20_col5\" class=\"data row20 col5\" >1298</td>\n                        <td id=\"T_253e8_row20_col6\" class=\"data row20 col6\" >11402528</td>\n                        <td id=\"T_253e8_row20_col7\" class=\"data row20 col7\" >0.001239</td>\n                        <td id=\"T_253e8_row20_col8\" class=\"data row20 col8\" >0.000026</td>\n                        <td id=\"T_253e8_row20_col9\" class=\"data row20 col9\" >0.000114</td>\n            </tr>\n            <tr>\n                        <th id=\"T_253e8_level0_row21\" class=\"row_heading level0 row21\" >71</th>\n                        <td id=\"T_253e8_row21_col0\" class=\"data row21 col0\" >Holy See</td>\n                        <td id=\"T_253e8_row21_col1\" class=\"data row21 col1\" >2021-05-29 00:00:00</td>\n                        <td id=\"T_253e8_row21_col2\" class=\"data row21 col2\" >27</td>\n                        <td id=\"T_253e8_row21_col3\" class=\"data row21 col3\" >0</td>\n                        <td id=\"T_253e8_row21_col4\" class=\"data row21 col4\" >27</td>\n                        <td id=\"T_253e8_row21_col5\" class=\"data row21 col5\" >0</td>\n                        <td id=\"T_253e8_row21_col6\" class=\"data row21 col6\" >801</td>\n                        <td id=\"T_253e8_row21_col7\" class=\"data row21 col7\" >0.033708</td>\n                        <td id=\"T_253e8_row21_col8\" class=\"data row21 col8\" >0.000000</td>\n                        <td id=\"T_253e8_row21_col9\" class=\"data row21 col9\" >0.000000</td>\n            </tr>\n            <tr>\n                        <th id=\"T_253e8_level0_row22\" class=\"row_heading level0 row22\" >80</th>\n                        <td id=\"T_253e8_row22_col0\" class=\"data row22 col0\" >Israel</td>\n                        <td id=\"T_253e8_row22_col1\" class=\"data row22 col1\" >2021-05-29 00:00:00</td>\n                        <td id=\"T_253e8_row22_col2\" class=\"data row22 col2\" >839453</td>\n                        <td id=\"T_253e8_row22_col3\" class=\"data row22 col3\" >6407</td>\n                        <td id=\"T_253e8_row22_col4\" class=\"data row22 col4\" >832539</td>\n                        <td id=\"T_253e8_row22_col5\" class=\"data row22 col5\" >507</td>\n                        <td id=\"T_253e8_row22_col6\" class=\"data row22 col6\" >8655535</td>\n                        <td id=\"T_253e8_row22_col7\" class=\"data row22 col7\" >0.096985</td>\n                        <td id=\"T_253e8_row22_col8\" class=\"data row22 col8\" >0.000740</td>\n                        <td id=\"T_253e8_row22_col9\" class=\"data row22 col9\" >0.000059</td>\n            </tr>\n            <tr>\n                        <th id=\"T_253e8_level0_row23\" class=\"row_heading level0 row23\" >87</th>\n                        <td id=\"T_253e8_row23_col0\" class=\"data row23 col0\" >Kiribati</td>\n                        <td id=\"T_253e8_row23_col1\" class=\"data row23 col1\" >2021-05-29 00:00:00</td>\n                        <td id=\"T_253e8_row23_col2\" class=\"data row23 col2\" >2</td>\n                        <td id=\"T_253e8_row23_col3\" class=\"data row23 col3\" >0</td>\n                        <td id=\"T_253e8_row23_col4\" class=\"data row23 col4\" >0</td>\n                        <td id=\"T_253e8_row23_col5\" class=\"data row23 col5\" >2</td>\n                        <td id=\"T_253e8_row23_col6\" class=\"data row23 col6\" >119449</td>\n                        <td id=\"T_253e8_row23_col7\" class=\"data row23 col7\" >0.000017</td>\n                        <td id=\"T_253e8_row23_col8\" class=\"data row23 col8\" >0.000000</td>\n                        <td id=\"T_253e8_row23_col9\" class=\"data row23 col9\" >0.000017</td>\n            </tr>\n            <tr>\n                        <th id=\"T_253e8_level0_row24\" class=\"row_heading level0 row24\" >91</th>\n                        <td id=\"T_253e8_row24_col0\" class=\"data row24 col0\" >Laos</td>\n                        <td id=\"T_253e8_row24_col1\" class=\"data row24 col1\" >2021-05-29 00:00:00</td>\n                        <td id=\"T_253e8_row24_col2\" class=\"data row24 col2\" >1908</td>\n                        <td id=\"T_253e8_row24_col3\" class=\"data row24 col3\" >3</td>\n                        <td id=\"T_253e8_row24_col4\" class=\"data row24 col4\" >1402</td>\n                        <td id=\"T_253e8_row24_col5\" class=\"data row24 col5\" >503</td>\n                        <td id=\"T_253e8_row24_col6\" class=\"data row24 col6\" >727556</td>\n                        <td id=\"T_253e8_row24_col7\" class=\"data row24 col7\" >0.002622</td>\n                        <td id=\"T_253e8_row24_col8\" class=\"data row24 col8\" >0.000004</td>\n                        <td id=\"T_253e8_row24_col9\" class=\"data row24 col9\" >0.000691</td>\n            </tr>\n            <tr>\n                        <th id=\"T_253e8_level0_row25\" class=\"row_heading level0 row25\" >95</th>\n                        <td id=\"T_253e8_row25_col0\" class=\"data row25 col0\" >Liberia</td>\n                        <td id=\"T_253e8_row25_col1\" class=\"data row25 col1\" >2021-05-29 00:00:00</td>\n                        <td id=\"T_253e8_row25_col2\" class=\"data row25 col2\" >2179</td>\n                        <td id=\"T_253e8_row25_col3\" class=\"data row25 col3\" >86</td>\n                        <td id=\"T_253e8_row25_col4\" class=\"data row25 col4\" >2033</td>\n                        <td id=\"T_253e8_row25_col5\" class=\"data row25 col5\" >60</td>\n                        <td id=\"T_253e8_row25_col6\" class=\"data row25 col6\" >5057681</td>\n                        <td id=\"T_253e8_row25_col7\" class=\"data row25 col7\" >0.000431</td>\n                        <td id=\"T_253e8_row25_col8\" class=\"data row25 col8\" >0.000017</td>\n                        <td id=\"T_253e8_row25_col9\" class=\"data row25 col9\" >0.000012</td>\n            </tr>\n            <tr>\n                        <th id=\"T_253e8_level0_row26\" class=\"row_heading level0 row26\" >100</th>\n                        <td id=\"T_253e8_row26_col0\" class=\"data row26 col0\" >Madagascar</td>\n                        <td id=\"T_253e8_row26_col1\" class=\"data row26 col1\" >2021-05-29 00:00:00</td>\n                        <td id=\"T_253e8_row26_col2\" class=\"data row26 col2\" >41234</td>\n                        <td id=\"T_253e8_row26_col3\" class=\"data row26 col3\" >829</td>\n                        <td id=\"T_253e8_row26_col4\" class=\"data row26 col4\" >40176</td>\n                        <td id=\"T_253e8_row26_col5\" class=\"data row26 col5\" >229</td>\n                        <td id=\"T_253e8_row26_col6\" class=\"data row26 col6\" >27691018</td>\n                        <td id=\"T_253e8_row26_col7\" class=\"data row26 col7\" >0.001489</td>\n                        <td id=\"T_253e8_row26_col8\" class=\"data row26 col8\" >0.000030</td>\n                        <td id=\"T_253e8_row26_col9\" class=\"data row26 col9\" >0.000008</td>\n            </tr>\n            <tr>\n                        <th id=\"T_253e8_level0_row27\" class=\"row_heading level0 row27\" >101</th>\n                        <td id=\"T_253e8_row27_col0\" class=\"data row27 col0\" >Malawi</td>\n                        <td id=\"T_253e8_row27_col1\" class=\"data row27 col1\" >2021-05-29 00:00:00</td>\n                        <td id=\"T_253e8_row27_col2\" class=\"data row27 col2\" >34329</td>\n                        <td id=\"T_253e8_row27_col3\" class=\"data row27 col3\" >1154</td>\n                        <td id=\"T_253e8_row27_col4\" class=\"data row27 col4\" >32603</td>\n                        <td id=\"T_253e8_row27_col5\" class=\"data row27 col5\" >572</td>\n                        <td id=\"T_253e8_row27_col6\" class=\"data row27 col6\" >19129952</td>\n                        <td id=\"T_253e8_row27_col7\" class=\"data row27 col7\" >0.001795</td>\n                        <td id=\"T_253e8_row27_col8\" class=\"data row27 col8\" >0.000060</td>\n                        <td id=\"T_253e8_row27_col9\" class=\"data row27 col9\" >0.000030</td>\n            </tr>\n            <tr>\n                        <th id=\"T_253e8_level0_row28\" class=\"row_heading level0 row28\" >104</th>\n                        <td id=\"T_253e8_row28_col0\" class=\"data row28 col0\" >Mali</td>\n                        <td id=\"T_253e8_row28_col1\" class=\"data row28 col1\" >2021-05-29 00:00:00</td>\n                        <td id=\"T_253e8_row28_col2\" class=\"data row28 col2\" >14265</td>\n                        <td id=\"T_253e8_row28_col3\" class=\"data row28 col3\" >517</td>\n                        <td id=\"T_253e8_row28_col4\" class=\"data row28 col4\" >9690</td>\n                        <td id=\"T_253e8_row28_col5\" class=\"data row28 col5\" >4058</td>\n                        <td id=\"T_253e8_row28_col6\" class=\"data row28 col6\" >20250833</td>\n                        <td id=\"T_253e8_row28_col7\" class=\"data row28 col7\" >0.000704</td>\n                        <td id=\"T_253e8_row28_col8\" class=\"data row28 col8\" >0.000026</td>\n                        <td id=\"T_253e8_row28_col9\" class=\"data row28 col9\" >0.000200</td>\n            </tr>\n            <tr>\n                        <th id=\"T_253e8_level0_row29\" class=\"row_heading level0 row29\" >106</th>\n                        <td id=\"T_253e8_row29_col0\" class=\"data row29 col0\" >Marshall Islands</td>\n                        <td id=\"T_253e8_row29_col1\" class=\"data row29 col1\" >2021-05-29 00:00:00</td>\n                        <td id=\"T_253e8_row29_col2\" class=\"data row29 col2\" >4</td>\n                        <td id=\"T_253e8_row29_col3\" class=\"data row29 col3\" >0</td>\n                        <td id=\"T_253e8_row29_col4\" class=\"data row29 col4\" >4</td>\n                        <td id=\"T_253e8_row29_col5\" class=\"data row29 col5\" >0</td>\n                        <td id=\"T_253e8_row29_col6\" class=\"data row29 col6\" >5919</td>\n                        <td id=\"T_253e8_row29_col7\" class=\"data row29 col7\" >0.000676</td>\n                        <td id=\"T_253e8_row29_col8\" class=\"data row29 col8\" >0.000000</td>\n                        <td id=\"T_253e8_row29_col9\" class=\"data row29 col9\" >0.000000</td>\n            </tr>\n            <tr>\n                        <th id=\"T_253e8_level0_row30\" class=\"row_heading level0 row30\" >108</th>\n                        <td id=\"T_253e8_row30_col0\" class=\"data row30 col0\" >Mauritius</td>\n                        <td id=\"T_253e8_row30_col1\" class=\"data row30 col1\" >2021-05-29 00:00:00</td>\n                        <td id=\"T_253e8_row30_col2\" class=\"data row30 col2\" >1363</td>\n                        <td id=\"T_253e8_row30_col3\" class=\"data row30 col3\" >17</td>\n                        <td id=\"T_253e8_row30_col4\" class=\"data row30 col4\" >1183</td>\n                        <td id=\"T_253e8_row30_col5\" class=\"data row30 col5\" >163</td>\n                        <td id=\"T_253e8_row30_col6\" class=\"data row30 col6\" >1271768</td>\n                        <td id=\"T_253e8_row30_col7\" class=\"data row30 col7\" >0.001072</td>\n                        <td id=\"T_253e8_row30_col8\" class=\"data row30 col8\" >0.000013</td>\n                        <td id=\"T_253e8_row30_col9\" class=\"data row30 col9\" >0.000128</td>\n            </tr>\n            <tr>\n                        <th id=\"T_253e8_level0_row31\" class=\"row_heading level0 row31\" >110</th>\n                        <td id=\"T_253e8_row31_col0\" class=\"data row31 col0\" >Micronesia</td>\n                        <td id=\"T_253e8_row31_col1\" class=\"data row31 col1\" >2021-05-29 00:00:00</td>\n                        <td id=\"T_253e8_row31_col2\" class=\"data row31 col2\" >1</td>\n                        <td id=\"T_253e8_row31_col3\" class=\"data row31 col3\" >0</td>\n                        <td id=\"T_253e8_row31_col4\" class=\"data row31 col4\" >1</td>\n                        <td id=\"T_253e8_row31_col5\" class=\"data row31 col5\" >0</td>\n                        <td id=\"T_253e8_row31_col6\" class=\"data row31 col6\" >115023</td>\n                        <td id=\"T_253e8_row31_col7\" class=\"data row31 col7\" >0.000009</td>\n                        <td id=\"T_253e8_row31_col8\" class=\"data row31 col8\" >0.000000</td>\n                        <td id=\"T_253e8_row31_col9\" class=\"data row31 col9\" >0.000000</td>\n            </tr>\n            <tr>\n                        <th id=\"T_253e8_level0_row32\" class=\"row_heading level0 row32\" >116</th>\n                        <td id=\"T_253e8_row32_col0\" class=\"data row32 col0\" >Mozambique</td>\n                        <td id=\"T_253e8_row32_col1\" class=\"data row32 col1\" >2021-05-29 00:00:00</td>\n                        <td id=\"T_253e8_row32_col2\" class=\"data row32 col2\" >70724</td>\n                        <td id=\"T_253e8_row32_col3\" class=\"data row32 col3\" >836</td>\n                        <td id=\"T_253e8_row32_col4\" class=\"data row32 col4\" >69499</td>\n                        <td id=\"T_253e8_row32_col5\" class=\"data row32 col5\" >389</td>\n                        <td id=\"T_253e8_row32_col6\" class=\"data row32 col6\" >31255435</td>\n                        <td id=\"T_253e8_row32_col7\" class=\"data row32 col7\" >0.002263</td>\n                        <td id=\"T_253e8_row32_col8\" class=\"data row32 col8\" >0.000027</td>\n                        <td id=\"T_253e8_row32_col9\" class=\"data row32 col9\" >0.000012</td>\n            </tr>\n            <tr>\n                        <th id=\"T_253e8_level0_row33\" class=\"row_heading level0 row33\" >120</th>\n                        <td id=\"T_253e8_row33_col0\" class=\"data row33 col0\" >New Zealand</td>\n                        <td id=\"T_253e8_row33_col1\" class=\"data row33 col1\" >2021-05-29 00:00:00</td>\n                        <td id=\"T_253e8_row33_col2\" class=\"data row33 col2\" >2672</td>\n                        <td id=\"T_253e8_row33_col3\" class=\"data row33 col3\" >26</td>\n                        <td id=\"T_253e8_row33_col4\" class=\"data row33 col4\" >2630</td>\n                        <td id=\"T_253e8_row33_col5\" class=\"data row33 col5\" >16</td>\n                        <td id=\"T_253e8_row33_col6\" class=\"data row33 col6\" >4822233</td>\n                        <td id=\"T_253e8_row33_col7\" class=\"data row33 col7\" >0.000554</td>\n                        <td id=\"T_253e8_row33_col8\" class=\"data row33 col8\" >0.000005</td>\n                        <td id=\"T_253e8_row33_col9\" class=\"data row33 col9\" >0.000003</td>\n            </tr>\n            <tr>\n                        <th id=\"T_253e8_level0_row34\" class=\"row_heading level0 row34\" >121</th>\n                        <td id=\"T_253e8_row34_col0\" class=\"data row34 col0\" >Nicaragua</td>\n                        <td id=\"T_253e8_row34_col1\" class=\"data row34 col1\" >2021-05-29 00:00:00</td>\n                        <td id=\"T_253e8_row34_col2\" class=\"data row34 col2\" >7324</td>\n                        <td id=\"T_253e8_row34_col3\" class=\"data row34 col3\" >186</td>\n                        <td id=\"T_253e8_row34_col4\" class=\"data row34 col4\" >4225</td>\n                        <td id=\"T_253e8_row34_col5\" class=\"data row34 col5\" >2913</td>\n                        <td id=\"T_253e8_row34_col6\" class=\"data row34 col6\" >6624554</td>\n                        <td id=\"T_253e8_row34_col7\" class=\"data row34 col7\" >0.001106</td>\n                        <td id=\"T_253e8_row34_col8\" class=\"data row34 col8\" >0.000028</td>\n                        <td id=\"T_253e8_row34_col9\" class=\"data row34 col9\" >0.000440</td>\n            </tr>\n            <tr>\n                        <th id=\"T_253e8_level0_row35\" class=\"row_heading level0 row35\" >122</th>\n                        <td id=\"T_253e8_row35_col0\" class=\"data row35 col0\" >Niger</td>\n                        <td id=\"T_253e8_row35_col1\" class=\"data row35 col1\" >2021-05-29 00:00:00</td>\n                        <td id=\"T_253e8_row35_col2\" class=\"data row35 col2\" >5410</td>\n                        <td id=\"T_253e8_row35_col3\" class=\"data row35 col3\" >192</td>\n                        <td id=\"T_253e8_row35_col4\" class=\"data row35 col4\" >5083</td>\n                        <td id=\"T_253e8_row35_col5\" class=\"data row35 col5\" >135</td>\n                        <td id=\"T_253e8_row35_col6\" class=\"data row35 col6\" >24206644</td>\n                        <td id=\"T_253e8_row35_col7\" class=\"data row35 col7\" >0.000223</td>\n                        <td id=\"T_253e8_row35_col8\" class=\"data row35 col8\" >0.000008</td>\n                        <td id=\"T_253e8_row35_col9\" class=\"data row35 col9\" >0.000006</td>\n            </tr>\n            <tr>\n                        <th id=\"T_253e8_level0_row36\" class=\"row_heading level0 row36\" >123</th>\n                        <td id=\"T_253e8_row36_col0\" class=\"data row36 col0\" >Nigeria</td>\n                        <td id=\"T_253e8_row36_col1\" class=\"data row36 col1\" >2021-05-29 00:00:00</td>\n                        <td id=\"T_253e8_row36_col2\" class=\"data row36 col2\" >166285</td>\n                        <td id=\"T_253e8_row36_col3\" class=\"data row36 col3\" >2071</td>\n                        <td id=\"T_253e8_row36_col4\" class=\"data row36 col4\" >156557</td>\n                        <td id=\"T_253e8_row36_col5\" class=\"data row36 col5\" >7657</td>\n                        <td id=\"T_253e8_row36_col6\" class=\"data row36 col6\" >206139589</td>\n                        <td id=\"T_253e8_row36_col7\" class=\"data row36 col7\" >0.000807</td>\n                        <td id=\"T_253e8_row36_col8\" class=\"data row36 col8\" >0.000010</td>\n                        <td id=\"T_253e8_row36_col9\" class=\"data row36 col9\" >0.000037</td>\n            </tr>\n            <tr>\n                        <th id=\"T_253e8_level0_row37\" class=\"row_heading level0 row37\" >129</th>\n                        <td id=\"T_253e8_row37_col0\" class=\"data row37 col0\" >Papua New Guinea</td>\n                        <td id=\"T_253e8_row37_col1\" class=\"data row37 col1\" >2021-05-29 00:00:00</td>\n                        <td id=\"T_253e8_row37_col2\" class=\"data row37 col2\" >15772</td>\n                        <td id=\"T_253e8_row37_col3\" class=\"data row37 col3\" >162</td>\n                        <td id=\"T_253e8_row37_col4\" class=\"data row37 col4\" >14857</td>\n                        <td id=\"T_253e8_row37_col5\" class=\"data row37 col5\" >753</td>\n                        <td id=\"T_253e8_row37_col6\" class=\"data row37 col6\" >8947024</td>\n                        <td id=\"T_253e8_row37_col7\" class=\"data row37 col7\" >0.001763</td>\n                        <td id=\"T_253e8_row37_col8\" class=\"data row37 col8\" >0.000018</td>\n                        <td id=\"T_253e8_row37_col9\" class=\"data row37 col9\" >0.000084</td>\n            </tr>\n            <tr>\n                        <th id=\"T_253e8_level0_row38\" class=\"row_heading level0 row38\" >131</th>\n                        <td id=\"T_253e8_row38_col0\" class=\"data row38 col0\" >Peru</td>\n                        <td id=\"T_253e8_row38_col1\" class=\"data row38 col1\" >2021-05-29 00:00:00</td>\n                        <td id=\"T_253e8_row38_col2\" class=\"data row38 col2\" >1947555</td>\n                        <td id=\"T_253e8_row38_col3\" class=\"data row38 col3\" >68978</td>\n                        <td id=\"T_253e8_row38_col4\" class=\"data row38 col4\" >1897522</td>\n                        <td id=\"T_253e8_row38_col5\" class=\"data row38 col5\" >-18945</td>\n                        <td id=\"T_253e8_row38_col6\" class=\"data row38 col6\" >32971854</td>\n                        <td id=\"T_253e8_row38_col7\" class=\"data row38 col7\" >0.059067</td>\n                        <td id=\"T_253e8_row38_col8\" class=\"data row38 col8\" >0.002092</td>\n                        <td id=\"T_253e8_row38_col9\" class=\"data row38 col9\" >-0.000575</td>\n            </tr>\n            <tr>\n                        <th id=\"T_253e8_level0_row39\" class=\"row_heading level0 row39\" >138</th>\n                        <td id=\"T_253e8_row39_col0\" class=\"data row39 col0\" >Rwanda</td>\n                        <td id=\"T_253e8_row39_col1\" class=\"data row39 col1\" >2021-05-29 00:00:00</td>\n                        <td id=\"T_253e8_row39_col2\" class=\"data row39 col2\" >26892</td>\n                        <td id=\"T_253e8_row39_col3\" class=\"data row39 col3\" >352</td>\n                        <td id=\"T_253e8_row39_col4\" class=\"data row39 col4\" >25602</td>\n                        <td id=\"T_253e8_row39_col5\" class=\"data row39 col5\" >938</td>\n                        <td id=\"T_253e8_row39_col6\" class=\"data row39 col6\" >12952218</td>\n                        <td id=\"T_253e8_row39_col7\" class=\"data row39 col7\" >0.002076</td>\n                        <td id=\"T_253e8_row39_col8\" class=\"data row39 col8\" >0.000027</td>\n                        <td id=\"T_253e8_row39_col9\" class=\"data row39 col9\" >0.000072</td>\n            </tr>\n            <tr>\n                        <th id=\"T_253e8_level0_row40\" class=\"row_heading level0 row40\" >139</th>\n                        <td id=\"T_253e8_row40_col0\" class=\"data row40 col0\" >Saint Kitts and Nevis</td>\n                        <td id=\"T_253e8_row40_col1\" class=\"data row40 col1\" >2021-05-29 00:00:00</td>\n                        <td id=\"T_253e8_row40_col2\" class=\"data row40 col2\" >68</td>\n                        <td id=\"T_253e8_row40_col3\" class=\"data row40 col3\" >0</td>\n                        <td id=\"T_253e8_row40_col4\" class=\"data row40 col4\" >45</td>\n                        <td id=\"T_253e8_row40_col5\" class=\"data row40 col5\" >23</td>\n                        <td id=\"T_253e8_row40_col6\" class=\"data row40 col6\" >53199</td>\n                        <td id=\"T_253e8_row40_col7\" class=\"data row40 col7\" >0.001278</td>\n                        <td id=\"T_253e8_row40_col8\" class=\"data row40 col8\" >0.000000</td>\n                        <td id=\"T_253e8_row40_col9\" class=\"data row40 col9\" >0.000432</td>\n            </tr>\n            <tr>\n                        <th id=\"T_253e8_level0_row41\" class=\"row_heading level0 row41\" >142</th>\n                        <td id=\"T_253e8_row41_col0\" class=\"data row41 col0\" >Samoa</td>\n                        <td id=\"T_253e8_row41_col1\" class=\"data row41 col1\" >2021-05-29 00:00:00</td>\n                        <td id=\"T_253e8_row41_col2\" class=\"data row41 col2\" >3</td>\n                        <td id=\"T_253e8_row41_col3\" class=\"data row41 col3\" >0</td>\n                        <td id=\"T_253e8_row41_col4\" class=\"data row41 col4\" >3</td>\n                        <td id=\"T_253e8_row41_col5\" class=\"data row41 col5\" >0</td>\n                        <td id=\"T_253e8_row41_col6\" class=\"data row41 col6\" >198414</td>\n                        <td id=\"T_253e8_row41_col7\" class=\"data row41 col7\" >0.000015</td>\n                        <td id=\"T_253e8_row41_col8\" class=\"data row41 col8\" >0.000000</td>\n                        <td id=\"T_253e8_row41_col9\" class=\"data row41 col9\" >0.000000</td>\n            </tr>\n            <tr>\n                        <th id=\"T_253e8_level0_row42\" class=\"row_heading level0 row42\" >144</th>\n                        <td id=\"T_253e8_row42_col0\" class=\"data row42 col0\" >Sao Tome and Principe</td>\n                        <td id=\"T_253e8_row42_col1\" class=\"data row42 col1\" >2021-05-29 00:00:00</td>\n                        <td id=\"T_253e8_row42_col2\" class=\"data row42 col2\" >2345</td>\n                        <td id=\"T_253e8_row42_col3\" class=\"data row42 col3\" >37</td>\n                        <td id=\"T_253e8_row42_col4\" class=\"data row42 col4\" >2291</td>\n                        <td id=\"T_253e8_row42_col5\" class=\"data row42 col5\" >17</td>\n                        <td id=\"T_253e8_row42_col6\" class=\"data row42 col6\" >219159</td>\n                        <td id=\"T_253e8_row42_col7\" class=\"data row42 col7\" >0.010700</td>\n                        <td id=\"T_253e8_row42_col8\" class=\"data row42 col8\" >0.000169</td>\n                        <td id=\"T_253e8_row42_col9\" class=\"data row42 col9\" >0.000078</td>\n            </tr>\n            <tr>\n                        <th id=\"T_253e8_level0_row43\" class=\"row_heading level0 row43\" >146</th>\n                        <td id=\"T_253e8_row43_col0\" class=\"data row43 col0\" >Senegal</td>\n                        <td id=\"T_253e8_row43_col1\" class=\"data row43 col1\" >2021-05-29 00:00:00</td>\n                        <td id=\"T_253e8_row43_col2\" class=\"data row43 col2\" >41331</td>\n                        <td id=\"T_253e8_row43_col3\" class=\"data row43 col3\" >1138</td>\n                        <td id=\"T_253e8_row43_col4\" class=\"data row43 col4\" >39972</td>\n                        <td id=\"T_253e8_row43_col5\" class=\"data row43 col5\" >221</td>\n                        <td id=\"T_253e8_row43_col6\" class=\"data row43 col6\" >16743927</td>\n                        <td id=\"T_253e8_row43_col7\" class=\"data row43 col7\" >0.002468</td>\n                        <td id=\"T_253e8_row43_col8\" class=\"data row43 col8\" >0.000068</td>\n                        <td id=\"T_253e8_row43_col9\" class=\"data row43 col9\" >0.000013</td>\n            </tr>\n            <tr>\n                        <th id=\"T_253e8_level0_row44\" class=\"row_heading level0 row44\" >149</th>\n                        <td id=\"T_253e8_row44_col0\" class=\"data row44 col0\" >Sierra Leone</td>\n                        <td id=\"T_253e8_row44_col1\" class=\"data row44 col1\" >2021-05-29 00:00:00</td>\n                        <td id=\"T_253e8_row44_col2\" class=\"data row44 col2\" >4141</td>\n                        <td id=\"T_253e8_row44_col3\" class=\"data row44 col3\" >79</td>\n                        <td id=\"T_253e8_row44_col4\" class=\"data row44 col4\" >3131</td>\n                        <td id=\"T_253e8_row44_col5\" class=\"data row44 col5\" >931</td>\n                        <td id=\"T_253e8_row44_col6\" class=\"data row44 col6\" >7976983</td>\n                        <td id=\"T_253e8_row44_col7\" class=\"data row44 col7\" >0.000519</td>\n                        <td id=\"T_253e8_row44_col8\" class=\"data row44 col8\" >0.000010</td>\n                        <td id=\"T_253e8_row44_col9\" class=\"data row44 col9\" >0.000117</td>\n            </tr>\n            <tr>\n                        <th id=\"T_253e8_level0_row45\" class=\"row_heading level0 row45\" >150</th>\n                        <td id=\"T_253e8_row45_col0\" class=\"data row45 col0\" >Singapore</td>\n                        <td id=\"T_253e8_row45_col1\" class=\"data row45 col1\" >2021-05-29 00:00:00</td>\n                        <td id=\"T_253e8_row45_col2\" class=\"data row45 col2\" >62003</td>\n                        <td id=\"T_253e8_row45_col3\" class=\"data row45 col3\" >32</td>\n                        <td id=\"T_253e8_row45_col4\" class=\"data row45 col4\" >61423</td>\n                        <td id=\"T_253e8_row45_col5\" class=\"data row45 col5\" >548</td>\n                        <td id=\"T_253e8_row45_col6\" class=\"data row45 col6\" >5850342</td>\n                        <td id=\"T_253e8_row45_col7\" class=\"data row45 col7\" >0.010598</td>\n                        <td id=\"T_253e8_row45_col8\" class=\"data row45 col8\" >0.000005</td>\n                        <td id=\"T_253e8_row45_col9\" class=\"data row45 col9\" >0.000094</td>\n            </tr>\n            <tr>\n                        <th id=\"T_253e8_level0_row46\" class=\"row_heading level0 row46\" >153</th>\n                        <td id=\"T_253e8_row46_col0\" class=\"data row46 col0\" >Solomon Islands</td>\n                        <td id=\"T_253e8_row46_col1\" class=\"data row46 col1\" >2021-05-29 00:00:00</td>\n                        <td id=\"T_253e8_row46_col2\" class=\"data row46 col2\" >20</td>\n                        <td id=\"T_253e8_row46_col3\" class=\"data row46 col3\" >0</td>\n                        <td id=\"T_253e8_row46_col4\" class=\"data row46 col4\" >20</td>\n                        <td id=\"T_253e8_row46_col5\" class=\"data row46 col5\" >0</td>\n                        <td id=\"T_253e8_row46_col6\" class=\"data row46 col6\" >686884</td>\n                        <td id=\"T_253e8_row46_col7\" class=\"data row46 col7\" >0.000029</td>\n                        <td id=\"T_253e8_row46_col8\" class=\"data row46 col8\" >0.000000</td>\n                        <td id=\"T_253e8_row46_col9\" class=\"data row46 col9\" >0.000000</td>\n            </tr>\n            <tr>\n                        <th id=\"T_253e8_level0_row47\" class=\"row_heading level0 row47\" >156</th>\n                        <td id=\"T_253e8_row47_col0\" class=\"data row47 col0\" >South Sudan</td>\n                        <td id=\"T_253e8_row47_col1\" class=\"data row47 col1\" >2021-05-29 00:00:00</td>\n                        <td id=\"T_253e8_row47_col2\" class=\"data row47 col2\" >10688</td>\n                        <td id=\"T_253e8_row47_col3\" class=\"data row47 col3\" >115</td>\n                        <td id=\"T_253e8_row47_col4\" class=\"data row47 col4\" >10514</td>\n                        <td id=\"T_253e8_row47_col5\" class=\"data row47 col5\" >59</td>\n                        <td id=\"T_253e8_row47_col6\" class=\"data row47 col6\" >11193725</td>\n                        <td id=\"T_253e8_row47_col7\" class=\"data row47 col7\" >0.000955</td>\n                        <td id=\"T_253e8_row47_col8\" class=\"data row47 col8\" >0.000010</td>\n                        <td id=\"T_253e8_row47_col9\" class=\"data row47 col9\" >0.000005</td>\n            </tr>\n            <tr>\n                        <th id=\"T_253e8_level0_row48\" class=\"row_heading level0 row48\" >163</th>\n                        <td id=\"T_253e8_row48_col0\" class=\"data row48 col0\" >Syria</td>\n                        <td id=\"T_253e8_row48_col1\" class=\"data row48 col1\" >2021-05-29 00:00:00</td>\n                        <td id=\"T_253e8_row48_col2\" class=\"data row48 col2\" >24440</td>\n                        <td id=\"T_253e8_row48_col3\" class=\"data row48 col3\" >1763</td>\n                        <td id=\"T_253e8_row48_col4\" class=\"data row48 col4\" >21593</td>\n                        <td id=\"T_253e8_row48_col5\" class=\"data row48 col5\" >1084</td>\n                        <td id=\"T_253e8_row48_col6\" class=\"data row48 col6\" >17500658</td>\n                        <td id=\"T_253e8_row48_col7\" class=\"data row48 col7\" >0.001397</td>\n                        <td id=\"T_253e8_row48_col8\" class=\"data row48 col8\" >0.000101</td>\n                        <td id=\"T_253e8_row48_col9\" class=\"data row48 col9\" >0.000062</td>\n            </tr>\n            <tr>\n                        <th id=\"T_253e8_level0_row49\" class=\"row_heading level0 row49\" >164</th>\n                        <td id=\"T_253e8_row49_col0\" class=\"data row49 col0\" >Tajikistan</td>\n                        <td id=\"T_253e8_row49_col1\" class=\"data row49 col1\" >2021-05-29 00:00:00</td>\n                        <td id=\"T_253e8_row49_col2\" class=\"data row49 col2\" >13308</td>\n                        <td id=\"T_253e8_row49_col3\" class=\"data row49 col3\" >90</td>\n                        <td id=\"T_253e8_row49_col4\" class=\"data row49 col4\" >13218</td>\n                        <td id=\"T_253e8_row49_col5\" class=\"data row49 col5\" >0</td>\n                        <td id=\"T_253e8_row49_col6\" class=\"data row49 col6\" >9537645</td>\n                        <td id=\"T_253e8_row49_col7\" class=\"data row49 col7\" >0.001395</td>\n                        <td id=\"T_253e8_row49_col8\" class=\"data row49 col8\" >0.000009</td>\n                        <td id=\"T_253e8_row49_col9\" class=\"data row49 col9\" >0.000000</td>\n            </tr>\n            <tr>\n                        <th id=\"T_253e8_level0_row50\" class=\"row_heading level0 row50\" >165</th>\n                        <td id=\"T_253e8_row50_col0\" class=\"data row50 col0\" >Tanzania</td>\n                        <td id=\"T_253e8_row50_col1\" class=\"data row50 col1\" >2021-05-29 00:00:00</td>\n                        <td id=\"T_253e8_row50_col2\" class=\"data row50 col2\" >509</td>\n                        <td id=\"T_253e8_row50_col3\" class=\"data row50 col3\" >21</td>\n                        <td id=\"T_253e8_row50_col4\" class=\"data row50 col4\" >183</td>\n                        <td id=\"T_253e8_row50_col5\" class=\"data row50 col5\" >305</td>\n                        <td id=\"T_253e8_row50_col6\" class=\"data row50 col6\" >59734218</td>\n                        <td id=\"T_253e8_row50_col7\" class=\"data row50 col7\" >0.000009</td>\n                        <td id=\"T_253e8_row50_col8\" class=\"data row50 col8\" >0.000000</td>\n                        <td id=\"T_253e8_row50_col9\" class=\"data row50 col9\" >0.000005</td>\n            </tr>\n            <tr>\n                        <th id=\"T_253e8_level0_row51\" class=\"row_heading level0 row51\" >166</th>\n                        <td id=\"T_253e8_row51_col0\" class=\"data row51 col0\" >Thailand</td>\n                        <td id=\"T_253e8_row51_col1\" class=\"data row51 col1\" >2021-05-29 00:00:00</td>\n                        <td id=\"T_253e8_row51_col2\" class=\"data row51 col2\" >151842</td>\n                        <td id=\"T_253e8_row51_col3\" class=\"data row51 col3\" >988</td>\n                        <td id=\"T_253e8_row51_col4\" class=\"data row51 col4\" >26873</td>\n                        <td id=\"T_253e8_row51_col5\" class=\"data row51 col5\" >123981</td>\n                        <td id=\"T_253e8_row51_col6\" class=\"data row51 col6\" >69799978</td>\n                        <td id=\"T_253e8_row51_col7\" class=\"data row51 col7\" >0.002175</td>\n                        <td id=\"T_253e8_row51_col8\" class=\"data row51 col8\" >0.000014</td>\n                        <td id=\"T_253e8_row51_col9\" class=\"data row51 col9\" >0.001776</td>\n            </tr>\n            <tr>\n                        <th id=\"T_253e8_level0_row52\" class=\"row_heading level0 row52\" >167</th>\n                        <td id=\"T_253e8_row52_col0\" class=\"data row52 col0\" >Timor-Leste</td>\n                        <td id=\"T_253e8_row52_col1\" class=\"data row52 col1\" >2021-05-29 00:00:00</td>\n                        <td id=\"T_253e8_row52_col2\" class=\"data row52 col2\" >6752</td>\n                        <td id=\"T_253e8_row52_col3\" class=\"data row52 col3\" >16</td>\n                        <td id=\"T_253e8_row52_col4\" class=\"data row52 col4\" >3915</td>\n                        <td id=\"T_253e8_row52_col5\" class=\"data row52 col5\" >2821</td>\n                        <td id=\"T_253e8_row52_col6\" class=\"data row52 col6\" >1318445</td>\n                        <td id=\"T_253e8_row52_col7\" class=\"data row52 col7\" >0.005121</td>\n                        <td id=\"T_253e8_row52_col8\" class=\"data row52 col8\" >0.000012</td>\n                        <td id=\"T_253e8_row52_col9\" class=\"data row52 col9\" >0.002140</td>\n            </tr>\n            <tr>\n                        <th id=\"T_253e8_level0_row53\" class=\"row_heading level0 row53\" >168</th>\n                        <td id=\"T_253e8_row53_col0\" class=\"data row53 col0\" >Togo</td>\n                        <td id=\"T_253e8_row53_col1\" class=\"data row53 col1\" >2021-05-29 00:00:00</td>\n                        <td id=\"T_253e8_row53_col2\" class=\"data row53 col2\" >13432</td>\n                        <td id=\"T_253e8_row53_col3\" class=\"data row53 col3\" >125</td>\n                        <td id=\"T_253e8_row53_col4\" class=\"data row53 col4\" >12644</td>\n                        <td id=\"T_253e8_row53_col5\" class=\"data row53 col5\" >663</td>\n                        <td id=\"T_253e8_row53_col6\" class=\"data row53 col6\" >8278724</td>\n                        <td id=\"T_253e8_row53_col7\" class=\"data row53 col7\" >0.001622</td>\n                        <td id=\"T_253e8_row53_col8\" class=\"data row53 col8\" >0.000015</td>\n                        <td id=\"T_253e8_row53_col9\" class=\"data row53 col9\" >0.000080</td>\n            </tr>\n            <tr>\n                        <th id=\"T_253e8_level0_row54\" class=\"row_heading level0 row54\" >173</th>\n                        <td id=\"T_253e8_row54_col0\" class=\"data row54 col0\" >Uganda</td>\n                        <td id=\"T_253e8_row54_col1\" class=\"data row54 col1\" >2021-05-29 00:00:00</td>\n                        <td id=\"T_253e8_row54_col2\" class=\"data row54 col2\" >45931</td>\n                        <td id=\"T_253e8_row54_col3\" class=\"data row54 col3\" >362</td>\n                        <td id=\"T_253e8_row54_col4\" class=\"data row54 col4\" >43401</td>\n                        <td id=\"T_253e8_row54_col5\" class=\"data row54 col5\" >2168</td>\n                        <td id=\"T_253e8_row54_col6\" class=\"data row54 col6\" >45741007</td>\n                        <td id=\"T_253e8_row54_col7\" class=\"data row54 col7\" >0.001004</td>\n                        <td id=\"T_253e8_row54_col8\" class=\"data row54 col8\" >0.000008</td>\n                        <td id=\"T_253e8_row54_col9\" class=\"data row54 col9\" >0.000047</td>\n            </tr>\n            <tr>\n                        <th id=\"T_253e8_level0_row55\" class=\"row_heading level0 row55\" >178</th>\n                        <td id=\"T_253e8_row55_col0\" class=\"data row55 col0\" >Uzbekistan</td>\n                        <td id=\"T_253e8_row55_col1\" class=\"data row55 col1\" >2021-05-29 00:00:00</td>\n                        <td id=\"T_253e8_row55_col2\" class=\"data row55 col2\" >99844</td>\n                        <td id=\"T_253e8_row55_col3\" class=\"data row55 col3\" >688</td>\n                        <td id=\"T_253e8_row55_col4\" class=\"data row55 col4\" >95529</td>\n                        <td id=\"T_253e8_row55_col5\" class=\"data row55 col5\" >3627</td>\n                        <td id=\"T_253e8_row55_col6\" class=\"data row55 col6\" >33469203</td>\n                        <td id=\"T_253e8_row55_col7\" class=\"data row55 col7\" >0.002983</td>\n                        <td id=\"T_253e8_row55_col8\" class=\"data row55 col8\" >0.000021</td>\n                        <td id=\"T_253e8_row55_col9\" class=\"data row55 col9\" >0.000108</td>\n            </tr>\n            <tr>\n                        <th id=\"T_253e8_level0_row56\" class=\"row_heading level0 row56\" >179</th>\n                        <td id=\"T_253e8_row56_col0\" class=\"data row56 col0\" >Vanuatu</td>\n                        <td id=\"T_253e8_row56_col1\" class=\"data row56 col1\" >2021-05-29 00:00:00</td>\n                        <td id=\"T_253e8_row56_col2\" class=\"data row56 col2\" >4</td>\n                        <td id=\"T_253e8_row56_col3\" class=\"data row56 col3\" >1</td>\n                        <td id=\"T_253e8_row56_col4\" class=\"data row56 col4\" >3</td>\n                        <td id=\"T_253e8_row56_col5\" class=\"data row56 col5\" >0</td>\n                        <td id=\"T_253e8_row56_col6\" class=\"data row56 col6\" >307145</td>\n                        <td id=\"T_253e8_row56_col7\" class=\"data row56 col7\" >0.000013</td>\n                        <td id=\"T_253e8_row56_col8\" class=\"data row56 col8\" >0.000003</td>\n                        <td id=\"T_253e8_row56_col9\" class=\"data row56 col9\" >0.000000</td>\n            </tr>\n            <tr>\n                        <th id=\"T_253e8_level0_row57\" class=\"row_heading level0 row57\" >181</th>\n                        <td id=\"T_253e8_row57_col0\" class=\"data row57 col0\" >Vietnam</td>\n                        <td id=\"T_253e8_row57_col1\" class=\"data row57 col1\" >2021-05-29 00:00:00</td>\n                        <td id=\"T_253e8_row57_col2\" class=\"data row57 col2\" >6908</td>\n                        <td id=\"T_253e8_row57_col3\" class=\"data row57 col3\" >47</td>\n                        <td id=\"T_253e8_row57_col4\" class=\"data row57 col4\" >2896</td>\n                        <td id=\"T_253e8_row57_col5\" class=\"data row57 col5\" >3965</td>\n                        <td id=\"T_253e8_row57_col6\" class=\"data row57 col6\" >97338579</td>\n                        <td id=\"T_253e8_row57_col7\" class=\"data row57 col7\" >0.000071</td>\n                        <td id=\"T_253e8_row57_col8\" class=\"data row57 col8\" >0.000000</td>\n                        <td id=\"T_253e8_row57_col9\" class=\"data row57 col9\" >0.000041</td>\n            </tr>\n            <tr>\n                        <th id=\"T_253e8_level0_row58\" class=\"row_heading level0 row58\" >182</th>\n                        <td id=\"T_253e8_row58_col0\" class=\"data row58 col0\" >Yemen</td>\n                        <td id=\"T_253e8_row58_col1\" class=\"data row58 col1\" >2021-05-29 00:00:00</td>\n                        <td id=\"T_253e8_row58_col2\" class=\"data row58 col2\" >6731</td>\n                        <td id=\"T_253e8_row58_col3\" class=\"data row58 col3\" >1319</td>\n                        <td id=\"T_253e8_row58_col4\" class=\"data row58 col4\" >3399</td>\n                        <td id=\"T_253e8_row58_col5\" class=\"data row58 col5\" >2013</td>\n                        <td id=\"T_253e8_row58_col6\" class=\"data row58 col6\" >29825964</td>\n                        <td id=\"T_253e8_row58_col7\" class=\"data row58 col7\" >0.000226</td>\n                        <td id=\"T_253e8_row58_col8\" class=\"data row58 col8\" >0.000044</td>\n                        <td id=\"T_253e8_row58_col9\" class=\"data row58 col9\" >0.000067</td>\n            </tr>\n            <tr>\n                        <th id=\"T_253e8_level0_row59\" class=\"row_heading level0 row59\" >183</th>\n                        <td id=\"T_253e8_row59_col0\" class=\"data row59 col0\" >Zambia</td>\n                        <td id=\"T_253e8_row59_col1\" class=\"data row59 col1\" >2021-05-29 00:00:00</td>\n                        <td id=\"T_253e8_row59_col2\" class=\"data row59 col2\" >94751</td>\n                        <td id=\"T_253e8_row59_col3\" class=\"data row59 col3\" >1276</td>\n                        <td id=\"T_253e8_row59_col4\" class=\"data row59 col4\" >91594</td>\n                        <td id=\"T_253e8_row59_col5\" class=\"data row59 col5\" >1881</td>\n                        <td id=\"T_253e8_row59_col6\" class=\"data row59 col6\" >18383955</td>\n                        <td id=\"T_253e8_row59_col7\" class=\"data row59 col7\" >0.005154</td>\n                        <td id=\"T_253e8_row59_col8\" class=\"data row59 col8\" >0.000069</td>\n                        <td id=\"T_253e8_row59_col9\" class=\"data row59 col9\" >0.000102</td>\n            </tr>\n            <tr>\n                        <th id=\"T_253e8_level0_row60\" class=\"row_heading level0 row60\" >184</th>\n                        <td id=\"T_253e8_row60_col0\" class=\"data row60 col0\" >Zimbabwe</td>\n                        <td id=\"T_253e8_row60_col1\" class=\"data row60 col1\" >2021-05-29 00:00:00</td>\n                        <td id=\"T_253e8_row60_col2\" class=\"data row60 col2\" >38933</td>\n                        <td id=\"T_253e8_row60_col3\" class=\"data row60 col3\" >1594</td>\n                        <td id=\"T_253e8_row60_col4\" class=\"data row60 col4\" >36578</td>\n                        <td id=\"T_253e8_row60_col5\" class=\"data row60 col5\" >761</td>\n                        <td id=\"T_253e8_row60_col6\" class=\"data row60 col6\" >14862924</td>\n                        <td id=\"T_253e8_row60_col7\" class=\"data row60 col7\" >0.002619</td>\n                        <td id=\"T_253e8_row60_col8\" class=\"data row60 col8\" >0.000107</td>\n                        <td id=\"T_253e8_row60_col9\" class=\"data row60 col9\" >0.000051</td>\n            </tr>\n    </tbody></table>"
          },
          "metadata": {},
          "execution_count": 19
        }
      ],
      "source": [
        "cukupRawan.style.background_gradient(cmap = \"Reds\")"
      ]
    },
    {
      "source": [
        "**Vulnerable Country**"
      ],
      "cell_type": "markdown",
      "metadata": {}
    },
    {
      "cell_type": "code",
      "metadata": {
        "colab": {
          "base_uri": "https://localhost:8080/",
          "height": 0
        },
        "id": "00jfaHDaexQ3",
        "outputId": "24b40e77-b785-4750-a5eb-0079fab6695c"
      },
      "source": [
        "# Rawan\n",
        "fig = px.choropleth(last_day, locations=rawan['Country/Region'],\n",
        "                    color=rawan['Confirmed'],locationmode='country names', \n",
        "                    hover_name=rawan['Country/Region'], \n",
        "                    color_continuous_scale=px.colors.sequential.Plasma,\n",
        "                    template ='plotly_white')\n",
        "fig.update_layout(title_text=\"Vulnerable Country\")\n",
        "fig.update_coloraxes(colorbar_title=\"Number of confirmed cases\")\n",
        "\n",
        "fig.show()"
      ],
      "execution_count": 20,
      "outputs": [
        {
          "output_type": "display_data",
          "data": {
            "application/vnd.plotly.v1+json": {
              "config": {
                "plotlyServerURL": "https://plot.ly"
              },
              "data": [
                {
                  "coloraxis": "coloraxis",
                  "geo": "geo",
                  "hovertemplate": "<b>%{hovertext}</b><br><br>locations=%{location}<br>color=%{z}<extra></extra>",
                  "hovertext": [
                    "Afghanistan",
                    "Albania",
                    "Algeria",
                    "Angola",
                    "Antigua and Barbuda",
                    "Australia",
                    "Austria",
                    "Azerbaijan",
                    "Bangladesh",
                    "Barbados",
                    "Belarus",
                    "Belize",
                    "Benin",
                    "Bhutan",
                    "Brunei",
                    "Burkina Faso",
                    "Burundi",
                    "Cambodia",
                    "Cameroon",
                    "Central African Republic",
                    "Chad",
                    "China",
                    "Comoros",
                    "Congo (Brazzaville)",
                    "Congo (Kinshasa)",
                    "Croatia",
                    "Cuba",
                    "Cyprus",
                    "Dominica",
                    "Egypt",
                    "El Salvador",
                    "Equatorial Guinea",
                    "Eritrea",
                    "Ethiopia",
                    "Fiji",
                    "Gabon",
                    "Gambia",
                    "Ghana",
                    "Guatemala",
                    "Guinea",
                    "Guinea-Bissau",
                    "Haiti",
                    "Iceland",
                    "India",
                    "Indonesia",
                    "Israel",
                    "Jamaica",
                    "Japan",
                    "Kazakhstan",
                    "Kenya",
                    "Kiribati",
                    "Korea, South",
                    "Kyrgyzstan",
                    "Laos",
                    "Lesotho",
                    "Liberia",
                    "Liechtenstein",
                    "Madagascar",
                    "Malawi",
                    "Malaysia",
                    "Maldives",
                    "Mali",
                    "Malta",
                    "Mauritania",
                    "Mauritius",
                    "Moldova",
                    "Monaco",
                    "Morocco",
                    "Mozambique",
                    "Nepal",
                    "New Zealand",
                    "Nicaragua",
                    "Niger",
                    "Nigeria",
                    "Norway",
                    "Papua New Guinea",
                    "Philippines",
                    "Qatar",
                    "Romania",
                    "Rwanda",
                    "Saint Kitts and Nevis",
                    "San Marino",
                    "Sao Tome and Principe",
                    "Saudi Arabia",
                    "Senegal",
                    "Sierra Leone",
                    "Singapore",
                    "Somalia",
                    "South Sudan",
                    "Sri Lanka",
                    "Syria",
                    "Tanzania",
                    "Togo",
                    "Uganda",
                    "United Arab Emirates",
                    "Uzbekistan",
                    "Vietnam",
                    "Yemen",
                    "Zambia",
                    "Zimbabwe"
                  ],
                  "locationmode": "country names",
                  "locations": [
                    "Afghanistan",
                    "Albania",
                    "Algeria",
                    "Angola",
                    "Antigua and Barbuda",
                    "Australia",
                    "Austria",
                    "Azerbaijan",
                    "Bangladesh",
                    "Barbados",
                    "Belarus",
                    "Belize",
                    "Benin",
                    "Bhutan",
                    "Brunei",
                    "Burkina Faso",
                    "Burundi",
                    "Cambodia",
                    "Cameroon",
                    "Central African Republic",
                    "Chad",
                    "China",
                    "Comoros",
                    "Congo (Brazzaville)",
                    "Congo (Kinshasa)",
                    "Croatia",
                    "Cuba",
                    "Cyprus",
                    "Dominica",
                    "Egypt",
                    "El Salvador",
                    "Equatorial Guinea",
                    "Eritrea",
                    "Ethiopia",
                    "Fiji",
                    "Gabon",
                    "Gambia",
                    "Ghana",
                    "Guatemala",
                    "Guinea",
                    "Guinea-Bissau",
                    "Haiti",
                    "Iceland",
                    "India",
                    "Indonesia",
                    "Israel",
                    "Jamaica",
                    "Japan",
                    "Kazakhstan",
                    "Kenya",
                    "Kiribati",
                    "Korea, South",
                    "Kyrgyzstan",
                    "Laos",
                    "Lesotho",
                    "Liberia",
                    "Liechtenstein",
                    "Madagascar",
                    "Malawi",
                    "Malaysia",
                    "Maldives",
                    "Mali",
                    "Malta",
                    "Mauritania",
                    "Mauritius",
                    "Moldova",
                    "Monaco",
                    "Morocco",
                    "Mozambique",
                    "Nepal",
                    "New Zealand",
                    "Nicaragua",
                    "Niger",
                    "Nigeria",
                    "Norway",
                    "Papua New Guinea",
                    "Philippines",
                    "Qatar",
                    "Romania",
                    "Rwanda",
                    "Saint Kitts and Nevis",
                    "San Marino",
                    "Sao Tome and Principe",
                    "Saudi Arabia",
                    "Senegal",
                    "Sierra Leone",
                    "Singapore",
                    "Somalia",
                    "South Sudan",
                    "Sri Lanka",
                    "Syria",
                    "Tanzania",
                    "Togo",
                    "Uganda",
                    "United Arab Emirates",
                    "Uzbekistan",
                    "Vietnam",
                    "Yemen",
                    "Zambia",
                    "Zimbabwe"
                  ],
                  "name": "",
                  "type": "choropleth",
                  "z": [
                    70111,
                    132297,
                    128456,
                    34180,
                    1259,
                    30096,
                    644207,
                    333723,
                    797386,
                    4012,
                    392629,
                    12791,
                    8058,
                    1603,
                    241,
                    13430,
                    4715,
                    28825,
                    78929,
                    7085,
                    4928,
                    102960,
                    3881,
                    11658,
                    31416,
                    355955,
                    140087,
                    72363,
                    188,
                    260659,
                    73246,
                    8529,
                    4061,
                    271200,
                    360,
                    24365,
                    5990,
                    93775,
                    253837,
                    23172,
                    3761,
                    14128,
                    6555,
                    27894800,
                    1809926,
                    839453,
                    48374,
                    742539,
                    438715,
                    170485,
                    2,
                    139910,
                    104222,
                    1908,
                    10825,
                    2179,
                    3008,
                    41234,
                    34329,
                    558534,
                    62906,
                    14265,
                    30529,
                    19463,
                    1363,
                    255105,
                    2503,
                    518868,
                    70724,
                    553422,
                    2672,
                    7324,
                    5410,
                    166285,
                    124655,
                    15772,
                    1216582,
                    217041,
                    1077426,
                    26892,
                    68,
                    5089,
                    2345,
                    448284,
                    41331,
                    4141,
                    62003,
                    14653,
                    10688,
                    180593,
                    24440,
                    509,
                    13432,
                    45931,
                    567263,
                    99844,
                    6908,
                    6731,
                    94751,
                    38933
                  ]
                }
              ],
              "layout": {
                "coloraxis": {
                  "colorbar": {
                    "title": {
                      "text": "Number of confirmed cases"
                    }
                  },
                  "colorscale": [
                    [
                      0,
                      "#0d0887"
                    ],
                    [
                      0.1111111111111111,
                      "#46039f"
                    ],
                    [
                      0.2222222222222222,
                      "#7201a8"
                    ],
                    [
                      0.3333333333333333,
                      "#9c179e"
                    ],
                    [
                      0.4444444444444444,
                      "#bd3786"
                    ],
                    [
                      0.5555555555555556,
                      "#d8576b"
                    ],
                    [
                      0.6666666666666666,
                      "#ed7953"
                    ],
                    [
                      0.7777777777777778,
                      "#fb9f3a"
                    ],
                    [
                      0.8888888888888888,
                      "#fdca26"
                    ],
                    [
                      1,
                      "#f0f921"
                    ]
                  ]
                },
                "geo": {
                  "center": {},
                  "domain": {
                    "x": [
                      0,
                      1
                    ],
                    "y": [
                      0,
                      1
                    ]
                  }
                },
                "legend": {
                  "tracegroupgap": 0
                },
                "margin": {
                  "t": 60
                },
                "template": {
                  "data": {
                    "bar": [
                      {
                        "error_x": {
                          "color": "#2a3f5f"
                        },
                        "error_y": {
                          "color": "#2a3f5f"
                        },
                        "marker": {
                          "line": {
                            "color": "white",
                            "width": 0.5
                          }
                        },
                        "type": "bar"
                      }
                    ],
                    "barpolar": [
                      {
                        "marker": {
                          "line": {
                            "color": "white",
                            "width": 0.5
                          }
                        },
                        "type": "barpolar"
                      }
                    ],
                    "carpet": [
                      {
                        "aaxis": {
                          "endlinecolor": "#2a3f5f",
                          "gridcolor": "#C8D4E3",
                          "linecolor": "#C8D4E3",
                          "minorgridcolor": "#C8D4E3",
                          "startlinecolor": "#2a3f5f"
                        },
                        "baxis": {
                          "endlinecolor": "#2a3f5f",
                          "gridcolor": "#C8D4E3",
                          "linecolor": "#C8D4E3",
                          "minorgridcolor": "#C8D4E3",
                          "startlinecolor": "#2a3f5f"
                        },
                        "type": "carpet"
                      }
                    ],
                    "choropleth": [
                      {
                        "colorbar": {
                          "outlinewidth": 0,
                          "ticks": ""
                        },
                        "type": "choropleth"
                      }
                    ],
                    "contour": [
                      {
                        "colorbar": {
                          "outlinewidth": 0,
                          "ticks": ""
                        },
                        "colorscale": [
                          [
                            0,
                            "#0d0887"
                          ],
                          [
                            0.1111111111111111,
                            "#46039f"
                          ],
                          [
                            0.2222222222222222,
                            "#7201a8"
                          ],
                          [
                            0.3333333333333333,
                            "#9c179e"
                          ],
                          [
                            0.4444444444444444,
                            "#bd3786"
                          ],
                          [
                            0.5555555555555556,
                            "#d8576b"
                          ],
                          [
                            0.6666666666666666,
                            "#ed7953"
                          ],
                          [
                            0.7777777777777778,
                            "#fb9f3a"
                          ],
                          [
                            0.8888888888888888,
                            "#fdca26"
                          ],
                          [
                            1,
                            "#f0f921"
                          ]
                        ],
                        "type": "contour"
                      }
                    ],
                    "contourcarpet": [
                      {
                        "colorbar": {
                          "outlinewidth": 0,
                          "ticks": ""
                        },
                        "type": "contourcarpet"
                      }
                    ],
                    "heatmap": [
                      {
                        "colorbar": {
                          "outlinewidth": 0,
                          "ticks": ""
                        },
                        "colorscale": [
                          [
                            0,
                            "#0d0887"
                          ],
                          [
                            0.1111111111111111,
                            "#46039f"
                          ],
                          [
                            0.2222222222222222,
                            "#7201a8"
                          ],
                          [
                            0.3333333333333333,
                            "#9c179e"
                          ],
                          [
                            0.4444444444444444,
                            "#bd3786"
                          ],
                          [
                            0.5555555555555556,
                            "#d8576b"
                          ],
                          [
                            0.6666666666666666,
                            "#ed7953"
                          ],
                          [
                            0.7777777777777778,
                            "#fb9f3a"
                          ],
                          [
                            0.8888888888888888,
                            "#fdca26"
                          ],
                          [
                            1,
                            "#f0f921"
                          ]
                        ],
                        "type": "heatmap"
                      }
                    ],
                    "heatmapgl": [
                      {
                        "colorbar": {
                          "outlinewidth": 0,
                          "ticks": ""
                        },
                        "colorscale": [
                          [
                            0,
                            "#0d0887"
                          ],
                          [
                            0.1111111111111111,
                            "#46039f"
                          ],
                          [
                            0.2222222222222222,
                            "#7201a8"
                          ],
                          [
                            0.3333333333333333,
                            "#9c179e"
                          ],
                          [
                            0.4444444444444444,
                            "#bd3786"
                          ],
                          [
                            0.5555555555555556,
                            "#d8576b"
                          ],
                          [
                            0.6666666666666666,
                            "#ed7953"
                          ],
                          [
                            0.7777777777777778,
                            "#fb9f3a"
                          ],
                          [
                            0.8888888888888888,
                            "#fdca26"
                          ],
                          [
                            1,
                            "#f0f921"
                          ]
                        ],
                        "type": "heatmapgl"
                      }
                    ],
                    "histogram": [
                      {
                        "marker": {
                          "colorbar": {
                            "outlinewidth": 0,
                            "ticks": ""
                          }
                        },
                        "type": "histogram"
                      }
                    ],
                    "histogram2d": [
                      {
                        "colorbar": {
                          "outlinewidth": 0,
                          "ticks": ""
                        },
                        "colorscale": [
                          [
                            0,
                            "#0d0887"
                          ],
                          [
                            0.1111111111111111,
                            "#46039f"
                          ],
                          [
                            0.2222222222222222,
                            "#7201a8"
                          ],
                          [
                            0.3333333333333333,
                            "#9c179e"
                          ],
                          [
                            0.4444444444444444,
                            "#bd3786"
                          ],
                          [
                            0.5555555555555556,
                            "#d8576b"
                          ],
                          [
                            0.6666666666666666,
                            "#ed7953"
                          ],
                          [
                            0.7777777777777778,
                            "#fb9f3a"
                          ],
                          [
                            0.8888888888888888,
                            "#fdca26"
                          ],
                          [
                            1,
                            "#f0f921"
                          ]
                        ],
                        "type": "histogram2d"
                      }
                    ],
                    "histogram2dcontour": [
                      {
                        "colorbar": {
                          "outlinewidth": 0,
                          "ticks": ""
                        },
                        "colorscale": [
                          [
                            0,
                            "#0d0887"
                          ],
                          [
                            0.1111111111111111,
                            "#46039f"
                          ],
                          [
                            0.2222222222222222,
                            "#7201a8"
                          ],
                          [
                            0.3333333333333333,
                            "#9c179e"
                          ],
                          [
                            0.4444444444444444,
                            "#bd3786"
                          ],
                          [
                            0.5555555555555556,
                            "#d8576b"
                          ],
                          [
                            0.6666666666666666,
                            "#ed7953"
                          ],
                          [
                            0.7777777777777778,
                            "#fb9f3a"
                          ],
                          [
                            0.8888888888888888,
                            "#fdca26"
                          ],
                          [
                            1,
                            "#f0f921"
                          ]
                        ],
                        "type": "histogram2dcontour"
                      }
                    ],
                    "mesh3d": [
                      {
                        "colorbar": {
                          "outlinewidth": 0,
                          "ticks": ""
                        },
                        "type": "mesh3d"
                      }
                    ],
                    "parcoords": [
                      {
                        "line": {
                          "colorbar": {
                            "outlinewidth": 0,
                            "ticks": ""
                          }
                        },
                        "type": "parcoords"
                      }
                    ],
                    "pie": [
                      {
                        "automargin": true,
                        "type": "pie"
                      }
                    ],
                    "scatter": [
                      {
                        "marker": {
                          "colorbar": {
                            "outlinewidth": 0,
                            "ticks": ""
                          }
                        },
                        "type": "scatter"
                      }
                    ],
                    "scatter3d": [
                      {
                        "line": {
                          "colorbar": {
                            "outlinewidth": 0,
                            "ticks": ""
                          }
                        },
                        "marker": {
                          "colorbar": {
                            "outlinewidth": 0,
                            "ticks": ""
                          }
                        },
                        "type": "scatter3d"
                      }
                    ],
                    "scattercarpet": [
                      {
                        "marker": {
                          "colorbar": {
                            "outlinewidth": 0,
                            "ticks": ""
                          }
                        },
                        "type": "scattercarpet"
                      }
                    ],
                    "scattergeo": [
                      {
                        "marker": {
                          "colorbar": {
                            "outlinewidth": 0,
                            "ticks": ""
                          }
                        },
                        "type": "scattergeo"
                      }
                    ],
                    "scattergl": [
                      {
                        "marker": {
                          "colorbar": {
                            "outlinewidth": 0,
                            "ticks": ""
                          }
                        },
                        "type": "scattergl"
                      }
                    ],
                    "scattermapbox": [
                      {
                        "marker": {
                          "colorbar": {
                            "outlinewidth": 0,
                            "ticks": ""
                          }
                        },
                        "type": "scattermapbox"
                      }
                    ],
                    "scatterpolar": [
                      {
                        "marker": {
                          "colorbar": {
                            "outlinewidth": 0,
                            "ticks": ""
                          }
                        },
                        "type": "scatterpolar"
                      }
                    ],
                    "scatterpolargl": [
                      {
                        "marker": {
                          "colorbar": {
                            "outlinewidth": 0,
                            "ticks": ""
                          }
                        },
                        "type": "scatterpolargl"
                      }
                    ],
                    "scatterternary": [
                      {
                        "marker": {
                          "colorbar": {
                            "outlinewidth": 0,
                            "ticks": ""
                          }
                        },
                        "type": "scatterternary"
                      }
                    ],
                    "surface": [
                      {
                        "colorbar": {
                          "outlinewidth": 0,
                          "ticks": ""
                        },
                        "colorscale": [
                          [
                            0,
                            "#0d0887"
                          ],
                          [
                            0.1111111111111111,
                            "#46039f"
                          ],
                          [
                            0.2222222222222222,
                            "#7201a8"
                          ],
                          [
                            0.3333333333333333,
                            "#9c179e"
                          ],
                          [
                            0.4444444444444444,
                            "#bd3786"
                          ],
                          [
                            0.5555555555555556,
                            "#d8576b"
                          ],
                          [
                            0.6666666666666666,
                            "#ed7953"
                          ],
                          [
                            0.7777777777777778,
                            "#fb9f3a"
                          ],
                          [
                            0.8888888888888888,
                            "#fdca26"
                          ],
                          [
                            1,
                            "#f0f921"
                          ]
                        ],
                        "type": "surface"
                      }
                    ],
                    "table": [
                      {
                        "cells": {
                          "fill": {
                            "color": "#EBF0F8"
                          },
                          "line": {
                            "color": "white"
                          }
                        },
                        "header": {
                          "fill": {
                            "color": "#C8D4E3"
                          },
                          "line": {
                            "color": "white"
                          }
                        },
                        "type": "table"
                      }
                    ]
                  },
                  "layout": {
                    "annotationdefaults": {
                      "arrowcolor": "#2a3f5f",
                      "arrowhead": 0,
                      "arrowwidth": 1
                    },
                    "autotypenumbers": "strict",
                    "coloraxis": {
                      "colorbar": {
                        "outlinewidth": 0,
                        "ticks": ""
                      }
                    },
                    "colorscale": {
                      "diverging": [
                        [
                          0,
                          "#8e0152"
                        ],
                        [
                          0.1,
                          "#c51b7d"
                        ],
                        [
                          0.2,
                          "#de77ae"
                        ],
                        [
                          0.3,
                          "#f1b6da"
                        ],
                        [
                          0.4,
                          "#fde0ef"
                        ],
                        [
                          0.5,
                          "#f7f7f7"
                        ],
                        [
                          0.6,
                          "#e6f5d0"
                        ],
                        [
                          0.7,
                          "#b8e186"
                        ],
                        [
                          0.8,
                          "#7fbc41"
                        ],
                        [
                          0.9,
                          "#4d9221"
                        ],
                        [
                          1,
                          "#276419"
                        ]
                      ],
                      "sequential": [
                        [
                          0,
                          "#0d0887"
                        ],
                        [
                          0.1111111111111111,
                          "#46039f"
                        ],
                        [
                          0.2222222222222222,
                          "#7201a8"
                        ],
                        [
                          0.3333333333333333,
                          "#9c179e"
                        ],
                        [
                          0.4444444444444444,
                          "#bd3786"
                        ],
                        [
                          0.5555555555555556,
                          "#d8576b"
                        ],
                        [
                          0.6666666666666666,
                          "#ed7953"
                        ],
                        [
                          0.7777777777777778,
                          "#fb9f3a"
                        ],
                        [
                          0.8888888888888888,
                          "#fdca26"
                        ],
                        [
                          1,
                          "#f0f921"
                        ]
                      ],
                      "sequentialminus": [
                        [
                          0,
                          "#0d0887"
                        ],
                        [
                          0.1111111111111111,
                          "#46039f"
                        ],
                        [
                          0.2222222222222222,
                          "#7201a8"
                        ],
                        [
                          0.3333333333333333,
                          "#9c179e"
                        ],
                        [
                          0.4444444444444444,
                          "#bd3786"
                        ],
                        [
                          0.5555555555555556,
                          "#d8576b"
                        ],
                        [
                          0.6666666666666666,
                          "#ed7953"
                        ],
                        [
                          0.7777777777777778,
                          "#fb9f3a"
                        ],
                        [
                          0.8888888888888888,
                          "#fdca26"
                        ],
                        [
                          1,
                          "#f0f921"
                        ]
                      ]
                    },
                    "colorway": [
                      "#636efa",
                      "#EF553B",
                      "#00cc96",
                      "#ab63fa",
                      "#FFA15A",
                      "#19d3f3",
                      "#FF6692",
                      "#B6E880",
                      "#FF97FF",
                      "#FECB52"
                    ],
                    "font": {
                      "color": "#2a3f5f"
                    },
                    "geo": {
                      "bgcolor": "white",
                      "lakecolor": "white",
                      "landcolor": "white",
                      "showlakes": true,
                      "showland": true,
                      "subunitcolor": "#C8D4E3"
                    },
                    "hoverlabel": {
                      "align": "left"
                    },
                    "hovermode": "closest",
                    "mapbox": {
                      "style": "light"
                    },
                    "paper_bgcolor": "white",
                    "plot_bgcolor": "white",
                    "polar": {
                      "angularaxis": {
                        "gridcolor": "#EBF0F8",
                        "linecolor": "#EBF0F8",
                        "ticks": ""
                      },
                      "bgcolor": "white",
                      "radialaxis": {
                        "gridcolor": "#EBF0F8",
                        "linecolor": "#EBF0F8",
                        "ticks": ""
                      }
                    },
                    "scene": {
                      "xaxis": {
                        "backgroundcolor": "white",
                        "gridcolor": "#DFE8F3",
                        "gridwidth": 2,
                        "linecolor": "#EBF0F8",
                        "showbackground": true,
                        "ticks": "",
                        "zerolinecolor": "#EBF0F8"
                      },
                      "yaxis": {
                        "backgroundcolor": "white",
                        "gridcolor": "#DFE8F3",
                        "gridwidth": 2,
                        "linecolor": "#EBF0F8",
                        "showbackground": true,
                        "ticks": "",
                        "zerolinecolor": "#EBF0F8"
                      },
                      "zaxis": {
                        "backgroundcolor": "white",
                        "gridcolor": "#DFE8F3",
                        "gridwidth": 2,
                        "linecolor": "#EBF0F8",
                        "showbackground": true,
                        "ticks": "",
                        "zerolinecolor": "#EBF0F8"
                      }
                    },
                    "shapedefaults": {
                      "line": {
                        "color": "#2a3f5f"
                      }
                    },
                    "ternary": {
                      "aaxis": {
                        "gridcolor": "#DFE8F3",
                        "linecolor": "#A2B1C6",
                        "ticks": ""
                      },
                      "baxis": {
                        "gridcolor": "#DFE8F3",
                        "linecolor": "#A2B1C6",
                        "ticks": ""
                      },
                      "bgcolor": "white",
                      "caxis": {
                        "gridcolor": "#DFE8F3",
                        "linecolor": "#A2B1C6",
                        "ticks": ""
                      }
                    },
                    "title": {
                      "x": 0.05
                    },
                    "xaxis": {
                      "automargin": true,
                      "gridcolor": "#EBF0F8",
                      "linecolor": "#EBF0F8",
                      "ticks": "",
                      "title": {
                        "standoff": 15
                      },
                      "zerolinecolor": "#EBF0F8",
                      "zerolinewidth": 2
                    },
                    "yaxis": {
                      "automargin": true,
                      "gridcolor": "#EBF0F8",
                      "linecolor": "#EBF0F8",
                      "ticks": "",
                      "title": {
                        "standoff": 15
                      },
                      "zerolinecolor": "#EBF0F8",
                      "zerolinewidth": 2
                    }
                  }
                },
                "title": {
                  "text": "Vulnerable Country"
                }
              }
            },
            "text/html": "<div>                            <div id=\"7d92fe13-fb54-463c-b9a2-6831cfa380e2\" class=\"plotly-graph-div\" style=\"height:525px; width:100%;\"></div>            <script type=\"text/javascript\">                require([\"plotly\"], function(Plotly) {                    window.PLOTLYENV=window.PLOTLYENV || {};                                    if (document.getElementById(\"7d92fe13-fb54-463c-b9a2-6831cfa380e2\")) {                    Plotly.newPlot(                        \"7d92fe13-fb54-463c-b9a2-6831cfa380e2\",                        [{\"coloraxis\": \"coloraxis\", \"geo\": \"geo\", \"hovertemplate\": \"<b>%{hovertext}</b><br><br>locations=%{location}<br>color=%{z}<extra></extra>\", \"hovertext\": [\"Afghanistan\", \"Albania\", \"Algeria\", \"Angola\", \"Antigua and Barbuda\", \"Australia\", \"Austria\", \"Azerbaijan\", \"Bangladesh\", \"Barbados\", \"Belarus\", \"Belize\", \"Benin\", \"Bhutan\", \"Brunei\", \"Burkina Faso\", \"Burundi\", \"Cambodia\", \"Cameroon\", \"Central African Republic\", \"Chad\", \"China\", \"Comoros\", \"Congo (Brazzaville)\", \"Congo (Kinshasa)\", \"Croatia\", \"Cuba\", \"Cyprus\", \"Dominica\", \"Egypt\", \"El Salvador\", \"Equatorial Guinea\", \"Eritrea\", \"Ethiopia\", \"Fiji\", \"Gabon\", \"Gambia\", \"Ghana\", \"Guatemala\", \"Guinea\", \"Guinea-Bissau\", \"Haiti\", \"Iceland\", \"India\", \"Indonesia\", \"Israel\", \"Jamaica\", \"Japan\", \"Kazakhstan\", \"Kenya\", \"Kiribati\", \"Korea, South\", \"Kyrgyzstan\", \"Laos\", \"Lesotho\", \"Liberia\", \"Liechtenstein\", \"Madagascar\", \"Malawi\", \"Malaysia\", \"Maldives\", \"Mali\", \"Malta\", \"Mauritania\", \"Mauritius\", \"Moldova\", \"Monaco\", \"Morocco\", \"Mozambique\", \"Nepal\", \"New Zealand\", \"Nicaragua\", \"Niger\", \"Nigeria\", \"Norway\", \"Papua New Guinea\", \"Philippines\", \"Qatar\", \"Romania\", \"Rwanda\", \"Saint Kitts and Nevis\", \"San Marino\", \"Sao Tome and Principe\", \"Saudi Arabia\", \"Senegal\", \"Sierra Leone\", \"Singapore\", \"Somalia\", \"South Sudan\", \"Sri Lanka\", \"Syria\", \"Tanzania\", \"Togo\", \"Uganda\", \"United Arab Emirates\", \"Uzbekistan\", \"Vietnam\", \"Yemen\", \"Zambia\", \"Zimbabwe\"], \"locationmode\": \"country names\", \"locations\": [\"Afghanistan\", \"Albania\", \"Algeria\", \"Angola\", \"Antigua and Barbuda\", \"Australia\", \"Austria\", \"Azerbaijan\", \"Bangladesh\", \"Barbados\", \"Belarus\", \"Belize\", \"Benin\", \"Bhutan\", \"Brunei\", \"Burkina Faso\", \"Burundi\", \"Cambodia\", \"Cameroon\", \"Central African Republic\", \"Chad\", \"China\", \"Comoros\", \"Congo (Brazzaville)\", \"Congo (Kinshasa)\", \"Croatia\", \"Cuba\", \"Cyprus\", \"Dominica\", \"Egypt\", \"El Salvador\", \"Equatorial Guinea\", \"Eritrea\", \"Ethiopia\", \"Fiji\", \"Gabon\", \"Gambia\", \"Ghana\", \"Guatemala\", \"Guinea\", \"Guinea-Bissau\", \"Haiti\", \"Iceland\", \"India\", \"Indonesia\", \"Israel\", \"Jamaica\", \"Japan\", \"Kazakhstan\", \"Kenya\", \"Kiribati\", \"Korea, South\", \"Kyrgyzstan\", \"Laos\", \"Lesotho\", \"Liberia\", \"Liechtenstein\", \"Madagascar\", \"Malawi\", \"Malaysia\", \"Maldives\", \"Mali\", \"Malta\", \"Mauritania\", \"Mauritius\", \"Moldova\", \"Monaco\", \"Morocco\", \"Mozambique\", \"Nepal\", \"New Zealand\", \"Nicaragua\", \"Niger\", \"Nigeria\", \"Norway\", \"Papua New Guinea\", \"Philippines\", \"Qatar\", \"Romania\", \"Rwanda\", \"Saint Kitts and Nevis\", \"San Marino\", \"Sao Tome and Principe\", \"Saudi Arabia\", \"Senegal\", \"Sierra Leone\", \"Singapore\", \"Somalia\", \"South Sudan\", \"Sri Lanka\", \"Syria\", \"Tanzania\", \"Togo\", \"Uganda\", \"United Arab Emirates\", \"Uzbekistan\", \"Vietnam\", \"Yemen\", \"Zambia\", \"Zimbabwe\"], \"name\": \"\", \"type\": \"choropleth\", \"z\": [70111, 132297, 128456, 34180, 1259, 30096, 644207, 333723, 797386, 4012, 392629, 12791, 8058, 1603, 241, 13430, 4715, 28825, 78929, 7085, 4928, 102960, 3881, 11658, 31416, 355955, 140087, 72363, 188, 260659, 73246, 8529, 4061, 271200, 360, 24365, 5990, 93775, 253837, 23172, 3761, 14128, 6555, 27894800, 1809926, 839453, 48374, 742539, 438715, 170485, 2, 139910, 104222, 1908, 10825, 2179, 3008, 41234, 34329, 558534, 62906, 14265, 30529, 19463, 1363, 255105, 2503, 518868, 70724, 553422, 2672, 7324, 5410, 166285, 124655, 15772, 1216582, 217041, 1077426, 26892, 68, 5089, 2345, 448284, 41331, 4141, 62003, 14653, 10688, 180593, 24440, 509, 13432, 45931, 567263, 99844, 6908, 6731, 94751, 38933]}],                        {\"coloraxis\": {\"colorbar\": {\"title\": {\"text\": \"Number of confirmed cases\"}}, \"colorscale\": [[0.0, \"#0d0887\"], [0.1111111111111111, \"#46039f\"], [0.2222222222222222, \"#7201a8\"], [0.3333333333333333, \"#9c179e\"], [0.4444444444444444, \"#bd3786\"], [0.5555555555555556, \"#d8576b\"], [0.6666666666666666, \"#ed7953\"], [0.7777777777777778, \"#fb9f3a\"], [0.8888888888888888, \"#fdca26\"], [1.0, \"#f0f921\"]]}, \"geo\": {\"center\": {}, \"domain\": {\"x\": [0.0, 1.0], \"y\": [0.0, 1.0]}}, \"legend\": {\"tracegroupgap\": 0}, \"margin\": {\"t\": 60}, \"template\": {\"data\": {\"bar\": [{\"error_x\": {\"color\": \"#2a3f5f\"}, \"error_y\": {\"color\": \"#2a3f5f\"}, \"marker\": {\"line\": {\"color\": \"white\", \"width\": 0.5}}, \"type\": \"bar\"}], \"barpolar\": [{\"marker\": {\"line\": {\"color\": \"white\", \"width\": 0.5}}, \"type\": \"barpolar\"}], \"carpet\": [{\"aaxis\": {\"endlinecolor\": \"#2a3f5f\", \"gridcolor\": \"#C8D4E3\", \"linecolor\": \"#C8D4E3\", \"minorgridcolor\": \"#C8D4E3\", \"startlinecolor\": \"#2a3f5f\"}, \"baxis\": {\"endlinecolor\": \"#2a3f5f\", \"gridcolor\": \"#C8D4E3\", \"linecolor\": \"#C8D4E3\", \"minorgridcolor\": \"#C8D4E3\", \"startlinecolor\": \"#2a3f5f\"}, \"type\": \"carpet\"}], \"choropleth\": [{\"colorbar\": {\"outlinewidth\": 0, \"ticks\": \"\"}, \"type\": \"choropleth\"}], \"contour\": [{\"colorbar\": {\"outlinewidth\": 0, \"ticks\": \"\"}, \"colorscale\": [[0.0, \"#0d0887\"], [0.1111111111111111, \"#46039f\"], [0.2222222222222222, \"#7201a8\"], [0.3333333333333333, \"#9c179e\"], [0.4444444444444444, \"#bd3786\"], [0.5555555555555556, \"#d8576b\"], [0.6666666666666666, \"#ed7953\"], [0.7777777777777778, \"#fb9f3a\"], [0.8888888888888888, \"#fdca26\"], [1.0, \"#f0f921\"]], \"type\": \"contour\"}], \"contourcarpet\": [{\"colorbar\": {\"outlinewidth\": 0, \"ticks\": \"\"}, \"type\": \"contourcarpet\"}], \"heatmap\": [{\"colorbar\": {\"outlinewidth\": 0, \"ticks\": \"\"}, \"colorscale\": [[0.0, \"#0d0887\"], [0.1111111111111111, \"#46039f\"], [0.2222222222222222, \"#7201a8\"], [0.3333333333333333, \"#9c179e\"], [0.4444444444444444, \"#bd3786\"], [0.5555555555555556, \"#d8576b\"], [0.6666666666666666, \"#ed7953\"], [0.7777777777777778, \"#fb9f3a\"], [0.8888888888888888, \"#fdca26\"], [1.0, \"#f0f921\"]], \"type\": \"heatmap\"}], \"heatmapgl\": [{\"colorbar\": {\"outlinewidth\": 0, \"ticks\": \"\"}, \"colorscale\": [[0.0, \"#0d0887\"], [0.1111111111111111, \"#46039f\"], [0.2222222222222222, \"#7201a8\"], [0.3333333333333333, \"#9c179e\"], [0.4444444444444444, \"#bd3786\"], [0.5555555555555556, \"#d8576b\"], [0.6666666666666666, \"#ed7953\"], [0.7777777777777778, \"#fb9f3a\"], [0.8888888888888888, \"#fdca26\"], [1.0, \"#f0f921\"]], \"type\": \"heatmapgl\"}], \"histogram\": [{\"marker\": {\"colorbar\": {\"outlinewidth\": 0, \"ticks\": \"\"}}, \"type\": \"histogram\"}], \"histogram2d\": [{\"colorbar\": {\"outlinewidth\": 0, \"ticks\": \"\"}, \"colorscale\": [[0.0, \"#0d0887\"], [0.1111111111111111, \"#46039f\"], [0.2222222222222222, \"#7201a8\"], [0.3333333333333333, \"#9c179e\"], [0.4444444444444444, \"#bd3786\"], [0.5555555555555556, \"#d8576b\"], [0.6666666666666666, \"#ed7953\"], [0.7777777777777778, \"#fb9f3a\"], [0.8888888888888888, \"#fdca26\"], [1.0, \"#f0f921\"]], \"type\": \"histogram2d\"}], \"histogram2dcontour\": [{\"colorbar\": {\"outlinewidth\": 0, \"ticks\": \"\"}, \"colorscale\": [[0.0, \"#0d0887\"], [0.1111111111111111, \"#46039f\"], [0.2222222222222222, \"#7201a8\"], [0.3333333333333333, \"#9c179e\"], [0.4444444444444444, \"#bd3786\"], [0.5555555555555556, \"#d8576b\"], [0.6666666666666666, \"#ed7953\"], [0.7777777777777778, \"#fb9f3a\"], [0.8888888888888888, \"#fdca26\"], [1.0, \"#f0f921\"]], \"type\": \"histogram2dcontour\"}], \"mesh3d\": [{\"colorbar\": {\"outlinewidth\": 0, \"ticks\": \"\"}, \"type\": \"mesh3d\"}], \"parcoords\": [{\"line\": {\"colorbar\": {\"outlinewidth\": 0, \"ticks\": \"\"}}, \"type\": \"parcoords\"}], \"pie\": [{\"automargin\": true, \"type\": \"pie\"}], \"scatter\": [{\"marker\": {\"colorbar\": {\"outlinewidth\": 0, \"ticks\": \"\"}}, \"type\": \"scatter\"}], \"scatter3d\": [{\"line\": {\"colorbar\": {\"outlinewidth\": 0, \"ticks\": \"\"}}, \"marker\": {\"colorbar\": {\"outlinewidth\": 0, \"ticks\": \"\"}}, \"type\": \"scatter3d\"}], \"scattercarpet\": [{\"marker\": {\"colorbar\": {\"outlinewidth\": 0, \"ticks\": \"\"}}, \"type\": \"scattercarpet\"}], \"scattergeo\": [{\"marker\": {\"colorbar\": {\"outlinewidth\": 0, \"ticks\": \"\"}}, \"type\": \"scattergeo\"}], \"scattergl\": [{\"marker\": {\"colorbar\": {\"outlinewidth\": 0, \"ticks\": \"\"}}, \"type\": \"scattergl\"}], \"scattermapbox\": [{\"marker\": {\"colorbar\": {\"outlinewidth\": 0, \"ticks\": \"\"}}, \"type\": \"scattermapbox\"}], \"scatterpolar\": [{\"marker\": {\"colorbar\": {\"outlinewidth\": 0, \"ticks\": \"\"}}, \"type\": \"scatterpolar\"}], \"scatterpolargl\": [{\"marker\": {\"colorbar\": {\"outlinewidth\": 0, \"ticks\": \"\"}}, \"type\": \"scatterpolargl\"}], \"scatterternary\": [{\"marker\": {\"colorbar\": {\"outlinewidth\": 0, \"ticks\": \"\"}}, \"type\": \"scatterternary\"}], \"surface\": [{\"colorbar\": {\"outlinewidth\": 0, \"ticks\": \"\"}, \"colorscale\": [[0.0, \"#0d0887\"], [0.1111111111111111, \"#46039f\"], [0.2222222222222222, \"#7201a8\"], [0.3333333333333333, \"#9c179e\"], [0.4444444444444444, \"#bd3786\"], [0.5555555555555556, \"#d8576b\"], [0.6666666666666666, \"#ed7953\"], [0.7777777777777778, \"#fb9f3a\"], [0.8888888888888888, \"#fdca26\"], [1.0, \"#f0f921\"]], \"type\": \"surface\"}], \"table\": [{\"cells\": {\"fill\": {\"color\": \"#EBF0F8\"}, \"line\": {\"color\": \"white\"}}, \"header\": {\"fill\": {\"color\": \"#C8D4E3\"}, \"line\": {\"color\": \"white\"}}, \"type\": \"table\"}]}, \"layout\": {\"annotationdefaults\": {\"arrowcolor\": \"#2a3f5f\", \"arrowhead\": 0, \"arrowwidth\": 1}, \"autotypenumbers\": \"strict\", \"coloraxis\": {\"colorbar\": {\"outlinewidth\": 0, \"ticks\": \"\"}}, \"colorscale\": {\"diverging\": [[0, \"#8e0152\"], [0.1, \"#c51b7d\"], [0.2, \"#de77ae\"], [0.3, \"#f1b6da\"], [0.4, \"#fde0ef\"], [0.5, \"#f7f7f7\"], [0.6, \"#e6f5d0\"], [0.7, \"#b8e186\"], [0.8, \"#7fbc41\"], [0.9, \"#4d9221\"], [1, \"#276419\"]], \"sequential\": [[0.0, \"#0d0887\"], [0.1111111111111111, \"#46039f\"], [0.2222222222222222, \"#7201a8\"], [0.3333333333333333, \"#9c179e\"], [0.4444444444444444, \"#bd3786\"], [0.5555555555555556, \"#d8576b\"], [0.6666666666666666, \"#ed7953\"], [0.7777777777777778, \"#fb9f3a\"], [0.8888888888888888, \"#fdca26\"], [1.0, \"#f0f921\"]], \"sequentialminus\": [[0.0, \"#0d0887\"], [0.1111111111111111, \"#46039f\"], [0.2222222222222222, \"#7201a8\"], [0.3333333333333333, \"#9c179e\"], [0.4444444444444444, \"#bd3786\"], [0.5555555555555556, \"#d8576b\"], [0.6666666666666666, \"#ed7953\"], [0.7777777777777778, \"#fb9f3a\"], [0.8888888888888888, \"#fdca26\"], [1.0, \"#f0f921\"]]}, \"colorway\": [\"#636efa\", \"#EF553B\", \"#00cc96\", \"#ab63fa\", \"#FFA15A\", \"#19d3f3\", \"#FF6692\", \"#B6E880\", \"#FF97FF\", \"#FECB52\"], \"font\": {\"color\": \"#2a3f5f\"}, \"geo\": {\"bgcolor\": \"white\", \"lakecolor\": \"white\", \"landcolor\": \"white\", \"showlakes\": true, \"showland\": true, \"subunitcolor\": \"#C8D4E3\"}, \"hoverlabel\": {\"align\": \"left\"}, \"hovermode\": \"closest\", \"mapbox\": {\"style\": \"light\"}, \"paper_bgcolor\": \"white\", \"plot_bgcolor\": \"white\", \"polar\": {\"angularaxis\": {\"gridcolor\": \"#EBF0F8\", \"linecolor\": \"#EBF0F8\", \"ticks\": \"\"}, \"bgcolor\": \"white\", \"radialaxis\": {\"gridcolor\": \"#EBF0F8\", \"linecolor\": \"#EBF0F8\", \"ticks\": \"\"}}, \"scene\": {\"xaxis\": {\"backgroundcolor\": \"white\", \"gridcolor\": \"#DFE8F3\", \"gridwidth\": 2, \"linecolor\": \"#EBF0F8\", \"showbackground\": true, \"ticks\": \"\", \"zerolinecolor\": \"#EBF0F8\"}, \"yaxis\": {\"backgroundcolor\": \"white\", \"gridcolor\": \"#DFE8F3\", \"gridwidth\": 2, \"linecolor\": \"#EBF0F8\", \"showbackground\": true, \"ticks\": \"\", \"zerolinecolor\": \"#EBF0F8\"}, \"zaxis\": {\"backgroundcolor\": \"white\", \"gridcolor\": \"#DFE8F3\", \"gridwidth\": 2, \"linecolor\": \"#EBF0F8\", \"showbackground\": true, \"ticks\": \"\", \"zerolinecolor\": \"#EBF0F8\"}}, \"shapedefaults\": {\"line\": {\"color\": \"#2a3f5f\"}}, \"ternary\": {\"aaxis\": {\"gridcolor\": \"#DFE8F3\", \"linecolor\": \"#A2B1C6\", \"ticks\": \"\"}, \"baxis\": {\"gridcolor\": \"#DFE8F3\", \"linecolor\": \"#A2B1C6\", \"ticks\": \"\"}, \"bgcolor\": \"white\", \"caxis\": {\"gridcolor\": \"#DFE8F3\", \"linecolor\": \"#A2B1C6\", \"ticks\": \"\"}}, \"title\": {\"x\": 0.05}, \"xaxis\": {\"automargin\": true, \"gridcolor\": \"#EBF0F8\", \"linecolor\": \"#EBF0F8\", \"ticks\": \"\", \"title\": {\"standoff\": 15}, \"zerolinecolor\": \"#EBF0F8\", \"zerolinewidth\": 2}, \"yaxis\": {\"automargin\": true, \"gridcolor\": \"#EBF0F8\", \"linecolor\": \"#EBF0F8\", \"ticks\": \"\", \"title\": {\"standoff\": 15}, \"zerolinecolor\": \"#EBF0F8\", \"zerolinewidth\": 2}}}, \"title\": {\"text\": \"Vulnerable Country\"}},                        {\"responsive\": true}                    ).then(function(){\n                            \nvar gd = document.getElementById('7d92fe13-fb54-463c-b9a2-6831cfa380e2');\nvar x = new MutationObserver(function (mutations, observer) {{\n        var display = window.getComputedStyle(gd).display;\n        if (!display || display === 'none') {{\n            console.log([gd, 'removed!']);\n            Plotly.purge(gd);\n            observer.disconnect();\n        }}\n}});\n\n// Listen for the removal of the full notebook cells\nvar notebookContainer = gd.closest('#notebook-container');\nif (notebookContainer) {{\n    x.observe(notebookContainer, {childList: true});\n}}\n\n// Listen for the clearing of the current output cell\nvar outputEl = gd.closest('.output');\nif (outputEl) {{\n    x.observe(outputEl, {childList: true});\n}}\n\n                        })                };                });            </script>        </div>"
          },
          "metadata": {}
        }
      ]
    },
    {
      "cell_type": "code",
      "execution_count": 21,
      "metadata": {},
      "outputs": [
        {
          "output_type": "execute_result",
          "data": {
            "text/plain": [
              "<pandas.io.formats.style.Styler at 0x7f1ac4fea040>"
            ],
            "text/html": "<style  type=\"text/css\" >\n#T_5f8d7_row0_col2,#T_5f8d7_row0_col4,#T_5f8d7_row1_col5,#T_5f8d7_row1_col6,#T_5f8d7_row2_col4,#T_5f8d7_row3_col2,#T_5f8d7_row3_col3,#T_5f8d7_row3_col4,#T_5f8d7_row3_col5,#T_5f8d7_row3_col9,#T_5f8d7_row4_col2,#T_5f8d7_row4_col3,#T_5f8d7_row4_col4,#T_5f8d7_row4_col5,#T_5f8d7_row4_col6,#T_5f8d7_row4_col9,#T_5f8d7_row5_col2,#T_5f8d7_row5_col3,#T_5f8d7_row5_col4,#T_5f8d7_row5_col5,#T_5f8d7_row6_col5,#T_5f8d7_row7_col5,#T_5f8d7_row9_col2,#T_5f8d7_row9_col3,#T_5f8d7_row9_col4,#T_5f8d7_row9_col5,#T_5f8d7_row9_col6,#T_5f8d7_row9_col9,#T_5f8d7_row10_col5,#T_5f8d7_row11_col2,#T_5f8d7_row11_col3,#T_5f8d7_row11_col4,#T_5f8d7_row11_col5,#T_5f8d7_row11_col6,#T_5f8d7_row12_col2,#T_5f8d7_row12_col3,#T_5f8d7_row12_col4,#T_5f8d7_row12_col5,#T_5f8d7_row12_col6,#T_5f8d7_row13_col2,#T_5f8d7_row13_col3,#T_5f8d7_row13_col4,#T_5f8d7_row13_col5,#T_5f8d7_row13_col6,#T_5f8d7_row13_col8,#T_5f8d7_row14_col2,#T_5f8d7_row14_col3,#T_5f8d7_row14_col4,#T_5f8d7_row14_col5,#T_5f8d7_row14_col6,#T_5f8d7_row14_col7,#T_5f8d7_row14_col8,#T_5f8d7_row14_col9,#T_5f8d7_row15_col2,#T_5f8d7_row15_col3,#T_5f8d7_row15_col4,#T_5f8d7_row15_col5,#T_5f8d7_row15_col8,#T_5f8d7_row15_col9,#T_5f8d7_row16_col2,#T_5f8d7_row16_col3,#T_5f8d7_row16_col4,#T_5f8d7_row16_col5,#T_5f8d7_row16_col7,#T_5f8d7_row16_col8,#T_5f8d7_row17_col2,#T_5f8d7_row17_col3,#T_5f8d7_row17_col4,#T_5f8d7_row17_col5,#T_5f8d7_row18_col2,#T_5f8d7_row18_col4,#T_5f8d7_row19_col2,#T_5f8d7_row19_col3,#T_5f8d7_row19_col4,#T_5f8d7_row19_col5,#T_5f8d7_row19_col6,#T_5f8d7_row19_col9,#T_5f8d7_row20_col2,#T_5f8d7_row20_col3,#T_5f8d7_row20_col4,#T_5f8d7_row20_col5,#T_5f8d7_row20_col7,#T_5f8d7_row20_col9,#T_5f8d7_row21_col2,#T_5f8d7_row21_col4,#T_5f8d7_row21_col5,#T_5f8d7_row21_col7,#T_5f8d7_row21_col8,#T_5f8d7_row21_col9,#T_5f8d7_row22_col2,#T_5f8d7_row22_col3,#T_5f8d7_row22_col4,#T_5f8d7_row22_col5,#T_5f8d7_row22_col6,#T_5f8d7_row22_col9,#T_5f8d7_row23_col2,#T_5f8d7_row23_col3,#T_5f8d7_row23_col4,#T_5f8d7_row23_col5,#T_5f8d7_row23_col6,#T_5f8d7_row24_col2,#T_5f8d7_row24_col3,#T_5f8d7_row24_col4,#T_5f8d7_row24_col5,#T_5f8d7_row24_col7,#T_5f8d7_row24_col8,#T_5f8d7_row24_col9,#T_5f8d7_row25_col5,#T_5f8d7_row25_col6,#T_5f8d7_row26_col3,#T_5f8d7_row26_col5,#T_5f8d7_row27_col2,#T_5f8d7_row27_col3,#T_5f8d7_row27_col4,#T_5f8d7_row27_col6,#T_5f8d7_row28_col2,#T_5f8d7_row28_col3,#T_5f8d7_row28_col4,#T_5f8d7_row28_col5,#T_5f8d7_row28_col6,#T_5f8d7_row28_col8,#T_5f8d7_row28_col9,#T_5f8d7_row30_col2,#T_5f8d7_row30_col4,#T_5f8d7_row30_col5,#T_5f8d7_row31_col2,#T_5f8d7_row31_col3,#T_5f8d7_row31_col4,#T_5f8d7_row31_col5,#T_5f8d7_row31_col6,#T_5f8d7_row32_col2,#T_5f8d7_row32_col3,#T_5f8d7_row32_col4,#T_5f8d7_row32_col5,#T_5f8d7_row32_col6,#T_5f8d7_row32_col8,#T_5f8d7_row32_col9,#T_5f8d7_row34_col2,#T_5f8d7_row34_col3,#T_5f8d7_row34_col4,#T_5f8d7_row34_col5,#T_5f8d7_row34_col6,#T_5f8d7_row34_col7,#T_5f8d7_row34_col8,#T_5f8d7_row35_col2,#T_5f8d7_row35_col3,#T_5f8d7_row35_col4,#T_5f8d7_row35_col5,#T_5f8d7_row35_col6,#T_5f8d7_row36_col2,#T_5f8d7_row36_col3,#T_5f8d7_row36_col4,#T_5f8d7_row36_col5,#T_5f8d7_row36_col6,#T_5f8d7_row36_col9,#T_5f8d7_row37_col2,#T_5f8d7_row37_col3,#T_5f8d7_row37_col4,#T_5f8d7_row37_col5,#T_5f8d7_row37_col6,#T_5f8d7_row39_col2,#T_5f8d7_row39_col3,#T_5f8d7_row39_col4,#T_5f8d7_row39_col5,#T_5f8d7_row39_col9,#T_5f8d7_row40_col2,#T_5f8d7_row40_col3,#T_5f8d7_row40_col4,#T_5f8d7_row40_col5,#T_5f8d7_row40_col6,#T_5f8d7_row40_col9,#T_5f8d7_row41_col2,#T_5f8d7_row41_col3,#T_5f8d7_row41_col4,#T_5f8d7_row41_col5,#T_5f8d7_row41_col9,#T_5f8d7_row42_col2,#T_5f8d7_row42_col3,#T_5f8d7_row42_col4,#T_5f8d7_row42_col5,#T_5f8d7_row42_col6,#T_5f8d7_row42_col9,#T_5f8d7_row45_col5,#T_5f8d7_row45_col9,#T_5f8d7_row46_col2,#T_5f8d7_row46_col3,#T_5f8d7_row46_col4,#T_5f8d7_row46_col6,#T_5f8d7_row50_col2,#T_5f8d7_row50_col3,#T_5f8d7_row50_col4,#T_5f8d7_row50_col5,#T_5f8d7_row50_col6,#T_5f8d7_row50_col7,#T_5f8d7_row50_col8,#T_5f8d7_row50_col9,#T_5f8d7_row51_col5,#T_5f8d7_row51_col9,#T_5f8d7_row52_col2,#T_5f8d7_row52_col4,#T_5f8d7_row52_col5,#T_5f8d7_row53_col2,#T_5f8d7_row53_col3,#T_5f8d7_row53_col4,#T_5f8d7_row53_col5,#T_5f8d7_row53_col6,#T_5f8d7_row53_col8,#T_5f8d7_row54_col2,#T_5f8d7_row54_col3,#T_5f8d7_row54_col4,#T_5f8d7_row54_col5,#T_5f8d7_row54_col6,#T_5f8d7_row55_col2,#T_5f8d7_row55_col3,#T_5f8d7_row55_col4,#T_5f8d7_row55_col5,#T_5f8d7_row55_col6,#T_5f8d7_row55_col7,#T_5f8d7_row55_col9,#T_5f8d7_row56_col2,#T_5f8d7_row56_col3,#T_5f8d7_row56_col4,#T_5f8d7_row56_col5,#T_5f8d7_row56_col6,#T_5f8d7_row57_col2,#T_5f8d7_row57_col3,#T_5f8d7_row57_col4,#T_5f8d7_row57_col5,#T_5f8d7_row57_col9,#T_5f8d7_row58_col2,#T_5f8d7_row58_col3,#T_5f8d7_row58_col4,#T_5f8d7_row58_col5,#T_5f8d7_row58_col9,#T_5f8d7_row60_col2,#T_5f8d7_row60_col3,#T_5f8d7_row60_col4,#T_5f8d7_row60_col6,#T_5f8d7_row61_col2,#T_5f8d7_row61_col3,#T_5f8d7_row61_col4,#T_5f8d7_row61_col5,#T_5f8d7_row62_col2,#T_5f8d7_row62_col3,#T_5f8d7_row62_col4,#T_5f8d7_row62_col5,#T_5f8d7_row62_col6,#T_5f8d7_row62_col9,#T_5f8d7_row63_col2,#T_5f8d7_row63_col3,#T_5f8d7_row63_col4,#T_5f8d7_row63_col5,#T_5f8d7_row63_col6,#T_5f8d7_row63_col9,#T_5f8d7_row64_col2,#T_5f8d7_row64_col3,#T_5f8d7_row64_col4,#T_5f8d7_row64_col5,#T_5f8d7_row64_col6,#T_5f8d7_row64_col9,#T_5f8d7_row65_col5,#T_5f8d7_row65_col6,#T_5f8d7_row66_col2,#T_5f8d7_row66_col3,#T_5f8d7_row66_col4,#T_5f8d7_row66_col5,#T_5f8d7_row66_col6,#T_5f8d7_row67_col5,#T_5f8d7_row67_col6,#T_5f8d7_row68_col2,#T_5f8d7_row68_col3,#T_5f8d7_row68_col4,#T_5f8d7_row68_col5,#T_5f8d7_row68_col9,#T_5f8d7_row70_col2,#T_5f8d7_row70_col3,#T_5f8d7_row70_col4,#T_5f8d7_row70_col5,#T_5f8d7_row70_col6,#T_5f8d7_row70_col7,#T_5f8d7_row70_col8,#T_5f8d7_row70_col9,#T_5f8d7_row71_col2,#T_5f8d7_row71_col3,#T_5f8d7_row71_col4,#T_5f8d7_row71_col5,#T_5f8d7_row72_col2,#T_5f8d7_row72_col3,#T_5f8d7_row72_col4,#T_5f8d7_row72_col5,#T_5f8d7_row72_col7,#T_5f8d7_row72_col8,#T_5f8d7_row72_col9,#T_5f8d7_row73_col5,#T_5f8d7_row73_col8,#T_5f8d7_row73_col9,#T_5f8d7_row74_col3,#T_5f8d7_row74_col4,#T_5f8d7_row74_col6,#T_5f8d7_row75_col2,#T_5f8d7_row75_col3,#T_5f8d7_row75_col4,#T_5f8d7_row75_col5,#T_5f8d7_row75_col9,#T_5f8d7_row77_col3,#T_5f8d7_row77_col5,#T_5f8d7_row77_col6,#T_5f8d7_row79_col2,#T_5f8d7_row79_col3,#T_5f8d7_row79_col4,#T_5f8d7_row79_col5,#T_5f8d7_row79_col9,#T_5f8d7_row80_col2,#T_5f8d7_row80_col3,#T_5f8d7_row80_col4,#T_5f8d7_row80_col5,#T_5f8d7_row80_col6,#T_5f8d7_row80_col8,#T_5f8d7_row81_col2,#T_5f8d7_row81_col3,#T_5f8d7_row81_col4,#T_5f8d7_row81_col5,#T_5f8d7_row81_col6,#T_5f8d7_row81_col9,#T_5f8d7_row82_col2,#T_5f8d7_row82_col3,#T_5f8d7_row82_col4,#T_5f8d7_row82_col5,#T_5f8d7_row82_col6,#T_5f8d7_row82_col9,#T_5f8d7_row84_col2,#T_5f8d7_row84_col3,#T_5f8d7_row84_col4,#T_5f8d7_row84_col5,#T_5f8d7_row84_col9,#T_5f8d7_row85_col2,#T_5f8d7_row85_col3,#T_5f8d7_row85_col4,#T_5f8d7_row85_col5,#T_5f8d7_row85_col7,#T_5f8d7_row85_col8,#T_5f8d7_row85_col9,#T_5f8d7_row86_col2,#T_5f8d7_row86_col3,#T_5f8d7_row86_col4,#T_5f8d7_row86_col5,#T_5f8d7_row86_col8,#T_5f8d7_row86_col9,#T_5f8d7_row87_col2,#T_5f8d7_row87_col3,#T_5f8d7_row87_col4,#T_5f8d7_row87_col5,#T_5f8d7_row88_col2,#T_5f8d7_row88_col3,#T_5f8d7_row88_col4,#T_5f8d7_row88_col5,#T_5f8d7_row88_col8,#T_5f8d7_row88_col9,#T_5f8d7_row90_col2,#T_5f8d7_row90_col4,#T_5f8d7_row90_col5,#T_5f8d7_row90_col9,#T_5f8d7_row91_col2,#T_5f8d7_row91_col3,#T_5f8d7_row91_col4,#T_5f8d7_row91_col5,#T_5f8d7_row91_col7,#T_5f8d7_row91_col8,#T_5f8d7_row91_col9,#T_5f8d7_row92_col2,#T_5f8d7_row92_col3,#T_5f8d7_row92_col4,#T_5f8d7_row92_col5,#T_5f8d7_row92_col9,#T_5f8d7_row93_col2,#T_5f8d7_row93_col3,#T_5f8d7_row93_col4,#T_5f8d7_row93_col5,#T_5f8d7_row93_col8,#T_5f8d7_row93_col9,#T_5f8d7_row95_col2,#T_5f8d7_row95_col3,#T_5f8d7_row95_col4,#T_5f8d7_row95_col5,#T_5f8d7_row95_col9,#T_5f8d7_row96_col2,#T_5f8d7_row96_col3,#T_5f8d7_row96_col4,#T_5f8d7_row96_col5,#T_5f8d7_row96_col7,#T_5f8d7_row96_col8,#T_5f8d7_row96_col9,#T_5f8d7_row97_col2,#T_5f8d7_row97_col4,#T_5f8d7_row97_col5,#T_5f8d7_row97_col7,#T_5f8d7_row97_col9,#T_5f8d7_row98_col2,#T_5f8d7_row98_col4,#T_5f8d7_row98_col5,#T_5f8d7_row98_col9,#T_5f8d7_row99_col2,#T_5f8d7_row99_col4,#T_5f8d7_row99_col5,#T_5f8d7_row99_col9{\n            background-color:  #fff5f0;\n            color:  #000000;\n        }#T_5f8d7_row0_col3,#T_5f8d7_row2_col3,#T_5f8d7_row3_col8,#T_5f8d7_row5_col7,#T_5f8d7_row7_col9,#T_5f8d7_row10_col3,#T_5f8d7_row12_col9,#T_5f8d7_row13_col9,#T_5f8d7_row16_col6,#T_5f8d7_row17_col6,#T_5f8d7_row17_col7,#T_5f8d7_row17_col9,#T_5f8d7_row19_col7,#T_5f8d7_row20_col6,#T_5f8d7_row23_col8,#T_5f8d7_row26_col6,#T_5f8d7_row29_col2,#T_5f8d7_row29_col9,#T_5f8d7_row30_col9,#T_5f8d7_row33_col2,#T_5f8d7_row33_col4,#T_5f8d7_row37_col9,#T_5f8d7_row38_col2,#T_5f8d7_row38_col4,#T_5f8d7_row39_col6,#T_5f8d7_row39_col7,#T_5f8d7_row41_col6,#T_5f8d7_row41_col7,#T_5f8d7_row41_col8,#T_5f8d7_row44_col9,#T_5f8d7_row46_col5,#T_5f8d7_row47_col9,#T_5f8d7_row48_col3,#T_5f8d7_row49_col3,#T_5f8d7_row57_col7,#T_5f8d7_row57_col8,#T_5f8d7_row59_col3,#T_5f8d7_row60_col5,#T_5f8d7_row61_col8,#T_5f8d7_row65_col2,#T_5f8d7_row65_col4,#T_5f8d7_row65_col9,#T_5f8d7_row68_col8,#T_5f8d7_row71_col8,#T_5f8d7_row71_col9,#T_5f8d7_row75_col7,#T_5f8d7_row76_col9,#T_5f8d7_row77_col4,#T_5f8d7_row78_col9,#T_5f8d7_row79_col6,#T_5f8d7_row79_col8,#T_5f8d7_row80_col7,#T_5f8d7_row80_col9,#T_5f8d7_row84_col6,#T_5f8d7_row87_col6,#T_5f8d7_row87_col9,#T_5f8d7_row90_col7,#T_5f8d7_row92_col7,#T_5f8d7_row94_col5,#T_5f8d7_row99_col6{\n            background-color:  #fff4ee;\n            color:  #000000;\n        }#T_5f8d7_row0_col5,#T_5f8d7_row0_col9,#T_5f8d7_row1_col2,#T_5f8d7_row1_col3,#T_5f8d7_row1_col4,#T_5f8d7_row1_col9,#T_5f8d7_row2_col2,#T_5f8d7_row3_col7,#T_5f8d7_row5_col9,#T_5f8d7_row6_col6,#T_5f8d7_row7_col6,#T_5f8d7_row8_col9,#T_5f8d7_row10_col6,#T_5f8d7_row11_col9,#T_5f8d7_row15_col7,#T_5f8d7_row16_col9,#T_5f8d7_row17_col8,#T_5f8d7_row18_col3,#T_5f8d7_row19_col8,#T_5f8d7_row20_col8,#T_5f8d7_row26_col2,#T_5f8d7_row26_col4,#T_5f8d7_row29_col4,#T_5f8d7_row30_col3,#T_5f8d7_row30_col6,#T_5f8d7_row31_col9,#T_5f8d7_row32_col7,#T_5f8d7_row33_col9,#T_5f8d7_row34_col9,#T_5f8d7_row38_col5,#T_5f8d7_row39_col8,#T_5f8d7_row45_col6,#T_5f8d7_row49_col2,#T_5f8d7_row49_col4,#T_5f8d7_row51_col2,#T_5f8d7_row51_col3,#T_5f8d7_row51_col4,#T_5f8d7_row52_col3,#T_5f8d7_row52_col6,#T_5f8d7_row55_col8,#T_5f8d7_row61_col7,#T_5f8d7_row61_col9,#T_5f8d7_row64_col7,#T_5f8d7_row64_col8,#T_5f8d7_row66_col9,#T_5f8d7_row71_col6,#T_5f8d7_row71_col7,#T_5f8d7_row73_col2,#T_5f8d7_row73_col3,#T_5f8d7_row73_col4,#T_5f8d7_row73_col7,#T_5f8d7_row74_col2,#T_5f8d7_row75_col6,#T_5f8d7_row75_col8,#T_5f8d7_row77_col2,#T_5f8d7_row78_col5,#T_5f8d7_row83_col5,#T_5f8d7_row83_col9,#T_5f8d7_row85_col6,#T_5f8d7_row86_col6,#T_5f8d7_row87_col7,#T_5f8d7_row88_col6,#T_5f8d7_row88_col7,#T_5f8d7_row89_col2,#T_5f8d7_row89_col3,#T_5f8d7_row89_col4,#T_5f8d7_row90_col3,#T_5f8d7_row92_col6,#T_5f8d7_row92_col8,#T_5f8d7_row93_col7,#T_5f8d7_row94_col3,#T_5f8d7_row94_col6,#T_5f8d7_row95_col8,#T_5f8d7_row97_col3,#T_5f8d7_row98_col3,#T_5f8d7_row99_col3{\n            background-color:  #fff4ef;\n            color:  #000000;\n        }#T_5f8d7_row0_col6,#T_5f8d7_row6_col4,#T_5f8d7_row25_col3,#T_5f8d7_row29_col5,#T_5f8d7_row35_col8,#T_5f8d7_row35_col9,#T_5f8d7_row38_col3,#T_5f8d7_row47_col2,#T_5f8d7_row47_col4,#T_5f8d7_row49_col5,#T_5f8d7_row76_col5,#T_5f8d7_row83_col6,#T_5f8d7_row84_col8,#T_5f8d7_row89_col8,#T_5f8d7_row98_col8{\n            background-color:  #fff1ea;\n            color:  #000000;\n        }#T_5f8d7_row0_col7,#T_5f8d7_row5_col8,#T_5f8d7_row6_col9,#T_5f8d7_row7_col2,#T_5f8d7_row7_col3,#T_5f8d7_row7_col4,#T_5f8d7_row10_col2,#T_5f8d7_row10_col4,#T_5f8d7_row10_col9,#T_5f8d7_row13_col7,#T_5f8d7_row15_col6,#T_5f8d7_row21_col3,#T_5f8d7_row23_col7,#T_5f8d7_row23_col9,#T_5f8d7_row25_col2,#T_5f8d7_row25_col4,#T_5f8d7_row25_col9,#T_5f8d7_row26_col9,#T_5f8d7_row27_col5,#T_5f8d7_row33_col3,#T_5f8d7_row33_col5,#T_5f8d7_row33_col8,#T_5f8d7_row38_col6,#T_5f8d7_row40_col7,#T_5f8d7_row40_col8,#T_5f8d7_row48_col5,#T_5f8d7_row48_col6,#T_5f8d7_row51_col8,#T_5f8d7_row52_col9,#T_5f8d7_row53_col9,#T_5f8d7_row56_col9,#T_5f8d7_row58_col6,#T_5f8d7_row58_col7,#T_5f8d7_row61_col6,#T_5f8d7_row68_col7,#T_5f8d7_row78_col6,#T_5f8d7_row79_col7,#T_5f8d7_row89_col5,#T_5f8d7_row89_col6,#T_5f8d7_row90_col6,#T_5f8d7_row98_col6{\n            background-color:  #fff3ed;\n            color:  #000000;\n        }#T_5f8d7_row0_col8,#T_5f8d7_row2_col6,#T_5f8d7_row2_col8,#T_5f8d7_row8_col2,#T_5f8d7_row8_col4,#T_5f8d7_row8_col8,#T_5f8d7_row22_col7,#T_5f8d7_row36_col8,#T_5f8d7_row45_col2,#T_5f8d7_row47_col5,#T_5f8d7_row59_col8,#T_5f8d7_row63_col7,#T_5f8d7_row67_col3,#T_5f8d7_row77_col9{\n            background-color:  #fff0e9;\n            color:  #000000;\n        }#T_5f8d7_row1_col7,#T_5f8d7_row11_col8,#T_5f8d7_row66_col8{\n            background-color:  #fca98c;\n            color:  #000000;\n        }#T_5f8d7_row1_col8{\n            background-color:  #fca486;\n            color:  #000000;\n        }#T_5f8d7_row2_col5,#T_5f8d7_row2_col7,#T_5f8d7_row2_col9,#T_5f8d7_row5_col6,#T_5f8d7_row18_col6,#T_5f8d7_row18_col8,#T_5f8d7_row28_col7,#T_5f8d7_row29_col7,#T_5f8d7_row33_col7,#T_5f8d7_row36_col7,#T_5f8d7_row38_col9,#T_5f8d7_row48_col2,#T_5f8d7_row48_col4,#T_5f8d7_row51_col7,#T_5f8d7_row53_col7,#T_5f8d7_row57_col6,#T_5f8d7_row59_col4,#T_5f8d7_row65_col3,#T_5f8d7_row67_col2,#T_5f8d7_row67_col9,#T_5f8d7_row69_col4,#T_5f8d7_row72_col6,#T_5f8d7_row83_col2,#T_5f8d7_row83_col4,#T_5f8d7_row84_col7,#T_5f8d7_row87_col8,#T_5f8d7_row97_col8,#T_5f8d7_row99_col7{\n            background-color:  #fff2ec;\n            color:  #000000;\n        }#T_5f8d7_row3_col6,#T_5f8d7_row6_col2,#T_5f8d7_row8_col5,#T_5f8d7_row18_col5,#T_5f8d7_row18_col7,#T_5f8d7_row45_col3,#T_5f8d7_row49_col7,#T_5f8d7_row49_col8,#T_5f8d7_row49_col9,#T_5f8d7_row58_col8,#T_5f8d7_row59_col2,#T_5f8d7_row59_col6,#T_5f8d7_row67_col4,#T_5f8d7_row68_col6,#T_5f8d7_row69_col2,#T_5f8d7_row69_col3,#T_5f8d7_row69_col6,#T_5f8d7_row83_col3,#T_5f8d7_row94_col2,#T_5f8d7_row94_col4,#T_5f8d7_row95_col6,#T_5f8d7_row95_col7,#T_5f8d7_row97_col6{\n            background-color:  #fff2eb;\n            color:  #000000;\n        }#T_5f8d7_row4_col7,#T_5f8d7_row26_col7,#T_5f8d7_row69_col9,#T_5f8d7_row83_col7{\n            background-color:  #fee7dc;\n            color:  #000000;\n        }#T_5f8d7_row4_col8{\n            background-color:  #fdd5c4;\n            color:  #000000;\n        }#T_5f8d7_row6_col3,#T_5f8d7_row8_col7,#T_5f8d7_row26_col8,#T_5f8d7_row31_col8,#T_5f8d7_row42_col8,#T_5f8d7_row43_col9,#T_5f8d7_row45_col4,#T_5f8d7_row54_col7,#T_5f8d7_row89_col9,#T_5f8d7_row93_col6,#T_5f8d7_row98_col7{\n            background-color:  #fff0e8;\n            color:  #000000;\n        }#T_5f8d7_row6_col7{\n            background-color:  #fb7151;\n            color:  #000000;\n        }#T_5f8d7_row6_col8,#T_5f8d7_row12_col7{\n            background-color:  #fb7c5c;\n            color:  #000000;\n        }#T_5f8d7_row7_col7{\n            background-color:  #fcc4ad;\n            color:  #000000;\n        }#T_5f8d7_row7_col8{\n            background-color:  #fdd0bc;\n            color:  #000000;\n        }#T_5f8d7_row8_col3,#T_5f8d7_row18_col9,#T_5f8d7_row47_col8,#T_5f8d7_row48_col9,#T_5f8d7_row49_col6,#T_5f8d7_row51_col6,#T_5f8d7_row59_col5,#T_5f8d7_row63_col8,#T_5f8d7_row78_col2,#T_5f8d7_row90_col8{\n            background-color:  #ffefe8;\n            color:  #000000;\n        }#T_5f8d7_row8_col6,#T_5f8d7_row59_col7{\n            background-color:  #fee2d5;\n            color:  #000000;\n        }#T_5f8d7_row9_col7,#T_5f8d7_row69_col8,#T_5f8d7_row78_col3{\n            background-color:  #fee6da;\n            color:  #000000;\n        }#T_5f8d7_row9_col8,#T_5f8d7_row24_col6{\n            background-color:  #ffebe2;\n            color:  #000000;\n        }#T_5f8d7_row10_col7{\n            background-color:  #fcb398;\n            color:  #000000;\n        }#T_5f8d7_row10_col8,#T_5f8d7_row27_col8,#T_5f8d7_row60_col8{\n            background-color:  #fee3d6;\n            color:  #000000;\n        }#T_5f8d7_row11_col7{\n            background-color:  #fdc6b0;\n            color:  #000000;\n        }#T_5f8d7_row12_col8{\n            background-color:  #fca689;\n            color:  #000000;\n        }#T_5f8d7_row21_col6,#T_5f8d7_row43_col2,#T_5f8d7_row43_col3,#T_5f8d7_row43_col4,#T_5f8d7_row43_col5,#T_5f8d7_row60_col9,#T_5f8d7_row81_col7,#T_5f8d7_row81_col8{\n            background-color:  #67000d;\n            color:  #f1f1f1;\n        }#T_5f8d7_row22_col8,#T_5f8d7_row44_col2,#T_5f8d7_row44_col4,#T_5f8d7_row76_col3,#T_5f8d7_row82_col8,#T_5f8d7_row94_col8{\n            background-color:  #feeae1;\n            color:  #000000;\n        }#T_5f8d7_row25_col7{\n            background-color:  #f44d38;\n            color:  #000000;\n        }#T_5f8d7_row25_col8{\n            background-color:  #cf1c1f;\n            color:  #f1f1f1;\n        }#T_5f8d7_row27_col7{\n            background-color:  #fc8a6a;\n            color:  #000000;\n        }#T_5f8d7_row27_col9{\n            background-color:  #f14331;\n            color:  #f1f1f1;\n        }#T_5f8d7_row29_col3,#T_5f8d7_row44_col7,#T_5f8d7_row76_col2,#T_5f8d7_row76_col4{\n            background-color:  #ffeee6;\n            color:  #000000;\n        }#T_5f8d7_row29_col6,#T_5f8d7_row35_col7,#T_5f8d7_row76_col7,#T_5f8d7_row76_col8,#T_5f8d7_row77_col8,#T_5f8d7_row82_col7,#T_5f8d7_row86_col7{\n            background-color:  #fee9df;\n            color:  #000000;\n        }#T_5f8d7_row29_col8,#T_5f8d7_row54_col8,#T_5f8d7_row89_col7{\n            background-color:  #ffece3;\n            color:  #000000;\n        }#T_5f8d7_row30_col7,#T_5f8d7_row76_col6{\n            background-color:  #fee8de;\n            color:  #000000;\n        }#T_5f8d7_row30_col8{\n            background-color:  #fedfd0;\n            color:  #000000;\n        }#T_5f8d7_row31_col7,#T_5f8d7_row47_col3,#T_5f8d7_row47_col7,#T_5f8d7_row54_col9,#T_5f8d7_row78_col4,#T_5f8d7_row91_col6,#T_5f8d7_row94_col9,#T_5f8d7_row99_col8{\n            background-color:  #ffeee7;\n            color:  #000000;\n        }#T_5f8d7_row33_col6,#T_5f8d7_row83_col8{\n            background-color:  #fee8dd;\n            color:  #000000;\n        }#T_5f8d7_row37_col7{\n            background-color:  #fdcab5;\n            color:  #000000;\n        }#T_5f8d7_row37_col8,#T_5f8d7_row38_col7{\n            background-color:  #fee5d9;\n            color:  #000000;\n        }#T_5f8d7_row38_col8,#T_5f8d7_row46_col9{\n            background-color:  #fdd3c1;\n            color:  #000000;\n        }#T_5f8d7_row42_col7,#T_5f8d7_row69_col7{\n            background-color:  #fee0d2;\n            color:  #000000;\n        }#T_5f8d7_row43_col6{\n            background-color:  #7a0510;\n            color:  #f1f1f1;\n        }#T_5f8d7_row43_col7{\n            background-color:  #fedecf;\n            color:  #000000;\n        }#T_5f8d7_row43_col8,#T_5f8d7_row47_col6{\n            background-color:  #fee7db;\n            color:  #000000;\n        }#T_5f8d7_row44_col3,#T_5f8d7_row48_col7,#T_5f8d7_row74_col7{\n            background-color:  #fed8c7;\n            color:  #000000;\n        }#T_5f8d7_row44_col5,#T_5f8d7_row74_col5{\n            background-color:  #ffede5;\n            color:  #000000;\n        }#T_5f8d7_row44_col6{\n            background-color:  #fdcdb9;\n            color:  #000000;\n        }#T_5f8d7_row44_col8,#T_5f8d7_row48_col8,#T_5f8d7_row96_col6{\n            background-color:  #feeae0;\n            color:  #000000;\n        }#T_5f8d7_row45_col7{\n            background-color:  #e93529;\n            color:  #f1f1f1;\n        }#T_5f8d7_row45_col8{\n            background-color:  #fcb296;\n            color:  #000000;\n        }#T_5f8d7_row46_col7,#T_5f8d7_row52_col7{\n            background-color:  #fee3d7;\n            color:  #000000;\n        }#T_5f8d7_row46_col8{\n            background-color:  #fee1d4;\n            color:  #000000;\n        }#T_5f8d7_row52_col8{\n            background-color:  #fee4d8;\n            color:  #000000;\n        }#T_5f8d7_row56_col7{\n            background-color:  #f96044;\n            color:  #000000;\n        }#T_5f8d7_row56_col8{\n            background-color:  #f44f39;\n            color:  #000000;\n        }#T_5f8d7_row59_col9,#T_5f8d7_row69_col5,#T_5f8d7_row74_col8{\n            background-color:  #ffece4;\n            color:  #000000;\n        }#T_5f8d7_row60_col7{\n            background-color:  #c3161b;\n            color:  #f1f1f1;\n        }#T_5f8d7_row62_col7{\n            background-color:  #fb7656;\n            color:  #000000;\n        }#T_5f8d7_row62_col8{\n            background-color:  #fc9879;\n            color:  #000000;\n        }#T_5f8d7_row65_col7{\n            background-color:  #fc8464;\n            color:  #000000;\n        }#T_5f8d7_row65_col8{\n            background-color:  #f4503a;\n            color:  #000000;\n        }#T_5f8d7_row66_col7{\n            background-color:  #fc8262;\n            color:  #000000;\n        }#T_5f8d7_row67_col7{\n            background-color:  #860811;\n            color:  #f1f1f1;\n        }#T_5f8d7_row67_col8{\n            background-color:  #880811;\n            color:  #f1f1f1;\n        }#T_5f8d7_row73_col6{\n            background-color:  #fedbcc;\n            color:  #000000;\n        }#T_5f8d7_row74_col9{\n            background-color:  #fc8060;\n            color:  #000000;\n        }#T_5f8d7_row77_col7{\n            background-color:  #fb694a;\n            color:  #000000;\n        }#T_5f8d7_row78_col7{\n            background-color:  #fc9373;\n            color:  #000000;\n        }#T_5f8d7_row78_col8{\n            background-color:  #f24734;\n            color:  #000000;\n        }#T_5f8d7_row94_col7{\n            background-color:  #fc9070;\n            color:  #000000;\n        }</style><table id=\"T_5f8d7_\" ><thead>    <tr>        <th class=\"blank level0\" ></th>        <th class=\"col_heading level0 col0\" >Country/Region</th>        <th class=\"col_heading level0 col1\" >Time</th>        <th class=\"col_heading level0 col2\" >Confirmed</th>        <th class=\"col_heading level0 col3\" >Deaths</th>        <th class=\"col_heading level0 col4\" >Recovered</th>        <th class=\"col_heading level0 col5\" >Active</th>        <th class=\"col_heading level0 col6\" >Population</th>        <th class=\"col_heading level0 col7\" >%Confirmed</th>        <th class=\"col_heading level0 col8\" >%Deaths</th>        <th class=\"col_heading level0 col9\" >%Active</th>    </tr></thead><tbody>\n                <tr>\n                        <th id=\"T_5f8d7_level0_row0\" class=\"row_heading level0 row0\" >0</th>\n                        <td id=\"T_5f8d7_row0_col0\" class=\"data row0 col0\" >Afghanistan</td>\n                        <td id=\"T_5f8d7_row0_col1\" class=\"data row0 col1\" >2021-05-29 00:00:00</td>\n                        <td id=\"T_5f8d7_row0_col2\" class=\"data row0 col2\" >70111</td>\n                        <td id=\"T_5f8d7_row0_col3\" class=\"data row0 col3\" >2899</td>\n                        <td id=\"T_5f8d7_row0_col4\" class=\"data row0 col4\" >57281</td>\n                        <td id=\"T_5f8d7_row0_col5\" class=\"data row0 col5\" >9931</td>\n                        <td id=\"T_5f8d7_row0_col6\" class=\"data row0 col6\" >38928346</td>\n                        <td id=\"T_5f8d7_row0_col7\" class=\"data row0 col7\" >0.001801</td>\n                        <td id=\"T_5f8d7_row0_col8\" class=\"data row0 col8\" >0.000074</td>\n                        <td id=\"T_5f8d7_row0_col9\" class=\"data row0 col9\" >0.000255</td>\n            </tr>\n            <tr>\n                        <th id=\"T_5f8d7_level0_row1\" class=\"row_heading level0 row1\" >1</th>\n                        <td id=\"T_5f8d7_row1_col0\" class=\"data row1 col0\" >Albania</td>\n                        <td id=\"T_5f8d7_row1_col1\" class=\"data row1 col1\" >2021-05-29 00:00:00</td>\n                        <td id=\"T_5f8d7_row1_col2\" class=\"data row1 col2\" >132297</td>\n                        <td id=\"T_5f8d7_row1_col3\" class=\"data row1 col3\" >2449</td>\n                        <td id=\"T_5f8d7_row1_col4\" class=\"data row1 col4\" >129215</td>\n                        <td id=\"T_5f8d7_row1_col5\" class=\"data row1 col5\" >633</td>\n                        <td id=\"T_5f8d7_row1_col6\" class=\"data row1 col6\" >2877797</td>\n                        <td id=\"T_5f8d7_row1_col7\" class=\"data row1 col7\" >0.045972</td>\n                        <td id=\"T_5f8d7_row1_col8\" class=\"data row1 col8\" >0.000851</td>\n                        <td id=\"T_5f8d7_row1_col9\" class=\"data row1 col9\" >0.000220</td>\n            </tr>\n            <tr>\n                        <th id=\"T_5f8d7_level0_row2\" class=\"row_heading level0 row2\" >2</th>\n                        <td id=\"T_5f8d7_row2_col0\" class=\"data row2 col0\" >Algeria</td>\n                        <td id=\"T_5f8d7_row2_col1\" class=\"data row2 col1\" >2021-05-29 00:00:00</td>\n                        <td id=\"T_5f8d7_row2_col2\" class=\"data row2 col2\" >128456</td>\n                        <td id=\"T_5f8d7_row2_col3\" class=\"data row2 col3\" >3460</td>\n                        <td id=\"T_5f8d7_row2_col4\" class=\"data row2 col4\" >89419</td>\n                        <td id=\"T_5f8d7_row2_col5\" class=\"data row2 col5\" >35577</td>\n                        <td id=\"T_5f8d7_row2_col6\" class=\"data row2 col6\" >43851044</td>\n                        <td id=\"T_5f8d7_row2_col7\" class=\"data row2 col7\" >0.002929</td>\n                        <td id=\"T_5f8d7_row2_col8\" class=\"data row2 col8\" >0.000079</td>\n                        <td id=\"T_5f8d7_row2_col9\" class=\"data row2 col9\" >0.000811</td>\n            </tr>\n            <tr>\n                        <th id=\"T_5f8d7_level0_row3\" class=\"row_heading level0 row3\" >4</th>\n                        <td id=\"T_5f8d7_row3_col0\" class=\"data row3 col0\" >Angola</td>\n                        <td id=\"T_5f8d7_row3_col1\" class=\"data row3 col1\" >2021-05-29 00:00:00</td>\n                        <td id=\"T_5f8d7_row3_col2\" class=\"data row3 col2\" >34180</td>\n                        <td id=\"T_5f8d7_row3_col3\" class=\"data row3 col3\" >757</td>\n                        <td id=\"T_5f8d7_row3_col4\" class=\"data row3 col4\" >27646</td>\n                        <td id=\"T_5f8d7_row3_col5\" class=\"data row3 col5\" >5777</td>\n                        <td id=\"T_5f8d7_row3_col6\" class=\"data row3 col6\" >32866272</td>\n                        <td id=\"T_5f8d7_row3_col7\" class=\"data row3 col7\" >0.001040</td>\n                        <td id=\"T_5f8d7_row3_col8\" class=\"data row3 col8\" >0.000023</td>\n                        <td id=\"T_5f8d7_row3_col9\" class=\"data row3 col9\" >0.000176</td>\n            </tr>\n            <tr>\n                        <th id=\"T_5f8d7_level0_row4\" class=\"row_heading level0 row4\" >5</th>\n                        <td id=\"T_5f8d7_row4_col0\" class=\"data row4 col0\" >Antigua and Barbuda</td>\n                        <td id=\"T_5f8d7_row4_col1\" class=\"data row4 col1\" >2021-05-29 00:00:00</td>\n                        <td id=\"T_5f8d7_row4_col2\" class=\"data row4 col2\" >1259</td>\n                        <td id=\"T_5f8d7_row4_col3\" class=\"data row4 col3\" >42</td>\n                        <td id=\"T_5f8d7_row4_col4\" class=\"data row4 col4\" >1206</td>\n                        <td id=\"T_5f8d7_row4_col5\" class=\"data row4 col5\" >11</td>\n                        <td id=\"T_5f8d7_row4_col6\" class=\"data row4 col6\" >97929</td>\n                        <td id=\"T_5f8d7_row4_col7\" class=\"data row4 col7\" >0.012856</td>\n                        <td id=\"T_5f8d7_row4_col8\" class=\"data row4 col8\" >0.000429</td>\n                        <td id=\"T_5f8d7_row4_col9\" class=\"data row4 col9\" >0.000112</td>\n            </tr>\n            <tr>\n                        <th id=\"T_5f8d7_level0_row5\" class=\"row_heading level0 row5\" >8</th>\n                        <td id=\"T_5f8d7_row5_col0\" class=\"data row5 col0\" >Australia</td>\n                        <td id=\"T_5f8d7_row5_col1\" class=\"data row5 col1\" >2021-05-29 00:00:00</td>\n                        <td id=\"T_5f8d7_row5_col2\" class=\"data row5 col2\" >30096</td>\n                        <td id=\"T_5f8d7_row5_col3\" class=\"data row5 col3\" >910</td>\n                        <td id=\"T_5f8d7_row5_col4\" class=\"data row5 col4\" >23579</td>\n                        <td id=\"T_5f8d7_row5_col5\" class=\"data row5 col5\" >5607</td>\n                        <td id=\"T_5f8d7_row5_col6\" class=\"data row5 col6\" >25499884</td>\n                        <td id=\"T_5f8d7_row5_col7\" class=\"data row5 col7\" >0.001180</td>\n                        <td id=\"T_5f8d7_row5_col8\" class=\"data row5 col8\" >0.000036</td>\n                        <td id=\"T_5f8d7_row5_col9\" class=\"data row5 col9\" >0.000220</td>\n            </tr>\n            <tr>\n                        <th id=\"T_5f8d7_level0_row6\" class=\"row_heading level0 row6\" >9</th>\n                        <td id=\"T_5f8d7_row6_col0\" class=\"data row6 col0\" >Austria</td>\n                        <td id=\"T_5f8d7_row6_col1\" class=\"data row6 col1\" >2021-05-29 00:00:00</td>\n                        <td id=\"T_5f8d7_row6_col2\" class=\"data row6 col2\" >644207</td>\n                        <td id=\"T_5f8d7_row6_col3\" class=\"data row6 col3\" >10592</td>\n                        <td id=\"T_5f8d7_row6_col4\" class=\"data row6 col4\" >627672</td>\n                        <td id=\"T_5f8d7_row6_col5\" class=\"data row6 col5\" >5943</td>\n                        <td id=\"T_5f8d7_row6_col6\" class=\"data row6 col6\" >9006398</td>\n                        <td id=\"T_5f8d7_row6_col7\" class=\"data row6 col7\" >0.071528</td>\n                        <td id=\"T_5f8d7_row6_col8\" class=\"data row6 col8\" >0.001176</td>\n                        <td id=\"T_5f8d7_row6_col9\" class=\"data row6 col9\" >0.000660</td>\n            </tr>\n            <tr>\n                        <th id=\"T_5f8d7_level0_row7\" class=\"row_heading level0 row7\" >10</th>\n                        <td id=\"T_5f8d7_row7_col0\" class=\"data row7 col0\" >Azerbaijan</td>\n                        <td id=\"T_5f8d7_row7_col1\" class=\"data row7 col1\" >2021-05-29 00:00:00</td>\n                        <td id=\"T_5f8d7_row7_col2\" class=\"data row7 col2\" >333723</td>\n                        <td id=\"T_5f8d7_row7_col3\" class=\"data row7 col3\" >4903</td>\n                        <td id=\"T_5f8d7_row7_col4\" class=\"data row7 col4\" >323617</td>\n                        <td id=\"T_5f8d7_row7_col5\" class=\"data row7 col5\" >5203</td>\n                        <td id=\"T_5f8d7_row7_col6\" class=\"data row7 col6\" >10139177</td>\n                        <td id=\"T_5f8d7_row7_col7\" class=\"data row7 col7\" >0.032914</td>\n                        <td id=\"T_5f8d7_row7_col8\" class=\"data row7 col8\" >0.000484</td>\n                        <td id=\"T_5f8d7_row7_col9\" class=\"data row7 col9\" >0.000513</td>\n            </tr>\n            <tr>\n                        <th id=\"T_5f8d7_level0_row8\" class=\"row_heading level0 row8\" >13</th>\n                        <td id=\"T_5f8d7_row8_col0\" class=\"data row8 col0\" >Bangladesh</td>\n                        <td id=\"T_5f8d7_row8_col1\" class=\"data row8 col1\" >2021-05-29 00:00:00</td>\n                        <td id=\"T_5f8d7_row8_col2\" class=\"data row8 col2\" >797386</td>\n                        <td id=\"T_5f8d7_row8_col3\" class=\"data row8 col3\" >12549</td>\n                        <td id=\"T_5f8d7_row8_col4\" class=\"data row8 col4\" >737408</td>\n                        <td id=\"T_5f8d7_row8_col5\" class=\"data row8 col5\" >47429</td>\n                        <td id=\"T_5f8d7_row8_col6\" class=\"data row8 col6\" >164689383</td>\n                        <td id=\"T_5f8d7_row8_col7\" class=\"data row8 col7\" >0.004842</td>\n                        <td id=\"T_5f8d7_row8_col8\" class=\"data row8 col8\" >0.000076</td>\n                        <td id=\"T_5f8d7_row8_col9\" class=\"data row8 col9\" >0.000288</td>\n            </tr>\n            <tr>\n                        <th id=\"T_5f8d7_level0_row9\" class=\"row_heading level0 row9\" >14</th>\n                        <td id=\"T_5f8d7_row9_col0\" class=\"data row9 col0\" >Barbados</td>\n                        <td id=\"T_5f8d7_row9_col1\" class=\"data row9 col1\" >2021-05-29 00:00:00</td>\n                        <td id=\"T_5f8d7_row9_col2\" class=\"data row9 col2\" >4012</td>\n                        <td id=\"T_5f8d7_row9_col3\" class=\"data row9 col3\" >47</td>\n                        <td id=\"T_5f8d7_row9_col4\" class=\"data row9 col4\" >3922</td>\n                        <td id=\"T_5f8d7_row9_col5\" class=\"data row9 col5\" >43</td>\n                        <td id=\"T_5f8d7_row9_col6\" class=\"data row9 col6\" >287375</td>\n                        <td id=\"T_5f8d7_row9_col7\" class=\"data row9 col7\" >0.013961</td>\n                        <td id=\"T_5f8d7_row9_col8\" class=\"data row9 col8\" >0.000164</td>\n                        <td id=\"T_5f8d7_row9_col9\" class=\"data row9 col9\" >0.000150</td>\n            </tr>\n            <tr>\n                        <th id=\"T_5f8d7_level0_row10\" class=\"row_heading level0 row10\" >15</th>\n                        <td id=\"T_5f8d7_row10_col0\" class=\"data row10 col0\" >Belarus</td>\n                        <td id=\"T_5f8d7_row10_col1\" class=\"data row10 col1\" >2021-05-29 00:00:00</td>\n                        <td id=\"T_5f8d7_row10_col2\" class=\"data row10 col2\" >392629</td>\n                        <td id=\"T_5f8d7_row10_col3\" class=\"data row10 col3\" >2831</td>\n                        <td id=\"T_5f8d7_row10_col4\" class=\"data row10 col4\" >383380</td>\n                        <td id=\"T_5f8d7_row10_col5\" class=\"data row10 col5\" >6418</td>\n                        <td id=\"T_5f8d7_row10_col6\" class=\"data row10 col6\" >9449323</td>\n                        <td id=\"T_5f8d7_row10_col7\" class=\"data row10 col7\" >0.041551</td>\n                        <td id=\"T_5f8d7_row10_col8\" class=\"data row10 col8\" >0.000300</td>\n                        <td id=\"T_5f8d7_row10_col9\" class=\"data row10 col9\" >0.000679</td>\n            </tr>\n            <tr>\n                        <th id=\"T_5f8d7_level0_row11\" class=\"row_heading level0 row11\" >17</th>\n                        <td id=\"T_5f8d7_row11_col0\" class=\"data row11 col0\" >Belize</td>\n                        <td id=\"T_5f8d7_row11_col1\" class=\"data row11 col1\" >2021-05-29 00:00:00</td>\n                        <td id=\"T_5f8d7_row11_col2\" class=\"data row11 col2\" >12791</td>\n                        <td id=\"T_5f8d7_row11_col3\" class=\"data row11 col3\" >324</td>\n                        <td id=\"T_5f8d7_row11_col4\" class=\"data row11 col4\" >12378</td>\n                        <td id=\"T_5f8d7_row11_col5\" class=\"data row11 col5\" >89</td>\n                        <td id=\"T_5f8d7_row11_col6\" class=\"data row11 col6\" >397628</td>\n                        <td id=\"T_5f8d7_row11_col7\" class=\"data row11 col7\" >0.032168</td>\n                        <td id=\"T_5f8d7_row11_col8\" class=\"data row11 col8\" >0.000815</td>\n                        <td id=\"T_5f8d7_row11_col9\" class=\"data row11 col9\" >0.000224</td>\n            </tr>\n            <tr>\n                        <th id=\"T_5f8d7_level0_row12\" class=\"row_heading level0 row12\" >18</th>\n                        <td id=\"T_5f8d7_row12_col0\" class=\"data row12 col0\" >Benin</td>\n                        <td id=\"T_5f8d7_row12_col1\" class=\"data row12 col1\" >2021-05-29 00:00:00</td>\n                        <td id=\"T_5f8d7_row12_col2\" class=\"data row12 col2\" >8058</td>\n                        <td id=\"T_5f8d7_row12_col3\" class=\"data row12 col3\" >101</td>\n                        <td id=\"T_5f8d7_row12_col4\" class=\"data row12 col4\" >7893</td>\n                        <td id=\"T_5f8d7_row12_col5\" class=\"data row12 col5\" >64</td>\n                        <td id=\"T_5f8d7_row12_col6\" class=\"data row12 col6\" >121232</td>\n                        <td id=\"T_5f8d7_row12_col7\" class=\"data row12 col7\" >0.066468</td>\n                        <td id=\"T_5f8d7_row12_col8\" class=\"data row12 col8\" >0.000833</td>\n                        <td id=\"T_5f8d7_row12_col9\" class=\"data row12 col9\" >0.000528</td>\n            </tr>\n            <tr>\n                        <th id=\"T_5f8d7_level0_row13\" class=\"row_heading level0 row13\" >19</th>\n                        <td id=\"T_5f8d7_row13_col0\" class=\"data row13 col0\" >Bhutan</td>\n                        <td id=\"T_5f8d7_row13_col1\" class=\"data row13 col1\" >2021-05-29 00:00:00</td>\n                        <td id=\"T_5f8d7_row13_col2\" class=\"data row13 col2\" >1603</td>\n                        <td id=\"T_5f8d7_row13_col3\" class=\"data row13 col3\" >1</td>\n                        <td id=\"T_5f8d7_row13_col4\" class=\"data row13 col4\" >1241</td>\n                        <td id=\"T_5f8d7_row13_col5\" class=\"data row13 col5\" >361</td>\n                        <td id=\"T_5f8d7_row13_col6\" class=\"data row13 col6\" >771608</td>\n                        <td id=\"T_5f8d7_row13_col7\" class=\"data row13 col7\" >0.002077</td>\n                        <td id=\"T_5f8d7_row13_col8\" class=\"data row13 col8\" >0.000001</td>\n                        <td id=\"T_5f8d7_row13_col9\" class=\"data row13 col9\" >0.000468</td>\n            </tr>\n            <tr>\n                        <th id=\"T_5f8d7_level0_row14\" class=\"row_heading level0 row14\" >24</th>\n                        <td id=\"T_5f8d7_row14_col0\" class=\"data row14 col0\" >Brunei</td>\n                        <td id=\"T_5f8d7_row14_col1\" class=\"data row14 col1\" >2021-05-29 00:00:00</td>\n                        <td id=\"T_5f8d7_row14_col2\" class=\"data row14 col2\" >241</td>\n                        <td id=\"T_5f8d7_row14_col3\" class=\"data row14 col3\" >3</td>\n                        <td id=\"T_5f8d7_row14_col4\" class=\"data row14 col4\" >228</td>\n                        <td id=\"T_5f8d7_row14_col5\" class=\"data row14 col5\" >10</td>\n                        <td id=\"T_5f8d7_row14_col6\" class=\"data row14 col6\" >437479</td>\n                        <td id=\"T_5f8d7_row14_col7\" class=\"data row14 col7\" >0.000551</td>\n                        <td id=\"T_5f8d7_row14_col8\" class=\"data row14 col8\" >0.000007</td>\n                        <td id=\"T_5f8d7_row14_col9\" class=\"data row14 col9\" >0.000023</td>\n            </tr>\n            <tr>\n                        <th id=\"T_5f8d7_level0_row15\" class=\"row_heading level0 row15\" >26</th>\n                        <td id=\"T_5f8d7_row15_col0\" class=\"data row15 col0\" >Burkina Faso</td>\n                        <td id=\"T_5f8d7_row15_col1\" class=\"data row15 col1\" >2021-05-29 00:00:00</td>\n                        <td id=\"T_5f8d7_row15_col2\" class=\"data row15 col2\" >13430</td>\n                        <td id=\"T_5f8d7_row15_col3\" class=\"data row15 col3\" >166</td>\n                        <td id=\"T_5f8d7_row15_col4\" class=\"data row15 col4\" >13248</td>\n                        <td id=\"T_5f8d7_row15_col5\" class=\"data row15 col5\" >16</td>\n                        <td id=\"T_5f8d7_row15_col6\" class=\"data row15 col6\" >20903273</td>\n                        <td id=\"T_5f8d7_row15_col7\" class=\"data row15 col7\" >0.000642</td>\n                        <td id=\"T_5f8d7_row15_col8\" class=\"data row15 col8\" >0.000008</td>\n                        <td id=\"T_5f8d7_row15_col9\" class=\"data row15 col9\" >0.000001</td>\n            </tr>\n            <tr>\n                        <th id=\"T_5f8d7_level0_row16\" class=\"row_heading level0 row16\" >28</th>\n                        <td id=\"T_5f8d7_row16_col0\" class=\"data row16 col0\" >Burundi</td>\n                        <td id=\"T_5f8d7_row16_col1\" class=\"data row16 col1\" >2021-05-29 00:00:00</td>\n                        <td id=\"T_5f8d7_row16_col2\" class=\"data row16 col2\" >4715</td>\n                        <td id=\"T_5f8d7_row16_col3\" class=\"data row16 col3\" >6</td>\n                        <td id=\"T_5f8d7_row16_col4\" class=\"data row16 col4\" >773</td>\n                        <td id=\"T_5f8d7_row16_col5\" class=\"data row16 col5\" >3936</td>\n                        <td id=\"T_5f8d7_row16_col6\" class=\"data row16 col6\" >11890784</td>\n                        <td id=\"T_5f8d7_row16_col7\" class=\"data row16 col7\" >0.000397</td>\n                        <td id=\"T_5f8d7_row16_col8\" class=\"data row16 col8\" >0.000001</td>\n                        <td id=\"T_5f8d7_row16_col9\" class=\"data row16 col9\" >0.000331</td>\n            </tr>\n            <tr>\n                        <th id=\"T_5f8d7_level0_row17\" class=\"row_heading level0 row17\" >29</th>\n                        <td id=\"T_5f8d7_row17_col0\" class=\"data row17 col0\" >Cambodia</td>\n                        <td id=\"T_5f8d7_row17_col1\" class=\"data row17 col1\" >2021-05-29 00:00:00</td>\n                        <td id=\"T_5f8d7_row17_col2\" class=\"data row17 col2\" >28825</td>\n                        <td id=\"T_5f8d7_row17_col3\" class=\"data row17 col3\" >203</td>\n                        <td id=\"T_5f8d7_row17_col4\" class=\"data row17 col4\" >21315</td>\n                        <td id=\"T_5f8d7_row17_col5\" class=\"data row17 col5\" >7307</td>\n                        <td id=\"T_5f8d7_row17_col6\" class=\"data row17 col6\" >16718965</td>\n                        <td id=\"T_5f8d7_row17_col7\" class=\"data row17 col7\" >0.001724</td>\n                        <td id=\"T_5f8d7_row17_col8\" class=\"data row17 col8\" >0.000012</td>\n                        <td id=\"T_5f8d7_row17_col9\" class=\"data row17 col9\" >0.000437</td>\n            </tr>\n            <tr>\n                        <th id=\"T_5f8d7_level0_row18\" class=\"row_heading level0 row18\" >30</th>\n                        <td id=\"T_5f8d7_row18_col0\" class=\"data row18 col0\" >Cameroon</td>\n                        <td id=\"T_5f8d7_row18_col1\" class=\"data row18 col1\" >2021-05-29 00:00:00</td>\n                        <td id=\"T_5f8d7_row18_col2\" class=\"data row18 col2\" >78929</td>\n                        <td id=\"T_5f8d7_row18_col3\" class=\"data row18 col3\" >1275</td>\n                        <td id=\"T_5f8d7_row18_col4\" class=\"data row18 col4\" >35261</td>\n                        <td id=\"T_5f8d7_row18_col5\" class=\"data row18 col5\" >42393</td>\n                        <td id=\"T_5f8d7_row18_col6\" class=\"data row18 col6\" >26545863</td>\n                        <td id=\"T_5f8d7_row18_col7\" class=\"data row18 col7\" >0.002973</td>\n                        <td id=\"T_5f8d7_row18_col8\" class=\"data row18 col8\" >0.000048</td>\n                        <td id=\"T_5f8d7_row18_col9\" class=\"data row18 col9\" >0.001597</td>\n            </tr>\n            <tr>\n                        <th id=\"T_5f8d7_level0_row19\" class=\"row_heading level0 row19\" >32</th>\n                        <td id=\"T_5f8d7_row19_col0\" class=\"data row19 col0\" >Central African Republic</td>\n                        <td id=\"T_5f8d7_row19_col1\" class=\"data row19 col1\" >2021-05-29 00:00:00</td>\n                        <td id=\"T_5f8d7_row19_col2\" class=\"data row19 col2\" >7085</td>\n                        <td id=\"T_5f8d7_row19_col3\" class=\"data row19 col3\" >98</td>\n                        <td id=\"T_5f8d7_row19_col4\" class=\"data row19 col4\" >6665</td>\n                        <td id=\"T_5f8d7_row19_col5\" class=\"data row19 col5\" >322</td>\n                        <td id=\"T_5f8d7_row19_col6\" class=\"data row19 col6\" >4829767</td>\n                        <td id=\"T_5f8d7_row19_col7\" class=\"data row19 col7\" >0.001467</td>\n                        <td id=\"T_5f8d7_row19_col8\" class=\"data row19 col8\" >0.000020</td>\n                        <td id=\"T_5f8d7_row19_col9\" class=\"data row19 col9\" >0.000067</td>\n            </tr>\n            <tr>\n                        <th id=\"T_5f8d7_level0_row20\" class=\"row_heading level0 row20\" >33</th>\n                        <td id=\"T_5f8d7_row20_col0\" class=\"data row20 col0\" >Chad</td>\n                        <td id=\"T_5f8d7_row20_col1\" class=\"data row20 col1\" >2021-05-29 00:00:00</td>\n                        <td id=\"T_5f8d7_row20_col2\" class=\"data row20 col2\" >4928</td>\n                        <td id=\"T_5f8d7_row20_col3\" class=\"data row20 col3\" >173</td>\n                        <td id=\"T_5f8d7_row20_col4\" class=\"data row20 col4\" >4742</td>\n                        <td id=\"T_5f8d7_row20_col5\" class=\"data row20 col5\" >13</td>\n                        <td id=\"T_5f8d7_row20_col6\" class=\"data row20 col6\" >16425864</td>\n                        <td id=\"T_5f8d7_row20_col7\" class=\"data row20 col7\" >0.000300</td>\n                        <td id=\"T_5f8d7_row20_col8\" class=\"data row20 col8\" >0.000011</td>\n                        <td id=\"T_5f8d7_row20_col9\" class=\"data row20 col9\" >0.000001</td>\n            </tr>\n            <tr>\n                        <th id=\"T_5f8d7_level0_row21\" class=\"row_heading level0 row21\" >35</th>\n                        <td id=\"T_5f8d7_row21_col0\" class=\"data row21 col0\" >China</td>\n                        <td id=\"T_5f8d7_row21_col1\" class=\"data row21 col1\" >2021-05-29 00:00:00</td>\n                        <td id=\"T_5f8d7_row21_col2\" class=\"data row21 col2\" >102960</td>\n                        <td id=\"T_5f8d7_row21_col3\" class=\"data row21 col3\" >4846</td>\n                        <td id=\"T_5f8d7_row21_col4\" class=\"data row21 col4\" >97737</td>\n                        <td id=\"T_5f8d7_row21_col5\" class=\"data row21 col5\" >377</td>\n                        <td id=\"T_5f8d7_row21_col6\" class=\"data row21 col6\" >1439323776</td>\n                        <td id=\"T_5f8d7_row21_col7\" class=\"data row21 col7\" >0.000072</td>\n                        <td id=\"T_5f8d7_row21_col8\" class=\"data row21 col8\" >0.000003</td>\n                        <td id=\"T_5f8d7_row21_col9\" class=\"data row21 col9\" >0.000000</td>\n            </tr>\n            <tr>\n                        <th id=\"T_5f8d7_level0_row22\" class=\"row_heading level0 row22\" >37</th>\n                        <td id=\"T_5f8d7_row22_col0\" class=\"data row22 col0\" >Comoros</td>\n                        <td id=\"T_5f8d7_row22_col1\" class=\"data row22 col1\" >2021-05-29 00:00:00</td>\n                        <td id=\"T_5f8d7_row22_col2\" class=\"data row22 col2\" >3881</td>\n                        <td id=\"T_5f8d7_row22_col3\" class=\"data row22 col3\" >146</td>\n                        <td id=\"T_5f8d7_row22_col4\" class=\"data row22 col4\" >3719</td>\n                        <td id=\"T_5f8d7_row22_col5\" class=\"data row22 col5\" >16</td>\n                        <td id=\"T_5f8d7_row22_col6\" class=\"data row22 col6\" >869601</td>\n                        <td id=\"T_5f8d7_row22_col7\" class=\"data row22 col7\" >0.004463</td>\n                        <td id=\"T_5f8d7_row22_col8\" class=\"data row22 col8\" >0.000168</td>\n                        <td id=\"T_5f8d7_row22_col9\" class=\"data row22 col9\" >0.000018</td>\n            </tr>\n            <tr>\n                        <th id=\"T_5f8d7_level0_row23\" class=\"row_heading level0 row23\" >38</th>\n                        <td id=\"T_5f8d7_row23_col0\" class=\"data row23 col0\" >Congo (Brazzaville)</td>\n                        <td id=\"T_5f8d7_row23_col1\" class=\"data row23 col1\" >2021-05-29 00:00:00</td>\n                        <td id=\"T_5f8d7_row23_col2\" class=\"data row23 col2\" >11658</td>\n                        <td id=\"T_5f8d7_row23_col3\" class=\"data row23 col3\" >153</td>\n                        <td id=\"T_5f8d7_row23_col4\" class=\"data row23 col4\" >8208</td>\n                        <td id=\"T_5f8d7_row23_col5\" class=\"data row23 col5\" >3297</td>\n                        <td id=\"T_5f8d7_row23_col6\" class=\"data row23 col6\" >5518087</td>\n                        <td id=\"T_5f8d7_row23_col7\" class=\"data row23 col7\" >0.002113</td>\n                        <td id=\"T_5f8d7_row23_col8\" class=\"data row23 col8\" >0.000028</td>\n                        <td id=\"T_5f8d7_row23_col9\" class=\"data row23 col9\" >0.000597</td>\n            </tr>\n            <tr>\n                        <th id=\"T_5f8d7_level0_row24\" class=\"row_heading level0 row24\" >39</th>\n                        <td id=\"T_5f8d7_row24_col0\" class=\"data row24 col0\" >Congo (Kinshasa)</td>\n                        <td id=\"T_5f8d7_row24_col1\" class=\"data row24 col1\" >2021-05-29 00:00:00</td>\n                        <td id=\"T_5f8d7_row24_col2\" class=\"data row24 col2\" >31416</td>\n                        <td id=\"T_5f8d7_row24_col3\" class=\"data row24 col3\" >782</td>\n                        <td id=\"T_5f8d7_row24_col4\" class=\"data row24 col4\" >27665</td>\n                        <td id=\"T_5f8d7_row24_col5\" class=\"data row24 col5\" >2969</td>\n                        <td id=\"T_5f8d7_row24_col6\" class=\"data row24 col6\" >89561403</td>\n                        <td id=\"T_5f8d7_row24_col7\" class=\"data row24 col7\" >0.000351</td>\n                        <td id=\"T_5f8d7_row24_col8\" class=\"data row24 col8\" >0.000009</td>\n                        <td id=\"T_5f8d7_row24_col9\" class=\"data row24 col9\" >0.000033</td>\n            </tr>\n            <tr>\n                        <th id=\"T_5f8d7_level0_row25\" class=\"row_heading level0 row25\" >41</th>\n                        <td id=\"T_5f8d7_row25_col0\" class=\"data row25 col0\" >Croatia</td>\n                        <td id=\"T_5f8d7_row25_col1\" class=\"data row25 col1\" >2021-05-29 00:00:00</td>\n                        <td id=\"T_5f8d7_row25_col2\" class=\"data row25 col2\" >355955</td>\n                        <td id=\"T_5f8d7_row25_col3\" class=\"data row25 col3\" >8002</td>\n                        <td id=\"T_5f8d7_row25_col4\" class=\"data row25 col4\" >345396</td>\n                        <td id=\"T_5f8d7_row25_col5\" class=\"data row25 col5\" >2557</td>\n                        <td id=\"T_5f8d7_row25_col6\" class=\"data row25 col6\" >4105267</td>\n                        <td id=\"T_5f8d7_row25_col7\" class=\"data row25 col7\" >0.086707</td>\n                        <td id=\"T_5f8d7_row25_col8\" class=\"data row25 col8\" >0.001949</td>\n                        <td id=\"T_5f8d7_row25_col9\" class=\"data row25 col9\" >0.000623</td>\n            </tr>\n            <tr>\n                        <th id=\"T_5f8d7_level0_row26\" class=\"row_heading level0 row26\" >42</th>\n                        <td id=\"T_5f8d7_row26_col0\" class=\"data row26 col0\" >Cuba</td>\n                        <td id=\"T_5f8d7_row26_col1\" class=\"data row26 col1\" >2021-05-29 00:00:00</td>\n                        <td id=\"T_5f8d7_row26_col2\" class=\"data row26 col2\" >140087</td>\n                        <td id=\"T_5f8d7_row26_col3\" class=\"data row26 col3\" >943</td>\n                        <td id=\"T_5f8d7_row26_col4\" class=\"data row26 col4\" >132910</td>\n                        <td id=\"T_5f8d7_row26_col5\" class=\"data row26 col5\" >6234</td>\n                        <td id=\"T_5f8d7_row26_col6\" class=\"data row26 col6\" >11326616</td>\n                        <td id=\"T_5f8d7_row26_col7\" class=\"data row26 col7\" >0.012368</td>\n                        <td id=\"T_5f8d7_row26_col8\" class=\"data row26 col8\" >0.000083</td>\n                        <td id=\"T_5f8d7_row26_col9\" class=\"data row26 col9\" >0.000550</td>\n            </tr>\n            <tr>\n                        <th id=\"T_5f8d7_level0_row27\" class=\"row_heading level0 row27\" >43</th>\n                        <td id=\"T_5f8d7_row27_col0\" class=\"data row27 col0\" >Cyprus</td>\n                        <td id=\"T_5f8d7_row27_col1\" class=\"data row27 col1\" >2021-05-29 00:00:00</td>\n                        <td id=\"T_5f8d7_row27_col2\" class=\"data row27 col2\" >72363</td>\n                        <td id=\"T_5f8d7_row27_col3\" class=\"data row27 col3\" >360</td>\n                        <td id=\"T_5f8d7_row27_col4\" class=\"data row27 col4\" >39061</td>\n                        <td id=\"T_5f8d7_row27_col5\" class=\"data row27 col5\" >32942</td>\n                        <td id=\"T_5f8d7_row27_col6\" class=\"data row27 col6\" >1207359</td>\n                        <td id=\"T_5f8d7_row27_col7\" class=\"data row27 col7\" >0.059935</td>\n                        <td id=\"T_5f8d7_row27_col8\" class=\"data row27 col8\" >0.000298</td>\n                        <td id=\"T_5f8d7_row27_col9\" class=\"data row27 col9\" >0.027284</td>\n            </tr>\n            <tr>\n                        <th id=\"T_5f8d7_level0_row28\" class=\"row_heading level0 row28\" >47</th>\n                        <td id=\"T_5f8d7_row28_col0\" class=\"data row28 col0\" >Dominica</td>\n                        <td id=\"T_5f8d7_row28_col1\" class=\"data row28 col1\" >2021-05-29 00:00:00</td>\n                        <td id=\"T_5f8d7_row28_col2\" class=\"data row28 col2\" >188</td>\n                        <td id=\"T_5f8d7_row28_col3\" class=\"data row28 col3\" >0</td>\n                        <td id=\"T_5f8d7_row28_col4\" class=\"data row28 col4\" >182</td>\n                        <td id=\"T_5f8d7_row28_col5\" class=\"data row28 col5\" >6</td>\n                        <td id=\"T_5f8d7_row28_col6\" class=\"data row28 col6\" >71986</td>\n                        <td id=\"T_5f8d7_row28_col7\" class=\"data row28 col7\" >0.002612</td>\n                        <td id=\"T_5f8d7_row28_col8\" class=\"data row28 col8\" >0.000000</td>\n                        <td id=\"T_5f8d7_row28_col9\" class=\"data row28 col9\" >0.000083</td>\n            </tr>\n            <tr>\n                        <th id=\"T_5f8d7_level0_row29\" class=\"row_heading level0 row29\" >50</th>\n                        <td id=\"T_5f8d7_row29_col0\" class=\"data row29 col0\" >Egypt</td>\n                        <td id=\"T_5f8d7_row29_col1\" class=\"data row29 col1\" >2021-05-29 00:00:00</td>\n                        <td id=\"T_5f8d7_row29_col2\" class=\"data row29 col2\" >260659</td>\n                        <td id=\"T_5f8d7_row29_col3\" class=\"data row29 col3\" >15001</td>\n                        <td id=\"T_5f8d7_row29_col4\" class=\"data row29 col4\" >191475</td>\n                        <td id=\"T_5f8d7_row29_col5\" class=\"data row29 col5\" >54183</td>\n                        <td id=\"T_5f8d7_row29_col6\" class=\"data row29 col6\" >102334404</td>\n                        <td id=\"T_5f8d7_row29_col7\" class=\"data row29 col7\" >0.002547</td>\n                        <td id=\"T_5f8d7_row29_col8\" class=\"data row29 col8\" >0.000147</td>\n                        <td id=\"T_5f8d7_row29_col9\" class=\"data row29 col9\" >0.000529</td>\n            </tr>\n            <tr>\n                        <th id=\"T_5f8d7_level0_row30\" class=\"row_heading level0 row30\" >51</th>\n                        <td id=\"T_5f8d7_row30_col0\" class=\"data row30 col0\" >El Salvador</td>\n                        <td id=\"T_5f8d7_row30_col1\" class=\"data row30 col1\" >2021-05-29 00:00:00</td>\n                        <td id=\"T_5f8d7_row30_col2\" class=\"data row30 col2\" >73246</td>\n                        <td id=\"T_5f8d7_row30_col3\" class=\"data row30 col3\" >2241</td>\n                        <td id=\"T_5f8d7_row30_col4\" class=\"data row30 col4\" >68408</td>\n                        <td id=\"T_5f8d7_row30_col5\" class=\"data row30 col5\" >2597</td>\n                        <td id=\"T_5f8d7_row30_col6\" class=\"data row30 col6\" >6486205</td>\n                        <td id=\"T_5f8d7_row30_col7\" class=\"data row30 col7\" >0.011293</td>\n                        <td id=\"T_5f8d7_row30_col8\" class=\"data row30 col8\" >0.000346</td>\n                        <td id=\"T_5f8d7_row30_col9\" class=\"data row30 col9\" >0.000400</td>\n            </tr>\n            <tr>\n                        <th id=\"T_5f8d7_level0_row31\" class=\"row_heading level0 row31\" >52</th>\n                        <td id=\"T_5f8d7_row31_col0\" class=\"data row31 col0\" >Equatorial Guinea</td>\n                        <td id=\"T_5f8d7_row31_col1\" class=\"data row31 col1\" >2021-05-29 00:00:00</td>\n                        <td id=\"T_5f8d7_row31_col2\" class=\"data row31 col2\" >8529</td>\n                        <td id=\"T_5f8d7_row31_col3\" class=\"data row31 col3\" >118</td>\n                        <td id=\"T_5f8d7_row31_col4\" class=\"data row31 col4\" >8146</td>\n                        <td id=\"T_5f8d7_row31_col5\" class=\"data row31 col5\" >265</td>\n                        <td id=\"T_5f8d7_row31_col6\" class=\"data row31 col6\" >1402985</td>\n                        <td id=\"T_5f8d7_row31_col7\" class=\"data row31 col7\" >0.006079</td>\n                        <td id=\"T_5f8d7_row31_col8\" class=\"data row31 col8\" >0.000084</td>\n                        <td id=\"T_5f8d7_row31_col9\" class=\"data row31 col9\" >0.000189</td>\n            </tr>\n            <tr>\n                        <th id=\"T_5f8d7_level0_row32\" class=\"row_heading level0 row32\" >53</th>\n                        <td id=\"T_5f8d7_row32_col0\" class=\"data row32 col0\" >Eritrea</td>\n                        <td id=\"T_5f8d7_row32_col1\" class=\"data row32 col1\" >2021-05-29 00:00:00</td>\n                        <td id=\"T_5f8d7_row32_col2\" class=\"data row32 col2\" >4061</td>\n                        <td id=\"T_5f8d7_row32_col3\" class=\"data row32 col3\" >14</td>\n                        <td id=\"T_5f8d7_row32_col4\" class=\"data row32 col4\" >3812</td>\n                        <td id=\"T_5f8d7_row32_col5\" class=\"data row32 col5\" >235</td>\n                        <td id=\"T_5f8d7_row32_col6\" class=\"data row32 col6\" >3546421</td>\n                        <td id=\"T_5f8d7_row32_col7\" class=\"data row32 col7\" >0.001145</td>\n                        <td id=\"T_5f8d7_row32_col8\" class=\"data row32 col8\" >0.000004</td>\n                        <td id=\"T_5f8d7_row32_col9\" class=\"data row32 col9\" >0.000066</td>\n            </tr>\n            <tr>\n                        <th id=\"T_5f8d7_level0_row33\" class=\"row_heading level0 row33\" >55</th>\n                        <td id=\"T_5f8d7_row33_col0\" class=\"data row33 col0\" >Ethiopia</td>\n                        <td id=\"T_5f8d7_row33_col1\" class=\"data row33 col1\" >2021-05-29 00:00:00</td>\n                        <td id=\"T_5f8d7_row33_col2\" class=\"data row33 col2\" >271200</td>\n                        <td id=\"T_5f8d7_row33_col3\" class=\"data row33 col3\" >4143</td>\n                        <td id=\"T_5f8d7_row33_col4\" class=\"data row33 col4\" >236774</td>\n                        <td id=\"T_5f8d7_row33_col5\" class=\"data row33 col5\" >30283</td>\n                        <td id=\"T_5f8d7_row33_col6\" class=\"data row33 col6\" >114963588</td>\n                        <td id=\"T_5f8d7_row33_col7\" class=\"data row33 col7\" >0.002359</td>\n                        <td id=\"T_5f8d7_row33_col8\" class=\"data row33 col8\" >0.000036</td>\n                        <td id=\"T_5f8d7_row33_col9\" class=\"data row33 col9\" >0.000263</td>\n            </tr>\n            <tr>\n                        <th id=\"T_5f8d7_level0_row34\" class=\"row_heading level0 row34\" >56</th>\n                        <td id=\"T_5f8d7_row34_col0\" class=\"data row34 col0\" >Fiji</td>\n                        <td id=\"T_5f8d7_row34_col1\" class=\"data row34 col1\" >2021-05-29 00:00:00</td>\n                        <td id=\"T_5f8d7_row34_col2\" class=\"data row34 col2\" >360</td>\n                        <td id=\"T_5f8d7_row34_col3\" class=\"data row34 col3\" >4</td>\n                        <td id=\"T_5f8d7_row34_col4\" class=\"data row34 col4\" >161</td>\n                        <td id=\"T_5f8d7_row34_col5\" class=\"data row34 col5\" >195</td>\n                        <td id=\"T_5f8d7_row34_col6\" class=\"data row34 col6\" >896445</td>\n                        <td id=\"T_5f8d7_row34_col7\" class=\"data row34 col7\" >0.000402</td>\n                        <td id=\"T_5f8d7_row34_col8\" class=\"data row34 col8\" >0.000004</td>\n                        <td id=\"T_5f8d7_row34_col9\" class=\"data row34 col9\" >0.000218</td>\n            </tr>\n            <tr>\n                        <th id=\"T_5f8d7_level0_row35\" class=\"row_heading level0 row35\" >59</th>\n                        <td id=\"T_5f8d7_row35_col0\" class=\"data row35 col0\" >Gabon</td>\n                        <td id=\"T_5f8d7_row35_col1\" class=\"data row35 col1\" >2021-05-29 00:00:00</td>\n                        <td id=\"T_5f8d7_row35_col2\" class=\"data row35 col2\" >24365</td>\n                        <td id=\"T_5f8d7_row35_col3\" class=\"data row35 col3\" >150</td>\n                        <td id=\"T_5f8d7_row35_col4\" class=\"data row35 col4\" >21791</td>\n                        <td id=\"T_5f8d7_row35_col5\" class=\"data row35 col5\" >2424</td>\n                        <td id=\"T_5f8d7_row35_col6\" class=\"data row35 col6\" >2225734</td>\n                        <td id=\"T_5f8d7_row35_col7\" class=\"data row35 col7\" >0.010947</td>\n                        <td id=\"T_5f8d7_row35_col8\" class=\"data row35 col8\" >0.000067</td>\n                        <td id=\"T_5f8d7_row35_col9\" class=\"data row35 col9\" >0.001089</td>\n            </tr>\n            <tr>\n                        <th id=\"T_5f8d7_level0_row36\" class=\"row_heading level0 row36\" >60</th>\n                        <td id=\"T_5f8d7_row36_col0\" class=\"data row36 col0\" >Gambia</td>\n                        <td id=\"T_5f8d7_row36_col1\" class=\"data row36 col1\" >2021-05-29 00:00:00</td>\n                        <td id=\"T_5f8d7_row36_col2\" class=\"data row36 col2\" >5990</td>\n                        <td id=\"T_5f8d7_row36_col3\" class=\"data row36 col3\" >178</td>\n                        <td id=\"T_5f8d7_row36_col4\" class=\"data row36 col4\" >5767</td>\n                        <td id=\"T_5f8d7_row36_col5\" class=\"data row36 col5\" >45</td>\n                        <td id=\"T_5f8d7_row36_col6\" class=\"data row36 col6\" >2416668</td>\n                        <td id=\"T_5f8d7_row36_col7\" class=\"data row36 col7\" >0.002479</td>\n                        <td id=\"T_5f8d7_row36_col8\" class=\"data row36 col8\" >0.000074</td>\n                        <td id=\"T_5f8d7_row36_col9\" class=\"data row36 col9\" >0.000019</td>\n            </tr>\n            <tr>\n                        <th id=\"T_5f8d7_level0_row37\" class=\"row_heading level0 row37\" >63</th>\n                        <td id=\"T_5f8d7_row37_col0\" class=\"data row37 col0\" >Ghana</td>\n                        <td id=\"T_5f8d7_row37_col1\" class=\"data row37 col1\" >2021-05-29 00:00:00</td>\n                        <td id=\"T_5f8d7_row37_col2\" class=\"data row37 col2\" >93775</td>\n                        <td id=\"T_5f8d7_row37_col3\" class=\"data row37 col3\" >784</td>\n                        <td id=\"T_5f8d7_row37_col4\" class=\"data row37 col4\" >91853</td>\n                        <td id=\"T_5f8d7_row37_col5\" class=\"data row37 col5\" >1138</td>\n                        <td id=\"T_5f8d7_row37_col6\" class=\"data row37 col6\" >3107294</td>\n                        <td id=\"T_5f8d7_row37_col7\" class=\"data row37 col7\" >0.030179</td>\n                        <td id=\"T_5f8d7_row37_col8\" class=\"data row37 col8\" >0.000252</td>\n                        <td id=\"T_5f8d7_row37_col9\" class=\"data row37 col9\" >0.000366</td>\n            </tr>\n            <tr>\n                        <th id=\"T_5f8d7_level0_row38\" class=\"row_heading level0 row38\" >66</th>\n                        <td id=\"T_5f8d7_row38_col0\" class=\"data row38 col0\" >Guatemala</td>\n                        <td id=\"T_5f8d7_row38_col1\" class=\"data row38 col1\" >2021-05-29 00:00:00</td>\n                        <td id=\"T_5f8d7_row38_col2\" class=\"data row38 col2\" >253837</td>\n                        <td id=\"T_5f8d7_row38_col3\" class=\"data row38 col3\" >8121</td>\n                        <td id=\"T_5f8d7_row38_col4\" class=\"data row38 col4\" >232359</td>\n                        <td id=\"T_5f8d7_row38_col5\" class=\"data row38 col5\" >13357</td>\n                        <td id=\"T_5f8d7_row38_col6\" class=\"data row38 col6\" >17915568</td>\n                        <td id=\"T_5f8d7_row38_col7\" class=\"data row38 col7\" >0.014169</td>\n                        <td id=\"T_5f8d7_row38_col8\" class=\"data row38 col8\" >0.000453</td>\n                        <td id=\"T_5f8d7_row38_col9\" class=\"data row38 col9\" >0.000746</td>\n            </tr>\n            <tr>\n                        <th id=\"T_5f8d7_level0_row39\" class=\"row_heading level0 row39\" >67</th>\n                        <td id=\"T_5f8d7_row39_col0\" class=\"data row39 col0\" >Guinea</td>\n                        <td id=\"T_5f8d7_row39_col1\" class=\"data row39 col1\" >2021-05-29 00:00:00</td>\n                        <td id=\"T_5f8d7_row39_col2\" class=\"data row39 col2\" >23172</td>\n                        <td id=\"T_5f8d7_row39_col3\" class=\"data row39 col3\" >161</td>\n                        <td id=\"T_5f8d7_row39_col4\" class=\"data row39 col4\" >20971</td>\n                        <td id=\"T_5f8d7_row39_col5\" class=\"data row39 col5\" >2040</td>\n                        <td id=\"T_5f8d7_row39_col6\" class=\"data row39 col6\" >13132795</td>\n                        <td id=\"T_5f8d7_row39_col7\" class=\"data row39 col7\" >0.001764</td>\n                        <td id=\"T_5f8d7_row39_col8\" class=\"data row39 col8\" >0.000012</td>\n                        <td id=\"T_5f8d7_row39_col9\" class=\"data row39 col9\" >0.000155</td>\n            </tr>\n            <tr>\n                        <th id=\"T_5f8d7_level0_row40\" class=\"row_heading level0 row40\" >68</th>\n                        <td id=\"T_5f8d7_row40_col0\" class=\"data row40 col0\" >Guinea-Bissau</td>\n                        <td id=\"T_5f8d7_row40_col1\" class=\"data row40 col1\" >2021-05-29 00:00:00</td>\n                        <td id=\"T_5f8d7_row40_col2\" class=\"data row40 col2\" >3761</td>\n                        <td id=\"T_5f8d7_row40_col3\" class=\"data row40 col3\" >68</td>\n                        <td id=\"T_5f8d7_row40_col4\" class=\"data row40 col4\" >3516</td>\n                        <td id=\"T_5f8d7_row40_col5\" class=\"data row40 col5\" >177</td>\n                        <td id=\"T_5f8d7_row40_col6\" class=\"data row40 col6\" >1968001</td>\n                        <td id=\"T_5f8d7_row40_col7\" class=\"data row40 col7\" >0.001911</td>\n                        <td id=\"T_5f8d7_row40_col8\" class=\"data row40 col8\" >0.000035</td>\n                        <td id=\"T_5f8d7_row40_col9\" class=\"data row40 col9\" >0.000090</td>\n            </tr>\n            <tr>\n                        <th id=\"T_5f8d7_level0_row41\" class=\"row_heading level0 row41\" >70</th>\n                        <td id=\"T_5f8d7_row41_col0\" class=\"data row41 col0\" >Haiti</td>\n                        <td id=\"T_5f8d7_row41_col1\" class=\"data row41 col1\" >2021-05-29 00:00:00</td>\n                        <td id=\"T_5f8d7_row41_col2\" class=\"data row41 col2\" >14128</td>\n                        <td id=\"T_5f8d7_row41_col3\" class=\"data row41 col3\" >302</td>\n                        <td id=\"T_5f8d7_row41_col4\" class=\"data row41 col4\" >12528</td>\n                        <td id=\"T_5f8d7_row41_col5\" class=\"data row41 col5\" >1298</td>\n                        <td id=\"T_5f8d7_row41_col6\" class=\"data row41 col6\" >11402528</td>\n                        <td id=\"T_5f8d7_row41_col7\" class=\"data row41 col7\" >0.001239</td>\n                        <td id=\"T_5f8d7_row41_col8\" class=\"data row41 col8\" >0.000026</td>\n                        <td id=\"T_5f8d7_row41_col9\" class=\"data row41 col9\" >0.000114</td>\n            </tr>\n            <tr>\n                        <th id=\"T_5f8d7_level0_row42\" class=\"row_heading level0 row42\" >74</th>\n                        <td id=\"T_5f8d7_row42_col0\" class=\"data row42 col0\" >Iceland</td>\n                        <td id=\"T_5f8d7_row42_col1\" class=\"data row42 col1\" >2021-05-29 00:00:00</td>\n                        <td id=\"T_5f8d7_row42_col2\" class=\"data row42 col2\" >6555</td>\n                        <td id=\"T_5f8d7_row42_col3\" class=\"data row42 col3\" >29</td>\n                        <td id=\"T_5f8d7_row42_col4\" class=\"data row42 col4\" >6476</td>\n                        <td id=\"T_5f8d7_row42_col5\" class=\"data row42 col5\" >50</td>\n                        <td id=\"T_5f8d7_row42_col6\" class=\"data row42 col6\" >341243</td>\n                        <td id=\"T_5f8d7_row42_col7\" class=\"data row42 col7\" >0.019209</td>\n                        <td id=\"T_5f8d7_row42_col8\" class=\"data row42 col8\" >0.000085</td>\n                        <td id=\"T_5f8d7_row42_col9\" class=\"data row42 col9\" >0.000147</td>\n            </tr>\n            <tr>\n                        <th id=\"T_5f8d7_level0_row43\" class=\"row_heading level0 row43\" >75</th>\n                        <td id=\"T_5f8d7_row43_col0\" class=\"data row43 col0\" >India</td>\n                        <td id=\"T_5f8d7_row43_col1\" class=\"data row43 col1\" >2021-05-29 00:00:00</td>\n                        <td id=\"T_5f8d7_row43_col2\" class=\"data row43 col2\" >27894800</td>\n                        <td id=\"T_5f8d7_row43_col3\" class=\"data row43 col3\" >325972</td>\n                        <td id=\"T_5f8d7_row43_col4\" class=\"data row43 col4\" >25454320</td>\n                        <td id=\"T_5f8d7_row43_col5\" class=\"data row43 col5\" >2114508</td>\n                        <td id=\"T_5f8d7_row43_col6\" class=\"data row43 col6\" >1380004385</td>\n                        <td id=\"T_5f8d7_row43_col7\" class=\"data row43 col7\" >0.020214</td>\n                        <td id=\"T_5f8d7_row43_col8\" class=\"data row43 col8\" >0.000236</td>\n                        <td id=\"T_5f8d7_row43_col9\" class=\"data row43 col9\" >0.001532</td>\n            </tr>\n            <tr>\n                        <th id=\"T_5f8d7_level0_row44\" class=\"row_heading level0 row44\" >76</th>\n                        <td id=\"T_5f8d7_row44_col0\" class=\"data row44 col0\" >Indonesia</td>\n                        <td id=\"T_5f8d7_row44_col1\" class=\"data row44 col1\" >2021-05-29 00:00:00</td>\n                        <td id=\"T_5f8d7_row44_col2\" class=\"data row44 col2\" >1809926</td>\n                        <td id=\"T_5f8d7_row44_col3\" class=\"data row44 col3\" >50262</td>\n                        <td id=\"T_5f8d7_row44_col4\" class=\"data row44 col4\" >1659974</td>\n                        <td id=\"T_5f8d7_row44_col5\" class=\"data row44 col5\" >99690</td>\n                        <td id=\"T_5f8d7_row44_col6\" class=\"data row44 col6\" >273523615</td>\n                        <td id=\"T_5f8d7_row44_col7\" class=\"data row44 col7\" >0.006617</td>\n                        <td id=\"T_5f8d7_row44_col8\" class=\"data row44 col8\" >0.000184</td>\n                        <td id=\"T_5f8d7_row44_col9\" class=\"data row44 col9\" >0.000364</td>\n            </tr>\n            <tr>\n                        <th id=\"T_5f8d7_level0_row45\" class=\"row_heading level0 row45\" >80</th>\n                        <td id=\"T_5f8d7_row45_col0\" class=\"data row45 col0\" >Israel</td>\n                        <td id=\"T_5f8d7_row45_col1\" class=\"data row45 col1\" >2021-05-29 00:00:00</td>\n                        <td id=\"T_5f8d7_row45_col2\" class=\"data row45 col2\" >839453</td>\n                        <td id=\"T_5f8d7_row45_col3\" class=\"data row45 col3\" >6407</td>\n                        <td id=\"T_5f8d7_row45_col4\" class=\"data row45 col4\" >832539</td>\n                        <td id=\"T_5f8d7_row45_col5\" class=\"data row45 col5\" >507</td>\n                        <td id=\"T_5f8d7_row45_col6\" class=\"data row45 col6\" >8655535</td>\n                        <td id=\"T_5f8d7_row45_col7\" class=\"data row45 col7\" >0.096985</td>\n                        <td id=\"T_5f8d7_row45_col8\" class=\"data row45 col8\" >0.000740</td>\n                        <td id=\"T_5f8d7_row45_col9\" class=\"data row45 col9\" >0.000059</td>\n            </tr>\n            <tr>\n                        <th id=\"T_5f8d7_level0_row46\" class=\"row_heading level0 row46\" >82</th>\n                        <td id=\"T_5f8d7_row46_col0\" class=\"data row46 col0\" >Jamaica</td>\n                        <td id=\"T_5f8d7_row46_col1\" class=\"data row46 col1\" >2021-05-29 00:00:00</td>\n                        <td id=\"T_5f8d7_row46_col2\" class=\"data row46 col2\" >48374</td>\n                        <td id=\"T_5f8d7_row46_col3\" class=\"data row46 col3\" >942</td>\n                        <td id=\"T_5f8d7_row46_col4\" class=\"data row46 col4\" >24866</td>\n                        <td id=\"T_5f8d7_row46_col5\" class=\"data row46 col5\" >22566</td>\n                        <td id=\"T_5f8d7_row46_col6\" class=\"data row46 col6\" >2961167</td>\n                        <td id=\"T_5f8d7_row46_col7\" class=\"data row46 col7\" >0.016336</td>\n                        <td id=\"T_5f8d7_row46_col8\" class=\"data row46 col8\" >0.000318</td>\n                        <td id=\"T_5f8d7_row46_col9\" class=\"data row46 col9\" >0.007621</td>\n            </tr>\n            <tr>\n                        <th id=\"T_5f8d7_level0_row47\" class=\"row_heading level0 row47\" >83</th>\n                        <td id=\"T_5f8d7_row47_col0\" class=\"data row47 col0\" >Japan</td>\n                        <td id=\"T_5f8d7_row47_col1\" class=\"data row47 col1\" >2021-05-29 00:00:00</td>\n                        <td id=\"T_5f8d7_row47_col2\" class=\"data row47 col2\" >742539</td>\n                        <td id=\"T_5f8d7_row47_col3\" class=\"data row47 col3\" >12877</td>\n                        <td id=\"T_5f8d7_row47_col4\" class=\"data row47 col4\" >666786</td>\n                        <td id=\"T_5f8d7_row47_col5\" class=\"data row47 col5\" >62876</td>\n                        <td id=\"T_5f8d7_row47_col6\" class=\"data row47 col6\" >126476461</td>\n                        <td id=\"T_5f8d7_row47_col7\" class=\"data row47 col7\" >0.005871</td>\n                        <td id=\"T_5f8d7_row47_col8\" class=\"data row47 col8\" >0.000102</td>\n                        <td id=\"T_5f8d7_row47_col9\" class=\"data row47 col9\" >0.000497</td>\n            </tr>\n            <tr>\n                        <th id=\"T_5f8d7_level0_row48\" class=\"row_heading level0 row48\" >85</th>\n                        <td id=\"T_5f8d7_row48_col0\" class=\"data row48 col0\" >Kazakhstan</td>\n                        <td id=\"T_5f8d7_row48_col1\" class=\"data row48 col1\" >2021-05-29 00:00:00</td>\n                        <td id=\"T_5f8d7_row48_col2\" class=\"data row48 col2\" >438715</td>\n                        <td id=\"T_5f8d7_row48_col3\" class=\"data row48 col3\" >3442</td>\n                        <td id=\"T_5f8d7_row48_col4\" class=\"data row48 col4\" >402272</td>\n                        <td id=\"T_5f8d7_row48_col5\" class=\"data row48 col5\" >33001</td>\n                        <td id=\"T_5f8d7_row48_col6\" class=\"data row48 col6\" >18776707</td>\n                        <td id=\"T_5f8d7_row48_col7\" class=\"data row48 col7\" >0.023365</td>\n                        <td id=\"T_5f8d7_row48_col8\" class=\"data row48 col8\" >0.000183</td>\n                        <td id=\"T_5f8d7_row48_col9\" class=\"data row48 col9\" >0.001758</td>\n            </tr>\n            <tr>\n                        <th id=\"T_5f8d7_level0_row49\" class=\"row_heading level0 row49\" >86</th>\n                        <td id=\"T_5f8d7_row49_col0\" class=\"data row49 col0\" >Kenya</td>\n                        <td id=\"T_5f8d7_row49_col1\" class=\"data row49 col1\" >2021-05-29 00:00:00</td>\n                        <td id=\"T_5f8d7_row49_col2\" class=\"data row49 col2\" >170485</td>\n                        <td id=\"T_5f8d7_row49_col3\" class=\"data row49 col3\" >3141</td>\n                        <td id=\"T_5f8d7_row49_col4\" class=\"data row49 col4\" >116133</td>\n                        <td id=\"T_5f8d7_row49_col5\" class=\"data row49 col5\" >51211</td>\n                        <td id=\"T_5f8d7_row49_col6\" class=\"data row49 col6\" >53771296</td>\n                        <td id=\"T_5f8d7_row49_col7\" class=\"data row49 col7\" >0.003171</td>\n                        <td id=\"T_5f8d7_row49_col8\" class=\"data row49 col8\" >0.000058</td>\n                        <td id=\"T_5f8d7_row49_col9\" class=\"data row49 col9\" >0.000952</td>\n            </tr>\n            <tr>\n                        <th id=\"T_5f8d7_level0_row50\" class=\"row_heading level0 row50\" >87</th>\n                        <td id=\"T_5f8d7_row50_col0\" class=\"data row50 col0\" >Kiribati</td>\n                        <td id=\"T_5f8d7_row50_col1\" class=\"data row50 col1\" >2021-05-29 00:00:00</td>\n                        <td id=\"T_5f8d7_row50_col2\" class=\"data row50 col2\" >2</td>\n                        <td id=\"T_5f8d7_row50_col3\" class=\"data row50 col3\" >0</td>\n                        <td id=\"T_5f8d7_row50_col4\" class=\"data row50 col4\" >0</td>\n                        <td id=\"T_5f8d7_row50_col5\" class=\"data row50 col5\" >2</td>\n                        <td id=\"T_5f8d7_row50_col6\" class=\"data row50 col6\" >119449</td>\n                        <td id=\"T_5f8d7_row50_col7\" class=\"data row50 col7\" >0.000017</td>\n                        <td id=\"T_5f8d7_row50_col8\" class=\"data row50 col8\" >0.000000</td>\n                        <td id=\"T_5f8d7_row50_col9\" class=\"data row50 col9\" >0.000017</td>\n            </tr>\n            <tr>\n                        <th id=\"T_5f8d7_level0_row51\" class=\"row_heading level0 row51\" >88</th>\n                        <td id=\"T_5f8d7_row51_col0\" class=\"data row51 col0\" >Korea, South</td>\n                        <td id=\"T_5f8d7_row51_col1\" class=\"data row51 col1\" >2021-05-29 00:00:00</td>\n                        <td id=\"T_5f8d7_row51_col2\" class=\"data row51 col2\" >139910</td>\n                        <td id=\"T_5f8d7_row51_col3\" class=\"data row51 col3\" >1957</td>\n                        <td id=\"T_5f8d7_row51_col4\" class=\"data row51 col4\" >130381</td>\n                        <td id=\"T_5f8d7_row51_col5\" class=\"data row51 col5\" >7572</td>\n                        <td id=\"T_5f8d7_row51_col6\" class=\"data row51 col6\" >51269185</td>\n                        <td id=\"T_5f8d7_row51_col7\" class=\"data row51 col7\" >0.002729</td>\n                        <td id=\"T_5f8d7_row51_col8\" class=\"data row51 col8\" >0.000038</td>\n                        <td id=\"T_5f8d7_row51_col9\" class=\"data row51 col9\" >0.000148</td>\n            </tr>\n            <tr>\n                        <th id=\"T_5f8d7_level0_row52\" class=\"row_heading level0 row52\" >90</th>\n                        <td id=\"T_5f8d7_row52_col0\" class=\"data row52 col0\" >Kyrgyzstan</td>\n                        <td id=\"T_5f8d7_row52_col1\" class=\"data row52 col1\" >2021-05-29 00:00:00</td>\n                        <td id=\"T_5f8d7_row52_col2\" class=\"data row52 col2\" >104222</td>\n                        <td id=\"T_5f8d7_row52_col3\" class=\"data row52 col3\" >1797</td>\n                        <td id=\"T_5f8d7_row52_col4\" class=\"data row52 col4\" >98000</td>\n                        <td id=\"T_5f8d7_row52_col5\" class=\"data row52 col5\" >4425</td>\n                        <td id=\"T_5f8d7_row52_col6\" class=\"data row52 col6\" >6524195</td>\n                        <td id=\"T_5f8d7_row52_col7\" class=\"data row52 col7\" >0.015975</td>\n                        <td id=\"T_5f8d7_row52_col8\" class=\"data row52 col8\" >0.000275</td>\n                        <td id=\"T_5f8d7_row52_col9\" class=\"data row52 col9\" >0.000678</td>\n            </tr>\n            <tr>\n                        <th id=\"T_5f8d7_level0_row53\" class=\"row_heading level0 row53\" >91</th>\n                        <td id=\"T_5f8d7_row53_col0\" class=\"data row53 col0\" >Laos</td>\n                        <td id=\"T_5f8d7_row53_col1\" class=\"data row53 col1\" >2021-05-29 00:00:00</td>\n                        <td id=\"T_5f8d7_row53_col2\" class=\"data row53 col2\" >1908</td>\n                        <td id=\"T_5f8d7_row53_col3\" class=\"data row53 col3\" >3</td>\n                        <td id=\"T_5f8d7_row53_col4\" class=\"data row53 col4\" >1402</td>\n                        <td id=\"T_5f8d7_row53_col5\" class=\"data row53 col5\" >503</td>\n                        <td id=\"T_5f8d7_row53_col6\" class=\"data row53 col6\" >727556</td>\n                        <td id=\"T_5f8d7_row53_col7\" class=\"data row53 col7\" >0.002622</td>\n                        <td id=\"T_5f8d7_row53_col8\" class=\"data row53 col8\" >0.000004</td>\n                        <td id=\"T_5f8d7_row53_col9\" class=\"data row53 col9\" >0.000691</td>\n            </tr>\n            <tr>\n                        <th id=\"T_5f8d7_level0_row54\" class=\"row_heading level0 row54\" >94</th>\n                        <td id=\"T_5f8d7_row54_col0\" class=\"data row54 col0\" >Lesotho</td>\n                        <td id=\"T_5f8d7_row54_col1\" class=\"data row54 col1\" >2021-05-29 00:00:00</td>\n                        <td id=\"T_5f8d7_row54_col2\" class=\"data row54 col2\" >10825</td>\n                        <td id=\"T_5f8d7_row54_col3\" class=\"data row54 col3\" >326</td>\n                        <td id=\"T_5f8d7_row54_col4\" class=\"data row54 col4\" >6434</td>\n                        <td id=\"T_5f8d7_row54_col5\" class=\"data row54 col5\" >4065</td>\n                        <td id=\"T_5f8d7_row54_col6\" class=\"data row54 col6\" >2142249</td>\n                        <td id=\"T_5f8d7_row54_col7\" class=\"data row54 col7\" >0.005053</td>\n                        <td id=\"T_5f8d7_row54_col8\" class=\"data row54 col8\" >0.000152</td>\n                        <td id=\"T_5f8d7_row54_col9\" class=\"data row54 col9\" >0.001898</td>\n            </tr>\n            <tr>\n                        <th id=\"T_5f8d7_level0_row55\" class=\"row_heading level0 row55\" >95</th>\n                        <td id=\"T_5f8d7_row55_col0\" class=\"data row55 col0\" >Liberia</td>\n                        <td id=\"T_5f8d7_row55_col1\" class=\"data row55 col1\" >2021-05-29 00:00:00</td>\n                        <td id=\"T_5f8d7_row55_col2\" class=\"data row55 col2\" >2179</td>\n                        <td id=\"T_5f8d7_row55_col3\" class=\"data row55 col3\" >86</td>\n                        <td id=\"T_5f8d7_row55_col4\" class=\"data row55 col4\" >2033</td>\n                        <td id=\"T_5f8d7_row55_col5\" class=\"data row55 col5\" >60</td>\n                        <td id=\"T_5f8d7_row55_col6\" class=\"data row55 col6\" >5057681</td>\n                        <td id=\"T_5f8d7_row55_col7\" class=\"data row55 col7\" >0.000431</td>\n                        <td id=\"T_5f8d7_row55_col8\" class=\"data row55 col8\" >0.000017</td>\n                        <td id=\"T_5f8d7_row55_col9\" class=\"data row55 col9\" >0.000012</td>\n            </tr>\n            <tr>\n                        <th id=\"T_5f8d7_level0_row56\" class=\"row_heading level0 row56\" >97</th>\n                        <td id=\"T_5f8d7_row56_col0\" class=\"data row56 col0\" >Liechtenstein</td>\n                        <td id=\"T_5f8d7_row56_col1\" class=\"data row56 col1\" >2021-05-29 00:00:00</td>\n                        <td id=\"T_5f8d7_row56_col2\" class=\"data row56 col2\" >3008</td>\n                        <td id=\"T_5f8d7_row56_col3\" class=\"data row56 col3\" >58</td>\n                        <td id=\"T_5f8d7_row56_col4\" class=\"data row56 col4\" >2929</td>\n                        <td id=\"T_5f8d7_row56_col5\" class=\"data row56 col5\" >21</td>\n                        <td id=\"T_5f8d7_row56_col6\" class=\"data row56 col6\" >38128</td>\n                        <td id=\"T_5f8d7_row56_col7\" class=\"data row56 col7\" >0.078892</td>\n                        <td id=\"T_5f8d7_row56_col8\" class=\"data row56 col8\" >0.001521</td>\n                        <td id=\"T_5f8d7_row56_col9\" class=\"data row56 col9\" >0.000551</td>\n            </tr>\n            <tr>\n                        <th id=\"T_5f8d7_level0_row57\" class=\"row_heading level0 row57\" >100</th>\n                        <td id=\"T_5f8d7_row57_col0\" class=\"data row57 col0\" >Madagascar</td>\n                        <td id=\"T_5f8d7_row57_col1\" class=\"data row57 col1\" >2021-05-29 00:00:00</td>\n                        <td id=\"T_5f8d7_row57_col2\" class=\"data row57 col2\" >41234</td>\n                        <td id=\"T_5f8d7_row57_col3\" class=\"data row57 col3\" >829</td>\n                        <td id=\"T_5f8d7_row57_col4\" class=\"data row57 col4\" >40176</td>\n                        <td id=\"T_5f8d7_row57_col5\" class=\"data row57 col5\" >229</td>\n                        <td id=\"T_5f8d7_row57_col6\" class=\"data row57 col6\" >27691018</td>\n                        <td id=\"T_5f8d7_row57_col7\" class=\"data row57 col7\" >0.001489</td>\n                        <td id=\"T_5f8d7_row57_col8\" class=\"data row57 col8\" >0.000030</td>\n                        <td id=\"T_5f8d7_row57_col9\" class=\"data row57 col9\" >0.000008</td>\n            </tr>\n            <tr>\n                        <th id=\"T_5f8d7_level0_row58\" class=\"row_heading level0 row58\" >101</th>\n                        <td id=\"T_5f8d7_row58_col0\" class=\"data row58 col0\" >Malawi</td>\n                        <td id=\"T_5f8d7_row58_col1\" class=\"data row58 col1\" >2021-05-29 00:00:00</td>\n                        <td id=\"T_5f8d7_row58_col2\" class=\"data row58 col2\" >34329</td>\n                        <td id=\"T_5f8d7_row58_col3\" class=\"data row58 col3\" >1154</td>\n                        <td id=\"T_5f8d7_row58_col4\" class=\"data row58 col4\" >32603</td>\n                        <td id=\"T_5f8d7_row58_col5\" class=\"data row58 col5\" >572</td>\n                        <td id=\"T_5f8d7_row58_col6\" class=\"data row58 col6\" >19129952</td>\n                        <td id=\"T_5f8d7_row58_col7\" class=\"data row58 col7\" >0.001795</td>\n                        <td id=\"T_5f8d7_row58_col8\" class=\"data row58 col8\" >0.000060</td>\n                        <td id=\"T_5f8d7_row58_col9\" class=\"data row58 col9\" >0.000030</td>\n            </tr>\n            <tr>\n                        <th id=\"T_5f8d7_level0_row59\" class=\"row_heading level0 row59\" >102</th>\n                        <td id=\"T_5f8d7_row59_col0\" class=\"data row59 col0\" >Malaysia</td>\n                        <td id=\"T_5f8d7_row59_col1\" class=\"data row59 col1\" >2021-05-29 00:00:00</td>\n                        <td id=\"T_5f8d7_row59_col2\" class=\"data row59 col2\" >558534</td>\n                        <td id=\"T_5f8d7_row59_col3\" class=\"data row59 col3\" >2650</td>\n                        <td id=\"T_5f8d7_row59_col4\" class=\"data row59 col4\" >479666</td>\n                        <td id=\"T_5f8d7_row59_col5\" class=\"data row59 col5\" >76218</td>\n                        <td id=\"T_5f8d7_row59_col6\" class=\"data row59 col6\" >32365999</td>\n                        <td id=\"T_5f8d7_row59_col7\" class=\"data row59 col7\" >0.017257</td>\n                        <td id=\"T_5f8d7_row59_col8\" class=\"data row59 col8\" >0.000082</td>\n                        <td id=\"T_5f8d7_row59_col9\" class=\"data row59 col9\" >0.002355</td>\n            </tr>\n            <tr>\n                        <th id=\"T_5f8d7_level0_row60\" class=\"row_heading level0 row60\" >103</th>\n                        <td id=\"T_5f8d7_row60_col0\" class=\"data row60 col0\" >Maldives</td>\n                        <td id=\"T_5f8d7_row60_col1\" class=\"data row60 col1\" >2021-05-29 00:00:00</td>\n                        <td id=\"T_5f8d7_row60_col2\" class=\"data row60 col2\" >62906</td>\n                        <td id=\"T_5f8d7_row60_col3\" class=\"data row60 col3\" >157</td>\n                        <td id=\"T_5f8d7_row60_col4\" class=\"data row60 col4\" >38233</td>\n                        <td id=\"T_5f8d7_row60_col5\" class=\"data row60 col5\" >24516</td>\n                        <td id=\"T_5f8d7_row60_col6\" class=\"data row60 col6\" >540544</td>\n                        <td id=\"T_5f8d7_row60_col7\" class=\"data row60 col7\" >0.116375</td>\n                        <td id=\"T_5f8d7_row60_col8\" class=\"data row60 col8\" >0.000290</td>\n                        <td id=\"T_5f8d7_row60_col9\" class=\"data row60 col9\" >0.045354</td>\n            </tr>\n            <tr>\n                        <th id=\"T_5f8d7_level0_row61\" class=\"row_heading level0 row61\" >104</th>\n                        <td id=\"T_5f8d7_row61_col0\" class=\"data row61 col0\" >Mali</td>\n                        <td id=\"T_5f8d7_row61_col1\" class=\"data row61 col1\" >2021-05-29 00:00:00</td>\n                        <td id=\"T_5f8d7_row61_col2\" class=\"data row61 col2\" >14265</td>\n                        <td id=\"T_5f8d7_row61_col3\" class=\"data row61 col3\" >517</td>\n                        <td id=\"T_5f8d7_row61_col4\" class=\"data row61 col4\" >9690</td>\n                        <td id=\"T_5f8d7_row61_col5\" class=\"data row61 col5\" >4058</td>\n                        <td id=\"T_5f8d7_row61_col6\" class=\"data row61 col6\" >20250833</td>\n                        <td id=\"T_5f8d7_row61_col7\" class=\"data row61 col7\" >0.000704</td>\n                        <td id=\"T_5f8d7_row61_col8\" class=\"data row61 col8\" >0.000026</td>\n                        <td id=\"T_5f8d7_row61_col9\" class=\"data row61 col9\" >0.000200</td>\n            </tr>\n            <tr>\n                        <th id=\"T_5f8d7_level0_row62\" class=\"row_heading level0 row62\" >105</th>\n                        <td id=\"T_5f8d7_row62_col0\" class=\"data row62 col0\" >Malta</td>\n                        <td id=\"T_5f8d7_row62_col1\" class=\"data row62 col1\" >2021-05-29 00:00:00</td>\n                        <td id=\"T_5f8d7_row62_col2\" class=\"data row62 col2\" >30529</td>\n                        <td id=\"T_5f8d7_row62_col3\" class=\"data row62 col3\" >419</td>\n                        <td id=\"T_5f8d7_row62_col4\" class=\"data row62 col4\" >30043</td>\n                        <td id=\"T_5f8d7_row62_col5\" class=\"data row62 col5\" >67</td>\n                        <td id=\"T_5f8d7_row62_col6\" class=\"data row62 col6\" >441543</td>\n                        <td id=\"T_5f8d7_row62_col7\" class=\"data row62 col7\" >0.069142</td>\n                        <td id=\"T_5f8d7_row62_col8\" class=\"data row62 col8\" >0.000949</td>\n                        <td id=\"T_5f8d7_row62_col9\" class=\"data row62 col9\" >0.000152</td>\n            </tr>\n            <tr>\n                        <th id=\"T_5f8d7_level0_row63\" class=\"row_heading level0 row63\" >107</th>\n                        <td id=\"T_5f8d7_row63_col0\" class=\"data row63 col0\" >Mauritania</td>\n                        <td id=\"T_5f8d7_row63_col1\" class=\"data row63 col1\" >2021-05-29 00:00:00</td>\n                        <td id=\"T_5f8d7_row63_col2\" class=\"data row63 col2\" >19463</td>\n                        <td id=\"T_5f8d7_row63_col3\" class=\"data row63 col3\" >463</td>\n                        <td id=\"T_5f8d7_row63_col4\" class=\"data row63 col4\" >18431</td>\n                        <td id=\"T_5f8d7_row63_col5\" class=\"data row63 col5\" >569</td>\n                        <td id=\"T_5f8d7_row63_col6\" class=\"data row63 col6\" >4649658</td>\n                        <td id=\"T_5f8d7_row63_col7\" class=\"data row63 col7\" >0.004186</td>\n                        <td id=\"T_5f8d7_row63_col8\" class=\"data row63 col8\" >0.000100</td>\n                        <td id=\"T_5f8d7_row63_col9\" class=\"data row63 col9\" >0.000122</td>\n            </tr>\n            <tr>\n                        <th id=\"T_5f8d7_level0_row64\" class=\"row_heading level0 row64\" >108</th>\n                        <td id=\"T_5f8d7_row64_col0\" class=\"data row64 col0\" >Mauritius</td>\n                        <td id=\"T_5f8d7_row64_col1\" class=\"data row64 col1\" >2021-05-29 00:00:00</td>\n                        <td id=\"T_5f8d7_row64_col2\" class=\"data row64 col2\" >1363</td>\n                        <td id=\"T_5f8d7_row64_col3\" class=\"data row64 col3\" >17</td>\n                        <td id=\"T_5f8d7_row64_col4\" class=\"data row64 col4\" >1183</td>\n                        <td id=\"T_5f8d7_row64_col5\" class=\"data row64 col5\" >163</td>\n                        <td id=\"T_5f8d7_row64_col6\" class=\"data row64 col6\" >1271768</td>\n                        <td id=\"T_5f8d7_row64_col7\" class=\"data row64 col7\" >0.001072</td>\n                        <td id=\"T_5f8d7_row64_col8\" class=\"data row64 col8\" >0.000013</td>\n                        <td id=\"T_5f8d7_row64_col9\" class=\"data row64 col9\" >0.000128</td>\n            </tr>\n            <tr>\n                        <th id=\"T_5f8d7_level0_row65\" class=\"row_heading level0 row65\" >111</th>\n                        <td id=\"T_5f8d7_row65_col0\" class=\"data row65 col0\" >Moldova</td>\n                        <td id=\"T_5f8d7_row65_col1\" class=\"data row65 col1\" >2021-05-29 00:00:00</td>\n                        <td id=\"T_5f8d7_row65_col2\" class=\"data row65 col2\" >255105</td>\n                        <td id=\"T_5f8d7_row65_col3\" class=\"data row65 col3\" >6100</td>\n                        <td id=\"T_5f8d7_row65_col4\" class=\"data row65 col4\" >247349</td>\n                        <td id=\"T_5f8d7_row65_col5\" class=\"data row65 col5\" >1656</td>\n                        <td id=\"T_5f8d7_row65_col6\" class=\"data row65 col6\" >4033963</td>\n                        <td id=\"T_5f8d7_row65_col7\" class=\"data row65 col7\" >0.063239</td>\n                        <td id=\"T_5f8d7_row65_col8\" class=\"data row65 col8\" >0.001512</td>\n                        <td id=\"T_5f8d7_row65_col9\" class=\"data row65 col9\" >0.000411</td>\n            </tr>\n            <tr>\n                        <th id=\"T_5f8d7_level0_row66\" class=\"row_heading level0 row66\" >112</th>\n                        <td id=\"T_5f8d7_row66_col0\" class=\"data row66 col0\" >Monaco</td>\n                        <td id=\"T_5f8d7_row66_col1\" class=\"data row66 col1\" >2021-05-29 00:00:00</td>\n                        <td id=\"T_5f8d7_row66_col2\" class=\"data row66 col2\" >2503</td>\n                        <td id=\"T_5f8d7_row66_col3\" class=\"data row66 col3\" >32</td>\n                        <td id=\"T_5f8d7_row66_col4\" class=\"data row66 col4\" >2463</td>\n                        <td id=\"T_5f8d7_row66_col5\" class=\"data row66 col5\" >8</td>\n                        <td id=\"T_5f8d7_row66_col6\" class=\"data row66 col6\" >39242</td>\n                        <td id=\"T_5f8d7_row66_col7\" class=\"data row66 col7\" >0.063784</td>\n                        <td id=\"T_5f8d7_row66_col8\" class=\"data row66 col8\" >0.000815</td>\n                        <td id=\"T_5f8d7_row66_col9\" class=\"data row66 col9\" >0.000204</td>\n            </tr>\n            <tr>\n                        <th id=\"T_5f8d7_level0_row67\" class=\"row_heading level0 row67\" >115</th>\n                        <td id=\"T_5f8d7_row67_col0\" class=\"data row67 col0\" >Morocco</td>\n                        <td id=\"T_5f8d7_row67_col1\" class=\"data row67 col1\" >2021-05-29 00:00:00</td>\n                        <td id=\"T_5f8d7_row67_col2\" class=\"data row67 col2\" >518868</td>\n                        <td id=\"T_5f8d7_row67_col3\" class=\"data row67 col3\" >9138</td>\n                        <td id=\"T_5f8d7_row67_col4\" class=\"data row67 col4\" >506740</td>\n                        <td id=\"T_5f8d7_row67_col5\" class=\"data row67 col5\" >2990</td>\n                        <td id=\"T_5f8d7_row67_col6\" class=\"data row67 col6\" >3691056</td>\n                        <td id=\"T_5f8d7_row67_col7\" class=\"data row67 col7\" >0.140574</td>\n                        <td id=\"T_5f8d7_row67_col8\" class=\"data row67 col8\" >0.002476</td>\n                        <td id=\"T_5f8d7_row67_col9\" class=\"data row67 col9\" >0.000810</td>\n            </tr>\n            <tr>\n                        <th id=\"T_5f8d7_level0_row68\" class=\"row_heading level0 row68\" >116</th>\n                        <td id=\"T_5f8d7_row68_col0\" class=\"data row68 col0\" >Mozambique</td>\n                        <td id=\"T_5f8d7_row68_col1\" class=\"data row68 col1\" >2021-05-29 00:00:00</td>\n                        <td id=\"T_5f8d7_row68_col2\" class=\"data row68 col2\" >70724</td>\n                        <td id=\"T_5f8d7_row68_col3\" class=\"data row68 col3\" >836</td>\n                        <td id=\"T_5f8d7_row68_col4\" class=\"data row68 col4\" >69499</td>\n                        <td id=\"T_5f8d7_row68_col5\" class=\"data row68 col5\" >389</td>\n                        <td id=\"T_5f8d7_row68_col6\" class=\"data row68 col6\" >31255435</td>\n                        <td id=\"T_5f8d7_row68_col7\" class=\"data row68 col7\" >0.002263</td>\n                        <td id=\"T_5f8d7_row68_col8\" class=\"data row68 col8\" >0.000027</td>\n                        <td id=\"T_5f8d7_row68_col9\" class=\"data row68 col9\" >0.000012</td>\n            </tr>\n            <tr>\n                        <th id=\"T_5f8d7_level0_row69\" class=\"row_heading level0 row69\" >118</th>\n                        <td id=\"T_5f8d7_row69_col0\" class=\"data row69 col0\" >Nepal</td>\n                        <td id=\"T_5f8d7_row69_col1\" class=\"data row69 col1\" >2021-05-29 00:00:00</td>\n                        <td id=\"T_5f8d7_row69_col2\" class=\"data row69 col2\" >553422</td>\n                        <td id=\"T_5f8d7_row69_col3\" class=\"data row69 col3\" >7163</td>\n                        <td id=\"T_5f8d7_row69_col4\" class=\"data row69 col4\" >434750</td>\n                        <td id=\"T_5f8d7_row69_col5\" class=\"data row69 col5\" >111509</td>\n                        <td id=\"T_5f8d7_row69_col6\" class=\"data row69 col6\" >29136808</td>\n                        <td id=\"T_5f8d7_row69_col7\" class=\"data row69 col7\" >0.018994</td>\n                        <td id=\"T_5f8d7_row69_col8\" class=\"data row69 col8\" >0.000246</td>\n                        <td id=\"T_5f8d7_row69_col9\" class=\"data row69 col9\" >0.003827</td>\n            </tr>\n            <tr>\n                        <th id=\"T_5f8d7_level0_row70\" class=\"row_heading level0 row70\" >120</th>\n                        <td id=\"T_5f8d7_row70_col0\" class=\"data row70 col0\" >New Zealand</td>\n                        <td id=\"T_5f8d7_row70_col1\" class=\"data row70 col1\" >2021-05-29 00:00:00</td>\n                        <td id=\"T_5f8d7_row70_col2\" class=\"data row70 col2\" >2672</td>\n                        <td id=\"T_5f8d7_row70_col3\" class=\"data row70 col3\" >26</td>\n                        <td id=\"T_5f8d7_row70_col4\" class=\"data row70 col4\" >2630</td>\n                        <td id=\"T_5f8d7_row70_col5\" class=\"data row70 col5\" >16</td>\n                        <td id=\"T_5f8d7_row70_col6\" class=\"data row70 col6\" >4822233</td>\n                        <td id=\"T_5f8d7_row70_col7\" class=\"data row70 col7\" >0.000554</td>\n                        <td id=\"T_5f8d7_row70_col8\" class=\"data row70 col8\" >0.000005</td>\n                        <td id=\"T_5f8d7_row70_col9\" class=\"data row70 col9\" >0.000003</td>\n            </tr>\n            <tr>\n                        <th id=\"T_5f8d7_level0_row71\" class=\"row_heading level0 row71\" >121</th>\n                        <td id=\"T_5f8d7_row71_col0\" class=\"data row71 col0\" >Nicaragua</td>\n                        <td id=\"T_5f8d7_row71_col1\" class=\"data row71 col1\" >2021-05-29 00:00:00</td>\n                        <td id=\"T_5f8d7_row71_col2\" class=\"data row71 col2\" >7324</td>\n                        <td id=\"T_5f8d7_row71_col3\" class=\"data row71 col3\" >186</td>\n                        <td id=\"T_5f8d7_row71_col4\" class=\"data row71 col4\" >4225</td>\n                        <td id=\"T_5f8d7_row71_col5\" class=\"data row71 col5\" >2913</td>\n                        <td id=\"T_5f8d7_row71_col6\" class=\"data row71 col6\" >6624554</td>\n                        <td id=\"T_5f8d7_row71_col7\" class=\"data row71 col7\" >0.001106</td>\n                        <td id=\"T_5f8d7_row71_col8\" class=\"data row71 col8\" >0.000028</td>\n                        <td id=\"T_5f8d7_row71_col9\" class=\"data row71 col9\" >0.000440</td>\n            </tr>\n            <tr>\n                        <th id=\"T_5f8d7_level0_row72\" class=\"row_heading level0 row72\" >122</th>\n                        <td id=\"T_5f8d7_row72_col0\" class=\"data row72 col0\" >Niger</td>\n                        <td id=\"T_5f8d7_row72_col1\" class=\"data row72 col1\" >2021-05-29 00:00:00</td>\n                        <td id=\"T_5f8d7_row72_col2\" class=\"data row72 col2\" >5410</td>\n                        <td id=\"T_5f8d7_row72_col3\" class=\"data row72 col3\" >192</td>\n                        <td id=\"T_5f8d7_row72_col4\" class=\"data row72 col4\" >5083</td>\n                        <td id=\"T_5f8d7_row72_col5\" class=\"data row72 col5\" >135</td>\n                        <td id=\"T_5f8d7_row72_col6\" class=\"data row72 col6\" >24206644</td>\n                        <td id=\"T_5f8d7_row72_col7\" class=\"data row72 col7\" >0.000223</td>\n                        <td id=\"T_5f8d7_row72_col8\" class=\"data row72 col8\" >0.000008</td>\n                        <td id=\"T_5f8d7_row72_col9\" class=\"data row72 col9\" >0.000006</td>\n            </tr>\n            <tr>\n                        <th id=\"T_5f8d7_level0_row73\" class=\"row_heading level0 row73\" >123</th>\n                        <td id=\"T_5f8d7_row73_col0\" class=\"data row73 col0\" >Nigeria</td>\n                        <td id=\"T_5f8d7_row73_col1\" class=\"data row73 col1\" >2021-05-29 00:00:00</td>\n                        <td id=\"T_5f8d7_row73_col2\" class=\"data row73 col2\" >166285</td>\n                        <td id=\"T_5f8d7_row73_col3\" class=\"data row73 col3\" >2071</td>\n                        <td id=\"T_5f8d7_row73_col4\" class=\"data row73 col4\" >156557</td>\n                        <td id=\"T_5f8d7_row73_col5\" class=\"data row73 col5\" >7657</td>\n                        <td id=\"T_5f8d7_row73_col6\" class=\"data row73 col6\" >206139589</td>\n                        <td id=\"T_5f8d7_row73_col7\" class=\"data row73 col7\" >0.000807</td>\n                        <td id=\"T_5f8d7_row73_col8\" class=\"data row73 col8\" >0.000010</td>\n                        <td id=\"T_5f8d7_row73_col9\" class=\"data row73 col9\" >0.000037</td>\n            </tr>\n            <tr>\n                        <th id=\"T_5f8d7_level0_row74\" class=\"row_heading level0 row74\" >125</th>\n                        <td id=\"T_5f8d7_row74_col0\" class=\"data row74 col0\" >Norway</td>\n                        <td id=\"T_5f8d7_row74_col1\" class=\"data row74 col1\" >2021-05-29 00:00:00</td>\n                        <td id=\"T_5f8d7_row74_col2\" class=\"data row74 col2\" >124655</td>\n                        <td id=\"T_5f8d7_row74_col3\" class=\"data row74 col3\" >783</td>\n                        <td id=\"T_5f8d7_row74_col4\" class=\"data row74 col4\" >17998</td>\n                        <td id=\"T_5f8d7_row74_col5\" class=\"data row74 col5\" >105874</td>\n                        <td id=\"T_5f8d7_row74_col6\" class=\"data row74 col6\" >5421241</td>\n                        <td id=\"T_5f8d7_row74_col7\" class=\"data row74 col7\" >0.022994</td>\n                        <td id=\"T_5f8d7_row74_col8\" class=\"data row74 col8\" >0.000144</td>\n                        <td id=\"T_5f8d7_row74_col9\" class=\"data row74 col9\" >0.019529</td>\n            </tr>\n            <tr>\n                        <th id=\"T_5f8d7_level0_row75\" class=\"row_heading level0 row75\" >129</th>\n                        <td id=\"T_5f8d7_row75_col0\" class=\"data row75 col0\" >Papua New Guinea</td>\n                        <td id=\"T_5f8d7_row75_col1\" class=\"data row75 col1\" >2021-05-29 00:00:00</td>\n                        <td id=\"T_5f8d7_row75_col2\" class=\"data row75 col2\" >15772</td>\n                        <td id=\"T_5f8d7_row75_col3\" class=\"data row75 col3\" >162</td>\n                        <td id=\"T_5f8d7_row75_col4\" class=\"data row75 col4\" >14857</td>\n                        <td id=\"T_5f8d7_row75_col5\" class=\"data row75 col5\" >753</td>\n                        <td id=\"T_5f8d7_row75_col6\" class=\"data row75 col6\" >8947024</td>\n                        <td id=\"T_5f8d7_row75_col7\" class=\"data row75 col7\" >0.001763</td>\n                        <td id=\"T_5f8d7_row75_col8\" class=\"data row75 col8\" >0.000018</td>\n                        <td id=\"T_5f8d7_row75_col9\" class=\"data row75 col9\" >0.000084</td>\n            </tr>\n            <tr>\n                        <th id=\"T_5f8d7_level0_row76\" class=\"row_heading level0 row76\" >132</th>\n                        <td id=\"T_5f8d7_row76_col0\" class=\"data row76 col0\" >Philippines</td>\n                        <td id=\"T_5f8d7_row76_col1\" class=\"data row76 col1\" >2021-05-29 00:00:00</td>\n                        <td id=\"T_5f8d7_row76_col2\" class=\"data row76 col2\" >1216582</td>\n                        <td id=\"T_5f8d7_row76_col3\" class=\"data row76 col3\" >20722</td>\n                        <td id=\"T_5f8d7_row76_col4\" class=\"data row76 col4\" >1142246</td>\n                        <td id=\"T_5f8d7_row76_col5\" class=\"data row76 col5\" >53614</td>\n                        <td id=\"T_5f8d7_row76_col6\" class=\"data row76 col6\" >109581078</td>\n                        <td id=\"T_5f8d7_row76_col7\" class=\"data row76 col7\" >0.011102</td>\n                        <td id=\"T_5f8d7_row76_col8\" class=\"data row76 col8\" >0.000189</td>\n                        <td id=\"T_5f8d7_row76_col9\" class=\"data row76 col9\" >0.000489</td>\n            </tr>\n            <tr>\n                        <th id=\"T_5f8d7_level0_row77\" class=\"row_heading level0 row77\" >135</th>\n                        <td id=\"T_5f8d7_row77_col0\" class=\"data row77 col0\" >Qatar</td>\n                        <td id=\"T_5f8d7_row77_col1\" class=\"data row77 col1\" >2021-05-29 00:00:00</td>\n                        <td id=\"T_5f8d7_row77_col2\" class=\"data row77 col2\" >217041</td>\n                        <td id=\"T_5f8d7_row77_col3\" class=\"data row77 col3\" >554</td>\n                        <td id=\"T_5f8d7_row77_col4\" class=\"data row77 col4\" >212716</td>\n                        <td id=\"T_5f8d7_row77_col5\" class=\"data row77 col5\" >3771</td>\n                        <td id=\"T_5f8d7_row77_col6\" class=\"data row77 col6\" >2881053</td>\n                        <td id=\"T_5f8d7_row77_col7\" class=\"data row77 col7\" >0.075334</td>\n                        <td id=\"T_5f8d7_row77_col8\" class=\"data row77 col8\" >0.000192</td>\n                        <td id=\"T_5f8d7_row77_col9\" class=\"data row77 col9\" >0.001309</td>\n            </tr>\n            <tr>\n                        <th id=\"T_5f8d7_level0_row78\" class=\"row_heading level0 row78\" >136</th>\n                        <td id=\"T_5f8d7_row78_col0\" class=\"data row78 col0\" >Romania</td>\n                        <td id=\"T_5f8d7_row78_col1\" class=\"data row78 col1\" >2021-05-29 00:00:00</td>\n                        <td id=\"T_5f8d7_row78_col2\" class=\"data row78 col2\" >1077426</td>\n                        <td id=\"T_5f8d7_row78_col3\" class=\"data row78 col3\" >30247</td>\n                        <td id=\"T_5f8d7_row78_col4\" class=\"data row78 col4\" >1038539</td>\n                        <td id=\"T_5f8d7_row78_col5\" class=\"data row78 col5\" >8640</td>\n                        <td id=\"T_5f8d7_row78_col6\" class=\"data row78 col6\" >19237691</td>\n                        <td id=\"T_5f8d7_row78_col7\" class=\"data row78 col7\" >0.056006</td>\n                        <td id=\"T_5f8d7_row78_col8\" class=\"data row78 col8\" >0.001572</td>\n                        <td id=\"T_5f8d7_row78_col9\" class=\"data row78 col9\" >0.000449</td>\n            </tr>\n            <tr>\n                        <th id=\"T_5f8d7_level0_row79\" class=\"row_heading level0 row79\" >138</th>\n                        <td id=\"T_5f8d7_row79_col0\" class=\"data row79 col0\" >Rwanda</td>\n                        <td id=\"T_5f8d7_row79_col1\" class=\"data row79 col1\" >2021-05-29 00:00:00</td>\n                        <td id=\"T_5f8d7_row79_col2\" class=\"data row79 col2\" >26892</td>\n                        <td id=\"T_5f8d7_row79_col3\" class=\"data row79 col3\" >352</td>\n                        <td id=\"T_5f8d7_row79_col4\" class=\"data row79 col4\" >25602</td>\n                        <td id=\"T_5f8d7_row79_col5\" class=\"data row79 col5\" >938</td>\n                        <td id=\"T_5f8d7_row79_col6\" class=\"data row79 col6\" >12952218</td>\n                        <td id=\"T_5f8d7_row79_col7\" class=\"data row79 col7\" >0.002076</td>\n                        <td id=\"T_5f8d7_row79_col8\" class=\"data row79 col8\" >0.000027</td>\n                        <td id=\"T_5f8d7_row79_col9\" class=\"data row79 col9\" >0.000072</td>\n            </tr>\n            <tr>\n                        <th id=\"T_5f8d7_level0_row80\" class=\"row_heading level0 row80\" >139</th>\n                        <td id=\"T_5f8d7_row80_col0\" class=\"data row80 col0\" >Saint Kitts and Nevis</td>\n                        <td id=\"T_5f8d7_row80_col1\" class=\"data row80 col1\" >2021-05-29 00:00:00</td>\n                        <td id=\"T_5f8d7_row80_col2\" class=\"data row80 col2\" >68</td>\n                        <td id=\"T_5f8d7_row80_col3\" class=\"data row80 col3\" >0</td>\n                        <td id=\"T_5f8d7_row80_col4\" class=\"data row80 col4\" >45</td>\n                        <td id=\"T_5f8d7_row80_col5\" class=\"data row80 col5\" >23</td>\n                        <td id=\"T_5f8d7_row80_col6\" class=\"data row80 col6\" >53199</td>\n                        <td id=\"T_5f8d7_row80_col7\" class=\"data row80 col7\" >0.001278</td>\n                        <td id=\"T_5f8d7_row80_col8\" class=\"data row80 col8\" >0.000000</td>\n                        <td id=\"T_5f8d7_row80_col9\" class=\"data row80 col9\" >0.000432</td>\n            </tr>\n            <tr>\n                        <th id=\"T_5f8d7_level0_row81\" class=\"row_heading level0 row81\" >143</th>\n                        <td id=\"T_5f8d7_row81_col0\" class=\"data row81 col0\" >San Marino</td>\n                        <td id=\"T_5f8d7_row81_col1\" class=\"data row81 col1\" >2021-05-29 00:00:00</td>\n                        <td id=\"T_5f8d7_row81_col2\" class=\"data row81 col2\" >5089</td>\n                        <td id=\"T_5f8d7_row81_col3\" class=\"data row81 col3\" >90</td>\n                        <td id=\"T_5f8d7_row81_col4\" class=\"data row81 col4\" >4995</td>\n                        <td id=\"T_5f8d7_row81_col5\" class=\"data row81 col5\" >4</td>\n                        <td id=\"T_5f8d7_row81_col6\" class=\"data row81 col6\" >33931</td>\n                        <td id=\"T_5f8d7_row81_col7\" class=\"data row81 col7\" >0.149981</td>\n                        <td id=\"T_5f8d7_row81_col8\" class=\"data row81 col8\" >0.002652</td>\n                        <td id=\"T_5f8d7_row81_col9\" class=\"data row81 col9\" >0.000118</td>\n            </tr>\n            <tr>\n                        <th id=\"T_5f8d7_level0_row82\" class=\"row_heading level0 row82\" >144</th>\n                        <td id=\"T_5f8d7_row82_col0\" class=\"data row82 col0\" >Sao Tome and Principe</td>\n                        <td id=\"T_5f8d7_row82_col1\" class=\"data row82 col1\" >2021-05-29 00:00:00</td>\n                        <td id=\"T_5f8d7_row82_col2\" class=\"data row82 col2\" >2345</td>\n                        <td id=\"T_5f8d7_row82_col3\" class=\"data row82 col3\" >37</td>\n                        <td id=\"T_5f8d7_row82_col4\" class=\"data row82 col4\" >2291</td>\n                        <td id=\"T_5f8d7_row82_col5\" class=\"data row82 col5\" >17</td>\n                        <td id=\"T_5f8d7_row82_col6\" class=\"data row82 col6\" >219159</td>\n                        <td id=\"T_5f8d7_row82_col7\" class=\"data row82 col7\" >0.010700</td>\n                        <td id=\"T_5f8d7_row82_col8\" class=\"data row82 col8\" >0.000169</td>\n                        <td id=\"T_5f8d7_row82_col9\" class=\"data row82 col9\" >0.000078</td>\n            </tr>\n            <tr>\n                        <th id=\"T_5f8d7_level0_row83\" class=\"row_heading level0 row83\" >145</th>\n                        <td id=\"T_5f8d7_row83_col0\" class=\"data row83 col0\" >Saudi Arabia</td>\n                        <td id=\"T_5f8d7_row83_col1\" class=\"data row83 col1\" >2021-05-29 00:00:00</td>\n                        <td id=\"T_5f8d7_row83_col2\" class=\"data row83 col2\" >448284</td>\n                        <td id=\"T_5f8d7_row83_col3\" class=\"data row83 col3\" >7334</td>\n                        <td id=\"T_5f8d7_row83_col4\" class=\"data row83 col4\" >430937</td>\n                        <td id=\"T_5f8d7_row83_col5\" class=\"data row83 col5\" >10013</td>\n                        <td id=\"T_5f8d7_row83_col6\" class=\"data row83 col6\" >34813871</td>\n                        <td id=\"T_5f8d7_row83_col7\" class=\"data row83 col7\" >0.012877</td>\n                        <td id=\"T_5f8d7_row83_col8\" class=\"data row83 col8\" >0.000211</td>\n                        <td id=\"T_5f8d7_row83_col9\" class=\"data row83 col9\" >0.000288</td>\n            </tr>\n            <tr>\n                        <th id=\"T_5f8d7_level0_row84\" class=\"row_heading level0 row84\" >146</th>\n                        <td id=\"T_5f8d7_row84_col0\" class=\"data row84 col0\" >Senegal</td>\n                        <td id=\"T_5f8d7_row84_col1\" class=\"data row84 col1\" >2021-05-29 00:00:00</td>\n                        <td id=\"T_5f8d7_row84_col2\" class=\"data row84 col2\" >41331</td>\n                        <td id=\"T_5f8d7_row84_col3\" class=\"data row84 col3\" >1138</td>\n                        <td id=\"T_5f8d7_row84_col4\" class=\"data row84 col4\" >39972</td>\n                        <td id=\"T_5f8d7_row84_col5\" class=\"data row84 col5\" >221</td>\n                        <td id=\"T_5f8d7_row84_col6\" class=\"data row84 col6\" >16743927</td>\n                        <td id=\"T_5f8d7_row84_col7\" class=\"data row84 col7\" >0.002468</td>\n                        <td id=\"T_5f8d7_row84_col8\" class=\"data row84 col8\" >0.000068</td>\n                        <td id=\"T_5f8d7_row84_col9\" class=\"data row84 col9\" >0.000013</td>\n            </tr>\n            <tr>\n                        <th id=\"T_5f8d7_level0_row85\" class=\"row_heading level0 row85\" >149</th>\n                        <td id=\"T_5f8d7_row85_col0\" class=\"data row85 col0\" >Sierra Leone</td>\n                        <td id=\"T_5f8d7_row85_col1\" class=\"data row85 col1\" >2021-05-29 00:00:00</td>\n                        <td id=\"T_5f8d7_row85_col2\" class=\"data row85 col2\" >4141</td>\n                        <td id=\"T_5f8d7_row85_col3\" class=\"data row85 col3\" >79</td>\n                        <td id=\"T_5f8d7_row85_col4\" class=\"data row85 col4\" >3131</td>\n                        <td id=\"T_5f8d7_row85_col5\" class=\"data row85 col5\" >931</td>\n                        <td id=\"T_5f8d7_row85_col6\" class=\"data row85 col6\" >7976983</td>\n                        <td id=\"T_5f8d7_row85_col7\" class=\"data row85 col7\" >0.000519</td>\n                        <td id=\"T_5f8d7_row85_col8\" class=\"data row85 col8\" >0.000010</td>\n                        <td id=\"T_5f8d7_row85_col9\" class=\"data row85 col9\" >0.000117</td>\n            </tr>\n            <tr>\n                        <th id=\"T_5f8d7_level0_row86\" class=\"row_heading level0 row86\" >150</th>\n                        <td id=\"T_5f8d7_row86_col0\" class=\"data row86 col0\" >Singapore</td>\n                        <td id=\"T_5f8d7_row86_col1\" class=\"data row86 col1\" >2021-05-29 00:00:00</td>\n                        <td id=\"T_5f8d7_row86_col2\" class=\"data row86 col2\" >62003</td>\n                        <td id=\"T_5f8d7_row86_col3\" class=\"data row86 col3\" >32</td>\n                        <td id=\"T_5f8d7_row86_col4\" class=\"data row86 col4\" >61423</td>\n                        <td id=\"T_5f8d7_row86_col5\" class=\"data row86 col5\" >548</td>\n                        <td id=\"T_5f8d7_row86_col6\" class=\"data row86 col6\" >5850342</td>\n                        <td id=\"T_5f8d7_row86_col7\" class=\"data row86 col7\" >0.010598</td>\n                        <td id=\"T_5f8d7_row86_col8\" class=\"data row86 col8\" >0.000005</td>\n                        <td id=\"T_5f8d7_row86_col9\" class=\"data row86 col9\" >0.000094</td>\n            </tr>\n            <tr>\n                        <th id=\"T_5f8d7_level0_row87\" class=\"row_heading level0 row87\" >154</th>\n                        <td id=\"T_5f8d7_row87_col0\" class=\"data row87 col0\" >Somalia</td>\n                        <td id=\"T_5f8d7_row87_col1\" class=\"data row87 col1\" >2021-05-29 00:00:00</td>\n                        <td id=\"T_5f8d7_row87_col2\" class=\"data row87 col2\" >14653</td>\n                        <td id=\"T_5f8d7_row87_col3\" class=\"data row87 col3\" >768</td>\n                        <td id=\"T_5f8d7_row87_col4\" class=\"data row87 col4\" >6726</td>\n                        <td id=\"T_5f8d7_row87_col5\" class=\"data row87 col5\" >7159</td>\n                        <td id=\"T_5f8d7_row87_col6\" class=\"data row87 col6\" >15893222</td>\n                        <td id=\"T_5f8d7_row87_col7\" class=\"data row87 col7\" >0.000922</td>\n                        <td id=\"T_5f8d7_row87_col8\" class=\"data row87 col8\" >0.000048</td>\n                        <td id=\"T_5f8d7_row87_col9\" class=\"data row87 col9\" >0.000450</td>\n            </tr>\n            <tr>\n                        <th id=\"T_5f8d7_level0_row88\" class=\"row_heading level0 row88\" >156</th>\n                        <td id=\"T_5f8d7_row88_col0\" class=\"data row88 col0\" >South Sudan</td>\n                        <td id=\"T_5f8d7_row88_col1\" class=\"data row88 col1\" >2021-05-29 00:00:00</td>\n                        <td id=\"T_5f8d7_row88_col2\" class=\"data row88 col2\" >10688</td>\n                        <td id=\"T_5f8d7_row88_col3\" class=\"data row88 col3\" >115</td>\n                        <td id=\"T_5f8d7_row88_col4\" class=\"data row88 col4\" >10514</td>\n                        <td id=\"T_5f8d7_row88_col5\" class=\"data row88 col5\" >59</td>\n                        <td id=\"T_5f8d7_row88_col6\" class=\"data row88 col6\" >11193725</td>\n                        <td id=\"T_5f8d7_row88_col7\" class=\"data row88 col7\" >0.000955</td>\n                        <td id=\"T_5f8d7_row88_col8\" class=\"data row88 col8\" >0.000010</td>\n                        <td id=\"T_5f8d7_row88_col9\" class=\"data row88 col9\" >0.000005</td>\n            </tr>\n            <tr>\n                        <th id=\"T_5f8d7_level0_row89\" class=\"row_heading level0 row89\" >158</th>\n                        <td id=\"T_5f8d7_row89_col0\" class=\"data row89 col0\" >Sri Lanka</td>\n                        <td id=\"T_5f8d7_row89_col1\" class=\"data row89 col1\" >2021-05-29 00:00:00</td>\n                        <td id=\"T_5f8d7_row89_col2\" class=\"data row89 col2\" >180593</td>\n                        <td id=\"T_5f8d7_row89_col3\" class=\"data row89 col3\" >1363</td>\n                        <td id=\"T_5f8d7_row89_col4\" class=\"data row89 col4\" >148391</td>\n                        <td id=\"T_5f8d7_row89_col5\" class=\"data row89 col5\" >30839</td>\n                        <td id=\"T_5f8d7_row89_col6\" class=\"data row89 col6\" >21413249</td>\n                        <td id=\"T_5f8d7_row89_col7\" class=\"data row89 col7\" >0.008434</td>\n                        <td id=\"T_5f8d7_row89_col8\" class=\"data row89 col8\" >0.000064</td>\n                        <td id=\"T_5f8d7_row89_col9\" class=\"data row89 col9\" >0.001440</td>\n            </tr>\n            <tr>\n                        <th id=\"T_5f8d7_level0_row90\" class=\"row_heading level0 row90\" >163</th>\n                        <td id=\"T_5f8d7_row90_col0\" class=\"data row90 col0\" >Syria</td>\n                        <td id=\"T_5f8d7_row90_col1\" class=\"data row90 col1\" >2021-05-29 00:00:00</td>\n                        <td id=\"T_5f8d7_row90_col2\" class=\"data row90 col2\" >24440</td>\n                        <td id=\"T_5f8d7_row90_col3\" class=\"data row90 col3\" >1763</td>\n                        <td id=\"T_5f8d7_row90_col4\" class=\"data row90 col4\" >21593</td>\n                        <td id=\"T_5f8d7_row90_col5\" class=\"data row90 col5\" >1084</td>\n                        <td id=\"T_5f8d7_row90_col6\" class=\"data row90 col6\" >17500658</td>\n                        <td id=\"T_5f8d7_row90_col7\" class=\"data row90 col7\" >0.001397</td>\n                        <td id=\"T_5f8d7_row90_col8\" class=\"data row90 col8\" >0.000101</td>\n                        <td id=\"T_5f8d7_row90_col9\" class=\"data row90 col9\" >0.000062</td>\n            </tr>\n            <tr>\n                        <th id=\"T_5f8d7_level0_row91\" class=\"row_heading level0 row91\" >165</th>\n                        <td id=\"T_5f8d7_row91_col0\" class=\"data row91 col0\" >Tanzania</td>\n                        <td id=\"T_5f8d7_row91_col1\" class=\"data row91 col1\" >2021-05-29 00:00:00</td>\n                        <td id=\"T_5f8d7_row91_col2\" class=\"data row91 col2\" >509</td>\n                        <td id=\"T_5f8d7_row91_col3\" class=\"data row91 col3\" >21</td>\n                        <td id=\"T_5f8d7_row91_col4\" class=\"data row91 col4\" >183</td>\n                        <td id=\"T_5f8d7_row91_col5\" class=\"data row91 col5\" >305</td>\n                        <td id=\"T_5f8d7_row91_col6\" class=\"data row91 col6\" >59734218</td>\n                        <td id=\"T_5f8d7_row91_col7\" class=\"data row91 col7\" >0.000009</td>\n                        <td id=\"T_5f8d7_row91_col8\" class=\"data row91 col8\" >0.000000</td>\n                        <td id=\"T_5f8d7_row91_col9\" class=\"data row91 col9\" >0.000005</td>\n            </tr>\n            <tr>\n                        <th id=\"T_5f8d7_level0_row92\" class=\"row_heading level0 row92\" >168</th>\n                        <td id=\"T_5f8d7_row92_col0\" class=\"data row92 col0\" >Togo</td>\n                        <td id=\"T_5f8d7_row92_col1\" class=\"data row92 col1\" >2021-05-29 00:00:00</td>\n                        <td id=\"T_5f8d7_row92_col2\" class=\"data row92 col2\" >13432</td>\n                        <td id=\"T_5f8d7_row92_col3\" class=\"data row92 col3\" >125</td>\n                        <td id=\"T_5f8d7_row92_col4\" class=\"data row92 col4\" >12644</td>\n                        <td id=\"T_5f8d7_row92_col5\" class=\"data row92 col5\" >663</td>\n                        <td id=\"T_5f8d7_row92_col6\" class=\"data row92 col6\" >8278724</td>\n                        <td id=\"T_5f8d7_row92_col7\" class=\"data row92 col7\" >0.001622</td>\n                        <td id=\"T_5f8d7_row92_col8\" class=\"data row92 col8\" >0.000015</td>\n                        <td id=\"T_5f8d7_row92_col9\" class=\"data row92 col9\" >0.000080</td>\n            </tr>\n            <tr>\n                        <th id=\"T_5f8d7_level0_row93\" class=\"row_heading level0 row93\" >173</th>\n                        <td id=\"T_5f8d7_row93_col0\" class=\"data row93 col0\" >Uganda</td>\n                        <td id=\"T_5f8d7_row93_col1\" class=\"data row93 col1\" >2021-05-29 00:00:00</td>\n                        <td id=\"T_5f8d7_row93_col2\" class=\"data row93 col2\" >45931</td>\n                        <td id=\"T_5f8d7_row93_col3\" class=\"data row93 col3\" >362</td>\n                        <td id=\"T_5f8d7_row93_col4\" class=\"data row93 col4\" >43401</td>\n                        <td id=\"T_5f8d7_row93_col5\" class=\"data row93 col5\" >2168</td>\n                        <td id=\"T_5f8d7_row93_col6\" class=\"data row93 col6\" >45741007</td>\n                        <td id=\"T_5f8d7_row93_col7\" class=\"data row93 col7\" >0.001004</td>\n                        <td id=\"T_5f8d7_row93_col8\" class=\"data row93 col8\" >0.000008</td>\n                        <td id=\"T_5f8d7_row93_col9\" class=\"data row93 col9\" >0.000047</td>\n            </tr>\n            <tr>\n                        <th id=\"T_5f8d7_level0_row94\" class=\"row_heading level0 row94\" >175</th>\n                        <td id=\"T_5f8d7_row94_col0\" class=\"data row94 col0\" >United Arab Emirates</td>\n                        <td id=\"T_5f8d7_row94_col1\" class=\"data row94 col1\" >2021-05-29 00:00:00</td>\n                        <td id=\"T_5f8d7_row94_col2\" class=\"data row94 col2\" >567263</td>\n                        <td id=\"T_5f8d7_row94_col3\" class=\"data row94 col3\" >1673</td>\n                        <td id=\"T_5f8d7_row94_col4\" class=\"data row94 col4\" >547008</td>\n                        <td id=\"T_5f8d7_row94_col5\" class=\"data row94 col5\" >18582</td>\n                        <td id=\"T_5f8d7_row94_col6\" class=\"data row94 col6\" >9890402</td>\n                        <td id=\"T_5f8d7_row94_col7\" class=\"data row94 col7\" >0.057355</td>\n                        <td id=\"T_5f8d7_row94_col8\" class=\"data row94 col8\" >0.000169</td>\n                        <td id=\"T_5f8d7_row94_col9\" class=\"data row94 col9\" >0.001879</td>\n            </tr>\n            <tr>\n                        <th id=\"T_5f8d7_level0_row95\" class=\"row_heading level0 row95\" >178</th>\n                        <td id=\"T_5f8d7_row95_col0\" class=\"data row95 col0\" >Uzbekistan</td>\n                        <td id=\"T_5f8d7_row95_col1\" class=\"data row95 col1\" >2021-05-29 00:00:00</td>\n                        <td id=\"T_5f8d7_row95_col2\" class=\"data row95 col2\" >99844</td>\n                        <td id=\"T_5f8d7_row95_col3\" class=\"data row95 col3\" >688</td>\n                        <td id=\"T_5f8d7_row95_col4\" class=\"data row95 col4\" >95529</td>\n                        <td id=\"T_5f8d7_row95_col5\" class=\"data row95 col5\" >3627</td>\n                        <td id=\"T_5f8d7_row95_col6\" class=\"data row95 col6\" >33469203</td>\n                        <td id=\"T_5f8d7_row95_col7\" class=\"data row95 col7\" >0.002983</td>\n                        <td id=\"T_5f8d7_row95_col8\" class=\"data row95 col8\" >0.000021</td>\n                        <td id=\"T_5f8d7_row95_col9\" class=\"data row95 col9\" >0.000108</td>\n            </tr>\n            <tr>\n                        <th id=\"T_5f8d7_level0_row96\" class=\"row_heading level0 row96\" >181</th>\n                        <td id=\"T_5f8d7_row96_col0\" class=\"data row96 col0\" >Vietnam</td>\n                        <td id=\"T_5f8d7_row96_col1\" class=\"data row96 col1\" >2021-05-29 00:00:00</td>\n                        <td id=\"T_5f8d7_row96_col2\" class=\"data row96 col2\" >6908</td>\n                        <td id=\"T_5f8d7_row96_col3\" class=\"data row96 col3\" >47</td>\n                        <td id=\"T_5f8d7_row96_col4\" class=\"data row96 col4\" >2896</td>\n                        <td id=\"T_5f8d7_row96_col5\" class=\"data row96 col5\" >3965</td>\n                        <td id=\"T_5f8d7_row96_col6\" class=\"data row96 col6\" >97338579</td>\n                        <td id=\"T_5f8d7_row96_col7\" class=\"data row96 col7\" >0.000071</td>\n                        <td id=\"T_5f8d7_row96_col8\" class=\"data row96 col8\" >0.000000</td>\n                        <td id=\"T_5f8d7_row96_col9\" class=\"data row96 col9\" >0.000041</td>\n            </tr>\n            <tr>\n                        <th id=\"T_5f8d7_level0_row97\" class=\"row_heading level0 row97\" >182</th>\n                        <td id=\"T_5f8d7_row97_col0\" class=\"data row97 col0\" >Yemen</td>\n                        <td id=\"T_5f8d7_row97_col1\" class=\"data row97 col1\" >2021-05-29 00:00:00</td>\n                        <td id=\"T_5f8d7_row97_col2\" class=\"data row97 col2\" >6731</td>\n                        <td id=\"T_5f8d7_row97_col3\" class=\"data row97 col3\" >1319</td>\n                        <td id=\"T_5f8d7_row97_col4\" class=\"data row97 col4\" >3399</td>\n                        <td id=\"T_5f8d7_row97_col5\" class=\"data row97 col5\" >2013</td>\n                        <td id=\"T_5f8d7_row97_col6\" class=\"data row97 col6\" >29825964</td>\n                        <td id=\"T_5f8d7_row97_col7\" class=\"data row97 col7\" >0.000226</td>\n                        <td id=\"T_5f8d7_row97_col8\" class=\"data row97 col8\" >0.000044</td>\n                        <td id=\"T_5f8d7_row97_col9\" class=\"data row97 col9\" >0.000067</td>\n            </tr>\n            <tr>\n                        <th id=\"T_5f8d7_level0_row98\" class=\"row_heading level0 row98\" >183</th>\n                        <td id=\"T_5f8d7_row98_col0\" class=\"data row98 col0\" >Zambia</td>\n                        <td id=\"T_5f8d7_row98_col1\" class=\"data row98 col1\" >2021-05-29 00:00:00</td>\n                        <td id=\"T_5f8d7_row98_col2\" class=\"data row98 col2\" >94751</td>\n                        <td id=\"T_5f8d7_row98_col3\" class=\"data row98 col3\" >1276</td>\n                        <td id=\"T_5f8d7_row98_col4\" class=\"data row98 col4\" >91594</td>\n                        <td id=\"T_5f8d7_row98_col5\" class=\"data row98 col5\" >1881</td>\n                        <td id=\"T_5f8d7_row98_col6\" class=\"data row98 col6\" >18383955</td>\n                        <td id=\"T_5f8d7_row98_col7\" class=\"data row98 col7\" >0.005154</td>\n                        <td id=\"T_5f8d7_row98_col8\" class=\"data row98 col8\" >0.000069</td>\n                        <td id=\"T_5f8d7_row98_col9\" class=\"data row98 col9\" >0.000102</td>\n            </tr>\n            <tr>\n                        <th id=\"T_5f8d7_level0_row99\" class=\"row_heading level0 row99\" >184</th>\n                        <td id=\"T_5f8d7_row99_col0\" class=\"data row99 col0\" >Zimbabwe</td>\n                        <td id=\"T_5f8d7_row99_col1\" class=\"data row99 col1\" >2021-05-29 00:00:00</td>\n                        <td id=\"T_5f8d7_row99_col2\" class=\"data row99 col2\" >38933</td>\n                        <td id=\"T_5f8d7_row99_col3\" class=\"data row99 col3\" >1594</td>\n                        <td id=\"T_5f8d7_row99_col4\" class=\"data row99 col4\" >36578</td>\n                        <td id=\"T_5f8d7_row99_col5\" class=\"data row99 col5\" >761</td>\n                        <td id=\"T_5f8d7_row99_col6\" class=\"data row99 col6\" >14862924</td>\n                        <td id=\"T_5f8d7_row99_col7\" class=\"data row99 col7\" >0.002619</td>\n                        <td id=\"T_5f8d7_row99_col8\" class=\"data row99 col8\" >0.000107</td>\n                        <td id=\"T_5f8d7_row99_col9\" class=\"data row99 col9\" >0.000051</td>\n            </tr>\n    </tbody></table>"
          },
          "metadata": {},
          "execution_count": 21
        }
      ],
      "source": [
        "rawan.style.background_gradient(cmap = \"Reds\")"
      ]
    },
    {
      "source": [
        "**Very Vulnerable Country**"
      ],
      "cell_type": "markdown",
      "metadata": {}
    },
    {
      "cell_type": "code",
      "metadata": {
        "colab": {
          "base_uri": "https://localhost:8080/",
          "height": 0
        },
        "id": "Es8NA3eU1W1_",
        "outputId": "899933ff-1859-41e9-8d23-724c19d5a9d3"
      },
      "source": [
        "# Sangat Rawan\n",
        "fig = px.choropleth(last_day, locations=sangatRawan['Country/Region'],\n",
        "                    color=sangatRawan['Confirmed'],locationmode='country names', \n",
        "                    hover_name=sangatRawan['Country/Region'], \n",
        "                    color_continuous_scale=px.colors.sequential.Plasma,\n",
        "                    template ='plotly_white')\n",
        "fig.update_layout(title_text=\"Very Vulnerable Country\")\n",
        "fig.update_coloraxes(colorbar_title=\"Number of confirmed cases\")\n",
        "\n",
        "fig.show()"
      ],
      "execution_count": 22,
      "outputs": [
        {
          "output_type": "display_data",
          "data": {
            "application/vnd.plotly.v1+json": {
              "config": {
                "plotlyServerURL": "https://plot.ly"
              },
              "data": [
                {
                  "coloraxis": "coloraxis",
                  "geo": "geo",
                  "hovertemplate": "<b>%{hovertext}</b><br><br>locations=%{location}<br>color=%{z}<extra></extra>",
                  "hovertext": [
                    "Albania",
                    "Algeria",
                    "Andorra",
                    "Antigua and Barbuda",
                    "Argentina",
                    "Armenia",
                    "Austria",
                    "Azerbaijan",
                    "Bahamas",
                    "Bahrain",
                    "Belgium",
                    "Belize",
                    "Benin",
                    "Bolivia",
                    "Bosnia and Herzegovina",
                    "Botswana",
                    "Brazil",
                    "Bulgaria",
                    "Burma",
                    "Cameroon",
                    "Canada",
                    "Chile",
                    "Colombia",
                    "Costa Rica",
                    "Croatia",
                    "Cyprus",
                    "Czechia",
                    "Denmark",
                    "Djibouti",
                    "Dominican Republic",
                    "Ecuador",
                    "El Salvador",
                    "Estonia",
                    "Finland",
                    "France",
                    "Gabon",
                    "Georgia",
                    "Germany",
                    "Greece",
                    "Guatemala",
                    "Guyana",
                    "Honduras",
                    "Hungary",
                    "India",
                    "Iran",
                    "Iraq",
                    "Ireland",
                    "Israel",
                    "Italy",
                    "Jamaica",
                    "Jordan",
                    "Kazakhstan",
                    "Kenya",
                    "Kuwait",
                    "Latvia",
                    "Lebanon",
                    "Lesotho",
                    "Libya",
                    "Liechtenstein",
                    "Lithuania",
                    "Luxembourg",
                    "Malaysia",
                    "Maldives",
                    "Malta",
                    "Mexico",
                    "Moldova",
                    "Monaco",
                    "Mongolia",
                    "Montenegro",
                    "Morocco",
                    "Namibia",
                    "Nepal",
                    "Netherlands",
                    "North Macedonia",
                    "Norway",
                    "Oman",
                    "Pakistan",
                    "Panama",
                    "Paraguay",
                    "Peru",
                    "Poland",
                    "Portugal",
                    "Qatar",
                    "Romania",
                    "Russia",
                    "Saint Lucia",
                    "Saint Vincent and the Grenadines",
                    "San Marino",
                    "Serbia",
                    "Seychelles",
                    "Slovakia",
                    "Slovenia",
                    "South Africa",
                    "Spain",
                    "Sri Lanka",
                    "Sudan",
                    "Suriname",
                    "Sweden",
                    "Switzerland",
                    "Thailand",
                    "Timor-Leste",
                    "Trinidad and Tobago",
                    "Tunisia",
                    "Turkey",
                    "US",
                    "Ukraine",
                    "United Arab Emirates",
                    "United Kingdom",
                    "Uruguay",
                    "Venezuela"
                  ],
                  "locationmode": "country names",
                  "locations": [
                    "Albania",
                    "Algeria",
                    "Andorra",
                    "Antigua and Barbuda",
                    "Argentina",
                    "Armenia",
                    "Austria",
                    "Azerbaijan",
                    "Bahamas",
                    "Bahrain",
                    "Belgium",
                    "Belize",
                    "Benin",
                    "Bolivia",
                    "Bosnia and Herzegovina",
                    "Botswana",
                    "Brazil",
                    "Bulgaria",
                    "Burma",
                    "Cameroon",
                    "Canada",
                    "Chile",
                    "Colombia",
                    "Costa Rica",
                    "Croatia",
                    "Cyprus",
                    "Czechia",
                    "Denmark",
                    "Djibouti",
                    "Dominican Republic",
                    "Ecuador",
                    "El Salvador",
                    "Estonia",
                    "Finland",
                    "France",
                    "Gabon",
                    "Georgia",
                    "Germany",
                    "Greece",
                    "Guatemala",
                    "Guyana",
                    "Honduras",
                    "Hungary",
                    "India",
                    "Iran",
                    "Iraq",
                    "Ireland",
                    "Israel",
                    "Italy",
                    "Jamaica",
                    "Jordan",
                    "Kazakhstan",
                    "Kenya",
                    "Kuwait",
                    "Latvia",
                    "Lebanon",
                    "Lesotho",
                    "Libya",
                    "Liechtenstein",
                    "Lithuania",
                    "Luxembourg",
                    "Malaysia",
                    "Maldives",
                    "Malta",
                    "Mexico",
                    "Moldova",
                    "Monaco",
                    "Mongolia",
                    "Montenegro",
                    "Morocco",
                    "Namibia",
                    "Nepal",
                    "Netherlands",
                    "North Macedonia",
                    "Norway",
                    "Oman",
                    "Pakistan",
                    "Panama",
                    "Paraguay",
                    "Peru",
                    "Poland",
                    "Portugal",
                    "Qatar",
                    "Romania",
                    "Russia",
                    "Saint Lucia",
                    "Saint Vincent and the Grenadines",
                    "San Marino",
                    "Serbia",
                    "Seychelles",
                    "Slovakia",
                    "Slovenia",
                    "South Africa",
                    "Spain",
                    "Sri Lanka",
                    "Sudan",
                    "Suriname",
                    "Sweden",
                    "Switzerland",
                    "Thailand",
                    "Timor-Leste",
                    "Trinidad and Tobago",
                    "Tunisia",
                    "Turkey",
                    "US",
                    "Ukraine",
                    "United Arab Emirates",
                    "United Kingdom",
                    "Uruguay",
                    "Venezuela"
                  ],
                  "name": "",
                  "type": "choropleth",
                  "z": [
                    132297,
                    128456,
                    13693,
                    1259,
                    3732263,
                    222555,
                    644207,
                    333723,
                    11745,
                    235698,
                    1059763,
                    12791,
                    8058,
                    366714,
                    203839,
                    53771,
                    16471600,
                    418221,
                    143526,
                    78929,
                    1384373,
                    1369597,
                    3363061,
                    314102,
                    355955,
                    72363,
                    1660935,
                    280183,
                    11523,
                    290526,
                    424741,
                    73246,
                    129424,
                    92244,
                    5719877,
                    24365,
                    342880,
                    3684672,
                    400395,
                    253837,
                    16822,
                    236952,
                    804032,
                    27894800,
                    2893218,
                    1193608,
                    254870,
                    839453,
                    4213055,
                    48374,
                    734659,
                    438715,
                    170485,
                    306717,
                    132918,
                    540132,
                    10825,
                    184815,
                    3008,
                    273866,
                    69830,
                    558534,
                    62906,
                    30529,
                    2411503,
                    255105,
                    2503,
                    56621,
                    99566,
                    518868,
                    54659,
                    553422,
                    1671967,
                    155246,
                    124655,
                    213784,
                    918936,
                    377428,
                    350613,
                    1947555,
                    2871371,
                    848213,
                    217041,
                    1077426,
                    4995613,
                    5035,
                    2027,
                    5089,
                    712046,
                    11145,
                    389440,
                    253493,
                    1659070,
                    3668658,
                    180593,
                    35289,
                    14515,
                    1068473,
                    693023,
                    151842,
                    6752,
                    23001,
                    343374,
                    5235978,
                    33251939,
                    2257904,
                    567263,
                    4496823,
                    288172,
                    231443
                  ]
                }
              ],
              "layout": {
                "coloraxis": {
                  "colorbar": {
                    "title": {
                      "text": "Number of confirmed cases"
                    }
                  },
                  "colorscale": [
                    [
                      0,
                      "#0d0887"
                    ],
                    [
                      0.1111111111111111,
                      "#46039f"
                    ],
                    [
                      0.2222222222222222,
                      "#7201a8"
                    ],
                    [
                      0.3333333333333333,
                      "#9c179e"
                    ],
                    [
                      0.4444444444444444,
                      "#bd3786"
                    ],
                    [
                      0.5555555555555556,
                      "#d8576b"
                    ],
                    [
                      0.6666666666666666,
                      "#ed7953"
                    ],
                    [
                      0.7777777777777778,
                      "#fb9f3a"
                    ],
                    [
                      0.8888888888888888,
                      "#fdca26"
                    ],
                    [
                      1,
                      "#f0f921"
                    ]
                  ]
                },
                "geo": {
                  "center": {},
                  "domain": {
                    "x": [
                      0,
                      1
                    ],
                    "y": [
                      0,
                      1
                    ]
                  }
                },
                "legend": {
                  "tracegroupgap": 0
                },
                "margin": {
                  "t": 60
                },
                "template": {
                  "data": {
                    "bar": [
                      {
                        "error_x": {
                          "color": "#2a3f5f"
                        },
                        "error_y": {
                          "color": "#2a3f5f"
                        },
                        "marker": {
                          "line": {
                            "color": "white",
                            "width": 0.5
                          }
                        },
                        "type": "bar"
                      }
                    ],
                    "barpolar": [
                      {
                        "marker": {
                          "line": {
                            "color": "white",
                            "width": 0.5
                          }
                        },
                        "type": "barpolar"
                      }
                    ],
                    "carpet": [
                      {
                        "aaxis": {
                          "endlinecolor": "#2a3f5f",
                          "gridcolor": "#C8D4E3",
                          "linecolor": "#C8D4E3",
                          "minorgridcolor": "#C8D4E3",
                          "startlinecolor": "#2a3f5f"
                        },
                        "baxis": {
                          "endlinecolor": "#2a3f5f",
                          "gridcolor": "#C8D4E3",
                          "linecolor": "#C8D4E3",
                          "minorgridcolor": "#C8D4E3",
                          "startlinecolor": "#2a3f5f"
                        },
                        "type": "carpet"
                      }
                    ],
                    "choropleth": [
                      {
                        "colorbar": {
                          "outlinewidth": 0,
                          "ticks": ""
                        },
                        "type": "choropleth"
                      }
                    ],
                    "contour": [
                      {
                        "colorbar": {
                          "outlinewidth": 0,
                          "ticks": ""
                        },
                        "colorscale": [
                          [
                            0,
                            "#0d0887"
                          ],
                          [
                            0.1111111111111111,
                            "#46039f"
                          ],
                          [
                            0.2222222222222222,
                            "#7201a8"
                          ],
                          [
                            0.3333333333333333,
                            "#9c179e"
                          ],
                          [
                            0.4444444444444444,
                            "#bd3786"
                          ],
                          [
                            0.5555555555555556,
                            "#d8576b"
                          ],
                          [
                            0.6666666666666666,
                            "#ed7953"
                          ],
                          [
                            0.7777777777777778,
                            "#fb9f3a"
                          ],
                          [
                            0.8888888888888888,
                            "#fdca26"
                          ],
                          [
                            1,
                            "#f0f921"
                          ]
                        ],
                        "type": "contour"
                      }
                    ],
                    "contourcarpet": [
                      {
                        "colorbar": {
                          "outlinewidth": 0,
                          "ticks": ""
                        },
                        "type": "contourcarpet"
                      }
                    ],
                    "heatmap": [
                      {
                        "colorbar": {
                          "outlinewidth": 0,
                          "ticks": ""
                        },
                        "colorscale": [
                          [
                            0,
                            "#0d0887"
                          ],
                          [
                            0.1111111111111111,
                            "#46039f"
                          ],
                          [
                            0.2222222222222222,
                            "#7201a8"
                          ],
                          [
                            0.3333333333333333,
                            "#9c179e"
                          ],
                          [
                            0.4444444444444444,
                            "#bd3786"
                          ],
                          [
                            0.5555555555555556,
                            "#d8576b"
                          ],
                          [
                            0.6666666666666666,
                            "#ed7953"
                          ],
                          [
                            0.7777777777777778,
                            "#fb9f3a"
                          ],
                          [
                            0.8888888888888888,
                            "#fdca26"
                          ],
                          [
                            1,
                            "#f0f921"
                          ]
                        ],
                        "type": "heatmap"
                      }
                    ],
                    "heatmapgl": [
                      {
                        "colorbar": {
                          "outlinewidth": 0,
                          "ticks": ""
                        },
                        "colorscale": [
                          [
                            0,
                            "#0d0887"
                          ],
                          [
                            0.1111111111111111,
                            "#46039f"
                          ],
                          [
                            0.2222222222222222,
                            "#7201a8"
                          ],
                          [
                            0.3333333333333333,
                            "#9c179e"
                          ],
                          [
                            0.4444444444444444,
                            "#bd3786"
                          ],
                          [
                            0.5555555555555556,
                            "#d8576b"
                          ],
                          [
                            0.6666666666666666,
                            "#ed7953"
                          ],
                          [
                            0.7777777777777778,
                            "#fb9f3a"
                          ],
                          [
                            0.8888888888888888,
                            "#fdca26"
                          ],
                          [
                            1,
                            "#f0f921"
                          ]
                        ],
                        "type": "heatmapgl"
                      }
                    ],
                    "histogram": [
                      {
                        "marker": {
                          "colorbar": {
                            "outlinewidth": 0,
                            "ticks": ""
                          }
                        },
                        "type": "histogram"
                      }
                    ],
                    "histogram2d": [
                      {
                        "colorbar": {
                          "outlinewidth": 0,
                          "ticks": ""
                        },
                        "colorscale": [
                          [
                            0,
                            "#0d0887"
                          ],
                          [
                            0.1111111111111111,
                            "#46039f"
                          ],
                          [
                            0.2222222222222222,
                            "#7201a8"
                          ],
                          [
                            0.3333333333333333,
                            "#9c179e"
                          ],
                          [
                            0.4444444444444444,
                            "#bd3786"
                          ],
                          [
                            0.5555555555555556,
                            "#d8576b"
                          ],
                          [
                            0.6666666666666666,
                            "#ed7953"
                          ],
                          [
                            0.7777777777777778,
                            "#fb9f3a"
                          ],
                          [
                            0.8888888888888888,
                            "#fdca26"
                          ],
                          [
                            1,
                            "#f0f921"
                          ]
                        ],
                        "type": "histogram2d"
                      }
                    ],
                    "histogram2dcontour": [
                      {
                        "colorbar": {
                          "outlinewidth": 0,
                          "ticks": ""
                        },
                        "colorscale": [
                          [
                            0,
                            "#0d0887"
                          ],
                          [
                            0.1111111111111111,
                            "#46039f"
                          ],
                          [
                            0.2222222222222222,
                            "#7201a8"
                          ],
                          [
                            0.3333333333333333,
                            "#9c179e"
                          ],
                          [
                            0.4444444444444444,
                            "#bd3786"
                          ],
                          [
                            0.5555555555555556,
                            "#d8576b"
                          ],
                          [
                            0.6666666666666666,
                            "#ed7953"
                          ],
                          [
                            0.7777777777777778,
                            "#fb9f3a"
                          ],
                          [
                            0.8888888888888888,
                            "#fdca26"
                          ],
                          [
                            1,
                            "#f0f921"
                          ]
                        ],
                        "type": "histogram2dcontour"
                      }
                    ],
                    "mesh3d": [
                      {
                        "colorbar": {
                          "outlinewidth": 0,
                          "ticks": ""
                        },
                        "type": "mesh3d"
                      }
                    ],
                    "parcoords": [
                      {
                        "line": {
                          "colorbar": {
                            "outlinewidth": 0,
                            "ticks": ""
                          }
                        },
                        "type": "parcoords"
                      }
                    ],
                    "pie": [
                      {
                        "automargin": true,
                        "type": "pie"
                      }
                    ],
                    "scatter": [
                      {
                        "marker": {
                          "colorbar": {
                            "outlinewidth": 0,
                            "ticks": ""
                          }
                        },
                        "type": "scatter"
                      }
                    ],
                    "scatter3d": [
                      {
                        "line": {
                          "colorbar": {
                            "outlinewidth": 0,
                            "ticks": ""
                          }
                        },
                        "marker": {
                          "colorbar": {
                            "outlinewidth": 0,
                            "ticks": ""
                          }
                        },
                        "type": "scatter3d"
                      }
                    ],
                    "scattercarpet": [
                      {
                        "marker": {
                          "colorbar": {
                            "outlinewidth": 0,
                            "ticks": ""
                          }
                        },
                        "type": "scattercarpet"
                      }
                    ],
                    "scattergeo": [
                      {
                        "marker": {
                          "colorbar": {
                            "outlinewidth": 0,
                            "ticks": ""
                          }
                        },
                        "type": "scattergeo"
                      }
                    ],
                    "scattergl": [
                      {
                        "marker": {
                          "colorbar": {
                            "outlinewidth": 0,
                            "ticks": ""
                          }
                        },
                        "type": "scattergl"
                      }
                    ],
                    "scattermapbox": [
                      {
                        "marker": {
                          "colorbar": {
                            "outlinewidth": 0,
                            "ticks": ""
                          }
                        },
                        "type": "scattermapbox"
                      }
                    ],
                    "scatterpolar": [
                      {
                        "marker": {
                          "colorbar": {
                            "outlinewidth": 0,
                            "ticks": ""
                          }
                        },
                        "type": "scatterpolar"
                      }
                    ],
                    "scatterpolargl": [
                      {
                        "marker": {
                          "colorbar": {
                            "outlinewidth": 0,
                            "ticks": ""
                          }
                        },
                        "type": "scatterpolargl"
                      }
                    ],
                    "scatterternary": [
                      {
                        "marker": {
                          "colorbar": {
                            "outlinewidth": 0,
                            "ticks": ""
                          }
                        },
                        "type": "scatterternary"
                      }
                    ],
                    "surface": [
                      {
                        "colorbar": {
                          "outlinewidth": 0,
                          "ticks": ""
                        },
                        "colorscale": [
                          [
                            0,
                            "#0d0887"
                          ],
                          [
                            0.1111111111111111,
                            "#46039f"
                          ],
                          [
                            0.2222222222222222,
                            "#7201a8"
                          ],
                          [
                            0.3333333333333333,
                            "#9c179e"
                          ],
                          [
                            0.4444444444444444,
                            "#bd3786"
                          ],
                          [
                            0.5555555555555556,
                            "#d8576b"
                          ],
                          [
                            0.6666666666666666,
                            "#ed7953"
                          ],
                          [
                            0.7777777777777778,
                            "#fb9f3a"
                          ],
                          [
                            0.8888888888888888,
                            "#fdca26"
                          ],
                          [
                            1,
                            "#f0f921"
                          ]
                        ],
                        "type": "surface"
                      }
                    ],
                    "table": [
                      {
                        "cells": {
                          "fill": {
                            "color": "#EBF0F8"
                          },
                          "line": {
                            "color": "white"
                          }
                        },
                        "header": {
                          "fill": {
                            "color": "#C8D4E3"
                          },
                          "line": {
                            "color": "white"
                          }
                        },
                        "type": "table"
                      }
                    ]
                  },
                  "layout": {
                    "annotationdefaults": {
                      "arrowcolor": "#2a3f5f",
                      "arrowhead": 0,
                      "arrowwidth": 1
                    },
                    "autotypenumbers": "strict",
                    "coloraxis": {
                      "colorbar": {
                        "outlinewidth": 0,
                        "ticks": ""
                      }
                    },
                    "colorscale": {
                      "diverging": [
                        [
                          0,
                          "#8e0152"
                        ],
                        [
                          0.1,
                          "#c51b7d"
                        ],
                        [
                          0.2,
                          "#de77ae"
                        ],
                        [
                          0.3,
                          "#f1b6da"
                        ],
                        [
                          0.4,
                          "#fde0ef"
                        ],
                        [
                          0.5,
                          "#f7f7f7"
                        ],
                        [
                          0.6,
                          "#e6f5d0"
                        ],
                        [
                          0.7,
                          "#b8e186"
                        ],
                        [
                          0.8,
                          "#7fbc41"
                        ],
                        [
                          0.9,
                          "#4d9221"
                        ],
                        [
                          1,
                          "#276419"
                        ]
                      ],
                      "sequential": [
                        [
                          0,
                          "#0d0887"
                        ],
                        [
                          0.1111111111111111,
                          "#46039f"
                        ],
                        [
                          0.2222222222222222,
                          "#7201a8"
                        ],
                        [
                          0.3333333333333333,
                          "#9c179e"
                        ],
                        [
                          0.4444444444444444,
                          "#bd3786"
                        ],
                        [
                          0.5555555555555556,
                          "#d8576b"
                        ],
                        [
                          0.6666666666666666,
                          "#ed7953"
                        ],
                        [
                          0.7777777777777778,
                          "#fb9f3a"
                        ],
                        [
                          0.8888888888888888,
                          "#fdca26"
                        ],
                        [
                          1,
                          "#f0f921"
                        ]
                      ],
                      "sequentialminus": [
                        [
                          0,
                          "#0d0887"
                        ],
                        [
                          0.1111111111111111,
                          "#46039f"
                        ],
                        [
                          0.2222222222222222,
                          "#7201a8"
                        ],
                        [
                          0.3333333333333333,
                          "#9c179e"
                        ],
                        [
                          0.4444444444444444,
                          "#bd3786"
                        ],
                        [
                          0.5555555555555556,
                          "#d8576b"
                        ],
                        [
                          0.6666666666666666,
                          "#ed7953"
                        ],
                        [
                          0.7777777777777778,
                          "#fb9f3a"
                        ],
                        [
                          0.8888888888888888,
                          "#fdca26"
                        ],
                        [
                          1,
                          "#f0f921"
                        ]
                      ]
                    },
                    "colorway": [
                      "#636efa",
                      "#EF553B",
                      "#00cc96",
                      "#ab63fa",
                      "#FFA15A",
                      "#19d3f3",
                      "#FF6692",
                      "#B6E880",
                      "#FF97FF",
                      "#FECB52"
                    ],
                    "font": {
                      "color": "#2a3f5f"
                    },
                    "geo": {
                      "bgcolor": "white",
                      "lakecolor": "white",
                      "landcolor": "white",
                      "showlakes": true,
                      "showland": true,
                      "subunitcolor": "#C8D4E3"
                    },
                    "hoverlabel": {
                      "align": "left"
                    },
                    "hovermode": "closest",
                    "mapbox": {
                      "style": "light"
                    },
                    "paper_bgcolor": "white",
                    "plot_bgcolor": "white",
                    "polar": {
                      "angularaxis": {
                        "gridcolor": "#EBF0F8",
                        "linecolor": "#EBF0F8",
                        "ticks": ""
                      },
                      "bgcolor": "white",
                      "radialaxis": {
                        "gridcolor": "#EBF0F8",
                        "linecolor": "#EBF0F8",
                        "ticks": ""
                      }
                    },
                    "scene": {
                      "xaxis": {
                        "backgroundcolor": "white",
                        "gridcolor": "#DFE8F3",
                        "gridwidth": 2,
                        "linecolor": "#EBF0F8",
                        "showbackground": true,
                        "ticks": "",
                        "zerolinecolor": "#EBF0F8"
                      },
                      "yaxis": {
                        "backgroundcolor": "white",
                        "gridcolor": "#DFE8F3",
                        "gridwidth": 2,
                        "linecolor": "#EBF0F8",
                        "showbackground": true,
                        "ticks": "",
                        "zerolinecolor": "#EBF0F8"
                      },
                      "zaxis": {
                        "backgroundcolor": "white",
                        "gridcolor": "#DFE8F3",
                        "gridwidth": 2,
                        "linecolor": "#EBF0F8",
                        "showbackground": true,
                        "ticks": "",
                        "zerolinecolor": "#EBF0F8"
                      }
                    },
                    "shapedefaults": {
                      "line": {
                        "color": "#2a3f5f"
                      }
                    },
                    "ternary": {
                      "aaxis": {
                        "gridcolor": "#DFE8F3",
                        "linecolor": "#A2B1C6",
                        "ticks": ""
                      },
                      "baxis": {
                        "gridcolor": "#DFE8F3",
                        "linecolor": "#A2B1C6",
                        "ticks": ""
                      },
                      "bgcolor": "white",
                      "caxis": {
                        "gridcolor": "#DFE8F3",
                        "linecolor": "#A2B1C6",
                        "ticks": ""
                      }
                    },
                    "title": {
                      "x": 0.05
                    },
                    "xaxis": {
                      "automargin": true,
                      "gridcolor": "#EBF0F8",
                      "linecolor": "#EBF0F8",
                      "ticks": "",
                      "title": {
                        "standoff": 15
                      },
                      "zerolinecolor": "#EBF0F8",
                      "zerolinewidth": 2
                    },
                    "yaxis": {
                      "automargin": true,
                      "gridcolor": "#EBF0F8",
                      "linecolor": "#EBF0F8",
                      "ticks": "",
                      "title": {
                        "standoff": 15
                      },
                      "zerolinecolor": "#EBF0F8",
                      "zerolinewidth": 2
                    }
                  }
                },
                "title": {
                  "text": "Very Vulnerable Country"
                }
              }
            },
            "text/html": "<div>                            <div id=\"8ed3a0f2-ab67-4476-a749-3e530ad510b3\" class=\"plotly-graph-div\" style=\"height:525px; width:100%;\"></div>            <script type=\"text/javascript\">                require([\"plotly\"], function(Plotly) {                    window.PLOTLYENV=window.PLOTLYENV || {};                                    if (document.getElementById(\"8ed3a0f2-ab67-4476-a749-3e530ad510b3\")) {                    Plotly.newPlot(                        \"8ed3a0f2-ab67-4476-a749-3e530ad510b3\",                        [{\"coloraxis\": \"coloraxis\", \"geo\": \"geo\", \"hovertemplate\": \"<b>%{hovertext}</b><br><br>locations=%{location}<br>color=%{z}<extra></extra>\", \"hovertext\": [\"Albania\", \"Algeria\", \"Andorra\", \"Antigua and Barbuda\", \"Argentina\", \"Armenia\", \"Austria\", \"Azerbaijan\", \"Bahamas\", \"Bahrain\", \"Belgium\", \"Belize\", \"Benin\", \"Bolivia\", \"Bosnia and Herzegovina\", \"Botswana\", \"Brazil\", \"Bulgaria\", \"Burma\", \"Cameroon\", \"Canada\", \"Chile\", \"Colombia\", \"Costa Rica\", \"Croatia\", \"Cyprus\", \"Czechia\", \"Denmark\", \"Djibouti\", \"Dominican Republic\", \"Ecuador\", \"El Salvador\", \"Estonia\", \"Finland\", \"France\", \"Gabon\", \"Georgia\", \"Germany\", \"Greece\", \"Guatemala\", \"Guyana\", \"Honduras\", \"Hungary\", \"India\", \"Iran\", \"Iraq\", \"Ireland\", \"Israel\", \"Italy\", \"Jamaica\", \"Jordan\", \"Kazakhstan\", \"Kenya\", \"Kuwait\", \"Latvia\", \"Lebanon\", \"Lesotho\", \"Libya\", \"Liechtenstein\", \"Lithuania\", \"Luxembourg\", \"Malaysia\", \"Maldives\", \"Malta\", \"Mexico\", \"Moldova\", \"Monaco\", \"Mongolia\", \"Montenegro\", \"Morocco\", \"Namibia\", \"Nepal\", \"Netherlands\", \"North Macedonia\", \"Norway\", \"Oman\", \"Pakistan\", \"Panama\", \"Paraguay\", \"Peru\", \"Poland\", \"Portugal\", \"Qatar\", \"Romania\", \"Russia\", \"Saint Lucia\", \"Saint Vincent and the Grenadines\", \"San Marino\", \"Serbia\", \"Seychelles\", \"Slovakia\", \"Slovenia\", \"South Africa\", \"Spain\", \"Sri Lanka\", \"Sudan\", \"Suriname\", \"Sweden\", \"Switzerland\", \"Thailand\", \"Timor-Leste\", \"Trinidad and Tobago\", \"Tunisia\", \"Turkey\", \"US\", \"Ukraine\", \"United Arab Emirates\", \"United Kingdom\", \"Uruguay\", \"Venezuela\"], \"locationmode\": \"country names\", \"locations\": [\"Albania\", \"Algeria\", \"Andorra\", \"Antigua and Barbuda\", \"Argentina\", \"Armenia\", \"Austria\", \"Azerbaijan\", \"Bahamas\", \"Bahrain\", \"Belgium\", \"Belize\", \"Benin\", \"Bolivia\", \"Bosnia and Herzegovina\", \"Botswana\", \"Brazil\", \"Bulgaria\", \"Burma\", \"Cameroon\", \"Canada\", \"Chile\", \"Colombia\", \"Costa Rica\", \"Croatia\", \"Cyprus\", \"Czechia\", \"Denmark\", \"Djibouti\", \"Dominican Republic\", \"Ecuador\", \"El Salvador\", \"Estonia\", \"Finland\", \"France\", \"Gabon\", \"Georgia\", \"Germany\", \"Greece\", \"Guatemala\", \"Guyana\", \"Honduras\", \"Hungary\", \"India\", \"Iran\", \"Iraq\", \"Ireland\", \"Israel\", \"Italy\", \"Jamaica\", \"Jordan\", \"Kazakhstan\", \"Kenya\", \"Kuwait\", \"Latvia\", \"Lebanon\", \"Lesotho\", \"Libya\", \"Liechtenstein\", \"Lithuania\", \"Luxembourg\", \"Malaysia\", \"Maldives\", \"Malta\", \"Mexico\", \"Moldova\", \"Monaco\", \"Mongolia\", \"Montenegro\", \"Morocco\", \"Namibia\", \"Nepal\", \"Netherlands\", \"North Macedonia\", \"Norway\", \"Oman\", \"Pakistan\", \"Panama\", \"Paraguay\", \"Peru\", \"Poland\", \"Portugal\", \"Qatar\", \"Romania\", \"Russia\", \"Saint Lucia\", \"Saint Vincent and the Grenadines\", \"San Marino\", \"Serbia\", \"Seychelles\", \"Slovakia\", \"Slovenia\", \"South Africa\", \"Spain\", \"Sri Lanka\", \"Sudan\", \"Suriname\", \"Sweden\", \"Switzerland\", \"Thailand\", \"Timor-Leste\", \"Trinidad and Tobago\", \"Tunisia\", \"Turkey\", \"US\", \"Ukraine\", \"United Arab Emirates\", \"United Kingdom\", \"Uruguay\", \"Venezuela\"], \"name\": \"\", \"type\": \"choropleth\", \"z\": [132297, 128456, 13693, 1259, 3732263, 222555, 644207, 333723, 11745, 235698, 1059763, 12791, 8058, 366714, 203839, 53771, 16471600, 418221, 143526, 78929, 1384373, 1369597, 3363061, 314102, 355955, 72363, 1660935, 280183, 11523, 290526, 424741, 73246, 129424, 92244, 5719877, 24365, 342880, 3684672, 400395, 253837, 16822, 236952, 804032, 27894800, 2893218, 1193608, 254870, 839453, 4213055, 48374, 734659, 438715, 170485, 306717, 132918, 540132, 10825, 184815, 3008, 273866, 69830, 558534, 62906, 30529, 2411503, 255105, 2503, 56621, 99566, 518868, 54659, 553422, 1671967, 155246, 124655, 213784, 918936, 377428, 350613, 1947555, 2871371, 848213, 217041, 1077426, 4995613, 5035, 2027, 5089, 712046, 11145, 389440, 253493, 1659070, 3668658, 180593, 35289, 14515, 1068473, 693023, 151842, 6752, 23001, 343374, 5235978, 33251939, 2257904, 567263, 4496823, 288172, 231443]}],                        {\"coloraxis\": {\"colorbar\": {\"title\": {\"text\": \"Number of confirmed cases\"}}, \"colorscale\": [[0.0, \"#0d0887\"], [0.1111111111111111, \"#46039f\"], [0.2222222222222222, \"#7201a8\"], [0.3333333333333333, \"#9c179e\"], [0.4444444444444444, \"#bd3786\"], [0.5555555555555556, \"#d8576b\"], [0.6666666666666666, \"#ed7953\"], [0.7777777777777778, \"#fb9f3a\"], [0.8888888888888888, \"#fdca26\"], [1.0, \"#f0f921\"]]}, \"geo\": {\"center\": {}, \"domain\": {\"x\": [0.0, 1.0], \"y\": [0.0, 1.0]}}, \"legend\": {\"tracegroupgap\": 0}, \"margin\": {\"t\": 60}, \"template\": {\"data\": {\"bar\": [{\"error_x\": {\"color\": \"#2a3f5f\"}, \"error_y\": {\"color\": \"#2a3f5f\"}, \"marker\": {\"line\": {\"color\": \"white\", \"width\": 0.5}}, \"type\": \"bar\"}], \"barpolar\": [{\"marker\": {\"line\": {\"color\": \"white\", \"width\": 0.5}}, \"type\": \"barpolar\"}], \"carpet\": [{\"aaxis\": {\"endlinecolor\": \"#2a3f5f\", \"gridcolor\": \"#C8D4E3\", \"linecolor\": \"#C8D4E3\", \"minorgridcolor\": \"#C8D4E3\", \"startlinecolor\": \"#2a3f5f\"}, \"baxis\": {\"endlinecolor\": \"#2a3f5f\", \"gridcolor\": \"#C8D4E3\", \"linecolor\": \"#C8D4E3\", \"minorgridcolor\": \"#C8D4E3\", \"startlinecolor\": \"#2a3f5f\"}, \"type\": \"carpet\"}], \"choropleth\": [{\"colorbar\": {\"outlinewidth\": 0, \"ticks\": \"\"}, \"type\": \"choropleth\"}], \"contour\": [{\"colorbar\": {\"outlinewidth\": 0, \"ticks\": \"\"}, \"colorscale\": [[0.0, \"#0d0887\"], [0.1111111111111111, \"#46039f\"], [0.2222222222222222, \"#7201a8\"], [0.3333333333333333, \"#9c179e\"], [0.4444444444444444, \"#bd3786\"], [0.5555555555555556, \"#d8576b\"], [0.6666666666666666, \"#ed7953\"], [0.7777777777777778, \"#fb9f3a\"], [0.8888888888888888, \"#fdca26\"], [1.0, \"#f0f921\"]], \"type\": \"contour\"}], \"contourcarpet\": [{\"colorbar\": {\"outlinewidth\": 0, \"ticks\": \"\"}, \"type\": \"contourcarpet\"}], \"heatmap\": [{\"colorbar\": {\"outlinewidth\": 0, \"ticks\": \"\"}, \"colorscale\": [[0.0, \"#0d0887\"], [0.1111111111111111, \"#46039f\"], [0.2222222222222222, \"#7201a8\"], [0.3333333333333333, \"#9c179e\"], [0.4444444444444444, \"#bd3786\"], [0.5555555555555556, \"#d8576b\"], [0.6666666666666666, \"#ed7953\"], [0.7777777777777778, \"#fb9f3a\"], [0.8888888888888888, \"#fdca26\"], [1.0, \"#f0f921\"]], \"type\": \"heatmap\"}], \"heatmapgl\": [{\"colorbar\": {\"outlinewidth\": 0, \"ticks\": \"\"}, \"colorscale\": [[0.0, \"#0d0887\"], [0.1111111111111111, \"#46039f\"], [0.2222222222222222, \"#7201a8\"], [0.3333333333333333, \"#9c179e\"], [0.4444444444444444, \"#bd3786\"], [0.5555555555555556, \"#d8576b\"], [0.6666666666666666, \"#ed7953\"], [0.7777777777777778, \"#fb9f3a\"], [0.8888888888888888, \"#fdca26\"], [1.0, \"#f0f921\"]], \"type\": \"heatmapgl\"}], \"histogram\": [{\"marker\": {\"colorbar\": {\"outlinewidth\": 0, \"ticks\": \"\"}}, \"type\": \"histogram\"}], \"histogram2d\": [{\"colorbar\": {\"outlinewidth\": 0, \"ticks\": \"\"}, \"colorscale\": [[0.0, \"#0d0887\"], [0.1111111111111111, \"#46039f\"], [0.2222222222222222, \"#7201a8\"], [0.3333333333333333, \"#9c179e\"], [0.4444444444444444, \"#bd3786\"], [0.5555555555555556, \"#d8576b\"], [0.6666666666666666, \"#ed7953\"], [0.7777777777777778, \"#fb9f3a\"], [0.8888888888888888, \"#fdca26\"], [1.0, \"#f0f921\"]], \"type\": \"histogram2d\"}], \"histogram2dcontour\": [{\"colorbar\": {\"outlinewidth\": 0, \"ticks\": \"\"}, \"colorscale\": [[0.0, \"#0d0887\"], [0.1111111111111111, \"#46039f\"], [0.2222222222222222, \"#7201a8\"], [0.3333333333333333, \"#9c179e\"], [0.4444444444444444, \"#bd3786\"], [0.5555555555555556, \"#d8576b\"], [0.6666666666666666, \"#ed7953\"], [0.7777777777777778, \"#fb9f3a\"], [0.8888888888888888, \"#fdca26\"], [1.0, \"#f0f921\"]], \"type\": \"histogram2dcontour\"}], \"mesh3d\": [{\"colorbar\": {\"outlinewidth\": 0, \"ticks\": \"\"}, \"type\": \"mesh3d\"}], \"parcoords\": [{\"line\": {\"colorbar\": {\"outlinewidth\": 0, \"ticks\": \"\"}}, \"type\": \"parcoords\"}], \"pie\": [{\"automargin\": true, \"type\": \"pie\"}], \"scatter\": [{\"marker\": {\"colorbar\": {\"outlinewidth\": 0, \"ticks\": \"\"}}, \"type\": \"scatter\"}], \"scatter3d\": [{\"line\": {\"colorbar\": {\"outlinewidth\": 0, \"ticks\": \"\"}}, \"marker\": {\"colorbar\": {\"outlinewidth\": 0, \"ticks\": \"\"}}, \"type\": \"scatter3d\"}], \"scattercarpet\": [{\"marker\": {\"colorbar\": {\"outlinewidth\": 0, \"ticks\": \"\"}}, \"type\": \"scattercarpet\"}], \"scattergeo\": [{\"marker\": {\"colorbar\": {\"outlinewidth\": 0, \"ticks\": \"\"}}, \"type\": \"scattergeo\"}], \"scattergl\": [{\"marker\": {\"colorbar\": {\"outlinewidth\": 0, \"ticks\": \"\"}}, \"type\": \"scattergl\"}], \"scattermapbox\": [{\"marker\": {\"colorbar\": {\"outlinewidth\": 0, \"ticks\": \"\"}}, \"type\": \"scattermapbox\"}], \"scatterpolar\": [{\"marker\": {\"colorbar\": {\"outlinewidth\": 0, \"ticks\": \"\"}}, \"type\": \"scatterpolar\"}], \"scatterpolargl\": [{\"marker\": {\"colorbar\": {\"outlinewidth\": 0, \"ticks\": \"\"}}, \"type\": \"scatterpolargl\"}], \"scatterternary\": [{\"marker\": {\"colorbar\": {\"outlinewidth\": 0, \"ticks\": \"\"}}, \"type\": \"scatterternary\"}], \"surface\": [{\"colorbar\": {\"outlinewidth\": 0, \"ticks\": \"\"}, \"colorscale\": [[0.0, \"#0d0887\"], [0.1111111111111111, \"#46039f\"], [0.2222222222222222, \"#7201a8\"], [0.3333333333333333, \"#9c179e\"], [0.4444444444444444, \"#bd3786\"], [0.5555555555555556, \"#d8576b\"], [0.6666666666666666, \"#ed7953\"], [0.7777777777777778, \"#fb9f3a\"], [0.8888888888888888, \"#fdca26\"], [1.0, \"#f0f921\"]], \"type\": \"surface\"}], \"table\": [{\"cells\": {\"fill\": {\"color\": \"#EBF0F8\"}, \"line\": {\"color\": \"white\"}}, \"header\": {\"fill\": {\"color\": \"#C8D4E3\"}, \"line\": {\"color\": \"white\"}}, \"type\": \"table\"}]}, \"layout\": {\"annotationdefaults\": {\"arrowcolor\": \"#2a3f5f\", \"arrowhead\": 0, \"arrowwidth\": 1}, \"autotypenumbers\": \"strict\", \"coloraxis\": {\"colorbar\": {\"outlinewidth\": 0, \"ticks\": \"\"}}, \"colorscale\": {\"diverging\": [[0, \"#8e0152\"], [0.1, \"#c51b7d\"], [0.2, \"#de77ae\"], [0.3, \"#f1b6da\"], [0.4, \"#fde0ef\"], [0.5, \"#f7f7f7\"], [0.6, \"#e6f5d0\"], [0.7, \"#b8e186\"], [0.8, \"#7fbc41\"], [0.9, \"#4d9221\"], [1, \"#276419\"]], \"sequential\": [[0.0, \"#0d0887\"], [0.1111111111111111, \"#46039f\"], [0.2222222222222222, \"#7201a8\"], [0.3333333333333333, \"#9c179e\"], [0.4444444444444444, \"#bd3786\"], [0.5555555555555556, \"#d8576b\"], [0.6666666666666666, \"#ed7953\"], [0.7777777777777778, \"#fb9f3a\"], [0.8888888888888888, \"#fdca26\"], [1.0, \"#f0f921\"]], \"sequentialminus\": [[0.0, \"#0d0887\"], [0.1111111111111111, \"#46039f\"], [0.2222222222222222, \"#7201a8\"], [0.3333333333333333, \"#9c179e\"], [0.4444444444444444, \"#bd3786\"], [0.5555555555555556, \"#d8576b\"], [0.6666666666666666, \"#ed7953\"], [0.7777777777777778, \"#fb9f3a\"], [0.8888888888888888, \"#fdca26\"], [1.0, \"#f0f921\"]]}, \"colorway\": [\"#636efa\", \"#EF553B\", \"#00cc96\", \"#ab63fa\", \"#FFA15A\", \"#19d3f3\", \"#FF6692\", \"#B6E880\", \"#FF97FF\", \"#FECB52\"], \"font\": {\"color\": \"#2a3f5f\"}, \"geo\": {\"bgcolor\": \"white\", \"lakecolor\": \"white\", \"landcolor\": \"white\", \"showlakes\": true, \"showland\": true, \"subunitcolor\": \"#C8D4E3\"}, \"hoverlabel\": {\"align\": \"left\"}, \"hovermode\": \"closest\", \"mapbox\": {\"style\": \"light\"}, \"paper_bgcolor\": \"white\", \"plot_bgcolor\": \"white\", \"polar\": {\"angularaxis\": {\"gridcolor\": \"#EBF0F8\", \"linecolor\": \"#EBF0F8\", \"ticks\": \"\"}, \"bgcolor\": \"white\", \"radialaxis\": {\"gridcolor\": \"#EBF0F8\", \"linecolor\": \"#EBF0F8\", \"ticks\": \"\"}}, \"scene\": {\"xaxis\": {\"backgroundcolor\": \"white\", \"gridcolor\": \"#DFE8F3\", \"gridwidth\": 2, \"linecolor\": \"#EBF0F8\", \"showbackground\": true, \"ticks\": \"\", \"zerolinecolor\": \"#EBF0F8\"}, \"yaxis\": {\"backgroundcolor\": \"white\", \"gridcolor\": \"#DFE8F3\", \"gridwidth\": 2, \"linecolor\": \"#EBF0F8\", \"showbackground\": true, \"ticks\": \"\", \"zerolinecolor\": \"#EBF0F8\"}, \"zaxis\": {\"backgroundcolor\": \"white\", \"gridcolor\": \"#DFE8F3\", \"gridwidth\": 2, \"linecolor\": \"#EBF0F8\", \"showbackground\": true, \"ticks\": \"\", \"zerolinecolor\": \"#EBF0F8\"}}, \"shapedefaults\": {\"line\": {\"color\": \"#2a3f5f\"}}, \"ternary\": {\"aaxis\": {\"gridcolor\": \"#DFE8F3\", \"linecolor\": \"#A2B1C6\", \"ticks\": \"\"}, \"baxis\": {\"gridcolor\": \"#DFE8F3\", \"linecolor\": \"#A2B1C6\", \"ticks\": \"\"}, \"bgcolor\": \"white\", \"caxis\": {\"gridcolor\": \"#DFE8F3\", \"linecolor\": \"#A2B1C6\", \"ticks\": \"\"}}, \"title\": {\"x\": 0.05}, \"xaxis\": {\"automargin\": true, \"gridcolor\": \"#EBF0F8\", \"linecolor\": \"#EBF0F8\", \"ticks\": \"\", \"title\": {\"standoff\": 15}, \"zerolinecolor\": \"#EBF0F8\", \"zerolinewidth\": 2}, \"yaxis\": {\"automargin\": true, \"gridcolor\": \"#EBF0F8\", \"linecolor\": \"#EBF0F8\", \"ticks\": \"\", \"title\": {\"standoff\": 15}, \"zerolinecolor\": \"#EBF0F8\", \"zerolinewidth\": 2}}}, \"title\": {\"text\": \"Very Vulnerable Country\"}},                        {\"responsive\": true}                    ).then(function(){\n                            \nvar gd = document.getElementById('8ed3a0f2-ab67-4476-a749-3e530ad510b3');\nvar x = new MutationObserver(function (mutations, observer) {{\n        var display = window.getComputedStyle(gd).display;\n        if (!display || display === 'none') {{\n            console.log([gd, 'removed!']);\n            Plotly.purge(gd);\n            observer.disconnect();\n        }}\n}});\n\n// Listen for the removal of the full notebook cells\nvar notebookContainer = gd.closest('#notebook-container');\nif (notebookContainer) {{\n    x.observe(notebookContainer, {childList: true});\n}}\n\n// Listen for the clearing of the current output cell\nvar outputEl = gd.closest('.output');\nif (outputEl) {{\n    x.observe(outputEl, {childList: true});\n}}\n\n                        })                };                });            </script>        </div>"
          },
          "metadata": {}
        }
      ]
    },
    {
      "cell_type": "code",
      "execution_count": 23,
      "metadata": {},
      "outputs": [
        {
          "output_type": "execute_result",
          "data": {
            "text/plain": [
              "<pandas.io.formats.style.Styler at 0x7f1ac4feacd0>"
            ],
            "text/html": "<style  type=\"text/css\" >\n#T_ec8d2_row0_col2,#T_ec8d2_row0_col3,#T_ec8d2_row0_col4,#T_ec8d2_row0_col8,#T_ec8d2_row0_col9,#T_ec8d2_row1_col3,#T_ec8d2_row3_col9,#T_ec8d2_row4_col7,#T_ec8d2_row5_col2,#T_ec8d2_row5_col3,#T_ec8d2_row5_col7,#T_ec8d2_row6_col6,#T_ec8d2_row6_col7,#T_ec8d2_row6_col8,#T_ec8d2_row7_col6,#T_ec8d2_row9_col2,#T_ec8d2_row10_col7,#T_ec8d2_row11_col8,#T_ec8d2_row11_col9,#T_ec8d2_row12_col7,#T_ec8d2_row12_col8,#T_ec8d2_row14_col2,#T_ec8d2_row14_col4,#T_ec8d2_row14_col7,#T_ec8d2_row16_col7,#T_ec8d2_row17_col6,#T_ec8d2_row17_col7,#T_ec8d2_row18_col2,#T_ec8d2_row18_col3,#T_ec8d2_row18_col4,#T_ec8d2_row20_col8,#T_ec8d2_row21_col7,#T_ec8d2_row22_col5,#T_ec8d2_row22_col7,#T_ec8d2_row23_col3,#T_ec8d2_row23_col7,#T_ec8d2_row23_col8,#T_ec8d2_row24_col7,#T_ec8d2_row25_col7,#T_ec8d2_row26_col6,#T_ec8d2_row27_col3,#T_ec8d2_row27_col6,#T_ec8d2_row27_col7,#T_ec8d2_row29_col3,#T_ec8d2_row30_col8,#T_ec8d2_row31_col6,#T_ec8d2_row32_col4,#T_ec8d2_row32_col8,#T_ec8d2_row34_col7,#T_ec8d2_row36_col7,#T_ec8d2_row36_col8,#T_ec8d2_row37_col5,#T_ec8d2_row37_col8,#T_ec8d2_row38_col6,#T_ec8d2_row38_col8,#T_ec8d2_row39_col2,#T_ec8d2_row41_col2,#T_ec8d2_row41_col5,#T_ec8d2_row41_col6,#T_ec8d2_row41_col8,#T_ec8d2_row42_col6,#T_ec8d2_row42_col7,#T_ec8d2_row44_col8,#T_ec8d2_row46_col2,#T_ec8d2_row46_col5,#T_ec8d2_row46_col7,#T_ec8d2_row46_col8,#T_ec8d2_row47_col6,#T_ec8d2_row47_col8,#T_ec8d2_row47_col9,#T_ec8d2_row48_col7,#T_ec8d2_row50_col6,#T_ec8d2_row50_col7,#T_ec8d2_row50_col8,#T_ec8d2_row51_col3,#T_ec8d2_row52_col2,#T_ec8d2_row52_col3,#T_ec8d2_row52_col4,#T_ec8d2_row53_col7,#T_ec8d2_row54_col2,#T_ec8d2_row54_col3,#T_ec8d2_row54_col4,#T_ec8d2_row54_col7,#T_ec8d2_row55_col6,#T_ec8d2_row55_col7,#T_ec8d2_row55_col8,#T_ec8d2_row57_col2,#T_ec8d2_row57_col3,#T_ec8d2_row57_col4,#T_ec8d2_row57_col6,#T_ec8d2_row58_col7,#T_ec8d2_row59_col3,#T_ec8d2_row61_col3,#T_ec8d2_row63_col7,#T_ec8d2_row63_col8,#T_ec8d2_row63_col9,#T_ec8d2_row65_col2,#T_ec8d2_row65_col7,#T_ec8d2_row66_col7,#T_ec8d2_row66_col8,#T_ec8d2_row66_col9,#T_ec8d2_row67_col8,#T_ec8d2_row71_col5,#T_ec8d2_row72_col8,#T_ec8d2_row73_col2,#T_ec8d2_row73_col4,#T_ec8d2_row73_col7,#T_ec8d2_row74_col6,#T_ec8d2_row75_col2,#T_ec8d2_row75_col4,#T_ec8d2_row76_col8,#T_ec8d2_row77_col7,#T_ec8d2_row78_col6,#T_ec8d2_row78_col7,#T_ec8d2_row79_col7,#T_ec8d2_row80_col5,#T_ec8d2_row80_col7,#T_ec8d2_row81_col6,#T_ec8d2_row81_col7,#T_ec8d2_row82_col2,#T_ec8d2_row82_col7,#T_ec8d2_row83_col7,#T_ec8d2_row84_col8,#T_ec8d2_row86_col8,#T_ec8d2_row87_col9,#T_ec8d2_row88_col6,#T_ec8d2_row88_col7,#T_ec8d2_row88_col8,#T_ec8d2_row90_col5,#T_ec8d2_row90_col6,#T_ec8d2_row90_col7,#T_ec8d2_row91_col2,#T_ec8d2_row91_col3,#T_ec8d2_row92_col6,#T_ec8d2_row93_col4,#T_ec8d2_row93_col7,#T_ec8d2_row94_col2,#T_ec8d2_row94_col4,#T_ec8d2_row95_col3,#T_ec8d2_row97_col6,#T_ec8d2_row98_col6,#T_ec8d2_row98_col7,#T_ec8d2_row99_col2,#T_ec8d2_row99_col5,#T_ec8d2_row102_col8,#T_ec8d2_row103_col7,#T_ec8d2_row105_col5,#T_ec8d2_row105_col7,#T_ec8d2_row105_col8,#T_ec8d2_row106_col6,#T_ec8d2_row106_col7,#T_ec8d2_row107_col7,#T_ec8d2_row108_col3,#T_ec8d2_row109_col2,#T_ec8d2_row109_col3,#T_ec8d2_row109_col7,#T_ec8d2_row109_col8{\n            background-color:  #fff4ef;\n            color:  #000000;\n        }#T_ec8d2_row0_col5,#T_ec8d2_row0_col6,#T_ec8d2_row0_col7,#T_ec8d2_row1_col2,#T_ec8d2_row1_col4,#T_ec8d2_row1_col5,#T_ec8d2_row1_col7,#T_ec8d2_row1_col8,#T_ec8d2_row2_col2,#T_ec8d2_row2_col3,#T_ec8d2_row2_col4,#T_ec8d2_row2_col5,#T_ec8d2_row2_col6,#T_ec8d2_row3_col2,#T_ec8d2_row3_col3,#T_ec8d2_row3_col4,#T_ec8d2_row3_col5,#T_ec8d2_row3_col6,#T_ec8d2_row3_col7,#T_ec8d2_row3_col8,#T_ec8d2_row5_col5,#T_ec8d2_row5_col6,#T_ec8d2_row6_col5,#T_ec8d2_row7_col5,#T_ec8d2_row7_col7,#T_ec8d2_row7_col8,#T_ec8d2_row8_col2,#T_ec8d2_row8_col3,#T_ec8d2_row8_col4,#T_ec8d2_row8_col5,#T_ec8d2_row8_col6,#T_ec8d2_row8_col7,#T_ec8d2_row8_col8,#T_ec8d2_row9_col3,#T_ec8d2_row9_col5,#T_ec8d2_row9_col6,#T_ec8d2_row9_col8,#T_ec8d2_row10_col4,#T_ec8d2_row11_col2,#T_ec8d2_row11_col3,#T_ec8d2_row11_col4,#T_ec8d2_row11_col5,#T_ec8d2_row11_col6,#T_ec8d2_row11_col7,#T_ec8d2_row12_col2,#T_ec8d2_row12_col3,#T_ec8d2_row12_col4,#T_ec8d2_row12_col5,#T_ec8d2_row12_col6,#T_ec8d2_row13_col5,#T_ec8d2_row13_col7,#T_ec8d2_row14_col5,#T_ec8d2_row14_col6,#T_ec8d2_row15_col2,#T_ec8d2_row15_col3,#T_ec8d2_row15_col4,#T_ec8d2_row15_col5,#T_ec8d2_row15_col6,#T_ec8d2_row15_col7,#T_ec8d2_row15_col8,#T_ec8d2_row17_col5,#T_ec8d2_row18_col5,#T_ec8d2_row18_col6,#T_ec8d2_row19_col2,#T_ec8d2_row19_col3,#T_ec8d2_row19_col4,#T_ec8d2_row19_col5,#T_ec8d2_row19_col7,#T_ec8d2_row19_col8,#T_ec8d2_row20_col5,#T_ec8d2_row20_col7,#T_ec8d2_row21_col5,#T_ec8d2_row23_col5,#T_ec8d2_row23_col6,#T_ec8d2_row24_col5,#T_ec8d2_row24_col6,#T_ec8d2_row25_col2,#T_ec8d2_row25_col3,#T_ec8d2_row25_col4,#T_ec8d2_row25_col5,#T_ec8d2_row25_col6,#T_ec8d2_row25_col8,#T_ec8d2_row26_col5,#T_ec8d2_row27_col5,#T_ec8d2_row27_col8,#T_ec8d2_row28_col2,#T_ec8d2_row28_col3,#T_ec8d2_row28_col4,#T_ec8d2_row28_col5,#T_ec8d2_row28_col6,#T_ec8d2_row29_col5,#T_ec8d2_row29_col6,#T_ec8d2_row30_col5,#T_ec8d2_row30_col7,#T_ec8d2_row31_col2,#T_ec8d2_row31_col3,#T_ec8d2_row31_col4,#T_ec8d2_row31_col5,#T_ec8d2_row31_col7,#T_ec8d2_row31_col8,#T_ec8d2_row32_col2,#T_ec8d2_row32_col3,#T_ec8d2_row32_col5,#T_ec8d2_row32_col6,#T_ec8d2_row33_col2,#T_ec8d2_row33_col3,#T_ec8d2_row33_col4,#T_ec8d2_row33_col5,#T_ec8d2_row33_col6,#T_ec8d2_row35_col2,#T_ec8d2_row35_col3,#T_ec8d2_row35_col4,#T_ec8d2_row35_col5,#T_ec8d2_row35_col6,#T_ec8d2_row35_col7,#T_ec8d2_row35_col8,#T_ec8d2_row36_col5,#T_ec8d2_row36_col6,#T_ec8d2_row37_col7,#T_ec8d2_row38_col4,#T_ec8d2_row38_col7,#T_ec8d2_row39_col5,#T_ec8d2_row39_col7,#T_ec8d2_row39_col8,#T_ec8d2_row40_col2,#T_ec8d2_row40_col3,#T_ec8d2_row40_col4,#T_ec8d2_row40_col5,#T_ec8d2_row40_col6,#T_ec8d2_row40_col7,#T_ec8d2_row40_col8,#T_ec8d2_row41_col4,#T_ec8d2_row41_col7,#T_ec8d2_row42_col5,#T_ec8d2_row43_col7,#T_ec8d2_row43_col8,#T_ec8d2_row44_col7,#T_ec8d2_row45_col5,#T_ec8d2_row45_col7,#T_ec8d2_row45_col8,#T_ec8d2_row46_col4,#T_ec8d2_row46_col6,#T_ec8d2_row47_col5,#T_ec8d2_row49_col2,#T_ec8d2_row49_col3,#T_ec8d2_row49_col4,#T_ec8d2_row49_col5,#T_ec8d2_row49_col6,#T_ec8d2_row49_col7,#T_ec8d2_row49_col8,#T_ec8d2_row50_col5,#T_ec8d2_row51_col5,#T_ec8d2_row51_col7,#T_ec8d2_row51_col8,#T_ec8d2_row52_col5,#T_ec8d2_row52_col7,#T_ec8d2_row52_col8,#T_ec8d2_row53_col3,#T_ec8d2_row53_col5,#T_ec8d2_row53_col6,#T_ec8d2_row53_col8,#T_ec8d2_row54_col5,#T_ec8d2_row54_col6,#T_ec8d2_row55_col5,#T_ec8d2_row56_col2,#T_ec8d2_row56_col3,#T_ec8d2_row56_col4,#T_ec8d2_row56_col5,#T_ec8d2_row56_col6,#T_ec8d2_row56_col7,#T_ec8d2_row56_col8,#T_ec8d2_row57_col5,#T_ec8d2_row57_col7,#T_ec8d2_row57_col8,#T_ec8d2_row58_col2,#T_ec8d2_row58_col3,#T_ec8d2_row58_col4,#T_ec8d2_row58_col5,#T_ec8d2_row58_col6,#T_ec8d2_row59_col5,#T_ec8d2_row59_col6,#T_ec8d2_row60_col2,#T_ec8d2_row60_col3,#T_ec8d2_row60_col4,#T_ec8d2_row60_col5,#T_ec8d2_row60_col6,#T_ec8d2_row61_col5,#T_ec8d2_row61_col7,#T_ec8d2_row61_col8,#T_ec8d2_row62_col2,#T_ec8d2_row62_col3,#T_ec8d2_row62_col4,#T_ec8d2_row62_col5,#T_ec8d2_row62_col6,#T_ec8d2_row62_col8,#T_ec8d2_row63_col2,#T_ec8d2_row63_col3,#T_ec8d2_row63_col4,#T_ec8d2_row63_col5,#T_ec8d2_row63_col6,#T_ec8d2_row64_col7,#T_ec8d2_row65_col5,#T_ec8d2_row65_col6,#T_ec8d2_row66_col2,#T_ec8d2_row66_col3,#T_ec8d2_row66_col4,#T_ec8d2_row66_col5,#T_ec8d2_row66_col6,#T_ec8d2_row67_col2,#T_ec8d2_row67_col3,#T_ec8d2_row67_col4,#T_ec8d2_row67_col5,#T_ec8d2_row67_col6,#T_ec8d2_row68_col2,#T_ec8d2_row68_col3,#T_ec8d2_row68_col4,#T_ec8d2_row68_col5,#T_ec8d2_row68_col6,#T_ec8d2_row69_col5,#T_ec8d2_row69_col6,#T_ec8d2_row70_col2,#T_ec8d2_row70_col3,#T_ec8d2_row70_col4,#T_ec8d2_row70_col5,#T_ec8d2_row70_col6,#T_ec8d2_row70_col7,#T_ec8d2_row70_col8,#T_ec8d2_row71_col7,#T_ec8d2_row71_col8,#T_ec8d2_row72_col4,#T_ec8d2_row73_col5,#T_ec8d2_row73_col6,#T_ec8d2_row74_col2,#T_ec8d2_row74_col3,#T_ec8d2_row74_col4,#T_ec8d2_row74_col5,#T_ec8d2_row74_col7,#T_ec8d2_row74_col8,#T_ec8d2_row75_col3,#T_ec8d2_row75_col5,#T_ec8d2_row75_col6,#T_ec8d2_row75_col7,#T_ec8d2_row75_col8,#T_ec8d2_row76_col5,#T_ec8d2_row76_col7,#T_ec8d2_row77_col5,#T_ec8d2_row77_col6,#T_ec8d2_row78_col5,#T_ec8d2_row79_col5,#T_ec8d2_row79_col9,#T_ec8d2_row81_col5,#T_ec8d2_row82_col3,#T_ec8d2_row82_col5,#T_ec8d2_row82_col6,#T_ec8d2_row82_col8,#T_ec8d2_row83_col5,#T_ec8d2_row84_col7,#T_ec8d2_row85_col2,#T_ec8d2_row85_col3,#T_ec8d2_row85_col4,#T_ec8d2_row85_col5,#T_ec8d2_row85_col6,#T_ec8d2_row85_col7,#T_ec8d2_row85_col8,#T_ec8d2_row86_col2,#T_ec8d2_row86_col3,#T_ec8d2_row86_col4,#T_ec8d2_row86_col5,#T_ec8d2_row86_col6,#T_ec8d2_row87_col2,#T_ec8d2_row87_col3,#T_ec8d2_row87_col4,#T_ec8d2_row87_col5,#T_ec8d2_row87_col6,#T_ec8d2_row88_col4,#T_ec8d2_row89_col2,#T_ec8d2_row89_col3,#T_ec8d2_row89_col4,#T_ec8d2_row89_col5,#T_ec8d2_row89_col6,#T_ec8d2_row89_col8,#T_ec8d2_row91_col5,#T_ec8d2_row91_col6,#T_ec8d2_row92_col5,#T_ec8d2_row94_col3,#T_ec8d2_row94_col5,#T_ec8d2_row94_col7,#T_ec8d2_row94_col8,#T_ec8d2_row95_col2,#T_ec8d2_row95_col4,#T_ec8d2_row95_col5,#T_ec8d2_row95_col6,#T_ec8d2_row95_col7,#T_ec8d2_row95_col8,#T_ec8d2_row96_col2,#T_ec8d2_row96_col3,#T_ec8d2_row96_col4,#T_ec8d2_row96_col5,#T_ec8d2_row96_col6,#T_ec8d2_row96_col7,#T_ec8d2_row96_col8,#T_ec8d2_row97_col4,#T_ec8d2_row99_col3,#T_ec8d2_row99_col4,#T_ec8d2_row99_col7,#T_ec8d2_row99_col8,#T_ec8d2_row100_col2,#T_ec8d2_row100_col3,#T_ec8d2_row100_col4,#T_ec8d2_row100_col5,#T_ec8d2_row100_col6,#T_ec8d2_row100_col7,#T_ec8d2_row100_col8,#T_ec8d2_row101_col2,#T_ec8d2_row101_col3,#T_ec8d2_row101_col4,#T_ec8d2_row101_col5,#T_ec8d2_row101_col6,#T_ec8d2_row101_col7,#T_ec8d2_row101_col8,#T_ec8d2_row102_col5,#T_ec8d2_row102_col7,#T_ec8d2_row103_col5,#T_ec8d2_row103_col8,#T_ec8d2_row104_col4,#T_ec8d2_row106_col3,#T_ec8d2_row106_col5,#T_ec8d2_row106_col8,#T_ec8d2_row107_col4,#T_ec8d2_row108_col5,#T_ec8d2_row108_col6,#T_ec8d2_row109_col5,#T_ec8d2_row109_col6{\n            background-color:  #fff5f0;\n            color:  #000000;\n        }#T_ec8d2_row1_col6,#T_ec8d2_row4_col6,#T_ec8d2_row10_col2,#T_ec8d2_row10_col5,#T_ec8d2_row17_col9,#T_ec8d2_row30_col3,#T_ec8d2_row47_col4,#T_ec8d2_row53_col9,#T_ec8d2_row76_col3,#T_ec8d2_row76_col4,#T_ec8d2_row81_col4,#T_ec8d2_row83_col2,#T_ec8d2_row93_col6,#T_ec8d2_row97_col2,#T_ec8d2_row97_col5,#T_ec8d2_row105_col6{\n            background-color:  #fff0e8;\n            color:  #000000;\n        }#T_ec8d2_row1_col9,#T_ec8d2_row2_col7,#T_ec8d2_row4_col5,#T_ec8d2_row7_col4,#T_ec8d2_row10_col8,#T_ec8d2_row14_col3,#T_ec8d2_row15_col9,#T_ec8d2_row16_col8,#T_ec8d2_row17_col2,#T_ec8d2_row17_col4,#T_ec8d2_row20_col9,#T_ec8d2_row21_col6,#T_ec8d2_row24_col3,#T_ec8d2_row24_col4,#T_ec8d2_row24_col8,#T_ec8d2_row26_col7,#T_ec8d2_row30_col2,#T_ec8d2_row30_col4,#T_ec8d2_row30_col6,#T_ec8d2_row33_col7,#T_ec8d2_row34_col4,#T_ec8d2_row35_col9,#T_ec8d2_row36_col4,#T_ec8d2_row38_col2,#T_ec8d2_row39_col3,#T_ec8d2_row39_col6,#T_ec8d2_row39_col9,#T_ec8d2_row44_col5,#T_ec8d2_row48_col8,#T_ec8d2_row50_col9,#T_ec8d2_row51_col2,#T_ec8d2_row51_col6,#T_ec8d2_row52_col9,#T_ec8d2_row55_col3,#T_ec8d2_row67_col7,#T_ec8d2_row68_col7,#T_ec8d2_row69_col2,#T_ec8d2_row69_col3,#T_ec8d2_row69_col7,#T_ec8d2_row69_col9,#T_ec8d2_row71_col3,#T_ec8d2_row72_col6,#T_ec8d2_row77_col4,#T_ec8d2_row78_col3,#T_ec8d2_row79_col8,#T_ec8d2_row80_col8,#T_ec8d2_row83_col6,#T_ec8d2_row85_col9,#T_ec8d2_row86_col7,#T_ec8d2_row87_col7,#T_ec8d2_row90_col8,#T_ec8d2_row91_col8,#T_ec8d2_row94_col6,#T_ec8d2_row95_col9,#T_ec8d2_row98_col4,#T_ec8d2_row98_col5,#T_ec8d2_row102_col4,#T_ec8d2_row103_col9,#T_ec8d2_row107_col8{\n            background-color:  #fff3ed;\n            color:  #000000;\n        }#T_ec8d2_row2_col8,#T_ec8d2_row4_col8,#T_ec8d2_row5_col4,#T_ec8d2_row5_col8,#T_ec8d2_row6_col9,#T_ec8d2_row7_col2,#T_ec8d2_row7_col3,#T_ec8d2_row7_col9,#T_ec8d2_row9_col4,#T_ec8d2_row9_col7,#T_ec8d2_row10_col6,#T_ec8d2_row12_col9,#T_ec8d2_row13_col2,#T_ec8d2_row13_col4,#T_ec8d2_row13_col6,#T_ec8d2_row13_col8,#T_ec8d2_row21_col8,#T_ec8d2_row22_col8,#T_ec8d2_row23_col2,#T_ec8d2_row23_col4,#T_ec8d2_row24_col2,#T_ec8d2_row24_col9,#T_ec8d2_row27_col2,#T_ec8d2_row27_col4,#T_ec8d2_row29_col2,#T_ec8d2_row29_col4,#T_ec8d2_row31_col9,#T_ec8d2_row32_col7,#T_ec8d2_row33_col8,#T_ec8d2_row34_col8,#T_ec8d2_row36_col2,#T_ec8d2_row36_col3,#T_ec8d2_row38_col5,#T_ec8d2_row39_col4,#T_ec8d2_row41_col3,#T_ec8d2_row46_col3,#T_ec8d2_row47_col3,#T_ec8d2_row47_col7,#T_ec8d2_row48_col5,#T_ec8d2_row53_col2,#T_ec8d2_row53_col4,#T_ec8d2_row54_col8,#T_ec8d2_row58_col8,#T_ec8d2_row58_col9,#T_ec8d2_row59_col2,#T_ec8d2_row59_col4,#T_ec8d2_row59_col7,#T_ec8d2_row59_col8,#T_ec8d2_row60_col7,#T_ec8d2_row60_col8,#T_ec8d2_row62_col7,#T_ec8d2_row64_col5,#T_ec8d2_row64_col8,#T_ec8d2_row65_col3,#T_ec8d2_row65_col4,#T_ec8d2_row65_col8,#T_ec8d2_row65_col9,#T_ec8d2_row72_col7,#T_ec8d2_row73_col3,#T_ec8d2_row77_col2,#T_ec8d2_row77_col3,#T_ec8d2_row77_col8,#T_ec8d2_row78_col2,#T_ec8d2_row78_col4,#T_ec8d2_row78_col8,#T_ec8d2_row81_col8,#T_ec8d2_row82_col4,#T_ec8d2_row83_col8,#T_ec8d2_row83_col9,#T_ec8d2_row84_col5,#T_ec8d2_row88_col3,#T_ec8d2_row89_col7,#T_ec8d2_row90_col2,#T_ec8d2_row90_col4,#T_ec8d2_row91_col4,#T_ec8d2_row91_col7,#T_ec8d2_row93_col8,#T_ec8d2_row97_col7,#T_ec8d2_row97_col8,#T_ec8d2_row98_col8,#T_ec8d2_row102_col2,#T_ec8d2_row102_col6,#T_ec8d2_row104_col7,#T_ec8d2_row104_col8,#T_ec8d2_row108_col2,#T_ec8d2_row108_col4,#T_ec8d2_row109_col4{\n            background-color:  #fff4ee;\n            color:  #000000;\n        }#T_ec8d2_row2_col9,#T_ec8d2_row5_col9,#T_ec8d2_row18_col7,#T_ec8d2_row19_col9,#T_ec8d2_row29_col7,#T_ec8d2_row29_col8,#T_ec8d2_row38_col3,#T_ec8d2_row42_col8,#T_ec8d2_row45_col9,#T_ec8d2_row50_col2,#T_ec8d2_row51_col9,#T_ec8d2_row55_col4,#T_ec8d2_row56_col9,#T_ec8d2_row60_col9,#T_ec8d2_row69_col4,#T_ec8d2_row71_col6,#T_ec8d2_row84_col9,#T_ec8d2_row88_col2,#T_ec8d2_row88_col5,#T_ec8d2_row90_col3,#T_ec8d2_row98_col2,#T_ec8d2_row99_col9,#T_ec8d2_row102_col3,#T_ec8d2_row106_col4,#T_ec8d2_row106_col9{\n            background-color:  #fff2eb;\n            color:  #000000;\n        }#T_ec8d2_row4_col2,#T_ec8d2_row37_col2,#T_ec8d2_row93_col2{\n            background-color:  #fee3d6;\n            color:  #000000;\n        }#T_ec8d2_row4_col3,#T_ec8d2_row4_col4{\n            background-color:  #fedfd0;\n            color:  #000000;\n        }#T_ec8d2_row4_col9,#T_ec8d2_row92_col9,#T_ec8d2_row103_col3,#T_ec8d2_row105_col4{\n            background-color:  #fee8dd;\n            color:  #000000;\n        }#T_ec8d2_row6_col2,#T_ec8d2_row6_col3,#T_ec8d2_row14_col8,#T_ec8d2_row17_col8,#T_ec8d2_row19_col6,#T_ec8d2_row26_col8,#T_ec8d2_row26_col9,#T_ec8d2_row37_col9,#T_ec8d2_row43_col9,#T_ec8d2_row50_col3,#T_ec8d2_row51_col4,#T_ec8d2_row55_col2,#T_ec8d2_row57_col9,#T_ec8d2_row61_col2,#T_ec8d2_row61_col4,#T_ec8d2_row68_col8,#T_ec8d2_row68_col9,#T_ec8d2_row69_col8,#T_ec8d2_row70_col9,#T_ec8d2_row71_col2,#T_ec8d2_row71_col4,#T_ec8d2_row73_col8,#T_ec8d2_row73_col9,#T_ec8d2_row76_col6,#T_ec8d2_row77_col9,#T_ec8d2_row82_col9,#T_ec8d2_row87_col8,#T_ec8d2_row94_col9,#T_ec8d2_row98_col3,#T_ec8d2_row106_col2{\n            background-color:  #fff2ec;\n            color:  #000000;\n        }#T_ec8d2_row6_col4,#T_ec8d2_row8_col9,#T_ec8d2_row13_col3,#T_ec8d2_row21_col9,#T_ec8d2_row27_col9,#T_ec8d2_row30_col9,#T_ec8d2_row42_col2,#T_ec8d2_row42_col4,#T_ec8d2_row47_col2,#T_ec8d2_row55_col9,#T_ec8d2_row61_col6,#T_ec8d2_row61_col9,#T_ec8d2_row64_col9,#T_ec8d2_row79_col6,#T_ec8d2_row81_col2,#T_ec8d2_row81_col9,#T_ec8d2_row91_col9,#T_ec8d2_row92_col7,#T_ec8d2_row97_col3,#T_ec8d2_row100_col9{\n            background-color:  #fff1ea;\n            color:  #000000;\n        }#T_ec8d2_row9_col9,#T_ec8d2_row34_col5{\n            background-color:  #fdd5c4;\n            color:  #000000;\n        }#T_ec8d2_row10_col3,#T_ec8d2_row20_col2,#T_ec8d2_row20_col3,#T_ec8d2_row21_col2,#T_ec8d2_row32_col9,#T_ec8d2_row48_col9,#T_ec8d2_row71_col9,#T_ec8d2_row83_col4{\n            background-color:  #ffeee7;\n            color:  #000000;\n        }#T_ec8d2_row10_col9{\n            background-color:  #b51318;\n            color:  #f1f1f1;\n        }#T_ec8d2_row13_col9,#T_ec8d2_row20_col4,#T_ec8d2_row21_col4,#T_ec8d2_row83_col3{\n            background-color:  #ffece4;\n            color:  #000000;\n        }#T_ec8d2_row14_col9,#T_ec8d2_row37_col6,#T_ec8d2_row44_col6,#T_ec8d2_row92_col4,#T_ec8d2_row92_col8,#T_ec8d2_row103_col6{\n            background-color:  #ffebe2;\n            color:  #000000;\n        }#T_ec8d2_row16_col2{\n            background-color:  #fb6c4c;\n            color:  #000000;\n        }#T_ec8d2_row16_col3{\n            background-color:  #c3161b;\n            color:  #f1f1f1;\n        }#T_ec8d2_row16_col4{\n            background-color:  #f4503a;\n            color:  #000000;\n        }#T_ec8d2_row16_col5,#T_ec8d2_row21_col3,#T_ec8d2_row26_col2,#T_ec8d2_row26_col3,#T_ec8d2_row34_col6,#T_ec8d2_row42_col3,#T_ec8d2_row44_col9,#T_ec8d2_row72_col2,#T_ec8d2_row72_col5,#T_ec8d2_row92_col2,#T_ec8d2_row96_col9,#T_ec8d2_row99_col6,#T_ec8d2_row107_col6{\n            background-color:  #ffede5;\n            color:  #000000;\n        }#T_ec8d2_row16_col6,#T_ec8d2_row28_col9{\n            background-color:  #fed8c7;\n            color:  #000000;\n        }#T_ec8d2_row16_col9,#T_ec8d2_row64_col2,#T_ec8d2_row78_col9,#T_ec8d2_row108_col7{\n            background-color:  #fee9df;\n            color:  #000000;\n        }#T_ec8d2_row17_col3,#T_ec8d2_row20_col6,#T_ec8d2_row22_col9,#T_ec8d2_row40_col9,#T_ec8d2_row45_col3,#T_ec8d2_row45_col6,#T_ec8d2_row50_col4,#T_ec8d2_row54_col9,#T_ec8d2_row72_col3,#T_ec8d2_row75_col9,#T_ec8d2_row76_col2,#T_ec8d2_row76_col9,#T_ec8d2_row80_col6,#T_ec8d2_row81_col3,#T_ec8d2_row102_col9,#T_ec8d2_row105_col9{\n            background-color:  #fff0e9;\n            color:  #000000;\n        }#T_ec8d2_row18_col8,#T_ec8d2_row22_col6,#T_ec8d2_row36_col9,#T_ec8d2_row45_col2,#T_ec8d2_row52_col6{\n            background-color:  #ffefe8;\n            color:  #000000;\n        }#T_ec8d2_row18_col9{\n            background-color:  #fedccd;\n            color:  #000000;\n        }#T_ec8d2_row22_col2{\n            background-color:  #fee5d8;\n            color:  #000000;\n        }#T_ec8d2_row22_col3{\n            background-color:  #fedaca;\n            color:  #000000;\n        }#T_ec8d2_row22_col4,#T_ec8d2_row80_col3{\n            background-color:  #fee1d3;\n            color:  #000000;\n        }#T_ec8d2_row23_col9,#T_ec8d2_row48_col2{\n            background-color:  #fee0d2;\n            color:  #000000;\n        }#T_ec8d2_row25_col9{\n            background-color:  #fcb99f;\n            color:  #000000;\n        }#T_ec8d2_row26_col4,#T_ec8d2_row43_col5,#T_ec8d2_row101_col9{\n            background-color:  #feeae1;\n            color:  #000000;\n        }#T_ec8d2_row28_col7,#T_ec8d2_row28_col8,#T_ec8d2_row43_col4,#T_ec8d2_row43_col6,#T_ec8d2_row104_col2,#T_ec8d2_row104_col3,#T_ec8d2_row104_col5,#T_ec8d2_row108_col9{\n            background-color:  #67000d;\n            color:  #f1f1f1;\n        }#T_ec8d2_row29_col9{\n            background-color:  #fc8666;\n            color:  #000000;\n        }#T_ec8d2_row33_col9{\n            background-color:  #c9181d;\n            color:  #f1f1f1;\n        }#T_ec8d2_row34_col2{\n            background-color:  #fdd2bf;\n            color:  #000000;\n        }#T_ec8d2_row34_col3,#T_ec8d2_row74_col9{\n            background-color:  #fdcebb;\n            color:  #000000;\n        }#T_ec8d2_row34_col9{\n            background-color:  #ce1a1e;\n            color:  #f1f1f1;\n        }#T_ec8d2_row37_col3,#T_ec8d2_row48_col4,#T_ec8d2_row84_col2{\n            background-color:  #fed9c9;\n            color:  #000000;\n        }#T_ec8d2_row37_col4,#T_ec8d2_row44_col3,#T_ec8d2_row93_col3,#T_ec8d2_row107_col2,#T_ec8d2_row107_col5{\n            background-color:  #fedecf;\n            color:  #000000;\n        }#T_ec8d2_row38_col9{\n            background-color:  #fcb79c;\n            color:  #000000;\n        }#T_ec8d2_row41_col9{\n            background-color:  #fedbcc;\n            color:  #000000;\n        }#T_ec8d2_row42_col9{\n            background-color:  #fee7dc;\n            color:  #000000;\n        }#T_ec8d2_row43_col2{\n            background-color:  #b01217;\n            color:  #f1f1f1;\n        }#T_ec8d2_row43_col3{\n            background-color:  #f6583e;\n            color:  #000000;\n        }#T_ec8d2_row44_col2,#T_ec8d2_row80_col2,#T_ec8d2_row105_col3{\n            background-color:  #fee7db;\n            color:  #000000;\n        }#T_ec8d2_row44_col4,#T_ec8d2_row92_col3{\n            background-color:  #fee5d9;\n            color:  #000000;\n        }#T_ec8d2_row45_col4,#T_ec8d2_row48_col6,#T_ec8d2_row80_col9{\n            background-color:  #ffeee6;\n            color:  #000000;\n        }#T_ec8d2_row46_col9{\n            background-color:  #fc8161;\n            color:  #000000;\n        }#T_ec8d2_row48_col3{\n            background-color:  #fdc6b0;\n            color:  #000000;\n        }#T_ec8d2_row49_col9,#T_ec8d2_row64_col4,#T_ec8d2_row79_col4,#T_ec8d2_row108_col8{\n            background-color:  #fee8de;\n            color:  #000000;\n        }#T_ec8d2_row59_col9,#T_ec8d2_row79_col2,#T_ec8d2_row109_col9{\n            background-color:  #ffece3;\n            color:  #000000;\n        }#T_ec8d2_row62_col9{\n            background-color:  #fc8464;\n            color:  #000000;\n        }#T_ec8d2_row64_col3{\n            background-color:  #fc9272;\n            color:  #000000;\n        }#T_ec8d2_row64_col6{\n            background-color:  #fee6da;\n            color:  #000000;\n        }#T_ec8d2_row67_col9,#T_ec8d2_row84_col3,#T_ec8d2_row103_col4{\n            background-color:  #fdcab5;\n            color:  #000000;\n        }#T_ec8d2_row72_col9{\n            background-color:  #a30f15;\n            color:  #f1f1f1;\n        }#T_ec8d2_row79_col3,#T_ec8d2_row89_col9{\n            background-color:  #fee2d5;\n            color:  #000000;\n        }#T_ec8d2_row80_col4{\n            background-color:  #fee4d8;\n            color:  #000000;\n        }#T_ec8d2_row84_col4{\n            background-color:  #fdd0bc;\n            color:  #000000;\n        }#T_ec8d2_row84_col6,#T_ec8d2_row93_col5{\n            background-color:  #fee3d7;\n            color:  #000000;\n        }#T_ec8d2_row86_col9,#T_ec8d2_row103_col2{\n            background-color:  #fdd7c6;\n            color:  #000000;\n        }#T_ec8d2_row88_col9{\n            background-color:  #cc191e;\n            color:  #f1f1f1;\n        }#T_ec8d2_row90_col9{\n            background-color:  #fdc7b2;\n            color:  #000000;\n        }#T_ec8d2_row93_col9{\n            background-color:  #de2b25;\n            color:  #f1f1f1;\n        }#T_ec8d2_row97_col9{\n            background-color:  #79040f;\n            color:  #f1f1f1;\n        }#T_ec8d2_row98_col9{\n            background-color:  #fc8d6d;\n            color:  #000000;\n        }#T_ec8d2_row104_col6{\n            background-color:  #fcbea5;\n            color:  #000000;\n        }#T_ec8d2_row104_col9{\n            background-color:  #920a13;\n            color:  #f1f1f1;\n        }#T_ec8d2_row105_col2{\n            background-color:  #feeae0;\n            color:  #000000;\n        }#T_ec8d2_row107_col3{\n            background-color:  #fdc5ae;\n            color:  #000000;\n        }#T_ec8d2_row107_col9{\n            background-color:  #f24734;\n            color:  #000000;\n        }</style><table id=\"T_ec8d2_\" ><thead>    <tr>        <th class=\"blank level0\" ></th>        <th class=\"col_heading level0 col0\" >Country/Region</th>        <th class=\"col_heading level0 col1\" >Time</th>        <th class=\"col_heading level0 col2\" >Confirmed</th>        <th class=\"col_heading level0 col3\" >Deaths</th>        <th class=\"col_heading level0 col4\" >Recovered</th>        <th class=\"col_heading level0 col5\" >Active</th>        <th class=\"col_heading level0 col6\" >Population</th>        <th class=\"col_heading level0 col7\" >%Confirmed</th>        <th class=\"col_heading level0 col8\" >%Deaths</th>        <th class=\"col_heading level0 col9\" >%Active</th>    </tr></thead><tbody>\n                <tr>\n                        <th id=\"T_ec8d2_level0_row0\" class=\"row_heading level0 row0\" >1</th>\n                        <td id=\"T_ec8d2_row0_col0\" class=\"data row0 col0\" >Albania</td>\n                        <td id=\"T_ec8d2_row0_col1\" class=\"data row0 col1\" >2021-05-29 00:00:00</td>\n                        <td id=\"T_ec8d2_row0_col2\" class=\"data row0 col2\" >132297</td>\n                        <td id=\"T_ec8d2_row0_col3\" class=\"data row0 col3\" >2449</td>\n                        <td id=\"T_ec8d2_row0_col4\" class=\"data row0 col4\" >129215</td>\n                        <td id=\"T_ec8d2_row0_col5\" class=\"data row0 col5\" >633</td>\n                        <td id=\"T_ec8d2_row0_col6\" class=\"data row0 col6\" >2877797</td>\n                        <td id=\"T_ec8d2_row0_col7\" class=\"data row0 col7\" >0.045972</td>\n                        <td id=\"T_ec8d2_row0_col8\" class=\"data row0 col8\" >0.000851</td>\n                        <td id=\"T_ec8d2_row0_col9\" class=\"data row0 col9\" >0.000220</td>\n            </tr>\n            <tr>\n                        <th id=\"T_ec8d2_level0_row1\" class=\"row_heading level0 row1\" >2</th>\n                        <td id=\"T_ec8d2_row1_col0\" class=\"data row1 col0\" >Algeria</td>\n                        <td id=\"T_ec8d2_row1_col1\" class=\"data row1 col1\" >2021-05-29 00:00:00</td>\n                        <td id=\"T_ec8d2_row1_col2\" class=\"data row1 col2\" >128456</td>\n                        <td id=\"T_ec8d2_row1_col3\" class=\"data row1 col3\" >3460</td>\n                        <td id=\"T_ec8d2_row1_col4\" class=\"data row1 col4\" >89419</td>\n                        <td id=\"T_ec8d2_row1_col5\" class=\"data row1 col5\" >35577</td>\n                        <td id=\"T_ec8d2_row1_col6\" class=\"data row1 col6\" >43851044</td>\n                        <td id=\"T_ec8d2_row1_col7\" class=\"data row1 col7\" >0.002929</td>\n                        <td id=\"T_ec8d2_row1_col8\" class=\"data row1 col8\" >0.000079</td>\n                        <td id=\"T_ec8d2_row1_col9\" class=\"data row1 col9\" >0.000811</td>\n            </tr>\n            <tr>\n                        <th id=\"T_ec8d2_level0_row2\" class=\"row_heading level0 row2\" >3</th>\n                        <td id=\"T_ec8d2_row2_col0\" class=\"data row2 col0\" >Andorra</td>\n                        <td id=\"T_ec8d2_row2_col1\" class=\"data row2 col1\" >2021-05-29 00:00:00</td>\n                        <td id=\"T_ec8d2_row2_col2\" class=\"data row2 col2\" >13693</td>\n                        <td id=\"T_ec8d2_row2_col3\" class=\"data row2 col3\" >127</td>\n                        <td id=\"T_ec8d2_row2_col4\" class=\"data row2 col4\" >13416</td>\n                        <td id=\"T_ec8d2_row2_col5\" class=\"data row2 col5\" >150</td>\n                        <td id=\"T_ec8d2_row2_col6\" class=\"data row2 col6\" >77265</td>\n                        <td id=\"T_ec8d2_row2_col7\" class=\"data row2 col7\" >0.177221</td>\n                        <td id=\"T_ec8d2_row2_col8\" class=\"data row2 col8\" >0.001644</td>\n                        <td id=\"T_ec8d2_row2_col9\" class=\"data row2 col9\" >0.001941</td>\n            </tr>\n            <tr>\n                        <th id=\"T_ec8d2_level0_row3\" class=\"row_heading level0 row3\" >5</th>\n                        <td id=\"T_ec8d2_row3_col0\" class=\"data row3 col0\" >Antigua and Barbuda</td>\n                        <td id=\"T_ec8d2_row3_col1\" class=\"data row3 col1\" >2021-05-29 00:00:00</td>\n                        <td id=\"T_ec8d2_row3_col2\" class=\"data row3 col2\" >1259</td>\n                        <td id=\"T_ec8d2_row3_col3\" class=\"data row3 col3\" >42</td>\n                        <td id=\"T_ec8d2_row3_col4\" class=\"data row3 col4\" >1206</td>\n                        <td id=\"T_ec8d2_row3_col5\" class=\"data row3 col5\" >11</td>\n                        <td id=\"T_ec8d2_row3_col6\" class=\"data row3 col6\" >97929</td>\n                        <td id=\"T_ec8d2_row3_col7\" class=\"data row3 col7\" >0.012856</td>\n                        <td id=\"T_ec8d2_row3_col8\" class=\"data row3 col8\" >0.000429</td>\n                        <td id=\"T_ec8d2_row3_col9\" class=\"data row3 col9\" >0.000112</td>\n            </tr>\n            <tr>\n                        <th id=\"T_ec8d2_level0_row4\" class=\"row_heading level0 row4\" >6</th>\n                        <td id=\"T_ec8d2_row4_col0\" class=\"data row4 col0\" >Argentina</td>\n                        <td id=\"T_ec8d2_row4_col1\" class=\"data row4 col1\" >2021-05-29 00:00:00</td>\n                        <td id=\"T_ec8d2_row4_col2\" class=\"data row4 col2\" >3732263</td>\n                        <td id=\"T_ec8d2_row4_col3\" class=\"data row4 col3\" >77108</td>\n                        <td id=\"T_ec8d2_row4_col4\" class=\"data row4 col4\" >3288467</td>\n                        <td id=\"T_ec8d2_row4_col5\" class=\"data row4 col5\" >366688</td>\n                        <td id=\"T_ec8d2_row4_col6\" class=\"data row4 col6\" >45195774</td>\n                        <td id=\"T_ec8d2_row4_col7\" class=\"data row4 col7\" >0.082580</td>\n                        <td id=\"T_ec8d2_row4_col8\" class=\"data row4 col8\" >0.001706</td>\n                        <td id=\"T_ec8d2_row4_col9\" class=\"data row4 col9\" >0.008113</td>\n            </tr>\n            <tr>\n                        <th id=\"T_ec8d2_level0_row5\" class=\"row_heading level0 row5\" >7</th>\n                        <td id=\"T_ec8d2_row5_col0\" class=\"data row5 col0\" >Armenia</td>\n                        <td id=\"T_ec8d2_row5_col1\" class=\"data row5 col1\" >2021-05-29 00:00:00</td>\n                        <td id=\"T_ec8d2_row5_col2\" class=\"data row5 col2\" >222555</td>\n                        <td id=\"T_ec8d2_row5_col3\" class=\"data row5 col3\" >4428</td>\n                        <td id=\"T_ec8d2_row5_col4\" class=\"data row5 col4\" >212752</td>\n                        <td id=\"T_ec8d2_row5_col5\" class=\"data row5 col5\" >5375</td>\n                        <td id=\"T_ec8d2_row5_col6\" class=\"data row5 col6\" >2963243</td>\n                        <td id=\"T_ec8d2_row5_col7\" class=\"data row5 col7\" >0.075105</td>\n                        <td id=\"T_ec8d2_row5_col8\" class=\"data row5 col8\" >0.001494</td>\n                        <td id=\"T_ec8d2_row5_col9\" class=\"data row5 col9\" >0.001814</td>\n            </tr>\n            <tr>\n                        <th id=\"T_ec8d2_level0_row6\" class=\"row_heading level0 row6\" >9</th>\n                        <td id=\"T_ec8d2_row6_col0\" class=\"data row6 col0\" >Austria</td>\n                        <td id=\"T_ec8d2_row6_col1\" class=\"data row6 col1\" >2021-05-29 00:00:00</td>\n                        <td id=\"T_ec8d2_row6_col2\" class=\"data row6 col2\" >644207</td>\n                        <td id=\"T_ec8d2_row6_col3\" class=\"data row6 col3\" >10592</td>\n                        <td id=\"T_ec8d2_row6_col4\" class=\"data row6 col4\" >627672</td>\n                        <td id=\"T_ec8d2_row6_col5\" class=\"data row6 col5\" >5943</td>\n                        <td id=\"T_ec8d2_row6_col6\" class=\"data row6 col6\" >9006398</td>\n                        <td id=\"T_ec8d2_row6_col7\" class=\"data row6 col7\" >0.071528</td>\n                        <td id=\"T_ec8d2_row6_col8\" class=\"data row6 col8\" >0.001176</td>\n                        <td id=\"T_ec8d2_row6_col9\" class=\"data row6 col9\" >0.000660</td>\n            </tr>\n            <tr>\n                        <th id=\"T_ec8d2_level0_row7\" class=\"row_heading level0 row7\" >10</th>\n                        <td id=\"T_ec8d2_row7_col0\" class=\"data row7 col0\" >Azerbaijan</td>\n                        <td id=\"T_ec8d2_row7_col1\" class=\"data row7 col1\" >2021-05-29 00:00:00</td>\n                        <td id=\"T_ec8d2_row7_col2\" class=\"data row7 col2\" >333723</td>\n                        <td id=\"T_ec8d2_row7_col3\" class=\"data row7 col3\" >4903</td>\n                        <td id=\"T_ec8d2_row7_col4\" class=\"data row7 col4\" >323617</td>\n                        <td id=\"T_ec8d2_row7_col5\" class=\"data row7 col5\" >5203</td>\n                        <td id=\"T_ec8d2_row7_col6\" class=\"data row7 col6\" >10139177</td>\n                        <td id=\"T_ec8d2_row7_col7\" class=\"data row7 col7\" >0.032914</td>\n                        <td id=\"T_ec8d2_row7_col8\" class=\"data row7 col8\" >0.000484</td>\n                        <td id=\"T_ec8d2_row7_col9\" class=\"data row7 col9\" >0.000513</td>\n            </tr>\n            <tr>\n                        <th id=\"T_ec8d2_level0_row8\" class=\"row_heading level0 row8\" >11</th>\n                        <td id=\"T_ec8d2_row8_col0\" class=\"data row8 col0\" >Bahamas</td>\n                        <td id=\"T_ec8d2_row8_col1\" class=\"data row8 col1\" >2021-05-29 00:00:00</td>\n                        <td id=\"T_ec8d2_row8_col2\" class=\"data row8 col2\" >11745</td>\n                        <td id=\"T_ec8d2_row8_col3\" class=\"data row8 col3\" >229</td>\n                        <td id=\"T_ec8d2_row8_col4\" class=\"data row8 col4\" >10642</td>\n                        <td id=\"T_ec8d2_row8_col5\" class=\"data row8 col5\" >874</td>\n                        <td id=\"T_ec8d2_row8_col6\" class=\"data row8 col6\" >393244</td>\n                        <td id=\"T_ec8d2_row8_col7\" class=\"data row8 col7\" >0.029867</td>\n                        <td id=\"T_ec8d2_row8_col8\" class=\"data row8 col8\" >0.000582</td>\n                        <td id=\"T_ec8d2_row8_col9\" class=\"data row8 col9\" >0.002223</td>\n            </tr>\n            <tr>\n                        <th id=\"T_ec8d2_level0_row9\" class=\"row_heading level0 row9\" >12</th>\n                        <td id=\"T_ec8d2_row9_col0\" class=\"data row9 col0\" >Bahrain</td>\n                        <td id=\"T_ec8d2_row9_col1\" class=\"data row9 col1\" >2021-05-29 00:00:00</td>\n                        <td id=\"T_ec8d2_row9_col2\" class=\"data row9 col2\" >235698</td>\n                        <td id=\"T_ec8d2_row9_col3\" class=\"data row9 col3\" >939</td>\n                        <td id=\"T_ec8d2_row9_col4\" class=\"data row9 col4\" >205962</td>\n                        <td id=\"T_ec8d2_row9_col5\" class=\"data row9 col5\" >28797</td>\n                        <td id=\"T_ec8d2_row9_col6\" class=\"data row9 col6\" >1701575</td>\n                        <td id=\"T_ec8d2_row9_col7\" class=\"data row9 col7\" >0.138518</td>\n                        <td id=\"T_ec8d2_row9_col8\" class=\"data row9 col8\" >0.000552</td>\n                        <td id=\"T_ec8d2_row9_col9\" class=\"data row9 col9\" >0.016924</td>\n            </tr>\n            <tr>\n                        <th id=\"T_ec8d2_level0_row10\" class=\"row_heading level0 row10\" >16</th>\n                        <td id=\"T_ec8d2_row10_col0\" class=\"data row10 col0\" >Belgium</td>\n                        <td id=\"T_ec8d2_row10_col1\" class=\"data row10 col1\" >2021-05-29 00:00:00</td>\n                        <td id=\"T_ec8d2_row10_col2\" class=\"data row10 col2\" >1059763</td>\n                        <td id=\"T_ec8d2_row10_col3\" class=\"data row10 col3\" >24921</td>\n                        <td id=\"T_ec8d2_row10_col4\" class=\"data row10 col4\" >0</td>\n                        <td id=\"T_ec8d2_row10_col5\" class=\"data row10 col5\" >1034842</td>\n                        <td id=\"T_ec8d2_row10_col6\" class=\"data row10 col6\" >11589623</td>\n                        <td id=\"T_ec8d2_row10_col7\" class=\"data row10 col7\" >0.091441</td>\n                        <td id=\"T_ec8d2_row10_col8\" class=\"data row10 col8\" >0.002150</td>\n                        <td id=\"T_ec8d2_row10_col9\" class=\"data row10 col9\" >0.089290</td>\n            </tr>\n            <tr>\n                        <th id=\"T_ec8d2_level0_row11\" class=\"row_heading level0 row11\" >17</th>\n                        <td id=\"T_ec8d2_row11_col0\" class=\"data row11 col0\" >Belize</td>\n                        <td id=\"T_ec8d2_row11_col1\" class=\"data row11 col1\" >2021-05-29 00:00:00</td>\n                        <td id=\"T_ec8d2_row11_col2\" class=\"data row11 col2\" >12791</td>\n                        <td id=\"T_ec8d2_row11_col3\" class=\"data row11 col3\" >324</td>\n                        <td id=\"T_ec8d2_row11_col4\" class=\"data row11 col4\" >12378</td>\n                        <td id=\"T_ec8d2_row11_col5\" class=\"data row11 col5\" >89</td>\n                        <td id=\"T_ec8d2_row11_col6\" class=\"data row11 col6\" >397628</td>\n                        <td id=\"T_ec8d2_row11_col7\" class=\"data row11 col7\" >0.032168</td>\n                        <td id=\"T_ec8d2_row11_col8\" class=\"data row11 col8\" >0.000815</td>\n                        <td id=\"T_ec8d2_row11_col9\" class=\"data row11 col9\" >0.000224</td>\n            </tr>\n            <tr>\n                        <th id=\"T_ec8d2_level0_row12\" class=\"row_heading level0 row12\" >18</th>\n                        <td id=\"T_ec8d2_row12_col0\" class=\"data row12 col0\" >Benin</td>\n                        <td id=\"T_ec8d2_row12_col1\" class=\"data row12 col1\" >2021-05-29 00:00:00</td>\n                        <td id=\"T_ec8d2_row12_col2\" class=\"data row12 col2\" >8058</td>\n                        <td id=\"T_ec8d2_row12_col3\" class=\"data row12 col3\" >101</td>\n                        <td id=\"T_ec8d2_row12_col4\" class=\"data row12 col4\" >7893</td>\n                        <td id=\"T_ec8d2_row12_col5\" class=\"data row12 col5\" >64</td>\n                        <td id=\"T_ec8d2_row12_col6\" class=\"data row12 col6\" >121232</td>\n                        <td id=\"T_ec8d2_row12_col7\" class=\"data row12 col7\" >0.066468</td>\n                        <td id=\"T_ec8d2_row12_col8\" class=\"data row12 col8\" >0.000833</td>\n                        <td id=\"T_ec8d2_row12_col9\" class=\"data row12 col9\" >0.000528</td>\n            </tr>\n            <tr>\n                        <th id=\"T_ec8d2_level0_row13\" class=\"row_heading level0 row13\" >20</th>\n                        <td id=\"T_ec8d2_row13_col0\" class=\"data row13 col0\" >Bolivia</td>\n                        <td id=\"T_ec8d2_row13_col1\" class=\"data row13 col1\" >2021-05-29 00:00:00</td>\n                        <td id=\"T_ec8d2_row13_col2\" class=\"data row13 col2\" >366714</td>\n                        <td id=\"T_ec8d2_row13_col3\" class=\"data row13 col3\" >14435</td>\n                        <td id=\"T_ec8d2_row13_col4\" class=\"data row13 col4\" >291325</td>\n                        <td id=\"T_ec8d2_row13_col5\" class=\"data row13 col5\" >60954</td>\n                        <td id=\"T_ec8d2_row13_col6\" class=\"data row13 col6\" >11673021</td>\n                        <td id=\"T_ec8d2_row13_col7\" class=\"data row13 col7\" >0.031416</td>\n                        <td id=\"T_ec8d2_row13_col8\" class=\"data row13 col8\" >0.001237</td>\n                        <td id=\"T_ec8d2_row13_col9\" class=\"data row13 col9\" >0.005222</td>\n            </tr>\n            <tr>\n                        <th id=\"T_ec8d2_level0_row14\" class=\"row_heading level0 row14\" >21</th>\n                        <td id=\"T_ec8d2_row14_col0\" class=\"data row14 col0\" >Bosnia and Herzegovina</td>\n                        <td id=\"T_ec8d2_row14_col1\" class=\"data row14 col1\" >2021-05-29 00:00:00</td>\n                        <td id=\"T_ec8d2_row14_col2\" class=\"data row14 col2\" >203839</td>\n                        <td id=\"T_ec8d2_row14_col3\" class=\"data row14 col3\" >9211</td>\n                        <td id=\"T_ec8d2_row14_col4\" class=\"data row14 col4\" >174236</td>\n                        <td id=\"T_ec8d2_row14_col5\" class=\"data row14 col5\" >20392</td>\n                        <td id=\"T_ec8d2_row14_col6\" class=\"data row14 col6\" >3280819</td>\n                        <td id=\"T_ec8d2_row14_col7\" class=\"data row14 col7\" >0.062131</td>\n                        <td id=\"T_ec8d2_row14_col8\" class=\"data row14 col8\" >0.002808</td>\n                        <td id=\"T_ec8d2_row14_col9\" class=\"data row14 col9\" >0.006216</td>\n            </tr>\n            <tr>\n                        <th id=\"T_ec8d2_level0_row15\" class=\"row_heading level0 row15\" >22</th>\n                        <td id=\"T_ec8d2_row15_col0\" class=\"data row15 col0\" >Botswana</td>\n                        <td id=\"T_ec8d2_row15_col1\" class=\"data row15 col1\" >2021-05-29 00:00:00</td>\n                        <td id=\"T_ec8d2_row15_col2\" class=\"data row15 col2\" >53771</td>\n                        <td id=\"T_ec8d2_row15_col3\" class=\"data row15 col3\" >831</td>\n                        <td id=\"T_ec8d2_row15_col4\" class=\"data row15 col4\" >50494</td>\n                        <td id=\"T_ec8d2_row15_col5\" class=\"data row15 col5\" >2446</td>\n                        <td id=\"T_ec8d2_row15_col6\" class=\"data row15 col6\" >2351627</td>\n                        <td id=\"T_ec8d2_row15_col7\" class=\"data row15 col7\" >0.022865</td>\n                        <td id=\"T_ec8d2_row15_col8\" class=\"data row15 col8\" >0.000353</td>\n                        <td id=\"T_ec8d2_row15_col9\" class=\"data row15 col9\" >0.001040</td>\n            </tr>\n            <tr>\n                        <th id=\"T_ec8d2_level0_row16\" class=\"row_heading level0 row16\" >23</th>\n                        <td id=\"T_ec8d2_row16_col0\" class=\"data row16 col0\" >Brazil</td>\n                        <td id=\"T_ec8d2_row16_col1\" class=\"data row16 col1\" >2021-05-29 00:00:00</td>\n                        <td id=\"T_ec8d2_row16_col2\" class=\"data row16 col2\" >16471600</td>\n                        <td id=\"T_ec8d2_row16_col3\" class=\"data row16 col3\" >461057</td>\n                        <td id=\"T_ec8d2_row16_col4\" class=\"data row16 col4\" >14496224</td>\n                        <td id=\"T_ec8d2_row16_col5\" class=\"data row16 col5\" >1514319</td>\n                        <td id=\"T_ec8d2_row16_col6\" class=\"data row16 col6\" >212559417</td>\n                        <td id=\"T_ec8d2_row16_col7\" class=\"data row16 col7\" >0.077492</td>\n                        <td id=\"T_ec8d2_row16_col8\" class=\"data row16 col8\" >0.002169</td>\n                        <td id=\"T_ec8d2_row16_col9\" class=\"data row16 col9\" >0.007124</td>\n            </tr>\n            <tr>\n                        <th id=\"T_ec8d2_level0_row17\" class=\"row_heading level0 row17\" >25</th>\n                        <td id=\"T_ec8d2_row17_col0\" class=\"data row17 col0\" >Bulgaria</td>\n                        <td id=\"T_ec8d2_row17_col1\" class=\"data row17 col1\" >2021-05-29 00:00:00</td>\n                        <td id=\"T_ec8d2_row17_col2\" class=\"data row17 col2\" >418221</td>\n                        <td id=\"T_ec8d2_row17_col3\" class=\"data row17 col3\" >17657</td>\n                        <td id=\"T_ec8d2_row17_col4\" class=\"data row17 col4\" >380359</td>\n                        <td id=\"T_ec8d2_row17_col5\" class=\"data row17 col5\" >20205</td>\n                        <td id=\"T_ec8d2_row17_col6\" class=\"data row17 col6\" >6948445</td>\n                        <td id=\"T_ec8d2_row17_col7\" class=\"data row17 col7\" >0.060189</td>\n                        <td id=\"T_ec8d2_row17_col8\" class=\"data row17 col8\" >0.002541</td>\n                        <td id=\"T_ec8d2_row17_col9\" class=\"data row17 col9\" >0.002908</td>\n            </tr>\n            <tr>\n                        <th id=\"T_ec8d2_level0_row18\" class=\"row_heading level0 row18\" >27</th>\n                        <td id=\"T_ec8d2_row18_col0\" class=\"data row18 col0\" >Burma</td>\n                        <td id=\"T_ec8d2_row18_col1\" class=\"data row18 col1\" >2021-05-29 00:00:00</td>\n                        <td id=\"T_ec8d2_row18_col2\" class=\"data row18 col2\" >143526</td>\n                        <td id=\"T_ec8d2_row18_col3\" class=\"data row18 col3\" >3216</td>\n                        <td id=\"T_ec8d2_row18_col4\" class=\"data row18 col4\" >132297</td>\n                        <td id=\"T_ec8d2_row18_col5\" class=\"data row18 col5\" >8013</td>\n                        <td id=\"T_ec8d2_row18_col6\" class=\"data row18 col6\" >544098</td>\n                        <td id=\"T_ec8d2_row18_col7\" class=\"data row18 col7\" >0.263787</td>\n                        <td id=\"T_ec8d2_row18_col8\" class=\"data row18 col8\" >0.005911</td>\n                        <td id=\"T_ec8d2_row18_col9\" class=\"data row18 col9\" >0.014727</td>\n            </tr>\n            <tr>\n                        <th id=\"T_ec8d2_level0_row19\" class=\"row_heading level0 row19\" >30</th>\n                        <td id=\"T_ec8d2_row19_col0\" class=\"data row19 col0\" >Cameroon</td>\n                        <td id=\"T_ec8d2_row19_col1\" class=\"data row19 col1\" >2021-05-29 00:00:00</td>\n                        <td id=\"T_ec8d2_row19_col2\" class=\"data row19 col2\" >78929</td>\n                        <td id=\"T_ec8d2_row19_col3\" class=\"data row19 col3\" >1275</td>\n                        <td id=\"T_ec8d2_row19_col4\" class=\"data row19 col4\" >35261</td>\n                        <td id=\"T_ec8d2_row19_col5\" class=\"data row19 col5\" >42393</td>\n                        <td id=\"T_ec8d2_row19_col6\" class=\"data row19 col6\" >26545863</td>\n                        <td id=\"T_ec8d2_row19_col7\" class=\"data row19 col7\" >0.002973</td>\n                        <td id=\"T_ec8d2_row19_col8\" class=\"data row19 col8\" >0.000048</td>\n                        <td id=\"T_ec8d2_row19_col9\" class=\"data row19 col9\" >0.001597</td>\n            </tr>\n            <tr>\n                        <th id=\"T_ec8d2_level0_row20\" class=\"row_heading level0 row20\" >31</th>\n                        <td id=\"T_ec8d2_row20_col0\" class=\"data row20 col0\" >Canada</td>\n                        <td id=\"T_ec8d2_row20_col1\" class=\"data row20 col1\" >2021-05-29 00:00:00</td>\n                        <td id=\"T_ec8d2_row20_col2\" class=\"data row20 col2\" >1384373</td>\n                        <td id=\"T_ec8d2_row20_col3\" class=\"data row20 col3\" >25451</td>\n                        <td id=\"T_ec8d2_row20_col4\" class=\"data row20 col4\" >1322602</td>\n                        <td id=\"T_ec8d2_row20_col5\" class=\"data row20 col5\" >36320</td>\n                        <td id=\"T_ec8d2_row20_col6\" class=\"data row20 col6\" >37742154</td>\n                        <td id=\"T_ec8d2_row20_col7\" class=\"data row20 col7\" >0.036680</td>\n                        <td id=\"T_ec8d2_row20_col8\" class=\"data row20 col8\" >0.000674</td>\n                        <td id=\"T_ec8d2_row20_col9\" class=\"data row20 col9\" >0.000962</td>\n            </tr>\n            <tr>\n                        <th id=\"T_ec8d2_level0_row21\" class=\"row_heading level0 row21\" >34</th>\n                        <td id=\"T_ec8d2_row21_col0\" class=\"data row21 col0\" >Chile</td>\n                        <td id=\"T_ec8d2_row21_col1\" class=\"data row21 col1\" >2021-05-29 00:00:00</td>\n                        <td id=\"T_ec8d2_row21_col2\" class=\"data row21 col2\" >1369597</td>\n                        <td id=\"T_ec8d2_row21_col3\" class=\"data row21 col3\" >29047</td>\n                        <td id=\"T_ec8d2_row21_col4\" class=\"data row21 col4\" >1295499</td>\n                        <td id=\"T_ec8d2_row21_col5\" class=\"data row21 col5\" >45051</td>\n                        <td id=\"T_ec8d2_row21_col6\" class=\"data row21 col6\" >19116201</td>\n                        <td id=\"T_ec8d2_row21_col7\" class=\"data row21 col7\" >0.071646</td>\n                        <td id=\"T_ec8d2_row21_col8\" class=\"data row21 col8\" >0.001519</td>\n                        <td id=\"T_ec8d2_row21_col9\" class=\"data row21 col9\" >0.002357</td>\n            </tr>\n            <tr>\n                        <th id=\"T_ec8d2_level0_row22\" class=\"row_heading level0 row22\" >36</th>\n                        <td id=\"T_ec8d2_row22_col0\" class=\"data row22 col0\" >Colombia</td>\n                        <td id=\"T_ec8d2_row22_col1\" class=\"data row22 col1\" >2021-05-29 00:00:00</td>\n                        <td id=\"T_ec8d2_row22_col2\" class=\"data row22 col2\" >3363061</td>\n                        <td id=\"T_ec8d2_row22_col3\" class=\"data row22 col3\" >87747</td>\n                        <td id=\"T_ec8d2_row22_col4\" class=\"data row22 col4\" >3141549</td>\n                        <td id=\"T_ec8d2_row22_col5\" class=\"data row22 col5\" >133765</td>\n                        <td id=\"T_ec8d2_row22_col6\" class=\"data row22 col6\" >50882891</td>\n                        <td id=\"T_ec8d2_row22_col7\" class=\"data row22 col7\" >0.066094</td>\n                        <td id=\"T_ec8d2_row22_col8\" class=\"data row22 col8\" >0.001724</td>\n                        <td id=\"T_ec8d2_row22_col9\" class=\"data row22 col9\" >0.002629</td>\n            </tr>\n            <tr>\n                        <th id=\"T_ec8d2_level0_row23\" class=\"row_heading level0 row23\" >40</th>\n                        <td id=\"T_ec8d2_row23_col0\" class=\"data row23 col0\" >Costa Rica</td>\n                        <td id=\"T_ec8d2_row23_col1\" class=\"data row23 col1\" >2021-05-29 00:00:00</td>\n                        <td id=\"T_ec8d2_row23_col2\" class=\"data row23 col2\" >314102</td>\n                        <td id=\"T_ec8d2_row23_col3\" class=\"data row23 col3\" >3962</td>\n                        <td id=\"T_ec8d2_row23_col4\" class=\"data row23 col4\" >242019</td>\n                        <td id=\"T_ec8d2_row23_col5\" class=\"data row23 col5\" >68121</td>\n                        <td id=\"T_ec8d2_row23_col6\" class=\"data row23 col6\" >5094118</td>\n                        <td id=\"T_ec8d2_row23_col7\" class=\"data row23 col7\" >0.061660</td>\n                        <td id=\"T_ec8d2_row23_col8\" class=\"data row23 col8\" >0.000778</td>\n                        <td id=\"T_ec8d2_row23_col9\" class=\"data row23 col9\" >0.013372</td>\n            </tr>\n            <tr>\n                        <th id=\"T_ec8d2_level0_row24\" class=\"row_heading level0 row24\" >41</th>\n                        <td id=\"T_ec8d2_row24_col0\" class=\"data row24 col0\" >Croatia</td>\n                        <td id=\"T_ec8d2_row24_col1\" class=\"data row24 col1\" >2021-05-29 00:00:00</td>\n                        <td id=\"T_ec8d2_row24_col2\" class=\"data row24 col2\" >355955</td>\n                        <td id=\"T_ec8d2_row24_col3\" class=\"data row24 col3\" >8002</td>\n                        <td id=\"T_ec8d2_row24_col4\" class=\"data row24 col4\" >345396</td>\n                        <td id=\"T_ec8d2_row24_col5\" class=\"data row24 col5\" >2557</td>\n                        <td id=\"T_ec8d2_row24_col6\" class=\"data row24 col6\" >4105267</td>\n                        <td id=\"T_ec8d2_row24_col7\" class=\"data row24 col7\" >0.086707</td>\n                        <td id=\"T_ec8d2_row24_col8\" class=\"data row24 col8\" >0.001949</td>\n                        <td id=\"T_ec8d2_row24_col9\" class=\"data row24 col9\" >0.000623</td>\n            </tr>\n            <tr>\n                        <th id=\"T_ec8d2_level0_row25\" class=\"row_heading level0 row25\" >43</th>\n                        <td id=\"T_ec8d2_row25_col0\" class=\"data row25 col0\" >Cyprus</td>\n                        <td id=\"T_ec8d2_row25_col1\" class=\"data row25 col1\" >2021-05-29 00:00:00</td>\n                        <td id=\"T_ec8d2_row25_col2\" class=\"data row25 col2\" >72363</td>\n                        <td id=\"T_ec8d2_row25_col3\" class=\"data row25 col3\" >360</td>\n                        <td id=\"T_ec8d2_row25_col4\" class=\"data row25 col4\" >39061</td>\n                        <td id=\"T_ec8d2_row25_col5\" class=\"data row25 col5\" >32942</td>\n                        <td id=\"T_ec8d2_row25_col6\" class=\"data row25 col6\" >1207359</td>\n                        <td id=\"T_ec8d2_row25_col7\" class=\"data row25 col7\" >0.059935</td>\n                        <td id=\"T_ec8d2_row25_col8\" class=\"data row25 col8\" >0.000298</td>\n                        <td id=\"T_ec8d2_row25_col9\" class=\"data row25 col9\" >0.027284</td>\n            </tr>\n            <tr>\n                        <th id=\"T_ec8d2_level0_row26\" class=\"row_heading level0 row26\" >44</th>\n                        <td id=\"T_ec8d2_row26_col0\" class=\"data row26 col0\" >Czechia</td>\n                        <td id=\"T_ec8d2_row26_col1\" class=\"data row26 col1\" >2021-05-29 00:00:00</td>\n                        <td id=\"T_ec8d2_row26_col2\" class=\"data row26 col2\" >1660935</td>\n                        <td id=\"T_ec8d2_row26_col3\" class=\"data row26 col3\" >30101</td>\n                        <td id=\"T_ec8d2_row26_col4\" class=\"data row26 col4\" >1617498</td>\n                        <td id=\"T_ec8d2_row26_col5\" class=\"data row26 col5\" >13336</td>\n                        <td id=\"T_ec8d2_row26_col6\" class=\"data row26 col6\" >10708981</td>\n                        <td id=\"T_ec8d2_row26_col7\" class=\"data row26 col7\" >0.155097</td>\n                        <td id=\"T_ec8d2_row26_col8\" class=\"data row26 col8\" >0.002811</td>\n                        <td id=\"T_ec8d2_row26_col9\" class=\"data row26 col9\" >0.001245</td>\n            </tr>\n            <tr>\n                        <th id=\"T_ec8d2_level0_row27\" class=\"row_heading level0 row27\" >45</th>\n                        <td id=\"T_ec8d2_row27_col0\" class=\"data row27 col0\" >Denmark</td>\n                        <td id=\"T_ec8d2_row27_col1\" class=\"data row27 col1\" >2021-05-29 00:00:00</td>\n                        <td id=\"T_ec8d2_row27_col2\" class=\"data row27 col2\" >280183</td>\n                        <td id=\"T_ec8d2_row27_col3\" class=\"data row27 col3\" >2517</td>\n                        <td id=\"T_ec8d2_row27_col4\" class=\"data row27 col4\" >264320</td>\n                        <td id=\"T_ec8d2_row27_col5\" class=\"data row27 col5\" >13346</td>\n                        <td id=\"T_ec8d2_row27_col6\" class=\"data row27 col6\" >5792202</td>\n                        <td id=\"T_ec8d2_row27_col7\" class=\"data row27 col7\" >0.048372</td>\n                        <td id=\"T_ec8d2_row27_col8\" class=\"data row27 col8\" >0.000435</td>\n                        <td id=\"T_ec8d2_row27_col9\" class=\"data row27 col9\" >0.002304</td>\n            </tr>\n            <tr>\n                        <th id=\"T_ec8d2_level0_row28\" class=\"row_heading level0 row28\" >46</th>\n                        <td id=\"T_ec8d2_row28_col0\" class=\"data row28 col0\" >Djibouti</td>\n                        <td id=\"T_ec8d2_row28_col1\" class=\"data row28 col1\" >2021-05-29 00:00:00</td>\n                        <td id=\"T_ec8d2_row28_col2\" class=\"data row28 col2\" >11523</td>\n                        <td id=\"T_ec8d2_row28_col3\" class=\"data row28 col3\" >153</td>\n                        <td id=\"T_ec8d2_row28_col4\" class=\"data row28 col4\" >11354</td>\n                        <td id=\"T_ec8d2_row28_col5\" class=\"data row28 col5\" >16</td>\n                        <td id=\"T_ec8d2_row28_col6\" class=\"data row28 col6\" >988</td>\n                        <td id=\"T_ec8d2_row28_col7\" class=\"data row28 col7\" >11.662955</td>\n                        <td id=\"T_ec8d2_row28_col8\" class=\"data row28 col8\" >0.154858</td>\n                        <td id=\"T_ec8d2_row28_col9\" class=\"data row28 col9\" >0.016194</td>\n            </tr>\n            <tr>\n                        <th id=\"T_ec8d2_level0_row29\" class=\"row_heading level0 row29\" >48</th>\n                        <td id=\"T_ec8d2_row29_col0\" class=\"data row29 col0\" >Dominican Republic</td>\n                        <td id=\"T_ec8d2_row29_col1\" class=\"data row29 col1\" >2021-05-29 00:00:00</td>\n                        <td id=\"T_ec8d2_row29_col2\" class=\"data row29 col2\" >290526</td>\n                        <td id=\"T_ec8d2_row29_col3\" class=\"data row29 col3\" >3628</td>\n                        <td id=\"T_ec8d2_row29_col4\" class=\"data row29 col4\" >238810</td>\n                        <td id=\"T_ec8d2_row29_col5\" class=\"data row29 col5\" >48088</td>\n                        <td id=\"T_ec8d2_row29_col6\" class=\"data row29 col6\" >1084791</td>\n                        <td id=\"T_ec8d2_row29_col7\" class=\"data row29 col7\" >0.267817</td>\n                        <td id=\"T_ec8d2_row29_col8\" class=\"data row29 col8\" >0.003344</td>\n                        <td id=\"T_ec8d2_row29_col9\" class=\"data row29 col9\" >0.044329</td>\n            </tr>\n            <tr>\n                        <th id=\"T_ec8d2_level0_row30\" class=\"row_heading level0 row30\" >49</th>\n                        <td id=\"T_ec8d2_row30_col0\" class=\"data row30 col0\" >Ecuador</td>\n                        <td id=\"T_ec8d2_row30_col1\" class=\"data row30 col1\" >2021-05-29 00:00:00</td>\n                        <td id=\"T_ec8d2_row30_col2\" class=\"data row30 col2\" >424741</td>\n                        <td id=\"T_ec8d2_row30_col3\" class=\"data row30 col3\" >20485</td>\n                        <td id=\"T_ec8d2_row30_col4\" class=\"data row30 col4\" >366425</td>\n                        <td id=\"T_ec8d2_row30_col5\" class=\"data row30 col5\" >37831</td>\n                        <td id=\"T_ec8d2_row30_col6\" class=\"data row30 col6\" >17643054</td>\n                        <td id=\"T_ec8d2_row30_col7\" class=\"data row30 col7\" >0.024074</td>\n                        <td id=\"T_ec8d2_row30_col8\" class=\"data row30 col8\" >0.001161</td>\n                        <td id=\"T_ec8d2_row30_col9\" class=\"data row30 col9\" >0.002144</td>\n            </tr>\n            <tr>\n                        <th id=\"T_ec8d2_level0_row31\" class=\"row_heading level0 row31\" >51</th>\n                        <td id=\"T_ec8d2_row31_col0\" class=\"data row31 col0\" >El Salvador</td>\n                        <td id=\"T_ec8d2_row31_col1\" class=\"data row31 col1\" >2021-05-29 00:00:00</td>\n                        <td id=\"T_ec8d2_row31_col2\" class=\"data row31 col2\" >73246</td>\n                        <td id=\"T_ec8d2_row31_col3\" class=\"data row31 col3\" >2241</td>\n                        <td id=\"T_ec8d2_row31_col4\" class=\"data row31 col4\" >68408</td>\n                        <td id=\"T_ec8d2_row31_col5\" class=\"data row31 col5\" >2597</td>\n                        <td id=\"T_ec8d2_row31_col6\" class=\"data row31 col6\" >6486205</td>\n                        <td id=\"T_ec8d2_row31_col7\" class=\"data row31 col7\" >0.011293</td>\n                        <td id=\"T_ec8d2_row31_col8\" class=\"data row31 col8\" >0.000346</td>\n                        <td id=\"T_ec8d2_row31_col9\" class=\"data row31 col9\" >0.000400</td>\n            </tr>\n            <tr>\n                        <th id=\"T_ec8d2_level0_row32\" class=\"row_heading level0 row32\" >54</th>\n                        <td id=\"T_ec8d2_row32_col0\" class=\"data row32 col0\" >Estonia</td>\n                        <td id=\"T_ec8d2_row32_col1\" class=\"data row32 col1\" >2021-05-29 00:00:00</td>\n                        <td id=\"T_ec8d2_row32_col2\" class=\"data row32 col2\" >129424</td>\n                        <td id=\"T_ec8d2_row32_col3\" class=\"data row32 col3\" >1250</td>\n                        <td id=\"T_ec8d2_row32_col4\" class=\"data row32 col4\" >122918</td>\n                        <td id=\"T_ec8d2_row32_col5\" class=\"data row32 col5\" >5256</td>\n                        <td id=\"T_ec8d2_row32_col6\" class=\"data row32 col6\" >1326535</td>\n                        <td id=\"T_ec8d2_row32_col7\" class=\"data row32 col7\" >0.097565</td>\n                        <td id=\"T_ec8d2_row32_col8\" class=\"data row32 col8\" >0.000942</td>\n                        <td id=\"T_ec8d2_row32_col9\" class=\"data row32 col9\" >0.003962</td>\n            </tr>\n            <tr>\n                        <th id=\"T_ec8d2_level0_row33\" class=\"row_heading level0 row33\" >57</th>\n                        <td id=\"T_ec8d2_row33_col0\" class=\"data row33 col0\" >Finland</td>\n                        <td id=\"T_ec8d2_row33_col1\" class=\"data row33 col1\" >2021-05-29 00:00:00</td>\n                        <td id=\"T_ec8d2_row33_col2\" class=\"data row33 col2\" >92244</td>\n                        <td id=\"T_ec8d2_row33_col3\" class=\"data row33 col3\" >948</td>\n                        <td id=\"T_ec8d2_row33_col4\" class=\"data row33 col4\" >46000</td>\n                        <td id=\"T_ec8d2_row33_col5\" class=\"data row33 col5\" >45296</td>\n                        <td id=\"T_ec8d2_row33_col6\" class=\"data row33 col6\" >554072</td>\n                        <td id=\"T_ec8d2_row33_col7\" class=\"data row33 col7\" >0.166484</td>\n                        <td id=\"T_ec8d2_row33_col8\" class=\"data row33 col8\" >0.001711</td>\n                        <td id=\"T_ec8d2_row33_col9\" class=\"data row33 col9\" >0.081751</td>\n            </tr>\n            <tr>\n                        <th id=\"T_ec8d2_level0_row34\" class=\"row_heading level0 row34\" >58</th>\n                        <td id=\"T_ec8d2_row34_col0\" class=\"data row34 col0\" >France</td>\n                        <td id=\"T_ec8d2_row34_col1\" class=\"data row34 col1\" >2021-05-29 00:00:00</td>\n                        <td id=\"T_ec8d2_row34_col2\" class=\"data row34 col2\" >5719877</td>\n                        <td id=\"T_ec8d2_row34_col3\" class=\"data row34 col3\" >109518</td>\n                        <td id=\"T_ec8d2_row34_col4\" class=\"data row34 col4\" >390878</td>\n                        <td id=\"T_ec8d2_row34_col5\" class=\"data row34 col5\" >5219481</td>\n                        <td id=\"T_ec8d2_row34_col6\" class=\"data row34 col6\" >65273511</td>\n                        <td id=\"T_ec8d2_row34_col7\" class=\"data row34 col7\" >0.087629</td>\n                        <td id=\"T_ec8d2_row34_col8\" class=\"data row34 col8\" >0.001678</td>\n                        <td id=\"T_ec8d2_row34_col9\" class=\"data row34 col9\" >0.079963</td>\n            </tr>\n            <tr>\n                        <th id=\"T_ec8d2_level0_row35\" class=\"row_heading level0 row35\" >59</th>\n                        <td id=\"T_ec8d2_row35_col0\" class=\"data row35 col0\" >Gabon</td>\n                        <td id=\"T_ec8d2_row35_col1\" class=\"data row35 col1\" >2021-05-29 00:00:00</td>\n                        <td id=\"T_ec8d2_row35_col2\" class=\"data row35 col2\" >24365</td>\n                        <td id=\"T_ec8d2_row35_col3\" class=\"data row35 col3\" >150</td>\n                        <td id=\"T_ec8d2_row35_col4\" class=\"data row35 col4\" >21791</td>\n                        <td id=\"T_ec8d2_row35_col5\" class=\"data row35 col5\" >2424</td>\n                        <td id=\"T_ec8d2_row35_col6\" class=\"data row35 col6\" >2225734</td>\n                        <td id=\"T_ec8d2_row35_col7\" class=\"data row35 col7\" >0.010947</td>\n                        <td id=\"T_ec8d2_row35_col8\" class=\"data row35 col8\" >0.000067</td>\n                        <td id=\"T_ec8d2_row35_col9\" class=\"data row35 col9\" >0.001089</td>\n            </tr>\n            <tr>\n                        <th id=\"T_ec8d2_level0_row36\" class=\"row_heading level0 row36\" >61</th>\n                        <td id=\"T_ec8d2_row36_col0\" class=\"data row36 col0\" >Georgia</td>\n                        <td id=\"T_ec8d2_row36_col1\" class=\"data row36 col1\" >2021-05-29 00:00:00</td>\n                        <td id=\"T_ec8d2_row36_col2\" class=\"data row36 col2\" >342880</td>\n                        <td id=\"T_ec8d2_row36_col3\" class=\"data row36 col3\" >4739</td>\n                        <td id=\"T_ec8d2_row36_col4\" class=\"data row36 col4\" >325016</td>\n                        <td id=\"T_ec8d2_row36_col5\" class=\"data row36 col5\" >13125</td>\n                        <td id=\"T_ec8d2_row36_col6\" class=\"data row36 col6\" >3989167</td>\n                        <td id=\"T_ec8d2_row36_col7\" class=\"data row36 col7\" >0.085953</td>\n                        <td id=\"T_ec8d2_row36_col8\" class=\"data row36 col8\" >0.001188</td>\n                        <td id=\"T_ec8d2_row36_col9\" class=\"data row36 col9\" >0.003290</td>\n            </tr>\n            <tr>\n                        <th id=\"T_ec8d2_level0_row37\" class=\"row_heading level0 row37\" >62</th>\n                        <td id=\"T_ec8d2_row37_col0\" class=\"data row37 col0\" >Germany</td>\n                        <td id=\"T_ec8d2_row37_col1\" class=\"data row37 col1\" >2021-05-29 00:00:00</td>\n                        <td id=\"T_ec8d2_row37_col2\" class=\"data row37 col2\" >3684672</td>\n                        <td id=\"T_ec8d2_row37_col3\" class=\"data row37 col3\" >88413</td>\n                        <td id=\"T_ec8d2_row37_col4\" class=\"data row37 col4\" >3479700</td>\n                        <td id=\"T_ec8d2_row37_col5\" class=\"data row37 col5\" >116559</td>\n                        <td id=\"T_ec8d2_row37_col6\" class=\"data row37 col6\" >83783942</td>\n                        <td id=\"T_ec8d2_row37_col7\" class=\"data row37 col7\" >0.043978</td>\n                        <td id=\"T_ec8d2_row37_col8\" class=\"data row37 col8\" >0.001055</td>\n                        <td id=\"T_ec8d2_row37_col9\" class=\"data row37 col9\" >0.001391</td>\n            </tr>\n            <tr>\n                        <th id=\"T_ec8d2_level0_row38\" class=\"row_heading level0 row38\" >64</th>\n                        <td id=\"T_ec8d2_row38_col0\" class=\"data row38 col0\" >Greece</td>\n                        <td id=\"T_ec8d2_row38_col1\" class=\"data row38 col1\" >2021-05-29 00:00:00</td>\n                        <td id=\"T_ec8d2_row38_col2\" class=\"data row38 col2\" >400395</td>\n                        <td id=\"T_ec8d2_row38_col3\" class=\"data row38 col3\" >12024</td>\n                        <td id=\"T_ec8d2_row38_col4\" class=\"data row38 col4\" >93764</td>\n                        <td id=\"T_ec8d2_row38_col5\" class=\"data row38 col5\" >294607</td>\n                        <td id=\"T_ec8d2_row38_col6\" class=\"data row38 col6\" >10423054</td>\n                        <td id=\"T_ec8d2_row38_col7\" class=\"data row38 col7\" >0.038414</td>\n                        <td id=\"T_ec8d2_row38_col8\" class=\"data row38 col8\" >0.001154</td>\n                        <td id=\"T_ec8d2_row38_col9\" class=\"data row38 col9\" >0.028265</td>\n            </tr>\n            <tr>\n                        <th id=\"T_ec8d2_level0_row39\" class=\"row_heading level0 row39\" >66</th>\n                        <td id=\"T_ec8d2_row39_col0\" class=\"data row39 col0\" >Guatemala</td>\n                        <td id=\"T_ec8d2_row39_col1\" class=\"data row39 col1\" >2021-05-29 00:00:00</td>\n                        <td id=\"T_ec8d2_row39_col2\" class=\"data row39 col2\" >253837</td>\n                        <td id=\"T_ec8d2_row39_col3\" class=\"data row39 col3\" >8121</td>\n                        <td id=\"T_ec8d2_row39_col4\" class=\"data row39 col4\" >232359</td>\n                        <td id=\"T_ec8d2_row39_col5\" class=\"data row39 col5\" >13357</td>\n                        <td id=\"T_ec8d2_row39_col6\" class=\"data row39 col6\" >17915568</td>\n                        <td id=\"T_ec8d2_row39_col7\" class=\"data row39 col7\" >0.014169</td>\n                        <td id=\"T_ec8d2_row39_col8\" class=\"data row39 col8\" >0.000453</td>\n                        <td id=\"T_ec8d2_row39_col9\" class=\"data row39 col9\" >0.000746</td>\n            </tr>\n            <tr>\n                        <th id=\"T_ec8d2_level0_row40\" class=\"row_heading level0 row40\" >69</th>\n                        <td id=\"T_ec8d2_row40_col0\" class=\"data row40 col0\" >Guyana</td>\n                        <td id=\"T_ec8d2_row40_col1\" class=\"data row40 col1\" >2021-05-29 00:00:00</td>\n                        <td id=\"T_ec8d2_row40_col2\" class=\"data row40 col2\" >16822</td>\n                        <td id=\"T_ec8d2_row40_col3\" class=\"data row40 col3\" >382</td>\n                        <td id=\"T_ec8d2_row40_col4\" class=\"data row40 col4\" >14468</td>\n                        <td id=\"T_ec8d2_row40_col5\" class=\"data row40 col5\" >1972</td>\n                        <td id=\"T_ec8d2_row40_col6\" class=\"data row40 col6\" >786552</td>\n                        <td id=\"T_ec8d2_row40_col7\" class=\"data row40 col7\" >0.021387</td>\n                        <td id=\"T_ec8d2_row40_col8\" class=\"data row40 col8\" >0.000486</td>\n                        <td id=\"T_ec8d2_row40_col9\" class=\"data row40 col9\" >0.002507</td>\n            </tr>\n            <tr>\n                        <th id=\"T_ec8d2_level0_row41\" class=\"row_heading level0 row41\" >72</th>\n                        <td id=\"T_ec8d2_row41_col0\" class=\"data row41 col0\" >Honduras</td>\n                        <td id=\"T_ec8d2_row41_col1\" class=\"data row41 col1\" >2021-05-29 00:00:00</td>\n                        <td id=\"T_ec8d2_row41_col2\" class=\"data row41 col2\" >236952</td>\n                        <td id=\"T_ec8d2_row41_col3\" class=\"data row41 col3\" >6296</td>\n                        <td id=\"T_ec8d2_row41_col4\" class=\"data row41 col4\" >84389</td>\n                        <td id=\"T_ec8d2_row41_col5\" class=\"data row41 col5\" >146267</td>\n                        <td id=\"T_ec8d2_row41_col6\" class=\"data row41 col6\" >9904607</td>\n                        <td id=\"T_ec8d2_row41_col7\" class=\"data row41 col7\" >0.023923</td>\n                        <td id=\"T_ec8d2_row41_col8\" class=\"data row41 col8\" >0.000636</td>\n                        <td id=\"T_ec8d2_row41_col9\" class=\"data row41 col9\" >0.014768</td>\n            </tr>\n            <tr>\n                        <th id=\"T_ec8d2_level0_row42\" class=\"row_heading level0 row42\" >73</th>\n                        <td id=\"T_ec8d2_row42_col0\" class=\"data row42 col0\" >Hungary</td>\n                        <td id=\"T_ec8d2_row42_col1\" class=\"data row42 col1\" >2021-05-29 00:00:00</td>\n                        <td id=\"T_ec8d2_row42_col2\" class=\"data row42 col2\" >804032</td>\n                        <td id=\"T_ec8d2_row42_col3\" class=\"data row42 col3\" >29709</td>\n                        <td id=\"T_ec8d2_row42_col4\" class=\"data row42 col4\" >692248</td>\n                        <td id=\"T_ec8d2_row42_col5\" class=\"data row42 col5\" >82075</td>\n                        <td id=\"T_ec8d2_row42_col6\" class=\"data row42 col6\" >9660351</td>\n                        <td id=\"T_ec8d2_row42_col7\" class=\"data row42 col7\" >0.083230</td>\n                        <td id=\"T_ec8d2_row42_col8\" class=\"data row42 col8\" >0.003075</td>\n                        <td id=\"T_ec8d2_row42_col9\" class=\"data row42 col9\" >0.008496</td>\n            </tr>\n            <tr>\n                        <th id=\"T_ec8d2_level0_row43\" class=\"row_heading level0 row43\" >75</th>\n                        <td id=\"T_ec8d2_row43_col0\" class=\"data row43 col0\" >India</td>\n                        <td id=\"T_ec8d2_row43_col1\" class=\"data row43 col1\" >2021-05-29 00:00:00</td>\n                        <td id=\"T_ec8d2_row43_col2\" class=\"data row43 col2\" >27894800</td>\n                        <td id=\"T_ec8d2_row43_col3\" class=\"data row43 col3\" >325972</td>\n                        <td id=\"T_ec8d2_row43_col4\" class=\"data row43 col4\" >25454320</td>\n                        <td id=\"T_ec8d2_row43_col5\" class=\"data row43 col5\" >2114508</td>\n                        <td id=\"T_ec8d2_row43_col6\" class=\"data row43 col6\" >1380004385</td>\n                        <td id=\"T_ec8d2_row43_col7\" class=\"data row43 col7\" >0.020214</td>\n                        <td id=\"T_ec8d2_row43_col8\" class=\"data row43 col8\" >0.000236</td>\n                        <td id=\"T_ec8d2_row43_col9\" class=\"data row43 col9\" >0.001532</td>\n            </tr>\n            <tr>\n                        <th id=\"T_ec8d2_level0_row44\" class=\"row_heading level0 row44\" >77</th>\n                        <td id=\"T_ec8d2_row44_col0\" class=\"data row44 col0\" >Iran</td>\n                        <td id=\"T_ec8d2_row44_col1\" class=\"data row44 col1\" >2021-05-29 00:00:00</td>\n                        <td id=\"T_ec8d2_row44_col2\" class=\"data row44 col2\" >2893218</td>\n                        <td id=\"T_ec8d2_row44_col3\" class=\"data row44 col3\" >79741</td>\n                        <td id=\"T_ec8d2_row44_col4\" class=\"data row44 col4\" >2425033</td>\n                        <td id=\"T_ec8d2_row44_col5\" class=\"data row44 col5\" >388444</td>\n                        <td id=\"T_ec8d2_row44_col6\" class=\"data row44 col6\" >83992949</td>\n                        <td id=\"T_ec8d2_row44_col7\" class=\"data row44 col7\" >0.034446</td>\n                        <td id=\"T_ec8d2_row44_col8\" class=\"data row44 col8\" >0.000949</td>\n                        <td id=\"T_ec8d2_row44_col9\" class=\"data row44 col9\" >0.004625</td>\n            </tr>\n            <tr>\n                        <th id=\"T_ec8d2_level0_row45\" class=\"row_heading level0 row45\" >78</th>\n                        <td id=\"T_ec8d2_row45_col0\" class=\"data row45 col0\" >Iraq</td>\n                        <td id=\"T_ec8d2_row45_col1\" class=\"data row45 col1\" >2021-05-29 00:00:00</td>\n                        <td id=\"T_ec8d2_row45_col2\" class=\"data row45 col2\" >1193608</td>\n                        <td id=\"T_ec8d2_row45_col3\" class=\"data row45 col3\" >16334</td>\n                        <td id=\"T_ec8d2_row45_col4\" class=\"data row45 col4\" >1107101</td>\n                        <td id=\"T_ec8d2_row45_col5\" class=\"data row45 col5\" >70173</td>\n                        <td id=\"T_ec8d2_row45_col6\" class=\"data row45 col6\" >40222493</td>\n                        <td id=\"T_ec8d2_row45_col7\" class=\"data row45 col7\" >0.029675</td>\n                        <td id=\"T_ec8d2_row45_col8\" class=\"data row45 col8\" >0.000406</td>\n                        <td id=\"T_ec8d2_row45_col9\" class=\"data row45 col9\" >0.001745</td>\n            </tr>\n            <tr>\n                        <th id=\"T_ec8d2_level0_row46\" class=\"row_heading level0 row46\" >79</th>\n                        <td id=\"T_ec8d2_row46_col0\" class=\"data row46 col0\" >Ireland</td>\n                        <td id=\"T_ec8d2_row46_col1\" class=\"data row46 col1\" >2021-05-29 00:00:00</td>\n                        <td id=\"T_ec8d2_row46_col2\" class=\"data row46 col2\" >254870</td>\n                        <td id=\"T_ec8d2_row46_col3\" class=\"data row46 col3\" >4941</td>\n                        <td id=\"T_ec8d2_row46_col4\" class=\"data row46 col4\" >23364</td>\n                        <td id=\"T_ec8d2_row46_col5\" class=\"data row46 col5\" >226565</td>\n                        <td id=\"T_ec8d2_row46_col6\" class=\"data row46 col6\" >4937786</td>\n                        <td id=\"T_ec8d2_row46_col7\" class=\"data row46 col7\" >0.051616</td>\n                        <td id=\"T_ec8d2_row46_col8\" class=\"data row46 col8\" >0.001001</td>\n                        <td id=\"T_ec8d2_row46_col9\" class=\"data row46 col9\" >0.045884</td>\n            </tr>\n            <tr>\n                        <th id=\"T_ec8d2_level0_row47\" class=\"row_heading level0 row47\" >80</th>\n                        <td id=\"T_ec8d2_row47_col0\" class=\"data row47 col0\" >Israel</td>\n                        <td id=\"T_ec8d2_row47_col1\" class=\"data row47 col1\" >2021-05-29 00:00:00</td>\n                        <td id=\"T_ec8d2_row47_col2\" class=\"data row47 col2\" >839453</td>\n                        <td id=\"T_ec8d2_row47_col3\" class=\"data row47 col3\" >6407</td>\n                        <td id=\"T_ec8d2_row47_col4\" class=\"data row47 col4\" >832539</td>\n                        <td id=\"T_ec8d2_row47_col5\" class=\"data row47 col5\" >507</td>\n                        <td id=\"T_ec8d2_row47_col6\" class=\"data row47 col6\" >8655535</td>\n                        <td id=\"T_ec8d2_row47_col7\" class=\"data row47 col7\" >0.096985</td>\n                        <td id=\"T_ec8d2_row47_col8\" class=\"data row47 col8\" >0.000740</td>\n                        <td id=\"T_ec8d2_row47_col9\" class=\"data row47 col9\" >0.000059</td>\n            </tr>\n            <tr>\n                        <th id=\"T_ec8d2_level0_row48\" class=\"row_heading level0 row48\" >81</th>\n                        <td id=\"T_ec8d2_row48_col0\" class=\"data row48 col0\" >Italy</td>\n                        <td id=\"T_ec8d2_row48_col1\" class=\"data row48 col1\" >2021-05-29 00:00:00</td>\n                        <td id=\"T_ec8d2_row48_col2\" class=\"data row48 col2\" >4213055</td>\n                        <td id=\"T_ec8d2_row48_col3\" class=\"data row48 col3\" >126002</td>\n                        <td id=\"T_ec8d2_row48_col4\" class=\"data row48 col4\" >3845087</td>\n                        <td id=\"T_ec8d2_row48_col5\" class=\"data row48 col5\" >241966</td>\n                        <td id=\"T_ec8d2_row48_col6\" class=\"data row48 col6\" >60461826</td>\n                        <td id=\"T_ec8d2_row48_col7\" class=\"data row48 col7\" >0.069681</td>\n                        <td id=\"T_ec8d2_row48_col8\" class=\"data row48 col8\" >0.002084</td>\n                        <td id=\"T_ec8d2_row48_col9\" class=\"data row48 col9\" >0.004002</td>\n            </tr>\n            <tr>\n                        <th id=\"T_ec8d2_level0_row49\" class=\"row_heading level0 row49\" >82</th>\n                        <td id=\"T_ec8d2_row49_col0\" class=\"data row49 col0\" >Jamaica</td>\n                        <td id=\"T_ec8d2_row49_col1\" class=\"data row49 col1\" >2021-05-29 00:00:00</td>\n                        <td id=\"T_ec8d2_row49_col2\" class=\"data row49 col2\" >48374</td>\n                        <td id=\"T_ec8d2_row49_col3\" class=\"data row49 col3\" >942</td>\n                        <td id=\"T_ec8d2_row49_col4\" class=\"data row49 col4\" >24866</td>\n                        <td id=\"T_ec8d2_row49_col5\" class=\"data row49 col5\" >22566</td>\n                        <td id=\"T_ec8d2_row49_col6\" class=\"data row49 col6\" >2961167</td>\n                        <td id=\"T_ec8d2_row49_col7\" class=\"data row49 col7\" >0.016336</td>\n                        <td id=\"T_ec8d2_row49_col8\" class=\"data row49 col8\" >0.000318</td>\n                        <td id=\"T_ec8d2_row49_col9\" class=\"data row49 col9\" >0.007621</td>\n            </tr>\n            <tr>\n                        <th id=\"T_ec8d2_level0_row50\" class=\"row_heading level0 row50\" >84</th>\n                        <td id=\"T_ec8d2_row50_col0\" class=\"data row50 col0\" >Jordan</td>\n                        <td id=\"T_ec8d2_row50_col1\" class=\"data row50 col1\" >2021-05-29 00:00:00</td>\n                        <td id=\"T_ec8d2_row50_col2\" class=\"data row50 col2\" >734659</td>\n                        <td id=\"T_ec8d2_row50_col3\" class=\"data row50 col3\" >9436</td>\n                        <td id=\"T_ec8d2_row50_col4\" class=\"data row50 col4\" >713902</td>\n                        <td id=\"T_ec8d2_row50_col5\" class=\"data row50 col5\" >11321</td>\n                        <td id=\"T_ec8d2_row50_col6\" class=\"data row50 col6\" >10203134</td>\n                        <td id=\"T_ec8d2_row50_col7\" class=\"data row50 col7\" >0.072003</td>\n                        <td id=\"T_ec8d2_row50_col8\" class=\"data row50 col8\" >0.000925</td>\n                        <td id=\"T_ec8d2_row50_col9\" class=\"data row50 col9\" >0.001110</td>\n            </tr>\n            <tr>\n                        <th id=\"T_ec8d2_level0_row51\" class=\"row_heading level0 row51\" >85</th>\n                        <td id=\"T_ec8d2_row51_col0\" class=\"data row51 col0\" >Kazakhstan</td>\n                        <td id=\"T_ec8d2_row51_col1\" class=\"data row51 col1\" >2021-05-29 00:00:00</td>\n                        <td id=\"T_ec8d2_row51_col2\" class=\"data row51 col2\" >438715</td>\n                        <td id=\"T_ec8d2_row51_col3\" class=\"data row51 col3\" >3442</td>\n                        <td id=\"T_ec8d2_row51_col4\" class=\"data row51 col4\" >402272</td>\n                        <td id=\"T_ec8d2_row51_col5\" class=\"data row51 col5\" >33001</td>\n                        <td id=\"T_ec8d2_row51_col6\" class=\"data row51 col6\" >18776707</td>\n                        <td id=\"T_ec8d2_row51_col7\" class=\"data row51 col7\" >0.023365</td>\n                        <td id=\"T_ec8d2_row51_col8\" class=\"data row51 col8\" >0.000183</td>\n                        <td id=\"T_ec8d2_row51_col9\" class=\"data row51 col9\" >0.001758</td>\n            </tr>\n            <tr>\n                        <th id=\"T_ec8d2_level0_row52\" class=\"row_heading level0 row52\" >86</th>\n                        <td id=\"T_ec8d2_row52_col0\" class=\"data row52 col0\" >Kenya</td>\n                        <td id=\"T_ec8d2_row52_col1\" class=\"data row52 col1\" >2021-05-29 00:00:00</td>\n                        <td id=\"T_ec8d2_row52_col2\" class=\"data row52 col2\" >170485</td>\n                        <td id=\"T_ec8d2_row52_col3\" class=\"data row52 col3\" >3141</td>\n                        <td id=\"T_ec8d2_row52_col4\" class=\"data row52 col4\" >116133</td>\n                        <td id=\"T_ec8d2_row52_col5\" class=\"data row52 col5\" >51211</td>\n                        <td id=\"T_ec8d2_row52_col6\" class=\"data row52 col6\" >53771296</td>\n                        <td id=\"T_ec8d2_row52_col7\" class=\"data row52 col7\" >0.003171</td>\n                        <td id=\"T_ec8d2_row52_col8\" class=\"data row52 col8\" >0.000058</td>\n                        <td id=\"T_ec8d2_row52_col9\" class=\"data row52 col9\" >0.000952</td>\n            </tr>\n            <tr>\n                        <th id=\"T_ec8d2_level0_row53\" class=\"row_heading level0 row53\" >89</th>\n                        <td id=\"T_ec8d2_row53_col0\" class=\"data row53 col0\" >Kuwait</td>\n                        <td id=\"T_ec8d2_row53_col1\" class=\"data row53 col1\" >2021-05-29 00:00:00</td>\n                        <td id=\"T_ec8d2_row53_col2\" class=\"data row53 col2\" >306717</td>\n                        <td id=\"T_ec8d2_row53_col3\" class=\"data row53 col3\" >1764</td>\n                        <td id=\"T_ec8d2_row53_col4\" class=\"data row53 col4\" >291521</td>\n                        <td id=\"T_ec8d2_row53_col5\" class=\"data row53 col5\" >13432</td>\n                        <td id=\"T_ec8d2_row53_col6\" class=\"data row53 col6\" >4270571</td>\n                        <td id=\"T_ec8d2_row53_col7\" class=\"data row53 col7\" >0.071821</td>\n                        <td id=\"T_ec8d2_row53_col8\" class=\"data row53 col8\" >0.000413</td>\n                        <td id=\"T_ec8d2_row53_col9\" class=\"data row53 col9\" >0.003145</td>\n            </tr>\n            <tr>\n                        <th id=\"T_ec8d2_level0_row54\" class=\"row_heading level0 row54\" >92</th>\n                        <td id=\"T_ec8d2_row54_col0\" class=\"data row54 col0\" >Latvia</td>\n                        <td id=\"T_ec8d2_row54_col1\" class=\"data row54 col1\" >2021-05-29 00:00:00</td>\n                        <td id=\"T_ec8d2_row54_col2\" class=\"data row54 col2\" >132918</td>\n                        <td id=\"T_ec8d2_row54_col3\" class=\"data row54 col3\" >2370</td>\n                        <td id=\"T_ec8d2_row54_col4\" class=\"data row54 col4\" >125340</td>\n                        <td id=\"T_ec8d2_row54_col5\" class=\"data row54 col5\" >5208</td>\n                        <td id=\"T_ec8d2_row54_col6\" class=\"data row54 col6\" >1886198</td>\n                        <td id=\"T_ec8d2_row54_col7\" class=\"data row54 col7\" >0.070469</td>\n                        <td id=\"T_ec8d2_row54_col8\" class=\"data row54 col8\" >0.001256</td>\n                        <td id=\"T_ec8d2_row54_col9\" class=\"data row54 col9\" >0.002761</td>\n            </tr>\n            <tr>\n                        <th id=\"T_ec8d2_level0_row55\" class=\"row_heading level0 row55\" >93</th>\n                        <td id=\"T_ec8d2_row55_col0\" class=\"data row55 col0\" >Lebanon</td>\n                        <td id=\"T_ec8d2_row55_col1\" class=\"data row55 col1\" >2021-05-29 00:00:00</td>\n                        <td id=\"T_ec8d2_row55_col2\" class=\"data row55 col2\" >540132</td>\n                        <td id=\"T_ec8d2_row55_col3\" class=\"data row55 col3\" >7718</td>\n                        <td id=\"T_ec8d2_row55_col4\" class=\"data row55 col4\" >517859</td>\n                        <td id=\"T_ec8d2_row55_col5\" class=\"data row55 col5\" >14555</td>\n                        <td id=\"T_ec8d2_row55_col6\" class=\"data row55 col6\" >6825445</td>\n                        <td id=\"T_ec8d2_row55_col7\" class=\"data row55 col7\" >0.079135</td>\n                        <td id=\"T_ec8d2_row55_col8\" class=\"data row55 col8\" >0.001131</td>\n                        <td id=\"T_ec8d2_row55_col9\" class=\"data row55 col9\" >0.002132</td>\n            </tr>\n            <tr>\n                        <th id=\"T_ec8d2_level0_row56\" class=\"row_heading level0 row56\" >94</th>\n                        <td id=\"T_ec8d2_row56_col0\" class=\"data row56 col0\" >Lesotho</td>\n                        <td id=\"T_ec8d2_row56_col1\" class=\"data row56 col1\" >2021-05-29 00:00:00</td>\n                        <td id=\"T_ec8d2_row56_col2\" class=\"data row56 col2\" >10825</td>\n                        <td id=\"T_ec8d2_row56_col3\" class=\"data row56 col3\" >326</td>\n                        <td id=\"T_ec8d2_row56_col4\" class=\"data row56 col4\" >6434</td>\n                        <td id=\"T_ec8d2_row56_col5\" class=\"data row56 col5\" >4065</td>\n                        <td id=\"T_ec8d2_row56_col6\" class=\"data row56 col6\" >2142249</td>\n                        <td id=\"T_ec8d2_row56_col7\" class=\"data row56 col7\" >0.005053</td>\n                        <td id=\"T_ec8d2_row56_col8\" class=\"data row56 col8\" >0.000152</td>\n                        <td id=\"T_ec8d2_row56_col9\" class=\"data row56 col9\" >0.001898</td>\n            </tr>\n            <tr>\n                        <th id=\"T_ec8d2_level0_row57\" class=\"row_heading level0 row57\" >96</th>\n                        <td id=\"T_ec8d2_row57_col0\" class=\"data row57 col0\" >Libya</td>\n                        <td id=\"T_ec8d2_row57_col1\" class=\"data row57 col1\" >2021-05-29 00:00:00</td>\n                        <td id=\"T_ec8d2_row57_col2\" class=\"data row57 col2\" >184815</td>\n                        <td id=\"T_ec8d2_row57_col3\" class=\"data row57 col3\" >3116</td>\n                        <td id=\"T_ec8d2_row57_col4\" class=\"data row57 col4\" >171279</td>\n                        <td id=\"T_ec8d2_row57_col5\" class=\"data row57 col5\" >10420</td>\n                        <td id=\"T_ec8d2_row57_col6\" class=\"data row57 col6\" >6871292</td>\n                        <td id=\"T_ec8d2_row57_col7\" class=\"data row57 col7\" >0.026897</td>\n                        <td id=\"T_ec8d2_row57_col8\" class=\"data row57 col8\" >0.000453</td>\n                        <td id=\"T_ec8d2_row57_col9\" class=\"data row57 col9\" >0.001516</td>\n            </tr>\n            <tr>\n                        <th id=\"T_ec8d2_level0_row58\" class=\"row_heading level0 row58\" >97</th>\n                        <td id=\"T_ec8d2_row58_col0\" class=\"data row58 col0\" >Liechtenstein</td>\n                        <td id=\"T_ec8d2_row58_col1\" class=\"data row58 col1\" >2021-05-29 00:00:00</td>\n                        <td id=\"T_ec8d2_row58_col2\" class=\"data row58 col2\" >3008</td>\n                        <td id=\"T_ec8d2_row58_col3\" class=\"data row58 col3\" >58</td>\n                        <td id=\"T_ec8d2_row58_col4\" class=\"data row58 col4\" >2929</td>\n                        <td id=\"T_ec8d2_row58_col5\" class=\"data row58 col5\" >21</td>\n                        <td id=\"T_ec8d2_row58_col6\" class=\"data row58 col6\" >38128</td>\n                        <td id=\"T_ec8d2_row58_col7\" class=\"data row58 col7\" >0.078892</td>\n                        <td id=\"T_ec8d2_row58_col8\" class=\"data row58 col8\" >0.001521</td>\n                        <td id=\"T_ec8d2_row58_col9\" class=\"data row58 col9\" >0.000551</td>\n            </tr>\n            <tr>\n                        <th id=\"T_ec8d2_level0_row59\" class=\"row_heading level0 row59\" >98</th>\n                        <td id=\"T_ec8d2_row59_col0\" class=\"data row59 col0\" >Lithuania</td>\n                        <td id=\"T_ec8d2_row59_col1\" class=\"data row59 col1\" >2021-05-29 00:00:00</td>\n                        <td id=\"T_ec8d2_row59_col2\" class=\"data row59 col2\" >273866</td>\n                        <td id=\"T_ec8d2_row59_col3\" class=\"data row59 col3\" >4245</td>\n                        <td id=\"T_ec8d2_row59_col4\" class=\"data row59 col4\" >254322</td>\n                        <td id=\"T_ec8d2_row59_col5\" class=\"data row59 col5\" >15299</td>\n                        <td id=\"T_ec8d2_row59_col6\" class=\"data row59 col6\" >2722289</td>\n                        <td id=\"T_ec8d2_row59_col7\" class=\"data row59 col7\" >0.100601</td>\n                        <td id=\"T_ec8d2_row59_col8\" class=\"data row59 col8\" >0.001559</td>\n                        <td id=\"T_ec8d2_row59_col9\" class=\"data row59 col9\" >0.005620</td>\n            </tr>\n            <tr>\n                        <th id=\"T_ec8d2_level0_row60\" class=\"row_heading level0 row60\" >99</th>\n                        <td id=\"T_ec8d2_row60_col0\" class=\"data row60 col0\" >Luxembourg</td>\n                        <td id=\"T_ec8d2_row60_col1\" class=\"data row60 col1\" >2021-05-29 00:00:00</td>\n                        <td id=\"T_ec8d2_row60_col2\" class=\"data row60 col2\" >69830</td>\n                        <td id=\"T_ec8d2_row60_col3\" class=\"data row60 col3\" >814</td>\n                        <td id=\"T_ec8d2_row60_col4\" class=\"data row60 col4\" >67993</td>\n                        <td id=\"T_ec8d2_row60_col5\" class=\"data row60 col5\" >1023</td>\n                        <td id=\"T_ec8d2_row60_col6\" class=\"data row60 col6\" >625978</td>\n                        <td id=\"T_ec8d2_row60_col7\" class=\"data row60 col7\" >0.111553</td>\n                        <td id=\"T_ec8d2_row60_col8\" class=\"data row60 col8\" >0.001300</td>\n                        <td id=\"T_ec8d2_row60_col9\" class=\"data row60 col9\" >0.001634</td>\n            </tr>\n            <tr>\n                        <th id=\"T_ec8d2_level0_row61\" class=\"row_heading level0 row61\" >102</th>\n                        <td id=\"T_ec8d2_row61_col0\" class=\"data row61 col0\" >Malaysia</td>\n                        <td id=\"T_ec8d2_row61_col1\" class=\"data row61 col1\" >2021-05-29 00:00:00</td>\n                        <td id=\"T_ec8d2_row61_col2\" class=\"data row61 col2\" >558534</td>\n                        <td id=\"T_ec8d2_row61_col3\" class=\"data row61 col3\" >2650</td>\n                        <td id=\"T_ec8d2_row61_col4\" class=\"data row61 col4\" >479666</td>\n                        <td id=\"T_ec8d2_row61_col5\" class=\"data row61 col5\" >76218</td>\n                        <td id=\"T_ec8d2_row61_col6\" class=\"data row61 col6\" >32365999</td>\n                        <td id=\"T_ec8d2_row61_col7\" class=\"data row61 col7\" >0.017257</td>\n                        <td id=\"T_ec8d2_row61_col8\" class=\"data row61 col8\" >0.000082</td>\n                        <td id=\"T_ec8d2_row61_col9\" class=\"data row61 col9\" >0.002355</td>\n            </tr>\n            <tr>\n                        <th id=\"T_ec8d2_level0_row62\" class=\"row_heading level0 row62\" >103</th>\n                        <td id=\"T_ec8d2_row62_col0\" class=\"data row62 col0\" >Maldives</td>\n                        <td id=\"T_ec8d2_row62_col1\" class=\"data row62 col1\" >2021-05-29 00:00:00</td>\n                        <td id=\"T_ec8d2_row62_col2\" class=\"data row62 col2\" >62906</td>\n                        <td id=\"T_ec8d2_row62_col3\" class=\"data row62 col3\" >157</td>\n                        <td id=\"T_ec8d2_row62_col4\" class=\"data row62 col4\" >38233</td>\n                        <td id=\"T_ec8d2_row62_col5\" class=\"data row62 col5\" >24516</td>\n                        <td id=\"T_ec8d2_row62_col6\" class=\"data row62 col6\" >540544</td>\n                        <td id=\"T_ec8d2_row62_col7\" class=\"data row62 col7\" >0.116375</td>\n                        <td id=\"T_ec8d2_row62_col8\" class=\"data row62 col8\" >0.000290</td>\n                        <td id=\"T_ec8d2_row62_col9\" class=\"data row62 col9\" >0.045354</td>\n            </tr>\n            <tr>\n                        <th id=\"T_ec8d2_level0_row63\" class=\"row_heading level0 row63\" >105</th>\n                        <td id=\"T_ec8d2_row63_col0\" class=\"data row63 col0\" >Malta</td>\n                        <td id=\"T_ec8d2_row63_col1\" class=\"data row63 col1\" >2021-05-29 00:00:00</td>\n                        <td id=\"T_ec8d2_row63_col2\" class=\"data row63 col2\" >30529</td>\n                        <td id=\"T_ec8d2_row63_col3\" class=\"data row63 col3\" >419</td>\n                        <td id=\"T_ec8d2_row63_col4\" class=\"data row63 col4\" >30043</td>\n                        <td id=\"T_ec8d2_row63_col5\" class=\"data row63 col5\" >67</td>\n                        <td id=\"T_ec8d2_row63_col6\" class=\"data row63 col6\" >441543</td>\n                        <td id=\"T_ec8d2_row63_col7\" class=\"data row63 col7\" >0.069142</td>\n                        <td id=\"T_ec8d2_row63_col8\" class=\"data row63 col8\" >0.000949</td>\n                        <td id=\"T_ec8d2_row63_col9\" class=\"data row63 col9\" >0.000152</td>\n            </tr>\n            <tr>\n                        <th id=\"T_ec8d2_level0_row64\" class=\"row_heading level0 row64\" >109</th>\n                        <td id=\"T_ec8d2_row64_col0\" class=\"data row64 col0\" >Mexico</td>\n                        <td id=\"T_ec8d2_row64_col1\" class=\"data row64 col1\" >2021-05-29 00:00:00</td>\n                        <td id=\"T_ec8d2_row64_col2\" class=\"data row64 col2\" >2411503</td>\n                        <td id=\"T_ec8d2_row64_col3\" class=\"data row64 col3\" >223455</td>\n                        <td id=\"T_ec8d2_row64_col4\" class=\"data row64 col4\" >1924865</td>\n                        <td id=\"T_ec8d2_row64_col5\" class=\"data row64 col5\" >263183</td>\n                        <td id=\"T_ec8d2_row64_col6\" class=\"data row64 col6\" >128932753</td>\n                        <td id=\"T_ec8d2_row64_col7\" class=\"data row64 col7\" >0.018704</td>\n                        <td id=\"T_ec8d2_row64_col8\" class=\"data row64 col8\" >0.001733</td>\n                        <td id=\"T_ec8d2_row64_col9\" class=\"data row64 col9\" >0.002041</td>\n            </tr>\n            <tr>\n                        <th id=\"T_ec8d2_level0_row65\" class=\"row_heading level0 row65\" >111</th>\n                        <td id=\"T_ec8d2_row65_col0\" class=\"data row65 col0\" >Moldova</td>\n                        <td id=\"T_ec8d2_row65_col1\" class=\"data row65 col1\" >2021-05-29 00:00:00</td>\n                        <td id=\"T_ec8d2_row65_col2\" class=\"data row65 col2\" >255105</td>\n                        <td id=\"T_ec8d2_row65_col3\" class=\"data row65 col3\" >6100</td>\n                        <td id=\"T_ec8d2_row65_col4\" class=\"data row65 col4\" >247349</td>\n                        <td id=\"T_ec8d2_row65_col5\" class=\"data row65 col5\" >1656</td>\n                        <td id=\"T_ec8d2_row65_col6\" class=\"data row65 col6\" >4033963</td>\n                        <td id=\"T_ec8d2_row65_col7\" class=\"data row65 col7\" >0.063239</td>\n                        <td id=\"T_ec8d2_row65_col8\" class=\"data row65 col8\" >0.001512</td>\n                        <td id=\"T_ec8d2_row65_col9\" class=\"data row65 col9\" >0.000411</td>\n            </tr>\n            <tr>\n                        <th id=\"T_ec8d2_level0_row66\" class=\"row_heading level0 row66\" >112</th>\n                        <td id=\"T_ec8d2_row66_col0\" class=\"data row66 col0\" >Monaco</td>\n                        <td id=\"T_ec8d2_row66_col1\" class=\"data row66 col1\" >2021-05-29 00:00:00</td>\n                        <td id=\"T_ec8d2_row66_col2\" class=\"data row66 col2\" >2503</td>\n                        <td id=\"T_ec8d2_row66_col3\" class=\"data row66 col3\" >32</td>\n                        <td id=\"T_ec8d2_row66_col4\" class=\"data row66 col4\" >2463</td>\n                        <td id=\"T_ec8d2_row66_col5\" class=\"data row66 col5\" >8</td>\n                        <td id=\"T_ec8d2_row66_col6\" class=\"data row66 col6\" >39242</td>\n                        <td id=\"T_ec8d2_row66_col7\" class=\"data row66 col7\" >0.063784</td>\n                        <td id=\"T_ec8d2_row66_col8\" class=\"data row66 col8\" >0.000815</td>\n                        <td id=\"T_ec8d2_row66_col9\" class=\"data row66 col9\" >0.000204</td>\n            </tr>\n            <tr>\n                        <th id=\"T_ec8d2_level0_row67\" class=\"row_heading level0 row67\" >113</th>\n                        <td id=\"T_ec8d2_row67_col0\" class=\"data row67 col0\" >Mongolia</td>\n                        <td id=\"T_ec8d2_row67_col1\" class=\"data row67 col1\" >2021-05-29 00:00:00</td>\n                        <td id=\"T_ec8d2_row67_col2\" class=\"data row67 col2\" >56621</td>\n                        <td id=\"T_ec8d2_row67_col3\" class=\"data row67 col3\" >268</td>\n                        <td id=\"T_ec8d2_row67_col4\" class=\"data row67 col4\" >49320</td>\n                        <td id=\"T_ec8d2_row67_col5\" class=\"data row67 col5\" >7033</td>\n                        <td id=\"T_ec8d2_row67_col6\" class=\"data row67 col6\" >327829</td>\n                        <td id=\"T_ec8d2_row67_col7\" class=\"data row67 col7\" >0.172715</td>\n                        <td id=\"T_ec8d2_row67_col8\" class=\"data row67 col8\" >0.000817</td>\n                        <td id=\"T_ec8d2_row67_col9\" class=\"data row67 col9\" >0.021453</td>\n            </tr>\n            <tr>\n                        <th id=\"T_ec8d2_level0_row68\" class=\"row_heading level0 row68\" >114</th>\n                        <td id=\"T_ec8d2_row68_col0\" class=\"data row68 col0\" >Montenegro</td>\n                        <td id=\"T_ec8d2_row68_col1\" class=\"data row68 col1\" >2021-05-29 00:00:00</td>\n                        <td id=\"T_ec8d2_row68_col2\" class=\"data row68 col2\" >99566</td>\n                        <td id=\"T_ec8d2_row68_col3\" class=\"data row68 col3\" >1583</td>\n                        <td id=\"T_ec8d2_row68_col4\" class=\"data row68 col4\" >97090</td>\n                        <td id=\"T_ec8d2_row68_col5\" class=\"data row68 col5\" >893</td>\n                        <td id=\"T_ec8d2_row68_col6\" class=\"data row68 col6\" >628066</td>\n                        <td id=\"T_ec8d2_row68_col7\" class=\"data row68 col7\" >0.158528</td>\n                        <td id=\"T_ec8d2_row68_col8\" class=\"data row68 col8\" >0.002520</td>\n                        <td id=\"T_ec8d2_row68_col9\" class=\"data row68 col9\" >0.001422</td>\n            </tr>\n            <tr>\n                        <th id=\"T_ec8d2_level0_row69\" class=\"row_heading level0 row69\" >115</th>\n                        <td id=\"T_ec8d2_row69_col0\" class=\"data row69 col0\" >Morocco</td>\n                        <td id=\"T_ec8d2_row69_col1\" class=\"data row69 col1\" >2021-05-29 00:00:00</td>\n                        <td id=\"T_ec8d2_row69_col2\" class=\"data row69 col2\" >518868</td>\n                        <td id=\"T_ec8d2_row69_col3\" class=\"data row69 col3\" >9138</td>\n                        <td id=\"T_ec8d2_row69_col4\" class=\"data row69 col4\" >506740</td>\n                        <td id=\"T_ec8d2_row69_col5\" class=\"data row69 col5\" >2990</td>\n                        <td id=\"T_ec8d2_row69_col6\" class=\"data row69 col6\" >3691056</td>\n                        <td id=\"T_ec8d2_row69_col7\" class=\"data row69 col7\" >0.140574</td>\n                        <td id=\"T_ec8d2_row69_col8\" class=\"data row69 col8\" >0.002476</td>\n                        <td id=\"T_ec8d2_row69_col9\" class=\"data row69 col9\" >0.000810</td>\n            </tr>\n            <tr>\n                        <th id=\"T_ec8d2_level0_row70\" class=\"row_heading level0 row70\" >117</th>\n                        <td id=\"T_ec8d2_row70_col0\" class=\"data row70 col0\" >Namibia</td>\n                        <td id=\"T_ec8d2_row70_col1\" class=\"data row70 col1\" >2021-05-29 00:00:00</td>\n                        <td id=\"T_ec8d2_row70_col2\" class=\"data row70 col2\" >54659</td>\n                        <td id=\"T_ec8d2_row70_col3\" class=\"data row70 col3\" >818</td>\n                        <td id=\"T_ec8d2_row70_col4\" class=\"data row70 col4\" >50241</td>\n                        <td id=\"T_ec8d2_row70_col5\" class=\"data row70 col5\" >3600</td>\n                        <td id=\"T_ec8d2_row70_col6\" class=\"data row70 col6\" >2540905</td>\n                        <td id=\"T_ec8d2_row70_col7\" class=\"data row70 col7\" >0.021512</td>\n                        <td id=\"T_ec8d2_row70_col8\" class=\"data row70 col8\" >0.000322</td>\n                        <td id=\"T_ec8d2_row70_col9\" class=\"data row70 col9\" >0.001417</td>\n            </tr>\n            <tr>\n                        <th id=\"T_ec8d2_level0_row71\" class=\"row_heading level0 row71\" >118</th>\n                        <td id=\"T_ec8d2_row71_col0\" class=\"data row71 col0\" >Nepal</td>\n                        <td id=\"T_ec8d2_row71_col1\" class=\"data row71 col1\" >2021-05-29 00:00:00</td>\n                        <td id=\"T_ec8d2_row71_col2\" class=\"data row71 col2\" >553422</td>\n                        <td id=\"T_ec8d2_row71_col3\" class=\"data row71 col3\" >7163</td>\n                        <td id=\"T_ec8d2_row71_col4\" class=\"data row71 col4\" >434750</td>\n                        <td id=\"T_ec8d2_row71_col5\" class=\"data row71 col5\" >111509</td>\n                        <td id=\"T_ec8d2_row71_col6\" class=\"data row71 col6\" >29136808</td>\n                        <td id=\"T_ec8d2_row71_col7\" class=\"data row71 col7\" >0.018994</td>\n                        <td id=\"T_ec8d2_row71_col8\" class=\"data row71 col8\" >0.000246</td>\n                        <td id=\"T_ec8d2_row71_col9\" class=\"data row71 col9\" >0.003827</td>\n            </tr>\n            <tr>\n                        <th id=\"T_ec8d2_level0_row72\" class=\"row_heading level0 row72\" >119</th>\n                        <td id=\"T_ec8d2_row72_col0\" class=\"data row72 col0\" >Netherlands</td>\n                        <td id=\"T_ec8d2_row72_col1\" class=\"data row72 col1\" >2021-05-29 00:00:00</td>\n                        <td id=\"T_ec8d2_row72_col2\" class=\"data row72 col2\" >1671967</td>\n                        <td id=\"T_ec8d2_row72_col3\" class=\"data row72 col3\" >17889</td>\n                        <td id=\"T_ec8d2_row72_col4\" class=\"data row72 col4\" >26810</td>\n                        <td id=\"T_ec8d2_row72_col5\" class=\"data row72 col5\" >1627268</td>\n                        <td id=\"T_ec8d2_row72_col6\" class=\"data row72 col6\" >17134872</td>\n                        <td id=\"T_ec8d2_row72_col7\" class=\"data row72 col7\" >0.097577</td>\n                        <td id=\"T_ec8d2_row72_col8\" class=\"data row72 col8\" >0.001044</td>\n                        <td id=\"T_ec8d2_row72_col9\" class=\"data row72 col9\" >0.094968</td>\n            </tr>\n            <tr>\n                        <th id=\"T_ec8d2_level0_row73\" class=\"row_heading level0 row73\" >124</th>\n                        <td id=\"T_ec8d2_row73_col0\" class=\"data row73 col0\" >North Macedonia</td>\n                        <td id=\"T_ec8d2_row73_col1\" class=\"data row73 col1\" >2021-05-29 00:00:00</td>\n                        <td id=\"T_ec8d2_row73_col2\" class=\"data row73 col2\" >155246</td>\n                        <td id=\"T_ec8d2_row73_col3\" class=\"data row73 col3\" >5398</td>\n                        <td id=\"T_ec8d2_row73_col4\" class=\"data row73 col4\" >147473</td>\n                        <td id=\"T_ec8d2_row73_col5\" class=\"data row73 col5\" >2375</td>\n                        <td id=\"T_ec8d2_row73_col6\" class=\"data row73 col6\" >2083374</td>\n                        <td id=\"T_ec8d2_row73_col7\" class=\"data row73 col7\" >0.074517</td>\n                        <td id=\"T_ec8d2_row73_col8\" class=\"data row73 col8\" >0.002591</td>\n                        <td id=\"T_ec8d2_row73_col9\" class=\"data row73 col9\" >0.001140</td>\n            </tr>\n            <tr>\n                        <th id=\"T_ec8d2_level0_row74\" class=\"row_heading level0 row74\" >125</th>\n                        <td id=\"T_ec8d2_row74_col0\" class=\"data row74 col0\" >Norway</td>\n                        <td id=\"T_ec8d2_row74_col1\" class=\"data row74 col1\" >2021-05-29 00:00:00</td>\n                        <td id=\"T_ec8d2_row74_col2\" class=\"data row74 col2\" >124655</td>\n                        <td id=\"T_ec8d2_row74_col3\" class=\"data row74 col3\" >783</td>\n                        <td id=\"T_ec8d2_row74_col4\" class=\"data row74 col4\" >17998</td>\n                        <td id=\"T_ec8d2_row74_col5\" class=\"data row74 col5\" >105874</td>\n                        <td id=\"T_ec8d2_row74_col6\" class=\"data row74 col6\" >5421241</td>\n                        <td id=\"T_ec8d2_row74_col7\" class=\"data row74 col7\" >0.022994</td>\n                        <td id=\"T_ec8d2_row74_col8\" class=\"data row74 col8\" >0.000144</td>\n                        <td id=\"T_ec8d2_row74_col9\" class=\"data row74 col9\" >0.019529</td>\n            </tr>\n            <tr>\n                        <th id=\"T_ec8d2_level0_row75\" class=\"row_heading level0 row75\" >126</th>\n                        <td id=\"T_ec8d2_row75_col0\" class=\"data row75 col0\" >Oman</td>\n                        <td id=\"T_ec8d2_row75_col1\" class=\"data row75 col1\" >2021-05-29 00:00:00</td>\n                        <td id=\"T_ec8d2_row75_col2\" class=\"data row75 col2\" >213784</td>\n                        <td id=\"T_ec8d2_row75_col3\" class=\"data row75 col3\" >2303</td>\n                        <td id=\"T_ec8d2_row75_col4\" class=\"data row75 col4\" >197080</td>\n                        <td id=\"T_ec8d2_row75_col5\" class=\"data row75 col5\" >14401</td>\n                        <td id=\"T_ec8d2_row75_col6\" class=\"data row75 col6\" >5106626</td>\n                        <td id=\"T_ec8d2_row75_col7\" class=\"data row75 col7\" >0.041864</td>\n                        <td id=\"T_ec8d2_row75_col8\" class=\"data row75 col8\" >0.000451</td>\n                        <td id=\"T_ec8d2_row75_col9\" class=\"data row75 col9\" >0.002820</td>\n            </tr>\n            <tr>\n                        <th id=\"T_ec8d2_level0_row76\" class=\"row_heading level0 row76\" >127</th>\n                        <td id=\"T_ec8d2_row76_col0\" class=\"data row76 col0\" >Pakistan</td>\n                        <td id=\"T_ec8d2_row76_col1\" class=\"data row76 col1\" >2021-05-29 00:00:00</td>\n                        <td id=\"T_ec8d2_row76_col2\" class=\"data row76 col2\" >918936</td>\n                        <td id=\"T_ec8d2_row76_col3\" class=\"data row76 col3\" >20736</td>\n                        <td id=\"T_ec8d2_row76_col4\" class=\"data row76 col4\" >839322</td>\n                        <td id=\"T_ec8d2_row76_col5\" class=\"data row76 col5\" >58878</td>\n                        <td id=\"T_ec8d2_row76_col6\" class=\"data row76 col6\" >22089234</td>\n                        <td id=\"T_ec8d2_row76_col7\" class=\"data row76 col7\" >0.041601</td>\n                        <td id=\"T_ec8d2_row76_col8\" class=\"data row76 col8\" >0.000939</td>\n                        <td id=\"T_ec8d2_row76_col9\" class=\"data row76 col9\" >0.002665</td>\n            </tr>\n            <tr>\n                        <th id=\"T_ec8d2_level0_row77\" class=\"row_heading level0 row77\" >128</th>\n                        <td id=\"T_ec8d2_row77_col0\" class=\"data row77 col0\" >Panama</td>\n                        <td id=\"T_ec8d2_row77_col1\" class=\"data row77 col1\" >2021-05-29 00:00:00</td>\n                        <td id=\"T_ec8d2_row77_col2\" class=\"data row77 col2\" >377428</td>\n                        <td id=\"T_ec8d2_row77_col3\" class=\"data row77 col3\" >6369</td>\n                        <td id=\"T_ec8d2_row77_col4\" class=\"data row77 col4\" >364783</td>\n                        <td id=\"T_ec8d2_row77_col5\" class=\"data row77 col5\" >6276</td>\n                        <td id=\"T_ec8d2_row77_col6\" class=\"data row77 col6\" >4314767</td>\n                        <td id=\"T_ec8d2_row77_col7\" class=\"data row77 col7\" >0.087474</td>\n                        <td id=\"T_ec8d2_row77_col8\" class=\"data row77 col8\" >0.001476</td>\n                        <td id=\"T_ec8d2_row77_col9\" class=\"data row77 col9\" >0.001455</td>\n            </tr>\n            <tr>\n                        <th id=\"T_ec8d2_level0_row78\" class=\"row_heading level0 row78\" >130</th>\n                        <td id=\"T_ec8d2_row78_col0\" class=\"data row78 col0\" >Paraguay</td>\n                        <td id=\"T_ec8d2_row78_col1\" class=\"data row78 col1\" >2021-05-29 00:00:00</td>\n                        <td id=\"T_ec8d2_row78_col2\" class=\"data row78 col2\" >350613</td>\n                        <td id=\"T_ec8d2_row78_col3\" class=\"data row78 col3\" >8987</td>\n                        <td id=\"T_ec8d2_row78_col4\" class=\"data row78 col4\" >288232</td>\n                        <td id=\"T_ec8d2_row78_col5\" class=\"data row78 col5\" >53394</td>\n                        <td id=\"T_ec8d2_row78_col6\" class=\"data row78 col6\" >7132538</td>\n                        <td id=\"T_ec8d2_row78_col7\" class=\"data row78 col7\" >0.049157</td>\n                        <td id=\"T_ec8d2_row78_col8\" class=\"data row78 col8\" >0.001260</td>\n                        <td id=\"T_ec8d2_row78_col9\" class=\"data row78 col9\" >0.007486</td>\n            </tr>\n            <tr>\n                        <th id=\"T_ec8d2_level0_row79\" class=\"row_heading level0 row79\" >131</th>\n                        <td id=\"T_ec8d2_row79_col0\" class=\"data row79 col0\" >Peru</td>\n                        <td id=\"T_ec8d2_row79_col1\" class=\"data row79 col1\" >2021-05-29 00:00:00</td>\n                        <td id=\"T_ec8d2_row79_col2\" class=\"data row79 col2\" >1947555</td>\n                        <td id=\"T_ec8d2_row79_col3\" class=\"data row79 col3\" >68978</td>\n                        <td id=\"T_ec8d2_row79_col4\" class=\"data row79 col4\" >1897522</td>\n                        <td id=\"T_ec8d2_row79_col5\" class=\"data row79 col5\" >-18945</td>\n                        <td id=\"T_ec8d2_row79_col6\" class=\"data row79 col6\" >32971854</td>\n                        <td id=\"T_ec8d2_row79_col7\" class=\"data row79 col7\" >0.059067</td>\n                        <td id=\"T_ec8d2_row79_col8\" class=\"data row79 col8\" >0.002092</td>\n                        <td id=\"T_ec8d2_row79_col9\" class=\"data row79 col9\" >-0.000575</td>\n            </tr>\n            <tr>\n                        <th id=\"T_ec8d2_level0_row80\" class=\"row_heading level0 row80\" >133</th>\n                        <td id=\"T_ec8d2_row80_col0\" class=\"data row80 col0\" >Poland</td>\n                        <td id=\"T_ec8d2_row80_col1\" class=\"data row80 col1\" >2021-05-29 00:00:00</td>\n                        <td id=\"T_ec8d2_row80_col2\" class=\"data row80 col2\" >2871371</td>\n                        <td id=\"T_ec8d2_row80_col3\" class=\"data row80 col3\" >73682</td>\n                        <td id=\"T_ec8d2_row80_col4\" class=\"data row80 col4\" >2636675</td>\n                        <td id=\"T_ec8d2_row80_col5\" class=\"data row80 col5\" >161014</td>\n                        <td id=\"T_ec8d2_row80_col6\" class=\"data row80 col6\" >37846611</td>\n                        <td id=\"T_ec8d2_row80_col7\" class=\"data row80 col7\" >0.075869</td>\n                        <td id=\"T_ec8d2_row80_col8\" class=\"data row80 col8\" >0.001947</td>\n                        <td id=\"T_ec8d2_row80_col9\" class=\"data row80 col9\" >0.004254</td>\n            </tr>\n            <tr>\n                        <th id=\"T_ec8d2_level0_row81\" class=\"row_heading level0 row81\" >134</th>\n                        <td id=\"T_ec8d2_row81_col0\" class=\"data row81 col0\" >Portugal</td>\n                        <td id=\"T_ec8d2_row81_col1\" class=\"data row81 col1\" >2021-05-29 00:00:00</td>\n                        <td id=\"T_ec8d2_row81_col2\" class=\"data row81 col2\" >848213</td>\n                        <td id=\"T_ec8d2_row81_col3\" class=\"data row81 col3\" >17023</td>\n                        <td id=\"T_ec8d2_row81_col4\" class=\"data row81 col4\" >808557</td>\n                        <td id=\"T_ec8d2_row81_col5\" class=\"data row81 col5\" >22633</td>\n                        <td id=\"T_ec8d2_row81_col6\" class=\"data row81 col6\" >10196709</td>\n                        <td id=\"T_ec8d2_row81_col7\" class=\"data row81 col7\" >0.083185</td>\n                        <td id=\"T_ec8d2_row81_col8\" class=\"data row81 col8\" >0.001669</td>\n                        <td id=\"T_ec8d2_row81_col9\" class=\"data row81 col9\" >0.002220</td>\n            </tr>\n            <tr>\n                        <th id=\"T_ec8d2_level0_row82\" class=\"row_heading level0 row82\" >135</th>\n                        <td id=\"T_ec8d2_row82_col0\" class=\"data row82 col0\" >Qatar</td>\n                        <td id=\"T_ec8d2_row82_col1\" class=\"data row82 col1\" >2021-05-29 00:00:00</td>\n                        <td id=\"T_ec8d2_row82_col2\" class=\"data row82 col2\" >217041</td>\n                        <td id=\"T_ec8d2_row82_col3\" class=\"data row82 col3\" >554</td>\n                        <td id=\"T_ec8d2_row82_col4\" class=\"data row82 col4\" >212716</td>\n                        <td id=\"T_ec8d2_row82_col5\" class=\"data row82 col5\" >3771</td>\n                        <td id=\"T_ec8d2_row82_col6\" class=\"data row82 col6\" >2881053</td>\n                        <td id=\"T_ec8d2_row82_col7\" class=\"data row82 col7\" >0.075334</td>\n                        <td id=\"T_ec8d2_row82_col8\" class=\"data row82 col8\" >0.000192</td>\n                        <td id=\"T_ec8d2_row82_col9\" class=\"data row82 col9\" >0.001309</td>\n            </tr>\n            <tr>\n                        <th id=\"T_ec8d2_level0_row83\" class=\"row_heading level0 row83\" >136</th>\n                        <td id=\"T_ec8d2_row83_col0\" class=\"data row83 col0\" >Romania</td>\n                        <td id=\"T_ec8d2_row83_col1\" class=\"data row83 col1\" >2021-05-29 00:00:00</td>\n                        <td id=\"T_ec8d2_row83_col2\" class=\"data row83 col2\" >1077426</td>\n                        <td id=\"T_ec8d2_row83_col3\" class=\"data row83 col3\" >30247</td>\n                        <td id=\"T_ec8d2_row83_col4\" class=\"data row83 col4\" >1038539</td>\n                        <td id=\"T_ec8d2_row83_col5\" class=\"data row83 col5\" >8640</td>\n                        <td id=\"T_ec8d2_row83_col6\" class=\"data row83 col6\" >19237691</td>\n                        <td id=\"T_ec8d2_row83_col7\" class=\"data row83 col7\" >0.056006</td>\n                        <td id=\"T_ec8d2_row83_col8\" class=\"data row83 col8\" >0.001572</td>\n                        <td id=\"T_ec8d2_row83_col9\" class=\"data row83 col9\" >0.000449</td>\n            </tr>\n            <tr>\n                        <th id=\"T_ec8d2_level0_row84\" class=\"row_heading level0 row84\" >137</th>\n                        <td id=\"T_ec8d2_row84_col0\" class=\"data row84 col0\" >Russia</td>\n                        <td id=\"T_ec8d2_row84_col1\" class=\"data row84 col1\" >2021-05-29 00:00:00</td>\n                        <td id=\"T_ec8d2_row84_col2\" class=\"data row84 col2\" >4995613</td>\n                        <td id=\"T_ec8d2_row84_col3\" class=\"data row84 col3\" >118781</td>\n                        <td id=\"T_ec8d2_row84_col4\" class=\"data row84 col4\" >4616422</td>\n                        <td id=\"T_ec8d2_row84_col5\" class=\"data row84 col5\" >260410</td>\n                        <td id=\"T_ec8d2_row84_col6\" class=\"data row84 col6\" >145934462</td>\n                        <td id=\"T_ec8d2_row84_col7\" class=\"data row84 col7\" >0.034232</td>\n                        <td id=\"T_ec8d2_row84_col8\" class=\"data row84 col8\" >0.000814</td>\n                        <td id=\"T_ec8d2_row84_col9\" class=\"data row84 col9\" >0.001784</td>\n            </tr>\n            <tr>\n                        <th id=\"T_ec8d2_level0_row85\" class=\"row_heading level0 row85\" >140</th>\n                        <td id=\"T_ec8d2_row85_col0\" class=\"data row85 col0\" >Saint Lucia</td>\n                        <td id=\"T_ec8d2_row85_col1\" class=\"data row85 col1\" >2021-05-29 00:00:00</td>\n                        <td id=\"T_ec8d2_row85_col2\" class=\"data row85 col2\" >5035</td>\n                        <td id=\"T_ec8d2_row85_col3\" class=\"data row85 col3\" >77</td>\n                        <td id=\"T_ec8d2_row85_col4\" class=\"data row85 col4\" >4772</td>\n                        <td id=\"T_ec8d2_row85_col5\" class=\"data row85 col5\" >186</td>\n                        <td id=\"T_ec8d2_row85_col6\" class=\"data row85 col6\" >183627</td>\n                        <td id=\"T_ec8d2_row85_col7\" class=\"data row85 col7\" >0.027420</td>\n                        <td id=\"T_ec8d2_row85_col8\" class=\"data row85 col8\" >0.000419</td>\n                        <td id=\"T_ec8d2_row85_col9\" class=\"data row85 col9\" >0.001013</td>\n            </tr>\n            <tr>\n                        <th id=\"T_ec8d2_level0_row86\" class=\"row_heading level0 row86\" >141</th>\n                        <td id=\"T_ec8d2_row86_col0\" class=\"data row86 col0\" >Saint Vincent and the Grenadines</td>\n                        <td id=\"T_ec8d2_row86_col1\" class=\"data row86 col1\" >2021-05-29 00:00:00</td>\n                        <td id=\"T_ec8d2_row86_col2\" class=\"data row86 col2\" >2027</td>\n                        <td id=\"T_ec8d2_row86_col3\" class=\"data row86 col3\" >12</td>\n                        <td id=\"T_ec8d2_row86_col4\" class=\"data row86 col4\" >1831</td>\n                        <td id=\"T_ec8d2_row86_col5\" class=\"data row86 col5\" >184</td>\n                        <td id=\"T_ec8d2_row86_col6\" class=\"data row86 col6\" >11094</td>\n                        <td id=\"T_ec8d2_row86_col7\" class=\"data row86 col7\" >0.182711</td>\n                        <td id=\"T_ec8d2_row86_col8\" class=\"data row86 col8\" >0.001082</td>\n                        <td id=\"T_ec8d2_row86_col9\" class=\"data row86 col9\" >0.016586</td>\n            </tr>\n            <tr>\n                        <th id=\"T_ec8d2_level0_row87\" class=\"row_heading level0 row87\" >143</th>\n                        <td id=\"T_ec8d2_row87_col0\" class=\"data row87 col0\" >San Marino</td>\n                        <td id=\"T_ec8d2_row87_col1\" class=\"data row87 col1\" >2021-05-29 00:00:00</td>\n                        <td id=\"T_ec8d2_row87_col2\" class=\"data row87 col2\" >5089</td>\n                        <td id=\"T_ec8d2_row87_col3\" class=\"data row87 col3\" >90</td>\n                        <td id=\"T_ec8d2_row87_col4\" class=\"data row87 col4\" >4995</td>\n                        <td id=\"T_ec8d2_row87_col5\" class=\"data row87 col5\" >4</td>\n                        <td id=\"T_ec8d2_row87_col6\" class=\"data row87 col6\" >33931</td>\n                        <td id=\"T_ec8d2_row87_col7\" class=\"data row87 col7\" >0.149981</td>\n                        <td id=\"T_ec8d2_row87_col8\" class=\"data row87 col8\" >0.002652</td>\n                        <td id=\"T_ec8d2_row87_col9\" class=\"data row87 col9\" >0.000118</td>\n            </tr>\n            <tr>\n                        <th id=\"T_ec8d2_level0_row88\" class=\"row_heading level0 row88\" >147</th>\n                        <td id=\"T_ec8d2_row88_col0\" class=\"data row88 col0\" >Serbia</td>\n                        <td id=\"T_ec8d2_row88_col1\" class=\"data row88 col1\" >2021-05-29 00:00:00</td>\n                        <td id=\"T_ec8d2_row88_col2\" class=\"data row88 col2\" >712046</td>\n                        <td id=\"T_ec8d2_row88_col3\" class=\"data row88 col3\" >6844</td>\n                        <td id=\"T_ec8d2_row88_col4\" class=\"data row88 col4\" >0</td>\n                        <td id=\"T_ec8d2_row88_col5\" class=\"data row88 col5\" >705202</td>\n                        <td id=\"T_ec8d2_row88_col6\" class=\"data row88 col6\" >8737371</td>\n                        <td id=\"T_ec8d2_row88_col7\" class=\"data row88 col7\" >0.081494</td>\n                        <td id=\"T_ec8d2_row88_col8\" class=\"data row88 col8\" >0.000783</td>\n                        <td id=\"T_ec8d2_row88_col9\" class=\"data row88 col9\" >0.080711</td>\n            </tr>\n            <tr>\n                        <th id=\"T_ec8d2_level0_row89\" class=\"row_heading level0 row89\" >148</th>\n                        <td id=\"T_ec8d2_row89_col0\" class=\"data row89 col0\" >Seychelles</td>\n                        <td id=\"T_ec8d2_row89_col1\" class=\"data row89 col1\" >2021-05-29 00:00:00</td>\n                        <td id=\"T_ec8d2_row89_col2\" class=\"data row89 col2\" >11145</td>\n                        <td id=\"T_ec8d2_row89_col3\" class=\"data row89 col3\" >40</td>\n                        <td id=\"T_ec8d2_row89_col4\" class=\"data row89 col4\" >9936</td>\n                        <td id=\"T_ec8d2_row89_col5\" class=\"data row89 col5\" >1169</td>\n                        <td id=\"T_ec8d2_row89_col6\" class=\"data row89 col6\" >98347</td>\n                        <td id=\"T_ec8d2_row89_col7\" class=\"data row89 col7\" >0.113323</td>\n                        <td id=\"T_ec8d2_row89_col8\" class=\"data row89 col8\" >0.000407</td>\n                        <td id=\"T_ec8d2_row89_col9\" class=\"data row89 col9\" >0.011886</td>\n            </tr>\n            <tr>\n                        <th id=\"T_ec8d2_level0_row90\" class=\"row_heading level0 row90\" >151</th>\n                        <td id=\"T_ec8d2_row90_col0\" class=\"data row90 col0\" >Slovakia</td>\n                        <td id=\"T_ec8d2_row90_col1\" class=\"data row90 col1\" >2021-05-29 00:00:00</td>\n                        <td id=\"T_ec8d2_row90_col2\" class=\"data row90 col2\" >389440</td>\n                        <td id=\"T_ec8d2_row90_col3\" class=\"data row90 col3\" >12333</td>\n                        <td id=\"T_ec8d2_row90_col4\" class=\"data row90 col4\" >255300</td>\n                        <td id=\"T_ec8d2_row90_col5\" class=\"data row90 col5\" >121807</td>\n                        <td id=\"T_ec8d2_row90_col6\" class=\"data row90 col6\" >5459642</td>\n                        <td id=\"T_ec8d2_row90_col7\" class=\"data row90 col7\" >0.071331</td>\n                        <td id=\"T_ec8d2_row90_col8\" class=\"data row90 col8\" >0.002259</td>\n                        <td id=\"T_ec8d2_row90_col9\" class=\"data row90 col9\" >0.022310</td>\n            </tr>\n            <tr>\n                        <th id=\"T_ec8d2_level0_row91\" class=\"row_heading level0 row91\" >152</th>\n                        <td id=\"T_ec8d2_row91_col0\" class=\"data row91 col0\" >Slovenia</td>\n                        <td id=\"T_ec8d2_row91_col1\" class=\"data row91 col1\" >2021-05-29 00:00:00</td>\n                        <td id=\"T_ec8d2_row91_col2\" class=\"data row91 col2\" >253493</td>\n                        <td id=\"T_ec8d2_row91_col3\" class=\"data row91 col3\" >4372</td>\n                        <td id=\"T_ec8d2_row91_col4\" class=\"data row91 col4\" >244646</td>\n                        <td id=\"T_ec8d2_row91_col5\" class=\"data row91 col5\" >4475</td>\n                        <td id=\"T_ec8d2_row91_col6\" class=\"data row91 col6\" >2078938</td>\n                        <td id=\"T_ec8d2_row91_col7\" class=\"data row91 col7\" >0.121934</td>\n                        <td id=\"T_ec8d2_row91_col8\" class=\"data row91 col8\" >0.002103</td>\n                        <td id=\"T_ec8d2_row91_col9\" class=\"data row91 col9\" >0.002153</td>\n            </tr>\n            <tr>\n                        <th id=\"T_ec8d2_level0_row92\" class=\"row_heading level0 row92\" >155</th>\n                        <td id=\"T_ec8d2_row92_col0\" class=\"data row92 col0\" >South Africa</td>\n                        <td id=\"T_ec8d2_row92_col1\" class=\"data row92 col1\" >2021-05-29 00:00:00</td>\n                        <td id=\"T_ec8d2_row92_col2\" class=\"data row92 col2\" >1659070</td>\n                        <td id=\"T_ec8d2_row92_col3\" class=\"data row92 col3\" >56363</td>\n                        <td id=\"T_ec8d2_row92_col4\" class=\"data row92 col4\" >1554184</td>\n                        <td id=\"T_ec8d2_row92_col5\" class=\"data row92 col5\" >48523</td>\n                        <td id=\"T_ec8d2_row92_col6\" class=\"data row92 col6\" >5930869</td>\n                        <td id=\"T_ec8d2_row92_col7\" class=\"data row92 col7\" >0.279735</td>\n                        <td id=\"T_ec8d2_row92_col8\" class=\"data row92 col8\" >0.009503</td>\n                        <td id=\"T_ec8d2_row92_col9\" class=\"data row92 col9\" >0.008181</td>\n            </tr>\n            <tr>\n                        <th id=\"T_ec8d2_level0_row93\" class=\"row_heading level0 row93\" >157</th>\n                        <td id=\"T_ec8d2_row93_col0\" class=\"data row93 col0\" >Spain</td>\n                        <td id=\"T_ec8d2_row93_col1\" class=\"data row93 col1\" >2021-05-29 00:00:00</td>\n                        <td id=\"T_ec8d2_row93_col2\" class=\"data row93 col2\" >3668658</td>\n                        <td id=\"T_ec8d2_row93_col3\" class=\"data row93 col3\" >79905</td>\n                        <td id=\"T_ec8d2_row93_col4\" class=\"data row93 col4\" >150376</td>\n                        <td id=\"T_ec8d2_row93_col5\" class=\"data row93 col5\" >3438377</td>\n                        <td id=\"T_ec8d2_row93_col6\" class=\"data row93 col6\" >46754778</td>\n                        <td id=\"T_ec8d2_row93_col7\" class=\"data row93 col7\" >0.078466</td>\n                        <td id=\"T_ec8d2_row93_col8\" class=\"data row93 col8\" >0.001709</td>\n                        <td id=\"T_ec8d2_row93_col9\" class=\"data row93 col9\" >0.073541</td>\n            </tr>\n            <tr>\n                        <th id=\"T_ec8d2_level0_row94\" class=\"row_heading level0 row94\" >158</th>\n                        <td id=\"T_ec8d2_row94_col0\" class=\"data row94 col0\" >Sri Lanka</td>\n                        <td id=\"T_ec8d2_row94_col1\" class=\"data row94 col1\" >2021-05-29 00:00:00</td>\n                        <td id=\"T_ec8d2_row94_col2\" class=\"data row94 col2\" >180593</td>\n                        <td id=\"T_ec8d2_row94_col3\" class=\"data row94 col3\" >1363</td>\n                        <td id=\"T_ec8d2_row94_col4\" class=\"data row94 col4\" >148391</td>\n                        <td id=\"T_ec8d2_row94_col5\" class=\"data row94 col5\" >30839</td>\n                        <td id=\"T_ec8d2_row94_col6\" class=\"data row94 col6\" >21413249</td>\n                        <td id=\"T_ec8d2_row94_col7\" class=\"data row94 col7\" >0.008434</td>\n                        <td id=\"T_ec8d2_row94_col8\" class=\"data row94 col8\" >0.000064</td>\n                        <td id=\"T_ec8d2_row94_col9\" class=\"data row94 col9\" >0.001440</td>\n            </tr>\n            <tr>\n                        <th id=\"T_ec8d2_level0_row95\" class=\"row_heading level0 row95\" >159</th>\n                        <td id=\"T_ec8d2_row95_col0\" class=\"data row95 col0\" >Sudan</td>\n                        <td id=\"T_ec8d2_row95_col1\" class=\"data row95 col1\" >2021-05-29 00:00:00</td>\n                        <td id=\"T_ec8d2_row95_col2\" class=\"data row95 col2\" >35289</td>\n                        <td id=\"T_ec8d2_row95_col3\" class=\"data row95 col3\" >2600</td>\n                        <td id=\"T_ec8d2_row95_col4\" class=\"data row95 col4\" >27949</td>\n                        <td id=\"T_ec8d2_row95_col5\" class=\"data row95 col5\" >4740</td>\n                        <td id=\"T_ec8d2_row95_col6\" class=\"data row95 col6\" >4384926</td>\n                        <td id=\"T_ec8d2_row95_col7\" class=\"data row95 col7\" >0.008048</td>\n                        <td id=\"T_ec8d2_row95_col8\" class=\"data row95 col8\" >0.000593</td>\n                        <td id=\"T_ec8d2_row95_col9\" class=\"data row95 col9\" >0.001081</td>\n            </tr>\n            <tr>\n                        <th id=\"T_ec8d2_level0_row96\" class=\"row_heading level0 row96\" >160</th>\n                        <td id=\"T_ec8d2_row96_col0\" class=\"data row96 col0\" >Suriname</td>\n                        <td id=\"T_ec8d2_row96_col1\" class=\"data row96 col1\" >2021-05-29 00:00:00</td>\n                        <td id=\"T_ec8d2_row96_col2\" class=\"data row96 col2\" >14515</td>\n                        <td id=\"T_ec8d2_row96_col3\" class=\"data row96 col3\" >288</td>\n                        <td id=\"T_ec8d2_row96_col4\" class=\"data row96 col4\" >11459</td>\n                        <td id=\"T_ec8d2_row96_col5\" class=\"data row96 col5\" >2768</td>\n                        <td id=\"T_ec8d2_row96_col6\" class=\"data row96 col6\" >586632</td>\n                        <td id=\"T_ec8d2_row96_col7\" class=\"data row96 col7\" >0.024743</td>\n                        <td id=\"T_ec8d2_row96_col8\" class=\"data row96 col8\" >0.000491</td>\n                        <td id=\"T_ec8d2_row96_col9\" class=\"data row96 col9\" >0.004718</td>\n            </tr>\n            <tr>\n                        <th id=\"T_ec8d2_level0_row97\" class=\"row_heading level0 row97\" >161</th>\n                        <td id=\"T_ec8d2_row97_col0\" class=\"data row97 col0\" >Sweden</td>\n                        <td id=\"T_ec8d2_row97_col1\" class=\"data row97 col1\" >2021-05-29 00:00:00</td>\n                        <td id=\"T_ec8d2_row97_col2\" class=\"data row97 col2\" >1068473</td>\n                        <td id=\"T_ec8d2_row97_col3\" class=\"data row97 col3\" >14451</td>\n                        <td id=\"T_ec8d2_row97_col4\" class=\"data row97 col4\" >0</td>\n                        <td id=\"T_ec8d2_row97_col5\" class=\"data row97 col5\" >1054022</td>\n                        <td id=\"T_ec8d2_row97_col6\" class=\"data row97 col6\" >10099265</td>\n                        <td id=\"T_ec8d2_row97_col7\" class=\"data row97 col7\" >0.105797</td>\n                        <td id=\"T_ec8d2_row97_col8\" class=\"data row97 col8\" >0.001431</td>\n                        <td id=\"T_ec8d2_row97_col9\" class=\"data row97 col9\" >0.104366</td>\n            </tr>\n            <tr>\n                        <th id=\"T_ec8d2_level0_row98\" class=\"row_heading level0 row98\" >162</th>\n                        <td id=\"T_ec8d2_row98_col0\" class=\"data row98 col0\" >Switzerland</td>\n                        <td id=\"T_ec8d2_row98_col1\" class=\"data row98 col1\" >2021-05-29 00:00:00</td>\n                        <td id=\"T_ec8d2_row98_col2\" class=\"data row98 col2\" >693023</td>\n                        <td id=\"T_ec8d2_row98_col3\" class=\"data row98 col3\" >10805</td>\n                        <td id=\"T_ec8d2_row98_col4\" class=\"data row98 col4\" >317600</td>\n                        <td id=\"T_ec8d2_row98_col5\" class=\"data row98 col5\" >364618</td>\n                        <td id=\"T_ec8d2_row98_col6\" class=\"data row98 col6\" >8654622</td>\n                        <td id=\"T_ec8d2_row98_col7\" class=\"data row98 col7\" >0.080075</td>\n                        <td id=\"T_ec8d2_row98_col8\" class=\"data row98 col8\" >0.001248</td>\n                        <td id=\"T_ec8d2_row98_col9\" class=\"data row98 col9\" >0.042130</td>\n            </tr>\n            <tr>\n                        <th id=\"T_ec8d2_level0_row99\" class=\"row_heading level0 row99\" >166</th>\n                        <td id=\"T_ec8d2_row99_col0\" class=\"data row99 col0\" >Thailand</td>\n                        <td id=\"T_ec8d2_row99_col1\" class=\"data row99 col1\" >2021-05-29 00:00:00</td>\n                        <td id=\"T_ec8d2_row99_col2\" class=\"data row99 col2\" >151842</td>\n                        <td id=\"T_ec8d2_row99_col3\" class=\"data row99 col3\" >988</td>\n                        <td id=\"T_ec8d2_row99_col4\" class=\"data row99 col4\" >26873</td>\n                        <td id=\"T_ec8d2_row99_col5\" class=\"data row99 col5\" >123981</td>\n                        <td id=\"T_ec8d2_row99_col6\" class=\"data row99 col6\" >69799978</td>\n                        <td id=\"T_ec8d2_row99_col7\" class=\"data row99 col7\" >0.002175</td>\n                        <td id=\"T_ec8d2_row99_col8\" class=\"data row99 col8\" >0.000014</td>\n                        <td id=\"T_ec8d2_row99_col9\" class=\"data row99 col9\" >0.001776</td>\n            </tr>\n            <tr>\n                        <th id=\"T_ec8d2_level0_row100\" class=\"row_heading level0 row100\" >167</th>\n                        <td id=\"T_ec8d2_row100_col0\" class=\"data row100 col0\" >Timor-Leste</td>\n                        <td id=\"T_ec8d2_row100_col1\" class=\"data row100 col1\" >2021-05-29 00:00:00</td>\n                        <td id=\"T_ec8d2_row100_col2\" class=\"data row100 col2\" >6752</td>\n                        <td id=\"T_ec8d2_row100_col3\" class=\"data row100 col3\" >16</td>\n                        <td id=\"T_ec8d2_row100_col4\" class=\"data row100 col4\" >3915</td>\n                        <td id=\"T_ec8d2_row100_col5\" class=\"data row100 col5\" >2821</td>\n                        <td id=\"T_ec8d2_row100_col6\" class=\"data row100 col6\" >1318445</td>\n                        <td id=\"T_ec8d2_row100_col7\" class=\"data row100 col7\" >0.005121</td>\n                        <td id=\"T_ec8d2_row100_col8\" class=\"data row100 col8\" >0.000012</td>\n                        <td id=\"T_ec8d2_row100_col9\" class=\"data row100 col9\" >0.002140</td>\n            </tr>\n            <tr>\n                        <th id=\"T_ec8d2_level0_row101\" class=\"row_heading level0 row101\" >169</th>\n                        <td id=\"T_ec8d2_row101_col0\" class=\"data row101 col0\" >Trinidad and Tobago</td>\n                        <td id=\"T_ec8d2_row101_col1\" class=\"data row101 col1\" >2021-05-29 00:00:00</td>\n                        <td id=\"T_ec8d2_row101_col2\" class=\"data row101 col2\" >23001</td>\n                        <td id=\"T_ec8d2_row101_col3\" class=\"data row101 col3\" >470</td>\n                        <td id=\"T_ec8d2_row101_col4\" class=\"data row101 col4\" >13281</td>\n                        <td id=\"T_ec8d2_row101_col5\" class=\"data row101 col5\" >9250</td>\n                        <td id=\"T_ec8d2_row101_col6\" class=\"data row101 col6\" >1399488</td>\n                        <td id=\"T_ec8d2_row101_col7\" class=\"data row101 col7\" >0.016435</td>\n                        <td id=\"T_ec8d2_row101_col8\" class=\"data row101 col8\" >0.000336</td>\n                        <td id=\"T_ec8d2_row101_col9\" class=\"data row101 col9\" >0.006610</td>\n            </tr>\n            <tr>\n                        <th id=\"T_ec8d2_level0_row102\" class=\"row_heading level0 row102\" >170</th>\n                        <td id=\"T_ec8d2_row102_col0\" class=\"data row102 col0\" >Tunisia</td>\n                        <td id=\"T_ec8d2_row102_col1\" class=\"data row102 col1\" >2021-05-29 00:00:00</td>\n                        <td id=\"T_ec8d2_row102_col2\" class=\"data row102 col2\" >343374</td>\n                        <td id=\"T_ec8d2_row102_col3\" class=\"data row102 col3\" >12574</td>\n                        <td id=\"T_ec8d2_row102_col4\" class=\"data row102 col4\" >301273</td>\n                        <td id=\"T_ec8d2_row102_col5\" class=\"data row102 col5\" >29527</td>\n                        <td id=\"T_ec8d2_row102_col6\" class=\"data row102 col6\" >11818619</td>\n                        <td id=\"T_ec8d2_row102_col7\" class=\"data row102 col7\" >0.029054</td>\n                        <td id=\"T_ec8d2_row102_col8\" class=\"data row102 col8\" >0.001064</td>\n                        <td id=\"T_ec8d2_row102_col9\" class=\"data row102 col9\" >0.002498</td>\n            </tr>\n            <tr>\n                        <th id=\"T_ec8d2_level0_row103\" class=\"row_heading level0 row103\" >171</th>\n                        <td id=\"T_ec8d2_row103_col0\" class=\"data row103 col0\" >Turkey</td>\n                        <td id=\"T_ec8d2_row103_col1\" class=\"data row103 col1\" >2021-05-29 00:00:00</td>\n                        <td id=\"T_ec8d2_row103_col2\" class=\"data row103 col2\" >5235978</td>\n                        <td id=\"T_ec8d2_row103_col3\" class=\"data row103 col3\" >47271</td>\n                        <td id=\"T_ec8d2_row103_col4\" class=\"data row103 col4\" >5094279</td>\n                        <td id=\"T_ec8d2_row103_col5\" class=\"data row103 col5\" >94428</td>\n                        <td id=\"T_ec8d2_row103_col6\" class=\"data row103 col6\" >84339067</td>\n                        <td id=\"T_ec8d2_row103_col7\" class=\"data row103 col7\" >0.062082</td>\n                        <td id=\"T_ec8d2_row103_col8\" class=\"data row103 col8\" >0.000560</td>\n                        <td id=\"T_ec8d2_row103_col9\" class=\"data row103 col9\" >0.001120</td>\n            </tr>\n            <tr>\n                        <th id=\"T_ec8d2_level0_row104\" class=\"row_heading level0 row104\" >172</th>\n                        <td id=\"T_ec8d2_row104_col0\" class=\"data row104 col0\" >US</td>\n                        <td id=\"T_ec8d2_row104_col1\" class=\"data row104 col1\" >2021-05-29 00:00:00</td>\n                        <td id=\"T_ec8d2_row104_col2\" class=\"data row104 col2\" >33251939</td>\n                        <td id=\"T_ec8d2_row104_col3\" class=\"data row104 col3\" >594306</td>\n                        <td id=\"T_ec8d2_row104_col4\" class=\"data row104 col4\" >0</td>\n                        <td id=\"T_ec8d2_row104_col5\" class=\"data row104 col5\" >32657633</td>\n                        <td id=\"T_ec8d2_row104_col6\" class=\"data row104 col6\" >331002651</td>\n                        <td id=\"T_ec8d2_row104_col7\" class=\"data row104 col7\" >0.100458</td>\n                        <td id=\"T_ec8d2_row104_col8\" class=\"data row104 col8\" >0.001795</td>\n                        <td id=\"T_ec8d2_row104_col9\" class=\"data row104 col9\" >0.098663</td>\n            </tr>\n            <tr>\n                        <th id=\"T_ec8d2_level0_row105\" class=\"row_heading level0 row105\" >174</th>\n                        <td id=\"T_ec8d2_row105_col0\" class=\"data row105 col0\" >Ukraine</td>\n                        <td id=\"T_ec8d2_row105_col1\" class=\"data row105 col1\" >2021-05-29 00:00:00</td>\n                        <td id=\"T_ec8d2_row105_col2\" class=\"data row105 col2\" >2257904</td>\n                        <td id=\"T_ec8d2_row105_col3\" class=\"data row105 col3\" >52414</td>\n                        <td id=\"T_ec8d2_row105_col4\" class=\"data row105 col4\" >2084477</td>\n                        <td id=\"T_ec8d2_row105_col5\" class=\"data row105 col5\" >121013</td>\n                        <td id=\"T_ec8d2_row105_col6\" class=\"data row105 col6\" >43733762</td>\n                        <td id=\"T_ec8d2_row105_col7\" class=\"data row105 col7\" >0.051628</td>\n                        <td id=\"T_ec8d2_row105_col8\" class=\"data row105 col8\" >0.001198</td>\n                        <td id=\"T_ec8d2_row105_col9\" class=\"data row105 col9\" >0.002767</td>\n            </tr>\n            <tr>\n                        <th id=\"T_ec8d2_level0_row106\" class=\"row_heading level0 row106\" >175</th>\n                        <td id=\"T_ec8d2_row106_col0\" class=\"data row106 col0\" >United Arab Emirates</td>\n                        <td id=\"T_ec8d2_row106_col1\" class=\"data row106 col1\" >2021-05-29 00:00:00</td>\n                        <td id=\"T_ec8d2_row106_col2\" class=\"data row106 col2\" >567263</td>\n                        <td id=\"T_ec8d2_row106_col3\" class=\"data row106 col3\" >1673</td>\n                        <td id=\"T_ec8d2_row106_col4\" class=\"data row106 col4\" >547008</td>\n                        <td id=\"T_ec8d2_row106_col5\" class=\"data row106 col5\" >18582</td>\n                        <td id=\"T_ec8d2_row106_col6\" class=\"data row106 col6\" >9890402</td>\n                        <td id=\"T_ec8d2_row106_col7\" class=\"data row106 col7\" >0.057355</td>\n                        <td id=\"T_ec8d2_row106_col8\" class=\"data row106 col8\" >0.000169</td>\n                        <td id=\"T_ec8d2_row106_col9\" class=\"data row106 col9\" >0.001879</td>\n            </tr>\n            <tr>\n                        <th id=\"T_ec8d2_level0_row107\" class=\"row_heading level0 row107\" >176</th>\n                        <td id=\"T_ec8d2_row107_col0\" class=\"data row107 col0\" >United Kingdom</td>\n                        <td id=\"T_ec8d2_row107_col1\" class=\"data row107 col1\" >2021-05-29 00:00:00</td>\n                        <td id=\"T_ec8d2_row107_col2\" class=\"data row107 col2\" >4496823</td>\n                        <td id=\"T_ec8d2_row107_col3\" class=\"data row107 col3\" >128037</td>\n                        <td id=\"T_ec8d2_row107_col4\" class=\"data row107 col4\" >15481</td>\n                        <td id=\"T_ec8d2_row107_col5\" class=\"data row107 col5\" >4353305</td>\n                        <td id=\"T_ec8d2_row107_col6\" class=\"data row107 col6\" >67886011</td>\n                        <td id=\"T_ec8d2_row107_col7\" class=\"data row107 col7\" >0.066241</td>\n                        <td id=\"T_ec8d2_row107_col8\" class=\"data row107 col8\" >0.001886</td>\n                        <td id=\"T_ec8d2_row107_col9\" class=\"data row107 col9\" >0.064127</td>\n            </tr>\n            <tr>\n                        <th id=\"T_ec8d2_level0_row108\" class=\"row_heading level0 row108\" >177</th>\n                        <td id=\"T_ec8d2_row108_col0\" class=\"data row108 col0\" >Uruguay</td>\n                        <td id=\"T_ec8d2_row108_col1\" class=\"data row108 col1\" >2021-05-29 00:00:00</td>\n                        <td id=\"T_ec8d2_row108_col2\" class=\"data row108 col2\" >288172</td>\n                        <td id=\"T_ec8d2_row108_col3\" class=\"data row108 col3\" >4176</td>\n                        <td id=\"T_ec8d2_row108_col4\" class=\"data row108 col4\" >246321</td>\n                        <td id=\"T_ec8d2_row108_col5\" class=\"data row108 col5\" >37675</td>\n                        <td id=\"T_ec8d2_row108_col6\" class=\"data row108 col6\" >347373</td>\n                        <td id=\"T_ec8d2_row108_col7\" class=\"data row108 col7\" >0.829575</td>\n                        <td id=\"T_ec8d2_row108_col8\" class=\"data row108 col8\" >0.012022</td>\n                        <td id=\"T_ec8d2_row108_col9\" class=\"data row108 col9\" >0.108457</td>\n            </tr>\n            <tr>\n                        <th id=\"T_ec8d2_level0_row109\" class=\"row_heading level0 row109\" >180</th>\n                        <td id=\"T_ec8d2_row109_col0\" class=\"data row109 col0\" >Venezuela</td>\n                        <td id=\"T_ec8d2_row109_col1\" class=\"data row109 col1\" >2021-05-29 00:00:00</td>\n                        <td id=\"T_ec8d2_row109_col2\" class=\"data row109 col2\" >231443</td>\n                        <td id=\"T_ec8d2_row109_col3\" class=\"data row109 col3\" >2615</td>\n                        <td id=\"T_ec8d2_row109_col4\" class=\"data row109 col4\" >213365</td>\n                        <td id=\"T_ec8d2_row109_col5\" class=\"data row109 col5\" >15463</td>\n                        <td id=\"T_ec8d2_row109_col6\" class=\"data row109 col6\" >2843594</td>\n                        <td id=\"T_ec8d2_row109_col7\" class=\"data row109 col7\" >0.081391</td>\n                        <td id=\"T_ec8d2_row109_col8\" class=\"data row109 col8\" >0.000920</td>\n                        <td id=\"T_ec8d2_row109_col9\" class=\"data row109 col9\" >0.005438</td>\n            </tr>\n    </tbody></table>"
          },
          "metadata": {},
          "execution_count": 23
        }
      ],
      "source": [
        "sangatRawan.style.background_gradient(cmap = \"Reds\")"
      ]
    },
    {
      "cell_type": "markdown",
      "metadata": {
        "id": "Q-aD4gsx1W2A"
      },
      "source": [
        "### **Last Update Data Visual covid 19 Global**"
      ]
    },
    {
      "cell_type": "code",
      "metadata": {
        "colab": {
          "base_uri": "https://localhost:8080/",
          "height": 0
        },
        "id": "XQdrCX-l1W2B",
        "outputId": "fdfb50c6-54ff-4fd0-d3ae-08d0a1e5c71c"
      },
      "source": [
        "fig = px.choropleth(last_day, locations=last_day['Country/Region'],\n",
        "                    color=last_day['Confirmed'],locationmode='country names', \n",
        "                    hover_name=last_day['Country/Region'], \n",
        "                    color_continuous_scale=px.colors.sequential.Plasma,\n",
        "                    template ='plotly_white')\n",
        "fig.update_layout(title_text=\"Last Update Data Visual covid 19 Global\")\n",
        "fig.update_coloraxes(colorbar_title=\"Number of confirmed cases\")\n",
        "\n",
        "fig.show()"
      ],
      "execution_count": 24,
      "outputs": [
        {
          "output_type": "display_data",
          "data": {
            "application/vnd.plotly.v1+json": {
              "config": {
                "plotlyServerURL": "https://plot.ly"
              },
              "data": [
                {
                  "coloraxis": "coloraxis",
                  "geo": "geo",
                  "hovertemplate": "<b>%{hovertext}</b><br><br>Country/Region=%{location}<br>Confirmed=%{z}<extra></extra>",
                  "hovertext": [
                    "Afghanistan",
                    "Albania",
                    "Algeria",
                    "Andorra",
                    "Angola",
                    "Antigua and Barbuda",
                    "Argentina",
                    "Armenia",
                    "Australia",
                    "Austria",
                    "Azerbaijan",
                    "Bahamas",
                    "Bahrain",
                    "Bangladesh",
                    "Barbados",
                    "Belarus",
                    "Belgium",
                    "Belize",
                    "Benin",
                    "Bhutan",
                    "Bolivia",
                    "Bosnia and Herzegovina",
                    "Botswana",
                    "Brazil",
                    "Brunei",
                    "Bulgaria",
                    "Burkina Faso",
                    "Burma",
                    "Burundi",
                    "Cabo Verde",
                    "Cambodia",
                    "Cameroon",
                    "Canada",
                    "Central African Republic",
                    "Chad",
                    "Chile",
                    "China",
                    "Colombia",
                    "Comoros",
                    "Congo (Brazzaville)",
                    "Congo (Kinshasa)",
                    "Costa Rica",
                    "Cote d'Ivoire",
                    "Croatia",
                    "Cuba",
                    "Cyprus",
                    "Czechia",
                    "Denmark",
                    "Diamond Princess",
                    "Djibouti",
                    "Dominica",
                    "Dominican Republic",
                    "Ecuador",
                    "Egypt",
                    "El Salvador",
                    "Equatorial Guinea",
                    "Eritrea",
                    "Estonia",
                    "Eswatini",
                    "Ethiopia",
                    "Fiji",
                    "Finland",
                    "France",
                    "Gabon",
                    "Gambia",
                    "Georgia",
                    "Germany",
                    "Ghana",
                    "Greece",
                    "Grenada",
                    "Guatemala",
                    "Guinea",
                    "Guinea-Bissau",
                    "Guyana",
                    "Haiti",
                    "Holy See",
                    "Honduras",
                    "Hungary",
                    "Iceland",
                    "India",
                    "Indonesia",
                    "Iran",
                    "Iraq",
                    "Ireland",
                    "Israel",
                    "Italy",
                    "Jamaica",
                    "Japan",
                    "Jordan",
                    "Kazakhstan",
                    "Kenya",
                    "Kiribati",
                    "Korea, South",
                    "Kosovo",
                    "Kuwait",
                    "Kyrgyzstan",
                    "Laos",
                    "Latvia",
                    "Lebanon",
                    "Lesotho",
                    "Liberia",
                    "Libya",
                    "Liechtenstein",
                    "Lithuania",
                    "Luxembourg",
                    "MS Zaandam",
                    "Madagascar",
                    "Malawi",
                    "Malaysia",
                    "Maldives",
                    "Mali",
                    "Malta",
                    "Marshall Islands",
                    "Mauritania",
                    "Mauritius",
                    "Mexico",
                    "Micronesia",
                    "Moldova",
                    "Monaco",
                    "Mongolia",
                    "Montenegro",
                    "Morocco",
                    "Mozambique",
                    "Namibia",
                    "Nepal",
                    "Netherlands",
                    "New Zealand",
                    "Nicaragua",
                    "Niger",
                    "Nigeria",
                    "North Macedonia",
                    "Norway",
                    "Oman",
                    "Pakistan",
                    "Panama",
                    "Papua New Guinea",
                    "Paraguay",
                    "Peru",
                    "Philippines",
                    "Poland",
                    "Portugal",
                    "Qatar",
                    "Romania",
                    "Russia",
                    "Rwanda",
                    "Saint Kitts and Nevis",
                    "Saint Lucia",
                    "Saint Vincent and the Grenadines",
                    "Samoa",
                    "San Marino",
                    "Sao Tome and Principe",
                    "Saudi Arabia",
                    "Senegal",
                    "Serbia",
                    "Seychelles",
                    "Sierra Leone",
                    "Singapore",
                    "Slovakia",
                    "Slovenia",
                    "Solomon Islands",
                    "Somalia",
                    "South Africa",
                    "South Sudan",
                    "Spain",
                    "Sri Lanka",
                    "Sudan",
                    "Suriname",
                    "Sweden",
                    "Switzerland",
                    "Syria",
                    "Taiwan*",
                    "Tajikistan",
                    "Tanzania",
                    "Thailand",
                    "Timor-Leste",
                    "Togo",
                    "Trinidad and Tobago",
                    "Tunisia",
                    "Turkey",
                    "US",
                    "Uganda",
                    "Ukraine",
                    "United Arab Emirates",
                    "United Kingdom",
                    "Uruguay",
                    "Uzbekistan",
                    "Vanuatu",
                    "Venezuela",
                    "Vietnam",
                    "West Bank and Gaza",
                    "Yemen",
                    "Zambia",
                    "Zimbabwe"
                  ],
                  "locationmode": "country names",
                  "locations": [
                    "Afghanistan",
                    "Albania",
                    "Algeria",
                    "Andorra",
                    "Angola",
                    "Antigua and Barbuda",
                    "Argentina",
                    "Armenia",
                    "Australia",
                    "Austria",
                    "Azerbaijan",
                    "Bahamas",
                    "Bahrain",
                    "Bangladesh",
                    "Barbados",
                    "Belarus",
                    "Belgium",
                    "Belize",
                    "Benin",
                    "Bhutan",
                    "Bolivia",
                    "Bosnia and Herzegovina",
                    "Botswana",
                    "Brazil",
                    "Brunei",
                    "Bulgaria",
                    "Burkina Faso",
                    "Burma",
                    "Burundi",
                    "Cabo Verde",
                    "Cambodia",
                    "Cameroon",
                    "Canada",
                    "Central African Republic",
                    "Chad",
                    "Chile",
                    "China",
                    "Colombia",
                    "Comoros",
                    "Congo (Brazzaville)",
                    "Congo (Kinshasa)",
                    "Costa Rica",
                    "Cote d'Ivoire",
                    "Croatia",
                    "Cuba",
                    "Cyprus",
                    "Czechia",
                    "Denmark",
                    "Diamond Princess",
                    "Djibouti",
                    "Dominica",
                    "Dominican Republic",
                    "Ecuador",
                    "Egypt",
                    "El Salvador",
                    "Equatorial Guinea",
                    "Eritrea",
                    "Estonia",
                    "Eswatini",
                    "Ethiopia",
                    "Fiji",
                    "Finland",
                    "France",
                    "Gabon",
                    "Gambia",
                    "Georgia",
                    "Germany",
                    "Ghana",
                    "Greece",
                    "Grenada",
                    "Guatemala",
                    "Guinea",
                    "Guinea-Bissau",
                    "Guyana",
                    "Haiti",
                    "Holy See",
                    "Honduras",
                    "Hungary",
                    "Iceland",
                    "India",
                    "Indonesia",
                    "Iran",
                    "Iraq",
                    "Ireland",
                    "Israel",
                    "Italy",
                    "Jamaica",
                    "Japan",
                    "Jordan",
                    "Kazakhstan",
                    "Kenya",
                    "Kiribati",
                    "Korea, South",
                    "Kosovo",
                    "Kuwait",
                    "Kyrgyzstan",
                    "Laos",
                    "Latvia",
                    "Lebanon",
                    "Lesotho",
                    "Liberia",
                    "Libya",
                    "Liechtenstein",
                    "Lithuania",
                    "Luxembourg",
                    "MS Zaandam",
                    "Madagascar",
                    "Malawi",
                    "Malaysia",
                    "Maldives",
                    "Mali",
                    "Malta",
                    "Marshall Islands",
                    "Mauritania",
                    "Mauritius",
                    "Mexico",
                    "Micronesia",
                    "Moldova",
                    "Monaco",
                    "Mongolia",
                    "Montenegro",
                    "Morocco",
                    "Mozambique",
                    "Namibia",
                    "Nepal",
                    "Netherlands",
                    "New Zealand",
                    "Nicaragua",
                    "Niger",
                    "Nigeria",
                    "North Macedonia",
                    "Norway",
                    "Oman",
                    "Pakistan",
                    "Panama",
                    "Papua New Guinea",
                    "Paraguay",
                    "Peru",
                    "Philippines",
                    "Poland",
                    "Portugal",
                    "Qatar",
                    "Romania",
                    "Russia",
                    "Rwanda",
                    "Saint Kitts and Nevis",
                    "Saint Lucia",
                    "Saint Vincent and the Grenadines",
                    "Samoa",
                    "San Marino",
                    "Sao Tome and Principe",
                    "Saudi Arabia",
                    "Senegal",
                    "Serbia",
                    "Seychelles",
                    "Sierra Leone",
                    "Singapore",
                    "Slovakia",
                    "Slovenia",
                    "Solomon Islands",
                    "Somalia",
                    "South Africa",
                    "South Sudan",
                    "Spain",
                    "Sri Lanka",
                    "Sudan",
                    "Suriname",
                    "Sweden",
                    "Switzerland",
                    "Syria",
                    "Taiwan*",
                    "Tajikistan",
                    "Tanzania",
                    "Thailand",
                    "Timor-Leste",
                    "Togo",
                    "Trinidad and Tobago",
                    "Tunisia",
                    "Turkey",
                    "US",
                    "Uganda",
                    "Ukraine",
                    "United Arab Emirates",
                    "United Kingdom",
                    "Uruguay",
                    "Uzbekistan",
                    "Vanuatu",
                    "Venezuela",
                    "Vietnam",
                    "West Bank and Gaza",
                    "Yemen",
                    "Zambia",
                    "Zimbabwe"
                  ],
                  "name": "",
                  "type": "choropleth",
                  "z": [
                    70111,
                    132297,
                    128456,
                    13693,
                    34180,
                    1259,
                    3732263,
                    222555,
                    30096,
                    644207,
                    333723,
                    11745,
                    235698,
                    797386,
                    4012,
                    392629,
                    1059763,
                    12791,
                    8058,
                    1603,
                    366714,
                    203839,
                    53771,
                    16471600,
                    241,
                    418221,
                    13430,
                    143526,
                    4715,
                    30273,
                    28825,
                    78929,
                    1384373,
                    7085,
                    4928,
                    1369597,
                    102960,
                    3363061,
                    3881,
                    11658,
                    31416,
                    314102,
                    47233,
                    355955,
                    140087,
                    72363,
                    1660935,
                    280183,
                    712,
                    11523,
                    188,
                    290526,
                    424741,
                    260659,
                    73246,
                    8529,
                    4061,
                    129424,
                    18589,
                    271200,
                    360,
                    92244,
                    5719877,
                    24365,
                    5990,
                    342880,
                    3684672,
                    93775,
                    400395,
                    161,
                    253837,
                    23172,
                    3761,
                    16822,
                    14128,
                    27,
                    236952,
                    804032,
                    6555,
                    27894800,
                    1809926,
                    2893218,
                    1193608,
                    254870,
                    839453,
                    4213055,
                    48374,
                    742539,
                    734659,
                    438715,
                    170485,
                    2,
                    139910,
                    106946,
                    306717,
                    104222,
                    1908,
                    132918,
                    540132,
                    10825,
                    2179,
                    184815,
                    3008,
                    273866,
                    69830,
                    9,
                    41234,
                    34329,
                    558534,
                    62906,
                    14265,
                    30529,
                    4,
                    19463,
                    1363,
                    2411503,
                    1,
                    255105,
                    2503,
                    56621,
                    99566,
                    518868,
                    70724,
                    54659,
                    553422,
                    1671967,
                    2672,
                    7324,
                    5410,
                    166285,
                    155246,
                    124655,
                    213784,
                    918936,
                    377428,
                    15772,
                    350613,
                    1947555,
                    1216582,
                    2871371,
                    848213,
                    217041,
                    1077426,
                    4995613,
                    26892,
                    68,
                    5035,
                    2027,
                    3,
                    5089,
                    2345,
                    448284,
                    41331,
                    712046,
                    11145,
                    4141,
                    62003,
                    389440,
                    253493,
                    20,
                    14653,
                    1659070,
                    10688,
                    3668658,
                    180593,
                    35289,
                    14515,
                    1068473,
                    693023,
                    24440,
                    7806,
                    13308,
                    509,
                    151842,
                    6752,
                    13432,
                    23001,
                    343374,
                    5235978,
                    33251939,
                    45931,
                    2257904,
                    567263,
                    4496823,
                    288172,
                    99844,
                    4,
                    231443,
                    6908,
                    307838,
                    6731,
                    94751,
                    38933
                  ]
                }
              ],
              "layout": {
                "coloraxis": {
                  "colorbar": {
                    "title": {
                      "text": "Number of confirmed cases"
                    }
                  },
                  "colorscale": [
                    [
                      0,
                      "#0d0887"
                    ],
                    [
                      0.1111111111111111,
                      "#46039f"
                    ],
                    [
                      0.2222222222222222,
                      "#7201a8"
                    ],
                    [
                      0.3333333333333333,
                      "#9c179e"
                    ],
                    [
                      0.4444444444444444,
                      "#bd3786"
                    ],
                    [
                      0.5555555555555556,
                      "#d8576b"
                    ],
                    [
                      0.6666666666666666,
                      "#ed7953"
                    ],
                    [
                      0.7777777777777778,
                      "#fb9f3a"
                    ],
                    [
                      0.8888888888888888,
                      "#fdca26"
                    ],
                    [
                      1,
                      "#f0f921"
                    ]
                  ]
                },
                "geo": {
                  "center": {},
                  "domain": {
                    "x": [
                      0,
                      1
                    ],
                    "y": [
                      0,
                      1
                    ]
                  }
                },
                "legend": {
                  "tracegroupgap": 0
                },
                "margin": {
                  "t": 60
                },
                "template": {
                  "data": {
                    "bar": [
                      {
                        "error_x": {
                          "color": "#2a3f5f"
                        },
                        "error_y": {
                          "color": "#2a3f5f"
                        },
                        "marker": {
                          "line": {
                            "color": "white",
                            "width": 0.5
                          }
                        },
                        "type": "bar"
                      }
                    ],
                    "barpolar": [
                      {
                        "marker": {
                          "line": {
                            "color": "white",
                            "width": 0.5
                          }
                        },
                        "type": "barpolar"
                      }
                    ],
                    "carpet": [
                      {
                        "aaxis": {
                          "endlinecolor": "#2a3f5f",
                          "gridcolor": "#C8D4E3",
                          "linecolor": "#C8D4E3",
                          "minorgridcolor": "#C8D4E3",
                          "startlinecolor": "#2a3f5f"
                        },
                        "baxis": {
                          "endlinecolor": "#2a3f5f",
                          "gridcolor": "#C8D4E3",
                          "linecolor": "#C8D4E3",
                          "minorgridcolor": "#C8D4E3",
                          "startlinecolor": "#2a3f5f"
                        },
                        "type": "carpet"
                      }
                    ],
                    "choropleth": [
                      {
                        "colorbar": {
                          "outlinewidth": 0,
                          "ticks": ""
                        },
                        "type": "choropleth"
                      }
                    ],
                    "contour": [
                      {
                        "colorbar": {
                          "outlinewidth": 0,
                          "ticks": ""
                        },
                        "colorscale": [
                          [
                            0,
                            "#0d0887"
                          ],
                          [
                            0.1111111111111111,
                            "#46039f"
                          ],
                          [
                            0.2222222222222222,
                            "#7201a8"
                          ],
                          [
                            0.3333333333333333,
                            "#9c179e"
                          ],
                          [
                            0.4444444444444444,
                            "#bd3786"
                          ],
                          [
                            0.5555555555555556,
                            "#d8576b"
                          ],
                          [
                            0.6666666666666666,
                            "#ed7953"
                          ],
                          [
                            0.7777777777777778,
                            "#fb9f3a"
                          ],
                          [
                            0.8888888888888888,
                            "#fdca26"
                          ],
                          [
                            1,
                            "#f0f921"
                          ]
                        ],
                        "type": "contour"
                      }
                    ],
                    "contourcarpet": [
                      {
                        "colorbar": {
                          "outlinewidth": 0,
                          "ticks": ""
                        },
                        "type": "contourcarpet"
                      }
                    ],
                    "heatmap": [
                      {
                        "colorbar": {
                          "outlinewidth": 0,
                          "ticks": ""
                        },
                        "colorscale": [
                          [
                            0,
                            "#0d0887"
                          ],
                          [
                            0.1111111111111111,
                            "#46039f"
                          ],
                          [
                            0.2222222222222222,
                            "#7201a8"
                          ],
                          [
                            0.3333333333333333,
                            "#9c179e"
                          ],
                          [
                            0.4444444444444444,
                            "#bd3786"
                          ],
                          [
                            0.5555555555555556,
                            "#d8576b"
                          ],
                          [
                            0.6666666666666666,
                            "#ed7953"
                          ],
                          [
                            0.7777777777777778,
                            "#fb9f3a"
                          ],
                          [
                            0.8888888888888888,
                            "#fdca26"
                          ],
                          [
                            1,
                            "#f0f921"
                          ]
                        ],
                        "type": "heatmap"
                      }
                    ],
                    "heatmapgl": [
                      {
                        "colorbar": {
                          "outlinewidth": 0,
                          "ticks": ""
                        },
                        "colorscale": [
                          [
                            0,
                            "#0d0887"
                          ],
                          [
                            0.1111111111111111,
                            "#46039f"
                          ],
                          [
                            0.2222222222222222,
                            "#7201a8"
                          ],
                          [
                            0.3333333333333333,
                            "#9c179e"
                          ],
                          [
                            0.4444444444444444,
                            "#bd3786"
                          ],
                          [
                            0.5555555555555556,
                            "#d8576b"
                          ],
                          [
                            0.6666666666666666,
                            "#ed7953"
                          ],
                          [
                            0.7777777777777778,
                            "#fb9f3a"
                          ],
                          [
                            0.8888888888888888,
                            "#fdca26"
                          ],
                          [
                            1,
                            "#f0f921"
                          ]
                        ],
                        "type": "heatmapgl"
                      }
                    ],
                    "histogram": [
                      {
                        "marker": {
                          "colorbar": {
                            "outlinewidth": 0,
                            "ticks": ""
                          }
                        },
                        "type": "histogram"
                      }
                    ],
                    "histogram2d": [
                      {
                        "colorbar": {
                          "outlinewidth": 0,
                          "ticks": ""
                        },
                        "colorscale": [
                          [
                            0,
                            "#0d0887"
                          ],
                          [
                            0.1111111111111111,
                            "#46039f"
                          ],
                          [
                            0.2222222222222222,
                            "#7201a8"
                          ],
                          [
                            0.3333333333333333,
                            "#9c179e"
                          ],
                          [
                            0.4444444444444444,
                            "#bd3786"
                          ],
                          [
                            0.5555555555555556,
                            "#d8576b"
                          ],
                          [
                            0.6666666666666666,
                            "#ed7953"
                          ],
                          [
                            0.7777777777777778,
                            "#fb9f3a"
                          ],
                          [
                            0.8888888888888888,
                            "#fdca26"
                          ],
                          [
                            1,
                            "#f0f921"
                          ]
                        ],
                        "type": "histogram2d"
                      }
                    ],
                    "histogram2dcontour": [
                      {
                        "colorbar": {
                          "outlinewidth": 0,
                          "ticks": ""
                        },
                        "colorscale": [
                          [
                            0,
                            "#0d0887"
                          ],
                          [
                            0.1111111111111111,
                            "#46039f"
                          ],
                          [
                            0.2222222222222222,
                            "#7201a8"
                          ],
                          [
                            0.3333333333333333,
                            "#9c179e"
                          ],
                          [
                            0.4444444444444444,
                            "#bd3786"
                          ],
                          [
                            0.5555555555555556,
                            "#d8576b"
                          ],
                          [
                            0.6666666666666666,
                            "#ed7953"
                          ],
                          [
                            0.7777777777777778,
                            "#fb9f3a"
                          ],
                          [
                            0.8888888888888888,
                            "#fdca26"
                          ],
                          [
                            1,
                            "#f0f921"
                          ]
                        ],
                        "type": "histogram2dcontour"
                      }
                    ],
                    "mesh3d": [
                      {
                        "colorbar": {
                          "outlinewidth": 0,
                          "ticks": ""
                        },
                        "type": "mesh3d"
                      }
                    ],
                    "parcoords": [
                      {
                        "line": {
                          "colorbar": {
                            "outlinewidth": 0,
                            "ticks": ""
                          }
                        },
                        "type": "parcoords"
                      }
                    ],
                    "pie": [
                      {
                        "automargin": true,
                        "type": "pie"
                      }
                    ],
                    "scatter": [
                      {
                        "marker": {
                          "colorbar": {
                            "outlinewidth": 0,
                            "ticks": ""
                          }
                        },
                        "type": "scatter"
                      }
                    ],
                    "scatter3d": [
                      {
                        "line": {
                          "colorbar": {
                            "outlinewidth": 0,
                            "ticks": ""
                          }
                        },
                        "marker": {
                          "colorbar": {
                            "outlinewidth": 0,
                            "ticks": ""
                          }
                        },
                        "type": "scatter3d"
                      }
                    ],
                    "scattercarpet": [
                      {
                        "marker": {
                          "colorbar": {
                            "outlinewidth": 0,
                            "ticks": ""
                          }
                        },
                        "type": "scattercarpet"
                      }
                    ],
                    "scattergeo": [
                      {
                        "marker": {
                          "colorbar": {
                            "outlinewidth": 0,
                            "ticks": ""
                          }
                        },
                        "type": "scattergeo"
                      }
                    ],
                    "scattergl": [
                      {
                        "marker": {
                          "colorbar": {
                            "outlinewidth": 0,
                            "ticks": ""
                          }
                        },
                        "type": "scattergl"
                      }
                    ],
                    "scattermapbox": [
                      {
                        "marker": {
                          "colorbar": {
                            "outlinewidth": 0,
                            "ticks": ""
                          }
                        },
                        "type": "scattermapbox"
                      }
                    ],
                    "scatterpolar": [
                      {
                        "marker": {
                          "colorbar": {
                            "outlinewidth": 0,
                            "ticks": ""
                          }
                        },
                        "type": "scatterpolar"
                      }
                    ],
                    "scatterpolargl": [
                      {
                        "marker": {
                          "colorbar": {
                            "outlinewidth": 0,
                            "ticks": ""
                          }
                        },
                        "type": "scatterpolargl"
                      }
                    ],
                    "scatterternary": [
                      {
                        "marker": {
                          "colorbar": {
                            "outlinewidth": 0,
                            "ticks": ""
                          }
                        },
                        "type": "scatterternary"
                      }
                    ],
                    "surface": [
                      {
                        "colorbar": {
                          "outlinewidth": 0,
                          "ticks": ""
                        },
                        "colorscale": [
                          [
                            0,
                            "#0d0887"
                          ],
                          [
                            0.1111111111111111,
                            "#46039f"
                          ],
                          [
                            0.2222222222222222,
                            "#7201a8"
                          ],
                          [
                            0.3333333333333333,
                            "#9c179e"
                          ],
                          [
                            0.4444444444444444,
                            "#bd3786"
                          ],
                          [
                            0.5555555555555556,
                            "#d8576b"
                          ],
                          [
                            0.6666666666666666,
                            "#ed7953"
                          ],
                          [
                            0.7777777777777778,
                            "#fb9f3a"
                          ],
                          [
                            0.8888888888888888,
                            "#fdca26"
                          ],
                          [
                            1,
                            "#f0f921"
                          ]
                        ],
                        "type": "surface"
                      }
                    ],
                    "table": [
                      {
                        "cells": {
                          "fill": {
                            "color": "#EBF0F8"
                          },
                          "line": {
                            "color": "white"
                          }
                        },
                        "header": {
                          "fill": {
                            "color": "#C8D4E3"
                          },
                          "line": {
                            "color": "white"
                          }
                        },
                        "type": "table"
                      }
                    ]
                  },
                  "layout": {
                    "annotationdefaults": {
                      "arrowcolor": "#2a3f5f",
                      "arrowhead": 0,
                      "arrowwidth": 1
                    },
                    "autotypenumbers": "strict",
                    "coloraxis": {
                      "colorbar": {
                        "outlinewidth": 0,
                        "ticks": ""
                      }
                    },
                    "colorscale": {
                      "diverging": [
                        [
                          0,
                          "#8e0152"
                        ],
                        [
                          0.1,
                          "#c51b7d"
                        ],
                        [
                          0.2,
                          "#de77ae"
                        ],
                        [
                          0.3,
                          "#f1b6da"
                        ],
                        [
                          0.4,
                          "#fde0ef"
                        ],
                        [
                          0.5,
                          "#f7f7f7"
                        ],
                        [
                          0.6,
                          "#e6f5d0"
                        ],
                        [
                          0.7,
                          "#b8e186"
                        ],
                        [
                          0.8,
                          "#7fbc41"
                        ],
                        [
                          0.9,
                          "#4d9221"
                        ],
                        [
                          1,
                          "#276419"
                        ]
                      ],
                      "sequential": [
                        [
                          0,
                          "#0d0887"
                        ],
                        [
                          0.1111111111111111,
                          "#46039f"
                        ],
                        [
                          0.2222222222222222,
                          "#7201a8"
                        ],
                        [
                          0.3333333333333333,
                          "#9c179e"
                        ],
                        [
                          0.4444444444444444,
                          "#bd3786"
                        ],
                        [
                          0.5555555555555556,
                          "#d8576b"
                        ],
                        [
                          0.6666666666666666,
                          "#ed7953"
                        ],
                        [
                          0.7777777777777778,
                          "#fb9f3a"
                        ],
                        [
                          0.8888888888888888,
                          "#fdca26"
                        ],
                        [
                          1,
                          "#f0f921"
                        ]
                      ],
                      "sequentialminus": [
                        [
                          0,
                          "#0d0887"
                        ],
                        [
                          0.1111111111111111,
                          "#46039f"
                        ],
                        [
                          0.2222222222222222,
                          "#7201a8"
                        ],
                        [
                          0.3333333333333333,
                          "#9c179e"
                        ],
                        [
                          0.4444444444444444,
                          "#bd3786"
                        ],
                        [
                          0.5555555555555556,
                          "#d8576b"
                        ],
                        [
                          0.6666666666666666,
                          "#ed7953"
                        ],
                        [
                          0.7777777777777778,
                          "#fb9f3a"
                        ],
                        [
                          0.8888888888888888,
                          "#fdca26"
                        ],
                        [
                          1,
                          "#f0f921"
                        ]
                      ]
                    },
                    "colorway": [
                      "#636efa",
                      "#EF553B",
                      "#00cc96",
                      "#ab63fa",
                      "#FFA15A",
                      "#19d3f3",
                      "#FF6692",
                      "#B6E880",
                      "#FF97FF",
                      "#FECB52"
                    ],
                    "font": {
                      "color": "#2a3f5f"
                    },
                    "geo": {
                      "bgcolor": "white",
                      "lakecolor": "white",
                      "landcolor": "white",
                      "showlakes": true,
                      "showland": true,
                      "subunitcolor": "#C8D4E3"
                    },
                    "hoverlabel": {
                      "align": "left"
                    },
                    "hovermode": "closest",
                    "mapbox": {
                      "style": "light"
                    },
                    "paper_bgcolor": "white",
                    "plot_bgcolor": "white",
                    "polar": {
                      "angularaxis": {
                        "gridcolor": "#EBF0F8",
                        "linecolor": "#EBF0F8",
                        "ticks": ""
                      },
                      "bgcolor": "white",
                      "radialaxis": {
                        "gridcolor": "#EBF0F8",
                        "linecolor": "#EBF0F8",
                        "ticks": ""
                      }
                    },
                    "scene": {
                      "xaxis": {
                        "backgroundcolor": "white",
                        "gridcolor": "#DFE8F3",
                        "gridwidth": 2,
                        "linecolor": "#EBF0F8",
                        "showbackground": true,
                        "ticks": "",
                        "zerolinecolor": "#EBF0F8"
                      },
                      "yaxis": {
                        "backgroundcolor": "white",
                        "gridcolor": "#DFE8F3",
                        "gridwidth": 2,
                        "linecolor": "#EBF0F8",
                        "showbackground": true,
                        "ticks": "",
                        "zerolinecolor": "#EBF0F8"
                      },
                      "zaxis": {
                        "backgroundcolor": "white",
                        "gridcolor": "#DFE8F3",
                        "gridwidth": 2,
                        "linecolor": "#EBF0F8",
                        "showbackground": true,
                        "ticks": "",
                        "zerolinecolor": "#EBF0F8"
                      }
                    },
                    "shapedefaults": {
                      "line": {
                        "color": "#2a3f5f"
                      }
                    },
                    "ternary": {
                      "aaxis": {
                        "gridcolor": "#DFE8F3",
                        "linecolor": "#A2B1C6",
                        "ticks": ""
                      },
                      "baxis": {
                        "gridcolor": "#DFE8F3",
                        "linecolor": "#A2B1C6",
                        "ticks": ""
                      },
                      "bgcolor": "white",
                      "caxis": {
                        "gridcolor": "#DFE8F3",
                        "linecolor": "#A2B1C6",
                        "ticks": ""
                      }
                    },
                    "title": {
                      "x": 0.05
                    },
                    "xaxis": {
                      "automargin": true,
                      "gridcolor": "#EBF0F8",
                      "linecolor": "#EBF0F8",
                      "ticks": "",
                      "title": {
                        "standoff": 15
                      },
                      "zerolinecolor": "#EBF0F8",
                      "zerolinewidth": 2
                    },
                    "yaxis": {
                      "automargin": true,
                      "gridcolor": "#EBF0F8",
                      "linecolor": "#EBF0F8",
                      "ticks": "",
                      "title": {
                        "standoff": 15
                      },
                      "zerolinecolor": "#EBF0F8",
                      "zerolinewidth": 2
                    }
                  }
                },
                "title": {
                  "text": "Last Update Data Visual covid 19 Global"
                }
              }
            },
            "text/html": "<div>                            <div id=\"332c7446-f082-4768-84f9-faa3f9c0e4b0\" class=\"plotly-graph-div\" style=\"height:525px; width:100%;\"></div>            <script type=\"text/javascript\">                require([\"plotly\"], function(Plotly) {                    window.PLOTLYENV=window.PLOTLYENV || {};                                    if (document.getElementById(\"332c7446-f082-4768-84f9-faa3f9c0e4b0\")) {                    Plotly.newPlot(                        \"332c7446-f082-4768-84f9-faa3f9c0e4b0\",                        [{\"coloraxis\": \"coloraxis\", \"geo\": \"geo\", \"hovertemplate\": \"<b>%{hovertext}</b><br><br>Country/Region=%{location}<br>Confirmed=%{z}<extra></extra>\", \"hovertext\": [\"Afghanistan\", \"Albania\", \"Algeria\", \"Andorra\", \"Angola\", \"Antigua and Barbuda\", \"Argentina\", \"Armenia\", \"Australia\", \"Austria\", \"Azerbaijan\", \"Bahamas\", \"Bahrain\", \"Bangladesh\", \"Barbados\", \"Belarus\", \"Belgium\", \"Belize\", \"Benin\", \"Bhutan\", \"Bolivia\", \"Bosnia and Herzegovina\", \"Botswana\", \"Brazil\", \"Brunei\", \"Bulgaria\", \"Burkina Faso\", \"Burma\", \"Burundi\", \"Cabo Verde\", \"Cambodia\", \"Cameroon\", \"Canada\", \"Central African Republic\", \"Chad\", \"Chile\", \"China\", \"Colombia\", \"Comoros\", \"Congo (Brazzaville)\", \"Congo (Kinshasa)\", \"Costa Rica\", \"Cote d'Ivoire\", \"Croatia\", \"Cuba\", \"Cyprus\", \"Czechia\", \"Denmark\", \"Diamond Princess\", \"Djibouti\", \"Dominica\", \"Dominican Republic\", \"Ecuador\", \"Egypt\", \"El Salvador\", \"Equatorial Guinea\", \"Eritrea\", \"Estonia\", \"Eswatini\", \"Ethiopia\", \"Fiji\", \"Finland\", \"France\", \"Gabon\", \"Gambia\", \"Georgia\", \"Germany\", \"Ghana\", \"Greece\", \"Grenada\", \"Guatemala\", \"Guinea\", \"Guinea-Bissau\", \"Guyana\", \"Haiti\", \"Holy See\", \"Honduras\", \"Hungary\", \"Iceland\", \"India\", \"Indonesia\", \"Iran\", \"Iraq\", \"Ireland\", \"Israel\", \"Italy\", \"Jamaica\", \"Japan\", \"Jordan\", \"Kazakhstan\", \"Kenya\", \"Kiribati\", \"Korea, South\", \"Kosovo\", \"Kuwait\", \"Kyrgyzstan\", \"Laos\", \"Latvia\", \"Lebanon\", \"Lesotho\", \"Liberia\", \"Libya\", \"Liechtenstein\", \"Lithuania\", \"Luxembourg\", \"MS Zaandam\", \"Madagascar\", \"Malawi\", \"Malaysia\", \"Maldives\", \"Mali\", \"Malta\", \"Marshall Islands\", \"Mauritania\", \"Mauritius\", \"Mexico\", \"Micronesia\", \"Moldova\", \"Monaco\", \"Mongolia\", \"Montenegro\", \"Morocco\", \"Mozambique\", \"Namibia\", \"Nepal\", \"Netherlands\", \"New Zealand\", \"Nicaragua\", \"Niger\", \"Nigeria\", \"North Macedonia\", \"Norway\", \"Oman\", \"Pakistan\", \"Panama\", \"Papua New Guinea\", \"Paraguay\", \"Peru\", \"Philippines\", \"Poland\", \"Portugal\", \"Qatar\", \"Romania\", \"Russia\", \"Rwanda\", \"Saint Kitts and Nevis\", \"Saint Lucia\", \"Saint Vincent and the Grenadines\", \"Samoa\", \"San Marino\", \"Sao Tome and Principe\", \"Saudi Arabia\", \"Senegal\", \"Serbia\", \"Seychelles\", \"Sierra Leone\", \"Singapore\", \"Slovakia\", \"Slovenia\", \"Solomon Islands\", \"Somalia\", \"South Africa\", \"South Sudan\", \"Spain\", \"Sri Lanka\", \"Sudan\", \"Suriname\", \"Sweden\", \"Switzerland\", \"Syria\", \"Taiwan*\", \"Tajikistan\", \"Tanzania\", \"Thailand\", \"Timor-Leste\", \"Togo\", \"Trinidad and Tobago\", \"Tunisia\", \"Turkey\", \"US\", \"Uganda\", \"Ukraine\", \"United Arab Emirates\", \"United Kingdom\", \"Uruguay\", \"Uzbekistan\", \"Vanuatu\", \"Venezuela\", \"Vietnam\", \"West Bank and Gaza\", \"Yemen\", \"Zambia\", \"Zimbabwe\"], \"locationmode\": \"country names\", \"locations\": [\"Afghanistan\", \"Albania\", \"Algeria\", \"Andorra\", \"Angola\", \"Antigua and Barbuda\", \"Argentina\", \"Armenia\", \"Australia\", \"Austria\", \"Azerbaijan\", \"Bahamas\", \"Bahrain\", \"Bangladesh\", \"Barbados\", \"Belarus\", \"Belgium\", \"Belize\", \"Benin\", \"Bhutan\", \"Bolivia\", \"Bosnia and Herzegovina\", \"Botswana\", \"Brazil\", \"Brunei\", \"Bulgaria\", \"Burkina Faso\", \"Burma\", \"Burundi\", \"Cabo Verde\", \"Cambodia\", \"Cameroon\", \"Canada\", \"Central African Republic\", \"Chad\", \"Chile\", \"China\", \"Colombia\", \"Comoros\", \"Congo (Brazzaville)\", \"Congo (Kinshasa)\", \"Costa Rica\", \"Cote d'Ivoire\", \"Croatia\", \"Cuba\", \"Cyprus\", \"Czechia\", \"Denmark\", \"Diamond Princess\", \"Djibouti\", \"Dominica\", \"Dominican Republic\", \"Ecuador\", \"Egypt\", \"El Salvador\", \"Equatorial Guinea\", \"Eritrea\", \"Estonia\", \"Eswatini\", \"Ethiopia\", \"Fiji\", \"Finland\", \"France\", \"Gabon\", \"Gambia\", \"Georgia\", \"Germany\", \"Ghana\", \"Greece\", \"Grenada\", \"Guatemala\", \"Guinea\", \"Guinea-Bissau\", \"Guyana\", \"Haiti\", \"Holy See\", \"Honduras\", \"Hungary\", \"Iceland\", \"India\", \"Indonesia\", \"Iran\", \"Iraq\", \"Ireland\", \"Israel\", \"Italy\", \"Jamaica\", \"Japan\", \"Jordan\", \"Kazakhstan\", \"Kenya\", \"Kiribati\", \"Korea, South\", \"Kosovo\", \"Kuwait\", \"Kyrgyzstan\", \"Laos\", \"Latvia\", \"Lebanon\", \"Lesotho\", \"Liberia\", \"Libya\", \"Liechtenstein\", \"Lithuania\", \"Luxembourg\", \"MS Zaandam\", \"Madagascar\", \"Malawi\", \"Malaysia\", \"Maldives\", \"Mali\", \"Malta\", \"Marshall Islands\", \"Mauritania\", \"Mauritius\", \"Mexico\", \"Micronesia\", \"Moldova\", \"Monaco\", \"Mongolia\", \"Montenegro\", \"Morocco\", \"Mozambique\", \"Namibia\", \"Nepal\", \"Netherlands\", \"New Zealand\", \"Nicaragua\", \"Niger\", \"Nigeria\", \"North Macedonia\", \"Norway\", \"Oman\", \"Pakistan\", \"Panama\", \"Papua New Guinea\", \"Paraguay\", \"Peru\", \"Philippines\", \"Poland\", \"Portugal\", \"Qatar\", \"Romania\", \"Russia\", \"Rwanda\", \"Saint Kitts and Nevis\", \"Saint Lucia\", \"Saint Vincent and the Grenadines\", \"Samoa\", \"San Marino\", \"Sao Tome and Principe\", \"Saudi Arabia\", \"Senegal\", \"Serbia\", \"Seychelles\", \"Sierra Leone\", \"Singapore\", \"Slovakia\", \"Slovenia\", \"Solomon Islands\", \"Somalia\", \"South Africa\", \"South Sudan\", \"Spain\", \"Sri Lanka\", \"Sudan\", \"Suriname\", \"Sweden\", \"Switzerland\", \"Syria\", \"Taiwan*\", \"Tajikistan\", \"Tanzania\", \"Thailand\", \"Timor-Leste\", \"Togo\", \"Trinidad and Tobago\", \"Tunisia\", \"Turkey\", \"US\", \"Uganda\", \"Ukraine\", \"United Arab Emirates\", \"United Kingdom\", \"Uruguay\", \"Uzbekistan\", \"Vanuatu\", \"Venezuela\", \"Vietnam\", \"West Bank and Gaza\", \"Yemen\", \"Zambia\", \"Zimbabwe\"], \"name\": \"\", \"type\": \"choropleth\", \"z\": [70111, 132297, 128456, 13693, 34180, 1259, 3732263, 222555, 30096, 644207, 333723, 11745, 235698, 797386, 4012, 392629, 1059763, 12791, 8058, 1603, 366714, 203839, 53771, 16471600, 241, 418221, 13430, 143526, 4715, 30273, 28825, 78929, 1384373, 7085, 4928, 1369597, 102960, 3363061, 3881, 11658, 31416, 314102, 47233, 355955, 140087, 72363, 1660935, 280183, 712, 11523, 188, 290526, 424741, 260659, 73246, 8529, 4061, 129424, 18589, 271200, 360, 92244, 5719877, 24365, 5990, 342880, 3684672, 93775, 400395, 161, 253837, 23172, 3761, 16822, 14128, 27, 236952, 804032, 6555, 27894800, 1809926, 2893218, 1193608, 254870, 839453, 4213055, 48374, 742539, 734659, 438715, 170485, 2, 139910, 106946, 306717, 104222, 1908, 132918, 540132, 10825, 2179, 184815, 3008, 273866, 69830, 9, 41234, 34329, 558534, 62906, 14265, 30529, 4, 19463, 1363, 2411503, 1, 255105, 2503, 56621, 99566, 518868, 70724, 54659, 553422, 1671967, 2672, 7324, 5410, 166285, 155246, 124655, 213784, 918936, 377428, 15772, 350613, 1947555, 1216582, 2871371, 848213, 217041, 1077426, 4995613, 26892, 68, 5035, 2027, 3, 5089, 2345, 448284, 41331, 712046, 11145, 4141, 62003, 389440, 253493, 20, 14653, 1659070, 10688, 3668658, 180593, 35289, 14515, 1068473, 693023, 24440, 7806, 13308, 509, 151842, 6752, 13432, 23001, 343374, 5235978, 33251939, 45931, 2257904, 567263, 4496823, 288172, 99844, 4, 231443, 6908, 307838, 6731, 94751, 38933]}],                        {\"coloraxis\": {\"colorbar\": {\"title\": {\"text\": \"Number of confirmed cases\"}}, \"colorscale\": [[0.0, \"#0d0887\"], [0.1111111111111111, \"#46039f\"], [0.2222222222222222, \"#7201a8\"], [0.3333333333333333, \"#9c179e\"], [0.4444444444444444, \"#bd3786\"], [0.5555555555555556, \"#d8576b\"], [0.6666666666666666, \"#ed7953\"], [0.7777777777777778, \"#fb9f3a\"], [0.8888888888888888, \"#fdca26\"], [1.0, \"#f0f921\"]]}, \"geo\": {\"center\": {}, \"domain\": {\"x\": [0.0, 1.0], \"y\": [0.0, 1.0]}}, \"legend\": {\"tracegroupgap\": 0}, \"margin\": {\"t\": 60}, \"template\": {\"data\": {\"bar\": [{\"error_x\": {\"color\": \"#2a3f5f\"}, \"error_y\": {\"color\": \"#2a3f5f\"}, \"marker\": {\"line\": {\"color\": \"white\", \"width\": 0.5}}, \"type\": \"bar\"}], \"barpolar\": [{\"marker\": {\"line\": {\"color\": \"white\", \"width\": 0.5}}, \"type\": \"barpolar\"}], \"carpet\": [{\"aaxis\": {\"endlinecolor\": \"#2a3f5f\", \"gridcolor\": \"#C8D4E3\", \"linecolor\": \"#C8D4E3\", \"minorgridcolor\": \"#C8D4E3\", \"startlinecolor\": \"#2a3f5f\"}, \"baxis\": {\"endlinecolor\": \"#2a3f5f\", \"gridcolor\": \"#C8D4E3\", \"linecolor\": \"#C8D4E3\", \"minorgridcolor\": \"#C8D4E3\", \"startlinecolor\": \"#2a3f5f\"}, \"type\": \"carpet\"}], \"choropleth\": [{\"colorbar\": {\"outlinewidth\": 0, \"ticks\": \"\"}, \"type\": \"choropleth\"}], \"contour\": [{\"colorbar\": {\"outlinewidth\": 0, \"ticks\": \"\"}, \"colorscale\": [[0.0, \"#0d0887\"], [0.1111111111111111, \"#46039f\"], [0.2222222222222222, \"#7201a8\"], [0.3333333333333333, \"#9c179e\"], [0.4444444444444444, \"#bd3786\"], [0.5555555555555556, \"#d8576b\"], [0.6666666666666666, \"#ed7953\"], [0.7777777777777778, \"#fb9f3a\"], [0.8888888888888888, \"#fdca26\"], [1.0, \"#f0f921\"]], \"type\": \"contour\"}], \"contourcarpet\": [{\"colorbar\": {\"outlinewidth\": 0, \"ticks\": \"\"}, \"type\": \"contourcarpet\"}], \"heatmap\": [{\"colorbar\": {\"outlinewidth\": 0, \"ticks\": \"\"}, \"colorscale\": [[0.0, \"#0d0887\"], [0.1111111111111111, \"#46039f\"], [0.2222222222222222, \"#7201a8\"], [0.3333333333333333, \"#9c179e\"], [0.4444444444444444, \"#bd3786\"], [0.5555555555555556, \"#d8576b\"], [0.6666666666666666, \"#ed7953\"], [0.7777777777777778, \"#fb9f3a\"], [0.8888888888888888, \"#fdca26\"], [1.0, \"#f0f921\"]], \"type\": \"heatmap\"}], \"heatmapgl\": [{\"colorbar\": {\"outlinewidth\": 0, \"ticks\": \"\"}, \"colorscale\": [[0.0, \"#0d0887\"], [0.1111111111111111, \"#46039f\"], [0.2222222222222222, \"#7201a8\"], [0.3333333333333333, \"#9c179e\"], [0.4444444444444444, \"#bd3786\"], [0.5555555555555556, \"#d8576b\"], [0.6666666666666666, \"#ed7953\"], [0.7777777777777778, \"#fb9f3a\"], [0.8888888888888888, \"#fdca26\"], [1.0, \"#f0f921\"]], \"type\": \"heatmapgl\"}], \"histogram\": [{\"marker\": {\"colorbar\": {\"outlinewidth\": 0, \"ticks\": \"\"}}, \"type\": \"histogram\"}], \"histogram2d\": [{\"colorbar\": {\"outlinewidth\": 0, \"ticks\": \"\"}, \"colorscale\": [[0.0, \"#0d0887\"], [0.1111111111111111, \"#46039f\"], [0.2222222222222222, \"#7201a8\"], [0.3333333333333333, \"#9c179e\"], [0.4444444444444444, \"#bd3786\"], [0.5555555555555556, \"#d8576b\"], [0.6666666666666666, \"#ed7953\"], [0.7777777777777778, \"#fb9f3a\"], [0.8888888888888888, \"#fdca26\"], [1.0, \"#f0f921\"]], \"type\": \"histogram2d\"}], \"histogram2dcontour\": [{\"colorbar\": {\"outlinewidth\": 0, \"ticks\": \"\"}, \"colorscale\": [[0.0, \"#0d0887\"], [0.1111111111111111, \"#46039f\"], [0.2222222222222222, \"#7201a8\"], [0.3333333333333333, \"#9c179e\"], [0.4444444444444444, \"#bd3786\"], [0.5555555555555556, \"#d8576b\"], [0.6666666666666666, \"#ed7953\"], [0.7777777777777778, \"#fb9f3a\"], [0.8888888888888888, \"#fdca26\"], [1.0, \"#f0f921\"]], \"type\": \"histogram2dcontour\"}], \"mesh3d\": [{\"colorbar\": {\"outlinewidth\": 0, \"ticks\": \"\"}, \"type\": \"mesh3d\"}], \"parcoords\": [{\"line\": {\"colorbar\": {\"outlinewidth\": 0, \"ticks\": \"\"}}, \"type\": \"parcoords\"}], \"pie\": [{\"automargin\": true, \"type\": \"pie\"}], \"scatter\": [{\"marker\": {\"colorbar\": {\"outlinewidth\": 0, \"ticks\": \"\"}}, \"type\": \"scatter\"}], \"scatter3d\": [{\"line\": {\"colorbar\": {\"outlinewidth\": 0, \"ticks\": \"\"}}, \"marker\": {\"colorbar\": {\"outlinewidth\": 0, \"ticks\": \"\"}}, \"type\": \"scatter3d\"}], \"scattercarpet\": [{\"marker\": {\"colorbar\": {\"outlinewidth\": 0, \"ticks\": \"\"}}, \"type\": \"scattercarpet\"}], \"scattergeo\": [{\"marker\": {\"colorbar\": {\"outlinewidth\": 0, \"ticks\": \"\"}}, \"type\": \"scattergeo\"}], \"scattergl\": [{\"marker\": {\"colorbar\": {\"outlinewidth\": 0, \"ticks\": \"\"}}, \"type\": \"scattergl\"}], \"scattermapbox\": [{\"marker\": {\"colorbar\": {\"outlinewidth\": 0, \"ticks\": \"\"}}, \"type\": \"scattermapbox\"}], \"scatterpolar\": [{\"marker\": {\"colorbar\": {\"outlinewidth\": 0, \"ticks\": \"\"}}, \"type\": \"scatterpolar\"}], \"scatterpolargl\": [{\"marker\": {\"colorbar\": {\"outlinewidth\": 0, \"ticks\": \"\"}}, \"type\": \"scatterpolargl\"}], \"scatterternary\": [{\"marker\": {\"colorbar\": {\"outlinewidth\": 0, \"ticks\": \"\"}}, \"type\": \"scatterternary\"}], \"surface\": [{\"colorbar\": {\"outlinewidth\": 0, \"ticks\": \"\"}, \"colorscale\": [[0.0, \"#0d0887\"], [0.1111111111111111, \"#46039f\"], [0.2222222222222222, \"#7201a8\"], [0.3333333333333333, \"#9c179e\"], [0.4444444444444444, \"#bd3786\"], [0.5555555555555556, \"#d8576b\"], [0.6666666666666666, \"#ed7953\"], [0.7777777777777778, \"#fb9f3a\"], [0.8888888888888888, \"#fdca26\"], [1.0, \"#f0f921\"]], \"type\": \"surface\"}], \"table\": [{\"cells\": {\"fill\": {\"color\": \"#EBF0F8\"}, \"line\": {\"color\": \"white\"}}, \"header\": {\"fill\": {\"color\": \"#C8D4E3\"}, \"line\": {\"color\": \"white\"}}, \"type\": \"table\"}]}, \"layout\": {\"annotationdefaults\": {\"arrowcolor\": \"#2a3f5f\", \"arrowhead\": 0, \"arrowwidth\": 1}, \"autotypenumbers\": \"strict\", \"coloraxis\": {\"colorbar\": {\"outlinewidth\": 0, \"ticks\": \"\"}}, \"colorscale\": {\"diverging\": [[0, \"#8e0152\"], [0.1, \"#c51b7d\"], [0.2, \"#de77ae\"], [0.3, \"#f1b6da\"], [0.4, \"#fde0ef\"], [0.5, \"#f7f7f7\"], [0.6, \"#e6f5d0\"], [0.7, \"#b8e186\"], [0.8, \"#7fbc41\"], [0.9, \"#4d9221\"], [1, \"#276419\"]], \"sequential\": [[0.0, \"#0d0887\"], [0.1111111111111111, \"#46039f\"], [0.2222222222222222, \"#7201a8\"], [0.3333333333333333, \"#9c179e\"], [0.4444444444444444, \"#bd3786\"], [0.5555555555555556, \"#d8576b\"], [0.6666666666666666, \"#ed7953\"], [0.7777777777777778, \"#fb9f3a\"], [0.8888888888888888, \"#fdca26\"], [1.0, \"#f0f921\"]], \"sequentialminus\": [[0.0, \"#0d0887\"], [0.1111111111111111, \"#46039f\"], [0.2222222222222222, \"#7201a8\"], [0.3333333333333333, \"#9c179e\"], [0.4444444444444444, \"#bd3786\"], [0.5555555555555556, \"#d8576b\"], [0.6666666666666666, \"#ed7953\"], [0.7777777777777778, \"#fb9f3a\"], [0.8888888888888888, \"#fdca26\"], [1.0, \"#f0f921\"]]}, \"colorway\": [\"#636efa\", \"#EF553B\", \"#00cc96\", \"#ab63fa\", \"#FFA15A\", \"#19d3f3\", \"#FF6692\", \"#B6E880\", \"#FF97FF\", \"#FECB52\"], \"font\": {\"color\": \"#2a3f5f\"}, \"geo\": {\"bgcolor\": \"white\", \"lakecolor\": \"white\", \"landcolor\": \"white\", \"showlakes\": true, \"showland\": true, \"subunitcolor\": \"#C8D4E3\"}, \"hoverlabel\": {\"align\": \"left\"}, \"hovermode\": \"closest\", \"mapbox\": {\"style\": \"light\"}, \"paper_bgcolor\": \"white\", \"plot_bgcolor\": \"white\", \"polar\": {\"angularaxis\": {\"gridcolor\": \"#EBF0F8\", \"linecolor\": \"#EBF0F8\", \"ticks\": \"\"}, \"bgcolor\": \"white\", \"radialaxis\": {\"gridcolor\": \"#EBF0F8\", \"linecolor\": \"#EBF0F8\", \"ticks\": \"\"}}, \"scene\": {\"xaxis\": {\"backgroundcolor\": \"white\", \"gridcolor\": \"#DFE8F3\", \"gridwidth\": 2, \"linecolor\": \"#EBF0F8\", \"showbackground\": true, \"ticks\": \"\", \"zerolinecolor\": \"#EBF0F8\"}, \"yaxis\": {\"backgroundcolor\": \"white\", \"gridcolor\": \"#DFE8F3\", \"gridwidth\": 2, \"linecolor\": \"#EBF0F8\", \"showbackground\": true, \"ticks\": \"\", \"zerolinecolor\": \"#EBF0F8\"}, \"zaxis\": {\"backgroundcolor\": \"white\", \"gridcolor\": \"#DFE8F3\", \"gridwidth\": 2, \"linecolor\": \"#EBF0F8\", \"showbackground\": true, \"ticks\": \"\", \"zerolinecolor\": \"#EBF0F8\"}}, \"shapedefaults\": {\"line\": {\"color\": \"#2a3f5f\"}}, \"ternary\": {\"aaxis\": {\"gridcolor\": \"#DFE8F3\", \"linecolor\": \"#A2B1C6\", \"ticks\": \"\"}, \"baxis\": {\"gridcolor\": \"#DFE8F3\", \"linecolor\": \"#A2B1C6\", \"ticks\": \"\"}, \"bgcolor\": \"white\", \"caxis\": {\"gridcolor\": \"#DFE8F3\", \"linecolor\": \"#A2B1C6\", \"ticks\": \"\"}}, \"title\": {\"x\": 0.05}, \"xaxis\": {\"automargin\": true, \"gridcolor\": \"#EBF0F8\", \"linecolor\": \"#EBF0F8\", \"ticks\": \"\", \"title\": {\"standoff\": 15}, \"zerolinecolor\": \"#EBF0F8\", \"zerolinewidth\": 2}, \"yaxis\": {\"automargin\": true, \"gridcolor\": \"#EBF0F8\", \"linecolor\": \"#EBF0F8\", \"ticks\": \"\", \"title\": {\"standoff\": 15}, \"zerolinecolor\": \"#EBF0F8\", \"zerolinewidth\": 2}}}, \"title\": {\"text\": \"Last Update Data Visual covid 19 Global\"}},                        {\"responsive\": true}                    ).then(function(){\n                            \nvar gd = document.getElementById('332c7446-f082-4768-84f9-faa3f9c0e4b0');\nvar x = new MutationObserver(function (mutations, observer) {{\n        var display = window.getComputedStyle(gd).display;\n        if (!display || display === 'none') {{\n            console.log([gd, 'removed!']);\n            Plotly.purge(gd);\n            observer.disconnect();\n        }}\n}});\n\n// Listen for the removal of the full notebook cells\nvar notebookContainer = gd.closest('#notebook-container');\nif (notebookContainer) {{\n    x.observe(notebookContainer, {childList: true});\n}}\n\n// Listen for the clearing of the current output cell\nvar outputEl = gd.closest('.output');\nif (outputEl) {{\n    x.observe(outputEl, {childList: true});\n}}\n\n                        })                };                });            </script>        </div>"
          },
          "metadata": {}
        }
      ]
    }
  ]
}